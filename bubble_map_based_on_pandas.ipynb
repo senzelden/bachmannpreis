{
 "cells": [
  {
   "cell_type": "code",
   "execution_count": 1,
   "metadata": {},
   "outputs": [],
   "source": [
    "import pandas as pd"
   ]
  },
  {
   "cell_type": "code",
   "execution_count": 2,
   "metadata": {},
   "outputs": [],
   "source": [
    "texts = pd.read_csv('texts_updated.csv')\n",
    "authors_cities = pd.read_csv('cities_updated.csv')\n",
    "cities_geodata = pd.read_csv('cities_geodata.csv')\n",
    "authors_countries = pd.read_csv('countries_updated.csv')\n",
    "countries_geodata = pd.read_csv('countries_geodata.csv')"
   ]
  },
  {
   "cell_type": "code",
   "execution_count": 10,
   "metadata": {},
   "outputs": [
    {
     "data": {
      "text/html": [
       "<div>\n",
       "<style scoped>\n",
       "    .dataframe tbody tr th:only-of-type {\n",
       "        vertical-align: middle;\n",
       "    }\n",
       "\n",
       "    .dataframe tbody tr th {\n",
       "        vertical-align: top;\n",
       "    }\n",
       "\n",
       "    .dataframe thead th {\n",
       "        text-align: right;\n",
       "    }\n",
       "</style>\n",
       "<table border=\"1\" class=\"dataframe\">\n",
       "  <thead>\n",
       "    <tr style=\"text-align: right;\">\n",
       "      <th></th>\n",
       "      <th>city_id</th>\n",
       "      <th>city_name</th>\n",
       "      <th>lat</th>\n",
       "      <th>lon</th>\n",
       "      <th>distance_to_klagenfurt</th>\n",
       "    </tr>\n",
       "  </thead>\n",
       "  <tbody>\n",
       "    <tr>\n",
       "      <th>0</th>\n",
       "      <td>0</td>\n",
       "      <td>Aachen</td>\n",
       "      <td>50.776351</td>\n",
       "      <td>6.083862</td>\n",
       "      <td>760.0</td>\n",
       "    </tr>\n",
       "    <tr>\n",
       "      <th>1</th>\n",
       "      <td>1</td>\n",
       "      <td>Aarau</td>\n",
       "      <td>47.392715</td>\n",
       "      <td>8.044445</td>\n",
       "      <td>483.0</td>\n",
       "    </tr>\n",
       "    <tr>\n",
       "      <th>2</th>\n",
       "      <td>2</td>\n",
       "      <td>Adnet</td>\n",
       "      <td>47.696357</td>\n",
       "      <td>13.130757</td>\n",
       "      <td>149.0</td>\n",
       "    </tr>\n",
       "    <tr>\n",
       "      <th>3</th>\n",
       "      <td>3</td>\n",
       "      <td>Adnet bei Salzburg</td>\n",
       "      <td>47.696357</td>\n",
       "      <td>13.130757</td>\n",
       "      <td>149.0</td>\n",
       "    </tr>\n",
       "    <tr>\n",
       "      <th>4</th>\n",
       "      <td>4</td>\n",
       "      <td>Alblingen</td>\n",
       "      <td>NaN</td>\n",
       "      <td>NaN</td>\n",
       "      <td>NaN</td>\n",
       "    </tr>\n",
       "    <tr>\n",
       "      <th>...</th>\n",
       "      <td>...</td>\n",
       "      <td>...</td>\n",
       "      <td>...</td>\n",
       "      <td>...</td>\n",
       "      <td>...</td>\n",
       "    </tr>\n",
       "    <tr>\n",
       "      <th>248</th>\n",
       "      <td>248</td>\n",
       "      <td>Zürich</td>\n",
       "      <td>47.372394</td>\n",
       "      <td>8.542333</td>\n",
       "      <td>446.0</td>\n",
       "    </tr>\n",
       "    <tr>\n",
       "      <th>249</th>\n",
       "      <td>249</td>\n",
       "      <td>am Dachstein</td>\n",
       "      <td>48.560886</td>\n",
       "      <td>7.531900</td>\n",
       "      <td>553.0</td>\n",
       "    </tr>\n",
       "    <tr>\n",
       "      <th>250</th>\n",
       "      <td>250</td>\n",
       "      <td>in Deutschland</td>\n",
       "      <td>51.254489</td>\n",
       "      <td>7.148873</td>\n",
       "      <td>734.0</td>\n",
       "    </tr>\n",
       "    <tr>\n",
       "      <th>251</th>\n",
       "      <td>251</td>\n",
       "      <td>südliches Waldviertel</td>\n",
       "      <td>48.317202</td>\n",
       "      <td>15.203420</td>\n",
       "      <td>200.0</td>\n",
       "    </tr>\n",
       "    <tr>\n",
       "      <th>252</th>\n",
       "      <td>252</td>\n",
       "      <td>Übach-Palenberg</td>\n",
       "      <td>50.921380</td>\n",
       "      <td>6.112870</td>\n",
       "      <td>768.0</td>\n",
       "    </tr>\n",
       "  </tbody>\n",
       "</table>\n",
       "<p>253 rows × 5 columns</p>\n",
       "</div>"
      ],
      "text/plain": [
       "     city_id              city_name        lat        lon  \\\n",
       "0          0                 Aachen  50.776351   6.083862   \n",
       "1          1                  Aarau  47.392715   8.044445   \n",
       "2          2                  Adnet  47.696357  13.130757   \n",
       "3          3     Adnet bei Salzburg  47.696357  13.130757   \n",
       "4          4              Alblingen        NaN        NaN   \n",
       "..       ...                    ...        ...        ...   \n",
       "248      248                 Zürich  47.372394   8.542333   \n",
       "249      249           am Dachstein  48.560886   7.531900   \n",
       "250      250         in Deutschland  51.254489   7.148873   \n",
       "251      251  südliches Waldviertel  48.317202  15.203420   \n",
       "252      252        Übach-Palenberg  50.921380   6.112870   \n",
       "\n",
       "     distance_to_klagenfurt  \n",
       "0                     760.0  \n",
       "1                     483.0  \n",
       "2                     149.0  \n",
       "3                     149.0  \n",
       "4                       NaN  \n",
       "..                      ...  \n",
       "248                   446.0  \n",
       "249                   553.0  \n",
       "250                   734.0  \n",
       "251                   200.0  \n",
       "252                   768.0  \n",
       "\n",
       "[253 rows x 5 columns]"
      ]
     },
     "execution_count": 10,
     "metadata": {},
     "output_type": "execute_result"
    }
   ],
   "source": [
    "cities_geodata"
   ]
  },
  {
   "cell_type": "code",
   "execution_count": 13,
   "metadata": {},
   "outputs": [
    {
     "data": {
      "text/html": [
       "<div>\n",
       "<style scoped>\n",
       "    .dataframe tbody tr th:only-of-type {\n",
       "        vertical-align: middle;\n",
       "    }\n",
       "\n",
       "    .dataframe tbody tr th {\n",
       "        vertical-align: top;\n",
       "    }\n",
       "\n",
       "    .dataframe thead th {\n",
       "        text-align: right;\n",
       "    }\n",
       "</style>\n",
       "<table border=\"1\" class=\"dataframe\">\n",
       "  <thead>\n",
       "    <tr style=\"text-align: right;\">\n",
       "      <th></th>\n",
       "      <th>text_id</th>\n",
       "      <th>date_participation</th>\n",
       "      <th>city_id</th>\n",
       "      <th>city</th>\n",
       "    </tr>\n",
       "  </thead>\n",
       "  <tbody>\n",
       "    <tr>\n",
       "      <th>0</th>\n",
       "      <td>0</td>\n",
       "      <td>1977-06-27</td>\n",
       "      <td>248</td>\n",
       "      <td>Zürich</td>\n",
       "    </tr>\n",
       "    <tr>\n",
       "      <th>1</th>\n",
       "      <td>1</td>\n",
       "      <td>1977-06-27</td>\n",
       "      <td>152</td>\n",
       "      <td>München</td>\n",
       "    </tr>\n",
       "    <tr>\n",
       "      <th>2</th>\n",
       "      <td>2</td>\n",
       "      <td>1977-06-27</td>\n",
       "      <td>23</td>\n",
       "      <td>Berlin</td>\n",
       "    </tr>\n",
       "    <tr>\n",
       "      <th>3</th>\n",
       "      <td>3</td>\n",
       "      <td>1977-06-27</td>\n",
       "      <td>238</td>\n",
       "      <td>Wien</td>\n",
       "    </tr>\n",
       "    <tr>\n",
       "      <th>4</th>\n",
       "      <td>4</td>\n",
       "      <td>1977-06-27</td>\n",
       "      <td>170</td>\n",
       "      <td>Ottobrunn</td>\n",
       "    </tr>\n",
       "    <tr>\n",
       "      <th>...</th>\n",
       "      <td>...</td>\n",
       "      <td>...</td>\n",
       "      <td>...</td>\n",
       "      <td>...</td>\n",
       "    </tr>\n",
       "    <tr>\n",
       "      <th>871</th>\n",
       "      <td>837</td>\n",
       "      <td>2020-06-21</td>\n",
       "      <td>33</td>\n",
       "      <td>Braunschweig</td>\n",
       "    </tr>\n",
       "    <tr>\n",
       "      <th>872</th>\n",
       "      <td>838</td>\n",
       "      <td>2020-06-21</td>\n",
       "      <td>80</td>\n",
       "      <td>Hamburg</td>\n",
       "    </tr>\n",
       "    <tr>\n",
       "      <th>873</th>\n",
       "      <td>839</td>\n",
       "      <td>2020-06-21</td>\n",
       "      <td>120</td>\n",
       "      <td>Köln</td>\n",
       "    </tr>\n",
       "    <tr>\n",
       "      <th>874</th>\n",
       "      <td>840</td>\n",
       "      <td>2020-06-21</td>\n",
       "      <td>238</td>\n",
       "      <td>Wien</td>\n",
       "    </tr>\n",
       "    <tr>\n",
       "      <th>875</th>\n",
       "      <td>841</td>\n",
       "      <td>2020-06-21</td>\n",
       "      <td>238</td>\n",
       "      <td>Wien</td>\n",
       "    </tr>\n",
       "  </tbody>\n",
       "</table>\n",
       "<p>876 rows × 4 columns</p>\n",
       "</div>"
      ],
      "text/plain": [
       "     text_id date_participation  city_id          city\n",
       "0          0         1977-06-27      248        Zürich\n",
       "1          1         1977-06-27      152       München\n",
       "2          2         1977-06-27       23        Berlin\n",
       "3          3         1977-06-27      238          Wien\n",
       "4          4         1977-06-27      170     Ottobrunn\n",
       "..       ...                ...      ...           ...\n",
       "871      837         2020-06-21       33  Braunschweig\n",
       "872      838         2020-06-21       80       Hamburg\n",
       "873      839         2020-06-21      120          Köln\n",
       "874      840         2020-06-21      238          Wien\n",
       "875      841         2020-06-21      238          Wien\n",
       "\n",
       "[876 rows x 4 columns]"
      ]
     },
     "execution_count": 13,
     "metadata": {},
     "output_type": "execute_result"
    }
   ],
   "source": [
    "df1 = pd.merge(texts[['text_id', 'date_participation']], authors_cities[['text_id', 'city_id', \"city\"]], left_on=\"text_id\", right_on=\"text_id\")\n",
    "df1.city_id = df1.city_id.astype(pd.Int32Dtype()).copy()\n",
    "df1"
   ]
  },
  {
   "cell_type": "code",
   "execution_count": 29,
   "metadata": {},
   "outputs": [
    {
     "data": {
      "text/html": [
       "<div>\n",
       "<style scoped>\n",
       "    .dataframe tbody tr th:only-of-type {\n",
       "        vertical-align: middle;\n",
       "    }\n",
       "\n",
       "    .dataframe tbody tr th {\n",
       "        vertical-align: top;\n",
       "    }\n",
       "\n",
       "    .dataframe thead th {\n",
       "        text-align: right;\n",
       "    }\n",
       "</style>\n",
       "<table border=\"1\" class=\"dataframe\">\n",
       "  <thead>\n",
       "    <tr style=\"text-align: right;\">\n",
       "      <th></th>\n",
       "      <th>text_id</th>\n",
       "      <th>date_participation</th>\n",
       "      <th>city_id</th>\n",
       "      <th>city_name</th>\n",
       "      <th>lat</th>\n",
       "      <th>lon</th>\n",
       "      <th>distance_to_klagenfurt</th>\n",
       "    </tr>\n",
       "  </thead>\n",
       "  <tbody>\n",
       "    <tr>\n",
       "      <th>0</th>\n",
       "      <td>0</td>\n",
       "      <td>1977-06-27</td>\n",
       "      <td>248</td>\n",
       "      <td>Zürich</td>\n",
       "      <td>47.372394</td>\n",
       "      <td>8.542333</td>\n",
       "      <td>446.0</td>\n",
       "    </tr>\n",
       "    <tr>\n",
       "      <th>1</th>\n",
       "      <td>1</td>\n",
       "      <td>1977-06-27</td>\n",
       "      <td>152</td>\n",
       "      <td>München</td>\n",
       "      <td>48.137108</td>\n",
       "      <td>11.575382</td>\n",
       "      <td>266.0</td>\n",
       "    </tr>\n",
       "    <tr>\n",
       "      <th>2</th>\n",
       "      <td>2</td>\n",
       "      <td>1977-06-27</td>\n",
       "      <td>23</td>\n",
       "      <td>Berlin</td>\n",
       "      <td>52.517036</td>\n",
       "      <td>13.388860</td>\n",
       "      <td>658.0</td>\n",
       "    </tr>\n",
       "    <tr>\n",
       "      <th>3</th>\n",
       "      <td>3</td>\n",
       "      <td>1977-06-27</td>\n",
       "      <td>238</td>\n",
       "      <td>Wien</td>\n",
       "      <td>48.208354</td>\n",
       "      <td>16.372504</td>\n",
       "      <td>235.0</td>\n",
       "    </tr>\n",
       "    <tr>\n",
       "      <th>4</th>\n",
       "      <td>4</td>\n",
       "      <td>1977-06-27</td>\n",
       "      <td>170</td>\n",
       "      <td>Ottobrunn</td>\n",
       "      <td>48.064382</td>\n",
       "      <td>11.667504</td>\n",
       "      <td>255.0</td>\n",
       "    </tr>\n",
       "    <tr>\n",
       "      <th>...</th>\n",
       "      <td>...</td>\n",
       "      <td>...</td>\n",
       "      <td>...</td>\n",
       "      <td>...</td>\n",
       "      <td>...</td>\n",
       "      <td>...</td>\n",
       "      <td>...</td>\n",
       "    </tr>\n",
       "    <tr>\n",
       "      <th>871</th>\n",
       "      <td>837</td>\n",
       "      <td>2020-06-21</td>\n",
       "      <td>33</td>\n",
       "      <td>Braunschweig</td>\n",
       "      <td>52.264658</td>\n",
       "      <td>10.523607</td>\n",
       "      <td>684.0</td>\n",
       "    </tr>\n",
       "    <tr>\n",
       "      <th>872</th>\n",
       "      <td>838</td>\n",
       "      <td>2020-06-21</td>\n",
       "      <td>80</td>\n",
       "      <td>Hamburg</td>\n",
       "      <td>53.543764</td>\n",
       "      <td>10.009913</td>\n",
       "      <td>828.0</td>\n",
       "    </tr>\n",
       "    <tr>\n",
       "      <th>873</th>\n",
       "      <td>839</td>\n",
       "      <td>2020-06-21</td>\n",
       "      <td>120</td>\n",
       "      <td>Köln</td>\n",
       "      <td>50.938361</td>\n",
       "      <td>6.959974</td>\n",
       "      <td>721.0</td>\n",
       "    </tr>\n",
       "    <tr>\n",
       "      <th>874</th>\n",
       "      <td>840</td>\n",
       "      <td>2020-06-21</td>\n",
       "      <td>238</td>\n",
       "      <td>Wien</td>\n",
       "      <td>48.208354</td>\n",
       "      <td>16.372504</td>\n",
       "      <td>235.0</td>\n",
       "    </tr>\n",
       "    <tr>\n",
       "      <th>875</th>\n",
       "      <td>841</td>\n",
       "      <td>2020-06-21</td>\n",
       "      <td>238</td>\n",
       "      <td>Wien</td>\n",
       "      <td>48.208354</td>\n",
       "      <td>16.372504</td>\n",
       "      <td>235.0</td>\n",
       "    </tr>\n",
       "  </tbody>\n",
       "</table>\n",
       "<p>876 rows × 7 columns</p>\n",
       "</div>"
      ],
      "text/plain": [
       "     text_id date_participation  city_id     city_name        lat        lon  \\\n",
       "0          0         1977-06-27      248        Zürich  47.372394   8.542333   \n",
       "1          1         1977-06-27      152       München  48.137108  11.575382   \n",
       "2          2         1977-06-27       23        Berlin  52.517036  13.388860   \n",
       "3          3         1977-06-27      238          Wien  48.208354  16.372504   \n",
       "4          4         1977-06-27      170     Ottobrunn  48.064382  11.667504   \n",
       "..       ...                ...      ...           ...        ...        ...   \n",
       "871      837         2020-06-21       33  Braunschweig  52.264658  10.523607   \n",
       "872      838         2020-06-21       80       Hamburg  53.543764  10.009913   \n",
       "873      839         2020-06-21      120          Köln  50.938361   6.959974   \n",
       "874      840         2020-06-21      238          Wien  48.208354  16.372504   \n",
       "875      841         2020-06-21      238          Wien  48.208354  16.372504   \n",
       "\n",
       "     distance_to_klagenfurt  \n",
       "0                     446.0  \n",
       "1                     266.0  \n",
       "2                     658.0  \n",
       "3                     235.0  \n",
       "4                     255.0  \n",
       "..                      ...  \n",
       "871                   684.0  \n",
       "872                   828.0  \n",
       "873                   721.0  \n",
       "874                   235.0  \n",
       "875                   235.0  \n",
       "\n",
       "[876 rows x 7 columns]"
      ]
     },
     "execution_count": 29,
     "metadata": {},
     "output_type": "execute_result"
    }
   ],
   "source": [
    "df2 = pd.merge(df1, cities_geodata, \"left\", left_on=\"city\", right_on=\"city_name\").drop(columns=['city_id_y', 'city']).rename(columns={'city_id_x': 'city_id'})\n",
    "df2"
   ]
  },
  {
   "cell_type": "code",
   "execution_count": 30,
   "metadata": {},
   "outputs": [],
   "source": [
    "df2.date_participation = pd.to_datetime(df2.date_participation).copy()"
   ]
  },
  {
   "cell_type": "code",
   "execution_count": 31,
   "metadata": {},
   "outputs": [],
   "source": [
    "df2['year_participation'] = df2.date_participation.dt.year"
   ]
  },
  {
   "cell_type": "code",
   "execution_count": 41,
   "metadata": {},
   "outputs": [],
   "source": [
    "df3 = df2.groupby(['city_name', 'lat', 'lon', 'distance_to_klagenfurt'])['text_id'].count().sort_values(ascending=False).reset_index().rename(columns={'text_id': 'total_participants'})"
   ]
  },
  {
   "cell_type": "code",
   "execution_count": 40,
   "metadata": {},
   "outputs": [
    {
     "data": {
      "text/html": [
       "<div>\n",
       "<style scoped>\n",
       "    .dataframe tbody tr th:only-of-type {\n",
       "        vertical-align: middle;\n",
       "    }\n",
       "\n",
       "    .dataframe tbody tr th {\n",
       "        vertical-align: top;\n",
       "    }\n",
       "\n",
       "    .dataframe thead th {\n",
       "        text-align: right;\n",
       "    }\n",
       "</style>\n",
       "<table border=\"1\" class=\"dataframe\">\n",
       "  <thead>\n",
       "    <tr style=\"text-align: right;\">\n",
       "      <th></th>\n",
       "      <th>city_name</th>\n",
       "      <th>lat</th>\n",
       "      <th>lon</th>\n",
       "      <th>distance_to_klagenfurt</th>\n",
       "      <th>total_participants</th>\n",
       "    </tr>\n",
       "  </thead>\n",
       "  <tbody>\n",
       "    <tr>\n",
       "      <th>0</th>\n",
       "      <td>Berlin</td>\n",
       "      <td>52.517036</td>\n",
       "      <td>13.388860</td>\n",
       "      <td>658.0</td>\n",
       "      <td>180</td>\n",
       "    </tr>\n",
       "    <tr>\n",
       "      <th>1</th>\n",
       "      <td>Wien</td>\n",
       "      <td>48.208354</td>\n",
       "      <td>16.372504</td>\n",
       "      <td>235.0</td>\n",
       "      <td>90</td>\n",
       "    </tr>\n",
       "    <tr>\n",
       "      <th>2</th>\n",
       "      <td>München</td>\n",
       "      <td>48.137108</td>\n",
       "      <td>11.575382</td>\n",
       "      <td>266.0</td>\n",
       "      <td>52</td>\n",
       "    </tr>\n",
       "    <tr>\n",
       "      <th>3</th>\n",
       "      <td>Zürich</td>\n",
       "      <td>47.372394</td>\n",
       "      <td>8.542333</td>\n",
       "      <td>446.0</td>\n",
       "      <td>43</td>\n",
       "    </tr>\n",
       "    <tr>\n",
       "      <th>4</th>\n",
       "      <td>Hamburg</td>\n",
       "      <td>53.543764</td>\n",
       "      <td>10.009913</td>\n",
       "      <td>828.0</td>\n",
       "      <td>39</td>\n",
       "    </tr>\n",
       "    <tr>\n",
       "      <th>...</th>\n",
       "      <td>...</td>\n",
       "      <td>...</td>\n",
       "      <td>...</td>\n",
       "      <td>...</td>\n",
       "      <td>...</td>\n",
       "    </tr>\n",
       "    <tr>\n",
       "      <th>233</th>\n",
       "      <td>Neumarkt</td>\n",
       "      <td>49.279624</td>\n",
       "      <td>11.459466</td>\n",
       "      <td>363.0</td>\n",
       "      <td>1</td>\n",
       "    </tr>\n",
       "    <tr>\n",
       "      <th>234</th>\n",
       "      <td>Neu Meteln</td>\n",
       "      <td>53.763130</td>\n",
       "      <td>11.360983</td>\n",
       "      <td>821.0</td>\n",
       "      <td>1</td>\n",
       "    </tr>\n",
       "    <tr>\n",
       "      <th>235</th>\n",
       "      <td>München-Pullach</td>\n",
       "      <td>48.055612</td>\n",
       "      <td>11.521745</td>\n",
       "      <td>264.0</td>\n",
       "      <td>1</td>\n",
       "    </tr>\n",
       "    <tr>\n",
       "      <th>236</th>\n",
       "      <td>Mönchengladbach</td>\n",
       "      <td>51.194698</td>\n",
       "      <td>6.435364</td>\n",
       "      <td>768.0</td>\n",
       "      <td>1</td>\n",
       "    </tr>\n",
       "    <tr>\n",
       "      <th>237</th>\n",
       "      <td>Aachen</td>\n",
       "      <td>50.776351</td>\n",
       "      <td>6.083862</td>\n",
       "      <td>760.0</td>\n",
       "      <td>1</td>\n",
       "    </tr>\n",
       "  </tbody>\n",
       "</table>\n",
       "<p>238 rows × 5 columns</p>\n",
       "</div>"
      ],
      "text/plain": [
       "           city_name        lat        lon  distance_to_klagenfurt  \\\n",
       "0             Berlin  52.517036  13.388860                   658.0   \n",
       "1               Wien  48.208354  16.372504                   235.0   \n",
       "2            München  48.137108  11.575382                   266.0   \n",
       "3             Zürich  47.372394   8.542333                   446.0   \n",
       "4            Hamburg  53.543764  10.009913                   828.0   \n",
       "..               ...        ...        ...                     ...   \n",
       "233         Neumarkt  49.279624  11.459466                   363.0   \n",
       "234       Neu Meteln  53.763130  11.360983                   821.0   \n",
       "235  München-Pullach  48.055612  11.521745                   264.0   \n",
       "236  Mönchengladbach  51.194698   6.435364                   768.0   \n",
       "237           Aachen  50.776351   6.083862                   760.0   \n",
       "\n",
       "     total_participants  \n",
       "0                   180  \n",
       "1                    90  \n",
       "2                    52  \n",
       "3                    43  \n",
       "4                    39  \n",
       "..                  ...  \n",
       "233                   1  \n",
       "234                   1  \n",
       "235                   1  \n",
       "236                   1  \n",
       "237                   1  \n",
       "\n",
       "[238 rows x 5 columns]"
      ]
     },
     "execution_count": 40,
     "metadata": {},
     "output_type": "execute_result"
    }
   ],
   "source": [
    "df3"
   ]
  },
  {
   "cell_type": "code",
   "execution_count": 52,
   "metadata": {},
   "outputs": [],
   "source": [
    "df4 = df2.groupby(['city_name', 'lat', 'lon', 'distance_to_klagenfurt', 'year_participation'])['text_id'].count().reset_index().rename(columns={'text_id': 'total_participants'}).sort_values('year_participation')"
   ]
  },
  {
   "cell_type": "code",
   "execution_count": 54,
   "metadata": {},
   "outputs": [],
   "source": [
    "# total_ratings['cumsum'] = total_ratings['total_ratings'].groupby(total_ratings['movieId']).cumsum()\n",
    "df4['cumsum'] = df4['total_participants'].groupby(df4['city_name']).cumsum()"
   ]
  },
  {
   "cell_type": "code",
   "execution_count": 60,
   "metadata": {},
   "outputs": [
    {
     "data": {
      "text/html": [
       "<div>\n",
       "<style scoped>\n",
       "    .dataframe tbody tr th:only-of-type {\n",
       "        vertical-align: middle;\n",
       "    }\n",
       "\n",
       "    .dataframe tbody tr th {\n",
       "        vertical-align: top;\n",
       "    }\n",
       "\n",
       "    .dataframe thead th {\n",
       "        text-align: right;\n",
       "    }\n",
       "</style>\n",
       "<table border=\"1\" class=\"dataframe\">\n",
       "  <thead>\n",
       "    <tr style=\"text-align: right;\">\n",
       "      <th></th>\n",
       "      <th>city_name</th>\n",
       "      <th>year_participation</th>\n",
       "      <th>cumsum</th>\n",
       "    </tr>\n",
       "  </thead>\n",
       "  <tbody>\n",
       "    <tr>\n",
       "      <th>100</th>\n",
       "      <td>Bottmingen</td>\n",
       "      <td>1977</td>\n",
       "      <td>1</td>\n",
       "    </tr>\n",
       "    <tr>\n",
       "      <th>500</th>\n",
       "      <td>Weissenau</td>\n",
       "      <td>1977</td>\n",
       "      <td>1</td>\n",
       "    </tr>\n",
       "    <tr>\n",
       "      <th>505</th>\n",
       "      <td>Wien</td>\n",
       "      <td>1977</td>\n",
       "      <td>3</td>\n",
       "    </tr>\n",
       "    <tr>\n",
       "      <th>270</th>\n",
       "      <td>Klagenfurt</td>\n",
       "      <td>1977</td>\n",
       "      <td>1</td>\n",
       "    </tr>\n",
       "    <tr>\n",
       "      <th>489</th>\n",
       "      <td>Villach</td>\n",
       "      <td>1977</td>\n",
       "      <td>1</td>\n",
       "    </tr>\n",
       "    <tr>\n",
       "      <th>...</th>\n",
       "      <td>...</td>\n",
       "      <td>...</td>\n",
       "      <td>...</td>\n",
       "    </tr>\n",
       "    <tr>\n",
       "      <th>222</th>\n",
       "      <td>Hamburg</td>\n",
       "      <td>2020</td>\n",
       "      <td>39</td>\n",
       "    </tr>\n",
       "    <tr>\n",
       "      <th>588</th>\n",
       "      <td>Zürich</td>\n",
       "      <td>2020</td>\n",
       "      <td>43</td>\n",
       "    </tr>\n",
       "    <tr>\n",
       "      <th>458</th>\n",
       "      <td>Straßengel</td>\n",
       "      <td>2020</td>\n",
       "      <td>1</td>\n",
       "    </tr>\n",
       "    <tr>\n",
       "      <th>542</th>\n",
       "      <td>Wien</td>\n",
       "      <td>2020</td>\n",
       "      <td>90</td>\n",
       "    </tr>\n",
       "    <tr>\n",
       "      <th>89</th>\n",
       "      <td>Bern</td>\n",
       "      <td>2020</td>\n",
       "      <td>17</td>\n",
       "    </tr>\n",
       "  </tbody>\n",
       "</table>\n",
       "<p>593 rows × 3 columns</p>\n",
       "</div>"
      ],
      "text/plain": [
       "      city_name  year_participation  cumsum\n",
       "100  Bottmingen                1977       1\n",
       "500   Weissenau                1977       1\n",
       "505        Wien                1977       3\n",
       "270  Klagenfurt                1977       1\n",
       "489     Villach                1977       1\n",
       "..          ...                 ...     ...\n",
       "222     Hamburg                2020      39\n",
       "588      Zürich                2020      43\n",
       "458  Straßengel                2020       1\n",
       "542        Wien                2020      90\n",
       "89         Bern                2020      17\n",
       "\n",
       "[593 rows x 3 columns]"
      ]
     },
     "execution_count": 60,
     "metadata": {},
     "output_type": "execute_result"
    }
   ],
   "source": [
    "df4[['city_name', 'year_participation', 'cumsum']]"
   ]
  },
  {
   "cell_type": "code",
   "execution_count": 63,
   "metadata": {},
   "outputs": [
    {
     "data": {
      "text/html": [
       "<div>\n",
       "<style scoped>\n",
       "    .dataframe tbody tr th:only-of-type {\n",
       "        vertical-align: middle;\n",
       "    }\n",
       "\n",
       "    .dataframe tbody tr th {\n",
       "        vertical-align: top;\n",
       "    }\n",
       "\n",
       "    .dataframe thead th {\n",
       "        text-align: right;\n",
       "    }\n",
       "</style>\n",
       "<table border=\"1\" class=\"dataframe\">\n",
       "  <thead>\n",
       "    <tr style=\"text-align: right;\">\n",
       "      <th></th>\n",
       "      <th>city_name</th>\n",
       "      <th>lat</th>\n",
       "      <th>lon</th>\n",
       "      <th>distance_to_klagenfurt</th>\n",
       "      <th>year_participation</th>\n",
       "      <th>total_participants</th>\n",
       "      <th>cumsum</th>\n",
       "    </tr>\n",
       "  </thead>\n",
       "  <tbody>\n",
       "    <tr>\n",
       "      <th>100</th>\n",
       "      <td>Bottmingen</td>\n",
       "      <td>47.523450</td>\n",
       "      <td>7.574873</td>\n",
       "      <td>520.0</td>\n",
       "      <td>1977</td>\n",
       "      <td>1</td>\n",
       "      <td>1</td>\n",
       "    </tr>\n",
       "    <tr>\n",
       "      <th>500</th>\n",
       "      <td>Weissenau</td>\n",
       "      <td>46.671719</td>\n",
       "      <td>7.832655</td>\n",
       "      <td>495.0</td>\n",
       "      <td>1977</td>\n",
       "      <td>1</td>\n",
       "      <td>1</td>\n",
       "    </tr>\n",
       "    <tr>\n",
       "      <th>505</th>\n",
       "      <td>Wien</td>\n",
       "      <td>48.208354</td>\n",
       "      <td>16.372504</td>\n",
       "      <td>235.0</td>\n",
       "      <td>1977</td>\n",
       "      <td>3</td>\n",
       "      <td>3</td>\n",
       "    </tr>\n",
       "    <tr>\n",
       "      <th>270</th>\n",
       "      <td>Klagenfurt</td>\n",
       "      <td>46.622816</td>\n",
       "      <td>14.307960</td>\n",
       "      <td>0.0</td>\n",
       "      <td>1977</td>\n",
       "      <td>1</td>\n",
       "      <td>1</td>\n",
       "    </tr>\n",
       "    <tr>\n",
       "      <th>489</th>\n",
       "      <td>Villach</td>\n",
       "      <td>46.616728</td>\n",
       "      <td>13.850027</td>\n",
       "      <td>35.0</td>\n",
       "      <td>1977</td>\n",
       "      <td>1</td>\n",
       "      <td>1</td>\n",
       "    </tr>\n",
       "    <tr>\n",
       "      <th>466</th>\n",
       "      <td>Tamsweg</td>\n",
       "      <td>47.126106</td>\n",
       "      <td>13.810382</td>\n",
       "      <td>67.0</td>\n",
       "      <td>1977</td>\n",
       "      <td>1</td>\n",
       "      <td>1</td>\n",
       "    </tr>\n",
       "    <tr>\n",
       "      <th>401</th>\n",
       "      <td>Ottobrunn</td>\n",
       "      <td>48.064382</td>\n",
       "      <td>11.667504</td>\n",
       "      <td>255.0</td>\n",
       "      <td>1977</td>\n",
       "      <td>1</td>\n",
       "      <td>1</td>\n",
       "    </tr>\n",
       "    <tr>\n",
       "      <th>346</th>\n",
       "      <td>München</td>\n",
       "      <td>48.137108</td>\n",
       "      <td>11.575382</td>\n",
       "      <td>266.0</td>\n",
       "      <td>1977</td>\n",
       "      <td>3</td>\n",
       "      <td>3</td>\n",
       "    </tr>\n",
       "    <tr>\n",
       "      <th>195</th>\n",
       "      <td>Hamburg</td>\n",
       "      <td>53.543764</td>\n",
       "      <td>10.009913</td>\n",
       "      <td>828.0</td>\n",
       "      <td>1977</td>\n",
       "      <td>1</td>\n",
       "      <td>1</td>\n",
       "    </tr>\n",
       "    <tr>\n",
       "      <th>556</th>\n",
       "      <td>Zürich</td>\n",
       "      <td>47.372394</td>\n",
       "      <td>8.542333</td>\n",
       "      <td>446.0</td>\n",
       "      <td>1977</td>\n",
       "      <td>1</td>\n",
       "      <td>1</td>\n",
       "    </tr>\n",
       "    <tr>\n",
       "      <th>375</th>\n",
       "      <td>Münster</td>\n",
       "      <td>51.962510</td>\n",
       "      <td>7.625188</td>\n",
       "      <td>766.0</td>\n",
       "      <td>1977</td>\n",
       "      <td>1</td>\n",
       "      <td>1</td>\n",
       "    </tr>\n",
       "    <tr>\n",
       "      <th>32</th>\n",
       "      <td>Berlin</td>\n",
       "      <td>52.517036</td>\n",
       "      <td>13.388860</td>\n",
       "      <td>658.0</td>\n",
       "      <td>1977</td>\n",
       "      <td>2</td>\n",
       "      <td>2</td>\n",
       "    </tr>\n",
       "    <tr>\n",
       "      <th>427</th>\n",
       "      <td>Salzburg</td>\n",
       "      <td>47.798135</td>\n",
       "      <td>13.046481</td>\n",
       "      <td>161.0</td>\n",
       "      <td>1977</td>\n",
       "      <td>1</td>\n",
       "      <td>1</td>\n",
       "    </tr>\n",
       "    <tr>\n",
       "      <th>139</th>\n",
       "      <td>Frankfurt/Main</td>\n",
       "      <td>50.053764</td>\n",
       "      <td>8.637086</td>\n",
       "      <td>567.0</td>\n",
       "      <td>1977</td>\n",
       "      <td>1</td>\n",
       "      <td>1</td>\n",
       "    </tr>\n",
       "    <tr>\n",
       "      <th>123</th>\n",
       "      <td>Düren</td>\n",
       "      <td>50.803168</td>\n",
       "      <td>6.482081</td>\n",
       "      <td>739.0</td>\n",
       "      <td>1977</td>\n",
       "      <td>1</td>\n",
       "      <td>1</td>\n",
       "    </tr>\n",
       "    <tr>\n",
       "      <th>387</th>\n",
       "      <td>Nürnberg</td>\n",
       "      <td>49.453872</td>\n",
       "      <td>11.077298</td>\n",
       "      <td>396.0</td>\n",
       "      <td>1977</td>\n",
       "      <td>1</td>\n",
       "      <td>1</td>\n",
       "    </tr>\n",
       "    <tr>\n",
       "      <th>383</th>\n",
       "      <td>Niederbipp</td>\n",
       "      <td>47.268494</td>\n",
       "      <td>7.693334</td>\n",
       "      <td>508.0</td>\n",
       "      <td>1977</td>\n",
       "      <td>1</td>\n",
       "      <td>1</td>\n",
       "    </tr>\n",
       "  </tbody>\n",
       "</table>\n",
       "</div>"
      ],
      "text/plain": [
       "          city_name        lat        lon  distance_to_klagenfurt  \\\n",
       "100      Bottmingen  47.523450   7.574873                   520.0   \n",
       "500       Weissenau  46.671719   7.832655                   495.0   \n",
       "505            Wien  48.208354  16.372504                   235.0   \n",
       "270      Klagenfurt  46.622816  14.307960                     0.0   \n",
       "489         Villach  46.616728  13.850027                    35.0   \n",
       "466         Tamsweg  47.126106  13.810382                    67.0   \n",
       "401       Ottobrunn  48.064382  11.667504                   255.0   \n",
       "346         München  48.137108  11.575382                   266.0   \n",
       "195         Hamburg  53.543764  10.009913                   828.0   \n",
       "556          Zürich  47.372394   8.542333                   446.0   \n",
       "375         Münster  51.962510   7.625188                   766.0   \n",
       "32           Berlin  52.517036  13.388860                   658.0   \n",
       "427        Salzburg  47.798135  13.046481                   161.0   \n",
       "139  Frankfurt/Main  50.053764   8.637086                   567.0   \n",
       "123           Düren  50.803168   6.482081                   739.0   \n",
       "387        Nürnberg  49.453872  11.077298                   396.0   \n",
       "383      Niederbipp  47.268494   7.693334                   508.0   \n",
       "\n",
       "     year_participation  total_participants  cumsum  \n",
       "100                1977                   1       1  \n",
       "500                1977                   1       1  \n",
       "505                1977                   3       3  \n",
       "270                1977                   1       1  \n",
       "489                1977                   1       1  \n",
       "466                1977                   1       1  \n",
       "401                1977                   1       1  \n",
       "346                1977                   3       3  \n",
       "195                1977                   1       1  \n",
       "556                1977                   1       1  \n",
       "375                1977                   1       1  \n",
       "32                 1977                   2       2  \n",
       "427                1977                   1       1  \n",
       "139                1977                   1       1  \n",
       "123                1977                   1       1  \n",
       "387                1977                   1       1  \n",
       "383                1977                   1       1  "
      ]
     },
     "execution_count": 63,
     "metadata": {},
     "output_type": "execute_result"
    }
   ],
   "source": [
    "df4[df4.year_participation == 1977][]"
   ]
  },
  {
   "cell_type": "code",
   "execution_count": 62,
   "metadata": {},
   "outputs": [
    {
     "data": {
      "text/html": [
       "<div>\n",
       "<style scoped>\n",
       "    .dataframe tbody tr th:only-of-type {\n",
       "        vertical-align: middle;\n",
       "    }\n",
       "\n",
       "    .dataframe tbody tr th {\n",
       "        vertical-align: top;\n",
       "    }\n",
       "\n",
       "    .dataframe thead th {\n",
       "        text-align: right;\n",
       "    }\n",
       "</style>\n",
       "<table border=\"1\" class=\"dataframe\">\n",
       "  <thead>\n",
       "    <tr style=\"text-align: right;\">\n",
       "      <th></th>\n",
       "      <th>city_name</th>\n",
       "      <th>year_participation</th>\n",
       "      <th>cumsum</th>\n",
       "    </tr>\n",
       "  </thead>\n",
       "  <tbody>\n",
       "    <tr>\n",
       "      <th>0</th>\n",
       "      <td>Bottmingen</td>\n",
       "      <td>1977</td>\n",
       "      <td>0</td>\n",
       "    </tr>\n",
       "    <tr>\n",
       "      <th>1</th>\n",
       "      <td>Weissenau</td>\n",
       "      <td>1977</td>\n",
       "      <td>0</td>\n",
       "    </tr>\n",
       "    <tr>\n",
       "      <th>2</th>\n",
       "      <td>Wien</td>\n",
       "      <td>1977</td>\n",
       "      <td>0</td>\n",
       "    </tr>\n",
       "    <tr>\n",
       "      <th>3</th>\n",
       "      <td>Klagenfurt</td>\n",
       "      <td>1977</td>\n",
       "      <td>0</td>\n",
       "    </tr>\n",
       "    <tr>\n",
       "      <th>4</th>\n",
       "      <td>Villach</td>\n",
       "      <td>1977</td>\n",
       "      <td>0</td>\n",
       "    </tr>\n",
       "    <tr>\n",
       "      <th>...</th>\n",
       "      <td>...</td>\n",
       "      <td>...</td>\n",
       "      <td>...</td>\n",
       "    </tr>\n",
       "    <tr>\n",
       "      <th>233</th>\n",
       "      <td>Freidorf (Kanton Thurgau)</td>\n",
       "      <td>1977</td>\n",
       "      <td>0</td>\n",
       "    </tr>\n",
       "    <tr>\n",
       "      <th>234</th>\n",
       "      <td>Hannover</td>\n",
       "      <td>1977</td>\n",
       "      <td>0</td>\n",
       "    </tr>\n",
       "    <tr>\n",
       "      <th>235</th>\n",
       "      <td>Braunschweig</td>\n",
       "      <td>1977</td>\n",
       "      <td>0</td>\n",
       "    </tr>\n",
       "    <tr>\n",
       "      <th>236</th>\n",
       "      <td>Neu Meteln</td>\n",
       "      <td>1977</td>\n",
       "      <td>0</td>\n",
       "    </tr>\n",
       "    <tr>\n",
       "      <th>237</th>\n",
       "      <td>Straßengel</td>\n",
       "      <td>1977</td>\n",
       "      <td>0</td>\n",
       "    </tr>\n",
       "  </tbody>\n",
       "</table>\n",
       "<p>238 rows × 3 columns</p>\n",
       "</div>"
      ],
      "text/plain": [
       "                     city_name  year_participation  cumsum\n",
       "0                   Bottmingen                1977       0\n",
       "1                    Weissenau                1977       0\n",
       "2                         Wien                1977       0\n",
       "3                   Klagenfurt                1977       0\n",
       "4                      Villach                1977       0\n",
       "..                         ...                 ...     ...\n",
       "233  Freidorf (Kanton Thurgau)                1977       0\n",
       "234                   Hannover                1977       0\n",
       "235               Braunschweig                1977       0\n",
       "236                 Neu Meteln                1977       0\n",
       "237                 Straßengel                1977       0\n",
       "\n",
       "[238 rows x 3 columns]"
      ]
     },
     "execution_count": 62,
     "metadata": {},
     "output_type": "execute_result"
    }
   ],
   "source": [
    "pd.DataFrame({'city_name': df4.city_name.unique(), 'year_participation': [1977] * len(df4.city_name.unique()), 'cumsum': [0] * len(df4.city_name.unique())})"
   ]
  },
  {
   "cell_type": "code",
   "execution_count": 58,
   "metadata": {},
   "outputs": [
    {
     "data": {
      "application/vnd.plotly.v1+json": {
       "config": {
        "plotlyServerURL": "https://plot.ly"
       },
       "data": [
        {
         "geo": "geo",
         "hovertemplate": "<b>%{hovertext}</b><br><br>city_name=Bottmingen<br>year_participation=1977<br>cumsum=%{marker.size}<br>lat=%{lat}<br>lon=%{lon}<extra></extra>",
         "hovertext": [
          "Bottmingen"
         ],
         "lat": [
          47.5234501
         ],
         "legendgroup": "Bottmingen",
         "lon": [
          7.5748727
         ],
         "marker": {
          "color": "#636efa",
          "size": [
           1
          ],
          "sizemode": "area",
          "sizeref": 0.45
         },
         "name": "Bottmingen",
         "showlegend": true,
         "type": "scattergeo"
        },
        {
         "geo": "geo",
         "hovertemplate": "<b>%{hovertext}</b><br><br>city_name=Weissenau<br>year_participation=1977<br>cumsum=%{marker.size}<br>lat=%{lat}<br>lon=%{lon}<extra></extra>",
         "hovertext": [
          "Weissenau"
         ],
         "lat": [
          46.671719
         ],
         "legendgroup": "Weissenau",
         "lon": [
          7.8326554
         ],
         "marker": {
          "color": "#EF553B",
          "size": [
           1
          ],
          "sizemode": "area",
          "sizeref": 0.45
         },
         "name": "Weissenau",
         "showlegend": true,
         "type": "scattergeo"
        },
        {
         "geo": "geo",
         "hovertemplate": "<b>%{hovertext}</b><br><br>city_name=Wien<br>year_participation=1977<br>cumsum=%{marker.size}<br>lat=%{lat}<br>lon=%{lon}<extra></extra>",
         "hovertext": [
          "Wien"
         ],
         "lat": [
          48.2083537
         ],
         "legendgroup": "Wien",
         "lon": [
          16.372504199999998
         ],
         "marker": {
          "color": "#00cc96",
          "size": [
           3
          ],
          "sizemode": "area",
          "sizeref": 0.45
         },
         "name": "Wien",
         "showlegend": true,
         "type": "scattergeo"
        },
        {
         "geo": "geo",
         "hovertemplate": "<b>%{hovertext}</b><br><br>city_name=Klagenfurt<br>year_participation=1977<br>cumsum=%{marker.size}<br>lat=%{lat}<br>lon=%{lon}<extra></extra>",
         "hovertext": [
          "Klagenfurt"
         ],
         "lat": [
          46.6228162
         ],
         "legendgroup": "Klagenfurt",
         "lon": [
          14.307960399999999
         ],
         "marker": {
          "color": "#ab63fa",
          "size": [
           1
          ],
          "sizemode": "area",
          "sizeref": 0.45
         },
         "name": "Klagenfurt",
         "showlegend": true,
         "type": "scattergeo"
        },
        {
         "geo": "geo",
         "hovertemplate": "<b>%{hovertext}</b><br><br>city_name=Villach<br>year_participation=1977<br>cumsum=%{marker.size}<br>lat=%{lat}<br>lon=%{lon}<extra></extra>",
         "hovertext": [
          "Villach"
         ],
         "lat": [
          46.6167284
         ],
         "legendgroup": "Villach",
         "lon": [
          13.850026800000002
         ],
         "marker": {
          "color": "#FFA15A",
          "size": [
           1
          ],
          "sizemode": "area",
          "sizeref": 0.45
         },
         "name": "Villach",
         "showlegend": true,
         "type": "scattergeo"
        },
        {
         "geo": "geo",
         "hovertemplate": "<b>%{hovertext}</b><br><br>city_name=Tamsweg<br>year_participation=1977<br>cumsum=%{marker.size}<br>lat=%{lat}<br>lon=%{lon}<extra></extra>",
         "hovertext": [
          "Tamsweg"
         ],
         "lat": [
          47.1261065
         ],
         "legendgroup": "Tamsweg",
         "lon": [
          13.810381699999999
         ],
         "marker": {
          "color": "#19d3f3",
          "size": [
           1
          ],
          "sizemode": "area",
          "sizeref": 0.45
         },
         "name": "Tamsweg",
         "showlegend": true,
         "type": "scattergeo"
        },
        {
         "geo": "geo",
         "hovertemplate": "<b>%{hovertext}</b><br><br>city_name=Ottobrunn<br>year_participation=1977<br>cumsum=%{marker.size}<br>lat=%{lat}<br>lon=%{lon}<extra></extra>",
         "hovertext": [
          "Ottobrunn"
         ],
         "lat": [
          48.0643823
         ],
         "legendgroup": "Ottobrunn",
         "lon": [
          11.667504199999998
         ],
         "marker": {
          "color": "#FF6692",
          "size": [
           1
          ],
          "sizemode": "area",
          "sizeref": 0.45
         },
         "name": "Ottobrunn",
         "showlegend": true,
         "type": "scattergeo"
        },
        {
         "geo": "geo",
         "hovertemplate": "<b>%{hovertext}</b><br><br>city_name=München<br>year_participation=1977<br>cumsum=%{marker.size}<br>lat=%{lat}<br>lon=%{lon}<extra></extra>",
         "hovertext": [
          "München"
         ],
         "lat": [
          48.1371079
         ],
         "legendgroup": "München",
         "lon": [
          11.575382199999998
         ],
         "marker": {
          "color": "#B6E880",
          "size": [
           3
          ],
          "sizemode": "area",
          "sizeref": 0.45
         },
         "name": "München",
         "showlegend": true,
         "type": "scattergeo"
        },
        {
         "geo": "geo",
         "hovertemplate": "<b>%{hovertext}</b><br><br>city_name=Hamburg<br>year_participation=1977<br>cumsum=%{marker.size}<br>lat=%{lat}<br>lon=%{lon}<extra></extra>",
         "hovertext": [
          "Hamburg"
         ],
         "lat": [
          53.543764100000004
         ],
         "legendgroup": "Hamburg",
         "lon": [
          10.009913300000001
         ],
         "marker": {
          "color": "#FF97FF",
          "size": [
           1
          ],
          "sizemode": "area",
          "sizeref": 0.45
         },
         "name": "Hamburg",
         "showlegend": true,
         "type": "scattergeo"
        },
        {
         "geo": "geo",
         "hovertemplate": "<b>%{hovertext}</b><br><br>city_name=Zürich<br>year_participation=1977<br>cumsum=%{marker.size}<br>lat=%{lat}<br>lon=%{lon}<extra></extra>",
         "hovertext": [
          "Zürich"
         ],
         "lat": [
          47.3723941
         ],
         "legendgroup": "Zürich",
         "lon": [
          8.5423328
         ],
         "marker": {
          "color": "#FECB52",
          "size": [
           1
          ],
          "sizemode": "area",
          "sizeref": 0.45
         },
         "name": "Zürich",
         "showlegend": true,
         "type": "scattergeo"
        },
        {
         "geo": "geo",
         "hovertemplate": "<b>%{hovertext}</b><br><br>city_name=Münster<br>year_participation=1977<br>cumsum=%{marker.size}<br>lat=%{lat}<br>lon=%{lon}<extra></extra>",
         "hovertext": [
          "Münster"
         ],
         "lat": [
          51.9625101
         ],
         "legendgroup": "Münster",
         "lon": [
          7.6251879
         ],
         "marker": {
          "color": "#636efa",
          "size": [
           1
          ],
          "sizemode": "area",
          "sizeref": 0.45
         },
         "name": "Münster",
         "showlegend": true,
         "type": "scattergeo"
        },
        {
         "geo": "geo",
         "hovertemplate": "<b>%{hovertext}</b><br><br>city_name=Berlin<br>year_participation=1977<br>cumsum=%{marker.size}<br>lat=%{lat}<br>lon=%{lon}<extra></extra>",
         "hovertext": [
          "Berlin"
         ],
         "lat": [
          52.517036499999996
         ],
         "legendgroup": "Berlin",
         "lon": [
          13.388859900000002
         ],
         "marker": {
          "color": "#EF553B",
          "size": [
           2
          ],
          "sizemode": "area",
          "sizeref": 0.45
         },
         "name": "Berlin",
         "showlegend": true,
         "type": "scattergeo"
        },
        {
         "geo": "geo",
         "hovertemplate": "<b>%{hovertext}</b><br><br>city_name=Salzburg<br>year_participation=1977<br>cumsum=%{marker.size}<br>lat=%{lat}<br>lon=%{lon}<extra></extra>",
         "hovertext": [
          "Salzburg"
         ],
         "lat": [
          47.798134600000004
         ],
         "legendgroup": "Salzburg",
         "lon": [
          13.046480599999999
         ],
         "marker": {
          "color": "#00cc96",
          "size": [
           1
          ],
          "sizemode": "area",
          "sizeref": 0.45
         },
         "name": "Salzburg",
         "showlegend": true,
         "type": "scattergeo"
        },
        {
         "geo": "geo",
         "hovertemplate": "<b>%{hovertext}</b><br><br>city_name=Frankfurt/Main<br>year_participation=1977<br>cumsum=%{marker.size}<br>lat=%{lat}<br>lon=%{lon}<extra></extra>",
         "hovertext": [
          "Frankfurt/Main"
         ],
         "lat": [
          50.053763700000005
         ],
         "legendgroup": "Frankfurt/Main",
         "lon": [
          8.637085800000001
         ],
         "marker": {
          "color": "#ab63fa",
          "size": [
           1
          ],
          "sizemode": "area",
          "sizeref": 0.45
         },
         "name": "Frankfurt/Main",
         "showlegend": true,
         "type": "scattergeo"
        },
        {
         "geo": "geo",
         "hovertemplate": "<b>%{hovertext}</b><br><br>city_name=Düren<br>year_participation=1977<br>cumsum=%{marker.size}<br>lat=%{lat}<br>lon=%{lon}<extra></extra>",
         "hovertext": [
          "Düren"
         ],
         "lat": [
          50.803168400000004
         ],
         "legendgroup": "Düren",
         "lon": [
          6.4820806
         ],
         "marker": {
          "color": "#FFA15A",
          "size": [
           1
          ],
          "sizemode": "area",
          "sizeref": 0.45
         },
         "name": "Düren",
         "showlegend": true,
         "type": "scattergeo"
        },
        {
         "geo": "geo",
         "hovertemplate": "<b>%{hovertext}</b><br><br>city_name=Nürnberg<br>year_participation=1977<br>cumsum=%{marker.size}<br>lat=%{lat}<br>lon=%{lon}<extra></extra>",
         "hovertext": [
          "Nürnberg"
         ],
         "lat": [
          49.453872
         ],
         "legendgroup": "Nürnberg",
         "lon": [
          11.077297999999999
         ],
         "marker": {
          "color": "#19d3f3",
          "size": [
           1
          ],
          "sizemode": "area",
          "sizeref": 0.45
         },
         "name": "Nürnberg",
         "showlegend": true,
         "type": "scattergeo"
        },
        {
         "geo": "geo",
         "hovertemplate": "<b>%{hovertext}</b><br><br>city_name=Niederbipp<br>year_participation=1977<br>cumsum=%{marker.size}<br>lat=%{lat}<br>lon=%{lon}<extra></extra>",
         "hovertext": [
          "Niederbipp"
         ],
         "lat": [
          47.2684936
         ],
         "legendgroup": "Niederbipp",
         "lon": [
          7.693334299999999
         ],
         "marker": {
          "color": "#FF6692",
          "size": [
           1
          ],
          "sizemode": "area",
          "sizeref": 0.45
         },
         "name": "Niederbipp",
         "showlegend": true,
         "type": "scattergeo"
        }
       ],
       "frames": [
        {
         "data": [
          {
           "geo": "geo",
           "hovertemplate": "<b>%{hovertext}</b><br><br>city_name=Bottmingen<br>year_participation=1977<br>cumsum=%{marker.size}<br>lat=%{lat}<br>lon=%{lon}<extra></extra>",
           "hovertext": [
            "Bottmingen"
           ],
           "lat": [
            47.5234501
           ],
           "legendgroup": "Bottmingen",
           "lon": [
            7.5748727
           ],
           "marker": {
            "color": "#636efa",
            "size": [
             1
            ],
            "sizemode": "area",
            "sizeref": 0.45
           },
           "name": "Bottmingen",
           "showlegend": true,
           "type": "scattergeo"
          },
          {
           "geo": "geo",
           "hovertemplate": "<b>%{hovertext}</b><br><br>city_name=Weissenau<br>year_participation=1977<br>cumsum=%{marker.size}<br>lat=%{lat}<br>lon=%{lon}<extra></extra>",
           "hovertext": [
            "Weissenau"
           ],
           "lat": [
            46.671719
           ],
           "legendgroup": "Weissenau",
           "lon": [
            7.8326554
           ],
           "marker": {
            "color": "#EF553B",
            "size": [
             1
            ],
            "sizemode": "area",
            "sizeref": 0.45
           },
           "name": "Weissenau",
           "showlegend": true,
           "type": "scattergeo"
          },
          {
           "geo": "geo",
           "hovertemplate": "<b>%{hovertext}</b><br><br>city_name=Wien<br>year_participation=1977<br>cumsum=%{marker.size}<br>lat=%{lat}<br>lon=%{lon}<extra></extra>",
           "hovertext": [
            "Wien"
           ],
           "lat": [
            48.2083537
           ],
           "legendgroup": "Wien",
           "lon": [
            16.372504199999998
           ],
           "marker": {
            "color": "#00cc96",
            "size": [
             3
            ],
            "sizemode": "area",
            "sizeref": 0.45
           },
           "name": "Wien",
           "showlegend": true,
           "type": "scattergeo"
          },
          {
           "geo": "geo",
           "hovertemplate": "<b>%{hovertext}</b><br><br>city_name=Klagenfurt<br>year_participation=1977<br>cumsum=%{marker.size}<br>lat=%{lat}<br>lon=%{lon}<extra></extra>",
           "hovertext": [
            "Klagenfurt"
           ],
           "lat": [
            46.6228162
           ],
           "legendgroup": "Klagenfurt",
           "lon": [
            14.307960399999999
           ],
           "marker": {
            "color": "#ab63fa",
            "size": [
             1
            ],
            "sizemode": "area",
            "sizeref": 0.45
           },
           "name": "Klagenfurt",
           "showlegend": true,
           "type": "scattergeo"
          },
          {
           "geo": "geo",
           "hovertemplate": "<b>%{hovertext}</b><br><br>city_name=Villach<br>year_participation=1977<br>cumsum=%{marker.size}<br>lat=%{lat}<br>lon=%{lon}<extra></extra>",
           "hovertext": [
            "Villach"
           ],
           "lat": [
            46.6167284
           ],
           "legendgroup": "Villach",
           "lon": [
            13.850026800000002
           ],
           "marker": {
            "color": "#FFA15A",
            "size": [
             1
            ],
            "sizemode": "area",
            "sizeref": 0.45
           },
           "name": "Villach",
           "showlegend": true,
           "type": "scattergeo"
          },
          {
           "geo": "geo",
           "hovertemplate": "<b>%{hovertext}</b><br><br>city_name=Tamsweg<br>year_participation=1977<br>cumsum=%{marker.size}<br>lat=%{lat}<br>lon=%{lon}<extra></extra>",
           "hovertext": [
            "Tamsweg"
           ],
           "lat": [
            47.1261065
           ],
           "legendgroup": "Tamsweg",
           "lon": [
            13.810381699999999
           ],
           "marker": {
            "color": "#19d3f3",
            "size": [
             1
            ],
            "sizemode": "area",
            "sizeref": 0.45
           },
           "name": "Tamsweg",
           "showlegend": true,
           "type": "scattergeo"
          },
          {
           "geo": "geo",
           "hovertemplate": "<b>%{hovertext}</b><br><br>city_name=Ottobrunn<br>year_participation=1977<br>cumsum=%{marker.size}<br>lat=%{lat}<br>lon=%{lon}<extra></extra>",
           "hovertext": [
            "Ottobrunn"
           ],
           "lat": [
            48.0643823
           ],
           "legendgroup": "Ottobrunn",
           "lon": [
            11.667504199999998
           ],
           "marker": {
            "color": "#FF6692",
            "size": [
             1
            ],
            "sizemode": "area",
            "sizeref": 0.45
           },
           "name": "Ottobrunn",
           "showlegend": true,
           "type": "scattergeo"
          },
          {
           "geo": "geo",
           "hovertemplate": "<b>%{hovertext}</b><br><br>city_name=München<br>year_participation=1977<br>cumsum=%{marker.size}<br>lat=%{lat}<br>lon=%{lon}<extra></extra>",
           "hovertext": [
            "München"
           ],
           "lat": [
            48.1371079
           ],
           "legendgroup": "München",
           "lon": [
            11.575382199999998
           ],
           "marker": {
            "color": "#B6E880",
            "size": [
             3
            ],
            "sizemode": "area",
            "sizeref": 0.45
           },
           "name": "München",
           "showlegend": true,
           "type": "scattergeo"
          },
          {
           "geo": "geo",
           "hovertemplate": "<b>%{hovertext}</b><br><br>city_name=Hamburg<br>year_participation=1977<br>cumsum=%{marker.size}<br>lat=%{lat}<br>lon=%{lon}<extra></extra>",
           "hovertext": [
            "Hamburg"
           ],
           "lat": [
            53.543764100000004
           ],
           "legendgroup": "Hamburg",
           "lon": [
            10.009913300000001
           ],
           "marker": {
            "color": "#FF97FF",
            "size": [
             1
            ],
            "sizemode": "area",
            "sizeref": 0.45
           },
           "name": "Hamburg",
           "showlegend": true,
           "type": "scattergeo"
          },
          {
           "geo": "geo",
           "hovertemplate": "<b>%{hovertext}</b><br><br>city_name=Zürich<br>year_participation=1977<br>cumsum=%{marker.size}<br>lat=%{lat}<br>lon=%{lon}<extra></extra>",
           "hovertext": [
            "Zürich"
           ],
           "lat": [
            47.3723941
           ],
           "legendgroup": "Zürich",
           "lon": [
            8.5423328
           ],
           "marker": {
            "color": "#FECB52",
            "size": [
             1
            ],
            "sizemode": "area",
            "sizeref": 0.45
           },
           "name": "Zürich",
           "showlegend": true,
           "type": "scattergeo"
          },
          {
           "geo": "geo",
           "hovertemplate": "<b>%{hovertext}</b><br><br>city_name=Münster<br>year_participation=1977<br>cumsum=%{marker.size}<br>lat=%{lat}<br>lon=%{lon}<extra></extra>",
           "hovertext": [
            "Münster"
           ],
           "lat": [
            51.9625101
           ],
           "legendgroup": "Münster",
           "lon": [
            7.6251879
           ],
           "marker": {
            "color": "#636efa",
            "size": [
             1
            ],
            "sizemode": "area",
            "sizeref": 0.45
           },
           "name": "Münster",
           "showlegend": true,
           "type": "scattergeo"
          },
          {
           "geo": "geo",
           "hovertemplate": "<b>%{hovertext}</b><br><br>city_name=Berlin<br>year_participation=1977<br>cumsum=%{marker.size}<br>lat=%{lat}<br>lon=%{lon}<extra></extra>",
           "hovertext": [
            "Berlin"
           ],
           "lat": [
            52.517036499999996
           ],
           "legendgroup": "Berlin",
           "lon": [
            13.388859900000002
           ],
           "marker": {
            "color": "#EF553B",
            "size": [
             2
            ],
            "sizemode": "area",
            "sizeref": 0.45
           },
           "name": "Berlin",
           "showlegend": true,
           "type": "scattergeo"
          },
          {
           "geo": "geo",
           "hovertemplate": "<b>%{hovertext}</b><br><br>city_name=Salzburg<br>year_participation=1977<br>cumsum=%{marker.size}<br>lat=%{lat}<br>lon=%{lon}<extra></extra>",
           "hovertext": [
            "Salzburg"
           ],
           "lat": [
            47.798134600000004
           ],
           "legendgroup": "Salzburg",
           "lon": [
            13.046480599999999
           ],
           "marker": {
            "color": "#00cc96",
            "size": [
             1
            ],
            "sizemode": "area",
            "sizeref": 0.45
           },
           "name": "Salzburg",
           "showlegend": true,
           "type": "scattergeo"
          },
          {
           "geo": "geo",
           "hovertemplate": "<b>%{hovertext}</b><br><br>city_name=Frankfurt/Main<br>year_participation=1977<br>cumsum=%{marker.size}<br>lat=%{lat}<br>lon=%{lon}<extra></extra>",
           "hovertext": [
            "Frankfurt/Main"
           ],
           "lat": [
            50.053763700000005
           ],
           "legendgroup": "Frankfurt/Main",
           "lon": [
            8.637085800000001
           ],
           "marker": {
            "color": "#ab63fa",
            "size": [
             1
            ],
            "sizemode": "area",
            "sizeref": 0.45
           },
           "name": "Frankfurt/Main",
           "showlegend": true,
           "type": "scattergeo"
          },
          {
           "geo": "geo",
           "hovertemplate": "<b>%{hovertext}</b><br><br>city_name=Düren<br>year_participation=1977<br>cumsum=%{marker.size}<br>lat=%{lat}<br>lon=%{lon}<extra></extra>",
           "hovertext": [
            "Düren"
           ],
           "lat": [
            50.803168400000004
           ],
           "legendgroup": "Düren",
           "lon": [
            6.4820806
           ],
           "marker": {
            "color": "#FFA15A",
            "size": [
             1
            ],
            "sizemode": "area",
            "sizeref": 0.45
           },
           "name": "Düren",
           "showlegend": true,
           "type": "scattergeo"
          },
          {
           "geo": "geo",
           "hovertemplate": "<b>%{hovertext}</b><br><br>city_name=Nürnberg<br>year_participation=1977<br>cumsum=%{marker.size}<br>lat=%{lat}<br>lon=%{lon}<extra></extra>",
           "hovertext": [
            "Nürnberg"
           ],
           "lat": [
            49.453872
           ],
           "legendgroup": "Nürnberg",
           "lon": [
            11.077297999999999
           ],
           "marker": {
            "color": "#19d3f3",
            "size": [
             1
            ],
            "sizemode": "area",
            "sizeref": 0.45
           },
           "name": "Nürnberg",
           "showlegend": true,
           "type": "scattergeo"
          },
          {
           "geo": "geo",
           "hovertemplate": "<b>%{hovertext}</b><br><br>city_name=Niederbipp<br>year_participation=1977<br>cumsum=%{marker.size}<br>lat=%{lat}<br>lon=%{lon}<extra></extra>",
           "hovertext": [
            "Niederbipp"
           ],
           "lat": [
            47.2684936
           ],
           "legendgroup": "Niederbipp",
           "lon": [
            7.693334299999999
           ],
           "marker": {
            "color": "#FF6692",
            "size": [
             1
            ],
            "sizemode": "area",
            "sizeref": 0.45
           },
           "name": "Niederbipp",
           "showlegend": true,
           "type": "scattergeo"
          }
         ],
         "name": "1977"
        },
        {
         "data": [
          {
           "geo": "geo",
           "hovertemplate": "<b>%{hovertext}</b><br><br>city_name=Wien<br>year_participation=1978<br>cumsum=%{marker.size}<br>lat=%{lat}<br>lon=%{lon}<extra></extra>",
           "hovertext": [
            "Wien"
           ],
           "lat": [
            48.2083537
           ],
           "legendgroup": "Wien",
           "lon": [
            16.372504199999998
           ],
           "marker": {
            "color": "#00cc96",
            "size": [
             6
            ],
            "sizemode": "area",
            "sizeref": 0.45
           },
           "name": "Wien",
           "showlegend": true,
           "type": "scattergeo"
          },
          {
           "geo": "geo",
           "hovertemplate": "<b>%{hovertext}</b><br><br>city_name=München<br>year_participation=1978<br>cumsum=%{marker.size}<br>lat=%{lat}<br>lon=%{lon}<extra></extra>",
           "hovertext": [
            "München"
           ],
           "lat": [
            48.1371079
           ],
           "legendgroup": "München",
           "lon": [
            11.575382199999998
           ],
           "marker": {
            "color": "#B6E880",
            "size": [
             6
            ],
            "sizemode": "area",
            "sizeref": 0.45
           },
           "name": "München",
           "showlegend": true,
           "type": "scattergeo"
          },
          {
           "geo": "geo",
           "hovertemplate": "<b>%{hovertext}</b><br><br>city_name=Berlin<br>year_participation=1978<br>cumsum=%{marker.size}<br>lat=%{lat}<br>lon=%{lon}<extra></extra>",
           "hovertext": [
            "Berlin"
           ],
           "lat": [
            52.517036499999996
           ],
           "legendgroup": "Berlin",
           "lon": [
            13.388859900000002
           ],
           "marker": {
            "color": "#EF553B",
            "size": [
             3
            ],
            "sizemode": "area",
            "sizeref": 0.45
           },
           "name": "Berlin",
           "showlegend": true,
           "type": "scattergeo"
          },
          {
           "geo": "geo",
           "hovertemplate": "<b>%{hovertext}</b><br><br>city_name=Salzburg<br>year_participation=1978<br>cumsum=%{marker.size}<br>lat=%{lat}<br>lon=%{lon}<extra></extra>",
           "hovertext": [
            "Salzburg"
           ],
           "lat": [
            47.798134600000004
           ],
           "legendgroup": "Salzburg",
           "lon": [
            13.046480599999999
           ],
           "marker": {
            "color": "#00cc96",
            "size": [
             2
            ],
            "sizemode": "area",
            "sizeref": 0.45
           },
           "name": "Salzburg",
           "showlegend": true,
           "type": "scattergeo"
          },
          {
           "geo": "geo",
           "hovertemplate": "<b>%{hovertext}</b><br><br>city_name=Frankfurt/Main<br>year_participation=1978<br>cumsum=%{marker.size}<br>lat=%{lat}<br>lon=%{lon}<extra></extra>",
           "hovertext": [
            "Frankfurt/Main"
           ],
           "lat": [
            50.053763700000005
           ],
           "legendgroup": "Frankfurt/Main",
           "lon": [
            8.637085800000001
           ],
           "marker": {
            "color": "#ab63fa",
            "size": [
             2
            ],
            "sizemode": "area",
            "sizeref": 0.45
           },
           "name": "Frankfurt/Main",
           "showlegend": true,
           "type": "scattergeo"
          },
          {
           "geo": "geo",
           "hovertemplate": "<b>%{hovertext}</b><br><br>city_name=Nürnberg<br>year_participation=1978<br>cumsum=%{marker.size}<br>lat=%{lat}<br>lon=%{lon}<extra></extra>",
           "hovertext": [
            "Nürnberg"
           ],
           "lat": [
            49.453872
           ],
           "legendgroup": "Nürnberg",
           "lon": [
            11.077297999999999
           ],
           "marker": {
            "color": "#19d3f3",
            "size": [
             2
            ],
            "sizemode": "area",
            "sizeref": 0.45
           },
           "name": "Nürnberg",
           "showlegend": true,
           "type": "scattergeo"
          },
          {
           "geo": "geo",
           "hovertemplate": "<b>%{hovertext}</b><br><br>city_name=Weingarten<br>year_participation=1978<br>cumsum=%{marker.size}<br>lat=%{lat}<br>lon=%{lon}<extra></extra>",
           "hovertext": [
            "Weingarten"
           ],
           "lat": [
            47.8075299
           ],
           "legendgroup": "Weingarten",
           "lon": [
            9.643114500000001
           ],
           "marker": {
            "color": "#B6E880",
            "size": [
             1
            ],
            "sizemode": "area",
            "sizeref": 0.45
           },
           "name": "Weingarten",
           "showlegend": true,
           "type": "scattergeo"
          },
          {
           "geo": "geo",
           "hovertemplate": "<b>%{hovertext}</b><br><br>city_name=Wabern<br>year_participation=1978<br>cumsum=%{marker.size}<br>lat=%{lat}<br>lon=%{lon}<extra></extra>",
           "hovertext": [
            "Wabern"
           ],
           "lat": [
            51.101304999999996
           ],
           "legendgroup": "Wabern",
           "lon": [
            9.3499661
           ],
           "marker": {
            "color": "#FF97FF",
            "size": [
             1
            ],
            "sizemode": "area",
            "sizeref": 0.45
           },
           "name": "Wabern",
           "showlegend": true,
           "type": "scattergeo"
          },
          {
           "geo": "geo",
           "hovertemplate": "<b>%{hovertext}</b><br><br>city_name=Hermagor<br>year_participation=1978<br>cumsum=%{marker.size}<br>lat=%{lat}<br>lon=%{lon}<extra></extra>",
           "hovertext": [
            "Hermagor"
           ],
           "lat": [
            46.6268076
           ],
           "legendgroup": "Hermagor",
           "lon": [
            13.370238199999998
           ],
           "marker": {
            "color": "#FECB52",
            "size": [
             1
            ],
            "sizemode": "area",
            "sizeref": 0.45
           },
           "name": "Hermagor",
           "showlegend": true,
           "type": "scattergeo"
          },
          {
           "geo": "geo",
           "hovertemplate": "<b>%{hovertext}</b><br><br>city_name=Uetikon am See<br>year_participation=1978<br>cumsum=%{marker.size}<br>lat=%{lat}<br>lon=%{lon}<extra></extra>",
           "hovertext": [
            "Uetikon am See"
           ],
           "lat": [
            47.269368
           ],
           "legendgroup": "Uetikon am See",
           "lon": [
            8.68316
           ],
           "marker": {
            "color": "#636efa",
            "size": [
             1
            ],
            "sizemode": "area",
            "sizeref": 0.45
           },
           "name": "Uetikon am See",
           "showlegend": true,
           "type": "scattergeo"
          },
          {
           "geo": "geo",
           "hovertemplate": "<b>%{hovertext}</b><br><br>city_name=Hameln<br>year_participation=1978<br>cumsum=%{marker.size}<br>lat=%{lat}<br>lon=%{lon}<extra></extra>",
           "hovertext": [
            "Hameln"
           ],
           "lat": [
            52.1039941
           ],
           "legendgroup": "Hameln",
           "lon": [
            9.3561569
           ],
           "marker": {
            "color": "#EF553B",
            "size": [
             1
            ],
            "sizemode": "area",
            "sizeref": 0.45
           },
           "name": "Hameln",
           "showlegend": true,
           "type": "scattergeo"
          },
          {
           "geo": "geo",
           "hovertemplate": "<b>%{hovertext}</b><br><br>city_name=Puch bei Salzburg<br>year_participation=1978<br>cumsum=%{marker.size}<br>lat=%{lat}<br>lon=%{lon}<extra></extra>",
           "hovertext": [
            "Puch bei Salzburg"
           ],
           "lat": [
            47.7177877
           ],
           "legendgroup": "Puch bei Salzburg",
           "lon": [
            13.0907302
           ],
           "marker": {
            "color": "#00cc96",
            "size": [
             1
            ],
            "sizemode": "area",
            "sizeref": 0.45
           },
           "name": "Puch bei Salzburg",
           "showlegend": true,
           "type": "scattergeo"
          },
          {
           "geo": "geo",
           "hovertemplate": "<b>%{hovertext}</b><br><br>city_name=Neumarkt<br>year_participation=1978<br>cumsum=%{marker.size}<br>lat=%{lat}<br>lon=%{lon}<extra></extra>",
           "hovertext": [
            "Neumarkt"
           ],
           "lat": [
            49.279624
           ],
           "legendgroup": "Neumarkt",
           "lon": [
            11.4594662
           ],
           "marker": {
            "color": "#ab63fa",
            "size": [
             1
            ],
            "sizemode": "area",
            "sizeref": 0.45
           },
           "name": "Neumarkt",
           "showlegend": true,
           "type": "scattergeo"
          },
          {
           "geo": "geo",
           "hovertemplate": "<b>%{hovertext}</b><br><br>city_name=Groß Glienicke<br>year_participation=1978<br>cumsum=%{marker.size}<br>lat=%{lat}<br>lon=%{lon}<extra></extra>",
           "hovertext": [
            "Groß Glienicke"
           ],
           "lat": [
            52.466598100000006
           ],
           "legendgroup": "Groß Glienicke",
           "lon": [
            13.1045109
           ],
           "marker": {
            "color": "#FFA15A",
            "size": [
             1
            ],
            "sizemode": "area",
            "sizeref": 0.45
           },
           "name": "Groß Glienicke",
           "showlegend": true,
           "type": "scattergeo"
          },
          {
           "geo": "geo",
           "hovertemplate": "<b>%{hovertext}</b><br><br>city_name=Wiesbaden<br>year_participation=1978<br>cumsum=%{marker.size}<br>lat=%{lat}<br>lon=%{lon}<extra></extra>",
           "hovertext": [
            "Wiesbaden"
           ],
           "lat": [
            50.082038399999995
           ],
           "legendgroup": "Wiesbaden",
           "lon": [
            8.2416556
           ],
           "marker": {
            "color": "#19d3f3",
            "size": [
             1
            ],
            "sizemode": "area",
            "sizeref": 0.45
           },
           "name": "Wiesbaden",
           "showlegend": true,
           "type": "scattergeo"
          },
          {
           "geo": "geo",
           "hovertemplate": "<b>%{hovertext}</b><br><br>city_name=Bern<br>year_participation=1978<br>cumsum=%{marker.size}<br>lat=%{lat}<br>lon=%{lon}<extra></extra>",
           "hovertext": [
            "Bern"
           ],
           "lat": [
            46.9482713
           ],
           "legendgroup": "Bern",
           "lon": [
            7.4514512
           ],
           "marker": {
            "color": "#FF6692",
            "size": [
             1
            ],
            "sizemode": "area",
            "sizeref": 0.45
           },
           "name": "Bern",
           "showlegend": true,
           "type": "scattergeo"
          },
          {
           "geo": "geo",
           "hovertemplate": "<b>%{hovertext}</b><br><br>city_name=Konstanz<br>year_participation=1978<br>cumsum=%{marker.size}<br>lat=%{lat}<br>lon=%{lon}<extra></extra>",
           "hovertext": [
            "Konstanz"
           ],
           "lat": [
            47.659216
           ],
           "legendgroup": "Konstanz",
           "lon": [
            9.175071800000001
           ],
           "marker": {
            "color": "#B6E880",
            "size": [
             1
            ],
            "sizemode": "area",
            "sizeref": 0.45
           },
           "name": "Konstanz",
           "showlegend": true,
           "type": "scattergeo"
          },
          {
           "geo": "geo",
           "hovertemplate": "<b>%{hovertext}</b><br><br>city_name=Küttigen<br>year_participation=1978<br>cumsum=%{marker.size}<br>lat=%{lat}<br>lon=%{lon}<extra></extra>",
           "hovertext": [
            "Küttigen"
           ],
           "lat": [
            47.41945379999999
           ],
           "legendgroup": "Küttigen",
           "lon": [
            8.0432568
           ],
           "marker": {
            "color": "#FF97FF",
            "size": [
             1
            ],
            "sizemode": "area",
            "sizeref": 0.45
           },
           "name": "Küttigen",
           "showlegend": true,
           "type": "scattergeo"
          },
          {
           "geo": "geo",
           "hovertemplate": "<b>%{hovertext}</b><br><br>city_name=La Neuveville<br>year_participation=1978<br>cumsum=%{marker.size}<br>lat=%{lat}<br>lon=%{lon}<extra></extra>",
           "hovertext": [
            "La Neuveville"
           ],
           "lat": [
            47.0637688
           ],
           "legendgroup": "La Neuveville",
           "lon": [
            7.0927997000000005
           ],
           "marker": {
            "color": "#FECB52",
            "size": [
             1
            ],
            "sizemode": "area",
            "sizeref": 0.45
           },
           "name": "La Neuveville",
           "showlegend": true,
           "type": "scattergeo"
          },
          {
           "geo": "geo",
           "hovertemplate": "<b>%{hovertext}</b><br><br>city_name=Lend<br>year_participation=1978<br>cumsum=%{marker.size}<br>lat=%{lat}<br>lon=%{lon}<extra></extra>",
           "hovertext": [
            "Lend"
           ],
           "lat": [
            47.298525899999994
           ],
           "legendgroup": "Lend",
           "lon": [
            13.0439039
           ],
           "marker": {
            "color": "#636efa",
            "size": [
             1
            ],
            "sizemode": "area",
            "sizeref": 0.45
           },
           "name": "Lend",
           "showlegend": true,
           "type": "scattergeo"
          }
         ],
         "name": "1978"
        },
        {
         "data": [
          {
           "geo": "geo",
           "hovertemplate": "<b>%{hovertext}</b><br><br>city_name=Wien<br>year_participation=1979<br>cumsum=%{marker.size}<br>lat=%{lat}<br>lon=%{lon}<extra></extra>",
           "hovertext": [
            "Wien"
           ],
           "lat": [
            48.2083537
           ],
           "legendgroup": "Wien",
           "lon": [
            16.372504199999998
           ],
           "marker": {
            "color": "#00cc96",
            "size": [
             10
            ],
            "sizemode": "area",
            "sizeref": 0.45
           },
           "name": "Wien",
           "showlegend": true,
           "type": "scattergeo"
          },
          {
           "geo": "geo",
           "hovertemplate": "<b>%{hovertext}</b><br><br>city_name=Klagenfurt<br>year_participation=1979<br>cumsum=%{marker.size}<br>lat=%{lat}<br>lon=%{lon}<extra></extra>",
           "hovertext": [
            "Klagenfurt"
           ],
           "lat": [
            46.6228162
           ],
           "legendgroup": "Klagenfurt",
           "lon": [
            14.307960399999999
           ],
           "marker": {
            "color": "#ab63fa",
            "size": [
             3
            ],
            "sizemode": "area",
            "sizeref": 0.45
           },
           "name": "Klagenfurt",
           "showlegend": true,
           "type": "scattergeo"
          },
          {
           "geo": "geo",
           "hovertemplate": "<b>%{hovertext}</b><br><br>city_name=München<br>year_participation=1979<br>cumsum=%{marker.size}<br>lat=%{lat}<br>lon=%{lon}<extra></extra>",
           "hovertext": [
            "München"
           ],
           "lat": [
            48.1371079
           ],
           "legendgroup": "München",
           "lon": [
            11.575382199999998
           ],
           "marker": {
            "color": "#B6E880",
            "size": [
             10
            ],
            "sizemode": "area",
            "sizeref": 0.45
           },
           "name": "München",
           "showlegend": true,
           "type": "scattergeo"
          },
          {
           "geo": "geo",
           "hovertemplate": "<b>%{hovertext}</b><br><br>city_name=Hamburg<br>year_participation=1979<br>cumsum=%{marker.size}<br>lat=%{lat}<br>lon=%{lon}<extra></extra>",
           "hovertext": [
            "Hamburg"
           ],
           "lat": [
            53.543764100000004
           ],
           "legendgroup": "Hamburg",
           "lon": [
            10.009913300000001
           ],
           "marker": {
            "color": "#FF97FF",
            "size": [
             2
            ],
            "sizemode": "area",
            "sizeref": 0.45
           },
           "name": "Hamburg",
           "showlegend": true,
           "type": "scattergeo"
          },
          {
           "geo": "geo",
           "hovertemplate": "<b>%{hovertext}</b><br><br>city_name=Zürich<br>year_participation=1979<br>cumsum=%{marker.size}<br>lat=%{lat}<br>lon=%{lon}<extra></extra>",
           "hovertext": [
            "Zürich"
           ],
           "lat": [
            47.3723941
           ],
           "legendgroup": "Zürich",
           "lon": [
            8.5423328
           ],
           "marker": {
            "color": "#FECB52",
            "size": [
             2
            ],
            "sizemode": "area",
            "sizeref": 0.45
           },
           "name": "Zürich",
           "showlegend": true,
           "type": "scattergeo"
          },
          {
           "geo": "geo",
           "hovertemplate": "<b>%{hovertext}</b><br><br>city_name=Berlin<br>year_participation=1979<br>cumsum=%{marker.size}<br>lat=%{lat}<br>lon=%{lon}<extra></extra>",
           "hovertext": [
            "Berlin"
           ],
           "lat": [
            52.517036499999996
           ],
           "legendgroup": "Berlin",
           "lon": [
            13.388859900000002
           ],
           "marker": {
            "color": "#EF553B",
            "size": [
             4
            ],
            "sizemode": "area",
            "sizeref": 0.45
           },
           "name": "Berlin",
           "showlegend": true,
           "type": "scattergeo"
          },
          {
           "geo": "geo",
           "hovertemplate": "<b>%{hovertext}</b><br><br>city_name=Salzburg<br>year_participation=1979<br>cumsum=%{marker.size}<br>lat=%{lat}<br>lon=%{lon}<extra></extra>",
           "hovertext": [
            "Salzburg"
           ],
           "lat": [
            47.798134600000004
           ],
           "legendgroup": "Salzburg",
           "lon": [
            13.046480599999999
           ],
           "marker": {
            "color": "#00cc96",
            "size": [
             5
            ],
            "sizemode": "area",
            "sizeref": 0.45
           },
           "name": "Salzburg",
           "showlegend": true,
           "type": "scattergeo"
          },
          {
           "geo": "geo",
           "hovertemplate": "<b>%{hovertext}</b><br><br>city_name=Frankfurt/Main<br>year_participation=1979<br>cumsum=%{marker.size}<br>lat=%{lat}<br>lon=%{lon}<extra></extra>",
           "hovertext": [
            "Frankfurt/Main"
           ],
           "lat": [
            50.053763700000005
           ],
           "legendgroup": "Frankfurt/Main",
           "lon": [
            8.637085800000001
           ],
           "marker": {
            "color": "#ab63fa",
            "size": [
             3
            ],
            "sizemode": "area",
            "sizeref": 0.45
           },
           "name": "Frankfurt/Main",
           "showlegend": true,
           "type": "scattergeo"
          },
          {
           "geo": "geo",
           "hovertemplate": "<b>%{hovertext}</b><br><br>city_name=Düren<br>year_participation=1979<br>cumsum=%{marker.size}<br>lat=%{lat}<br>lon=%{lon}<extra></extra>",
           "hovertext": [
            "Düren"
           ],
           "lat": [
            50.803168400000004
           ],
           "legendgroup": "Düren",
           "lon": [
            6.4820806
           ],
           "marker": {
            "color": "#FFA15A",
            "size": [
             2
            ],
            "sizemode": "area",
            "sizeref": 0.45
           },
           "name": "Düren",
           "showlegend": true,
           "type": "scattergeo"
          },
          {
           "geo": "geo",
           "hovertemplate": "<b>%{hovertext}</b><br><br>city_name=Bern<br>year_participation=1979<br>cumsum=%{marker.size}<br>lat=%{lat}<br>lon=%{lon}<extra></extra>",
           "hovertext": [
            "Bern"
           ],
           "lat": [
            46.9482713
           ],
           "legendgroup": "Bern",
           "lon": [
            7.4514512
           ],
           "marker": {
            "color": "#FF6692",
            "size": [
             2
            ],
            "sizemode": "area",
            "sizeref": 0.45
           },
           "name": "Bern",
           "showlegend": true,
           "type": "scattergeo"
          },
          {
           "geo": "geo",
           "hovertemplate": "<b>%{hovertext}</b><br><br>city_name=Ammerland<br>year_participation=1979<br>cumsum=%{marker.size}<br>lat=%{lat}<br>lon=%{lon}<extra></extra>",
           "hovertext": [
            "Ammerland"
           ],
           "lat": [
            53.2138834
           ],
           "legendgroup": "Ammerland",
           "lon": [
            8.0055549
           ],
           "marker": {
            "color": "#EF553B",
            "size": [
             1
            ],
            "sizemode": "area",
            "sizeref": 0.45
           },
           "name": "Ammerland",
           "showlegend": true,
           "type": "scattergeo"
          },
          {
           "geo": "geo",
           "hovertemplate": "<b>%{hovertext}</b><br><br>city_name=Graz<br>year_participation=1979<br>cumsum=%{marker.size}<br>lat=%{lat}<br>lon=%{lon}<extra></extra>",
           "hovertext": [
            "Graz"
           ],
           "lat": [
            47.070867799999995
           ],
           "legendgroup": "Graz",
           "lon": [
            15.438278599999999
           ],
           "marker": {
            "color": "#00cc96",
            "size": [
             1
            ],
            "sizemode": "area",
            "sizeref": 0.45
           },
           "name": "Graz",
           "showlegend": true,
           "type": "scattergeo"
          },
          {
           "geo": "geo",
           "hovertemplate": "<b>%{hovertext}</b><br><br>city_name=München-Pullach<br>year_participation=1979<br>cumsum=%{marker.size}<br>lat=%{lat}<br>lon=%{lon}<extra></extra>",
           "hovertext": [
            "München-Pullach"
           ],
           "lat": [
            48.055612200000006
           ],
           "legendgroup": "München-Pullach",
           "lon": [
            11.5217455
           ],
           "marker": {
            "color": "#ab63fa",
            "size": [
             1
            ],
            "sizemode": "area",
            "sizeref": 0.45
           },
           "name": "München-Pullach",
           "showlegend": true,
           "type": "scattergeo"
          },
          {
           "geo": "geo",
           "hovertemplate": "<b>%{hovertext}</b><br><br>city_name=Kilchberg<br>year_participation=1979<br>cumsum=%{marker.size}<br>lat=%{lat}<br>lon=%{lon}<extra></extra>",
           "hovertext": [
            "Kilchberg"
           ],
           "lat": [
            47.3225316
           ],
           "legendgroup": "Kilchberg",
           "lon": [
            8.545948300000001
           ],
           "marker": {
            "color": "#FFA15A",
            "size": [
             1
            ],
            "sizemode": "area",
            "sizeref": 0.45
           },
           "name": "Kilchberg",
           "showlegend": true,
           "type": "scattergeo"
          },
          {
           "geo": "geo",
           "hovertemplate": "<b>%{hovertext}</b><br><br>city_name=Pohlheim<br>year_participation=1979<br>cumsum=%{marker.size}<br>lat=%{lat}<br>lon=%{lon}<extra></extra>",
           "hovertext": [
            "Pohlheim"
           ],
           "lat": [
            50.527946500000006
           ],
           "legendgroup": "Pohlheim",
           "lon": [
            8.724012400000001
           ],
           "marker": {
            "color": "#19d3f3",
            "size": [
             1
            ],
            "sizemode": "area",
            "sizeref": 0.45
           },
           "name": "Pohlheim",
           "showlegend": true,
           "type": "scattergeo"
          },
          {
           "geo": "geo",
           "hovertemplate": "<b>%{hovertext}</b><br><br>city_name=Murnau<br>year_participation=1979<br>cumsum=%{marker.size}<br>lat=%{lat}<br>lon=%{lon}<extra></extra>",
           "hovertext": [
            "Murnau"
           ],
           "lat": [
            47.6778816
           ],
           "legendgroup": "Murnau",
           "lon": [
            11.2011903
           ],
           "marker": {
            "color": "#FF6692",
            "size": [
             1
            ],
            "sizemode": "area",
            "sizeref": 0.45
           },
           "name": "Murnau",
           "showlegend": true,
           "type": "scattergeo"
          },
          {
           "geo": "geo",
           "hovertemplate": "<b>%{hovertext}</b><br><br>city_name=Lohr-Steinbach<br>year_participation=1979<br>cumsum=%{marker.size}<br>lat=%{lat}<br>lon=%{lon}<extra></extra>",
           "hovertext": [
            "Lohr-Steinbach"
           ],
           "lat": [
            50.0068659
           ],
           "legendgroup": "Lohr-Steinbach",
           "lon": [
            9.605077900000001
           ],
           "marker": {
            "color": "#B6E880",
            "size": [
             1
            ],
            "sizemode": "area",
            "sizeref": 0.45
           },
           "name": "Lohr-Steinbach",
           "showlegend": true,
           "type": "scattergeo"
          },
          {
           "geo": "geo",
           "hovertemplate": "<b>%{hovertext}</b><br><br>city_name=Jesteburg<br>year_participation=1979<br>cumsum=%{marker.size}<br>lat=%{lat}<br>lon=%{lon}<extra></extra>",
           "hovertext": [
            "Jesteburg"
           ],
           "lat": [
            53.30852660000001
           ],
           "legendgroup": "Jesteburg",
           "lon": [
            9.9579883
           ],
           "marker": {
            "color": "#FF97FF",
            "size": [
             1
            ],
            "sizemode": "area",
            "sizeref": 0.45
           },
           "name": "Jesteburg",
           "showlegend": true,
           "type": "scattergeo"
          }
         ],
         "name": "1979"
        },
        {
         "data": [
          {
           "geo": "geo",
           "hovertemplate": "<b>%{hovertext}</b><br><br>city_name=Klagenfurt<br>year_participation=1980<br>cumsum=%{marker.size}<br>lat=%{lat}<br>lon=%{lon}<extra></extra>",
           "hovertext": [
            "Klagenfurt"
           ],
           "lat": [
            46.6228162
           ],
           "legendgroup": "Klagenfurt",
           "lon": [
            14.307960399999999
           ],
           "marker": {
            "color": "#ab63fa",
            "size": [
             5
            ],
            "sizemode": "area",
            "sizeref": 0.45
           },
           "name": "Klagenfurt",
           "showlegend": true,
           "type": "scattergeo"
          },
          {
           "geo": "geo",
           "hovertemplate": "<b>%{hovertext}</b><br><br>city_name=Villach<br>year_participation=1980<br>cumsum=%{marker.size}<br>lat=%{lat}<br>lon=%{lon}<extra></extra>",
           "hovertext": [
            "Villach"
           ],
           "lat": [
            46.6167284
           ],
           "legendgroup": "Villach",
           "lon": [
            13.850026800000002
           ],
           "marker": {
            "color": "#FFA15A",
            "size": [
             2
            ],
            "sizemode": "area",
            "sizeref": 0.45
           },
           "name": "Villach",
           "showlegend": true,
           "type": "scattergeo"
          },
          {
           "geo": "geo",
           "hovertemplate": "<b>%{hovertext}</b><br><br>city_name=München<br>year_participation=1980<br>cumsum=%{marker.size}<br>lat=%{lat}<br>lon=%{lon}<extra></extra>",
           "hovertext": [
            "München"
           ],
           "lat": [
            48.1371079
           ],
           "legendgroup": "München",
           "lon": [
            11.575382199999998
           ],
           "marker": {
            "color": "#B6E880",
            "size": [
             13
            ],
            "sizemode": "area",
            "sizeref": 0.45
           },
           "name": "München",
           "showlegend": true,
           "type": "scattergeo"
          },
          {
           "geo": "geo",
           "hovertemplate": "<b>%{hovertext}</b><br><br>city_name=Hamburg<br>year_participation=1980<br>cumsum=%{marker.size}<br>lat=%{lat}<br>lon=%{lon}<extra></extra>",
           "hovertext": [
            "Hamburg"
           ],
           "lat": [
            53.543764100000004
           ],
           "legendgroup": "Hamburg",
           "lon": [
            10.009913300000001
           ],
           "marker": {
            "color": "#FF97FF",
            "size": [
             3
            ],
            "sizemode": "area",
            "sizeref": 0.45
           },
           "name": "Hamburg",
           "showlegend": true,
           "type": "scattergeo"
          },
          {
           "geo": "geo",
           "hovertemplate": "<b>%{hovertext}</b><br><br>city_name=Berlin<br>year_participation=1980<br>cumsum=%{marker.size}<br>lat=%{lat}<br>lon=%{lon}<extra></extra>",
           "hovertext": [
            "Berlin"
           ],
           "lat": [
            52.517036499999996
           ],
           "legendgroup": "Berlin",
           "lon": [
            13.388859900000002
           ],
           "marker": {
            "color": "#EF553B",
            "size": [
             7
            ],
            "sizemode": "area",
            "sizeref": 0.45
           },
           "name": "Berlin",
           "showlegend": true,
           "type": "scattergeo"
          },
          {
           "geo": "geo",
           "hovertemplate": "<b>%{hovertext}</b><br><br>city_name=Salzburg<br>year_participation=1980<br>cumsum=%{marker.size}<br>lat=%{lat}<br>lon=%{lon}<extra></extra>",
           "hovertext": [
            "Salzburg"
           ],
           "lat": [
            47.798134600000004
           ],
           "legendgroup": "Salzburg",
           "lon": [
            13.046480599999999
           ],
           "marker": {
            "color": "#00cc96",
            "size": [
             6
            ],
            "sizemode": "area",
            "sizeref": 0.45
           },
           "name": "Salzburg",
           "showlegend": true,
           "type": "scattergeo"
          },
          {
           "geo": "geo",
           "hovertemplate": "<b>%{hovertext}</b><br><br>city_name=Frankfurt/Main<br>year_participation=1980<br>cumsum=%{marker.size}<br>lat=%{lat}<br>lon=%{lon}<extra></extra>",
           "hovertext": [
            "Frankfurt/Main"
           ],
           "lat": [
            50.053763700000005
           ],
           "legendgroup": "Frankfurt/Main",
           "lon": [
            8.637085800000001
           ],
           "marker": {
            "color": "#ab63fa",
            "size": [
             4
            ],
            "sizemode": "area",
            "sizeref": 0.45
           },
           "name": "Frankfurt/Main",
           "showlegend": true,
           "type": "scattergeo"
          },
          {
           "geo": "geo",
           "hovertemplate": "<b>%{hovertext}</b><br><br>city_name=Weingarten<br>year_participation=1980<br>cumsum=%{marker.size}<br>lat=%{lat}<br>lon=%{lon}<extra></extra>",
           "hovertext": [
            "Weingarten"
           ],
           "lat": [
            47.8075299
           ],
           "legendgroup": "Weingarten",
           "lon": [
            9.643114500000001
           ],
           "marker": {
            "color": "#B6E880",
            "size": [
             2
            ],
            "sizemode": "area",
            "sizeref": 0.45
           },
           "name": "Weingarten",
           "showlegend": true,
           "type": "scattergeo"
          },
          {
           "geo": "geo",
           "hovertemplate": "<b>%{hovertext}</b><br><br>city_name=Bern<br>year_participation=1980<br>cumsum=%{marker.size}<br>lat=%{lat}<br>lon=%{lon}<extra></extra>",
           "hovertext": [
            "Bern"
           ],
           "lat": [
            46.9482713
           ],
           "legendgroup": "Bern",
           "lon": [
            7.4514512
           ],
           "marker": {
            "color": "#FF6692",
            "size": [
             3
            ],
            "sizemode": "area",
            "sizeref": 0.45
           },
           "name": "Bern",
           "showlegend": true,
           "type": "scattergeo"
          },
          {
           "geo": "geo",
           "hovertemplate": "<b>%{hovertext}</b><br><br>city_name=Konstanz<br>year_participation=1980<br>cumsum=%{marker.size}<br>lat=%{lat}<br>lon=%{lon}<extra></extra>",
           "hovertext": [
            "Konstanz"
           ],
           "lat": [
            47.659216
           ],
           "legendgroup": "Konstanz",
           "lon": [
            9.175071800000001
           ],
           "marker": {
            "color": "#B6E880",
            "size": [
             2
            ],
            "sizemode": "area",
            "sizeref": 0.45
           },
           "name": "Konstanz",
           "showlegend": true,
           "type": "scattergeo"
          },
          {
           "geo": "geo",
           "hovertemplate": "<b>%{hovertext}</b><br><br>city_name=Basel<br>year_participation=1980<br>cumsum=%{marker.size}<br>lat=%{lat}<br>lon=%{lon}<extra></extra>",
           "hovertext": [
            "Basel"
           ],
           "lat": [
            47.55810770000001
           ],
           "legendgroup": "Basel",
           "lon": [
            7.5878261
           ],
           "marker": {
            "color": "#FECB52",
            "size": [
             1
            ],
            "sizemode": "area",
            "sizeref": 0.45
           },
           "name": "Basel",
           "showlegend": true,
           "type": "scattergeo"
          },
          {
           "geo": "geo",
           "hovertemplate": "<b>%{hovertext}</b><br><br>city_name=Heidelberg<br>year_participation=1980<br>cumsum=%{marker.size}<br>lat=%{lat}<br>lon=%{lon}<extra></extra>",
           "hovertext": [
            "Heidelberg"
           ],
           "lat": [
            49.40935820000001
           ],
           "legendgroup": "Heidelberg",
           "lon": [
            8.694724
           ],
           "marker": {
            "color": "#636efa",
            "size": [
             1
            ],
            "sizemode": "area",
            "sizeref": 0.45
           },
           "name": "Heidelberg",
           "showlegend": true,
           "type": "scattergeo"
          },
          {
           "geo": "geo",
           "hovertemplate": "<b>%{hovertext}</b><br><br>city_name=Unterkulm<br>year_participation=1980<br>cumsum=%{marker.size}<br>lat=%{lat}<br>lon=%{lon}<extra></extra>",
           "hovertext": [
            "Unterkulm"
           ],
           "lat": [
            47.3103727
           ],
           "legendgroup": "Unterkulm",
           "lon": [
            8.11471
           ],
           "marker": {
            "color": "#EF553B",
            "size": [
             1
            ],
            "sizemode": "area",
            "sizeref": 0.45
           },
           "name": "Unterkulm",
           "showlegend": true,
           "type": "scattergeo"
          },
          {
           "geo": "geo",
           "hovertemplate": "<b>%{hovertext}</b><br><br>city_name=Paris<br>year_participation=1980<br>cumsum=%{marker.size}<br>lat=%{lat}<br>lon=%{lon}<extra></extra>",
           "hovertext": [
            "Paris"
           ],
           "lat": [
            48.856696899999996
           ],
           "legendgroup": "Paris",
           "lon": [
            2.3514616000000004
           ],
           "marker": {
            "color": "#00cc96",
            "size": [
             1
            ],
            "sizemode": "area",
            "sizeref": 0.45
           },
           "name": "Paris",
           "showlegend": true,
           "type": "scattergeo"
          },
          {
           "geo": "geo",
           "hovertemplate": "<b>%{hovertext}</b><br><br>city_name=Heppenheim<br>year_participation=1980<br>cumsum=%{marker.size}<br>lat=%{lat}<br>lon=%{lon}<extra></extra>",
           "hovertext": [
            "Heppenheim"
           ],
           "lat": [
            49.6408048
           ],
           "legendgroup": "Heppenheim",
           "lon": [
            8.6372164
           ],
           "marker": {
            "color": "#ab63fa",
            "size": [
             1
            ],
            "sizemode": "area",
            "sizeref": 0.45
           },
           "name": "Heppenheim",
           "showlegend": true,
           "type": "scattergeo"
          },
          {
           "geo": "geo",
           "hovertemplate": "<b>%{hovertext}</b><br><br>city_name=Bad VIlbel<br>year_participation=1980<br>cumsum=%{marker.size}<br>lat=%{lat}<br>lon=%{lon}<extra></extra>",
           "hovertext": [
            "Bad VIlbel"
           ],
           "lat": [
            50.1804837
           ],
           "legendgroup": "Bad VIlbel",
           "lon": [
            8.7410776
           ],
           "marker": {
            "color": "#FFA15A",
            "size": [
             1
            ],
            "sizemode": "area",
            "sizeref": 0.45
           },
           "name": "Bad VIlbel",
           "showlegend": true,
           "type": "scattergeo"
          },
          {
           "geo": "geo",
           "hovertemplate": "<b>%{hovertext}</b><br><br>city_name=Karlsruhe<br>year_participation=1980<br>cumsum=%{marker.size}<br>lat=%{lat}<br>lon=%{lon}<extra></extra>",
           "hovertext": [
            "Karlsruhe"
           ],
           "lat": [
            49.006870500000005
           ],
           "legendgroup": "Karlsruhe",
           "lon": [
            8.4034195
           ],
           "marker": {
            "color": "#19d3f3",
            "size": [
             1
            ],
            "sizemode": "area",
            "sizeref": 0.45
           },
           "name": "Karlsruhe",
           "showlegend": true,
           "type": "scattergeo"
          },
          {
           "geo": "geo",
           "hovertemplate": "<b>%{hovertext}</b><br><br>city_name=Höchst<br>year_participation=1980<br>cumsum=%{marker.size}<br>lat=%{lat}<br>lon=%{lon}<extra></extra>",
           "hovertext": [
            "Höchst"
           ],
           "lat": [
            50.099511799999995
           ],
           "legendgroup": "Höchst",
           "lon": [
            8.5452956
           ],
           "marker": {
            "color": "#FF6692",
            "size": [
             1
            ],
            "sizemode": "area",
            "sizeref": 0.45
           },
           "name": "Höchst",
           "showlegend": true,
           "type": "scattergeo"
          },
          {
           "geo": "geo",
           "hovertemplate": "<b>%{hovertext}</b><br><br>city_name=Eschenburg<br>year_participation=1980<br>cumsum=%{marker.size}<br>lat=%{lat}<br>lon=%{lon}<extra></extra>",
           "hovertext": [
            "Eschenburg"
           ],
           "lat": [
            50.814301
           ],
           "legendgroup": "Eschenburg",
           "lon": [
            8.3403065
           ],
           "marker": {
            "color": "#B6E880",
            "size": [
             1
            ],
            "sizemode": "area",
            "sizeref": 0.45
           },
           "name": "Eschenburg",
           "showlegend": true,
           "type": "scattergeo"
          },
          {
           "geo": "geo",
           "hovertemplate": "<b>%{hovertext}</b><br><br>city_name=Bochum<br>year_participation=1980<br>cumsum=%{marker.size}<br>lat=%{lat}<br>lon=%{lon}<extra></extra>",
           "hovertext": [
            "Bochum"
           ],
           "lat": [
            51.4818111
           ],
           "legendgroup": "Bochum",
           "lon": [
            7.219663499999999
           ],
           "marker": {
            "color": "#FF97FF",
            "size": [
             1
            ],
            "sizemode": "area",
            "sizeref": 0.45
           },
           "name": "Bochum",
           "showlegend": true,
           "type": "scattergeo"
          },
          {
           "geo": "geo",
           "hovertemplate": "<b>%{hovertext}</b><br><br>city_name=Erlangen<br>year_participation=1980<br>cumsum=%{marker.size}<br>lat=%{lat}<br>lon=%{lon}<extra></extra>",
           "hovertext": [
            "Erlangen"
           ],
           "lat": [
            49.5981187
           ],
           "legendgroup": "Erlangen",
           "lon": [
            11.003645
           ],
           "marker": {
            "color": "#FECB52",
            "size": [
             1
            ],
            "sizemode": "area",
            "sizeref": 0.45
           },
           "name": "Erlangen",
           "showlegend": true,
           "type": "scattergeo"
          },
          {
           "geo": "geo",
           "hovertemplate": "<b>%{hovertext}</b><br><br>city_name=Worpswede<br>year_participation=1980<br>cumsum=%{marker.size}<br>lat=%{lat}<br>lon=%{lon}<extra></extra>",
           "hovertext": [
            "Worpswede"
           ],
           "lat": [
            53.22300179999999
           ],
           "legendgroup": "Worpswede",
           "lon": [
            8.928348199999999
           ],
           "marker": {
            "color": "#636efa",
            "size": [
             1
            ],
            "sizemode": "area",
            "sizeref": 0.45
           },
           "name": "Worpswede",
           "showlegend": true,
           "type": "scattergeo"
          }
         ],
         "name": "1980"
        },
        {
         "data": [
          {
           "geo": "geo",
           "hovertemplate": "<b>%{hovertext}</b><br><br>city_name=Wien<br>year_participation=1981<br>cumsum=%{marker.size}<br>lat=%{lat}<br>lon=%{lon}<extra></extra>",
           "hovertext": [
            "Wien"
           ],
           "lat": [
            48.2083537
           ],
           "legendgroup": "Wien",
           "lon": [
            16.372504199999998
           ],
           "marker": {
            "color": "#00cc96",
            "size": [
             12
            ],
            "sizemode": "area",
            "sizeref": 0.45
           },
           "name": "Wien",
           "showlegend": true,
           "type": "scattergeo"
          },
          {
           "geo": "geo",
           "hovertemplate": "<b>%{hovertext}</b><br><br>city_name=Klagenfurt<br>year_participation=1981<br>cumsum=%{marker.size}<br>lat=%{lat}<br>lon=%{lon}<extra></extra>",
           "hovertext": [
            "Klagenfurt"
           ],
           "lat": [
            46.6228162
           ],
           "legendgroup": "Klagenfurt",
           "lon": [
            14.307960399999999
           ],
           "marker": {
            "color": "#ab63fa",
            "size": [
             6
            ],
            "sizemode": "area",
            "sizeref": 0.45
           },
           "name": "Klagenfurt",
           "showlegend": true,
           "type": "scattergeo"
          },
          {
           "geo": "geo",
           "hovertemplate": "<b>%{hovertext}</b><br><br>city_name=München<br>year_participation=1981<br>cumsum=%{marker.size}<br>lat=%{lat}<br>lon=%{lon}<extra></extra>",
           "hovertext": [
            "München"
           ],
           "lat": [
            48.1371079
           ],
           "legendgroup": "München",
           "lon": [
            11.575382199999998
           ],
           "marker": {
            "color": "#B6E880",
            "size": [
             15
            ],
            "sizemode": "area",
            "sizeref": 0.45
           },
           "name": "München",
           "showlegend": true,
           "type": "scattergeo"
          },
          {
           "geo": "geo",
           "hovertemplate": "<b>%{hovertext}</b><br><br>city_name=Hamburg<br>year_participation=1981<br>cumsum=%{marker.size}<br>lat=%{lat}<br>lon=%{lon}<extra></extra>",
           "hovertext": [
            "Hamburg"
           ],
           "lat": [
            53.543764100000004
           ],
           "legendgroup": "Hamburg",
           "lon": [
            10.009913300000001
           ],
           "marker": {
            "color": "#FF97FF",
            "size": [
             4
            ],
            "sizemode": "area",
            "sizeref": 0.45
           },
           "name": "Hamburg",
           "showlegend": true,
           "type": "scattergeo"
          },
          {
           "geo": "geo",
           "hovertemplate": "<b>%{hovertext}</b><br><br>city_name=Zürich<br>year_participation=1981<br>cumsum=%{marker.size}<br>lat=%{lat}<br>lon=%{lon}<extra></extra>",
           "hovertext": [
            "Zürich"
           ],
           "lat": [
            47.3723941
           ],
           "legendgroup": "Zürich",
           "lon": [
            8.5423328
           ],
           "marker": {
            "color": "#FECB52",
            "size": [
             3
            ],
            "sizemode": "area",
            "sizeref": 0.45
           },
           "name": "Zürich",
           "showlegend": true,
           "type": "scattergeo"
          },
          {
           "geo": "geo",
           "hovertemplate": "<b>%{hovertext}</b><br><br>city_name=Berlin<br>year_participation=1981<br>cumsum=%{marker.size}<br>lat=%{lat}<br>lon=%{lon}<extra></extra>",
           "hovertext": [
            "Berlin"
           ],
           "lat": [
            52.517036499999996
           ],
           "legendgroup": "Berlin",
           "lon": [
            13.388859900000002
           ],
           "marker": {
            "color": "#EF553B",
            "size": [
             11
            ],
            "sizemode": "area",
            "sizeref": 0.45
           },
           "name": "Berlin",
           "showlegend": true,
           "type": "scattergeo"
          },
          {
           "geo": "geo",
           "hovertemplate": "<b>%{hovertext}</b><br><br>city_name=Frankfurt/Main<br>year_participation=1981<br>cumsum=%{marker.size}<br>lat=%{lat}<br>lon=%{lon}<extra></extra>",
           "hovertext": [
            "Frankfurt/Main"
           ],
           "lat": [
            50.053763700000005
           ],
           "legendgroup": "Frankfurt/Main",
           "lon": [
            8.637085800000001
           ],
           "marker": {
            "color": "#ab63fa",
            "size": [
             6
            ],
            "sizemode": "area",
            "sizeref": 0.45
           },
           "name": "Frankfurt/Main",
           "showlegend": true,
           "type": "scattergeo"
          },
          {
           "geo": "geo",
           "hovertemplate": "<b>%{hovertext}</b><br><br>city_name=Bern<br>year_participation=1981<br>cumsum=%{marker.size}<br>lat=%{lat}<br>lon=%{lon}<extra></extra>",
           "hovertext": [
            "Bern"
           ],
           "lat": [
            46.9482713
           ],
           "legendgroup": "Bern",
           "lon": [
            7.4514512
           ],
           "marker": {
            "color": "#FF6692",
            "size": [
             4
            ],
            "sizemode": "area",
            "sizeref": 0.45
           },
           "name": "Bern",
           "showlegend": true,
           "type": "scattergeo"
          },
          {
           "geo": "geo",
           "hovertemplate": "<b>%{hovertext}</b><br><br>city_name=Graz<br>year_participation=1981<br>cumsum=%{marker.size}<br>lat=%{lat}<br>lon=%{lon}<extra></extra>",
           "hovertext": [
            "Graz"
           ],
           "lat": [
            47.070867799999995
           ],
           "legendgroup": "Graz",
           "lon": [
            15.438278599999999
           ],
           "marker": {
            "color": "#00cc96",
            "size": [
             2
            ],
            "sizemode": "area",
            "sizeref": 0.45
           },
           "name": "Graz",
           "showlegend": true,
           "type": "scattergeo"
          },
          {
           "geo": "geo",
           "hovertemplate": "<b>%{hovertext}</b><br><br>city_name=Basel<br>year_participation=1981<br>cumsum=%{marker.size}<br>lat=%{lat}<br>lon=%{lon}<extra></extra>",
           "hovertext": [
            "Basel"
           ],
           "lat": [
            47.55810770000001
           ],
           "legendgroup": "Basel",
           "lon": [
            7.5878261
           ],
           "marker": {
            "color": "#FECB52",
            "size": [
             3
            ],
            "sizemode": "area",
            "sizeref": 0.45
           },
           "name": "Basel",
           "showlegend": true,
           "type": "scattergeo"
          },
          {
           "geo": "geo",
           "hovertemplate": "<b>%{hovertext}</b><br><br>city_name=Rzeszow<br>year_participation=1981<br>cumsum=%{marker.size}<br>lat=%{lat}<br>lon=%{lon}<extra></extra>",
           "hovertext": [
            "Rzeszow"
           ],
           "lat": [
            50.00715125
           ],
           "legendgroup": "Rzeszow",
           "lon": [
            22.009911525182105
           ],
           "marker": {
            "color": "#EF553B",
            "size": [
             1
            ],
            "sizemode": "area",
            "sizeref": 0.45
           },
           "name": "Rzeszow",
           "showlegend": true,
           "type": "scattergeo"
          },
          {
           "geo": "geo",
           "hovertemplate": "<b>%{hovertext}</b><br><br>city_name=Tübingen<br>year_participation=1981<br>cumsum=%{marker.size}<br>lat=%{lat}<br>lon=%{lon}<extra></extra>",
           "hovertext": [
            "Tübingen"
           ],
           "lat": [
            48.5236164
           ],
           "legendgroup": "Tübingen",
           "lon": [
            9.0535531
           ],
           "marker": {
            "color": "#00cc96",
            "size": [
             1
            ],
            "sizemode": "area",
            "sizeref": 0.45
           },
           "name": "Tübingen",
           "showlegend": true,
           "type": "scattergeo"
          },
          {
           "geo": "geo",
           "hovertemplate": "<b>%{hovertext}</b><br><br>city_name=Esslingen<br>year_participation=1981<br>cumsum=%{marker.size}<br>lat=%{lat}<br>lon=%{lon}<extra></extra>",
           "hovertext": [
            "Esslingen"
           ],
           "lat": [
            48.7427584
           ],
           "legendgroup": "Esslingen",
           "lon": [
            9.3071685
           ],
           "marker": {
            "color": "#ab63fa",
            "size": [
             1
            ],
            "sizemode": "area",
            "sizeref": 0.45
           },
           "name": "Esslingen",
           "showlegend": true,
           "type": "scattergeo"
          },
          {
           "geo": "geo",
           "hovertemplate": "<b>%{hovertext}</b><br><br>city_name=Niederwerrn<br>year_participation=1981<br>cumsum=%{marker.size}<br>lat=%{lat}<br>lon=%{lon}<extra></extra>",
           "hovertext": [
            "Niederwerrn"
           ],
           "lat": [
            50.0610864
           ],
           "legendgroup": "Niederwerrn",
           "lon": [
            10.182108099999999
           ],
           "marker": {
            "color": "#FFA15A",
            "size": [
             1
            ],
            "sizemode": "area",
            "sizeref": 0.45
           },
           "name": "Niederwerrn",
           "showlegend": true,
           "type": "scattergeo"
          },
          {
           "geo": "geo",
           "hovertemplate": "<b>%{hovertext}</b><br><br>city_name=Visp<br>year_participation=1981<br>cumsum=%{marker.size}<br>lat=%{lat}<br>lon=%{lon}<extra></extra>",
           "hovertext": [
            "Visp"
           ],
           "lat": [
            46.11758005
           ],
           "legendgroup": "Visp",
           "lon": [
            7.866476544533072
           ],
           "marker": {
            "color": "#19d3f3",
            "size": [
             1
            ],
            "sizemode": "area",
            "sizeref": 0.45
           },
           "name": "Visp",
           "showlegend": true,
           "type": "scattergeo"
          },
          {
           "geo": "geo",
           "hovertemplate": "<b>%{hovertext}</b><br><br>city_name=Rothirst<br>year_participation=1981<br>cumsum=%{marker.size}<br>lat=%{lat}<br>lon=%{lon}<extra></extra>",
           "hovertext": [
            "Rothirst"
           ],
           "lat": [
            47.3060945
           ],
           "legendgroup": "Rothirst",
           "lon": [
            7.8890338
           ],
           "marker": {
            "color": "#FF6692",
            "size": [
             1
            ],
            "sizemode": "area",
            "sizeref": 0.45
           },
           "name": "Rothirst",
           "showlegend": true,
           "type": "scattergeo"
          },
          {
           "geo": "geo",
           "hovertemplate": "<b>%{hovertext}</b><br><br>city_name=Engelberg<br>year_participation=1981<br>cumsum=%{marker.size}<br>lat=%{lat}<br>lon=%{lon}<extra></extra>",
           "hovertext": [
            "Engelberg"
           ],
           "lat": [
            46.822349700000004
           ],
           "legendgroup": "Engelberg",
           "lon": [
            8.4043996
           ],
           "marker": {
            "color": "#B6E880",
            "size": [
             1
            ],
            "sizemode": "area",
            "sizeref": 0.45
           },
           "name": "Engelberg",
           "showlegend": true,
           "type": "scattergeo"
          },
          {
           "geo": "geo",
           "hovertemplate": "<b>%{hovertext}</b><br><br>city_name=Göttingen<br>year_participation=1981<br>cumsum=%{marker.size}<br>lat=%{lat}<br>lon=%{lon}<extra></extra>",
           "hovertext": [
            "Göttingen"
           ],
           "lat": [
            51.5327604
           ],
           "legendgroup": "Göttingen",
           "lon": [
            9.9352051
           ],
           "marker": {
            "color": "#FF97FF",
            "size": [
             1
            ],
            "sizemode": "area",
            "sizeref": 0.45
           },
           "name": "Göttingen",
           "showlegend": true,
           "type": "scattergeo"
          },
          {
           "geo": "geo",
           "hovertemplate": "<b>%{hovertext}</b><br><br>city_name=Trenten<br>year_participation=1981<br>cumsum=%{marker.size}<br>lat=%{lat}<br>lon=%{lon}<extra></extra>",
           "hovertext": [
            "Trenten"
           ],
           "lat": [
            -7.512359700000001
           ],
           "legendgroup": "Trenten",
           "lon": [
            110.2990233
           ],
           "marker": {
            "color": "#FECB52",
            "size": [
             1
            ],
            "sizemode": "area",
            "sizeref": 0.45
           },
           "name": "Trenten",
           "showlegend": true,
           "type": "scattergeo"
          },
          {
           "geo": "geo",
           "hovertemplate": "<b>%{hovertext}</b><br><br>city_name=Genf<br>year_participation=1981<br>cumsum=%{marker.size}<br>lat=%{lat}<br>lon=%{lon}<extra></extra>",
           "hovertext": [
            "Genf"
           ],
           "lat": [
            46.2017559
           ],
           "legendgroup": "Genf",
           "lon": [
            6.146601400000001
           ],
           "marker": {
            "color": "#636efa",
            "size": [
             1
            ],
            "sizemode": "area",
            "sizeref": 0.45
           },
           "name": "Genf",
           "showlegend": true,
           "type": "scattergeo"
          },
          {
           "geo": "geo",
           "hovertemplate": "<b>%{hovertext}</b><br><br>city_name=Tainach<br>year_participation=1981<br>cumsum=%{marker.size}<br>lat=%{lat}<br>lon=%{lon}<extra></extra>",
           "hovertext": [
            "Tainach"
           ],
           "lat": [
            46.6353811
           ],
           "legendgroup": "Tainach",
           "lon": [
            14.5392904
           ],
           "marker": {
            "color": "#EF553B",
            "size": [
             1
            ],
            "sizemode": "area",
            "sizeref": 0.45
           },
           "name": "Tainach",
           "showlegend": true,
           "type": "scattergeo"
          }
         ],
         "name": "1981"
        },
        {
         "data": [
          {
           "geo": "geo",
           "hovertemplate": "<b>%{hovertext}</b><br><br>city_name=Wien<br>year_participation=1982<br>cumsum=%{marker.size}<br>lat=%{lat}<br>lon=%{lon}<extra></extra>",
           "hovertext": [
            "Wien"
           ],
           "lat": [
            48.2083537
           ],
           "legendgroup": "Wien",
           "lon": [
            16.372504199999998
           ],
           "marker": {
            "color": "#00cc96",
            "size": [
             16
            ],
            "sizemode": "area",
            "sizeref": 0.45
           },
           "name": "Wien",
           "showlegend": true,
           "type": "scattergeo"
          },
          {
           "geo": "geo",
           "hovertemplate": "<b>%{hovertext}</b><br><br>city_name=Klagenfurt<br>year_participation=1982<br>cumsum=%{marker.size}<br>lat=%{lat}<br>lon=%{lon}<extra></extra>",
           "hovertext": [
            "Klagenfurt"
           ],
           "lat": [
            46.6228162
           ],
           "legendgroup": "Klagenfurt",
           "lon": [
            14.307960399999999
           ],
           "marker": {
            "color": "#ab63fa",
            "size": [
             7
            ],
            "sizemode": "area",
            "sizeref": 0.45
           },
           "name": "Klagenfurt",
           "showlegend": true,
           "type": "scattergeo"
          },
          {
           "geo": "geo",
           "hovertemplate": "<b>%{hovertext}</b><br><br>city_name=München<br>year_participation=1982<br>cumsum=%{marker.size}<br>lat=%{lat}<br>lon=%{lon}<extra></extra>",
           "hovertext": [
            "München"
           ],
           "lat": [
            48.1371079
           ],
           "legendgroup": "München",
           "lon": [
            11.575382199999998
           ],
           "marker": {
            "color": "#B6E880",
            "size": [
             16
            ],
            "sizemode": "area",
            "sizeref": 0.45
           },
           "name": "München",
           "showlegend": true,
           "type": "scattergeo"
          },
          {
           "geo": "geo",
           "hovertemplate": "<b>%{hovertext}</b><br><br>city_name=Hamburg<br>year_participation=1982<br>cumsum=%{marker.size}<br>lat=%{lat}<br>lon=%{lon}<extra></extra>",
           "hovertext": [
            "Hamburg"
           ],
           "lat": [
            53.543764100000004
           ],
           "legendgroup": "Hamburg",
           "lon": [
            10.009913300000001
           ],
           "marker": {
            "color": "#FF97FF",
            "size": [
             6
            ],
            "sizemode": "area",
            "sizeref": 0.45
           },
           "name": "Hamburg",
           "showlegend": true,
           "type": "scattergeo"
          },
          {
           "geo": "geo",
           "hovertemplate": "<b>%{hovertext}</b><br><br>city_name=Zürich<br>year_participation=1982<br>cumsum=%{marker.size}<br>lat=%{lat}<br>lon=%{lon}<extra></extra>",
           "hovertext": [
            "Zürich"
           ],
           "lat": [
            47.3723941
           ],
           "legendgroup": "Zürich",
           "lon": [
            8.5423328
           ],
           "marker": {
            "color": "#FECB52",
            "size": [
             4
            ],
            "sizemode": "area",
            "sizeref": 0.45
           },
           "name": "Zürich",
           "showlegend": true,
           "type": "scattergeo"
          },
          {
           "geo": "geo",
           "hovertemplate": "<b>%{hovertext}</b><br><br>city_name=Münster<br>year_participation=1982<br>cumsum=%{marker.size}<br>lat=%{lat}<br>lon=%{lon}<extra></extra>",
           "hovertext": [
            "Münster"
           ],
           "lat": [
            51.9625101
           ],
           "legendgroup": "Münster",
           "lon": [
            7.6251879
           ],
           "marker": {
            "color": "#636efa",
            "size": [
             2
            ],
            "sizemode": "area",
            "sizeref": 0.45
           },
           "name": "Münster",
           "showlegend": true,
           "type": "scattergeo"
          },
          {
           "geo": "geo",
           "hovertemplate": "<b>%{hovertext}</b><br><br>city_name=Berlin<br>year_participation=1982<br>cumsum=%{marker.size}<br>lat=%{lat}<br>lon=%{lon}<extra></extra>",
           "hovertext": [
            "Berlin"
           ],
           "lat": [
            52.517036499999996
           ],
           "legendgroup": "Berlin",
           "lon": [
            13.388859900000002
           ],
           "marker": {
            "color": "#EF553B",
            "size": [
             15
            ],
            "sizemode": "area",
            "sizeref": 0.45
           },
           "name": "Berlin",
           "showlegend": true,
           "type": "scattergeo"
          },
          {
           "geo": "geo",
           "hovertemplate": "<b>%{hovertext}</b><br><br>city_name=Frankfurt/Main<br>year_participation=1982<br>cumsum=%{marker.size}<br>lat=%{lat}<br>lon=%{lon}<extra></extra>",
           "hovertext": [
            "Frankfurt/Main"
           ],
           "lat": [
            50.053763700000005
           ],
           "legendgroup": "Frankfurt/Main",
           "lon": [
            8.637085800000001
           ],
           "marker": {
            "color": "#ab63fa",
            "size": [
             7
            ],
            "sizemode": "area",
            "sizeref": 0.45
           },
           "name": "Frankfurt/Main",
           "showlegend": true,
           "type": "scattergeo"
          },
          {
           "geo": "geo",
           "hovertemplate": "<b>%{hovertext}</b><br><br>city_name=Nürnberg<br>year_participation=1982<br>cumsum=%{marker.size}<br>lat=%{lat}<br>lon=%{lon}<extra></extra>",
           "hovertext": [
            "Nürnberg"
           ],
           "lat": [
            49.453872
           ],
           "legendgroup": "Nürnberg",
           "lon": [
            11.077297999999999
           ],
           "marker": {
            "color": "#19d3f3",
            "size": [
             3
            ],
            "sizemode": "area",
            "sizeref": 0.45
           },
           "name": "Nürnberg",
           "showlegend": true,
           "type": "scattergeo"
          },
          {
           "geo": "geo",
           "hovertemplate": "<b>%{hovertext}</b><br><br>city_name=Hermagor<br>year_participation=1982<br>cumsum=%{marker.size}<br>lat=%{lat}<br>lon=%{lon}<extra></extra>",
           "hovertext": [
            "Hermagor"
           ],
           "lat": [
            46.6268076
           ],
           "legendgroup": "Hermagor",
           "lon": [
            13.370238199999998
           ],
           "marker": {
            "color": "#FECB52",
            "size": [
             2
            ],
            "sizemode": "area",
            "sizeref": 0.45
           },
           "name": "Hermagor",
           "showlegend": true,
           "type": "scattergeo"
          },
          {
           "geo": "geo",
           "hovertemplate": "<b>%{hovertext}</b><br><br>city_name=Uetikon am See<br>year_participation=1982<br>cumsum=%{marker.size}<br>lat=%{lat}<br>lon=%{lon}<extra></extra>",
           "hovertext": [
            "Uetikon am See"
           ],
           "lat": [
            47.269368
           ],
           "legendgroup": "Uetikon am See",
           "lon": [
            8.68316
           ],
           "marker": {
            "color": "#636efa",
            "size": [
             2
            ],
            "sizemode": "area",
            "sizeref": 0.45
           },
           "name": "Uetikon am See",
           "showlegend": true,
           "type": "scattergeo"
          },
          {
           "geo": "geo",
           "hovertemplate": "<b>%{hovertext}</b><br><br>city_name=Wiesbaden<br>year_participation=1982<br>cumsum=%{marker.size}<br>lat=%{lat}<br>lon=%{lon}<extra></extra>",
           "hovertext": [
            "Wiesbaden"
           ],
           "lat": [
            50.082038399999995
           ],
           "legendgroup": "Wiesbaden",
           "lon": [
            8.2416556
           ],
           "marker": {
            "color": "#19d3f3",
            "size": [
             2
            ],
            "sizemode": "area",
            "sizeref": 0.45
           },
           "name": "Wiesbaden",
           "showlegend": true,
           "type": "scattergeo"
          },
          {
           "geo": "geo",
           "hovertemplate": "<b>%{hovertext}</b><br><br>city_name=Köln<br>year_participation=1982<br>cumsum=%{marker.size}<br>lat=%{lat}<br>lon=%{lon}<extra></extra>",
           "hovertext": [
            "Köln"
           ],
           "lat": [
            50.938361
           ],
           "legendgroup": "Köln",
           "lon": [
            6.959974000000001
           ],
           "marker": {
            "color": "#00cc96",
            "size": [
             1
            ],
            "sizemode": "area",
            "sizeref": 0.45
           },
           "name": "Köln",
           "showlegend": true,
           "type": "scattergeo"
          },
          {
           "geo": "geo",
           "hovertemplate": "<b>%{hovertext}</b><br><br>city_name=Baden-Baden<br>year_participation=1982<br>cumsum=%{marker.size}<br>lat=%{lat}<br>lon=%{lon}<extra></extra>",
           "hovertext": [
            "Baden-Baden"
           ],
           "lat": [
            48.7580777
           ],
           "legendgroup": "Baden-Baden",
           "lon": [
            8.2415239
           ],
           "marker": {
            "color": "#ab63fa",
            "size": [
             1
            ],
            "sizemode": "area",
            "sizeref": 0.45
           },
           "name": "Baden-Baden",
           "showlegend": true,
           "type": "scattergeo"
          },
          {
           "geo": "geo",
           "hovertemplate": "<b>%{hovertext}</b><br><br>city_name=Wennigsen<br>year_participation=1982<br>cumsum=%{marker.size}<br>lat=%{lat}<br>lon=%{lon}<extra></extra>",
           "hovertext": [
            "Wennigsen"
           ],
           "lat": [
            52.2762744
           ],
           "legendgroup": "Wennigsen",
           "lon": [
            9.5671846
           ],
           "marker": {
            "color": "#FFA15A",
            "size": [
             1
            ],
            "sizemode": "area",
            "sizeref": 0.45
           },
           "name": "Wennigsen",
           "showlegend": true,
           "type": "scattergeo"
          },
          {
           "geo": "geo",
           "hovertemplate": "<b>%{hovertext}</b><br><br>city_name=Hohensolms<br>year_participation=1982<br>cumsum=%{marker.size}<br>lat=%{lat}<br>lon=%{lon}<extra></extra>",
           "hovertext": [
            "Hohensolms"
           ],
           "lat": [
            50.6520794
           ],
           "legendgroup": "Hohensolms",
           "lon": [
            8.516495599999999
           ],
           "marker": {
            "color": "#19d3f3",
            "size": [
             1
            ],
            "sizemode": "area",
            "sizeref": 0.45
           },
           "name": "Hohensolms",
           "showlegend": true,
           "type": "scattergeo"
          },
          {
           "geo": "geo",
           "hovertemplate": "<b>%{hovertext}</b><br><br>city_name=Innsbruck<br>year_participation=1982<br>cumsum=%{marker.size}<br>lat=%{lat}<br>lon=%{lon}<extra></extra>",
           "hovertext": [
            "Innsbruck"
           ],
           "lat": [
            47.265429600000004
           ],
           "legendgroup": "Innsbruck",
           "lon": [
            11.392768499999999
           ],
           "marker": {
            "color": "#FF6692",
            "size": [
             2
            ],
            "sizemode": "area",
            "sizeref": 0.45
           },
           "name": "Innsbruck",
           "showlegend": true,
           "type": "scattergeo"
          },
          {
           "geo": "geo",
           "hovertemplate": "<b>%{hovertext}</b><br><br>city_name=Mainz<br>year_participation=1982<br>cumsum=%{marker.size}<br>lat=%{lat}<br>lon=%{lon}<extra></extra>",
           "hovertext": [
            "Mainz"
           ],
           "lat": [
            50.0012314
           ],
           "legendgroup": "Mainz",
           "lon": [
            8.276251299999998
           ],
           "marker": {
            "color": "#B6E880",
            "size": [
             1
            ],
            "sizemode": "area",
            "sizeref": 0.45
           },
           "name": "Mainz",
           "showlegend": true,
           "type": "scattergeo"
          },
          {
           "geo": "geo",
           "hovertemplate": "<b>%{hovertext}</b><br><br>city_name=Stuttgart<br>year_participation=1982<br>cumsum=%{marker.size}<br>lat=%{lat}<br>lon=%{lon}<extra></extra>",
           "hovertext": [
            "Stuttgart"
           ],
           "lat": [
            48.778448499999996
           ],
           "legendgroup": "Stuttgart",
           "lon": [
            9.1800132
           ],
           "marker": {
            "color": "#FF97FF",
            "size": [
             1
            ],
            "sizemode": "area",
            "sizeref": 0.45
           },
           "name": "Stuttgart",
           "showlegend": true,
           "type": "scattergeo"
          },
          {
           "geo": "geo",
           "hovertemplate": "<b>%{hovertext}</b><br><br>city_name=London<br>year_participation=1982<br>cumsum=%{marker.size}<br>lat=%{lat}<br>lon=%{lon}<extra></extra>",
           "hovertext": [
            "London"
           ],
           "lat": [
            51.5073219
           ],
           "legendgroup": "London",
           "lon": [
            -0.1276474
           ],
           "marker": {
            "color": "#FECB52",
            "size": [
             1
            ],
            "sizemode": "area",
            "sizeref": 0.45
           },
           "name": "London",
           "showlegend": true,
           "type": "scattergeo"
          }
         ],
         "name": "1982"
        },
        {
         "data": [
          {
           "geo": "geo",
           "hovertemplate": "<b>%{hovertext}</b><br><br>city_name=München<br>year_participation=1983<br>cumsum=%{marker.size}<br>lat=%{lat}<br>lon=%{lon}<extra></extra>",
           "hovertext": [
            "München"
           ],
           "lat": [
            48.1371079
           ],
           "legendgroup": "München",
           "lon": [
            11.575382199999998
           ],
           "marker": {
            "color": "#B6E880",
            "size": [
             18
            ],
            "sizemode": "area",
            "sizeref": 0.45
           },
           "name": "München",
           "showlegend": true,
           "type": "scattergeo"
          },
          {
           "geo": "geo",
           "hovertemplate": "<b>%{hovertext}</b><br><br>city_name=Hamburg<br>year_participation=1983<br>cumsum=%{marker.size}<br>lat=%{lat}<br>lon=%{lon}<extra></extra>",
           "hovertext": [
            "Hamburg"
           ],
           "lat": [
            53.543764100000004
           ],
           "legendgroup": "Hamburg",
           "lon": [
            10.009913300000001
           ],
           "marker": {
            "color": "#FF97FF",
            "size": [
             7
            ],
            "sizemode": "area",
            "sizeref": 0.45
           },
           "name": "Hamburg",
           "showlegend": true,
           "type": "scattergeo"
          },
          {
           "geo": "geo",
           "hovertemplate": "<b>%{hovertext}</b><br><br>city_name=Zürich<br>year_participation=1983<br>cumsum=%{marker.size}<br>lat=%{lat}<br>lon=%{lon}<extra></extra>",
           "hovertext": [
            "Zürich"
           ],
           "lat": [
            47.3723941
           ],
           "legendgroup": "Zürich",
           "lon": [
            8.5423328
           ],
           "marker": {
            "color": "#FECB52",
            "size": [
             5
            ],
            "sizemode": "area",
            "sizeref": 0.45
           },
           "name": "Zürich",
           "showlegend": true,
           "type": "scattergeo"
          },
          {
           "geo": "geo",
           "hovertemplate": "<b>%{hovertext}</b><br><br>city_name=Berlin<br>year_participation=1983<br>cumsum=%{marker.size}<br>lat=%{lat}<br>lon=%{lon}<extra></extra>",
           "hovertext": [
            "Berlin"
           ],
           "lat": [
            52.517036499999996
           ],
           "legendgroup": "Berlin",
           "lon": [
            13.388859900000002
           ],
           "marker": {
            "color": "#EF553B",
            "size": [
             19
            ],
            "sizemode": "area",
            "sizeref": 0.45
           },
           "name": "Berlin",
           "showlegend": true,
           "type": "scattergeo"
          },
          {
           "geo": "geo",
           "hovertemplate": "<b>%{hovertext}</b><br><br>city_name=Salzburg<br>year_participation=1983<br>cumsum=%{marker.size}<br>lat=%{lat}<br>lon=%{lon}<extra></extra>",
           "hovertext": [
            "Salzburg"
           ],
           "lat": [
            47.798134600000004
           ],
           "legendgroup": "Salzburg",
           "lon": [
            13.046480599999999
           ],
           "marker": {
            "color": "#00cc96",
            "size": [
             7
            ],
            "sizemode": "area",
            "sizeref": 0.45
           },
           "name": "Salzburg",
           "showlegend": true,
           "type": "scattergeo"
          },
          {
           "geo": "geo",
           "hovertemplate": "<b>%{hovertext}</b><br><br>city_name=Frankfurt/Main<br>year_participation=1983<br>cumsum=%{marker.size}<br>lat=%{lat}<br>lon=%{lon}<extra></extra>",
           "hovertext": [
            "Frankfurt/Main"
           ],
           "lat": [
            50.053763700000005
           ],
           "legendgroup": "Frankfurt/Main",
           "lon": [
            8.637085800000001
           ],
           "marker": {
            "color": "#ab63fa",
            "size": [
             9
            ],
            "sizemode": "area",
            "sizeref": 0.45
           },
           "name": "Frankfurt/Main",
           "showlegend": true,
           "type": "scattergeo"
          },
          {
           "geo": "geo",
           "hovertemplate": "<b>%{hovertext}</b><br><br>city_name=Nürnberg<br>year_participation=1983<br>cumsum=%{marker.size}<br>lat=%{lat}<br>lon=%{lon}<extra></extra>",
           "hovertext": [
            "Nürnberg"
           ],
           "lat": [
            49.453872
           ],
           "legendgroup": "Nürnberg",
           "lon": [
            11.077297999999999
           ],
           "marker": {
            "color": "#19d3f3",
            "size": [
             4
            ],
            "sizemode": "area",
            "sizeref": 0.45
           },
           "name": "Nürnberg",
           "showlegend": true,
           "type": "scattergeo"
          },
          {
           "geo": "geo",
           "hovertemplate": "<b>%{hovertext}</b><br><br>city_name=Wiesbaden<br>year_participation=1983<br>cumsum=%{marker.size}<br>lat=%{lat}<br>lon=%{lon}<extra></extra>",
           "hovertext": [
            "Wiesbaden"
           ],
           "lat": [
            50.082038399999995
           ],
           "legendgroup": "Wiesbaden",
           "lon": [
            8.2416556
           ],
           "marker": {
            "color": "#19d3f3",
            "size": [
             3
            ],
            "sizemode": "area",
            "sizeref": 0.45
           },
           "name": "Wiesbaden",
           "showlegend": true,
           "type": "scattergeo"
          },
          {
           "geo": "geo",
           "hovertemplate": "<b>%{hovertext}</b><br><br>city_name=Bern<br>year_participation=1983<br>cumsum=%{marker.size}<br>lat=%{lat}<br>lon=%{lon}<extra></extra>",
           "hovertext": [
            "Bern"
           ],
           "lat": [
            46.9482713
           ],
           "legendgroup": "Bern",
           "lon": [
            7.4514512
           ],
           "marker": {
            "color": "#FF6692",
            "size": [
             5
            ],
            "sizemode": "area",
            "sizeref": 0.45
           },
           "name": "Bern",
           "showlegend": true,
           "type": "scattergeo"
          },
          {
           "geo": "geo",
           "hovertemplate": "<b>%{hovertext}</b><br><br>city_name=Basel<br>year_participation=1983<br>cumsum=%{marker.size}<br>lat=%{lat}<br>lon=%{lon}<extra></extra>",
           "hovertext": [
            "Basel"
           ],
           "lat": [
            47.55810770000001
           ],
           "legendgroup": "Basel",
           "lon": [
            7.5878261
           ],
           "marker": {
            "color": "#FECB52",
            "size": [
             4
            ],
            "sizemode": "area",
            "sizeref": 0.45
           },
           "name": "Basel",
           "showlegend": true,
           "type": "scattergeo"
          },
          {
           "geo": "geo",
           "hovertemplate": "<b>%{hovertext}</b><br><br>city_name=Karlsruhe<br>year_participation=1983<br>cumsum=%{marker.size}<br>lat=%{lat}<br>lon=%{lon}<extra></extra>",
           "hovertext": [
            "Karlsruhe"
           ],
           "lat": [
            49.006870500000005
           ],
           "legendgroup": "Karlsruhe",
           "lon": [
            8.4034195
           ],
           "marker": {
            "color": "#19d3f3",
            "size": [
             2
            ],
            "sizemode": "area",
            "sizeref": 0.45
           },
           "name": "Karlsruhe",
           "showlegend": true,
           "type": "scattergeo"
          },
          {
           "geo": "geo",
           "hovertemplate": "<b>%{hovertext}</b><br><br>city_name=Bochum<br>year_participation=1983<br>cumsum=%{marker.size}<br>lat=%{lat}<br>lon=%{lon}<extra></extra>",
           "hovertext": [
            "Bochum"
           ],
           "lat": [
            51.4818111
           ],
           "legendgroup": "Bochum",
           "lon": [
            7.219663499999999
           ],
           "marker": {
            "color": "#FF97FF",
            "size": [
             2
            ],
            "sizemode": "area",
            "sizeref": 0.45
           },
           "name": "Bochum",
           "showlegend": true,
           "type": "scattergeo"
          },
          {
           "geo": "geo",
           "hovertemplate": "<b>%{hovertext}</b><br><br>city_name=Stuttgart<br>year_participation=1983<br>cumsum=%{marker.size}<br>lat=%{lat}<br>lon=%{lon}<extra></extra>",
           "hovertext": [
            "Stuttgart"
           ],
           "lat": [
            48.778448499999996
           ],
           "legendgroup": "Stuttgart",
           "lon": [
            9.1800132
           ],
           "marker": {
            "color": "#FF97FF",
            "size": [
             3
            ],
            "sizemode": "area",
            "sizeref": 0.45
           },
           "name": "Stuttgart",
           "showlegend": true,
           "type": "scattergeo"
          },
          {
           "geo": "geo",
           "hovertemplate": "<b>%{hovertext}</b><br><br>city_name=London<br>year_participation=1983<br>cumsum=%{marker.size}<br>lat=%{lat}<br>lon=%{lon}<extra></extra>",
           "hovertext": [
            "London"
           ],
           "lat": [
            51.5073219
           ],
           "legendgroup": "London",
           "lon": [
            -0.1276474
           ],
           "marker": {
            "color": "#FECB52",
            "size": [
             2
            ],
            "sizemode": "area",
            "sizeref": 0.45
           },
           "name": "London",
           "showlegend": true,
           "type": "scattergeo"
          },
          {
           "geo": "geo",
           "hovertemplate": "<b>%{hovertext}</b><br><br>city_name=Stadum<br>year_participation=1983<br>cumsum=%{marker.size}<br>lat=%{lat}<br>lon=%{lon}<extra></extra>",
           "hovertext": [
            "Stadum"
           ],
           "lat": [
            54.73897629999999
           ],
           "legendgroup": "Stadum",
           "lon": [
            9.0508992
           ],
           "marker": {
            "color": "#636efa",
            "size": [
             1
            ],
            "sizemode": "area",
            "sizeref": 0.45
           },
           "name": "Stadum",
           "showlegend": true,
           "type": "scattergeo"
          },
          {
           "geo": "geo",
           "hovertemplate": "<b>%{hovertext}</b><br><br>city_name=Florenz<br>year_participation=1983<br>cumsum=%{marker.size}<br>lat=%{lat}<br>lon=%{lon}<extra></extra>",
           "hovertext": [
            "Florenz"
           ],
           "lat": [
            43.769871200000004
           ],
           "legendgroup": "Florenz",
           "lon": [
            11.2555757
           ],
           "marker": {
            "color": "#EF553B",
            "size": [
             1
            ],
            "sizemode": "area",
            "sizeref": 0.45
           },
           "name": "Florenz",
           "showlegend": true,
           "type": "scattergeo"
          },
          {
           "geo": "geo",
           "hovertemplate": "<b>%{hovertext}</b><br><br>city_name=Bremen<br>year_participation=1983<br>cumsum=%{marker.size}<br>lat=%{lat}<br>lon=%{lon}<extra></extra>",
           "hovertext": [
            "Bremen"
           ],
           "lat": [
            53.0758196
           ],
           "legendgroup": "Bremen",
           "lon": [
            8.8071646
           ],
           "marker": {
            "color": "#00cc96",
            "size": [
             1
            ],
            "sizemode": "area",
            "sizeref": 0.45
           },
           "name": "Bremen",
           "showlegend": true,
           "type": "scattergeo"
          },
          {
           "geo": "geo",
           "hovertemplate": "<b>%{hovertext}</b><br><br>city_name=Osnabrück<br>year_participation=1983<br>cumsum=%{marker.size}<br>lat=%{lat}<br>lon=%{lon}<extra></extra>",
           "hovertext": [
            "Osnabrück"
           ],
           "lat": [
            52.266837
           ],
           "legendgroup": "Osnabrück",
           "lon": [
            8.049741000000001
           ],
           "marker": {
            "color": "#ab63fa",
            "size": [
             1
            ],
            "sizemode": "area",
            "sizeref": 0.45
           },
           "name": "Osnabrück",
           "showlegend": true,
           "type": "scattergeo"
          },
          {
           "geo": "geo",
           "hovertemplate": "<b>%{hovertext}</b><br><br>city_name=Baltrum<br>year_participation=1983<br>cumsum=%{marker.size}<br>lat=%{lat}<br>lon=%{lon}<extra></extra>",
           "hovertext": [
            "Baltrum"
           ],
           "lat": [
            53.7283495
           ],
           "legendgroup": "Baltrum",
           "lon": [
            7.399479964095553
           ],
           "marker": {
            "color": "#FFA15A",
            "size": [
             1
            ],
            "sizemode": "area",
            "sizeref": 0.45
           },
           "name": "Baltrum",
           "showlegend": true,
           "type": "scattergeo"
          },
          {
           "geo": "geo",
           "hovertemplate": "<b>%{hovertext}</b><br><br>city_name=Rankweil<br>year_participation=1983<br>cumsum=%{marker.size}<br>lat=%{lat}<br>lon=%{lon}<extra></extra>",
           "hovertext": [
            "Rankweil"
           ],
           "lat": [
            47.2731056
           ],
           "legendgroup": "Rankweil",
           "lon": [
            9.63150938085392
           ],
           "marker": {
            "color": "#19d3f3",
            "size": [
             1
            ],
            "sizemode": "area",
            "sizeref": 0.45
           },
           "name": "Rankweil",
           "showlegend": true,
           "type": "scattergeo"
          },
          {
           "geo": "geo",
           "hovertemplate": "<b>%{hovertext}</b><br><br>city_name=Gleisdorf<br>year_participation=1983<br>cumsum=%{marker.size}<br>lat=%{lat}<br>lon=%{lon}<extra></extra>",
           "hovertext": [
            "Gleisdorf"
           ],
           "lat": [
            47.106751
           ],
           "legendgroup": "Gleisdorf",
           "lon": [
            15.710006557612967
           ],
           "marker": {
            "color": "#FF6692",
            "size": [
             1
            ],
            "sizemode": "area",
            "sizeref": 0.45
           },
           "name": "Gleisdorf",
           "showlegend": true,
           "type": "scattergeo"
          },
          {
           "geo": "geo",
           "hovertemplate": "<b>%{hovertext}</b><br><br>city_name=Bregenz<br>year_participation=1983<br>cumsum=%{marker.size}<br>lat=%{lat}<br>lon=%{lon}<extra></extra>",
           "hovertext": [
            "Bregenz"
           ],
           "lat": [
            47.5025779
           ],
           "legendgroup": "Bregenz",
           "lon": [
            9.7472924
           ],
           "marker": {
            "color": "#B6E880",
            "size": [
             1
            ],
            "sizemode": "area",
            "sizeref": 0.45
           },
           "name": "Bregenz",
           "showlegend": true,
           "type": "scattergeo"
          }
         ],
         "name": "1983"
        },
        {
         "data": [
          {
           "geo": "geo",
           "hovertemplate": "<b>%{hovertext}</b><br><br>city_name=München<br>year_participation=1984<br>cumsum=%{marker.size}<br>lat=%{lat}<br>lon=%{lon}<extra></extra>",
           "hovertext": [
            "München"
           ],
           "lat": [
            48.1371079
           ],
           "legendgroup": "München",
           "lon": [
            11.575382199999998
           ],
           "marker": {
            "color": "#B6E880",
            "size": [
             20
            ],
            "sizemode": "area",
            "sizeref": 0.45
           },
           "name": "München",
           "showlegend": true,
           "type": "scattergeo"
          },
          {
           "geo": "geo",
           "hovertemplate": "<b>%{hovertext}</b><br><br>city_name=Hamburg<br>year_participation=1984<br>cumsum=%{marker.size}<br>lat=%{lat}<br>lon=%{lon}<extra></extra>",
           "hovertext": [
            "Hamburg"
           ],
           "lat": [
            53.543764100000004
           ],
           "legendgroup": "Hamburg",
           "lon": [
            10.009913300000001
           ],
           "marker": {
            "color": "#FF97FF",
            "size": [
             9
            ],
            "sizemode": "area",
            "sizeref": 0.45
           },
           "name": "Hamburg",
           "showlegend": true,
           "type": "scattergeo"
          },
          {
           "geo": "geo",
           "hovertemplate": "<b>%{hovertext}</b><br><br>city_name=Zürich<br>year_participation=1984<br>cumsum=%{marker.size}<br>lat=%{lat}<br>lon=%{lon}<extra></extra>",
           "hovertext": [
            "Zürich"
           ],
           "lat": [
            47.3723941
           ],
           "legendgroup": "Zürich",
           "lon": [
            8.5423328
           ],
           "marker": {
            "color": "#FECB52",
            "size": [
             7
            ],
            "sizemode": "area",
            "sizeref": 0.45
           },
           "name": "Zürich",
           "showlegend": true,
           "type": "scattergeo"
          },
          {
           "geo": "geo",
           "hovertemplate": "<b>%{hovertext}</b><br><br>city_name=Berlin<br>year_participation=1984<br>cumsum=%{marker.size}<br>lat=%{lat}<br>lon=%{lon}<extra></extra>",
           "hovertext": [
            "Berlin"
           ],
           "lat": [
            52.517036499999996
           ],
           "legendgroup": "Berlin",
           "lon": [
            13.388859900000002
           ],
           "marker": {
            "color": "#EF553B",
            "size": [
             21
            ],
            "sizemode": "area",
            "sizeref": 0.45
           },
           "name": "Berlin",
           "showlegend": true,
           "type": "scattergeo"
          },
          {
           "geo": "geo",
           "hovertemplate": "<b>%{hovertext}</b><br><br>city_name=Salzburg<br>year_participation=1984<br>cumsum=%{marker.size}<br>lat=%{lat}<br>lon=%{lon}<extra></extra>",
           "hovertext": [
            "Salzburg"
           ],
           "lat": [
            47.798134600000004
           ],
           "legendgroup": "Salzburg",
           "lon": [
            13.046480599999999
           ],
           "marker": {
            "color": "#00cc96",
            "size": [
             8
            ],
            "sizemode": "area",
            "sizeref": 0.45
           },
           "name": "Salzburg",
           "showlegend": true,
           "type": "scattergeo"
          },
          {
           "geo": "geo",
           "hovertemplate": "<b>%{hovertext}</b><br><br>city_name=Frankfurt/Main<br>year_participation=1984<br>cumsum=%{marker.size}<br>lat=%{lat}<br>lon=%{lon}<extra></extra>",
           "hovertext": [
            "Frankfurt/Main"
           ],
           "lat": [
            50.053763700000005
           ],
           "legendgroup": "Frankfurt/Main",
           "lon": [
            8.637085800000001
           ],
           "marker": {
            "color": "#ab63fa",
            "size": [
             10
            ],
            "sizemode": "area",
            "sizeref": 0.45
           },
           "name": "Frankfurt/Main",
           "showlegend": true,
           "type": "scattergeo"
          },
          {
           "geo": "geo",
           "hovertemplate": "<b>%{hovertext}</b><br><br>city_name=Bern<br>year_participation=1984<br>cumsum=%{marker.size}<br>lat=%{lat}<br>lon=%{lon}<extra></extra>",
           "hovertext": [
            "Bern"
           ],
           "lat": [
            46.9482713
           ],
           "legendgroup": "Bern",
           "lon": [
            7.4514512
           ],
           "marker": {
            "color": "#FF6692",
            "size": [
             8
            ],
            "sizemode": "area",
            "sizeref": 0.45
           },
           "name": "Bern",
           "showlegend": true,
           "type": "scattergeo"
          },
          {
           "geo": "geo",
           "hovertemplate": "<b>%{hovertext}</b><br><br>city_name=La Neuveville<br>year_participation=1984<br>cumsum=%{marker.size}<br>lat=%{lat}<br>lon=%{lon}<extra></extra>",
           "hovertext": [
            "La Neuveville"
           ],
           "lat": [
            47.0637688
           ],
           "legendgroup": "La Neuveville",
           "lon": [
            7.0927997000000005
           ],
           "marker": {
            "color": "#FECB52",
            "size": [
             2
            ],
            "sizemode": "area",
            "sizeref": 0.45
           },
           "name": "La Neuveville",
           "showlegend": true,
           "type": "scattergeo"
          },
          {
           "geo": "geo",
           "hovertemplate": "<b>%{hovertext}</b><br><br>city_name=Graz<br>year_participation=1984<br>cumsum=%{marker.size}<br>lat=%{lat}<br>lon=%{lon}<extra></extra>",
           "hovertext": [
            "Graz"
           ],
           "lat": [
            47.070867799999995
           ],
           "legendgroup": "Graz",
           "lon": [
            15.438278599999999
           ],
           "marker": {
            "color": "#00cc96",
            "size": [
             3
            ],
            "sizemode": "area",
            "sizeref": 0.45
           },
           "name": "Graz",
           "showlegend": true,
           "type": "scattergeo"
          },
          {
           "geo": "geo",
           "hovertemplate": "<b>%{hovertext}</b><br><br>city_name=Bregenz<br>year_participation=1984<br>cumsum=%{marker.size}<br>lat=%{lat}<br>lon=%{lon}<extra></extra>",
           "hovertext": [
            "Bregenz"
           ],
           "lat": [
            47.5025779
           ],
           "legendgroup": "Bregenz",
           "lon": [
            9.7472924
           ],
           "marker": {
            "color": "#B6E880",
            "size": [
             2
            ],
            "sizemode": "area",
            "sizeref": 0.45
           },
           "name": "Bregenz",
           "showlegend": true,
           "type": "scattergeo"
          },
          {
           "geo": "geo",
           "hovertemplate": "<b>%{hovertext}</b><br><br>city_name=Wustrow<br>year_participation=1984<br>cumsum=%{marker.size}<br>lat=%{lat}<br>lon=%{lon}<extra></extra>",
           "hovertext": [
            "Wustrow"
           ],
           "lat": [
            53.2253478
           ],
           "legendgroup": "Wustrow",
           "lon": [
            12.9698436
           ],
           "marker": {
            "color": "#FF97FF",
            "size": [
             1
            ],
            "sizemode": "area",
            "sizeref": 0.45
           },
           "name": "Wustrow",
           "showlegend": true,
           "type": "scattergeo"
          },
          {
           "geo": "geo",
           "hovertemplate": "<b>%{hovertext}</b><br><br>city_name=Heiden<br>year_participation=1984<br>cumsum=%{marker.size}<br>lat=%{lat}<br>lon=%{lon}<extra></extra>",
           "hovertext": [
            "Heiden"
           ],
           "lat": [
            47.4421715
           ],
           "legendgroup": "Heiden",
           "lon": [
            9.532089
           ],
           "marker": {
            "color": "#FECB52",
            "size": [
             1
            ],
            "sizemode": "area",
            "sizeref": 0.45
           },
           "name": "Heiden",
           "showlegend": true,
           "type": "scattergeo"
          },
          {
           "geo": "geo",
           "hovertemplate": "<b>%{hovertext}</b><br><br>city_name=Luzern<br>year_participation=1984<br>cumsum=%{marker.size}<br>lat=%{lat}<br>lon=%{lon}<extra></extra>",
           "hovertext": [
            "Luzern"
           ],
           "lat": [
            47.0505452
           ],
           "legendgroup": "Luzern",
           "lon": [
            8.3054682
           ],
           "marker": {
            "color": "#636efa",
            "size": [
             1
            ],
            "sizemode": "area",
            "sizeref": 0.45
           },
           "name": "Luzern",
           "showlegend": true,
           "type": "scattergeo"
          },
          {
           "geo": "geo",
           "hovertemplate": "<b>%{hovertext}</b><br><br>city_name=Hohenems<br>year_participation=1984<br>cumsum=%{marker.size}<br>lat=%{lat}<br>lon=%{lon}<extra></extra>",
           "hovertext": [
            "Hohenems"
           ],
           "lat": [
            47.3639973
           ],
           "legendgroup": "Hohenems",
           "lon": [
            9.689271000000002
           ],
           "marker": {
            "color": "#EF553B",
            "size": [
             1
            ],
            "sizemode": "area",
            "sizeref": 0.45
           },
           "name": "Hohenems",
           "showlegend": true,
           "type": "scattergeo"
          },
          {
           "geo": "geo",
           "hovertemplate": "<b>%{hovertext}</b><br><br>city_name=Neuried<br>year_participation=1984<br>cumsum=%{marker.size}<br>lat=%{lat}<br>lon=%{lon}<extra></extra>",
           "hovertext": [
            "Neuried"
           ],
           "lat": [
            48.4670593
           ],
           "legendgroup": "Neuried",
           "lon": [
            7.8183387
           ],
           "marker": {
            "color": "#00cc96",
            "size": [
             1
            ],
            "sizemode": "area",
            "sizeref": 0.45
           },
           "name": "Neuried",
           "showlegend": true,
           "type": "scattergeo"
          },
          {
           "geo": "geo",
           "hovertemplate": "<b>%{hovertext}</b><br><br>city_name=Kassel<br>year_participation=1984<br>cumsum=%{marker.size}<br>lat=%{lat}<br>lon=%{lon}<extra></extra>",
           "hovertext": [
            "Kassel"
           ],
           "lat": [
            51.3154546
           ],
           "legendgroup": "Kassel",
           "lon": [
            9.492409599999998
           ],
           "marker": {
            "color": "#ab63fa",
            "size": [
             1
            ],
            "sizemode": "area",
            "sizeref": 0.45
           },
           "name": "Kassel",
           "showlegend": true,
           "type": "scattergeo"
          },
          {
           "geo": "geo",
           "hovertemplate": "<b>%{hovertext}</b><br><br>city_name=Waidhofen<br>year_participation=1984<br>cumsum=%{marker.size}<br>lat=%{lat}<br>lon=%{lon}<extra></extra>",
           "hovertext": [
            "Waidhofen"
           ],
           "lat": [
            47.95126495
           ],
           "legendgroup": "Waidhofen",
           "lon": [
            14.744525855941324
           ],
           "marker": {
            "color": "#FFA15A",
            "size": [
             1
            ],
            "sizemode": "area",
            "sizeref": 0.45
           },
           "name": "Waidhofen",
           "showlegend": true,
           "type": "scattergeo"
          },
          {
           "geo": "geo",
           "hovertemplate": "<b>%{hovertext}</b><br><br>city_name=Düsseldorf<br>year_participation=1984<br>cumsum=%{marker.size}<br>lat=%{lat}<br>lon=%{lon}<extra></extra>",
           "hovertext": [
            "Düsseldorf"
           ],
           "lat": [
            51.2254018
           ],
           "legendgroup": "Düsseldorf",
           "lon": [
            6.7763137
           ],
           "marker": {
            "color": "#19d3f3",
            "size": [
             1
            ],
            "sizemode": "area",
            "sizeref": 0.45
           },
           "name": "Düsseldorf",
           "showlegend": true,
           "type": "scattergeo"
          },
          {
           "geo": "geo",
           "hovertemplate": "<b>%{hovertext}</b><br><br>city_name=St. Georgen<br>year_participation=1984<br>cumsum=%{marker.size}<br>lat=%{lat}<br>lon=%{lon}<extra></extra>",
           "hovertext": [
            "St. Georgen"
           ],
           "lat": [
            46.2431499
           ],
           "legendgroup": "St. Georgen",
           "lon": [
            14.4191043
           ],
           "marker": {
            "color": "#FF6692",
            "size": [
             1
            ],
            "sizemode": "area",
            "sizeref": 0.45
           },
           "name": "St. Georgen",
           "showlegend": true,
           "type": "scattergeo"
          },
          {
           "geo": "geo",
           "hovertemplate": "<b>%{hovertext}</b><br><br>city_name=Pforzheim<br>year_participation=1984<br>cumsum=%{marker.size}<br>lat=%{lat}<br>lon=%{lon}<extra></extra>",
           "hovertext": [
            "Pforzheim"
           ],
           "lat": [
            48.8908846
           ],
           "legendgroup": "Pforzheim",
           "lon": [
            8.7029532
           ],
           "marker": {
            "color": "#B6E880",
            "size": [
             1
            ],
            "sizemode": "area",
            "sizeref": 0.45
           },
           "name": "Pforzheim",
           "showlegend": true,
           "type": "scattergeo"
          }
         ],
         "name": "1984"
        },
        {
         "data": [
          {
           "geo": "geo",
           "hovertemplate": "<b>%{hovertext}</b><br><br>city_name=München<br>year_participation=1985<br>cumsum=%{marker.size}<br>lat=%{lat}<br>lon=%{lon}<extra></extra>",
           "hovertext": [
            "München"
           ],
           "lat": [
            48.1371079
           ],
           "legendgroup": "München",
           "lon": [
            11.575382199999998
           ],
           "marker": {
            "color": "#B6E880",
            "size": [
             22
            ],
            "sizemode": "area",
            "sizeref": 0.45
           },
           "name": "München",
           "showlegend": true,
           "type": "scattergeo"
          },
          {
           "geo": "geo",
           "hovertemplate": "<b>%{hovertext}</b><br><br>city_name=Hamburg<br>year_participation=1985<br>cumsum=%{marker.size}<br>lat=%{lat}<br>lon=%{lon}<extra></extra>",
           "hovertext": [
            "Hamburg"
           ],
           "lat": [
            53.543764100000004
           ],
           "legendgroup": "Hamburg",
           "lon": [
            10.009913300000001
           ],
           "marker": {
            "color": "#FF97FF",
            "size": [
             11
            ],
            "sizemode": "area",
            "sizeref": 0.45
           },
           "name": "Hamburg",
           "showlegend": true,
           "type": "scattergeo"
          },
          {
           "geo": "geo",
           "hovertemplate": "<b>%{hovertext}</b><br><br>city_name=Zürich<br>year_participation=1985<br>cumsum=%{marker.size}<br>lat=%{lat}<br>lon=%{lon}<extra></extra>",
           "hovertext": [
            "Zürich"
           ],
           "lat": [
            47.3723941
           ],
           "legendgroup": "Zürich",
           "lon": [
            8.5423328
           ],
           "marker": {
            "color": "#FECB52",
            "size": [
             8
            ],
            "sizemode": "area",
            "sizeref": 0.45
           },
           "name": "Zürich",
           "showlegend": true,
           "type": "scattergeo"
          },
          {
           "geo": "geo",
           "hovertemplate": "<b>%{hovertext}</b><br><br>city_name=Berlin<br>year_participation=1985<br>cumsum=%{marker.size}<br>lat=%{lat}<br>lon=%{lon}<extra></extra>",
           "hovertext": [
            "Berlin"
           ],
           "lat": [
            52.517036499999996
           ],
           "legendgroup": "Berlin",
           "lon": [
            13.388859900000002
           ],
           "marker": {
            "color": "#EF553B",
            "size": [
             24
            ],
            "sizemode": "area",
            "sizeref": 0.45
           },
           "name": "Berlin",
           "showlegend": true,
           "type": "scattergeo"
          },
          {
           "geo": "geo",
           "hovertemplate": "<b>%{hovertext}</b><br><br>city_name=Frankfurt/Main<br>year_participation=1985<br>cumsum=%{marker.size}<br>lat=%{lat}<br>lon=%{lon}<extra></extra>",
           "hovertext": [
            "Frankfurt/Main"
           ],
           "lat": [
            50.053763700000005
           ],
           "legendgroup": "Frankfurt/Main",
           "lon": [
            8.637085800000001
           ],
           "marker": {
            "color": "#ab63fa",
            "size": [
             11
            ],
            "sizemode": "area",
            "sizeref": 0.45
           },
           "name": "Frankfurt/Main",
           "showlegend": true,
           "type": "scattergeo"
          },
          {
           "geo": "geo",
           "hovertemplate": "<b>%{hovertext}</b><br><br>city_name=Graz<br>year_participation=1985<br>cumsum=%{marker.size}<br>lat=%{lat}<br>lon=%{lon}<extra></extra>",
           "hovertext": [
            "Graz"
           ],
           "lat": [
            47.070867799999995
           ],
           "legendgroup": "Graz",
           "lon": [
            15.438278599999999
           ],
           "marker": {
            "color": "#00cc96",
            "size": [
             4
            ],
            "sizemode": "area",
            "sizeref": 0.45
           },
           "name": "Graz",
           "showlegend": true,
           "type": "scattergeo"
          },
          {
           "geo": "geo",
           "hovertemplate": "<b>%{hovertext}</b><br><br>city_name=Mainz<br>year_participation=1985<br>cumsum=%{marker.size}<br>lat=%{lat}<br>lon=%{lon}<extra></extra>",
           "hovertext": [
            "Mainz"
           ],
           "lat": [
            50.0012314
           ],
           "legendgroup": "Mainz",
           "lon": [
            8.276251299999998
           ],
           "marker": {
            "color": "#B6E880",
            "size": [
             2
            ],
            "sizemode": "area",
            "sizeref": 0.45
           },
           "name": "Mainz",
           "showlegend": true,
           "type": "scattergeo"
          },
          {
           "geo": "geo",
           "hovertemplate": "<b>%{hovertext}</b><br><br>city_name=Bremen<br>year_participation=1985<br>cumsum=%{marker.size}<br>lat=%{lat}<br>lon=%{lon}<extra></extra>",
           "hovertext": [
            "Bremen"
           ],
           "lat": [
            53.0758196
           ],
           "legendgroup": "Bremen",
           "lon": [
            8.8071646
           ],
           "marker": {
            "color": "#00cc96",
            "size": [
             2
            ],
            "sizemode": "area",
            "sizeref": 0.45
           },
           "name": "Bremen",
           "showlegend": true,
           "type": "scattergeo"
          },
          {
           "geo": "geo",
           "hovertemplate": "<b>%{hovertext}</b><br><br>city_name=Linz<br>year_participation=1985<br>cumsum=%{marker.size}<br>lat=%{lat}<br>lon=%{lon}<extra></extra>",
           "hovertext": [
            "Linz"
           ],
           "lat": [
            48.3059078
           ],
           "legendgroup": "Linz",
           "lon": [
            14.286198
           ],
           "marker": {
            "color": "#FF97FF",
            "size": [
             1
            ],
            "sizemode": "area",
            "sizeref": 0.45
           },
           "name": "Linz",
           "showlegend": true,
           "type": "scattergeo"
          },
          {
           "geo": "geo",
           "hovertemplate": "<b>%{hovertext}</b><br><br>city_name=Leoben<br>year_participation=1985<br>cumsum=%{marker.size}<br>lat=%{lat}<br>lon=%{lon}<extra></extra>",
           "hovertext": [
            "Leoben"
           ],
           "lat": [
            47.3805128
           ],
           "legendgroup": "Leoben",
           "lon": [
            15.0947756
           ],
           "marker": {
            "color": "#FECB52",
            "size": [
             1
            ],
            "sizemode": "area",
            "sizeref": 0.45
           },
           "name": "Leoben",
           "showlegend": true,
           "type": "scattergeo"
          },
          {
           "geo": "geo",
           "hovertemplate": "<b>%{hovertext}</b><br><br>city_name=Brunegg<br>year_participation=1985<br>cumsum=%{marker.size}<br>lat=%{lat}<br>lon=%{lon}<extra></extra>",
           "hovertext": [
            "Brunegg"
           ],
           "lat": [
            47.4192416
           ],
           "legendgroup": "Brunegg",
           "lon": [
            8.21637
           ],
           "marker": {
            "color": "#636efa",
            "size": [
             1
            ],
            "sizemode": "area",
            "sizeref": 0.45
           },
           "name": "Brunegg",
           "showlegend": true,
           "type": "scattergeo"
          },
          {
           "geo": "geo",
           "hovertemplate": "<b>%{hovertext}</b><br><br>city_name=Bad Essen<br>year_participation=1985<br>cumsum=%{marker.size}<br>lat=%{lat}<br>lon=%{lon}<extra></extra>",
           "hovertext": [
            "Bad Essen"
           ],
           "lat": [
            52.3195756
           ],
           "legendgroup": "Bad Essen",
           "lon": [
            8.3440599
           ],
           "marker": {
            "color": "#EF553B",
            "size": [
             1
            ],
            "sizemode": "area",
            "sizeref": 0.45
           },
           "name": "Bad Essen",
           "showlegend": true,
           "type": "scattergeo"
          },
          {
           "geo": "geo",
           "hovertemplate": "<b>%{hovertext}</b><br><br>city_name=Erftstadt<br>year_participation=1985<br>cumsum=%{marker.size}<br>lat=%{lat}<br>lon=%{lon}<extra></extra>",
           "hovertext": [
            "Erftstadt"
           ],
           "lat": [
            50.789982
           ],
           "legendgroup": "Erftstadt",
           "lon": [
            6.781549221222183
           ],
           "marker": {
            "color": "#00cc96",
            "size": [
             1
            ],
            "sizemode": "area",
            "sizeref": 0.45
           },
           "name": "Erftstadt",
           "showlegend": true,
           "type": "scattergeo"
          },
          {
           "geo": "geo",
           "hovertemplate": "<b>%{hovertext}</b><br><br>city_name=Hildesheim<br>year_participation=1985<br>cumsum=%{marker.size}<br>lat=%{lat}<br>lon=%{lon}<extra></extra>",
           "hovertext": [
            "Hildesheim"
           ],
           "lat": [
            52.1521636
           ],
           "legendgroup": "Hildesheim",
           "lon": [
            9.9513046
           ],
           "marker": {
            "color": "#ab63fa",
            "size": [
             1
            ],
            "sizemode": "area",
            "sizeref": 0.45
           },
           "name": "Hildesheim",
           "showlegend": true,
           "type": "scattergeo"
          },
          {
           "geo": "geo",
           "hovertemplate": "<b>%{hovertext}</b><br><br>city_name=Heinrichswil<br>year_participation=1985<br>cumsum=%{marker.size}<br>lat=%{lat}<br>lon=%{lon}<extra></extra>",
           "hovertext": [
            "Heinrichswil"
           ],
           "lat": [
            47.157613
           ],
           "legendgroup": "Heinrichswil",
           "lon": [
            7.6357893
           ],
           "marker": {
            "color": "#FFA15A",
            "size": [
             1
            ],
            "sizemode": "area",
            "sizeref": 0.45
           },
           "name": "Heinrichswil",
           "showlegend": true,
           "type": "scattergeo"
          },
          {
           "geo": "geo",
           "hovertemplate": "<b>%{hovertext}</b><br><br>city_name=Ermatingen<br>year_participation=1985<br>cumsum=%{marker.size}<br>lat=%{lat}<br>lon=%{lon}<extra></extra>",
           "hovertext": [
            "Ermatingen"
           ],
           "lat": [
            47.6702035
           ],
           "legendgroup": "Ermatingen",
           "lon": [
            9.0852134
           ],
           "marker": {
            "color": "#19d3f3",
            "size": [
             1
            ],
            "sizemode": "area",
            "sizeref": 0.45
           },
           "name": "Ermatingen",
           "showlegend": true,
           "type": "scattergeo"
          },
          {
           "geo": "geo",
           "hovertemplate": "<b>%{hovertext}</b><br><br>city_name=Kriens<br>year_participation=1985<br>cumsum=%{marker.size}<br>lat=%{lat}<br>lon=%{lon}<extra></extra>",
           "hovertext": [
            "Kriens"
           ],
           "lat": [
            47.034146
           ],
           "legendgroup": "Kriens",
           "lon": [
            8.280799400000001
           ],
           "marker": {
            "color": "#FF6692",
            "size": [
             1
            ],
            "sizemode": "area",
            "sizeref": 0.45
           },
           "name": "Kriens",
           "showlegend": true,
           "type": "scattergeo"
          },
          {
           "geo": "geo",
           "hovertemplate": "<b>%{hovertext}</b><br><br>city_name=Inning<br>year_participation=1985<br>cumsum=%{marker.size}<br>lat=%{lat}<br>lon=%{lon}<extra></extra>",
           "hovertext": [
            "Inning"
           ],
           "lat": [
            48.179896899999996
           ],
           "legendgroup": "Inning",
           "lon": [
            15.421095600000001
           ],
           "marker": {
            "color": "#B6E880",
            "size": [
             1
            ],
            "sizemode": "area",
            "sizeref": 0.45
           },
           "name": "Inning",
           "showlegend": true,
           "type": "scattergeo"
          },
          {
           "geo": "geo",
           "hovertemplate": "<b>%{hovertext}</b><br><br>city_name=Simbach<br>year_participation=1985<br>cumsum=%{marker.size}<br>lat=%{lat}<br>lon=%{lon}<extra></extra>",
           "hovertext": [
            "Simbach"
           ],
           "lat": [
            48.566257
           ],
           "legendgroup": "Simbach",
           "lon": [
            12.7391325
           ],
           "marker": {
            "color": "#FF97FF",
            "size": [
             1
            ],
            "sizemode": "area",
            "sizeref": 0.45
           },
           "name": "Simbach",
           "showlegend": true,
           "type": "scattergeo"
          }
         ],
         "name": "1985"
        },
        {
         "data": [
          {
           "geo": "geo",
           "hovertemplate": "<b>%{hovertext}</b><br><br>city_name=Wien<br>year_participation=1986<br>cumsum=%{marker.size}<br>lat=%{lat}<br>lon=%{lon}<extra></extra>",
           "hovertext": [
            "Wien"
           ],
           "lat": [
            48.2083537
           ],
           "legendgroup": "Wien",
           "lon": [
            16.372504199999998
           ],
           "marker": {
            "color": "#00cc96",
            "size": [
             18
            ],
            "sizemode": "area",
            "sizeref": 0.45
           },
           "name": "Wien",
           "showlegend": true,
           "type": "scattergeo"
          },
          {
           "geo": "geo",
           "hovertemplate": "<b>%{hovertext}</b><br><br>city_name=Klagenfurt<br>year_participation=1986<br>cumsum=%{marker.size}<br>lat=%{lat}<br>lon=%{lon}<extra></extra>",
           "hovertext": [
            "Klagenfurt"
           ],
           "lat": [
            46.6228162
           ],
           "legendgroup": "Klagenfurt",
           "lon": [
            14.307960399999999
           ],
           "marker": {
            "color": "#ab63fa",
            "size": [
             8
            ],
            "sizemode": "area",
            "sizeref": 0.45
           },
           "name": "Klagenfurt",
           "showlegend": true,
           "type": "scattergeo"
          },
          {
           "geo": "geo",
           "hovertemplate": "<b>%{hovertext}</b><br><br>city_name=München<br>year_participation=1986<br>cumsum=%{marker.size}<br>lat=%{lat}<br>lon=%{lon}<extra></extra>",
           "hovertext": [
            "München"
           ],
           "lat": [
            48.1371079
           ],
           "legendgroup": "München",
           "lon": [
            11.575382199999998
           ],
           "marker": {
            "color": "#B6E880",
            "size": [
             26
            ],
            "sizemode": "area",
            "sizeref": 0.45
           },
           "name": "München",
           "showlegend": true,
           "type": "scattergeo"
          },
          {
           "geo": "geo",
           "hovertemplate": "<b>%{hovertext}</b><br><br>city_name=Hamburg<br>year_participation=1986<br>cumsum=%{marker.size}<br>lat=%{lat}<br>lon=%{lon}<extra></extra>",
           "hovertext": [
            "Hamburg"
           ],
           "lat": [
            53.543764100000004
           ],
           "legendgroup": "Hamburg",
           "lon": [
            10.009913300000001
           ],
           "marker": {
            "color": "#FF97FF",
            "size": [
             14
            ],
            "sizemode": "area",
            "sizeref": 0.45
           },
           "name": "Hamburg",
           "showlegend": true,
           "type": "scattergeo"
          },
          {
           "geo": "geo",
           "hovertemplate": "<b>%{hovertext}</b><br><br>city_name=Berlin<br>year_participation=1986<br>cumsum=%{marker.size}<br>lat=%{lat}<br>lon=%{lon}<extra></extra>",
           "hovertext": [
            "Berlin"
           ],
           "lat": [
            52.517036499999996
           ],
           "legendgroup": "Berlin",
           "lon": [
            13.388859900000002
           ],
           "marker": {
            "color": "#EF553B",
            "size": [
             28
            ],
            "sizemode": "area",
            "sizeref": 0.45
           },
           "name": "Berlin",
           "showlegend": true,
           "type": "scattergeo"
          },
          {
           "geo": "geo",
           "hovertemplate": "<b>%{hovertext}</b><br><br>city_name=Nürnberg<br>year_participation=1986<br>cumsum=%{marker.size}<br>lat=%{lat}<br>lon=%{lon}<extra></extra>",
           "hovertext": [
            "Nürnberg"
           ],
           "lat": [
            49.453872
           ],
           "legendgroup": "Nürnberg",
           "lon": [
            11.077297999999999
           ],
           "marker": {
            "color": "#19d3f3",
            "size": [
             5
            ],
            "sizemode": "area",
            "sizeref": 0.45
           },
           "name": "Nürnberg",
           "showlegend": true,
           "type": "scattergeo"
          },
          {
           "geo": "geo",
           "hovertemplate": "<b>%{hovertext}</b><br><br>city_name=Basel<br>year_participation=1986<br>cumsum=%{marker.size}<br>lat=%{lat}<br>lon=%{lon}<extra></extra>",
           "hovertext": [
            "Basel"
           ],
           "lat": [
            47.55810770000001
           ],
           "legendgroup": "Basel",
           "lon": [
            7.5878261
           ],
           "marker": {
            "color": "#FECB52",
            "size": [
             5
            ],
            "sizemode": "area",
            "sizeref": 0.45
           },
           "name": "Basel",
           "showlegend": true,
           "type": "scattergeo"
          },
          {
           "geo": "geo",
           "hovertemplate": "<b>%{hovertext}</b><br><br>city_name=Wennigsen<br>year_participation=1986<br>cumsum=%{marker.size}<br>lat=%{lat}<br>lon=%{lon}<extra></extra>",
           "hovertext": [
            "Wennigsen"
           ],
           "lat": [
            52.2762744
           ],
           "legendgroup": "Wennigsen",
           "lon": [
            9.5671846
           ],
           "marker": {
            "color": "#FFA15A",
            "size": [
             2
            ],
            "sizemode": "area",
            "sizeref": 0.45
           },
           "name": "Wennigsen",
           "showlegend": true,
           "type": "scattergeo"
          },
          {
           "geo": "geo",
           "hovertemplate": "<b>%{hovertext}</b><br><br>city_name=Stuttgart<br>year_participation=1986<br>cumsum=%{marker.size}<br>lat=%{lat}<br>lon=%{lon}<extra></extra>",
           "hovertext": [
            "Stuttgart"
           ],
           "lat": [
            48.778448499999996
           ],
           "legendgroup": "Stuttgart",
           "lon": [
            9.1800132
           ],
           "marker": {
            "color": "#FF97FF",
            "size": [
             4
            ],
            "sizemode": "area",
            "sizeref": 0.45
           },
           "name": "Stuttgart",
           "showlegend": true,
           "type": "scattergeo"
          },
          {
           "geo": "geo",
           "hovertemplate": "<b>%{hovertext}</b><br><br>city_name=Linz<br>year_participation=1986<br>cumsum=%{marker.size}<br>lat=%{lat}<br>lon=%{lon}<extra></extra>",
           "hovertext": [
            "Linz"
           ],
           "lat": [
            48.3059078
           ],
           "legendgroup": "Linz",
           "lon": [
            14.286198
           ],
           "marker": {
            "color": "#FF97FF",
            "size": [
             2
            ],
            "sizemode": "area",
            "sizeref": 0.45
           },
           "name": "Linz",
           "showlegend": true,
           "type": "scattergeo"
          },
          {
           "geo": "geo",
           "hovertemplate": "<b>%{hovertext}</b><br><br>city_name=Venedig<br>year_participation=1986<br>cumsum=%{marker.size}<br>lat=%{lat}<br>lon=%{lon}<extra></extra>",
           "hovertext": [
            "Venedig"
           ],
           "lat": [
            45.437190799999996
           ],
           "legendgroup": "Venedig",
           "lon": [
            12.3345898
           ],
           "marker": {
            "color": "#FECB52",
            "size": [
             1
            ],
            "sizemode": "area",
            "sizeref": 0.45
           },
           "name": "Venedig",
           "showlegend": true,
           "type": "scattergeo"
          },
          {
           "geo": "geo",
           "hovertemplate": "<b>%{hovertext}</b><br><br>city_name=Bozen<br>year_participation=1986<br>cumsum=%{marker.size}<br>lat=%{lat}<br>lon=%{lon}<extra></extra>",
           "hovertext": [
            "Bozen"
           ],
           "lat": [
            46.65594215
           ],
           "legendgroup": "Bozen",
           "lon": [
            11.229637264169462
           ],
           "marker": {
            "color": "#636efa",
            "size": [
             1
            ],
            "sizemode": "area",
            "sizeref": 0.45
           },
           "name": "Bozen",
           "showlegend": true,
           "type": "scattergeo"
          },
          {
           "geo": "geo",
           "hovertemplate": "<b>%{hovertext}</b><br><br>city_name=Wedel bei Hamburg<br>year_participation=1986<br>cumsum=%{marker.size}<br>lat=%{lat}<br>lon=%{lon}<extra></extra>",
           "hovertext": [
            "Wedel bei Hamburg"
           ],
           "lat": [
            53.57004379999999
           ],
           "legendgroup": "Wedel bei Hamburg",
           "lon": [
            9.7343152
           ],
           "marker": {
            "color": "#EF553B",
            "size": [
             1
            ],
            "sizemode": "area",
            "sizeref": 0.45
           },
           "name": "Wedel bei Hamburg",
           "showlegend": true,
           "type": "scattergeo"
          }
         ],
         "name": "1986"
        },
        {
         "data": [
          {
           "geo": "geo",
           "hovertemplate": "<b>%{hovertext}</b><br><br>city_name=Wien<br>year_participation=1987<br>cumsum=%{marker.size}<br>lat=%{lat}<br>lon=%{lon}<extra></extra>",
           "hovertext": [
            "Wien"
           ],
           "lat": [
            48.2083537
           ],
           "legendgroup": "Wien",
           "lon": [
            16.372504199999998
           ],
           "marker": {
            "color": "#00cc96",
            "size": [
             21
            ],
            "sizemode": "area",
            "sizeref": 0.45
           },
           "name": "Wien",
           "showlegend": true,
           "type": "scattergeo"
          },
          {
           "geo": "geo",
           "hovertemplate": "<b>%{hovertext}</b><br><br>city_name=München<br>year_participation=1987<br>cumsum=%{marker.size}<br>lat=%{lat}<br>lon=%{lon}<extra></extra>",
           "hovertext": [
            "München"
           ],
           "lat": [
            48.1371079
           ],
           "legendgroup": "München",
           "lon": [
            11.575382199999998
           ],
           "marker": {
            "color": "#B6E880",
            "size": [
             28
            ],
            "sizemode": "area",
            "sizeref": 0.45
           },
           "name": "München",
           "showlegend": true,
           "type": "scattergeo"
          },
          {
           "geo": "geo",
           "hovertemplate": "<b>%{hovertext}</b><br><br>city_name=Hamburg<br>year_participation=1987<br>cumsum=%{marker.size}<br>lat=%{lat}<br>lon=%{lon}<extra></extra>",
           "hovertext": [
            "Hamburg"
           ],
           "lat": [
            53.543764100000004
           ],
           "legendgroup": "Hamburg",
           "lon": [
            10.009913300000001
           ],
           "marker": {
            "color": "#FF97FF",
            "size": [
             15
            ],
            "sizemode": "area",
            "sizeref": 0.45
           },
           "name": "Hamburg",
           "showlegend": true,
           "type": "scattergeo"
          },
          {
           "geo": "geo",
           "hovertemplate": "<b>%{hovertext}</b><br><br>city_name=Berlin<br>year_participation=1987<br>cumsum=%{marker.size}<br>lat=%{lat}<br>lon=%{lon}<extra></extra>",
           "hovertext": [
            "Berlin"
           ],
           "lat": [
            52.517036499999996
           ],
           "legendgroup": "Berlin",
           "lon": [
            13.388859900000002
           ],
           "marker": {
            "color": "#EF553B",
            "size": [
             31
            ],
            "sizemode": "area",
            "sizeref": 0.45
           },
           "name": "Berlin",
           "showlegend": true,
           "type": "scattergeo"
          },
          {
           "geo": "geo",
           "hovertemplate": "<b>%{hovertext}</b><br><br>city_name=Salzburg<br>year_participation=1987<br>cumsum=%{marker.size}<br>lat=%{lat}<br>lon=%{lon}<extra></extra>",
           "hovertext": [
            "Salzburg"
           ],
           "lat": [
            47.798134600000004
           ],
           "legendgroup": "Salzburg",
           "lon": [
            13.046480599999999
           ],
           "marker": {
            "color": "#00cc96",
            "size": [
             10
            ],
            "sizemode": "area",
            "sizeref": 0.45
           },
           "name": "Salzburg",
           "showlegend": true,
           "type": "scattergeo"
          },
          {
           "geo": "geo",
           "hovertemplate": "<b>%{hovertext}</b><br><br>city_name=Gießen<br>year_participation=1987<br>cumsum=%{marker.size}<br>lat=%{lat}<br>lon=%{lon}<extra></extra>",
           "hovertext": [
            "Gießen"
           ],
           "lat": [
            50.5862066
           ],
           "legendgroup": "Gießen",
           "lon": [
            8.6742306
           ],
           "marker": {
            "color": "#00cc96",
            "size": [
             1
            ],
            "sizemode": "area",
            "sizeref": 0.45
           },
           "name": "Gießen",
           "showlegend": true,
           "type": "scattergeo"
          },
          {
           "geo": "geo",
           "hovertemplate": "<b>%{hovertext}</b><br><br>city_name=Potsdam<br>year_participation=1987<br>cumsum=%{marker.size}<br>lat=%{lat}<br>lon=%{lon}<extra></extra>",
           "hovertext": [
            "Potsdam"
           ],
           "lat": [
            52.4009309
           ],
           "legendgroup": "Potsdam",
           "lon": [
            13.0591397
           ],
           "marker": {
            "color": "#ab63fa",
            "size": [
             1
            ],
            "sizemode": "area",
            "sizeref": 0.45
           },
           "name": "Potsdam",
           "showlegend": true,
           "type": "scattergeo"
          },
          {
           "geo": "geo",
           "hovertemplate": "<b>%{hovertext}</b><br><br>city_name=Riehen<br>year_participation=1987<br>cumsum=%{marker.size}<br>lat=%{lat}<br>lon=%{lon}<extra></extra>",
           "hovertext": [
            "Riehen"
           ],
           "lat": [
            47.581692700000005
           ],
           "legendgroup": "Riehen",
           "lon": [
            7.6479737000000005
           ],
           "marker": {
            "color": "#FFA15A",
            "size": [
             1
            ],
            "sizemode": "area",
            "sizeref": 0.45
           },
           "name": "Riehen",
           "showlegend": true,
           "type": "scattergeo"
          },
          {
           "geo": "geo",
           "hovertemplate": "<b>%{hovertext}</b><br><br>city_name=Strasbourg<br>year_participation=1987<br>cumsum=%{marker.size}<br>lat=%{lat}<br>lon=%{lon}<extra></extra>",
           "hovertext": [
            "Strasbourg"
           ],
           "lat": [
            48.584614
           ],
           "legendgroup": "Strasbourg",
           "lon": [
            7.750712700000001
           ],
           "marker": {
            "color": "#19d3f3",
            "size": [
             1
            ],
            "sizemode": "area",
            "sizeref": 0.45
           },
           "name": "Strasbourg",
           "showlegend": true,
           "type": "scattergeo"
          },
          {
           "geo": "geo",
           "hovertemplate": "<b>%{hovertext}</b><br><br>city_name=San Diego<br>year_participation=1987<br>cumsum=%{marker.size}<br>lat=%{lat}<br>lon=%{lon}<extra></extra>",
           "hovertext": [
            "San Diego"
           ],
           "lat": [
            32.7174209
           ],
           "legendgroup": "San Diego",
           "lon": [
            -117.16277140000001
           ],
           "marker": {
            "color": "#FF6692",
            "size": [
             1
            ],
            "sizemode": "area",
            "sizeref": 0.45
           },
           "name": "San Diego",
           "showlegend": true,
           "type": "scattergeo"
          },
          {
           "geo": "geo",
           "hovertemplate": "<b>%{hovertext}</b><br><br>city_name=Bellin<br>year_participation=1987<br>cumsum=%{marker.size}<br>lat=%{lat}<br>lon=%{lon}<extra></extra>",
           "hovertext": [
            "Bellin"
           ],
           "lat": [
            54.2802679
           ],
           "legendgroup": "Bellin",
           "lon": [
            10.466820599999998
           ],
           "marker": {
            "color": "#B6E880",
            "size": [
             1
            ],
            "sizemode": "area",
            "sizeref": 0.45
           },
           "name": "Bellin",
           "showlegend": true,
           "type": "scattergeo"
          },
          {
           "geo": "geo",
           "hovertemplate": "<b>%{hovertext}</b><br><br>city_name=Kiel<br>year_participation=1987<br>cumsum=%{marker.size}<br>lat=%{lat}<br>lon=%{lon}<extra></extra>",
           "hovertext": [
            "Kiel"
           ],
           "lat": [
            54.3227085
           ],
           "legendgroup": "Kiel",
           "lon": [
            10.135555
           ],
           "marker": {
            "color": "#FF97FF",
            "size": [
             1
            ],
            "sizemode": "area",
            "sizeref": 0.45
           },
           "name": "Kiel",
           "showlegend": true,
           "type": "scattergeo"
          },
          {
           "geo": "geo",
           "hovertemplate": "<b>%{hovertext}</b><br><br>city_name=Lünen<br>year_participation=1987<br>cumsum=%{marker.size}<br>lat=%{lat}<br>lon=%{lon}<extra></extra>",
           "hovertext": [
            "Lünen"
           ],
           "lat": [
            51.6142482
           ],
           "legendgroup": "Lünen",
           "lon": [
            7.5228088
           ],
           "marker": {
            "color": "#FECB52",
            "size": [
             1
            ],
            "sizemode": "area",
            "sizeref": 0.45
           },
           "name": "Lünen",
           "showlegend": true,
           "type": "scattergeo"
          },
          {
           "geo": "geo",
           "hovertemplate": "<b>%{hovertext}</b><br><br>city_name=Bachern<br>year_participation=1987<br>cumsum=%{marker.size}<br>lat=%{lat}<br>lon=%{lon}<extra></extra>",
           "hovertext": [
            "Bachern"
           ],
           "lat": [
            48.309566100000005
           ],
           "legendgroup": "Bachern",
           "lon": [
            11.045127699999998
           ],
           "marker": {
            "color": "#636efa",
            "size": [
             1
            ],
            "sizemode": "area",
            "sizeref": 0.45
           },
           "name": "Bachern",
           "showlegend": true,
           "type": "scattergeo"
          }
         ],
         "name": "1987"
        },
        {
         "data": [
          {
           "geo": "geo",
           "hovertemplate": "<b>%{hovertext}</b><br><br>city_name=Wien<br>year_participation=1988<br>cumsum=%{marker.size}<br>lat=%{lat}<br>lon=%{lon}<extra></extra>",
           "hovertext": [
            "Wien"
           ],
           "lat": [
            48.2083537
           ],
           "legendgroup": "Wien",
           "lon": [
            16.372504199999998
           ],
           "marker": {
            "color": "#00cc96",
            "size": [
             23
            ],
            "sizemode": "area",
            "sizeref": 0.45
           },
           "name": "Wien",
           "showlegend": true,
           "type": "scattergeo"
          },
          {
           "geo": "geo",
           "hovertemplate": "<b>%{hovertext}</b><br><br>city_name=München<br>year_participation=1988<br>cumsum=%{marker.size}<br>lat=%{lat}<br>lon=%{lon}<extra></extra>",
           "hovertext": [
            "München"
           ],
           "lat": [
            48.1371079
           ],
           "legendgroup": "München",
           "lon": [
            11.575382199999998
           ],
           "marker": {
            "color": "#B6E880",
            "size": [
             29
            ],
            "sizemode": "area",
            "sizeref": 0.45
           },
           "name": "München",
           "showlegend": true,
           "type": "scattergeo"
          },
          {
           "geo": "geo",
           "hovertemplate": "<b>%{hovertext}</b><br><br>city_name=Hamburg<br>year_participation=1988<br>cumsum=%{marker.size}<br>lat=%{lat}<br>lon=%{lon}<extra></extra>",
           "hovertext": [
            "Hamburg"
           ],
           "lat": [
            53.543764100000004
           ],
           "legendgroup": "Hamburg",
           "lon": [
            10.009913300000001
           ],
           "marker": {
            "color": "#FF97FF",
            "size": [
             18
            ],
            "sizemode": "area",
            "sizeref": 0.45
           },
           "name": "Hamburg",
           "showlegend": true,
           "type": "scattergeo"
          },
          {
           "geo": "geo",
           "hovertemplate": "<b>%{hovertext}</b><br><br>city_name=Zürich<br>year_participation=1988<br>cumsum=%{marker.size}<br>lat=%{lat}<br>lon=%{lon}<extra></extra>",
           "hovertext": [
            "Zürich"
           ],
           "lat": [
            47.3723941
           ],
           "legendgroup": "Zürich",
           "lon": [
            8.5423328
           ],
           "marker": {
            "color": "#FECB52",
            "size": [
             9
            ],
            "sizemode": "area",
            "sizeref": 0.45
           },
           "name": "Zürich",
           "showlegend": true,
           "type": "scattergeo"
          },
          {
           "geo": "geo",
           "hovertemplate": "<b>%{hovertext}</b><br><br>city_name=Berlin<br>year_participation=1988<br>cumsum=%{marker.size}<br>lat=%{lat}<br>lon=%{lon}<extra></extra>",
           "hovertext": [
            "Berlin"
           ],
           "lat": [
            52.517036499999996
           ],
           "legendgroup": "Berlin",
           "lon": [
            13.388859900000002
           ],
           "marker": {
            "color": "#EF553B",
            "size": [
             34
            ],
            "sizemode": "area",
            "sizeref": 0.45
           },
           "name": "Berlin",
           "showlegend": true,
           "type": "scattergeo"
          },
          {
           "geo": "geo",
           "hovertemplate": "<b>%{hovertext}</b><br><br>city_name=Frankfurt/Main<br>year_participation=1988<br>cumsum=%{marker.size}<br>lat=%{lat}<br>lon=%{lon}<extra></extra>",
           "hovertext": [
            "Frankfurt/Main"
           ],
           "lat": [
            50.053763700000005
           ],
           "legendgroup": "Frankfurt/Main",
           "lon": [
            8.637085800000001
           ],
           "marker": {
            "color": "#ab63fa",
            "size": [
             12
            ],
            "sizemode": "area",
            "sizeref": 0.45
           },
           "name": "Frankfurt/Main",
           "showlegend": true,
           "type": "scattergeo"
          },
          {
           "geo": "geo",
           "hovertemplate": "<b>%{hovertext}</b><br><br>city_name=Köln<br>year_participation=1988<br>cumsum=%{marker.size}<br>lat=%{lat}<br>lon=%{lon}<extra></extra>",
           "hovertext": [
            "Köln"
           ],
           "lat": [
            50.938361
           ],
           "legendgroup": "Köln",
           "lon": [
            6.959974000000001
           ],
           "marker": {
            "color": "#00cc96",
            "size": [
             2
            ],
            "sizemode": "area",
            "sizeref": 0.45
           },
           "name": "Köln",
           "showlegend": true,
           "type": "scattergeo"
          },
          {
           "geo": "geo",
           "hovertemplate": "<b>%{hovertext}</b><br><br>city_name=Innsbruck<br>year_participation=1988<br>cumsum=%{marker.size}<br>lat=%{lat}<br>lon=%{lon}<extra></extra>",
           "hovertext": [
            "Innsbruck"
           ],
           "lat": [
            47.265429600000004
           ],
           "legendgroup": "Innsbruck",
           "lon": [
            11.392768499999999
           ],
           "marker": {
            "color": "#FF6692",
            "size": [
             3
            ],
            "sizemode": "area",
            "sizeref": 0.45
           },
           "name": "Innsbruck",
           "showlegend": true,
           "type": "scattergeo"
          },
          {
           "geo": "geo",
           "hovertemplate": "<b>%{hovertext}</b><br><br>city_name=Willisau<br>year_participation=1988<br>cumsum=%{marker.size}<br>lat=%{lat}<br>lon=%{lon}<extra></extra>",
           "hovertext": [
            "Willisau"
           ],
           "lat": [
            47.1215184
           ],
           "legendgroup": "Willisau",
           "lon": [
            7.996589999999999
           ],
           "marker": {
            "color": "#EF553B",
            "size": [
             1
            ],
            "sizemode": "area",
            "sizeref": 0.45
           },
           "name": "Willisau",
           "showlegend": true,
           "type": "scattergeo"
          },
          {
           "geo": "geo",
           "hovertemplate": "<b>%{hovertext}</b><br><br>city_name=Leipzig<br>year_participation=1988<br>cumsum=%{marker.size}<br>lat=%{lat}<br>lon=%{lon}<extra></extra>",
           "hovertext": [
            "Leipzig"
           ],
           "lat": [
            51.3406321
           ],
           "legendgroup": "Leipzig",
           "lon": [
            12.3747329
           ],
           "marker": {
            "color": "#00cc96",
            "size": [
             1
            ],
            "sizemode": "area",
            "sizeref": 0.45
           },
           "name": "Leipzig",
           "showlegend": true,
           "type": "scattergeo"
          },
          {
           "geo": "geo",
           "hovertemplate": "<b>%{hovertext}</b><br><br>city_name=Wildau<br>year_participation=1988<br>cumsum=%{marker.size}<br>lat=%{lat}<br>lon=%{lon}<extra></extra>",
           "hovertext": [
            "Wildau"
           ],
           "lat": [
            52.3193463
           ],
           "legendgroup": "Wildau",
           "lon": [
            13.633815300000002
           ],
           "marker": {
            "color": "#ab63fa",
            "size": [
             1
            ],
            "sizemode": "area",
            "sizeref": 0.45
           },
           "name": "Wildau",
           "showlegend": true,
           "type": "scattergeo"
          },
          {
           "geo": "geo",
           "hovertemplate": "<b>%{hovertext}</b><br><br>city_name=St. Gallen<br>year_participation=1988<br>cumsum=%{marker.size}<br>lat=%{lat}<br>lon=%{lon}<extra></extra>",
           "hovertext": [
            "St. Gallen"
           ],
           "lat": [
            47.4250593
           ],
           "legendgroup": "St. Gallen",
           "lon": [
            9.376587800000001
           ],
           "marker": {
            "color": "#FFA15A",
            "size": [
             1
            ],
            "sizemode": "area",
            "sizeref": 0.45
           },
           "name": "St. Gallen",
           "showlegend": true,
           "type": "scattergeo"
          },
          {
           "geo": "geo",
           "hovertemplate": "<b>%{hovertext}</b><br><br>city_name=Tielenhemme<br>year_participation=1988<br>cumsum=%{marker.size}<br>lat=%{lat}<br>lon=%{lon}<extra></extra>",
           "hovertext": [
            "Tielenhemme"
           ],
           "lat": [
            54.2766302
           ],
           "legendgroup": "Tielenhemme",
           "lon": [
            9.387998399999999
           ],
           "marker": {
            "color": "#19d3f3",
            "size": [
             1
            ],
            "sizemode": "area",
            "sizeref": 0.45
           },
           "name": "Tielenhemme",
           "showlegend": true,
           "type": "scattergeo"
          },
          {
           "geo": "geo",
           "hovertemplate": "<b>%{hovertext}</b><br><br>city_name=Schmitten<br>year_participation=1988<br>cumsum=%{marker.size}<br>lat=%{lat}<br>lon=%{lon}<extra></extra>",
           "hovertext": [
            "Schmitten"
           ],
           "lat": [
            50.2694775
           ],
           "legendgroup": "Schmitten",
           "lon": [
            8.4440229
           ],
           "marker": {
            "color": "#FF6692",
            "size": [
             1
            ],
            "sizemode": "area",
            "sizeref": 0.45
           },
           "name": "Schmitten",
           "showlegend": true,
           "type": "scattergeo"
          },
          {
           "geo": "geo",
           "hovertemplate": "<b>%{hovertext}</b><br><br>city_name=Schallaburg<br>year_participation=1988<br>cumsum=%{marker.size}<br>lat=%{lat}<br>lon=%{lon}<extra></extra>",
           "hovertext": [
            "Schallaburg"
           ],
           "lat": [
            48.1890617
           ],
           "legendgroup": "Schallaburg",
           "lon": [
            15.35619281701183
           ],
           "marker": {
            "color": "#B6E880",
            "size": [
             1
            ],
            "sizemode": "area",
            "sizeref": 0.45
           },
           "name": "Schallaburg",
           "showlegend": true,
           "type": "scattergeo"
          },
          {
           "geo": "geo",
           "hovertemplate": "<b>%{hovertext}</b><br><br>city_name=Herrsching<br>year_participation=1988<br>cumsum=%{marker.size}<br>lat=%{lat}<br>lon=%{lon}<extra></extra>",
           "hovertext": [
            "Herrsching"
           ],
           "lat": [
            47.998462200000006
           ],
           "legendgroup": "Herrsching",
           "lon": [
            11.1703947
           ],
           "marker": {
            "color": "#FF97FF",
            "size": [
             1
            ],
            "sizemode": "area",
            "sizeref": 0.45
           },
           "name": "Herrsching",
           "showlegend": true,
           "type": "scattergeo"
          },
          {
           "geo": "geo",
           "hovertemplate": "<b>%{hovertext}</b><br><br>city_name=Wiefelstede<br>year_participation=1988<br>cumsum=%{marker.size}<br>lat=%{lat}<br>lon=%{lon}<extra></extra>",
           "hovertext": [
            "Wiefelstede"
           ],
           "lat": [
            53.25586260000001
           ],
           "legendgroup": "Wiefelstede",
           "lon": [
            8.1150123
           ],
           "marker": {
            "color": "#FECB52",
            "size": [
             1
            ],
            "sizemode": "area",
            "sizeref": 0.45
           },
           "name": "Wiefelstede",
           "showlegend": true,
           "type": "scattergeo"
          }
         ],
         "name": "1988"
        },
        {
         "data": [
          {
           "geo": "geo",
           "hovertemplate": "<b>%{hovertext}</b><br><br>city_name=Wien<br>year_participation=1989<br>cumsum=%{marker.size}<br>lat=%{lat}<br>lon=%{lon}<extra></extra>",
           "hovertext": [
            "Wien"
           ],
           "lat": [
            48.2083537
           ],
           "legendgroup": "Wien",
           "lon": [
            16.372504199999998
           ],
           "marker": {
            "color": "#00cc96",
            "size": [
             24
            ],
            "sizemode": "area",
            "sizeref": 0.45
           },
           "name": "Wien",
           "showlegend": true,
           "type": "scattergeo"
          },
          {
           "geo": "geo",
           "hovertemplate": "<b>%{hovertext}</b><br><br>city_name=Zürich<br>year_participation=1989<br>cumsum=%{marker.size}<br>lat=%{lat}<br>lon=%{lon}<extra></extra>",
           "hovertext": [
            "Zürich"
           ],
           "lat": [
            47.3723941
           ],
           "legendgroup": "Zürich",
           "lon": [
            8.5423328
           ],
           "marker": {
            "color": "#FECB52",
            "size": [
             10
            ],
            "sizemode": "area",
            "sizeref": 0.45
           },
           "name": "Zürich",
           "showlegend": true,
           "type": "scattergeo"
          },
          {
           "geo": "geo",
           "hovertemplate": "<b>%{hovertext}</b><br><br>city_name=Berlin<br>year_participation=1989<br>cumsum=%{marker.size}<br>lat=%{lat}<br>lon=%{lon}<extra></extra>",
           "hovertext": [
            "Berlin"
           ],
           "lat": [
            52.517036499999996
           ],
           "legendgroup": "Berlin",
           "lon": [
            13.388859900000002
           ],
           "marker": {
            "color": "#EF553B",
            "size": [
             39
            ],
            "sizemode": "area",
            "sizeref": 0.45
           },
           "name": "Berlin",
           "showlegend": true,
           "type": "scattergeo"
          },
          {
           "geo": "geo",
           "hovertemplate": "<b>%{hovertext}</b><br><br>city_name=Frankfurt/Main<br>year_participation=1989<br>cumsum=%{marker.size}<br>lat=%{lat}<br>lon=%{lon}<extra></extra>",
           "hovertext": [
            "Frankfurt/Main"
           ],
           "lat": [
            50.053763700000005
           ],
           "legendgroup": "Frankfurt/Main",
           "lon": [
            8.637085800000001
           ],
           "marker": {
            "color": "#ab63fa",
            "size": [
             14
            ],
            "sizemode": "area",
            "sizeref": 0.45
           },
           "name": "Frankfurt/Main",
           "showlegend": true,
           "type": "scattergeo"
          },
          {
           "geo": "geo",
           "hovertemplate": "<b>%{hovertext}</b><br><br>city_name=Nürnberg<br>year_participation=1989<br>cumsum=%{marker.size}<br>lat=%{lat}<br>lon=%{lon}<extra></extra>",
           "hovertext": [
            "Nürnberg"
           ],
           "lat": [
            49.453872
           ],
           "legendgroup": "Nürnberg",
           "lon": [
            11.077297999999999
           ],
           "marker": {
            "color": "#19d3f3",
            "size": [
             7
            ],
            "sizemode": "area",
            "sizeref": 0.45
           },
           "name": "Nürnberg",
           "showlegend": true,
           "type": "scattergeo"
          },
          {
           "geo": "geo",
           "hovertemplate": "<b>%{hovertext}</b><br><br>city_name=Bern<br>year_participation=1989<br>cumsum=%{marker.size}<br>lat=%{lat}<br>lon=%{lon}<extra></extra>",
           "hovertext": [
            "Bern"
           ],
           "lat": [
            46.9482713
           ],
           "legendgroup": "Bern",
           "lon": [
            7.4514512
           ],
           "marker": {
            "color": "#FF6692",
            "size": [
             9
            ],
            "sizemode": "area",
            "sizeref": 0.45
           },
           "name": "Bern",
           "showlegend": true,
           "type": "scattergeo"
          },
          {
           "geo": "geo",
           "hovertemplate": "<b>%{hovertext}</b><br><br>city_name=Graz<br>year_participation=1989<br>cumsum=%{marker.size}<br>lat=%{lat}<br>lon=%{lon}<extra></extra>",
           "hovertext": [
            "Graz"
           ],
           "lat": [
            47.070867799999995
           ],
           "legendgroup": "Graz",
           "lon": [
            15.438278599999999
           ],
           "marker": {
            "color": "#00cc96",
            "size": [
             5
            ],
            "sizemode": "area",
            "sizeref": 0.45
           },
           "name": "Graz",
           "showlegend": true,
           "type": "scattergeo"
          },
          {
           "geo": "geo",
           "hovertemplate": "<b>%{hovertext}</b><br><br>city_name=Basel<br>year_participation=1989<br>cumsum=%{marker.size}<br>lat=%{lat}<br>lon=%{lon}<extra></extra>",
           "hovertext": [
            "Basel"
           ],
           "lat": [
            47.55810770000001
           ],
           "legendgroup": "Basel",
           "lon": [
            7.5878261
           ],
           "marker": {
            "color": "#FECB52",
            "size": [
             6
            ],
            "sizemode": "area",
            "sizeref": 0.45
           },
           "name": "Basel",
           "showlegend": true,
           "type": "scattergeo"
          },
          {
           "geo": "geo",
           "hovertemplate": "<b>%{hovertext}</b><br><br>city_name=Unterkulm<br>year_participation=1989<br>cumsum=%{marker.size}<br>lat=%{lat}<br>lon=%{lon}<extra></extra>",
           "hovertext": [
            "Unterkulm"
           ],
           "lat": [
            47.3103727
           ],
           "legendgroup": "Unterkulm",
           "lon": [
            8.11471
           ],
           "marker": {
            "color": "#EF553B",
            "size": [
             2
            ],
            "sizemode": "area",
            "sizeref": 0.45
           },
           "name": "Unterkulm",
           "showlegend": true,
           "type": "scattergeo"
          },
          {
           "geo": "geo",
           "hovertemplate": "<b>%{hovertext}</b><br><br>city_name=Luzern<br>year_participation=1989<br>cumsum=%{marker.size}<br>lat=%{lat}<br>lon=%{lon}<extra></extra>",
           "hovertext": [
            "Luzern"
           ],
           "lat": [
            47.0505452
           ],
           "legendgroup": "Luzern",
           "lon": [
            8.3054682
           ],
           "marker": {
            "color": "#636efa",
            "size": [
             2
            ],
            "sizemode": "area",
            "sizeref": 0.45
           },
           "name": "Luzern",
           "showlegend": true,
           "type": "scattergeo"
          },
          {
           "geo": "geo",
           "hovertemplate": "<b>%{hovertext}</b><br><br>city_name=Hollenstedt<br>year_participation=1989<br>cumsum=%{marker.size}<br>lat=%{lat}<br>lon=%{lon}<extra></extra>",
           "hovertext": [
            "Hollenstedt"
           ],
           "lat": [
            53.368408900000006
           ],
           "legendgroup": "Hollenstedt",
           "lon": [
            9.7125276
           ],
           "marker": {
            "color": "#636efa",
            "size": [
             1
            ],
            "sizemode": "area",
            "sizeref": 0.45
           },
           "name": "Hollenstedt",
           "showlegend": true,
           "type": "scattergeo"
          },
          {
           "geo": "geo",
           "hovertemplate": "<b>%{hovertext}</b><br><br>city_name=Lans<br>year_participation=1989<br>cumsum=%{marker.size}<br>lat=%{lat}<br>lon=%{lon}<extra></extra>",
           "hovertext": [
            "Lans"
           ],
           "lat": [
            45.1277768
           ],
           "legendgroup": "Lans",
           "lon": [
            5.5891386
           ],
           "marker": {
            "color": "#EF553B",
            "size": [
             1
            ],
            "sizemode": "area",
            "sizeref": 0.45
           },
           "name": "Lans",
           "showlegend": true,
           "type": "scattergeo"
          },
          {
           "geo": "geo",
           "hovertemplate": "<b>%{hovertext}</b><br><br>city_name=Erfurt<br>year_participation=1989<br>cumsum=%{marker.size}<br>lat=%{lat}<br>lon=%{lon}<extra></extra>",
           "hovertext": [
            "Erfurt"
           ],
           "lat": [
            50.9777974
           ],
           "legendgroup": "Erfurt",
           "lon": [
            11.0287364
           ],
           "marker": {
            "color": "#00cc96",
            "size": [
             1
            ],
            "sizemode": "area",
            "sizeref": 0.45
           },
           "name": "Erfurt",
           "showlegend": true,
           "type": "scattergeo"
          },
          {
           "geo": "geo",
           "hovertemplate": "<b>%{hovertext}</b><br><br>city_name=Dollart<br>year_participation=1989<br>cumsum=%{marker.size}<br>lat=%{lat}<br>lon=%{lon}<extra></extra>",
           "hovertext": [
            "Dollart"
           ],
           "lat": [
            53.28355
           ],
           "legendgroup": "Dollart",
           "lon": [
            7.16088909497908
           ],
           "marker": {
            "color": "#ab63fa",
            "size": [
             1
            ],
            "sizemode": "area",
            "sizeref": 0.45
           },
           "name": "Dollart",
           "showlegend": true,
           "type": "scattergeo"
          },
          {
           "geo": "geo",
           "hovertemplate": "<b>%{hovertext}</b><br><br>city_name=Wolfsberg<br>year_participation=1989<br>cumsum=%{marker.size}<br>lat=%{lat}<br>lon=%{lon}<extra></extra>",
           "hovertext": [
            "Wolfsberg"
           ],
           "lat": [
            52.4205588
           ],
           "legendgroup": "Wolfsberg",
           "lon": [
            10.786168199999999
           ],
           "marker": {
            "color": "#FFA15A",
            "size": [
             1
            ],
            "sizemode": "area",
            "sizeref": 0.45
           },
           "name": "Wolfsberg",
           "showlegend": true,
           "type": "scattergeo"
          }
         ],
         "name": "1989"
        },
        {
         "data": [
          {
           "geo": "geo",
           "hovertemplate": "<b>%{hovertext}</b><br><br>city_name=Wien<br>year_participation=1990<br>cumsum=%{marker.size}<br>lat=%{lat}<br>lon=%{lon}<extra></extra>",
           "hovertext": [
            "Wien"
           ],
           "lat": [
            48.2083537
           ],
           "legendgroup": "Wien",
           "lon": [
            16.372504199999998
           ],
           "marker": {
            "color": "#00cc96",
            "size": [
             26
            ],
            "sizemode": "area",
            "sizeref": 0.45
           },
           "name": "Wien",
           "showlegend": true,
           "type": "scattergeo"
          },
          {
           "geo": "geo",
           "hovertemplate": "<b>%{hovertext}</b><br><br>city_name=München<br>year_participation=1990<br>cumsum=%{marker.size}<br>lat=%{lat}<br>lon=%{lon}<extra></extra>",
           "hovertext": [
            "München"
           ],
           "lat": [
            48.1371079
           ],
           "legendgroup": "München",
           "lon": [
            11.575382199999998
           ],
           "marker": {
            "color": "#B6E880",
            "size": [
             30
            ],
            "sizemode": "area",
            "sizeref": 0.45
           },
           "name": "München",
           "showlegend": true,
           "type": "scattergeo"
          },
          {
           "geo": "geo",
           "hovertemplate": "<b>%{hovertext}</b><br><br>city_name=Hamburg<br>year_participation=1990<br>cumsum=%{marker.size}<br>lat=%{lat}<br>lon=%{lon}<extra></extra>",
           "hovertext": [
            "Hamburg"
           ],
           "lat": [
            53.543764100000004
           ],
           "legendgroup": "Hamburg",
           "lon": [
            10.009913300000001
           ],
           "marker": {
            "color": "#FF97FF",
            "size": [
             19
            ],
            "sizemode": "area",
            "sizeref": 0.45
           },
           "name": "Hamburg",
           "showlegend": true,
           "type": "scattergeo"
          },
          {
           "geo": "geo",
           "hovertemplate": "<b>%{hovertext}</b><br><br>city_name=Zürich<br>year_participation=1990<br>cumsum=%{marker.size}<br>lat=%{lat}<br>lon=%{lon}<extra></extra>",
           "hovertext": [
            "Zürich"
           ],
           "lat": [
            47.3723941
           ],
           "legendgroup": "Zürich",
           "lon": [
            8.5423328
           ],
           "marker": {
            "color": "#FECB52",
            "size": [
             11
            ],
            "sizemode": "area",
            "sizeref": 0.45
           },
           "name": "Zürich",
           "showlegend": true,
           "type": "scattergeo"
          },
          {
           "geo": "geo",
           "hovertemplate": "<b>%{hovertext}</b><br><br>city_name=Berlin<br>year_participation=1990<br>cumsum=%{marker.size}<br>lat=%{lat}<br>lon=%{lon}<extra></extra>",
           "hovertext": [
            "Berlin"
           ],
           "lat": [
            52.517036499999996
           ],
           "legendgroup": "Berlin",
           "lon": [
            13.388859900000002
           ],
           "marker": {
            "color": "#EF553B",
            "size": [
             43
            ],
            "sizemode": "area",
            "sizeref": 0.45
           },
           "name": "Berlin",
           "showlegend": true,
           "type": "scattergeo"
          },
          {
           "geo": "geo",
           "hovertemplate": "<b>%{hovertext}</b><br><br>city_name=Salzburg<br>year_participation=1990<br>cumsum=%{marker.size}<br>lat=%{lat}<br>lon=%{lon}<extra></extra>",
           "hovertext": [
            "Salzburg"
           ],
           "lat": [
            47.798134600000004
           ],
           "legendgroup": "Salzburg",
           "lon": [
            13.046480599999999
           ],
           "marker": {
            "color": "#00cc96",
            "size": [
             11
            ],
            "sizemode": "area",
            "sizeref": 0.45
           },
           "name": "Salzburg",
           "showlegend": true,
           "type": "scattergeo"
          },
          {
           "geo": "geo",
           "hovertemplate": "<b>%{hovertext}</b><br><br>city_name=Frankfurt/Main<br>year_participation=1990<br>cumsum=%{marker.size}<br>lat=%{lat}<br>lon=%{lon}<extra></extra>",
           "hovertext": [
            "Frankfurt/Main"
           ],
           "lat": [
            50.053763700000005
           ],
           "legendgroup": "Frankfurt/Main",
           "lon": [
            8.637085800000001
           ],
           "marker": {
            "color": "#ab63fa",
            "size": [
             15
            ],
            "sizemode": "area",
            "sizeref": 0.45
           },
           "name": "Frankfurt/Main",
           "showlegend": true,
           "type": "scattergeo"
          },
          {
           "geo": "geo",
           "hovertemplate": "<b>%{hovertext}</b><br><br>city_name=Basel<br>year_participation=1990<br>cumsum=%{marker.size}<br>lat=%{lat}<br>lon=%{lon}<extra></extra>",
           "hovertext": [
            "Basel"
           ],
           "lat": [
            47.55810770000001
           ],
           "legendgroup": "Basel",
           "lon": [
            7.5878261
           ],
           "marker": {
            "color": "#FECB52",
            "size": [
             7
            ],
            "sizemode": "area",
            "sizeref": 0.45
           },
           "name": "Basel",
           "showlegend": true,
           "type": "scattergeo"
          },
          {
           "geo": "geo",
           "hovertemplate": "<b>%{hovertext}</b><br><br>city_name=Los Angeles<br>year_participation=1990<br>cumsum=%{marker.size}<br>lat=%{lat}<br>lon=%{lon}<extra></extra>",
           "hovertext": [
            "Los Angeles"
           ],
           "lat": [
            34.0536909
           ],
           "legendgroup": "Los Angeles",
           "lon": [
            -118.2427666
           ],
           "marker": {
            "color": "#19d3f3",
            "size": [
             1
            ],
            "sizemode": "area",
            "sizeref": 0.45
           },
           "name": "Los Angeles",
           "showlegend": true,
           "type": "scattergeo"
          },
          {
           "geo": "geo",
           "hovertemplate": "<b>%{hovertext}</b><br><br>city_name=Maria Enzersdorf<br>year_participation=1990<br>cumsum=%{marker.size}<br>lat=%{lat}<br>lon=%{lon}<extra></extra>",
           "hovertext": [
            "Maria Enzersdorf"
           ],
           "lat": [
            48.09334395000001
           ],
           "legendgroup": "Maria Enzersdorf",
           "lon": [
            16.272160513232826
           ],
           "marker": {
            "color": "#FF6692",
            "size": [
             1
            ],
            "sizemode": "area",
            "sizeref": 0.45
           },
           "name": "Maria Enzersdorf",
           "showlegend": true,
           "type": "scattergeo"
          },
          {
           "geo": "geo",
           "hovertemplate": "<b>%{hovertext}</b><br><br>city_name=Halle<br>year_participation=1990<br>cumsum=%{marker.size}<br>lat=%{lat}<br>lon=%{lon}<extra></extra>",
           "hovertext": [
            "Halle"
           ],
           "lat": [
            51.4825041
           ],
           "legendgroup": "Halle",
           "lon": [
            11.970545199999998
           ],
           "marker": {
            "color": "#B6E880",
            "size": [
             1
            ],
            "sizemode": "area",
            "sizeref": 0.45
           },
           "name": "Halle",
           "showlegend": true,
           "type": "scattergeo"
          },
          {
           "geo": "geo",
           "hovertemplate": "<b>%{hovertext}</b><br><br>city_name=Oberursel<br>year_participation=1990<br>cumsum=%{marker.size}<br>lat=%{lat}<br>lon=%{lon}<extra></extra>",
           "hovertext": [
            "Oberursel"
           ],
           "lat": [
            50.2005518
           ],
           "legendgroup": "Oberursel",
           "lon": [
            8.580452000000001
           ],
           "marker": {
            "color": "#FF97FF",
            "size": [
             1
            ],
            "sizemode": "area",
            "sizeref": 0.45
           },
           "name": "Oberursel",
           "showlegend": true,
           "type": "scattergeo"
          },
          {
           "geo": "geo",
           "hovertemplate": "<b>%{hovertext}</b><br><br>city_name=Freiburg<br>year_participation=1990<br>cumsum=%{marker.size}<br>lat=%{lat}<br>lon=%{lon}<extra></extra>",
           "hovertext": [
            "Freiburg"
           ],
           "lat": [
            47.9960901
           ],
           "legendgroup": "Freiburg",
           "lon": [
            7.849400500000001
           ],
           "marker": {
            "color": "#FECB52",
            "size": [
             1
            ],
            "sizemode": "area",
            "sizeref": 0.45
           },
           "name": "Freiburg",
           "showlegend": true,
           "type": "scattergeo"
          },
          {
           "geo": "geo",
           "hovertemplate": "<b>%{hovertext}</b><br><br>city_name=Norwich<br>year_participation=1990<br>cumsum=%{marker.size}<br>lat=%{lat}<br>lon=%{lon}<extra></extra>",
           "hovertext": [
            "Norwich"
           ],
           "lat": [
            52.628606000000005
           ],
           "legendgroup": "Norwich",
           "lon": [
            1.29227
           ],
           "marker": {
            "color": "#636efa",
            "size": [
             1
            ],
            "sizemode": "area",
            "sizeref": 0.45
           },
           "name": "Norwich",
           "showlegend": true,
           "type": "scattergeo"
          },
          {
           "geo": "geo",
           "hovertemplate": "<b>%{hovertext}</b><br><br>city_name=Cluj-Napoca<br>year_participation=1990<br>cumsum=%{marker.size}<br>lat=%{lat}<br>lon=%{lon}<extra></extra>",
           "hovertext": [
            "Cluj-Napoca"
           ],
           "lat": [
            46.769379
           ],
           "legendgroup": "Cluj-Napoca",
           "lon": [
            23.589954199999998
           ],
           "marker": {
            "color": "#EF553B",
            "size": [
             1
            ],
            "sizemode": "area",
            "sizeref": 0.45
           },
           "name": "Cluj-Napoca",
           "showlegend": true,
           "type": "scattergeo"
          },
          {
           "geo": "geo",
           "hovertemplate": "<b>%{hovertext}</b><br><br>city_name=Boston<br>year_participation=1990<br>cumsum=%{marker.size}<br>lat=%{lat}<br>lon=%{lon}<extra></extra>",
           "hovertext": [
            "Boston"
           ],
           "lat": [
            42.3602534
           ],
           "legendgroup": "Boston",
           "lon": [
            -71.0582912
           ],
           "marker": {
            "color": "#00cc96",
            "size": [
             1
            ],
            "sizemode": "area",
            "sizeref": 0.45
           },
           "name": "Boston",
           "showlegend": true,
           "type": "scattergeo"
          },
          {
           "geo": "geo",
           "hovertemplate": "<b>%{hovertext}</b><br><br>city_name=Bielefeld<br>year_participation=1990<br>cumsum=%{marker.size}<br>lat=%{lat}<br>lon=%{lon}<extra></extra>",
           "hovertext": [
            "Bielefeld"
           ],
           "lat": [
            52.0191005
           ],
           "legendgroup": "Bielefeld",
           "lon": [
            8.531007
           ],
           "marker": {
            "color": "#ab63fa",
            "size": [
             1
            ],
            "sizemode": "area",
            "sizeref": 0.45
           },
           "name": "Bielefeld",
           "showlegend": true,
           "type": "scattergeo"
          }
         ],
         "name": "1990"
        },
        {
         "data": [
          {
           "geo": "geo",
           "hovertemplate": "<b>%{hovertext}</b><br><br>city_name=München<br>year_participation=1991<br>cumsum=%{marker.size}<br>lat=%{lat}<br>lon=%{lon}<extra></extra>",
           "hovertext": [
            "München"
           ],
           "lat": [
            48.1371079
           ],
           "legendgroup": "München",
           "lon": [
            11.575382199999998
           ],
           "marker": {
            "color": "#B6E880",
            "size": [
             32
            ],
            "sizemode": "area",
            "sizeref": 0.45
           },
           "name": "München",
           "showlegend": true,
           "type": "scattergeo"
          },
          {
           "geo": "geo",
           "hovertemplate": "<b>%{hovertext}</b><br><br>city_name=Zürich<br>year_participation=1991<br>cumsum=%{marker.size}<br>lat=%{lat}<br>lon=%{lon}<extra></extra>",
           "hovertext": [
            "Zürich"
           ],
           "lat": [
            47.3723941
           ],
           "legendgroup": "Zürich",
           "lon": [
            8.5423328
           ],
           "marker": {
            "color": "#FECB52",
            "size": [
             12
            ],
            "sizemode": "area",
            "sizeref": 0.45
           },
           "name": "Zürich",
           "showlegend": true,
           "type": "scattergeo"
          },
          {
           "geo": "geo",
           "hovertemplate": "<b>%{hovertext}</b><br><br>city_name=Berlin<br>year_participation=1991<br>cumsum=%{marker.size}<br>lat=%{lat}<br>lon=%{lon}<extra></extra>",
           "hovertext": [
            "Berlin"
           ],
           "lat": [
            52.517036499999996
           ],
           "legendgroup": "Berlin",
           "lon": [
            13.388859900000002
           ],
           "marker": {
            "color": "#EF553B",
            "size": [
             50
            ],
            "sizemode": "area",
            "sizeref": 0.45
           },
           "name": "Berlin",
           "showlegend": true,
           "type": "scattergeo"
          },
          {
           "geo": "geo",
           "hovertemplate": "<b>%{hovertext}</b><br><br>city_name=Basel<br>year_participation=1991<br>cumsum=%{marker.size}<br>lat=%{lat}<br>lon=%{lon}<extra></extra>",
           "hovertext": [
            "Basel"
           ],
           "lat": [
            47.55810770000001
           ],
           "legendgroup": "Basel",
           "lon": [
            7.5878261
           ],
           "marker": {
            "color": "#FECB52",
            "size": [
             8
            ],
            "sizemode": "area",
            "sizeref": 0.45
           },
           "name": "Basel",
           "showlegend": true,
           "type": "scattergeo"
          },
          {
           "geo": "geo",
           "hovertemplate": "<b>%{hovertext}</b><br><br>city_name=Heidelberg<br>year_participation=1991<br>cumsum=%{marker.size}<br>lat=%{lat}<br>lon=%{lon}<extra></extra>",
           "hovertext": [
            "Heidelberg"
           ],
           "lat": [
            49.40935820000001
           ],
           "legendgroup": "Heidelberg",
           "lon": [
            8.694724
           ],
           "marker": {
            "color": "#636efa",
            "size": [
             2
            ],
            "sizemode": "area",
            "sizeref": 0.45
           },
           "name": "Heidelberg",
           "showlegend": true,
           "type": "scattergeo"
          },
          {
           "geo": "geo",
           "hovertemplate": "<b>%{hovertext}</b><br><br>city_name=Köln<br>year_participation=1991<br>cumsum=%{marker.size}<br>lat=%{lat}<br>lon=%{lon}<extra></extra>",
           "hovertext": [
            "Köln"
           ],
           "lat": [
            50.938361
           ],
           "legendgroup": "Köln",
           "lon": [
            6.959974000000001
           ],
           "marker": {
            "color": "#00cc96",
            "size": [
             4
            ],
            "sizemode": "area",
            "sizeref": 0.45
           },
           "name": "Köln",
           "showlegend": true,
           "type": "scattergeo"
          },
          {
           "geo": "geo",
           "hovertemplate": "<b>%{hovertext}</b><br><br>city_name=Bregenz<br>year_participation=1991<br>cumsum=%{marker.size}<br>lat=%{lat}<br>lon=%{lon}<extra></extra>",
           "hovertext": [
            "Bregenz"
           ],
           "lat": [
            47.5025779
           ],
           "legendgroup": "Bregenz",
           "lon": [
            9.7472924
           ],
           "marker": {
            "color": "#B6E880",
            "size": [
             3
            ],
            "sizemode": "area",
            "sizeref": 0.45
           },
           "name": "Bregenz",
           "showlegend": true,
           "type": "scattergeo"
          },
          {
           "geo": "geo",
           "hovertemplate": "<b>%{hovertext}</b><br><br>city_name=Riehen<br>year_participation=1991<br>cumsum=%{marker.size}<br>lat=%{lat}<br>lon=%{lon}<extra></extra>",
           "hovertext": [
            "Riehen"
           ],
           "lat": [
            47.581692700000005
           ],
           "legendgroup": "Riehen",
           "lon": [
            7.6479737000000005
           ],
           "marker": {
            "color": "#FFA15A",
            "size": [
             2
            ],
            "sizemode": "area",
            "sizeref": 0.45
           },
           "name": "Riehen",
           "showlegend": true,
           "type": "scattergeo"
          },
          {
           "geo": "geo",
           "hovertemplate": "<b>%{hovertext}</b><br><br>city_name=St. Gallen<br>year_participation=1991<br>cumsum=%{marker.size}<br>lat=%{lat}<br>lon=%{lon}<extra></extra>",
           "hovertext": [
            "St. Gallen"
           ],
           "lat": [
            47.4250593
           ],
           "legendgroup": "St. Gallen",
           "lon": [
            9.376587800000001
           ],
           "marker": {
            "color": "#FFA15A",
            "size": [
             2
            ],
            "sizemode": "area",
            "sizeref": 0.45
           },
           "name": "St. Gallen",
           "showlegend": true,
           "type": "scattergeo"
          },
          {
           "geo": "geo",
           "hovertemplate": "<b>%{hovertext}</b><br><br>city_name=Freiburg<br>year_participation=1991<br>cumsum=%{marker.size}<br>lat=%{lat}<br>lon=%{lon}<extra></extra>",
           "hovertext": [
            "Freiburg"
           ],
           "lat": [
            47.9960901
           ],
           "legendgroup": "Freiburg",
           "lon": [
            7.849400500000001
           ],
           "marker": {
            "color": "#FECB52",
            "size": [
             2
            ],
            "sizemode": "area",
            "sizeref": 0.45
           },
           "name": "Freiburg",
           "showlegend": true,
           "type": "scattergeo"
          },
          {
           "geo": "geo",
           "hovertemplate": "<b>%{hovertext}</b><br><br>city_name=Lippstadt<br>year_participation=1991<br>cumsum=%{marker.size}<br>lat=%{lat}<br>lon=%{lon}<extra></extra>",
           "hovertext": [
            "Lippstadt"
           ],
           "lat": [
            51.674707399999996
           ],
           "legendgroup": "Lippstadt",
           "lon": [
            8.347194
           ],
           "marker": {
            "color": "#FFA15A",
            "size": [
             1
            ],
            "sizemode": "area",
            "sizeref": 0.45
           },
           "name": "Lippstadt",
           "showlegend": true,
           "type": "scattergeo"
          },
          {
           "geo": "geo",
           "hovertemplate": "<b>%{hovertext}</b><br><br>city_name=Oberhofen<br>year_participation=1991<br>cumsum=%{marker.size}<br>lat=%{lat}<br>lon=%{lon}<extra></extra>",
           "hovertext": [
            "Oberhofen"
           ],
           "lat": [
            49.015353399999995
           ],
           "legendgroup": "Oberhofen",
           "lon": [
            7.9210644
           ],
           "marker": {
            "color": "#19d3f3",
            "size": [
             1
            ],
            "sizemode": "area",
            "sizeref": 0.45
           },
           "name": "Oberhofen",
           "showlegend": true,
           "type": "scattergeo"
          },
          {
           "geo": "geo",
           "hovertemplate": "<b>%{hovertext}</b><br><br>city_name=Lauterach<br>year_participation=1991<br>cumsum=%{marker.size}<br>lat=%{lat}<br>lon=%{lon}<extra></extra>",
           "hovertext": [
            "Lauterach"
           ],
           "lat": [
            48.25555
           ],
           "legendgroup": "Lauterach",
           "lon": [
            9.5824364
           ],
           "marker": {
            "color": "#FF6692",
            "size": [
             1
            ],
            "sizemode": "area",
            "sizeref": 0.45
           },
           "name": "Lauterach",
           "showlegend": true,
           "type": "scattergeo"
          },
          {
           "geo": "geo",
           "hovertemplate": "<b>%{hovertext}</b><br><br>city_name=Zollbrück<br>year_participation=1991<br>cumsum=%{marker.size}<br>lat=%{lat}<br>lon=%{lon}<extra></extra>",
           "hovertext": [
            "Zollbrück"
           ],
           "lat": [
            46.9749427
           ],
           "legendgroup": "Zollbrück",
           "lon": [
            7.735426400000001
           ],
           "marker": {
            "color": "#B6E880",
            "size": [
             1
            ],
            "sizemode": "area",
            "sizeref": 0.45
           },
           "name": "Zollbrück",
           "showlegend": true,
           "type": "scattergeo"
          },
          {
           "geo": "geo",
           "hovertemplate": "<b>%{hovertext}</b><br><br>city_name=Irland<br>year_participation=1991<br>cumsum=%{marker.size}<br>lat=%{lat}<br>lon=%{lon}<extra></extra>",
           "hovertext": [
            "Irland"
           ],
           "lat": [
            52.865196
           ],
           "legendgroup": "Irland",
           "lon": [
            -7.9794599
           ],
           "marker": {
            "color": "#FF97FF",
            "size": [
             1
            ],
            "sizemode": "area",
            "sizeref": 0.45
           },
           "name": "Irland",
           "showlegend": true,
           "type": "scattergeo"
          }
         ],
         "name": "1991"
        },
        {
         "data": [
          {
           "geo": "geo",
           "hovertemplate": "<b>%{hovertext}</b><br><br>city_name=Wien<br>year_participation=1992<br>cumsum=%{marker.size}<br>lat=%{lat}<br>lon=%{lon}<extra></extra>",
           "hovertext": [
            "Wien"
           ],
           "lat": [
            48.2083537
           ],
           "legendgroup": "Wien",
           "lon": [
            16.372504199999998
           ],
           "marker": {
            "color": "#00cc96",
            "size": [
             28
            ],
            "sizemode": "area",
            "sizeref": 0.45
           },
           "name": "Wien",
           "showlegend": true,
           "type": "scattergeo"
          },
          {
           "geo": "geo",
           "hovertemplate": "<b>%{hovertext}</b><br><br>city_name=München<br>year_participation=1992<br>cumsum=%{marker.size}<br>lat=%{lat}<br>lon=%{lon}<extra></extra>",
           "hovertext": [
            "München"
           ],
           "lat": [
            48.1371079
           ],
           "legendgroup": "München",
           "lon": [
            11.575382199999998
           ],
           "marker": {
            "color": "#B6E880",
            "size": [
             34
            ],
            "sizemode": "area",
            "sizeref": 0.45
           },
           "name": "München",
           "showlegend": true,
           "type": "scattergeo"
          },
          {
           "geo": "geo",
           "hovertemplate": "<b>%{hovertext}</b><br><br>city_name=Hamburg<br>year_participation=1992<br>cumsum=%{marker.size}<br>lat=%{lat}<br>lon=%{lon}<extra></extra>",
           "hovertext": [
            "Hamburg"
           ],
           "lat": [
            53.543764100000004
           ],
           "legendgroup": "Hamburg",
           "lon": [
            10.009913300000001
           ],
           "marker": {
            "color": "#FF97FF",
            "size": [
             20
            ],
            "sizemode": "area",
            "sizeref": 0.45
           },
           "name": "Hamburg",
           "showlegend": true,
           "type": "scattergeo"
          },
          {
           "geo": "geo",
           "hovertemplate": "<b>%{hovertext}</b><br><br>city_name=Münster<br>year_participation=1992<br>cumsum=%{marker.size}<br>lat=%{lat}<br>lon=%{lon}<extra></extra>",
           "hovertext": [
            "Münster"
           ],
           "lat": [
            51.9625101
           ],
           "legendgroup": "Münster",
           "lon": [
            7.6251879
           ],
           "marker": {
            "color": "#636efa",
            "size": [
             3
            ],
            "sizemode": "area",
            "sizeref": 0.45
           },
           "name": "Münster",
           "showlegend": true,
           "type": "scattergeo"
          },
          {
           "geo": "geo",
           "hovertemplate": "<b>%{hovertext}</b><br><br>city_name=Berlin<br>year_participation=1992<br>cumsum=%{marker.size}<br>lat=%{lat}<br>lon=%{lon}<extra></extra>",
           "hovertext": [
            "Berlin"
           ],
           "lat": [
            52.517036499999996
           ],
           "legendgroup": "Berlin",
           "lon": [
            13.388859900000002
           ],
           "marker": {
            "color": "#EF553B",
            "size": [
             55
            ],
            "sizemode": "area",
            "sizeref": 0.45
           },
           "name": "Berlin",
           "showlegend": true,
           "type": "scattergeo"
          },
          {
           "geo": "geo",
           "hovertemplate": "<b>%{hovertext}</b><br><br>city_name=Frankfurt/Main<br>year_participation=1992<br>cumsum=%{marker.size}<br>lat=%{lat}<br>lon=%{lon}<extra></extra>",
           "hovertext": [
            "Frankfurt/Main"
           ],
           "lat": [
            50.053763700000005
           ],
           "legendgroup": "Frankfurt/Main",
           "lon": [
            8.637085800000001
           ],
           "marker": {
            "color": "#ab63fa",
            "size": [
             17
            ],
            "sizemode": "area",
            "sizeref": 0.45
           },
           "name": "Frankfurt/Main",
           "showlegend": true,
           "type": "scattergeo"
          },
          {
           "geo": "geo",
           "hovertemplate": "<b>%{hovertext}</b><br><br>city_name=Graz<br>year_participation=1992<br>cumsum=%{marker.size}<br>lat=%{lat}<br>lon=%{lon}<extra></extra>",
           "hovertext": [
            "Graz"
           ],
           "lat": [
            47.070867799999995
           ],
           "legendgroup": "Graz",
           "lon": [
            15.438278599999999
           ],
           "marker": {
            "color": "#00cc96",
            "size": [
             6
            ],
            "sizemode": "area",
            "sizeref": 0.45
           },
           "name": "Graz",
           "showlegend": true,
           "type": "scattergeo"
          },
          {
           "geo": "geo",
           "hovertemplate": "<b>%{hovertext}</b><br><br>city_name=Paris<br>year_participation=1992<br>cumsum=%{marker.size}<br>lat=%{lat}<br>lon=%{lon}<extra></extra>",
           "hovertext": [
            "Paris"
           ],
           "lat": [
            48.856696899999996
           ],
           "legendgroup": "Paris",
           "lon": [
            2.3514616000000004
           ],
           "marker": {
            "color": "#00cc96",
            "size": [
             2
            ],
            "sizemode": "area",
            "sizeref": 0.45
           },
           "name": "Paris",
           "showlegend": true,
           "type": "scattergeo"
          },
          {
           "geo": "geo",
           "hovertemplate": "<b>%{hovertext}</b><br><br>city_name=Innsbruck<br>year_participation=1992<br>cumsum=%{marker.size}<br>lat=%{lat}<br>lon=%{lon}<extra></extra>",
           "hovertext": [
            "Innsbruck"
           ],
           "lat": [
            47.265429600000004
           ],
           "legendgroup": "Innsbruck",
           "lon": [
            11.392768499999999
           ],
           "marker": {
            "color": "#FF6692",
            "size": [
             4
            ],
            "sizemode": "area",
            "sizeref": 0.45
           },
           "name": "Innsbruck",
           "showlegend": true,
           "type": "scattergeo"
          },
          {
           "geo": "geo",
           "hovertemplate": "<b>%{hovertext}</b><br><br>city_name=Stuttgart<br>year_participation=1992<br>cumsum=%{marker.size}<br>lat=%{lat}<br>lon=%{lon}<extra></extra>",
           "hovertext": [
            "Stuttgart"
           ],
           "lat": [
            48.778448499999996
           ],
           "legendgroup": "Stuttgart",
           "lon": [
            9.1800132
           ],
           "marker": {
            "color": "#FF97FF",
            "size": [
             5
            ],
            "sizemode": "area",
            "sizeref": 0.45
           },
           "name": "Stuttgart",
           "showlegend": true,
           "type": "scattergeo"
          },
          {
           "geo": "geo",
           "hovertemplate": "<b>%{hovertext}</b><br><br>city_name=Hollenstedt<br>year_participation=1992<br>cumsum=%{marker.size}<br>lat=%{lat}<br>lon=%{lon}<extra></extra>",
           "hovertext": [
            "Hollenstedt"
           ],
           "lat": [
            53.368408900000006
           ],
           "legendgroup": "Hollenstedt",
           "lon": [
            9.7125276
           ],
           "marker": {
            "color": "#636efa",
            "size": [
             2
            ],
            "sizemode": "area",
            "sizeref": 0.45
           },
           "name": "Hollenstedt",
           "showlegend": true,
           "type": "scattergeo"
          },
          {
           "geo": "geo",
           "hovertemplate": "<b>%{hovertext}</b><br><br>city_name=Schwerin<br>year_participation=1992<br>cumsum=%{marker.size}<br>lat=%{lat}<br>lon=%{lon}<extra></extra>",
           "hovertext": [
            "Schwerin"
           ],
           "lat": [
            53.628829700000004
           ],
           "legendgroup": "Schwerin",
           "lon": [
            11.4148038
           ],
           "marker": {
            "color": "#FECB52",
            "size": [
             1
            ],
            "sizemode": "area",
            "sizeref": 0.45
           },
           "name": "Schwerin",
           "showlegend": true,
           "type": "scattergeo"
          },
          {
           "geo": "geo",
           "hovertemplate": "<b>%{hovertext}</b><br><br>city_name=Allmuthshausen<br>year_participation=1992<br>cumsum=%{marker.size}<br>lat=%{lat}<br>lon=%{lon}<extra></extra>",
           "hovertext": [
            "Allmuthshausen"
           ],
           "lat": [
            50.9757274
           ],
           "legendgroup": "Allmuthshausen",
           "lon": [
            9.4321248
           ],
           "marker": {
            "color": "#636efa",
            "size": [
             1
            ],
            "sizemode": "area",
            "sizeref": 0.45
           },
           "name": "Allmuthshausen",
           "showlegend": true,
           "type": "scattergeo"
          },
          {
           "geo": "geo",
           "hovertemplate": "<b>%{hovertext}</b><br><br>city_name=Aarau<br>year_participation=1992<br>cumsum=%{marker.size}<br>lat=%{lat}<br>lon=%{lon}<extra></extra>",
           "hovertext": [
            "Aarau"
           ],
           "lat": [
            47.3927146
           ],
           "legendgroup": "Aarau",
           "lon": [
            8.0444448
           ],
           "marker": {
            "color": "#EF553B",
            "size": [
             1
            ],
            "sizemode": "area",
            "sizeref": 0.45
           },
           "name": "Aarau",
           "showlegend": true,
           "type": "scattergeo"
          },
          {
           "geo": "geo",
           "hovertemplate": "<b>%{hovertext}</b><br><br>city_name=Niederalm<br>year_participation=1992<br>cumsum=%{marker.size}<br>lat=%{lat}<br>lon=%{lon}<extra></extra>",
           "hovertext": [
            "Niederalm"
           ],
           "lat": [
            47.729437299999994
           ],
           "legendgroup": "Niederalm",
           "lon": [
            13.0608987
           ],
           "marker": {
            "color": "#00cc96",
            "size": [
             1
            ],
            "sizemode": "area",
            "sizeref": 0.45
           },
           "name": "Niederalm",
           "showlegend": true,
           "type": "scattergeo"
          }
         ],
         "name": "1992"
        },
        {
         "data": [
          {
           "geo": "geo",
           "hovertemplate": "<b>%{hovertext}</b><br><br>city_name=Wien<br>year_participation=1993<br>cumsum=%{marker.size}<br>lat=%{lat}<br>lon=%{lon}<extra></extra>",
           "hovertext": [
            "Wien"
           ],
           "lat": [
            48.2083537
           ],
           "legendgroup": "Wien",
           "lon": [
            16.372504199999998
           ],
           "marker": {
            "color": "#00cc96",
            "size": [
             30
            ],
            "sizemode": "area",
            "sizeref": 0.45
           },
           "name": "Wien",
           "showlegend": true,
           "type": "scattergeo"
          },
          {
           "geo": "geo",
           "hovertemplate": "<b>%{hovertext}</b><br><br>city_name=Berlin<br>year_participation=1993<br>cumsum=%{marker.size}<br>lat=%{lat}<br>lon=%{lon}<extra></extra>",
           "hovertext": [
            "Berlin"
           ],
           "lat": [
            52.517036499999996
           ],
           "legendgroup": "Berlin",
           "lon": [
            13.388859900000002
           ],
           "marker": {
            "color": "#EF553B",
            "size": [
             62
            ],
            "sizemode": "area",
            "sizeref": 0.45
           },
           "name": "Berlin",
           "showlegend": true,
           "type": "scattergeo"
          },
          {
           "geo": "geo",
           "hovertemplate": "<b>%{hovertext}</b><br><br>city_name=Salzburg<br>year_participation=1993<br>cumsum=%{marker.size}<br>lat=%{lat}<br>lon=%{lon}<extra></extra>",
           "hovertext": [
            "Salzburg"
           ],
           "lat": [
            47.798134600000004
           ],
           "legendgroup": "Salzburg",
           "lon": [
            13.046480599999999
           ],
           "marker": {
            "color": "#00cc96",
            "size": [
             13
            ],
            "sizemode": "area",
            "sizeref": 0.45
           },
           "name": "Salzburg",
           "showlegend": true,
           "type": "scattergeo"
          },
          {
           "geo": "geo",
           "hovertemplate": "<b>%{hovertext}</b><br><br>city_name=Frankfurt/Main<br>year_participation=1993<br>cumsum=%{marker.size}<br>lat=%{lat}<br>lon=%{lon}<extra></extra>",
           "hovertext": [
            "Frankfurt/Main"
           ],
           "lat": [
            50.053763700000005
           ],
           "legendgroup": "Frankfurt/Main",
           "lon": [
            8.637085800000001
           ],
           "marker": {
            "color": "#ab63fa",
            "size": [
             20
            ],
            "sizemode": "area",
            "sizeref": 0.45
           },
           "name": "Frankfurt/Main",
           "showlegend": true,
           "type": "scattergeo"
          },
          {
           "geo": "geo",
           "hovertemplate": "<b>%{hovertext}</b><br><br>city_name=Kilchberg<br>year_participation=1993<br>cumsum=%{marker.size}<br>lat=%{lat}<br>lon=%{lon}<extra></extra>",
           "hovertext": [
            "Kilchberg"
           ],
           "lat": [
            47.3225316
           ],
           "legendgroup": "Kilchberg",
           "lon": [
            8.545948300000001
           ],
           "marker": {
            "color": "#FFA15A",
            "size": [
             2
            ],
            "sizemode": "area",
            "sizeref": 0.45
           },
           "name": "Kilchberg",
           "showlegend": true,
           "type": "scattergeo"
          },
          {
           "geo": "geo",
           "hovertemplate": "<b>%{hovertext}</b><br><br>city_name=Paris<br>year_participation=1993<br>cumsum=%{marker.size}<br>lat=%{lat}<br>lon=%{lon}<extra></extra>",
           "hovertext": [
            "Paris"
           ],
           "lat": [
            48.856696899999996
           ],
           "legendgroup": "Paris",
           "lon": [
            2.3514616000000004
           ],
           "marker": {
            "color": "#00cc96",
            "size": [
             3
            ],
            "sizemode": "area",
            "sizeref": 0.45
           },
           "name": "Paris",
           "showlegend": true,
           "type": "scattergeo"
          },
          {
           "geo": "geo",
           "hovertemplate": "<b>%{hovertext}</b><br><br>city_name=Tübingen<br>year_participation=1993<br>cumsum=%{marker.size}<br>lat=%{lat}<br>lon=%{lon}<extra></extra>",
           "hovertext": [
            "Tübingen"
           ],
           "lat": [
            48.5236164
           ],
           "legendgroup": "Tübingen",
           "lon": [
            9.0535531
           ],
           "marker": {
            "color": "#00cc96",
            "size": [
             2
            ],
            "sizemode": "area",
            "sizeref": 0.45
           },
           "name": "Tübingen",
           "showlegend": true,
           "type": "scattergeo"
          },
          {
           "geo": "geo",
           "hovertemplate": "<b>%{hovertext}</b><br><br>city_name=Luzern<br>year_participation=1993<br>cumsum=%{marker.size}<br>lat=%{lat}<br>lon=%{lon}<extra></extra>",
           "hovertext": [
            "Luzern"
           ],
           "lat": [
            47.0505452
           ],
           "legendgroup": "Luzern",
           "lon": [
            8.3054682
           ],
           "marker": {
            "color": "#636efa",
            "size": [
             3
            ],
            "sizemode": "area",
            "sizeref": 0.45
           },
           "name": "Luzern",
           "showlegend": true,
           "type": "scattergeo"
          },
          {
           "geo": "geo",
           "hovertemplate": "<b>%{hovertext}</b><br><br>city_name=Walding<br>year_participation=1993<br>cumsum=%{marker.size}<br>lat=%{lat}<br>lon=%{lon}<extra></extra>",
           "hovertext": [
            "Walding"
           ],
           "lat": [
            48.351349400000004
           ],
           "legendgroup": "Walding",
           "lon": [
            14.161397000000001
           ],
           "marker": {
            "color": "#ab63fa",
            "size": [
             1
            ],
            "sizemode": "area",
            "sizeref": 0.45
           },
           "name": "Walding",
           "showlegend": true,
           "type": "scattergeo"
          },
          {
           "geo": "geo",
           "hovertemplate": "<b>%{hovertext}</b><br><br>city_name=Wuppertal<br>year_participation=1993<br>cumsum=%{marker.size}<br>lat=%{lat}<br>lon=%{lon}<extra></extra>",
           "hovertext": [
            "Wuppertal"
           ],
           "lat": [
            51.264018
           ],
           "legendgroup": "Wuppertal",
           "lon": [
            7.178037400000001
           ],
           "marker": {
            "color": "#FFA15A",
            "size": [
             1
            ],
            "sizemode": "area",
            "sizeref": 0.45
           },
           "name": "Wuppertal",
           "showlegend": true,
           "type": "scattergeo"
          },
          {
           "geo": "geo",
           "hovertemplate": "<b>%{hovertext}</b><br><br>city_name=Osterholz-Scharmbeck<br>year_participation=1993<br>cumsum=%{marker.size}<br>lat=%{lat}<br>lon=%{lon}<extra></extra>",
           "hovertext": [
            "Osterholz-Scharmbeck"
           ],
           "lat": [
            53.228176299999994
           ],
           "legendgroup": "Osterholz-Scharmbeck",
           "lon": [
            8.7948239
           ],
           "marker": {
            "color": "#19d3f3",
            "size": [
             1
            ],
            "sizemode": "area",
            "sizeref": 0.45
           },
           "name": "Osterholz-Scharmbeck",
           "showlegend": true,
           "type": "scattergeo"
          },
          {
           "geo": "geo",
           "hovertemplate": "<b>%{hovertext}</b><br><br>city_name=Kronshagen<br>year_participation=1993<br>cumsum=%{marker.size}<br>lat=%{lat}<br>lon=%{lon}<extra></extra>",
           "hovertext": [
            "Kronshagen"
           ],
           "lat": [
            54.331349200000005
           ],
           "legendgroup": "Kronshagen",
           "lon": [
            10.0843609
           ],
           "marker": {
            "color": "#FF6692",
            "size": [
             1
            ],
            "sizemode": "area",
            "sizeref": 0.45
           },
           "name": "Kronshagen",
           "showlegend": true,
           "type": "scattergeo"
          },
          {
           "geo": "geo",
           "hovertemplate": "<b>%{hovertext}</b><br><br>city_name=Gilching<br>year_participation=1993<br>cumsum=%{marker.size}<br>lat=%{lat}<br>lon=%{lon}<extra></extra>",
           "hovertext": [
            "Gilching"
           ],
           "lat": [
            48.1140289
           ],
           "legendgroup": "Gilching",
           "lon": [
            11.2921549
           ],
           "marker": {
            "color": "#B6E880",
            "size": [
             1
            ],
            "sizemode": "area",
            "sizeref": 0.45
           },
           "name": "Gilching",
           "showlegend": true,
           "type": "scattergeo"
          }
         ],
         "name": "1993"
        },
        {
         "data": [
          {
           "geo": "geo",
           "hovertemplate": "<b>%{hovertext}</b><br><br>city_name=Wien<br>year_participation=1994<br>cumsum=%{marker.size}<br>lat=%{lat}<br>lon=%{lon}<extra></extra>",
           "hovertext": [
            "Wien"
           ],
           "lat": [
            48.2083537
           ],
           "legendgroup": "Wien",
           "lon": [
            16.372504199999998
           ],
           "marker": {
            "color": "#00cc96",
            "size": [
             35
            ],
            "sizemode": "area",
            "sizeref": 0.45
           },
           "name": "Wien",
           "showlegend": true,
           "type": "scattergeo"
          },
          {
           "geo": "geo",
           "hovertemplate": "<b>%{hovertext}</b><br><br>city_name=Hamburg<br>year_participation=1994<br>cumsum=%{marker.size}<br>lat=%{lat}<br>lon=%{lon}<extra></extra>",
           "hovertext": [
            "Hamburg"
           ],
           "lat": [
            53.543764100000004
           ],
           "legendgroup": "Hamburg",
           "lon": [
            10.009913300000001
           ],
           "marker": {
            "color": "#FF97FF",
            "size": [
             21
            ],
            "sizemode": "area",
            "sizeref": 0.45
           },
           "name": "Hamburg",
           "showlegend": true,
           "type": "scattergeo"
          },
          {
           "geo": "geo",
           "hovertemplate": "<b>%{hovertext}</b><br><br>city_name=Zürich<br>year_participation=1994<br>cumsum=%{marker.size}<br>lat=%{lat}<br>lon=%{lon}<extra></extra>",
           "hovertext": [
            "Zürich"
           ],
           "lat": [
            47.3723941
           ],
           "legendgroup": "Zürich",
           "lon": [
            8.5423328
           ],
           "marker": {
            "color": "#FECB52",
            "size": [
             13
            ],
            "sizemode": "area",
            "sizeref": 0.45
           },
           "name": "Zürich",
           "showlegend": true,
           "type": "scattergeo"
          },
          {
           "geo": "geo",
           "hovertemplate": "<b>%{hovertext}</b><br><br>city_name=Berlin<br>year_participation=1994<br>cumsum=%{marker.size}<br>lat=%{lat}<br>lon=%{lon}<extra></extra>",
           "hovertext": [
            "Berlin"
           ],
           "lat": [
            52.517036499999996
           ],
           "legendgroup": "Berlin",
           "lon": [
            13.388859900000002
           ],
           "marker": {
            "color": "#EF553B",
            "size": [
             66
            ],
            "sizemode": "area",
            "sizeref": 0.45
           },
           "name": "Berlin",
           "showlegend": true,
           "type": "scattergeo"
          },
          {
           "geo": "geo",
           "hovertemplate": "<b>%{hovertext}</b><br><br>city_name=Salzburg<br>year_participation=1994<br>cumsum=%{marker.size}<br>lat=%{lat}<br>lon=%{lon}<extra></extra>",
           "hovertext": [
            "Salzburg"
           ],
           "lat": [
            47.798134600000004
           ],
           "legendgroup": "Salzburg",
           "lon": [
            13.046480599999999
           ],
           "marker": {
            "color": "#00cc96",
            "size": [
             14
            ],
            "sizemode": "area",
            "sizeref": 0.45
           },
           "name": "Salzburg",
           "showlegend": true,
           "type": "scattergeo"
          },
          {
           "geo": "geo",
           "hovertemplate": "<b>%{hovertext}</b><br><br>city_name=Genf<br>year_participation=1994<br>cumsum=%{marker.size}<br>lat=%{lat}<br>lon=%{lon}<extra></extra>",
           "hovertext": [
            "Genf"
           ],
           "lat": [
            46.2017559
           ],
           "legendgroup": "Genf",
           "lon": [
            6.146601400000001
           ],
           "marker": {
            "color": "#636efa",
            "size": [
             2
            ],
            "sizemode": "area",
            "sizeref": 0.45
           },
           "name": "Genf",
           "showlegend": true,
           "type": "scattergeo"
          },
          {
           "geo": "geo",
           "hovertemplate": "<b>%{hovertext}</b><br><br>city_name=Wiefelstede<br>year_participation=1994<br>cumsum=%{marker.size}<br>lat=%{lat}<br>lon=%{lon}<extra></extra>",
           "hovertext": [
            "Wiefelstede"
           ],
           "lat": [
            53.25586260000001
           ],
           "legendgroup": "Wiefelstede",
           "lon": [
            8.1150123
           ],
           "marker": {
            "color": "#FECB52",
            "size": [
             2
            ],
            "sizemode": "area",
            "sizeref": 0.45
           },
           "name": "Wiefelstede",
           "showlegend": true,
           "type": "scattergeo"
          },
          {
           "geo": "geo",
           "hovertemplate": "<b>%{hovertext}</b><br><br>city_name=Aarau<br>year_participation=1994<br>cumsum=%{marker.size}<br>lat=%{lat}<br>lon=%{lon}<extra></extra>",
           "hovertext": [
            "Aarau"
           ],
           "lat": [
            47.3927146
           ],
           "legendgroup": "Aarau",
           "lon": [
            8.0444448
           ],
           "marker": {
            "color": "#EF553B",
            "size": [
             2
            ],
            "sizemode": "area",
            "sizeref": 0.45
           },
           "name": "Aarau",
           "showlegend": true,
           "type": "scattergeo"
          },
          {
           "geo": "geo",
           "hovertemplate": "<b>%{hovertext}</b><br><br>city_name=Brütten<br>year_participation=1994<br>cumsum=%{marker.size}<br>lat=%{lat}<br>lon=%{lon}<extra></extra>",
           "hovertext": [
            "Brütten"
           ],
           "lat": [
            47.4731491
           ],
           "legendgroup": "Brütten",
           "lon": [
            8.6753241
           ],
           "marker": {
            "color": "#FF97FF",
            "size": [
             1
            ],
            "sizemode": "area",
            "sizeref": 0.45
           },
           "name": "Brütten",
           "showlegend": true,
           "type": "scattergeo"
          },
          {
           "geo": "geo",
           "hovertemplate": "<b>%{hovertext}</b><br><br>city_name=Garmisch-Partenkirchen<br>year_participation=1994<br>cumsum=%{marker.size}<br>lat=%{lat}<br>lon=%{lon}<extra></extra>",
           "hovertext": [
            "Garmisch-Partenkirchen"
           ],
           "lat": [
            47.4938359
           ],
           "legendgroup": "Garmisch-Partenkirchen",
           "lon": [
            11.103992
           ],
           "marker": {
            "color": "#FECB52",
            "size": [
             1
            ],
            "sizemode": "area",
            "sizeref": 0.45
           },
           "name": "Garmisch-Partenkirchen",
           "showlegend": true,
           "type": "scattergeo"
          },
          {
           "geo": "geo",
           "hovertemplate": "<b>%{hovertext}</b><br><br>city_name=Marburg<br>year_participation=1994<br>cumsum=%{marker.size}<br>lat=%{lat}<br>lon=%{lon}<extra></extra>",
           "hovertext": [
            "Marburg"
           ],
           "lat": [
            50.81173270000001
           ],
           "legendgroup": "Marburg",
           "lon": [
            8.775774199999999
           ],
           "marker": {
            "color": "#636efa",
            "size": [
             1
            ],
            "sizemode": "area",
            "sizeref": 0.45
           },
           "name": "Marburg",
           "showlegend": true,
           "type": "scattergeo"
          },
          {
           "geo": "geo",
           "hovertemplate": "<b>%{hovertext}</b><br><br>city_name=Seillans (Frankreich)<br>year_participation=1994<br>cumsum=%{marker.size}<br>lat=%{lat}<br>lon=%{lon}<extra></extra>",
           "hovertext": [
            "Seillans (Frankreich)"
           ],
           "lat": [
            43.636410600000005
           ],
           "legendgroup": "Seillans (Frankreich)",
           "lon": [
            6.644577900000001
           ],
           "marker": {
            "color": "#EF553B",
            "size": [
             1
            ],
            "sizemode": "area",
            "sizeref": 0.45
           },
           "name": "Seillans (Frankreich)",
           "showlegend": true,
           "type": "scattergeo"
          },
          {
           "geo": "geo",
           "hovertemplate": "<b>%{hovertext}</b><br><br>city_name=Maur bei Zürich<br>year_participation=1994<br>cumsum=%{marker.size}<br>lat=%{lat}<br>lon=%{lon}<extra></extra>",
           "hovertext": [
            "Maur bei Zürich"
           ],
           "lat": [
            47.3402856
           ],
           "legendgroup": "Maur bei Zürich",
           "lon": [
            8.669236900000001
           ],
           "marker": {
            "color": "#00cc96",
            "size": [
             1
            ],
            "sizemode": "area",
            "sizeref": 0.45
           },
           "name": "Maur bei Zürich",
           "showlegend": true,
           "type": "scattergeo"
          },
          {
           "geo": "geo",
           "hovertemplate": "<b>%{hovertext}</b><br><br>city_name=Lure (Franche-Comté,Frankreich)<br>year_participation=1994<br>cumsum=%{marker.size}<br>lat=%{lat}<br>lon=%{lon}<extra></extra>",
           "hovertext": [
            "Lure (Franche-Comté,Frankreich)"
           ],
           "lat": [
            47.6863376
           ],
           "legendgroup": "Lure (Franche-Comté,Frankreich)",
           "lon": [
            6.4946806
           ],
           "marker": {
            "color": "#ab63fa",
            "size": [
             1
            ],
            "sizemode": "area",
            "sizeref": 0.45
           },
           "name": "Lure (Franche-Comté,Frankreich)",
           "showlegend": true,
           "type": "scattergeo"
          },
          {
           "geo": "geo",
           "hovertemplate": "<b>%{hovertext}</b><br><br>city_name=Eglharting bei München<br>year_participation=1994<br>cumsum=%{marker.size}<br>lat=%{lat}<br>lon=%{lon}<extra></extra>",
           "hovertext": [
            "Eglharting bei München"
           ],
           "lat": [
            48.0807607
           ],
           "legendgroup": "Eglharting bei München",
           "lon": [
            11.8619951
           ],
           "marker": {
            "color": "#FFA15A",
            "size": [
             1
            ],
            "sizemode": "area",
            "sizeref": 0.45
           },
           "name": "Eglharting bei München",
           "showlegend": true,
           "type": "scattergeo"
          }
         ],
         "name": "1994"
        },
        {
         "data": [
          {
           "geo": "geo",
           "hovertemplate": "<b>%{hovertext}</b><br><br>city_name=Wien<br>year_participation=1995<br>cumsum=%{marker.size}<br>lat=%{lat}<br>lon=%{lon}<extra></extra>",
           "hovertext": [
            "Wien"
           ],
           "lat": [
            48.2083537
           ],
           "legendgroup": "Wien",
           "lon": [
            16.372504199999998
           ],
           "marker": {
            "color": "#00cc96",
            "size": [
             38
            ],
            "sizemode": "area",
            "sizeref": 0.45
           },
           "name": "Wien",
           "showlegend": true,
           "type": "scattergeo"
          },
          {
           "geo": "geo",
           "hovertemplate": "<b>%{hovertext}</b><br><br>city_name=München<br>year_participation=1995<br>cumsum=%{marker.size}<br>lat=%{lat}<br>lon=%{lon}<extra></extra>",
           "hovertext": [
            "München"
           ],
           "lat": [
            48.1371079
           ],
           "legendgroup": "München",
           "lon": [
            11.575382199999998
           ],
           "marker": {
            "color": "#B6E880",
            "size": [
             36
            ],
            "sizemode": "area",
            "sizeref": 0.45
           },
           "name": "München",
           "showlegend": true,
           "type": "scattergeo"
          },
          {
           "geo": "geo",
           "hovertemplate": "<b>%{hovertext}</b><br><br>city_name=Hamburg<br>year_participation=1995<br>cumsum=%{marker.size}<br>lat=%{lat}<br>lon=%{lon}<extra></extra>",
           "hovertext": [
            "Hamburg"
           ],
           "lat": [
            53.543764100000004
           ],
           "legendgroup": "Hamburg",
           "lon": [
            10.009913300000001
           ],
           "marker": {
            "color": "#FF97FF",
            "size": [
             22
            ],
            "sizemode": "area",
            "sizeref": 0.45
           },
           "name": "Hamburg",
           "showlegend": true,
           "type": "scattergeo"
          },
          {
           "geo": "geo",
           "hovertemplate": "<b>%{hovertext}</b><br><br>city_name=Zürich<br>year_participation=1995<br>cumsum=%{marker.size}<br>lat=%{lat}<br>lon=%{lon}<extra></extra>",
           "hovertext": [
            "Zürich"
           ],
           "lat": [
            47.3723941
           ],
           "legendgroup": "Zürich",
           "lon": [
            8.5423328
           ],
           "marker": {
            "color": "#FECB52",
            "size": [
             15
            ],
            "sizemode": "area",
            "sizeref": 0.45
           },
           "name": "Zürich",
           "showlegend": true,
           "type": "scattergeo"
          },
          {
           "geo": "geo",
           "hovertemplate": "<b>%{hovertext}</b><br><br>city_name=Berlin<br>year_participation=1995<br>cumsum=%{marker.size}<br>lat=%{lat}<br>lon=%{lon}<extra></extra>",
           "hovertext": [
            "Berlin"
           ],
           "lat": [
            52.517036499999996
           ],
           "legendgroup": "Berlin",
           "lon": [
            13.388859900000002
           ],
           "marker": {
            "color": "#EF553B",
            "size": [
             71
            ],
            "sizemode": "area",
            "sizeref": 0.45
           },
           "name": "Berlin",
           "showlegend": true,
           "type": "scattergeo"
          },
          {
           "geo": "geo",
           "hovertemplate": "<b>%{hovertext}</b><br><br>city_name=Frankfurt/Main<br>year_participation=1995<br>cumsum=%{marker.size}<br>lat=%{lat}<br>lon=%{lon}<extra></extra>",
           "hovertext": [
            "Frankfurt/Main"
           ],
           "lat": [
            50.053763700000005
           ],
           "legendgroup": "Frankfurt/Main",
           "lon": [
            8.637085800000001
           ],
           "marker": {
            "color": "#ab63fa",
            "size": [
             21
            ],
            "sizemode": "area",
            "sizeref": 0.45
           },
           "name": "Frankfurt/Main",
           "showlegend": true,
           "type": "scattergeo"
          },
          {
           "geo": "geo",
           "hovertemplate": "<b>%{hovertext}</b><br><br>city_name=Bern<br>year_participation=1995<br>cumsum=%{marker.size}<br>lat=%{lat}<br>lon=%{lon}<extra></extra>",
           "hovertext": [
            "Bern"
           ],
           "lat": [
            46.9482713
           ],
           "legendgroup": "Bern",
           "lon": [
            7.4514512
           ],
           "marker": {
            "color": "#FF6692",
            "size": [
             10
            ],
            "sizemode": "area",
            "sizeref": 0.45
           },
           "name": "Bern",
           "showlegend": true,
           "type": "scattergeo"
          },
          {
           "geo": "geo",
           "hovertemplate": "<b>%{hovertext}</b><br><br>city_name=Graz<br>year_participation=1995<br>cumsum=%{marker.size}<br>lat=%{lat}<br>lon=%{lon}<extra></extra>",
           "hovertext": [
            "Graz"
           ],
           "lat": [
            47.070867799999995
           ],
           "legendgroup": "Graz",
           "lon": [
            15.438278599999999
           ],
           "marker": {
            "color": "#00cc96",
            "size": [
             9
            ],
            "sizemode": "area",
            "sizeref": 0.45
           },
           "name": "Graz",
           "showlegend": true,
           "type": "scattergeo"
          },
          {
           "geo": "geo",
           "hovertemplate": "<b>%{hovertext}</b><br><br>city_name=Freiburg<br>year_participation=1995<br>cumsum=%{marker.size}<br>lat=%{lat}<br>lon=%{lon}<extra></extra>",
           "hovertext": [
            "Freiburg"
           ],
           "lat": [
            47.9960901
           ],
           "legendgroup": "Freiburg",
           "lon": [
            7.849400500000001
           ],
           "marker": {
            "color": "#FECB52",
            "size": [
             3
            ],
            "sizemode": "area",
            "sizeref": 0.45
           },
           "name": "Freiburg",
           "showlegend": true,
           "type": "scattergeo"
          },
          {
           "geo": "geo",
           "hovertemplate": "<b>%{hovertext}</b><br><br>city_name=Pöcking<br>year_participation=1995<br>cumsum=%{marker.size}<br>lat=%{lat}<br>lon=%{lon}<extra></extra>",
           "hovertext": [
            "Pöcking"
           ],
           "lat": [
            47.966705100000006
           ],
           "legendgroup": "Pöcking",
           "lon": [
            11.2999886
           ],
           "marker": {
            "color": "#19d3f3",
            "size": [
             1
            ],
            "sizemode": "area",
            "sizeref": 0.45
           },
           "name": "Pöcking",
           "showlegend": true,
           "type": "scattergeo"
          },
          {
           "geo": "geo",
           "hovertemplate": "<b>%{hovertext}</b><br><br>city_name=Adnet bei Salzburg<br>year_participation=1995<br>cumsum=%{marker.size}<br>lat=%{lat}<br>lon=%{lon}<extra></extra>",
           "hovertext": [
            "Adnet bei Salzburg"
           ],
           "lat": [
            47.6963575
           ],
           "legendgroup": "Adnet bei Salzburg",
           "lon": [
            13.1307565
           ],
           "marker": {
            "color": "#FF6692",
            "size": [
             1
            ],
            "sizemode": "area",
            "sizeref": 0.45
           },
           "name": "Adnet bei Salzburg",
           "showlegend": true,
           "type": "scattergeo"
          },
          {
           "geo": "geo",
           "hovertemplate": "<b>%{hovertext}</b><br><br>city_name=Tomils<br>year_participation=1995<br>cumsum=%{marker.size}<br>lat=%{lat}<br>lon=%{lon}<extra></extra>",
           "hovertext": [
            "Tomils"
           ],
           "lat": [
            46.762063299999994
           ],
           "legendgroup": "Tomils",
           "lon": [
            9.4423187
           ],
           "marker": {
            "color": "#B6E880",
            "size": [
             1
            ],
            "sizemode": "area",
            "sizeref": 0.45
           },
           "name": "Tomils",
           "showlegend": true,
           "type": "scattergeo"
          },
          {
           "geo": "geo",
           "hovertemplate": "<b>%{hovertext}</b><br><br>city_name=Glarus<br>year_participation=1995<br>cumsum=%{marker.size}<br>lat=%{lat}<br>lon=%{lon}<extra></extra>",
           "hovertext": [
            "Glarus"
           ],
           "lat": [
            46.9796562
           ],
           "legendgroup": "Glarus",
           "lon": [
            9.108812
           ],
           "marker": {
            "color": "#FF97FF",
            "size": [
             1
            ],
            "sizemode": "area",
            "sizeref": 0.45
           },
           "name": "Glarus",
           "showlegend": true,
           "type": "scattergeo"
          },
          {
           "geo": "geo",
           "hovertemplate": "<b>%{hovertext}</b><br><br>city_name=Meikirch<br>year_participation=1995<br>cumsum=%{marker.size}<br>lat=%{lat}<br>lon=%{lon}<extra></extra>",
           "hovertext": [
            "Meikirch"
           ],
           "lat": [
            47.008865500000006
           ],
           "legendgroup": "Meikirch",
           "lon": [
            7.3634614
           ],
           "marker": {
            "color": "#FECB52",
            "size": [
             1
            ],
            "sizemode": "area",
            "sizeref": 0.45
           },
           "name": "Meikirch",
           "showlegend": true,
           "type": "scattergeo"
          }
         ],
         "name": "1995"
        },
        {
         "data": [
          {
           "geo": "geo",
           "hovertemplate": "<b>%{hovertext}</b><br><br>city_name=Wien<br>year_participation=1996<br>cumsum=%{marker.size}<br>lat=%{lat}<br>lon=%{lon}<extra></extra>",
           "hovertext": [
            "Wien"
           ],
           "lat": [
            48.2083537
           ],
           "legendgroup": "Wien",
           "lon": [
            16.372504199999998
           ],
           "marker": {
            "color": "#00cc96",
            "size": [
             43
            ],
            "sizemode": "area",
            "sizeref": 0.45
           },
           "name": "Wien",
           "showlegend": true,
           "type": "scattergeo"
          },
          {
           "geo": "geo",
           "hovertemplate": "<b>%{hovertext}</b><br><br>city_name=München<br>year_participation=1996<br>cumsum=%{marker.size}<br>lat=%{lat}<br>lon=%{lon}<extra></extra>",
           "hovertext": [
            "München"
           ],
           "lat": [
            48.1371079
           ],
           "legendgroup": "München",
           "lon": [
            11.575382199999998
           ],
           "marker": {
            "color": "#B6E880",
            "size": [
             37
            ],
            "sizemode": "area",
            "sizeref": 0.45
           },
           "name": "München",
           "showlegend": true,
           "type": "scattergeo"
          },
          {
           "geo": "geo",
           "hovertemplate": "<b>%{hovertext}</b><br><br>city_name=Hamburg<br>year_participation=1996<br>cumsum=%{marker.size}<br>lat=%{lat}<br>lon=%{lon}<extra></extra>",
           "hovertext": [
            "Hamburg"
           ],
           "lat": [
            53.543764100000004
           ],
           "legendgroup": "Hamburg",
           "lon": [
            10.009913300000001
           ],
           "marker": {
            "color": "#FF97FF",
            "size": [
             23
            ],
            "sizemode": "area",
            "sizeref": 0.45
           },
           "name": "Hamburg",
           "showlegend": true,
           "type": "scattergeo"
          },
          {
           "geo": "geo",
           "hovertemplate": "<b>%{hovertext}</b><br><br>city_name=Zürich<br>year_participation=1996<br>cumsum=%{marker.size}<br>lat=%{lat}<br>lon=%{lon}<extra></extra>",
           "hovertext": [
            "Zürich"
           ],
           "lat": [
            47.3723941
           ],
           "legendgroup": "Zürich",
           "lon": [
            8.5423328
           ],
           "marker": {
            "color": "#FECB52",
            "size": [
             17
            ],
            "sizemode": "area",
            "sizeref": 0.45
           },
           "name": "Zürich",
           "showlegend": true,
           "type": "scattergeo"
          },
          {
           "geo": "geo",
           "hovertemplate": "<b>%{hovertext}</b><br><br>city_name=Berlin<br>year_participation=1996<br>cumsum=%{marker.size}<br>lat=%{lat}<br>lon=%{lon}<extra></extra>",
           "hovertext": [
            "Berlin"
           ],
           "lat": [
            52.517036499999996
           ],
           "legendgroup": "Berlin",
           "lon": [
            13.388859900000002
           ],
           "marker": {
            "color": "#EF553B",
            "size": [
             78
            ],
            "sizemode": "area",
            "sizeref": 0.45
           },
           "name": "Berlin",
           "showlegend": true,
           "type": "scattergeo"
          },
          {
           "geo": "geo",
           "hovertemplate": "<b>%{hovertext}</b><br><br>city_name=Frankfurt/Main<br>year_participation=1996<br>cumsum=%{marker.size}<br>lat=%{lat}<br>lon=%{lon}<extra></extra>",
           "hovertext": [
            "Frankfurt/Main"
           ],
           "lat": [
            50.053763700000005
           ],
           "legendgroup": "Frankfurt/Main",
           "lon": [
            8.637085800000001
           ],
           "marker": {
            "color": "#ab63fa",
            "size": [
             24
            ],
            "sizemode": "area",
            "sizeref": 0.45
           },
           "name": "Frankfurt/Main",
           "showlegend": true,
           "type": "scattergeo"
          },
          {
           "geo": "geo",
           "hovertemplate": "<b>%{hovertext}</b><br><br>city_name=Bielefeld<br>year_participation=1996<br>cumsum=%{marker.size}<br>lat=%{lat}<br>lon=%{lon}<extra></extra>",
           "hovertext": [
            "Bielefeld"
           ],
           "lat": [
            52.0191005
           ],
           "legendgroup": "Bielefeld",
           "lon": [
            8.531007
           ],
           "marker": {
            "color": "#ab63fa",
            "size": [
             2
            ],
            "sizemode": "area",
            "sizeref": 0.45
           },
           "name": "Bielefeld",
           "showlegend": true,
           "type": "scattergeo"
          },
          {
           "geo": "geo",
           "hovertemplate": "<b>%{hovertext}</b><br><br>city_name=Obernberg/Inn<br>year_participation=1996<br>cumsum=%{marker.size}<br>lat=%{lat}<br>lon=%{lon}<extra></extra>",
           "hovertext": [
            "Obernberg/Inn"
           ],
           "lat": [
            49.842047799999996
           ],
           "legendgroup": "Obernberg/Inn",
           "lon": [
            9.1482032
           ],
           "marker": {
            "color": "#636efa",
            "size": [
             1
            ],
            "sizemode": "area",
            "sizeref": 0.45
           },
           "name": "Obernberg/Inn",
           "showlegend": true,
           "type": "scattergeo"
          },
          {
           "geo": "geo",
           "hovertemplate": "<b>%{hovertext}</b><br><br>city_name=Pully<br>year_participation=1996<br>cumsum=%{marker.size}<br>lat=%{lat}<br>lon=%{lon}<extra></extra>",
           "hovertext": [
            "Pully"
           ],
           "lat": [
            46.5098019
           ],
           "legendgroup": "Pully",
           "lon": [
            6.661747599999999
           ],
           "marker": {
            "color": "#EF553B",
            "size": [
             1
            ],
            "sizemode": "area",
            "sizeref": 0.45
           },
           "name": "Pully",
           "showlegend": true,
           "type": "scattergeo"
          },
          {
           "geo": "geo",
           "hovertemplate": "<b>%{hovertext}</b><br><br>city_name=Pogöriach<br>year_participation=1996<br>cumsum=%{marker.size}<br>lat=%{lat}<br>lon=%{lon}<extra></extra>",
           "hovertext": [
            "Pogöriach"
           ],
           "lat": [
            46.6161946
           ],
           "legendgroup": "Pogöriach",
           "lon": [
            13.7958086
           ],
           "marker": {
            "color": "#00cc96",
            "size": [
             1
            ],
            "sizemode": "area",
            "sizeref": 0.45
           },
           "name": "Pogöriach",
           "showlegend": true,
           "type": "scattergeo"
          },
          {
           "geo": "geo",
           "hovertemplate": "<b>%{hovertext}</b><br><br>city_name=Wolfurt<br>year_participation=1996<br>cumsum=%{marker.size}<br>lat=%{lat}<br>lon=%{lon}<extra></extra>",
           "hovertext": [
            "Wolfurt"
           ],
           "lat": [
            47.4646422
           ],
           "legendgroup": "Wolfurt",
           "lon": [
            9.745964294639679
           ],
           "marker": {
            "color": "#ab63fa",
            "size": [
             1
            ],
            "sizemode": "area",
            "sizeref": 0.45
           },
           "name": "Wolfurt",
           "showlegend": true,
           "type": "scattergeo"
          }
         ],
         "name": "1996"
        },
        {
         "data": [
          {
           "geo": "geo",
           "hovertemplate": "<b>%{hovertext}</b><br><br>city_name=Wien<br>year_participation=1997<br>cumsum=%{marker.size}<br>lat=%{lat}<br>lon=%{lon}<extra></extra>",
           "hovertext": [
            "Wien"
           ],
           "lat": [
            48.2083537
           ],
           "legendgroup": "Wien",
           "lon": [
            16.372504199999998
           ],
           "marker": {
            "color": "#00cc96",
            "size": [
             46
            ],
            "sizemode": "area",
            "sizeref": 0.45
           },
           "name": "Wien",
           "showlegend": true,
           "type": "scattergeo"
          },
          {
           "geo": "geo",
           "hovertemplate": "<b>%{hovertext}</b><br><br>city_name=Zürich<br>year_participation=1997<br>cumsum=%{marker.size}<br>lat=%{lat}<br>lon=%{lon}<extra></extra>",
           "hovertext": [
            "Zürich"
           ],
           "lat": [
            47.3723941
           ],
           "legendgroup": "Zürich",
           "lon": [
            8.5423328
           ],
           "marker": {
            "color": "#FECB52",
            "size": [
             20
            ],
            "sizemode": "area",
            "sizeref": 0.45
           },
           "name": "Zürich",
           "showlegend": true,
           "type": "scattergeo"
          },
          {
           "geo": "geo",
           "hovertemplate": "<b>%{hovertext}</b><br><br>city_name=Berlin<br>year_participation=1997<br>cumsum=%{marker.size}<br>lat=%{lat}<br>lon=%{lon}<extra></extra>",
           "hovertext": [
            "Berlin"
           ],
           "lat": [
            52.517036499999996
           ],
           "legendgroup": "Berlin",
           "lon": [
            13.388859900000002
           ],
           "marker": {
            "color": "#EF553B",
            "size": [
             80
            ],
            "sizemode": "area",
            "sizeref": 0.45
           },
           "name": "Berlin",
           "showlegend": true,
           "type": "scattergeo"
          },
          {
           "geo": "geo",
           "hovertemplate": "<b>%{hovertext}</b><br><br>city_name=Basel<br>year_participation=1997<br>cumsum=%{marker.size}<br>lat=%{lat}<br>lon=%{lon}<extra></extra>",
           "hovertext": [
            "Basel"
           ],
           "lat": [
            47.55810770000001
           ],
           "legendgroup": "Basel",
           "lon": [
            7.5878261
           ],
           "marker": {
            "color": "#FECB52",
            "size": [
             9
            ],
            "sizemode": "area",
            "sizeref": 0.45
           },
           "name": "Basel",
           "showlegend": true,
           "type": "scattergeo"
          },
          {
           "geo": "geo",
           "hovertemplate": "<b>%{hovertext}</b><br><br>city_name=Paris<br>year_participation=1997<br>cumsum=%{marker.size}<br>lat=%{lat}<br>lon=%{lon}<extra></extra>",
           "hovertext": [
            "Paris"
           ],
           "lat": [
            48.856696899999996
           ],
           "legendgroup": "Paris",
           "lon": [
            2.3514616000000004
           ],
           "marker": {
            "color": "#00cc96",
            "size": [
             4
            ],
            "sizemode": "area",
            "sizeref": 0.45
           },
           "name": "Paris",
           "showlegend": true,
           "type": "scattergeo"
          },
          {
           "geo": "geo",
           "hovertemplate": "<b>%{hovertext}</b><br><br>city_name=Klosterneuburg<br>year_participation=1997<br>cumsum=%{marker.size}<br>lat=%{lat}<br>lon=%{lon}<extra></extra>",
           "hovertext": [
            "Klosterneuburg"
           ],
           "lat": [
            48.304990000000004
           ],
           "legendgroup": "Klosterneuburg",
           "lon": [
            16.323756
           ],
           "marker": {
            "color": "#FFA15A",
            "size": [
             1
            ],
            "sizemode": "area",
            "sizeref": 0.45
           },
           "name": "Klosterneuburg",
           "showlegend": true,
           "type": "scattergeo"
          },
          {
           "geo": "geo",
           "hovertemplate": "<b>%{hovertext}</b><br><br>city_name=Montpellier<br>year_participation=1997<br>cumsum=%{marker.size}<br>lat=%{lat}<br>lon=%{lon}<extra></extra>",
           "hovertext": [
            "Montpellier"
           ],
           "lat": [
            43.6112422
           ],
           "legendgroup": "Montpellier",
           "lon": [
            3.8767337
           ],
           "marker": {
            "color": "#19d3f3",
            "size": [
             1
            ],
            "sizemode": "area",
            "sizeref": 0.45
           },
           "name": "Montpellier",
           "showlegend": true,
           "type": "scattergeo"
          },
          {
           "geo": "geo",
           "hovertemplate": "<b>%{hovertext}</b><br><br>city_name=Kerry (Irland)<br>year_participation=1997<br>cumsum=%{marker.size}<br>lat=%{lat}<br>lon=%{lon}<extra></extra>",
           "hovertext": [
            "Kerry (Irland)"
           ],
           "lat": [
            52.14533445
           ],
           "legendgroup": "Kerry (Irland)",
           "lon": [
            -9.517401092833236
           ],
           "marker": {
            "color": "#FF6692",
            "size": [
             1
            ],
            "sizemode": "area",
            "sizeref": 0.45
           },
           "name": "Kerry (Irland)",
           "showlegend": true,
           "type": "scattergeo"
          },
          {
           "geo": "geo",
           "hovertemplate": "<b>%{hovertext}</b><br><br>city_name=Chieming<br>year_participation=1997<br>cumsum=%{marker.size}<br>lat=%{lat}<br>lon=%{lon}<extra></extra>",
           "hovertext": [
            "Chieming"
           ],
           "lat": [
            47.8942626
           ],
           "legendgroup": "Chieming",
           "lon": [
            12.5381465
           ],
           "marker": {
            "color": "#B6E880",
            "size": [
             1
            ],
            "sizemode": "area",
            "sizeref": 0.45
           },
           "name": "Chieming",
           "showlegend": true,
           "type": "scattergeo"
          },
          {
           "geo": "geo",
           "hovertemplate": "<b>%{hovertext}</b><br><br>city_name=Niigata (Japan)<br>year_participation=1997<br>cumsum=%{marker.size}<br>lat=%{lat}<br>lon=%{lon}<extra></extra>",
           "hovertext": [
            "Niigata (Japan)"
           ],
           "lat": [
            37.6452283
           ],
           "legendgroup": "Niigata (Japan)",
           "lon": [
            138.7669125
           ],
           "marker": {
            "color": "#FF97FF",
            "size": [
             1
            ],
            "sizemode": "area",
            "sizeref": 0.45
           },
           "name": "Niigata (Japan)",
           "showlegend": true,
           "type": "scattergeo"
          },
          {
           "geo": "geo",
           "hovertemplate": "<b>%{hovertext}</b><br><br>city_name=Eurasburg<br>year_participation=1997<br>cumsum=%{marker.size}<br>lat=%{lat}<br>lon=%{lon}<extra></extra>",
           "hovertext": [
            "Eurasburg"
           ],
           "lat": [
            48.3343673
           ],
           "legendgroup": "Eurasburg",
           "lon": [
            11.0832728
           ],
           "marker": {
            "color": "#FECB52",
            "size": [
             1
            ],
            "sizemode": "area",
            "sizeref": 0.45
           },
           "name": "Eurasburg",
           "showlegend": true,
           "type": "scattergeo"
          }
         ],
         "name": "1997"
        },
        {
         "data": [
          {
           "geo": "geo",
           "hovertemplate": "<b>%{hovertext}</b><br><br>city_name=Wien<br>year_participation=1998<br>cumsum=%{marker.size}<br>lat=%{lat}<br>lon=%{lon}<extra></extra>",
           "hovertext": [
            "Wien"
           ],
           "lat": [
            48.2083537
           ],
           "legendgroup": "Wien",
           "lon": [
            16.372504199999998
           ],
           "marker": {
            "color": "#00cc96",
            "size": [
             47
            ],
            "sizemode": "area",
            "sizeref": 0.45
           },
           "name": "Wien",
           "showlegend": true,
           "type": "scattergeo"
          },
          {
           "geo": "geo",
           "hovertemplate": "<b>%{hovertext}</b><br><br>city_name=München<br>year_participation=1998<br>cumsum=%{marker.size}<br>lat=%{lat}<br>lon=%{lon}<extra></extra>",
           "hovertext": [
            "München"
           ],
           "lat": [
            48.1371079
           ],
           "legendgroup": "München",
           "lon": [
            11.575382199999998
           ],
           "marker": {
            "color": "#B6E880",
            "size": [
             38
            ],
            "sizemode": "area",
            "sizeref": 0.45
           },
           "name": "München",
           "showlegend": true,
           "type": "scattergeo"
          },
          {
           "geo": "geo",
           "hovertemplate": "<b>%{hovertext}</b><br><br>city_name=Zürich<br>year_participation=1998<br>cumsum=%{marker.size}<br>lat=%{lat}<br>lon=%{lon}<extra></extra>",
           "hovertext": [
            "Zürich"
           ],
           "lat": [
            47.3723941
           ],
           "legendgroup": "Zürich",
           "lon": [
            8.5423328
           ],
           "marker": {
            "color": "#FECB52",
            "size": [
             21
            ],
            "sizemode": "area",
            "sizeref": 0.45
           },
           "name": "Zürich",
           "showlegend": true,
           "type": "scattergeo"
          },
          {
           "geo": "geo",
           "hovertemplate": "<b>%{hovertext}</b><br><br>city_name=Berlin<br>year_participation=1998<br>cumsum=%{marker.size}<br>lat=%{lat}<br>lon=%{lon}<extra></extra>",
           "hovertext": [
            "Berlin"
           ],
           "lat": [
            52.517036499999996
           ],
           "legendgroup": "Berlin",
           "lon": [
            13.388859900000002
           ],
           "marker": {
            "color": "#EF553B",
            "size": [
             86
            ],
            "sizemode": "area",
            "sizeref": 0.45
           },
           "name": "Berlin",
           "showlegend": true,
           "type": "scattergeo"
          },
          {
           "geo": "geo",
           "hovertemplate": "<b>%{hovertext}</b><br><br>city_name=Basel<br>year_participation=1998<br>cumsum=%{marker.size}<br>lat=%{lat}<br>lon=%{lon}<extra></extra>",
           "hovertext": [
            "Basel"
           ],
           "lat": [
            47.55810770000001
           ],
           "legendgroup": "Basel",
           "lon": [
            7.5878261
           ],
           "marker": {
            "color": "#FECB52",
            "size": [
             10
            ],
            "sizemode": "area",
            "sizeref": 0.45
           },
           "name": "Basel",
           "showlegend": true,
           "type": "scattergeo"
          },
          {
           "geo": "geo",
           "hovertemplate": "<b>%{hovertext}</b><br><br>city_name=Karlsruhe<br>year_participation=1998<br>cumsum=%{marker.size}<br>lat=%{lat}<br>lon=%{lon}<extra></extra>",
           "hovertext": [
            "Karlsruhe"
           ],
           "lat": [
            49.006870500000005
           ],
           "legendgroup": "Karlsruhe",
           "lon": [
            8.4034195
           ],
           "marker": {
            "color": "#19d3f3",
            "size": [
             3
            ],
            "sizemode": "area",
            "sizeref": 0.45
           },
           "name": "Karlsruhe",
           "showlegend": true,
           "type": "scattergeo"
          },
          {
           "geo": "geo",
           "hovertemplate": "<b>%{hovertext}</b><br><br>city_name=Köln<br>year_participation=1998<br>cumsum=%{marker.size}<br>lat=%{lat}<br>lon=%{lon}<extra></extra>",
           "hovertext": [
            "Köln"
           ],
           "lat": [
            50.938361
           ],
           "legendgroup": "Köln",
           "lon": [
            6.959974000000001
           ],
           "marker": {
            "color": "#00cc96",
            "size": [
             5
            ],
            "sizemode": "area",
            "sizeref": 0.45
           },
           "name": "Köln",
           "showlegend": true,
           "type": "scattergeo"
          },
          {
           "geo": "geo",
           "hovertemplate": "<b>%{hovertext}</b><br><br>city_name=Bregenz<br>year_participation=1998<br>cumsum=%{marker.size}<br>lat=%{lat}<br>lon=%{lon}<extra></extra>",
           "hovertext": [
            "Bregenz"
           ],
           "lat": [
            47.5025779
           ],
           "legendgroup": "Bregenz",
           "lon": [
            9.7472924
           ],
           "marker": {
            "color": "#B6E880",
            "size": [
             5
            ],
            "sizemode": "area",
            "sizeref": 0.45
           },
           "name": "Bregenz",
           "showlegend": true,
           "type": "scattergeo"
          },
          {
           "geo": "geo",
           "hovertemplate": "<b>%{hovertext}</b><br><br>city_name=Filzbach<br>year_participation=1998<br>cumsum=%{marker.size}<br>lat=%{lat}<br>lon=%{lon}<extra></extra>",
           "hovertext": [
            "Filzbach"
           ],
           "lat": [
            47.120447399999996
           ],
           "legendgroup": "Filzbach",
           "lon": [
            9.1296451
           ],
           "marker": {
            "color": "#636efa",
            "size": [
             1
            ],
            "sizemode": "area",
            "sizeref": 0.45
           },
           "name": "Filzbach",
           "showlegend": true,
           "type": "scattergeo"
          },
          {
           "geo": "geo",
           "hovertemplate": "<b>%{hovertext}</b><br><br>city_name=Übach-Palenberg<br>year_participation=1998<br>cumsum=%{marker.size}<br>lat=%{lat}<br>lon=%{lon}<extra></extra>",
           "hovertext": [
            "Übach-Palenberg"
           ],
           "lat": [
            50.9213799
           ],
           "legendgroup": "Übach-Palenberg",
           "lon": [
            6.1128697999999995
           ],
           "marker": {
            "color": "#EF553B",
            "size": [
             1
            ],
            "sizemode": "area",
            "sizeref": 0.45
           },
           "name": "Übach-Palenberg",
           "showlegend": true,
           "type": "scattergeo"
          }
         ],
         "name": "1998"
        },
        {
         "data": [
          {
           "geo": "geo",
           "hovertemplate": "<b>%{hovertext}</b><br><br>city_name=Wien<br>year_participation=1999<br>cumsum=%{marker.size}<br>lat=%{lat}<br>lon=%{lon}<extra></extra>",
           "hovertext": [
            "Wien"
           ],
           "lat": [
            48.2083537
           ],
           "legendgroup": "Wien",
           "lon": [
            16.372504199999998
           ],
           "marker": {
            "color": "#00cc96",
            "size": [
             48
            ],
            "sizemode": "area",
            "sizeref": 0.45
           },
           "name": "Wien",
           "showlegend": true,
           "type": "scattergeo"
          },
          {
           "geo": "geo",
           "hovertemplate": "<b>%{hovertext}</b><br><br>city_name=Hamburg<br>year_participation=1999<br>cumsum=%{marker.size}<br>lat=%{lat}<br>lon=%{lon}<extra></extra>",
           "hovertext": [
            "Hamburg"
           ],
           "lat": [
            53.543764100000004
           ],
           "legendgroup": "Hamburg",
           "lon": [
            10.009913300000001
           ],
           "marker": {
            "color": "#FF97FF",
            "size": [
             24
            ],
            "sizemode": "area",
            "sizeref": 0.45
           },
           "name": "Hamburg",
           "showlegend": true,
           "type": "scattergeo"
          },
          {
           "geo": "geo",
           "hovertemplate": "<b>%{hovertext}</b><br><br>city_name=Zürich<br>year_participation=1999<br>cumsum=%{marker.size}<br>lat=%{lat}<br>lon=%{lon}<extra></extra>",
           "hovertext": [
            "Zürich"
           ],
           "lat": [
            47.3723941
           ],
           "legendgroup": "Zürich",
           "lon": [
            8.5423328
           ],
           "marker": {
            "color": "#FECB52",
            "size": [
             23
            ],
            "sizemode": "area",
            "sizeref": 0.45
           },
           "name": "Zürich",
           "showlegend": true,
           "type": "scattergeo"
          },
          {
           "geo": "geo",
           "hovertemplate": "<b>%{hovertext}</b><br><br>city_name=Berlin<br>year_participation=1999<br>cumsum=%{marker.size}<br>lat=%{lat}<br>lon=%{lon}<extra></extra>",
           "hovertext": [
            "Berlin"
           ],
           "lat": [
            52.517036499999996
           ],
           "legendgroup": "Berlin",
           "lon": [
            13.388859900000002
           ],
           "marker": {
            "color": "#EF553B",
            "size": [
             91
            ],
            "sizemode": "area",
            "sizeref": 0.45
           },
           "name": "Berlin",
           "showlegend": true,
           "type": "scattergeo"
          },
          {
           "geo": "geo",
           "hovertemplate": "<b>%{hovertext}</b><br><br>city_name=Salzburg<br>year_participation=1999<br>cumsum=%{marker.size}<br>lat=%{lat}<br>lon=%{lon}<extra></extra>",
           "hovertext": [
            "Salzburg"
           ],
           "lat": [
            47.798134600000004
           ],
           "legendgroup": "Salzburg",
           "lon": [
            13.046480599999999
           ],
           "marker": {
            "color": "#00cc96",
            "size": [
             15
            ],
            "sizemode": "area",
            "sizeref": 0.45
           },
           "name": "Salzburg",
           "showlegend": true,
           "type": "scattergeo"
          },
          {
           "geo": "geo",
           "hovertemplate": "<b>%{hovertext}</b><br><br>city_name=Hohenems<br>year_participation=1999<br>cumsum=%{marker.size}<br>lat=%{lat}<br>lon=%{lon}<extra></extra>",
           "hovertext": [
            "Hohenems"
           ],
           "lat": [
            47.3639973
           ],
           "legendgroup": "Hohenems",
           "lon": [
            9.689271000000002
           ],
           "marker": {
            "color": "#EF553B",
            "size": [
             2
            ],
            "sizemode": "area",
            "sizeref": 0.45
           },
           "name": "Hohenems",
           "showlegend": true,
           "type": "scattergeo"
          },
          {
           "geo": "geo",
           "hovertemplate": "<b>%{hovertext}</b><br><br>city_name=Langenthal<br>year_participation=1999<br>cumsum=%{marker.size}<br>lat=%{lat}<br>lon=%{lon}<extra></extra>",
           "hovertext": [
            "Langenthal"
           ],
           "lat": [
            49.8309059
           ],
           "legendgroup": "Langenthal",
           "lon": [
            7.5737063
           ],
           "marker": {
            "color": "#00cc96",
            "size": [
             1
            ],
            "sizemode": "area",
            "sizeref": 0.45
           },
           "name": "Langenthal",
           "showlegend": true,
           "type": "scattergeo"
          },
          {
           "geo": "geo",
           "hovertemplate": "<b>%{hovertext}</b><br><br>city_name=Adnet<br>year_participation=1999<br>cumsum=%{marker.size}<br>lat=%{lat}<br>lon=%{lon}<extra></extra>",
           "hovertext": [
            "Adnet"
           ],
           "lat": [
            47.6963575
           ],
           "legendgroup": "Adnet",
           "lon": [
            13.1307565
           ],
           "marker": {
            "color": "#ab63fa",
            "size": [
             1
            ],
            "sizemode": "area",
            "sizeref": 0.45
           },
           "name": "Adnet",
           "showlegend": true,
           "type": "scattergeo"
          },
          {
           "geo": "geo",
           "hovertemplate": "<b>%{hovertext}</b><br><br>city_name=Amsterdam<br>year_participation=1999<br>cumsum=%{marker.size}<br>lat=%{lat}<br>lon=%{lon}<extra></extra>",
           "hovertext": [
            "Amsterdam"
           ],
           "lat": [
            52.37454030000001
           ],
           "legendgroup": "Amsterdam",
           "lon": [
            4.897975505617977
           ],
           "marker": {
            "color": "#FFA15A",
            "size": [
             1
            ],
            "sizemode": "area",
            "sizeref": 0.45
           },
           "name": "Amsterdam",
           "showlegend": true,
           "type": "scattergeo"
          },
          {
           "geo": "geo",
           "hovertemplate": "<b>%{hovertext}</b><br><br>city_name=Dornbirn<br>year_participation=1999<br>cumsum=%{marker.size}<br>lat=%{lat}<br>lon=%{lon}<extra></extra>",
           "hovertext": [
            "Dornbirn"
           ],
           "lat": [
            47.413631
           ],
           "legendgroup": "Dornbirn",
           "lon": [
            9.7423875
           ],
           "marker": {
            "color": "#19d3f3",
            "size": [
             1
            ],
            "sizemode": "area",
            "sizeref": 0.45
           },
           "name": "Dornbirn",
           "showlegend": true,
           "type": "scattergeo"
          },
          {
           "geo": "geo",
           "hovertemplate": "<b>%{hovertext}</b><br><br>city_name=Rheineck<br>year_participation=1999<br>cumsum=%{marker.size}<br>lat=%{lat}<br>lon=%{lon}<extra></extra>",
           "hovertext": [
            "Rheineck"
           ],
           "lat": [
            47.4706336
           ],
           "legendgroup": "Rheineck",
           "lon": [
            9.584108
           ],
           "marker": {
            "color": "#FF6692",
            "size": [
             1
            ],
            "sizemode": "area",
            "sizeref": 0.45
           },
           "name": "Rheineck",
           "showlegend": true,
           "type": "scattergeo"
          }
         ],
         "name": "1999"
        },
        {
         "data": [
          {
           "geo": "geo",
           "hovertemplate": "<b>%{hovertext}</b><br><br>city_name=Wien<br>year_participation=2000<br>cumsum=%{marker.size}<br>lat=%{lat}<br>lon=%{lon}<extra></extra>",
           "hovertext": [
            "Wien"
           ],
           "lat": [
            48.2083537
           ],
           "legendgroup": "Wien",
           "lon": [
            16.372504199999998
           ],
           "marker": {
            "color": "#00cc96",
            "size": [
             51
            ],
            "sizemode": "area",
            "sizeref": 0.45
           },
           "name": "Wien",
           "showlegend": true,
           "type": "scattergeo"
          },
          {
           "geo": "geo",
           "hovertemplate": "<b>%{hovertext}</b><br><br>city_name=München<br>year_participation=2000<br>cumsum=%{marker.size}<br>lat=%{lat}<br>lon=%{lon}<extra></extra>",
           "hovertext": [
            "München"
           ],
           "lat": [
            48.1371079
           ],
           "legendgroup": "München",
           "lon": [
            11.575382199999998
           ],
           "marker": {
            "color": "#B6E880",
            "size": [
             39
            ],
            "sizemode": "area",
            "sizeref": 0.45
           },
           "name": "München",
           "showlegend": true,
           "type": "scattergeo"
          },
          {
           "geo": "geo",
           "hovertemplate": "<b>%{hovertext}</b><br><br>city_name=Zürich<br>year_participation=2000<br>cumsum=%{marker.size}<br>lat=%{lat}<br>lon=%{lon}<extra></extra>",
           "hovertext": [
            "Zürich"
           ],
           "lat": [
            47.3723941
           ],
           "legendgroup": "Zürich",
           "lon": [
            8.5423328
           ],
           "marker": {
            "color": "#FECB52",
            "size": [
             24
            ],
            "sizemode": "area",
            "sizeref": 0.45
           },
           "name": "Zürich",
           "showlegend": true,
           "type": "scattergeo"
          },
          {
           "geo": "geo",
           "hovertemplate": "<b>%{hovertext}</b><br><br>city_name=Berlin<br>year_participation=2000<br>cumsum=%{marker.size}<br>lat=%{lat}<br>lon=%{lon}<extra></extra>",
           "hovertext": [
            "Berlin"
           ],
           "lat": [
            52.517036499999996
           ],
           "legendgroup": "Berlin",
           "lon": [
            13.388859900000002
           ],
           "marker": {
            "color": "#EF553B",
            "size": [
             97
            ],
            "sizemode": "area",
            "sizeref": 0.45
           },
           "name": "Berlin",
           "showlegend": true,
           "type": "scattergeo"
          },
          {
           "geo": "geo",
           "hovertemplate": "<b>%{hovertext}</b><br><br>city_name=Basel<br>year_participation=2000<br>cumsum=%{marker.size}<br>lat=%{lat}<br>lon=%{lon}<extra></extra>",
           "hovertext": [
            "Basel"
           ],
           "lat": [
            47.55810770000001
           ],
           "legendgroup": "Basel",
           "lon": [
            7.5878261
           ],
           "marker": {
            "color": "#FECB52",
            "size": [
             11
            ],
            "sizemode": "area",
            "sizeref": 0.45
           },
           "name": "Basel",
           "showlegend": true,
           "type": "scattergeo"
          },
          {
           "geo": "geo",
           "hovertemplate": "<b>%{hovertext}</b><br><br>city_name=Seon<br>year_participation=2000<br>cumsum=%{marker.size}<br>lat=%{lat}<br>lon=%{lon}<extra></extra>",
           "hovertext": [
            "Seon"
           ],
           "lat": [
            47.3460005
           ],
           "legendgroup": "Seon",
           "lon": [
            8.1593554
           ],
           "marker": {
            "color": "#B6E880",
            "size": [
             1
            ],
            "sizemode": "area",
            "sizeref": 0.45
           },
           "name": "Seon",
           "showlegend": true,
           "type": "scattergeo"
          },
          {
           "geo": "geo",
           "hovertemplate": "<b>%{hovertext}</b><br><br>city_name=Heinitzpolder<br>year_participation=2000<br>cumsum=%{marker.size}<br>lat=%{lat}<br>lon=%{lon}<extra></extra>",
           "hovertext": [
            "Heinitzpolder"
           ],
           "lat": [
            53.26128539999999
           ],
           "legendgroup": "Heinitzpolder",
           "lon": [
            7.2439366
           ],
           "marker": {
            "color": "#FF97FF",
            "size": [
             1
            ],
            "sizemode": "area",
            "sizeref": 0.45
           },
           "name": "Heinitzpolder",
           "showlegend": true,
           "type": "scattergeo"
          },
          {
           "geo": "geo",
           "hovertemplate": "<b>%{hovertext}</b><br><br>city_name=Montevideo (Uruguay)<br>year_participation=2000<br>cumsum=%{marker.size}<br>lat=%{lat}<br>lon=%{lon}<extra></extra>",
           "hovertext": [
            "Montevideo (Uruguay)"
           ],
           "lat": [
            -34.8927002
           ],
           "legendgroup": "Montevideo (Uruguay)",
           "lon": [
            -56.178654
           ],
           "marker": {
            "color": "#FECB52",
            "size": [
             1
            ],
            "sizemode": "area",
            "sizeref": 0.45
           },
           "name": "Montevideo (Uruguay)",
           "showlegend": true,
           "type": "scattergeo"
          },
          {
           "geo": "geo",
           "hovertemplate": "<b>%{hovertext}</b><br><br>city_name=Bad Nauheim<br>year_participation=2000<br>cumsum=%{marker.size}<br>lat=%{lat}<br>lon=%{lon}<extra></extra>",
           "hovertext": [
            "Bad Nauheim"
           ],
           "lat": [
            50.3681107
           ],
           "legendgroup": "Bad Nauheim",
           "lon": [
            8.747360800000001
           ],
           "marker": {
            "color": "#636efa",
            "size": [
             1
            ],
            "sizemode": "area",
            "sizeref": 0.45
           },
           "name": "Bad Nauheim",
           "showlegend": true,
           "type": "scattergeo"
          }
         ],
         "name": "2000"
        },
        {
         "data": [
          {
           "geo": "geo",
           "hovertemplate": "<b>%{hovertext}</b><br><br>city_name=München<br>year_participation=2001<br>cumsum=%{marker.size}<br>lat=%{lat}<br>lon=%{lon}<extra></extra>",
           "hovertext": [
            "München"
           ],
           "lat": [
            48.1371079
           ],
           "legendgroup": "München",
           "lon": [
            11.575382199999998
           ],
           "marker": {
            "color": "#B6E880",
            "size": [
             42
            ],
            "sizemode": "area",
            "sizeref": 0.45
           },
           "name": "München",
           "showlegend": true,
           "type": "scattergeo"
          },
          {
           "geo": "geo",
           "hovertemplate": "<b>%{hovertext}</b><br><br>city_name=Zürich<br>year_participation=2001<br>cumsum=%{marker.size}<br>lat=%{lat}<br>lon=%{lon}<extra></extra>",
           "hovertext": [
            "Zürich"
           ],
           "lat": [
            47.3723941
           ],
           "legendgroup": "Zürich",
           "lon": [
            8.5423328
           ],
           "marker": {
            "color": "#FECB52",
            "size": [
             26
            ],
            "sizemode": "area",
            "sizeref": 0.45
           },
           "name": "Zürich",
           "showlegend": true,
           "type": "scattergeo"
          },
          {
           "geo": "geo",
           "hovertemplate": "<b>%{hovertext}</b><br><br>city_name=Berlin<br>year_participation=2001<br>cumsum=%{marker.size}<br>lat=%{lat}<br>lon=%{lon}<extra></extra>",
           "hovertext": [
            "Berlin"
           ],
           "lat": [
            52.517036499999996
           ],
           "legendgroup": "Berlin",
           "lon": [
            13.388859900000002
           ],
           "marker": {
            "color": "#EF553B",
            "size": [
             104
            ],
            "sizemode": "area",
            "sizeref": 0.45
           },
           "name": "Berlin",
           "showlegend": true,
           "type": "scattergeo"
          },
          {
           "geo": "geo",
           "hovertemplate": "<b>%{hovertext}</b><br><br>city_name=Frankfurt/Main<br>year_participation=2001<br>cumsum=%{marker.size}<br>lat=%{lat}<br>lon=%{lon}<extra></extra>",
           "hovertext": [
            "Frankfurt/Main"
           ],
           "lat": [
            50.053763700000005
           ],
           "legendgroup": "Frankfurt/Main",
           "lon": [
            8.637085800000001
           ],
           "marker": {
            "color": "#ab63fa",
            "size": [
             25
            ],
            "sizemode": "area",
            "sizeref": 0.45
           },
           "name": "Frankfurt/Main",
           "showlegend": true,
           "type": "scattergeo"
          },
          {
           "geo": "geo",
           "hovertemplate": "<b>%{hovertext}</b><br><br>city_name=Köln<br>year_participation=2001<br>cumsum=%{marker.size}<br>lat=%{lat}<br>lon=%{lon}<extra></extra>",
           "hovertext": [
            "Köln"
           ],
           "lat": [
            50.938361
           ],
           "legendgroup": "Köln",
           "lon": [
            6.959974000000001
           ],
           "marker": {
            "color": "#00cc96",
            "size": [
             7
            ],
            "sizemode": "area",
            "sizeref": 0.45
           },
           "name": "Köln",
           "showlegend": true,
           "type": "scattergeo"
          },
          {
           "geo": "geo",
           "hovertemplate": "<b>%{hovertext}</b><br><br>city_name=Potsdam<br>year_participation=2001<br>cumsum=%{marker.size}<br>lat=%{lat}<br>lon=%{lon}<extra></extra>",
           "hovertext": [
            "Potsdam"
           ],
           "lat": [
            52.4009309
           ],
           "legendgroup": "Potsdam",
           "lon": [
            13.0591397
           ],
           "marker": {
            "color": "#ab63fa",
            "size": [
             2
            ],
            "sizemode": "area",
            "sizeref": 0.45
           },
           "name": "Potsdam",
           "showlegend": true,
           "type": "scattergeo"
          },
          {
           "geo": "geo",
           "hovertemplate": "<b>%{hovertext}</b><br><br>city_name=Verden/Aller<br>year_participation=2001<br>cumsum=%{marker.size}<br>lat=%{lat}<br>lon=%{lon}<extra></extra>",
           "hovertext": [
            "Verden/Aller"
           ],
           "lat": [
            52.94106755
           ],
           "legendgroup": "Verden/Aller",
           "lon": [
            9.235471627440539
           ],
           "marker": {
            "color": "#EF553B",
            "size": [
             1
            ],
            "sizemode": "area",
            "sizeref": 0.45
           },
           "name": "Verden/Aller",
           "showlegend": true,
           "type": "scattergeo"
          },
          {
           "geo": "geo",
           "hovertemplate": "<b>%{hovertext}</b><br><br>city_name=St. Pantaleon<br>year_participation=2001<br>cumsum=%{marker.size}<br>lat=%{lat}<br>lon=%{lon}<extra></extra>",
           "hovertext": [
            "St. Pantaleon"
           ],
           "lat": [
            44.36794325
           ],
           "legendgroup": "St. Pantaleon",
           "lon": [
            1.2883090052056572
           ],
           "marker": {
            "color": "#00cc96",
            "size": [
             1
            ],
            "sizemode": "area",
            "sizeref": 0.45
           },
           "name": "St. Pantaleon",
           "showlegend": true,
           "type": "scattergeo"
          },
          {
           "geo": "geo",
           "hovertemplate": "<b>%{hovertext}</b><br><br>city_name=Kumberg<br>year_participation=2001<br>cumsum=%{marker.size}<br>lat=%{lat}<br>lon=%{lon}<extra></extra>",
           "hovertext": [
            "Kumberg"
           ],
           "lat": [
            47.1602431
           ],
           "legendgroup": "Kumberg",
           "lon": [
            15.5343272
           ],
           "marker": {
            "color": "#ab63fa",
            "size": [
             1
            ],
            "sizemode": "area",
            "sizeref": 0.45
           },
           "name": "Kumberg",
           "showlegend": true,
           "type": "scattergeo"
          }
         ],
         "name": "2001"
        },
        {
         "data": [
          {
           "geo": "geo",
           "hovertemplate": "<b>%{hovertext}</b><br><br>city_name=Wien<br>year_participation=2002<br>cumsum=%{marker.size}<br>lat=%{lat}<br>lon=%{lon}<extra></extra>",
           "hovertext": [
            "Wien"
           ],
           "lat": [
            48.2083537
           ],
           "legendgroup": "Wien",
           "lon": [
            16.372504199999998
           ],
           "marker": {
            "color": "#00cc96",
            "size": [
             52
            ],
            "sizemode": "area",
            "sizeref": 0.45
           },
           "name": "Wien",
           "showlegend": true,
           "type": "scattergeo"
          },
          {
           "geo": "geo",
           "hovertemplate": "<b>%{hovertext}</b><br><br>city_name=Zürich<br>year_participation=2002<br>cumsum=%{marker.size}<br>lat=%{lat}<br>lon=%{lon}<extra></extra>",
           "hovertext": [
            "Zürich"
           ],
           "lat": [
            47.3723941
           ],
           "legendgroup": "Zürich",
           "lon": [
            8.5423328
           ],
           "marker": {
            "color": "#FECB52",
            "size": [
             28
            ],
            "sizemode": "area",
            "sizeref": 0.45
           },
           "name": "Zürich",
           "showlegend": true,
           "type": "scattergeo"
          },
          {
           "geo": "geo",
           "hovertemplate": "<b>%{hovertext}</b><br><br>city_name=Berlin<br>year_participation=2002<br>cumsum=%{marker.size}<br>lat=%{lat}<br>lon=%{lon}<extra></extra>",
           "hovertext": [
            "Berlin"
           ],
           "lat": [
            52.517036499999996
           ],
           "legendgroup": "Berlin",
           "lon": [
            13.388859900000002
           ],
           "marker": {
            "color": "#EF553B",
            "size": [
             107
            ],
            "sizemode": "area",
            "sizeref": 0.45
           },
           "name": "Berlin",
           "showlegend": true,
           "type": "scattergeo"
          },
          {
           "geo": "geo",
           "hovertemplate": "<b>%{hovertext}</b><br><br>city_name=Bern<br>year_participation=2002<br>cumsum=%{marker.size}<br>lat=%{lat}<br>lon=%{lon}<extra></extra>",
           "hovertext": [
            "Bern"
           ],
           "lat": [
            46.9482713
           ],
           "legendgroup": "Bern",
           "lon": [
            7.4514512
           ],
           "marker": {
            "color": "#FF6692",
            "size": [
             11
            ],
            "sizemode": "area",
            "sizeref": 0.45
           },
           "name": "Bern",
           "showlegend": true,
           "type": "scattergeo"
          },
          {
           "geo": "geo",
           "hovertemplate": "<b>%{hovertext}</b><br><br>city_name=Basel<br>year_participation=2002<br>cumsum=%{marker.size}<br>lat=%{lat}<br>lon=%{lon}<extra></extra>",
           "hovertext": [
            "Basel"
           ],
           "lat": [
            47.55810770000001
           ],
           "legendgroup": "Basel",
           "lon": [
            7.5878261
           ],
           "marker": {
            "color": "#FECB52",
            "size": [
             13
            ],
            "sizemode": "area",
            "sizeref": 0.45
           },
           "name": "Basel",
           "showlegend": true,
           "type": "scattergeo"
          },
          {
           "geo": "geo",
           "hovertemplate": "<b>%{hovertext}</b><br><br>city_name=Innsbruck<br>year_participation=2002<br>cumsum=%{marker.size}<br>lat=%{lat}<br>lon=%{lon}<extra></extra>",
           "hovertext": [
            "Innsbruck"
           ],
           "lat": [
            47.265429600000004
           ],
           "legendgroup": "Innsbruck",
           "lon": [
            11.392768499999999
           ],
           "marker": {
            "color": "#FF6692",
            "size": [
             5
            ],
            "sizemode": "area",
            "sizeref": 0.45
           },
           "name": "Innsbruck",
           "showlegend": true,
           "type": "scattergeo"
          },
          {
           "geo": "geo",
           "hovertemplate": "<b>%{hovertext}</b><br><br>city_name=Linz<br>year_participation=2002<br>cumsum=%{marker.size}<br>lat=%{lat}<br>lon=%{lon}<extra></extra>",
           "hovertext": [
            "Linz"
           ],
           "lat": [
            48.3059078
           ],
           "legendgroup": "Linz",
           "lon": [
            14.286198
           ],
           "marker": {
            "color": "#FF97FF",
            "size": [
             3
            ],
            "sizemode": "area",
            "sizeref": 0.45
           },
           "name": "Linz",
           "showlegend": true,
           "type": "scattergeo"
          },
          {
           "geo": "geo",
           "hovertemplate": "<b>%{hovertext}</b><br><br>city_name=Leipzig<br>year_participation=2002<br>cumsum=%{marker.size}<br>lat=%{lat}<br>lon=%{lon}<extra></extra>",
           "hovertext": [
            "Leipzig"
           ],
           "lat": [
            51.3406321
           ],
           "legendgroup": "Leipzig",
           "lon": [
            12.3747329
           ],
           "marker": {
            "color": "#00cc96",
            "size": [
             2
            ],
            "sizemode": "area",
            "sizeref": 0.45
           },
           "name": "Leipzig",
           "showlegend": true,
           "type": "scattergeo"
          },
          {
           "geo": "geo",
           "hovertemplate": "<b>%{hovertext}</b><br><br>city_name=Freiburg<br>year_participation=2002<br>cumsum=%{marker.size}<br>lat=%{lat}<br>lon=%{lon}<extra></extra>",
           "hovertext": [
            "Freiburg"
           ],
           "lat": [
            47.9960901
           ],
           "legendgroup": "Freiburg",
           "lon": [
            7.849400500000001
           ],
           "marker": {
            "color": "#FECB52",
            "size": [
             4
            ],
            "sizemode": "area",
            "sizeref": 0.45
           },
           "name": "Freiburg",
           "showlegend": true,
           "type": "scattergeo"
          },
          {
           "geo": "geo",
           "hovertemplate": "<b>%{hovertext}</b><br><br>city_name=Hall (Tirol)<br>year_participation=2002<br>cumsum=%{marker.size}<br>lat=%{lat}<br>lon=%{lon}<extra></extra>",
           "hovertext": [
            "Hall (Tirol)"
           ],
           "lat": [
            47.223193
           ],
           "legendgroup": "Hall (Tirol)",
           "lon": [
            11.5261028
           ],
           "marker": {
            "color": "#FFA15A",
            "size": [
             1
            ],
            "sizemode": "area",
            "sizeref": 0.45
           },
           "name": "Hall (Tirol)",
           "showlegend": true,
           "type": "scattergeo"
          },
          {
           "geo": "geo",
           "hovertemplate": "<b>%{hovertext}</b><br><br>city_name=Pratteln<br>year_participation=2002<br>cumsum=%{marker.size}<br>lat=%{lat}<br>lon=%{lon}<extra></extra>",
           "hovertext": [
            "Pratteln"
           ],
           "lat": [
            47.5192013
           ],
           "legendgroup": "Pratteln",
           "lon": [
            7.6944741
           ],
           "marker": {
            "color": "#19d3f3",
            "size": [
             1
            ],
            "sizemode": "area",
            "sizeref": 0.45
           },
           "name": "Pratteln",
           "showlegend": true,
           "type": "scattergeo"
          },
          {
           "geo": "geo",
           "hovertemplate": "<b>%{hovertext}</b><br><br>city_name=Dassendorf<br>year_participation=2002<br>cumsum=%{marker.size}<br>lat=%{lat}<br>lon=%{lon}<extra></extra>",
           "hovertext": [
            "Dassendorf"
           ],
           "lat": [
            53.490068900000004
           ],
           "legendgroup": "Dassendorf",
           "lon": [
            10.3749868
           ],
           "marker": {
            "color": "#FF6692",
            "size": [
             1
            ],
            "sizemode": "area",
            "sizeref": 0.45
           },
           "name": "Dassendorf",
           "showlegend": true,
           "type": "scattergeo"
          },
          {
           "geo": "geo",
           "hovertemplate": "<b>%{hovertext}</b><br><br>city_name=Ingelheim<br>year_participation=2002<br>cumsum=%{marker.size}<br>lat=%{lat}<br>lon=%{lon}<extra></extra>",
           "hovertext": [
            "Ingelheim"
           ],
           "lat": [
            49.97601289999999
           ],
           "legendgroup": "Ingelheim",
           "lon": [
            8.053212799999999
           ],
           "marker": {
            "color": "#B6E880",
            "size": [
             1
            ],
            "sizemode": "area",
            "sizeref": 0.45
           },
           "name": "Ingelheim",
           "showlegend": true,
           "type": "scattergeo"
          }
         ],
         "name": "2002"
        },
        {
         "data": [
          {
           "geo": "geo",
           "hovertemplate": "<b>%{hovertext}</b><br><br>city_name=Wien<br>year_participation=2003<br>cumsum=%{marker.size}<br>lat=%{lat}<br>lon=%{lon}<extra></extra>",
           "hovertext": [
            "Wien"
           ],
           "lat": [
            48.2083537
           ],
           "legendgroup": "Wien",
           "lon": [
            16.372504199999998
           ],
           "marker": {
            "color": "#00cc96",
            "size": [
             53
            ],
            "sizemode": "area",
            "sizeref": 0.45
           },
           "name": "Wien",
           "showlegend": true,
           "type": "scattergeo"
          },
          {
           "geo": "geo",
           "hovertemplate": "<b>%{hovertext}</b><br><br>city_name=München<br>year_participation=2003<br>cumsum=%{marker.size}<br>lat=%{lat}<br>lon=%{lon}<extra></extra>",
           "hovertext": [
            "München"
           ],
           "lat": [
            48.1371079
           ],
           "legendgroup": "München",
           "lon": [
            11.575382199999998
           ],
           "marker": {
            "color": "#B6E880",
            "size": [
             43
            ],
            "sizemode": "area",
            "sizeref": 0.45
           },
           "name": "München",
           "showlegend": true,
           "type": "scattergeo"
          },
          {
           "geo": "geo",
           "hovertemplate": "<b>%{hovertext}</b><br><br>city_name=Hamburg<br>year_participation=2003<br>cumsum=%{marker.size}<br>lat=%{lat}<br>lon=%{lon}<extra></extra>",
           "hovertext": [
            "Hamburg"
           ],
           "lat": [
            53.543764100000004
           ],
           "legendgroup": "Hamburg",
           "lon": [
            10.009913300000001
           ],
           "marker": {
            "color": "#FF97FF",
            "size": [
             26
            ],
            "sizemode": "area",
            "sizeref": 0.45
           },
           "name": "Hamburg",
           "showlegend": true,
           "type": "scattergeo"
          },
          {
           "geo": "geo",
           "hovertemplate": "<b>%{hovertext}</b><br><br>city_name=Zürich<br>year_participation=2003<br>cumsum=%{marker.size}<br>lat=%{lat}<br>lon=%{lon}<extra></extra>",
           "hovertext": [
            "Zürich"
           ],
           "lat": [
            47.3723941
           ],
           "legendgroup": "Zürich",
           "lon": [
            8.5423328
           ],
           "marker": {
            "color": "#FECB52",
            "size": [
             29
            ],
            "sizemode": "area",
            "sizeref": 0.45
           },
           "name": "Zürich",
           "showlegend": true,
           "type": "scattergeo"
          },
          {
           "geo": "geo",
           "hovertemplate": "<b>%{hovertext}</b><br><br>city_name=Berlin<br>year_participation=2003<br>cumsum=%{marker.size}<br>lat=%{lat}<br>lon=%{lon}<extra></extra>",
           "hovertext": [
            "Berlin"
           ],
           "lat": [
            52.517036499999996
           ],
           "legendgroup": "Berlin",
           "lon": [
            13.388859900000002
           ],
           "marker": {
            "color": "#EF553B",
            "size": [
             111
            ],
            "sizemode": "area",
            "sizeref": 0.45
           },
           "name": "Berlin",
           "showlegend": true,
           "type": "scattergeo"
          },
          {
           "geo": "geo",
           "hovertemplate": "<b>%{hovertext}</b><br><br>city_name=Frankfurt/Main<br>year_participation=2003<br>cumsum=%{marker.size}<br>lat=%{lat}<br>lon=%{lon}<extra></extra>",
           "hovertext": [
            "Frankfurt/Main"
           ],
           "lat": [
            50.053763700000005
           ],
           "legendgroup": "Frankfurt/Main",
           "lon": [
            8.637085800000001
           ],
           "marker": {
            "color": "#ab63fa",
            "size": [
             26
            ],
            "sizemode": "area",
            "sizeref": 0.45
           },
           "name": "Frankfurt/Main",
           "showlegend": true,
           "type": "scattergeo"
          },
          {
           "geo": "geo",
           "hovertemplate": "<b>%{hovertext}</b><br><br>city_name=Graz<br>year_participation=2003<br>cumsum=%{marker.size}<br>lat=%{lat}<br>lon=%{lon}<extra></extra>",
           "hovertext": [
            "Graz"
           ],
           "lat": [
            47.070867799999995
           ],
           "legendgroup": "Graz",
           "lon": [
            15.438278599999999
           ],
           "marker": {
            "color": "#00cc96",
            "size": [
             10
            ],
            "sizemode": "area",
            "sizeref": 0.45
           },
           "name": "Graz",
           "showlegend": true,
           "type": "scattergeo"
          },
          {
           "geo": "geo",
           "hovertemplate": "<b>%{hovertext}</b><br><br>city_name=Köln<br>year_participation=2003<br>cumsum=%{marker.size}<br>lat=%{lat}<br>lon=%{lon}<extra></extra>",
           "hovertext": [
            "Köln"
           ],
           "lat": [
            50.938361
           ],
           "legendgroup": "Köln",
           "lon": [
            6.959974000000001
           ],
           "marker": {
            "color": "#00cc96",
            "size": [
             8
            ],
            "sizemode": "area",
            "sizeref": 0.45
           },
           "name": "Köln",
           "showlegend": true,
           "type": "scattergeo"
          },
          {
           "geo": "geo",
           "hovertemplate": "<b>%{hovertext}</b><br><br>city_name=Kiel<br>year_participation=2003<br>cumsum=%{marker.size}<br>lat=%{lat}<br>lon=%{lon}<extra></extra>",
           "hovertext": [
            "Kiel"
           ],
           "lat": [
            54.3227085
           ],
           "legendgroup": "Kiel",
           "lon": [
            10.135555
           ],
           "marker": {
            "color": "#FF97FF",
            "size": [
             2
            ],
            "sizemode": "area",
            "sizeref": 0.45
           },
           "name": "Kiel",
           "showlegend": true,
           "type": "scattergeo"
          },
          {
           "geo": "geo",
           "hovertemplate": "<b>%{hovertext}</b><br><br>city_name=Leipzig<br>year_participation=2003<br>cumsum=%{marker.size}<br>lat=%{lat}<br>lon=%{lon}<extra></extra>",
           "hovertext": [
            "Leipzig"
           ],
           "lat": [
            51.3406321
           ],
           "legendgroup": "Leipzig",
           "lon": [
            12.3747329
           ],
           "marker": {
            "color": "#00cc96",
            "size": [
             3
            ],
            "sizemode": "area",
            "sizeref": 0.45
           },
           "name": "Leipzig",
           "showlegend": true,
           "type": "scattergeo"
          },
          {
           "geo": "geo",
           "hovertemplate": "<b>%{hovertext}</b><br><br>city_name=Dollart<br>year_participation=2003<br>cumsum=%{marker.size}<br>lat=%{lat}<br>lon=%{lon}<extra></extra>",
           "hovertext": [
            "Dollart"
           ],
           "lat": [
            53.28355
           ],
           "legendgroup": "Dollart",
           "lon": [
            7.16088909497908
           ],
           "marker": {
            "color": "#ab63fa",
            "size": [
             2
            ],
            "sizemode": "area",
            "sizeref": 0.45
           },
           "name": "Dollart",
           "showlegend": true,
           "type": "scattergeo"
          },
          {
           "geo": "geo",
           "hovertemplate": "<b>%{hovertext}</b><br><br>city_name=Wuppertal<br>year_participation=2003<br>cumsum=%{marker.size}<br>lat=%{lat}<br>lon=%{lon}<extra></extra>",
           "hovertext": [
            "Wuppertal"
           ],
           "lat": [
            51.264018
           ],
           "legendgroup": "Wuppertal",
           "lon": [
            7.178037400000001
           ],
           "marker": {
            "color": "#FFA15A",
            "size": [
             2
            ],
            "sizemode": "area",
            "sizeref": 0.45
           },
           "name": "Wuppertal",
           "showlegend": true,
           "type": "scattergeo"
          },
          {
           "geo": "geo",
           "hovertemplate": "<b>%{hovertext}</b><br><br>city_name=Columbus (USA)<br>year_participation=2003<br>cumsum=%{marker.size}<br>lat=%{lat}<br>lon=%{lon}<extra></extra>",
           "hovertext": [
            "Columbus (USA)"
           ],
           "lat": [
            39.9622601
           ],
           "legendgroup": "Columbus (USA)",
           "lon": [
            -83.00070649999999
           ],
           "marker": {
            "color": "#FF97FF",
            "size": [
             1
            ],
            "sizemode": "area",
            "sizeref": 0.45
           },
           "name": "Columbus (USA)",
           "showlegend": true,
           "type": "scattergeo"
          },
          {
           "geo": "geo",
           "hovertemplate": "<b>%{hovertext}</b><br><br>city_name=Biel/Bienne<br>year_participation=2003<br>cumsum=%{marker.size}<br>lat=%{lat}<br>lon=%{lon}<extra></extra>",
           "hovertext": [
            "Biel/Bienne"
           ],
           "lat": [
            47.140207700000005
           ],
           "legendgroup": "Biel/Bienne",
           "lon": [
            7.243902900000001
           ],
           "marker": {
            "color": "#FECB52",
            "size": [
             1
            ],
            "sizemode": "area",
            "sizeref": 0.45
           },
           "name": "Biel/Bienne",
           "showlegend": true,
           "type": "scattergeo"
          },
          {
           "geo": "geo",
           "hovertemplate": "<b>%{hovertext}</b><br><br>city_name=Hombroich<br>year_participation=2003<br>cumsum=%{marker.size}<br>lat=%{lat}<br>lon=%{lon}<extra></extra>",
           "hovertext": [
            "Hombroich"
           ],
           "lat": [
            51.1413508
           ],
           "legendgroup": "Hombroich",
           "lon": [
            6.6553402785876425
           ],
           "marker": {
            "color": "#636efa",
            "size": [
             1
            ],
            "sizemode": "area",
            "sizeref": 0.45
           },
           "name": "Hombroich",
           "showlegend": true,
           "type": "scattergeo"
          },
          {
           "geo": "geo",
           "hovertemplate": "<b>%{hovertext}</b><br><br>city_name=Frauenfeld<br>year_participation=2003<br>cumsum=%{marker.size}<br>lat=%{lat}<br>lon=%{lon}<extra></extra>",
           "hovertext": [
            "Frauenfeld"
           ],
           "lat": [
            47.5561915
           ],
           "legendgroup": "Frauenfeld",
           "lon": [
            8.896334699999999
           ],
           "marker": {
            "color": "#EF553B",
            "size": [
             1
            ],
            "sizemode": "area",
            "sizeref": 0.45
           },
           "name": "Frauenfeld",
           "showlegend": true,
           "type": "scattergeo"
          },
          {
           "geo": "geo",
           "hovertemplate": "<b>%{hovertext}</b><br><br>city_name=Handorf<br>year_participation=2003<br>cumsum=%{marker.size}<br>lat=%{lat}<br>lon=%{lon}<extra></extra>",
           "hovertext": [
            "Handorf"
           ],
           "lat": [
            53.3410313
           ],
           "legendgroup": "Handorf",
           "lon": [
            10.348257
           ],
           "marker": {
            "color": "#00cc96",
            "size": [
             1
            ],
            "sizemode": "area",
            "sizeref": 0.45
           },
           "name": "Handorf",
           "showlegend": true,
           "type": "scattergeo"
          },
          {
           "geo": "geo",
           "hovertemplate": "<b>%{hovertext}</b><br><br>city_name=Hohne<br>year_participation=2003<br>cumsum=%{marker.size}<br>lat=%{lat}<br>lon=%{lon}<extra></extra>",
           "hovertext": [
            "Hohne"
           ],
           "lat": [
            52.5879853
           ],
           "legendgroup": "Hohne",
           "lon": [
            10.374822
           ],
           "marker": {
            "color": "#ab63fa",
            "size": [
             1
            ],
            "sizemode": "area",
            "sizeref": 0.45
           },
           "name": "Hohne",
           "showlegend": true,
           "type": "scattergeo"
          }
         ],
         "name": "2003"
        },
        {
         "data": [
          {
           "geo": "geo",
           "hovertemplate": "<b>%{hovertext}</b><br><br>city_name=Wien<br>year_participation=2004<br>cumsum=%{marker.size}<br>lat=%{lat}<br>lon=%{lon}<extra></extra>",
           "hovertext": [
            "Wien"
           ],
           "lat": [
            48.2083537
           ],
           "legendgroup": "Wien",
           "lon": [
            16.372504199999998
           ],
           "marker": {
            "color": "#00cc96",
            "size": [
             56
            ],
            "sizemode": "area",
            "sizeref": 0.45
           },
           "name": "Wien",
           "showlegend": true,
           "type": "scattergeo"
          },
          {
           "geo": "geo",
           "hovertemplate": "<b>%{hovertext}</b><br><br>city_name=München<br>year_participation=2004<br>cumsum=%{marker.size}<br>lat=%{lat}<br>lon=%{lon}<extra></extra>",
           "hovertext": [
            "München"
           ],
           "lat": [
            48.1371079
           ],
           "legendgroup": "München",
           "lon": [
            11.575382199999998
           ],
           "marker": {
            "color": "#B6E880",
            "size": [
             44
            ],
            "sizemode": "area",
            "sizeref": 0.45
           },
           "name": "München",
           "showlegend": true,
           "type": "scattergeo"
          },
          {
           "geo": "geo",
           "hovertemplate": "<b>%{hovertext}</b><br><br>city_name=Hamburg<br>year_participation=2004<br>cumsum=%{marker.size}<br>lat=%{lat}<br>lon=%{lon}<extra></extra>",
           "hovertext": [
            "Hamburg"
           ],
           "lat": [
            53.543764100000004
           ],
           "legendgroup": "Hamburg",
           "lon": [
            10.009913300000001
           ],
           "marker": {
            "color": "#FF97FF",
            "size": [
             28
            ],
            "sizemode": "area",
            "sizeref": 0.45
           },
           "name": "Hamburg",
           "showlegend": true,
           "type": "scattergeo"
          },
          {
           "geo": "geo",
           "hovertemplate": "<b>%{hovertext}</b><br><br>city_name=Zürich<br>year_participation=2004<br>cumsum=%{marker.size}<br>lat=%{lat}<br>lon=%{lon}<extra></extra>",
           "hovertext": [
            "Zürich"
           ],
           "lat": [
            47.3723941
           ],
           "legendgroup": "Zürich",
           "lon": [
            8.5423328
           ],
           "marker": {
            "color": "#FECB52",
            "size": [
             30
            ],
            "sizemode": "area",
            "sizeref": 0.45
           },
           "name": "Zürich",
           "showlegend": true,
           "type": "scattergeo"
          },
          {
           "geo": "geo",
           "hovertemplate": "<b>%{hovertext}</b><br><br>city_name=Berlin<br>year_participation=2004<br>cumsum=%{marker.size}<br>lat=%{lat}<br>lon=%{lon}<extra></extra>",
           "hovertext": [
            "Berlin"
           ],
           "lat": [
            52.517036499999996
           ],
           "legendgroup": "Berlin",
           "lon": [
            13.388859900000002
           ],
           "marker": {
            "color": "#EF553B",
            "size": [
             114
            ],
            "sizemode": "area",
            "sizeref": 0.45
           },
           "name": "Berlin",
           "showlegend": true,
           "type": "scattergeo"
          },
          {
           "geo": "geo",
           "hovertemplate": "<b>%{hovertext}</b><br><br>city_name=Tübingen<br>year_participation=2004<br>cumsum=%{marker.size}<br>lat=%{lat}<br>lon=%{lon}<extra></extra>",
           "hovertext": [
            "Tübingen"
           ],
           "lat": [
            48.5236164
           ],
           "legendgroup": "Tübingen",
           "lon": [
            9.0535531
           ],
           "marker": {
            "color": "#00cc96",
            "size": [
             3
            ],
            "sizemode": "area",
            "sizeref": 0.45
           },
           "name": "Tübingen",
           "showlegend": true,
           "type": "scattergeo"
          },
          {
           "geo": "geo",
           "hovertemplate": "<b>%{hovertext}</b><br><br>city_name=Köln<br>year_participation=2004<br>cumsum=%{marker.size}<br>lat=%{lat}<br>lon=%{lon}<extra></extra>",
           "hovertext": [
            "Köln"
           ],
           "lat": [
            50.938361
           ],
           "legendgroup": "Köln",
           "lon": [
            6.959974000000001
           ],
           "marker": {
            "color": "#00cc96",
            "size": [
             11
            ],
            "sizemode": "area",
            "sizeref": 0.45
           },
           "name": "Köln",
           "showlegend": true,
           "type": "scattergeo"
          },
          {
           "geo": "geo",
           "hovertemplate": "<b>%{hovertext}</b><br><br>city_name=Stuttgart<br>year_participation=2004<br>cumsum=%{marker.size}<br>lat=%{lat}<br>lon=%{lon}<extra></extra>",
           "hovertext": [
            "Stuttgart"
           ],
           "lat": [
            48.778448499999996
           ],
           "legendgroup": "Stuttgart",
           "lon": [
            9.1800132
           ],
           "marker": {
            "color": "#FF97FF",
            "size": [
             6
            ],
            "sizemode": "area",
            "sizeref": 0.45
           },
           "name": "Stuttgart",
           "showlegend": true,
           "type": "scattergeo"
          },
          {
           "geo": "geo",
           "hovertemplate": "<b>%{hovertext}</b><br><br>city_name=Leipzig<br>year_participation=2004<br>cumsum=%{marker.size}<br>lat=%{lat}<br>lon=%{lon}<extra></extra>",
           "hovertext": [
            "Leipzig"
           ],
           "lat": [
            51.3406321
           ],
           "legendgroup": "Leipzig",
           "lon": [
            12.3747329
           ],
           "marker": {
            "color": "#00cc96",
            "size": [
             4
            ],
            "sizemode": "area",
            "sizeref": 0.45
           },
           "name": "Leipzig",
           "showlegend": true,
           "type": "scattergeo"
          },
          {
           "geo": "geo",
           "hovertemplate": "<b>%{hovertext}</b><br><br>city_name=Wolfurt<br>year_participation=2004<br>cumsum=%{marker.size}<br>lat=%{lat}<br>lon=%{lon}<extra></extra>",
           "hovertext": [
            "Wolfurt"
           ],
           "lat": [
            47.4646422
           ],
           "legendgroup": "Wolfurt",
           "lon": [
            9.745964294639679
           ],
           "marker": {
            "color": "#ab63fa",
            "size": [
             2
            ],
            "sizemode": "area",
            "sizeref": 0.45
           },
           "name": "Wolfurt",
           "showlegend": true,
           "type": "scattergeo"
          },
          {
           "geo": "geo",
           "hovertemplate": "<b>%{hovertext}</b><br><br>city_name=Verden/Aller<br>year_participation=2004<br>cumsum=%{marker.size}<br>lat=%{lat}<br>lon=%{lon}<extra></extra>",
           "hovertext": [
            "Verden/Aller"
           ],
           "lat": [
            52.94106755
           ],
           "legendgroup": "Verden/Aller",
           "lon": [
            9.235471627440539
           ],
           "marker": {
            "color": "#EF553B",
            "size": [
             2
            ],
            "sizemode": "area",
            "sizeref": 0.45
           },
           "name": "Verden/Aller",
           "showlegend": true,
           "type": "scattergeo"
          },
          {
           "geo": "geo",
           "hovertemplate": "<b>%{hovertext}</b><br><br>city_name=Schlangen<br>year_participation=2004<br>cumsum=%{marker.size}<br>lat=%{lat}<br>lon=%{lon}<extra></extra>",
           "hovertext": [
            "Schlangen"
           ],
           "lat": [
            51.814683
           ],
           "legendgroup": "Schlangen",
           "lon": [
            8.845003957001602
           ],
           "marker": {
            "color": "#FFA15A",
            "size": [
             1
            ],
            "sizemode": "area",
            "sizeref": 0.45
           },
           "name": "Schlangen",
           "showlegend": true,
           "type": "scattergeo"
          },
          {
           "geo": "geo",
           "hovertemplate": "<b>%{hovertext}</b><br><br>city_name=Schweiz<br>year_participation=2004<br>cumsum=%{marker.size}<br>lat=%{lat}<br>lon=%{lon}<extra></extra>",
           "hovertext": [
            "Schweiz"
           ],
           "lat": [
            46.7985624
           ],
           "legendgroup": "Schweiz",
           "lon": [
            8.231973599999998
           ],
           "marker": {
            "color": "#19d3f3",
            "size": [
             1
            ],
            "sizemode": "area",
            "sizeref": 0.45
           },
           "name": "Schweiz",
           "showlegend": true,
           "type": "scattergeo"
          }
         ],
         "name": "2004"
        },
        {
         "data": [
          {
           "geo": "geo",
           "hovertemplate": "<b>%{hovertext}</b><br><br>city_name=Wien<br>year_participation=2005<br>cumsum=%{marker.size}<br>lat=%{lat}<br>lon=%{lon}<extra></extra>",
           "hovertext": [
            "Wien"
           ],
           "lat": [
            48.2083537
           ],
           "legendgroup": "Wien",
           "lon": [
            16.372504199999998
           ],
           "marker": {
            "color": "#00cc96",
            "size": [
             57
            ],
            "sizemode": "area",
            "sizeref": 0.45
           },
           "name": "Wien",
           "showlegend": true,
           "type": "scattergeo"
          },
          {
           "geo": "geo",
           "hovertemplate": "<b>%{hovertext}</b><br><br>city_name=München<br>year_participation=2005<br>cumsum=%{marker.size}<br>lat=%{lat}<br>lon=%{lon}<extra></extra>",
           "hovertext": [
            "München"
           ],
           "lat": [
            48.1371079
           ],
           "legendgroup": "München",
           "lon": [
            11.575382199999998
           ],
           "marker": {
            "color": "#B6E880",
            "size": [
             47
            ],
            "sizemode": "area",
            "sizeref": 0.45
           },
           "name": "München",
           "showlegend": true,
           "type": "scattergeo"
          },
          {
           "geo": "geo",
           "hovertemplate": "<b>%{hovertext}</b><br><br>city_name=Berlin<br>year_participation=2005<br>cumsum=%{marker.size}<br>lat=%{lat}<br>lon=%{lon}<extra></extra>",
           "hovertext": [
            "Berlin"
           ],
           "lat": [
            52.517036499999996
           ],
           "legendgroup": "Berlin",
           "lon": [
            13.388859900000002
           ],
           "marker": {
            "color": "#EF553B",
            "size": [
             118
            ],
            "sizemode": "area",
            "sizeref": 0.45
           },
           "name": "Berlin",
           "showlegend": true,
           "type": "scattergeo"
          },
          {
           "geo": "geo",
           "hovertemplate": "<b>%{hovertext}</b><br><br>city_name=Bern<br>year_participation=2005<br>cumsum=%{marker.size}<br>lat=%{lat}<br>lon=%{lon}<extra></extra>",
           "hovertext": [
            "Bern"
           ],
           "lat": [
            46.9482713
           ],
           "legendgroup": "Bern",
           "lon": [
            7.4514512
           ],
           "marker": {
            "color": "#FF6692",
            "size": [
             12
            ],
            "sizemode": "area",
            "sizeref": 0.45
           },
           "name": "Bern",
           "showlegend": true,
           "type": "scattergeo"
          },
          {
           "geo": "geo",
           "hovertemplate": "<b>%{hovertext}</b><br><br>city_name=Graz<br>year_participation=2005<br>cumsum=%{marker.size}<br>lat=%{lat}<br>lon=%{lon}<extra></extra>",
           "hovertext": [
            "Graz"
           ],
           "lat": [
            47.070867799999995
           ],
           "legendgroup": "Graz",
           "lon": [
            15.438278599999999
           ],
           "marker": {
            "color": "#00cc96",
            "size": [
             11
            ],
            "sizemode": "area",
            "sizeref": 0.45
           },
           "name": "Graz",
           "showlegend": true,
           "type": "scattergeo"
          },
          {
           "geo": "geo",
           "hovertemplate": "<b>%{hovertext}</b><br><br>city_name=Paris<br>year_participation=2005<br>cumsum=%{marker.size}<br>lat=%{lat}<br>lon=%{lon}<extra></extra>",
           "hovertext": [
            "Paris"
           ],
           "lat": [
            48.856696899999996
           ],
           "legendgroup": "Paris",
           "lon": [
            2.3514616000000004
           ],
           "marker": {
            "color": "#00cc96",
            "size": [
             5
            ],
            "sizemode": "area",
            "sizeref": 0.45
           },
           "name": "Paris",
           "showlegend": true,
           "type": "scattergeo"
          },
          {
           "geo": "geo",
           "hovertemplate": "<b>%{hovertext}</b><br><br>city_name=Köln<br>year_participation=2005<br>cumsum=%{marker.size}<br>lat=%{lat}<br>lon=%{lon}<extra></extra>",
           "hovertext": [
            "Köln"
           ],
           "lat": [
            50.938361
           ],
           "legendgroup": "Köln",
           "lon": [
            6.959974000000001
           ],
           "marker": {
            "color": "#00cc96",
            "size": [
             12
            ],
            "sizemode": "area",
            "sizeref": 0.45
           },
           "name": "Köln",
           "showlegend": true,
           "type": "scattergeo"
          },
          {
           "geo": "geo",
           "hovertemplate": "<b>%{hovertext}</b><br><br>city_name=Potsdam<br>year_participation=2005<br>cumsum=%{marker.size}<br>lat=%{lat}<br>lon=%{lon}<extra></extra>",
           "hovertext": [
            "Potsdam"
           ],
           "lat": [
            52.4009309
           ],
           "legendgroup": "Potsdam",
           "lon": [
            13.0591397
           ],
           "marker": {
            "color": "#ab63fa",
            "size": [
             3
            ],
            "sizemode": "area",
            "sizeref": 0.45
           },
           "name": "Potsdam",
           "showlegend": true,
           "type": "scattergeo"
          },
          {
           "geo": "geo",
           "hovertemplate": "<b>%{hovertext}</b><br><br>city_name=Strasbourg<br>year_participation=2005<br>cumsum=%{marker.size}<br>lat=%{lat}<br>lon=%{lon}<extra></extra>",
           "hovertext": [
            "Strasbourg"
           ],
           "lat": [
            48.584614
           ],
           "legendgroup": "Strasbourg",
           "lon": [
            7.750712700000001
           ],
           "marker": {
            "color": "#19d3f3",
            "size": [
             2
            ],
            "sizemode": "area",
            "sizeref": 0.45
           },
           "name": "Strasbourg",
           "showlegend": true,
           "type": "scattergeo"
          },
          {
           "geo": "geo",
           "hovertemplate": "<b>%{hovertext}</b><br><br>city_name=Leipzig<br>year_participation=2005<br>cumsum=%{marker.size}<br>lat=%{lat}<br>lon=%{lon}<extra></extra>",
           "hovertext": [
            "Leipzig"
           ],
           "lat": [
            51.3406321
           ],
           "legendgroup": "Leipzig",
           "lon": [
            12.3747329
           ],
           "marker": {
            "color": "#00cc96",
            "size": [
             6
            ],
            "sizemode": "area",
            "sizeref": 0.45
           },
           "name": "Leipzig",
           "showlegend": true,
           "type": "scattergeo"
          },
          {
           "geo": "geo",
           "hovertemplate": "<b>%{hovertext}</b><br><br>city_name=Langenthal<br>year_participation=2005<br>cumsum=%{marker.size}<br>lat=%{lat}<br>lon=%{lon}<extra></extra>",
           "hovertext": [
            "Langenthal"
           ],
           "lat": [
            49.8309059
           ],
           "legendgroup": "Langenthal",
           "lon": [
            7.5737063
           ],
           "marker": {
            "color": "#00cc96",
            "size": [
             2
            ],
            "sizemode": "area",
            "sizeref": 0.45
           },
           "name": "Langenthal",
           "showlegend": true,
           "type": "scattergeo"
          },
          {
           "geo": "geo",
           "hovertemplate": "<b>%{hovertext}</b><br><br>city_name=Mönchengladbach<br>year_participation=2005<br>cumsum=%{marker.size}<br>lat=%{lat}<br>lon=%{lon}<extra></extra>",
           "hovertext": [
            "Mönchengladbach"
           ],
           "lat": [
            51.19469829999999
           ],
           "legendgroup": "Mönchengladbach",
           "lon": [
            6.435364099999999
           ],
           "marker": {
            "color": "#FF6692",
            "size": [
             1
            ],
            "sizemode": "area",
            "sizeref": 0.45
           },
           "name": "Mönchengladbach",
           "showlegend": true,
           "type": "scattergeo"
          },
          {
           "geo": "geo",
           "hovertemplate": "<b>%{hovertext}</b><br><br>city_name=in Deutschland<br>year_participation=2005<br>cumsum=%{marker.size}<br>lat=%{lat}<br>lon=%{lon}<extra></extra>",
           "hovertext": [
            "in Deutschland"
           ],
           "lat": [
            51.25448945
           ],
           "legendgroup": "in Deutschland",
           "lon": [
            7.148872672670599
           ],
           "marker": {
            "color": "#B6E880",
            "size": [
             1
            ],
            "sizemode": "area",
            "sizeref": 0.45
           },
           "name": "in Deutschland",
           "showlegend": true,
           "type": "scattergeo"
          }
         ],
         "name": "2005"
        },
        {
         "data": [
          {
           "geo": "geo",
           "hovertemplate": "<b>%{hovertext}</b><br><br>city_name=Wien<br>year_participation=2006<br>cumsum=%{marker.size}<br>lat=%{lat}<br>lon=%{lon}<extra></extra>",
           "hovertext": [
            "Wien"
           ],
           "lat": [
            48.2083537
           ],
           "legendgroup": "Wien",
           "lon": [
            16.372504199999998
           ],
           "marker": {
            "color": "#00cc96",
            "size": [
             60
            ],
            "sizemode": "area",
            "sizeref": 0.45
           },
           "name": "Wien",
           "showlegend": true,
           "type": "scattergeo"
          },
          {
           "geo": "geo",
           "hovertemplate": "<b>%{hovertext}</b><br><br>city_name=München<br>year_participation=2006<br>cumsum=%{marker.size}<br>lat=%{lat}<br>lon=%{lon}<extra></extra>",
           "hovertext": [
            "München"
           ],
           "lat": [
            48.1371079
           ],
           "legendgroup": "München",
           "lon": [
            11.575382199999998
           ],
           "marker": {
            "color": "#B6E880",
            "size": [
             48
            ],
            "sizemode": "area",
            "sizeref": 0.45
           },
           "name": "München",
           "showlegend": true,
           "type": "scattergeo"
          },
          {
           "geo": "geo",
           "hovertemplate": "<b>%{hovertext}</b><br><br>city_name=Hamburg<br>year_participation=2006<br>cumsum=%{marker.size}<br>lat=%{lat}<br>lon=%{lon}<extra></extra>",
           "hovertext": [
            "Hamburg"
           ],
           "lat": [
            53.543764100000004
           ],
           "legendgroup": "Hamburg",
           "lon": [
            10.009913300000001
           ],
           "marker": {
            "color": "#FF97FF",
            "size": [
             29
            ],
            "sizemode": "area",
            "sizeref": 0.45
           },
           "name": "Hamburg",
           "showlegend": true,
           "type": "scattergeo"
          },
          {
           "geo": "geo",
           "hovertemplate": "<b>%{hovertext}</b><br><br>city_name=Zürich<br>year_participation=2006<br>cumsum=%{marker.size}<br>lat=%{lat}<br>lon=%{lon}<extra></extra>",
           "hovertext": [
            "Zürich"
           ],
           "lat": [
            47.3723941
           ],
           "legendgroup": "Zürich",
           "lon": [
            8.5423328
           ],
           "marker": {
            "color": "#FECB52",
            "size": [
             31
            ],
            "sizemode": "area",
            "sizeref": 0.45
           },
           "name": "Zürich",
           "showlegend": true,
           "type": "scattergeo"
          },
          {
           "geo": "geo",
           "hovertemplate": "<b>%{hovertext}</b><br><br>city_name=Berlin<br>year_participation=2006<br>cumsum=%{marker.size}<br>lat=%{lat}<br>lon=%{lon}<extra></extra>",
           "hovertext": [
            "Berlin"
           ],
           "lat": [
            52.517036499999996
           ],
           "legendgroup": "Berlin",
           "lon": [
            13.388859900000002
           ],
           "marker": {
            "color": "#EF553B",
            "size": [
             124
            ],
            "sizemode": "area",
            "sizeref": 0.45
           },
           "name": "Berlin",
           "showlegend": true,
           "type": "scattergeo"
          },
          {
           "geo": "geo",
           "hovertemplate": "<b>%{hovertext}</b><br><br>city_name=Tübingen<br>year_participation=2006<br>cumsum=%{marker.size}<br>lat=%{lat}<br>lon=%{lon}<extra></extra>",
           "hovertext": [
            "Tübingen"
           ],
           "lat": [
            48.5236164
           ],
           "legendgroup": "Tübingen",
           "lon": [
            9.0535531
           ],
           "marker": {
            "color": "#00cc96",
            "size": [
             4
            ],
            "sizemode": "area",
            "sizeref": 0.45
           },
           "name": "Tübingen",
           "showlegend": true,
           "type": "scattergeo"
          },
          {
           "geo": "geo",
           "hovertemplate": "<b>%{hovertext}</b><br><br>city_name=Leipzig<br>year_participation=2006<br>cumsum=%{marker.size}<br>lat=%{lat}<br>lon=%{lon}<extra></extra>",
           "hovertext": [
            "Leipzig"
           ],
           "lat": [
            51.3406321
           ],
           "legendgroup": "Leipzig",
           "lon": [
            12.3747329
           ],
           "marker": {
            "color": "#00cc96",
            "size": [
             8
            ],
            "sizemode": "area",
            "sizeref": 0.45
           },
           "name": "Leipzig",
           "showlegend": true,
           "type": "scattergeo"
          },
          {
           "geo": "geo",
           "hovertemplate": "<b>%{hovertext}</b><br><br>city_name=Freiburg<br>year_participation=2006<br>cumsum=%{marker.size}<br>lat=%{lat}<br>lon=%{lon}<extra></extra>",
           "hovertext": [
            "Freiburg"
           ],
           "lat": [
            47.9960901
           ],
           "legendgroup": "Freiburg",
           "lon": [
            7.849400500000001
           ],
           "marker": {
            "color": "#FECB52",
            "size": [
             5
            ],
            "sizemode": "area",
            "sizeref": 0.45
           },
           "name": "Freiburg",
           "showlegend": true,
           "type": "scattergeo"
          },
          {
           "geo": "geo",
           "hovertemplate": "<b>%{hovertext}</b><br><br>city_name=am Dachstein<br>year_participation=2006<br>cumsum=%{marker.size}<br>lat=%{lat}<br>lon=%{lon}<extra></extra>",
           "hovertext": [
            "am Dachstein"
           ],
           "lat": [
            48.560885600000006
           ],
           "legendgroup": "am Dachstein",
           "lon": [
            7.531899799999999
           ],
           "marker": {
            "color": "#FF97FF",
            "size": [
             1
            ],
            "sizemode": "area",
            "sizeref": 0.45
           },
           "name": "am Dachstein",
           "showlegend": true,
           "type": "scattergeo"
          },
          {
           "geo": "geo",
           "hovertemplate": "<b>%{hovertext}</b><br><br>city_name=Schwielowsee<br>year_participation=2006<br>cumsum=%{marker.size}<br>lat=%{lat}<br>lon=%{lon}<extra></extra>",
           "hovertext": [
            "Schwielowsee"
           ],
           "lat": [
            52.3389
           ],
           "legendgroup": "Schwielowsee",
           "lon": [
            12.972200099999998
           ],
           "marker": {
            "color": "#FECB52",
            "size": [
             1
            ],
            "sizemode": "area",
            "sizeref": 0.45
           },
           "name": "Schwielowsee",
           "showlegend": true,
           "type": "scattergeo"
          },
          {
           "geo": "geo",
           "hovertemplate": "<b>%{hovertext}</b><br><br>city_name=Saarbrücken<br>year_participation=2006<br>cumsum=%{marker.size}<br>lat=%{lat}<br>lon=%{lon}<extra></extra>",
           "hovertext": [
            "Saarbrücken"
           ],
           "lat": [
            49.234362
           ],
           "legendgroup": "Saarbrücken",
           "lon": [
            6.996378999999999
           ],
           "marker": {
            "color": "#636efa",
            "size": [
             1
            ],
            "sizemode": "area",
            "sizeref": 0.45
           },
           "name": "Saarbrücken",
           "showlegend": true,
           "type": "scattergeo"
          },
          {
           "geo": "geo",
           "hovertemplate": "<b>%{hovertext}</b><br><br>city_name=Kall/Keldenich<br>year_participation=2006<br>cumsum=%{marker.size}<br>lat=%{lat}<br>lon=%{lon}<extra></extra>",
           "hovertext": [
            "Kall/Keldenich"
           ],
           "lat": [
            50.537729399999996
           ],
           "legendgroup": "Kall/Keldenich",
           "lon": [
            6.5863724
           ],
           "marker": {
            "color": "#EF553B",
            "size": [
             1
            ],
            "sizemode": "area",
            "sizeref": 0.45
           },
           "name": "Kall/Keldenich",
           "showlegend": true,
           "type": "scattergeo"
          }
         ],
         "name": "2006"
        },
        {
         "data": [
          {
           "geo": "geo",
           "hovertemplate": "<b>%{hovertext}</b><br><br>city_name=Wien<br>year_participation=2007<br>cumsum=%{marker.size}<br>lat=%{lat}<br>lon=%{lon}<extra></extra>",
           "hovertext": [
            "Wien"
           ],
           "lat": [
            48.2083537
           ],
           "legendgroup": "Wien",
           "lon": [
            16.372504199999998
           ],
           "marker": {
            "color": "#00cc96",
            "size": [
             62
            ],
            "sizemode": "area",
            "sizeref": 0.45
           },
           "name": "Wien",
           "showlegend": true,
           "type": "scattergeo"
          },
          {
           "geo": "geo",
           "hovertemplate": "<b>%{hovertext}</b><br><br>city_name=München<br>year_participation=2007<br>cumsum=%{marker.size}<br>lat=%{lat}<br>lon=%{lon}<extra></extra>",
           "hovertext": [
            "München"
           ],
           "lat": [
            48.1371079
           ],
           "legendgroup": "München",
           "lon": [
            11.575382199999998
           ],
           "marker": {
            "color": "#B6E880",
            "size": [
             49
            ],
            "sizemode": "area",
            "sizeref": 0.45
           },
           "name": "München",
           "showlegend": true,
           "type": "scattergeo"
          },
          {
           "geo": "geo",
           "hovertemplate": "<b>%{hovertext}</b><br><br>city_name=Berlin<br>year_participation=2007<br>cumsum=%{marker.size}<br>lat=%{lat}<br>lon=%{lon}<extra></extra>",
           "hovertext": [
            "Berlin"
           ],
           "lat": [
            52.517036499999996
           ],
           "legendgroup": "Berlin",
           "lon": [
            13.388859900000002
           ],
           "marker": {
            "color": "#EF553B",
            "size": [
             131
            ],
            "sizemode": "area",
            "sizeref": 0.45
           },
           "name": "Berlin",
           "showlegend": true,
           "type": "scattergeo"
          },
          {
           "geo": "geo",
           "hovertemplate": "<b>%{hovertext}</b><br><br>city_name=Frankfurt/Main<br>year_participation=2007<br>cumsum=%{marker.size}<br>lat=%{lat}<br>lon=%{lon}<extra></extra>",
           "hovertext": [
            "Frankfurt/Main"
           ],
           "lat": [
            50.053763700000005
           ],
           "legendgroup": "Frankfurt/Main",
           "lon": [
            8.637085800000001
           ],
           "marker": {
            "color": "#ab63fa",
            "size": [
             27
            ],
            "sizemode": "area",
            "sizeref": 0.45
           },
           "name": "Frankfurt/Main",
           "showlegend": true,
           "type": "scattergeo"
          },
          {
           "geo": "geo",
           "hovertemplate": "<b>%{hovertext}</b><br><br>city_name=Heidelberg<br>year_participation=2007<br>cumsum=%{marker.size}<br>lat=%{lat}<br>lon=%{lon}<extra></extra>",
           "hovertext": [
            "Heidelberg"
           ],
           "lat": [
            49.40935820000001
           ],
           "legendgroup": "Heidelberg",
           "lon": [
            8.694724
           ],
           "marker": {
            "color": "#636efa",
            "size": [
             3
            ],
            "sizemode": "area",
            "sizeref": 0.45
           },
           "name": "Heidelberg",
           "showlegend": true,
           "type": "scattergeo"
          },
          {
           "geo": "geo",
           "hovertemplate": "<b>%{hovertext}</b><br><br>city_name=Tübingen<br>year_participation=2007<br>cumsum=%{marker.size}<br>lat=%{lat}<br>lon=%{lon}<extra></extra>",
           "hovertext": [
            "Tübingen"
           ],
           "lat": [
            48.5236164
           ],
           "legendgroup": "Tübingen",
           "lon": [
            9.0535531
           ],
           "marker": {
            "color": "#00cc96",
            "size": [
             5
            ],
            "sizemode": "area",
            "sizeref": 0.45
           },
           "name": "Tübingen",
           "showlegend": true,
           "type": "scattergeo"
          },
          {
           "geo": "geo",
           "hovertemplate": "<b>%{hovertext}</b><br><br>city_name=Köln<br>year_participation=2007<br>cumsum=%{marker.size}<br>lat=%{lat}<br>lon=%{lon}<extra></extra>",
           "hovertext": [
            "Köln"
           ],
           "lat": [
            50.938361
           ],
           "legendgroup": "Köln",
           "lon": [
            6.959974000000001
           ],
           "marker": {
            "color": "#00cc96",
            "size": [
             13
            ],
            "sizemode": "area",
            "sizeref": 0.45
           },
           "name": "Köln",
           "showlegend": true,
           "type": "scattergeo"
          },
          {
           "geo": "geo",
           "hovertemplate": "<b>%{hovertext}</b><br><br>city_name=Uster<br>year_participation=2007<br>cumsum=%{marker.size}<br>lat=%{lat}<br>lon=%{lon}<extra></extra>",
           "hovertext": [
            "Uster"
           ],
           "lat": [
            47.3512065
           ],
           "legendgroup": "Uster",
           "lon": [
            8.7179221
           ],
           "marker": {
            "color": "#00cc96",
            "size": [
             1
            ],
            "sizemode": "area",
            "sizeref": 0.45
           },
           "name": "Uster",
           "showlegend": true,
           "type": "scattergeo"
          },
          {
           "geo": "geo",
           "hovertemplate": "<b>%{hovertext}</b><br><br>city_name=Barcelona<br>year_participation=2007<br>cumsum=%{marker.size}<br>lat=%{lat}<br>lon=%{lon}<extra></extra>",
           "hovertext": [
            "Barcelona"
           ],
           "lat": [
            41.3828939
           ],
           "legendgroup": "Barcelona",
           "lon": [
            2.1774322
           ],
           "marker": {
            "color": "#ab63fa",
            "size": [
             1
            ],
            "sizemode": "area",
            "sizeref": 0.45
           },
           "name": "Barcelona",
           "showlegend": true,
           "type": "scattergeo"
          },
          {
           "geo": "geo",
           "hovertemplate": "<b>%{hovertext}</b><br><br>city_name=Bologna<br>year_participation=2007<br>cumsum=%{marker.size}<br>lat=%{lat}<br>lon=%{lon}<extra></extra>",
           "hovertext": [
            "Bologna"
           ],
           "lat": [
            44.4936714
           ],
           "legendgroup": "Bologna",
           "lon": [
            11.343034699999999
           ],
           "marker": {
            "color": "#FFA15A",
            "size": [
             1
            ],
            "sizemode": "area",
            "sizeref": 0.45
           },
           "name": "Bologna",
           "showlegend": true,
           "type": "scattergeo"
          }
         ],
         "name": "2007"
        },
        {
         "data": [
          {
           "geo": "geo",
           "hovertemplate": "<b>%{hovertext}</b><br><br>city_name=Wien<br>year_participation=2008<br>cumsum=%{marker.size}<br>lat=%{lat}<br>lon=%{lon}<extra></extra>",
           "hovertext": [
            "Wien"
           ],
           "lat": [
            48.2083537
           ],
           "legendgroup": "Wien",
           "lon": [
            16.372504199999998
           ],
           "marker": {
            "color": "#00cc96",
            "size": [
             63
            ],
            "sizemode": "area",
            "sizeref": 0.45
           },
           "name": "Wien",
           "showlegend": true,
           "type": "scattergeo"
          },
          {
           "geo": "geo",
           "hovertemplate": "<b>%{hovertext}</b><br><br>city_name=Hamburg<br>year_participation=2008<br>cumsum=%{marker.size}<br>lat=%{lat}<br>lon=%{lon}<extra></extra>",
           "hovertext": [
            "Hamburg"
           ],
           "lat": [
            53.543764100000004
           ],
           "legendgroup": "Hamburg",
           "lon": [
            10.009913300000001
           ],
           "marker": {
            "color": "#FF97FF",
            "size": [
             30
            ],
            "sizemode": "area",
            "sizeref": 0.45
           },
           "name": "Hamburg",
           "showlegend": true,
           "type": "scattergeo"
          },
          {
           "geo": "geo",
           "hovertemplate": "<b>%{hovertext}</b><br><br>city_name=Berlin<br>year_participation=2008<br>cumsum=%{marker.size}<br>lat=%{lat}<br>lon=%{lon}<extra></extra>",
           "hovertext": [
            "Berlin"
           ],
           "lat": [
            52.517036499999996
           ],
           "legendgroup": "Berlin",
           "lon": [
            13.388859900000002
           ],
           "marker": {
            "color": "#EF553B",
            "size": [
             135
            ],
            "sizemode": "area",
            "sizeref": 0.45
           },
           "name": "Berlin",
           "showlegend": true,
           "type": "scattergeo"
          },
          {
           "geo": "geo",
           "hovertemplate": "<b>%{hovertext}</b><br><br>city_name=Frankfurt/Main<br>year_participation=2008<br>cumsum=%{marker.size}<br>lat=%{lat}<br>lon=%{lon}<extra></extra>",
           "hovertext": [
            "Frankfurt/Main"
           ],
           "lat": [
            50.053763700000005
           ],
           "legendgroup": "Frankfurt/Main",
           "lon": [
            8.637085800000001
           ],
           "marker": {
            "color": "#ab63fa",
            "size": [
             29
            ],
            "sizemode": "area",
            "sizeref": 0.45
           },
           "name": "Frankfurt/Main",
           "showlegend": true,
           "type": "scattergeo"
          },
          {
           "geo": "geo",
           "hovertemplate": "<b>%{hovertext}</b><br><br>city_name=Bern<br>year_participation=2008<br>cumsum=%{marker.size}<br>lat=%{lat}<br>lon=%{lon}<extra></extra>",
           "hovertext": [
            "Bern"
           ],
           "lat": [
            46.9482713
           ],
           "legendgroup": "Bern",
           "lon": [
            7.4514512
           ],
           "marker": {
            "color": "#FF6692",
            "size": [
             13
            ],
            "sizemode": "area",
            "sizeref": 0.45
           },
           "name": "Bern",
           "showlegend": true,
           "type": "scattergeo"
          },
          {
           "geo": "geo",
           "hovertemplate": "<b>%{hovertext}</b><br><br>city_name=Graz<br>year_participation=2008<br>cumsum=%{marker.size}<br>lat=%{lat}<br>lon=%{lon}<extra></extra>",
           "hovertext": [
            "Graz"
           ],
           "lat": [
            47.070867799999995
           ],
           "legendgroup": "Graz",
           "lon": [
            15.438278599999999
           ],
           "marker": {
            "color": "#00cc96",
            "size": [
             12
            ],
            "sizemode": "area",
            "sizeref": 0.45
           },
           "name": "Graz",
           "showlegend": true,
           "type": "scattergeo"
          },
          {
           "geo": "geo",
           "hovertemplate": "<b>%{hovertext}</b><br><br>city_name=Karlsruhe<br>year_participation=2008<br>cumsum=%{marker.size}<br>lat=%{lat}<br>lon=%{lon}<extra></extra>",
           "hovertext": [
            "Karlsruhe"
           ],
           "lat": [
            49.006870500000005
           ],
           "legendgroup": "Karlsruhe",
           "lon": [
            8.4034195
           ],
           "marker": {
            "color": "#19d3f3",
            "size": [
             4
            ],
            "sizemode": "area",
            "sizeref": 0.45
           },
           "name": "Karlsruhe",
           "showlegend": true,
           "type": "scattergeo"
          },
          {
           "geo": "geo",
           "hovertemplate": "<b>%{hovertext}</b><br><br>city_name=Stuttgart<br>year_participation=2008<br>cumsum=%{marker.size}<br>lat=%{lat}<br>lon=%{lon}<extra></extra>",
           "hovertext": [
            "Stuttgart"
           ],
           "lat": [
            48.778448499999996
           ],
           "legendgroup": "Stuttgart",
           "lon": [
            9.1800132
           ],
           "marker": {
            "color": "#FF97FF",
            "size": [
             8
            ],
            "sizemode": "area",
            "sizeref": 0.45
           },
           "name": "Stuttgart",
           "showlegend": true,
           "type": "scattergeo"
          },
          {
           "geo": "geo",
           "hovertemplate": "<b>%{hovertext}</b><br><br>city_name=Leipzig<br>year_participation=2008<br>cumsum=%{marker.size}<br>lat=%{lat}<br>lon=%{lon}<extra></extra>",
           "hovertext": [
            "Leipzig"
           ],
           "lat": [
            51.3406321
           ],
           "legendgroup": "Leipzig",
           "lon": [
            12.3747329
           ],
           "marker": {
            "color": "#00cc96",
            "size": [
             9
            ],
            "sizemode": "area",
            "sizeref": 0.45
           },
           "name": "Leipzig",
           "showlegend": true,
           "type": "scattergeo"
          },
          {
           "geo": "geo",
           "hovertemplate": "<b>%{hovertext}</b><br><br>city_name=Vorpommern<br>year_participation=2008<br>cumsum=%{marker.size}<br>lat=%{lat}<br>lon=%{lon}<extra></extra>",
           "hovertext": [
            "Vorpommern"
           ],
           "lat": [
            53.84713085
           ],
           "legendgroup": "Vorpommern",
           "lon": [
            13.351339006164036
           ],
           "marker": {
            "color": "#19d3f3",
            "size": [
             1
            ],
            "sizemode": "area",
            "sizeref": 0.45
           },
           "name": "Vorpommern",
           "showlegend": true,
           "type": "scattergeo"
          }
         ],
         "name": "2008"
        },
        {
         "data": [
          {
           "geo": "geo",
           "hovertemplate": "<b>%{hovertext}</b><br><br>city_name=Wien<br>year_participation=2009<br>cumsum=%{marker.size}<br>lat=%{lat}<br>lon=%{lon}<extra></extra>",
           "hovertext": [
            "Wien"
           ],
           "lat": [
            48.2083537
           ],
           "legendgroup": "Wien",
           "lon": [
            16.372504199999998
           ],
           "marker": {
            "color": "#00cc96",
            "size": [
             66
            ],
            "sizemode": "area",
            "sizeref": 0.45
           },
           "name": "Wien",
           "showlegend": true,
           "type": "scattergeo"
          },
          {
           "geo": "geo",
           "hovertemplate": "<b>%{hovertext}</b><br><br>city_name=Zürich<br>year_participation=2009<br>cumsum=%{marker.size}<br>lat=%{lat}<br>lon=%{lon}<extra></extra>",
           "hovertext": [
            "Zürich"
           ],
           "lat": [
            47.3723941
           ],
           "legendgroup": "Zürich",
           "lon": [
            8.5423328
           ],
           "marker": {
            "color": "#FECB52",
            "size": [
             33
            ],
            "sizemode": "area",
            "sizeref": 0.45
           },
           "name": "Zürich",
           "showlegend": true,
           "type": "scattergeo"
          },
          {
           "geo": "geo",
           "hovertemplate": "<b>%{hovertext}</b><br><br>city_name=Berlin<br>year_participation=2009<br>cumsum=%{marker.size}<br>lat=%{lat}<br>lon=%{lon}<extra></extra>",
           "hovertext": [
            "Berlin"
           ],
           "lat": [
            52.517036499999996
           ],
           "legendgroup": "Berlin",
           "lon": [
            13.388859900000002
           ],
           "marker": {
            "color": "#EF553B",
            "size": [
             141
            ],
            "sizemode": "area",
            "sizeref": 0.45
           },
           "name": "Berlin",
           "showlegend": true,
           "type": "scattergeo"
          },
          {
           "geo": "geo",
           "hovertemplate": "<b>%{hovertext}</b><br><br>city_name=Paris<br>year_participation=2009<br>cumsum=%{marker.size}<br>lat=%{lat}<br>lon=%{lon}<extra></extra>",
           "hovertext": [
            "Paris"
           ],
           "lat": [
            48.856696899999996
           ],
           "legendgroup": "Paris",
           "lon": [
            2.3514616000000004
           ],
           "marker": {
            "color": "#00cc96",
            "size": [
             6
            ],
            "sizemode": "area",
            "sizeref": 0.45
           },
           "name": "Paris",
           "showlegend": true,
           "type": "scattergeo"
          },
          {
           "geo": "geo",
           "hovertemplate": "<b>%{hovertext}</b><br><br>city_name=Barcelona<br>year_participation=2009<br>cumsum=%{marker.size}<br>lat=%{lat}<br>lon=%{lon}<extra></extra>",
           "hovertext": [
            "Barcelona"
           ],
           "lat": [
            41.3828939
           ],
           "legendgroup": "Barcelona",
           "lon": [
            2.1774322
           ],
           "marker": {
            "color": "#ab63fa",
            "size": [
             2
            ],
            "sizemode": "area",
            "sizeref": 0.45
           },
           "name": "Barcelona",
           "showlegend": true,
           "type": "scattergeo"
          },
          {
           "geo": "geo",
           "hovertemplate": "<b>%{hovertext}</b><br><br>city_name=Höflein a.d. Donau<br>year_participation=2009<br>cumsum=%{marker.size}<br>lat=%{lat}<br>lon=%{lon}<extra></extra>",
           "hovertext": [
            "Höflein a.d. Donau"
           ],
           "lat": [
            48.350795
           ],
           "legendgroup": "Höflein a.d. Donau",
           "lon": [
            16.2733986
           ],
           "marker": {
            "color": "#FF6692",
            "size": [
             1
            ],
            "sizemode": "area",
            "sizeref": 0.45
           },
           "name": "Höflein a.d. Donau",
           "showlegend": true,
           "type": "scattergeo"
          }
         ],
         "name": "2009"
        },
        {
         "data": [
          {
           "geo": "geo",
           "hovertemplate": "<b>%{hovertext}</b><br><br>city_name=Wien<br>year_participation=2010<br>cumsum=%{marker.size}<br>lat=%{lat}<br>lon=%{lon}<extra></extra>",
           "hovertext": [
            "Wien"
           ],
           "lat": [
            48.2083537
           ],
           "legendgroup": "Wien",
           "lon": [
            16.372504199999998
           ],
           "marker": {
            "color": "#00cc96",
            "size": [
             68
            ],
            "sizemode": "area",
            "sizeref": 0.45
           },
           "name": "Wien",
           "showlegend": true,
           "type": "scattergeo"
          },
          {
           "geo": "geo",
           "hovertemplate": "<b>%{hovertext}</b><br><br>city_name=München<br>year_participation=2010<br>cumsum=%{marker.size}<br>lat=%{lat}<br>lon=%{lon}<extra></extra>",
           "hovertext": [
            "München"
           ],
           "lat": [
            48.1371079
           ],
           "legendgroup": "München",
           "lon": [
            11.575382199999998
           ],
           "marker": {
            "color": "#B6E880",
            "size": [
             50
            ],
            "sizemode": "area",
            "sizeref": 0.45
           },
           "name": "München",
           "showlegend": true,
           "type": "scattergeo"
          },
          {
           "geo": "geo",
           "hovertemplate": "<b>%{hovertext}</b><br><br>city_name=Zürich<br>year_participation=2010<br>cumsum=%{marker.size}<br>lat=%{lat}<br>lon=%{lon}<extra></extra>",
           "hovertext": [
            "Zürich"
           ],
           "lat": [
            47.3723941
           ],
           "legendgroup": "Zürich",
           "lon": [
            8.5423328
           ],
           "marker": {
            "color": "#FECB52",
            "size": [
             34
            ],
            "sizemode": "area",
            "sizeref": 0.45
           },
           "name": "Zürich",
           "showlegend": true,
           "type": "scattergeo"
          },
          {
           "geo": "geo",
           "hovertemplate": "<b>%{hovertext}</b><br><br>city_name=Münster<br>year_participation=2010<br>cumsum=%{marker.size}<br>lat=%{lat}<br>lon=%{lon}<extra></extra>",
           "hovertext": [
            "Münster"
           ],
           "lat": [
            51.9625101
           ],
           "legendgroup": "Münster",
           "lon": [
            7.6251879
           ],
           "marker": {
            "color": "#636efa",
            "size": [
             4
            ],
            "sizemode": "area",
            "sizeref": 0.45
           },
           "name": "Münster",
           "showlegend": true,
           "type": "scattergeo"
          },
          {
           "geo": "geo",
           "hovertemplate": "<b>%{hovertext}</b><br><br>city_name=Berlin<br>year_participation=2010<br>cumsum=%{marker.size}<br>lat=%{lat}<br>lon=%{lon}<extra></extra>",
           "hovertext": [
            "Berlin"
           ],
           "lat": [
            52.517036499999996
           ],
           "legendgroup": "Berlin",
           "lon": [
            13.388859900000002
           ],
           "marker": {
            "color": "#EF553B",
            "size": [
             146
            ],
            "sizemode": "area",
            "sizeref": 0.45
           },
           "name": "Berlin",
           "showlegend": true,
           "type": "scattergeo"
          },
          {
           "geo": "geo",
           "hovertemplate": "<b>%{hovertext}</b><br><br>city_name=Düsseldorf<br>year_participation=2010<br>cumsum=%{marker.size}<br>lat=%{lat}<br>lon=%{lon}<extra></extra>",
           "hovertext": [
            "Düsseldorf"
           ],
           "lat": [
            51.2254018
           ],
           "legendgroup": "Düsseldorf",
           "lon": [
            6.7763137
           ],
           "marker": {
            "color": "#19d3f3",
            "size": [
             2
            ],
            "sizemode": "area",
            "sizeref": 0.45
           },
           "name": "Düsseldorf",
           "showlegend": true,
           "type": "scattergeo"
          },
          {
           "geo": "geo",
           "hovertemplate": "<b>%{hovertext}</b><br><br>city_name=Königsdorf<br>year_participation=2010<br>cumsum=%{marker.size}<br>lat=%{lat}<br>lon=%{lon}<extra></extra>",
           "hovertext": [
            "Königsdorf"
           ],
           "lat": [
            47.8164083
           ],
           "legendgroup": "Königsdorf",
           "lon": [
            11.480434599999999
           ],
           "marker": {
            "color": "#B6E880",
            "size": [
             1
            ],
            "sizemode": "area",
            "sizeref": 0.45
           },
           "name": "Königsdorf",
           "showlegend": true,
           "type": "scattergeo"
          },
          {
           "geo": "geo",
           "hovertemplate": "<b>%{hovertext}</b><br><br>city_name=Dublin<br>year_participation=2010<br>cumsum=%{marker.size}<br>lat=%{lat}<br>lon=%{lon}<extra></extra>",
           "hovertext": [
            "Dublin"
           ],
           "lat": [
            53.3497645
           ],
           "legendgroup": "Dublin",
           "lon": [
            -6.2602732
           ],
           "marker": {
            "color": "#FF97FF",
            "size": [
             1
            ],
            "sizemode": "area",
            "sizeref": 0.45
           },
           "name": "Dublin",
           "showlegend": true,
           "type": "scattergeo"
          },
          {
           "geo": "geo",
           "hovertemplate": "<b>%{hovertext}</b><br><br>city_name=Cottbus<br>year_participation=2010<br>cumsum=%{marker.size}<br>lat=%{lat}<br>lon=%{lon}<extra></extra>",
           "hovertext": [
            "Cottbus"
           ],
           "lat": [
            51.756744700000006
           ],
           "legendgroup": "Cottbus",
           "lon": [
            14.335730700000001
           ],
           "marker": {
            "color": "#FECB52",
            "size": [
             1
            ],
            "sizemode": "area",
            "sizeref": 0.45
           },
           "name": "Cottbus",
           "showlegend": true,
           "type": "scattergeo"
          },
          {
           "geo": "geo",
           "hovertemplate": "<b>%{hovertext}</b><br><br>city_name=Rostock<br>year_participation=2010<br>cumsum=%{marker.size}<br>lat=%{lat}<br>lon=%{lon}<extra></extra>",
           "hovertext": [
            "Rostock"
           ],
           "lat": [
            54.09244449999999
           ],
           "legendgroup": "Rostock",
           "lon": [
            12.1286127
           ],
           "marker": {
            "color": "#636efa",
            "size": [
             1
            ],
            "sizemode": "area",
            "sizeref": 0.45
           },
           "name": "Rostock",
           "showlegend": true,
           "type": "scattergeo"
          }
         ],
         "name": "2010"
        },
        {
         "data": [
          {
           "geo": "geo",
           "hovertemplate": "<b>%{hovertext}</b><br><br>city_name=Wien<br>year_participation=2011<br>cumsum=%{marker.size}<br>lat=%{lat}<br>lon=%{lon}<extra></extra>",
           "hovertext": [
            "Wien"
           ],
           "lat": [
            48.2083537
           ],
           "legendgroup": "Wien",
           "lon": [
            16.372504199999998
           ],
           "marker": {
            "color": "#00cc96",
            "size": [
             70
            ],
            "sizemode": "area",
            "sizeref": 0.45
           },
           "name": "Wien",
           "showlegend": true,
           "type": "scattergeo"
          },
          {
           "geo": "geo",
           "hovertemplate": "<b>%{hovertext}</b><br><br>city_name=Klagenfurt<br>year_participation=2011<br>cumsum=%{marker.size}<br>lat=%{lat}<br>lon=%{lon}<extra></extra>",
           "hovertext": [
            "Klagenfurt"
           ],
           "lat": [
            46.6228162
           ],
           "legendgroup": "Klagenfurt",
           "lon": [
            14.307960399999999
           ],
           "marker": {
            "color": "#ab63fa",
            "size": [
             9
            ],
            "sizemode": "area",
            "sizeref": 0.45
           },
           "name": "Klagenfurt",
           "showlegend": true,
           "type": "scattergeo"
          },
          {
           "geo": "geo",
           "hovertemplate": "<b>%{hovertext}</b><br><br>city_name=Zürich<br>year_participation=2011<br>cumsum=%{marker.size}<br>lat=%{lat}<br>lon=%{lon}<extra></extra>",
           "hovertext": [
            "Zürich"
           ],
           "lat": [
            47.3723941
           ],
           "legendgroup": "Zürich",
           "lon": [
            8.5423328
           ],
           "marker": {
            "color": "#FECB52",
            "size": [
             35
            ],
            "sizemode": "area",
            "sizeref": 0.45
           },
           "name": "Zürich",
           "showlegend": true,
           "type": "scattergeo"
          },
          {
           "geo": "geo",
           "hovertemplate": "<b>%{hovertext}</b><br><br>city_name=Berlin<br>year_participation=2011<br>cumsum=%{marker.size}<br>lat=%{lat}<br>lon=%{lon}<extra></extra>",
           "hovertext": [
            "Berlin"
           ],
           "lat": [
            52.517036499999996
           ],
           "legendgroup": "Berlin",
           "lon": [
            13.388859900000002
           ],
           "marker": {
            "color": "#EF553B",
            "size": [
             154
            ],
            "sizemode": "area",
            "sizeref": 0.45
           },
           "name": "Berlin",
           "showlegend": true,
           "type": "scattergeo"
          },
          {
           "geo": "geo",
           "hovertemplate": "<b>%{hovertext}</b><br><br>city_name=Heidelberg<br>year_participation=2011<br>cumsum=%{marker.size}<br>lat=%{lat}<br>lon=%{lon}<extra></extra>",
           "hovertext": [
            "Heidelberg"
           ],
           "lat": [
            49.40935820000001
           ],
           "legendgroup": "Heidelberg",
           "lon": [
            8.694724
           ],
           "marker": {
            "color": "#636efa",
            "size": [
             4
            ],
            "sizemode": "area",
            "sizeref": 0.45
           },
           "name": "Heidelberg",
           "showlegend": true,
           "type": "scattergeo"
          },
          {
           "geo": "geo",
           "hovertemplate": "<b>%{hovertext}</b><br><br>city_name=Köln<br>year_participation=2011<br>cumsum=%{marker.size}<br>lat=%{lat}<br>lon=%{lon}<extra></extra>",
           "hovertext": [
            "Köln"
           ],
           "lat": [
            50.938361
           ],
           "legendgroup": "Köln",
           "lon": [
            6.959974000000001
           ],
           "marker": {
            "color": "#00cc96",
            "size": [
             14
            ],
            "sizemode": "area",
            "sizeref": 0.45
           },
           "name": "Köln",
           "showlegend": true,
           "type": "scattergeo"
          }
         ],
         "name": "2011"
        },
        {
         "data": [
          {
           "geo": "geo",
           "hovertemplate": "<b>%{hovertext}</b><br><br>city_name=Wien<br>year_participation=2012<br>cumsum=%{marker.size}<br>lat=%{lat}<br>lon=%{lon}<extra></extra>",
           "hovertext": [
            "Wien"
           ],
           "lat": [
            48.2083537
           ],
           "legendgroup": "Wien",
           "lon": [
            16.372504199999998
           ],
           "marker": {
            "color": "#00cc96",
            "size": [
             71
            ],
            "sizemode": "area",
            "sizeref": 0.45
           },
           "name": "Wien",
           "showlegend": true,
           "type": "scattergeo"
          },
          {
           "geo": "geo",
           "hovertemplate": "<b>%{hovertext}</b><br><br>city_name=Hamburg<br>year_participation=2012<br>cumsum=%{marker.size}<br>lat=%{lat}<br>lon=%{lon}<extra></extra>",
           "hovertext": [
            "Hamburg"
           ],
           "lat": [
            53.543764100000004
           ],
           "legendgroup": "Hamburg",
           "lon": [
            10.009913300000001
           ],
           "marker": {
            "color": "#FF97FF",
            "size": [
             31
            ],
            "sizemode": "area",
            "sizeref": 0.45
           },
           "name": "Hamburg",
           "showlegend": true,
           "type": "scattergeo"
          },
          {
           "geo": "geo",
           "hovertemplate": "<b>%{hovertext}</b><br><br>city_name=Zürich<br>year_participation=2012<br>cumsum=%{marker.size}<br>lat=%{lat}<br>lon=%{lon}<extra></extra>",
           "hovertext": [
            "Zürich"
           ],
           "lat": [
            47.3723941
           ],
           "legendgroup": "Zürich",
           "lon": [
            8.5423328
           ],
           "marker": {
            "color": "#FECB52",
            "size": [
             37
            ],
            "sizemode": "area",
            "sizeref": 0.45
           },
           "name": "Zürich",
           "showlegend": true,
           "type": "scattergeo"
          },
          {
           "geo": "geo",
           "hovertemplate": "<b>%{hovertext}</b><br><br>city_name=Berlin<br>year_participation=2012<br>cumsum=%{marker.size}<br>lat=%{lat}<br>lon=%{lon}<extra></extra>",
           "hovertext": [
            "Berlin"
           ],
           "lat": [
            52.517036499999996
           ],
           "legendgroup": "Berlin",
           "lon": [
            13.388859900000002
           ],
           "marker": {
            "color": "#EF553B",
            "size": [
             156
            ],
            "sizemode": "area",
            "sizeref": 0.45
           },
           "name": "Berlin",
           "showlegend": true,
           "type": "scattergeo"
          },
          {
           "geo": "geo",
           "hovertemplate": "<b>%{hovertext}</b><br><br>city_name=Frankfurt/Main<br>year_participation=2012<br>cumsum=%{marker.size}<br>lat=%{lat}<br>lon=%{lon}<extra></extra>",
           "hovertext": [
            "Frankfurt/Main"
           ],
           "lat": [
            50.053763700000005
           ],
           "legendgroup": "Frankfurt/Main",
           "lon": [
            8.637085800000001
           ],
           "marker": {
            "color": "#ab63fa",
            "size": [
             30
            ],
            "sizemode": "area",
            "sizeref": 0.45
           },
           "name": "Frankfurt/Main",
           "showlegend": true,
           "type": "scattergeo"
          },
          {
           "geo": "geo",
           "hovertemplate": "<b>%{hovertext}</b><br><br>city_name=Leipzig<br>year_participation=2012<br>cumsum=%{marker.size}<br>lat=%{lat}<br>lon=%{lon}<extra></extra>",
           "hovertext": [
            "Leipzig"
           ],
           "lat": [
            51.3406321
           ],
           "legendgroup": "Leipzig",
           "lon": [
            12.3747329
           ],
           "marker": {
            "color": "#00cc96",
            "size": [
             10
            ],
            "sizemode": "area",
            "sizeref": 0.45
           },
           "name": "Leipzig",
           "showlegend": true,
           "type": "scattergeo"
          },
          {
           "geo": "geo",
           "hovertemplate": "<b>%{hovertext}</b><br><br>city_name=Freiburg<br>year_participation=2012<br>cumsum=%{marker.size}<br>lat=%{lat}<br>lon=%{lon}<extra></extra>",
           "hovertext": [
            "Freiburg"
           ],
           "lat": [
            47.9960901
           ],
           "legendgroup": "Freiburg",
           "lon": [
            7.849400500000001
           ],
           "marker": {
            "color": "#FECB52",
            "size": [
             6
            ],
            "sizemode": "area",
            "sizeref": 0.45
           },
           "name": "Freiburg",
           "showlegend": true,
           "type": "scattergeo"
          },
          {
           "geo": "geo",
           "hovertemplate": "<b>%{hovertext}</b><br><br>city_name=Unterentfelden<br>year_participation=2012<br>cumsum=%{marker.size}<br>lat=%{lat}<br>lon=%{lon}<extra></extra>",
           "hovertext": [
            "Unterentfelden"
           ],
           "lat": [
            47.3670123
           ],
           "legendgroup": "Unterentfelden",
           "lon": [
            8.0424171
           ],
           "marker": {
            "color": "#EF553B",
            "size": [
             1
            ],
            "sizemode": "area",
            "sizeref": 0.45
           },
           "name": "Unterentfelden",
           "showlegend": true,
           "type": "scattergeo"
          },
          {
           "geo": "geo",
           "hovertemplate": "<b>%{hovertext}</b><br><br>city_name=Espoo<br>year_participation=2012<br>cumsum=%{marker.size}<br>lat=%{lat}<br>lon=%{lon}<extra></extra>",
           "hovertext": [
            "Espoo"
           ],
           "lat": [
            60.22418689999999
           ],
           "legendgroup": "Espoo",
           "lon": [
            24.660362600000003
           ],
           "marker": {
            "color": "#00cc96",
            "size": [
             1
            ],
            "sizemode": "area",
            "sizeref": 0.45
           },
           "name": "Espoo",
           "showlegend": true,
           "type": "scattergeo"
          },
          {
           "geo": "geo",
           "hovertemplate": "<b>%{hovertext}</b><br><br>city_name=Biel<br>year_participation=2012<br>cumsum=%{marker.size}<br>lat=%{lat}<br>lon=%{lon}<extra></extra>",
           "hovertext": [
            "Biel"
           ],
           "lat": [
            43.0559092
           ],
           "legendgroup": "Biel",
           "lon": [
            -0.43253
           ],
           "marker": {
            "color": "#ab63fa",
            "size": [
             1
            ],
            "sizemode": "area",
            "sizeref": 0.45
           },
           "name": "Biel",
           "showlegend": true,
           "type": "scattergeo"
          },
          {
           "geo": "geo",
           "hovertemplate": "<b>%{hovertext}</b><br><br>city_name=Bamberg<br>year_participation=2012<br>cumsum=%{marker.size}<br>lat=%{lat}<br>lon=%{lon}<extra></extra>",
           "hovertext": [
            "Bamberg"
           ],
           "lat": [
            49.8916044
           ],
           "legendgroup": "Bamberg",
           "lon": [
            10.8868478
           ],
           "marker": {
            "color": "#FFA15A",
            "size": [
             1
            ],
            "sizemode": "area",
            "sizeref": 0.45
           },
           "name": "Bamberg",
           "showlegend": true,
           "type": "scattergeo"
          },
          {
           "geo": "geo",
           "hovertemplate": "<b>%{hovertext}</b><br><br>city_name=Hiroshima (Japan)<br>year_participation=2012<br>cumsum=%{marker.size}<br>lat=%{lat}<br>lon=%{lon}<extra></extra>",
           "hovertext": [
            "Hiroshima (Japan)"
           ],
           "lat": [
            34.391605799999994
           ],
           "legendgroup": "Hiroshima (Japan)",
           "lon": [
            132.4518156
           ],
           "marker": {
            "color": "#19d3f3",
            "size": [
             1
            ],
            "sizemode": "area",
            "sizeref": 0.45
           },
           "name": "Hiroshima (Japan)",
           "showlegend": true,
           "type": "scattergeo"
          },
          {
           "geo": "geo",
           "hovertemplate": "<b>%{hovertext}</b><br><br>city_name=Traismauer<br>year_participation=2012<br>cumsum=%{marker.size}<br>lat=%{lat}<br>lon=%{lon}<extra></extra>",
           "hovertext": [
            "Traismauer"
           ],
           "lat": [
            48.3499106
           ],
           "legendgroup": "Traismauer",
           "lon": [
            15.744186800000001
           ],
           "marker": {
            "color": "#FF6692",
            "size": [
             1
            ],
            "sizemode": "area",
            "sizeref": 0.45
           },
           "name": "Traismauer",
           "showlegend": true,
           "type": "scattergeo"
          }
         ],
         "name": "2012"
        },
        {
         "data": [
          {
           "geo": "geo",
           "hovertemplate": "<b>%{hovertext}</b><br><br>city_name=Wien<br>year_participation=2013<br>cumsum=%{marker.size}<br>lat=%{lat}<br>lon=%{lon}<extra></extra>",
           "hovertext": [
            "Wien"
           ],
           "lat": [
            48.2083537
           ],
           "legendgroup": "Wien",
           "lon": [
            16.372504199999998
           ],
           "marker": {
            "color": "#00cc96",
            "size": [
             73
            ],
            "sizemode": "area",
            "sizeref": 0.45
           },
           "name": "Wien",
           "showlegend": true,
           "type": "scattergeo"
          },
          {
           "geo": "geo",
           "hovertemplate": "<b>%{hovertext}</b><br><br>city_name=München<br>year_participation=2013<br>cumsum=%{marker.size}<br>lat=%{lat}<br>lon=%{lon}<extra></extra>",
           "hovertext": [
            "München"
           ],
           "lat": [
            48.1371079
           ],
           "legendgroup": "München",
           "lon": [
            11.575382199999998
           ],
           "marker": {
            "color": "#B6E880",
            "size": [
             51
            ],
            "sizemode": "area",
            "sizeref": 0.45
           },
           "name": "München",
           "showlegend": true,
           "type": "scattergeo"
          },
          {
           "geo": "geo",
           "hovertemplate": "<b>%{hovertext}</b><br><br>city_name=Hamburg<br>year_participation=2013<br>cumsum=%{marker.size}<br>lat=%{lat}<br>lon=%{lon}<extra></extra>",
           "hovertext": [
            "Hamburg"
           ],
           "lat": [
            53.543764100000004
           ],
           "legendgroup": "Hamburg",
           "lon": [
            10.009913300000001
           ],
           "marker": {
            "color": "#FF97FF",
            "size": [
             32
            ],
            "sizemode": "area",
            "sizeref": 0.45
           },
           "name": "Hamburg",
           "showlegend": true,
           "type": "scattergeo"
          },
          {
           "geo": "geo",
           "hovertemplate": "<b>%{hovertext}</b><br><br>city_name=Berlin<br>year_participation=2013<br>cumsum=%{marker.size}<br>lat=%{lat}<br>lon=%{lon}<extra></extra>",
           "hovertext": [
            "Berlin"
           ],
           "lat": [
            52.517036499999996
           ],
           "legendgroup": "Berlin",
           "lon": [
            13.388859900000002
           ],
           "marker": {
            "color": "#EF553B",
            "size": [
             162
            ],
            "sizemode": "area",
            "sizeref": 0.45
           },
           "name": "Berlin",
           "showlegend": true,
           "type": "scattergeo"
          },
          {
           "geo": "geo",
           "hovertemplate": "<b>%{hovertext}</b><br><br>city_name=Konstanz<br>year_participation=2013<br>cumsum=%{marker.size}<br>lat=%{lat}<br>lon=%{lon}<extra></extra>",
           "hovertext": [
            "Konstanz"
           ],
           "lat": [
            47.659216
           ],
           "legendgroup": "Konstanz",
           "lon": [
            9.175071800000001
           ],
           "marker": {
            "color": "#B6E880",
            "size": [
             3
            ],
            "sizemode": "area",
            "sizeref": 0.45
           },
           "name": "Konstanz",
           "showlegend": true,
           "type": "scattergeo"
          },
          {
           "geo": "geo",
           "hovertemplate": "<b>%{hovertext}</b><br><br>city_name=Biel/Bienne<br>year_participation=2013<br>cumsum=%{marker.size}<br>lat=%{lat}<br>lon=%{lon}<extra></extra>",
           "hovertext": [
            "Biel/Bienne"
           ],
           "lat": [
            47.140207700000005
           ],
           "legendgroup": "Biel/Bienne",
           "lon": [
            7.243902900000001
           ],
           "marker": {
            "color": "#FECB52",
            "size": [
             2
            ],
            "sizemode": "area",
            "sizeref": 0.45
           },
           "name": "Biel/Bienne",
           "showlegend": true,
           "type": "scattergeo"
          },
          {
           "geo": "geo",
           "hovertemplate": "<b>%{hovertext}</b><br><br>city_name=Odessa<br>year_participation=2013<br>cumsum=%{marker.size}<br>lat=%{lat}<br>lon=%{lon}<extra></extra>",
           "hovertext": [
            "Odessa"
           ],
           "lat": [
            46.4873195
           ],
           "legendgroup": "Odessa",
           "lon": [
            30.7392776
           ],
           "marker": {
            "color": "#B6E880",
            "size": [
             1
            ],
            "sizemode": "area",
            "sizeref": 0.45
           },
           "name": "Odessa",
           "showlegend": true,
           "type": "scattergeo"
          },
          {
           "geo": "geo",
           "hovertemplate": "<b>%{hovertext}</b><br><br>city_name=Heidgraben<br>year_participation=2013<br>cumsum=%{marker.size}<br>lat=%{lat}<br>lon=%{lon}<extra></extra>",
           "hovertext": [
            "Heidgraben"
           ],
           "lat": [
            53.7058525
           ],
           "legendgroup": "Heidgraben",
           "lon": [
            9.684823800000002
           ],
           "marker": {
            "color": "#FF97FF",
            "size": [
             1
            ],
            "sizemode": "area",
            "sizeref": 0.45
           },
           "name": "Heidgraben",
           "showlegend": true,
           "type": "scattergeo"
          }
         ],
         "name": "2013"
        },
        {
         "data": [
          {
           "geo": "geo",
           "hovertemplate": "<b>%{hovertext}</b><br><br>city_name=Wien<br>year_participation=2014<br>cumsum=%{marker.size}<br>lat=%{lat}<br>lon=%{lon}<extra></extra>",
           "hovertext": [
            "Wien"
           ],
           "lat": [
            48.2083537
           ],
           "legendgroup": "Wien",
           "lon": [
            16.372504199999998
           ],
           "marker": {
            "color": "#00cc96",
            "size": [
             74
            ],
            "sizemode": "area",
            "sizeref": 0.45
           },
           "name": "Wien",
           "showlegend": true,
           "type": "scattergeo"
          },
          {
           "geo": "geo",
           "hovertemplate": "<b>%{hovertext}</b><br><br>city_name=Berlin<br>year_participation=2014<br>cumsum=%{marker.size}<br>lat=%{lat}<br>lon=%{lon}<extra></extra>",
           "hovertext": [
            "Berlin"
           ],
           "lat": [
            52.517036499999996
           ],
           "legendgroup": "Berlin",
           "lon": [
            13.388859900000002
           ],
           "marker": {
            "color": "#EF553B",
            "size": [
             165
            ],
            "sizemode": "area",
            "sizeref": 0.45
           },
           "name": "Berlin",
           "showlegend": true,
           "type": "scattergeo"
          },
          {
           "geo": "geo",
           "hovertemplate": "<b>%{hovertext}</b><br><br>city_name=Bern<br>year_participation=2014<br>cumsum=%{marker.size}<br>lat=%{lat}<br>lon=%{lon}<extra></extra>",
           "hovertext": [
            "Bern"
           ],
           "lat": [
            46.9482713
           ],
           "legendgroup": "Bern",
           "lon": [
            7.4514512
           ],
           "marker": {
            "color": "#FF6692",
            "size": [
             14
            ],
            "sizemode": "area",
            "sizeref": 0.45
           },
           "name": "Bern",
           "showlegend": true,
           "type": "scattergeo"
          },
          {
           "geo": "geo",
           "hovertemplate": "<b>%{hovertext}</b><br><br>city_name=Graz<br>year_participation=2014<br>cumsum=%{marker.size}<br>lat=%{lat}<br>lon=%{lon}<extra></extra>",
           "hovertext": [
            "Graz"
           ],
           "lat": [
            47.070867799999995
           ],
           "legendgroup": "Graz",
           "lon": [
            15.438278599999999
           ],
           "marker": {
            "color": "#00cc96",
            "size": [
             15
            ],
            "sizemode": "area",
            "sizeref": 0.45
           },
           "name": "Graz",
           "showlegend": true,
           "type": "scattergeo"
          },
          {
           "geo": "geo",
           "hovertemplate": "<b>%{hovertext}</b><br><br>city_name=Leipzig<br>year_participation=2014<br>cumsum=%{marker.size}<br>lat=%{lat}<br>lon=%{lon}<extra></extra>",
           "hovertext": [
            "Leipzig"
           ],
           "lat": [
            51.3406321
           ],
           "legendgroup": "Leipzig",
           "lon": [
            12.3747329
           ],
           "marker": {
            "color": "#00cc96",
            "size": [
             11
            ],
            "sizemode": "area",
            "sizeref": 0.45
           },
           "name": "Leipzig",
           "showlegend": true,
           "type": "scattergeo"
          },
          {
           "geo": "geo",
           "hovertemplate": "<b>%{hovertext}</b><br><br>city_name=Celerina<br>year_participation=2014<br>cumsum=%{marker.size}<br>lat=%{lat}<br>lon=%{lon}<extra></extra>",
           "hovertext": [
            "Celerina"
           ],
           "lat": [
            46.5132296
           ],
           "legendgroup": "Celerina",
           "lon": [
            9.858624800000001
           ],
           "marker": {
            "color": "#FECB52",
            "size": [
             1
            ],
            "sizemode": "area",
            "sizeref": 0.45
           },
           "name": "Celerina",
           "showlegend": true,
           "type": "scattergeo"
          },
          {
           "geo": "geo",
           "hovertemplate": "<b>%{hovertext}</b><br><br>city_name=Pfaffstätten<br>year_participation=2014<br>cumsum=%{marker.size}<br>lat=%{lat}<br>lon=%{lon}<extra></extra>",
           "hovertext": [
            "Pfaffstätten"
           ],
           "lat": [
            48.017322899999996
           ],
           "legendgroup": "Pfaffstätten",
           "lon": [
            16.2644673
           ],
           "marker": {
            "color": "#636efa",
            "size": [
             1
            ],
            "sizemode": "area",
            "sizeref": 0.45
           },
           "name": "Pfaffstätten",
           "showlegend": true,
           "type": "scattergeo"
          },
          {
           "geo": "geo",
           "hovertemplate": "<b>%{hovertext}</b><br><br>city_name=südliches Waldviertel<br>year_participation=2014<br>cumsum=%{marker.size}<br>lat=%{lat}<br>lon=%{lon}<extra></extra>",
           "hovertext": [
            "südliches Waldviertel"
           ],
           "lat": [
            48.317201700000005
           ],
           "legendgroup": "südliches Waldviertel",
           "lon": [
            15.2034204
           ],
           "marker": {
            "color": "#EF553B",
            "size": [
             1
            ],
            "sizemode": "area",
            "sizeref": 0.45
           },
           "name": "südliches Waldviertel",
           "showlegend": true,
           "type": "scattergeo"
          },
          {
           "geo": "geo",
           "hovertemplate": "<b>%{hovertext}</b><br><br>city_name=Bad Segeberg<br>year_participation=2014<br>cumsum=%{marker.size}<br>lat=%{lat}<br>lon=%{lon}<extra></extra>",
           "hovertext": [
            "Bad Segeberg"
           ],
           "lat": [
            53.936819799999995
           ],
           "legendgroup": "Bad Segeberg",
           "lon": [
            10.30415
           ],
           "marker": {
            "color": "#00cc96",
            "size": [
             1
            ],
            "sizemode": "area",
            "sizeref": 0.45
           },
           "name": "Bad Segeberg",
           "showlegend": true,
           "type": "scattergeo"
          }
         ],
         "name": "2014"
        },
        {
         "data": [
          {
           "geo": "geo",
           "hovertemplate": "<b>%{hovertext}</b><br><br>city_name=Wien<br>year_participation=2015<br>cumsum=%{marker.size}<br>lat=%{lat}<br>lon=%{lon}<extra></extra>",
           "hovertext": [
            "Wien"
           ],
           "lat": [
            48.2083537
           ],
           "legendgroup": "Wien",
           "lon": [
            16.372504199999998
           ],
           "marker": {
            "color": "#00cc96",
            "size": [
             76
            ],
            "sizemode": "area",
            "sizeref": 0.45
           },
           "name": "Wien",
           "showlegend": true,
           "type": "scattergeo"
          },
          {
           "geo": "geo",
           "hovertemplate": "<b>%{hovertext}</b><br><br>city_name=Klagenfurt<br>year_participation=2015<br>cumsum=%{marker.size}<br>lat=%{lat}<br>lon=%{lon}<extra></extra>",
           "hovertext": [
            "Klagenfurt"
           ],
           "lat": [
            46.6228162
           ],
           "legendgroup": "Klagenfurt",
           "lon": [
            14.307960399999999
           ],
           "marker": {
            "color": "#ab63fa",
            "size": [
             10
            ],
            "sizemode": "area",
            "sizeref": 0.45
           },
           "name": "Klagenfurt",
           "showlegend": true,
           "type": "scattergeo"
          },
          {
           "geo": "geo",
           "hovertemplate": "<b>%{hovertext}</b><br><br>city_name=Hamburg<br>year_participation=2015<br>cumsum=%{marker.size}<br>lat=%{lat}<br>lon=%{lon}<extra></extra>",
           "hovertext": [
            "Hamburg"
           ],
           "lat": [
            53.543764100000004
           ],
           "legendgroup": "Hamburg",
           "lon": [
            10.009913300000001
           ],
           "marker": {
            "color": "#FF97FF",
            "size": [
             33
            ],
            "sizemode": "area",
            "sizeref": 0.45
           },
           "name": "Hamburg",
           "showlegend": true,
           "type": "scattergeo"
          },
          {
           "geo": "geo",
           "hovertemplate": "<b>%{hovertext}</b><br><br>city_name=Zürich<br>year_participation=2015<br>cumsum=%{marker.size}<br>lat=%{lat}<br>lon=%{lon}<extra></extra>",
           "hovertext": [
            "Zürich"
           ],
           "lat": [
            47.3723941
           ],
           "legendgroup": "Zürich",
           "lon": [
            8.5423328
           ],
           "marker": {
            "color": "#FECB52",
            "size": [
             38
            ],
            "sizemode": "area",
            "sizeref": 0.45
           },
           "name": "Zürich",
           "showlegend": true,
           "type": "scattergeo"
          },
          {
           "geo": "geo",
           "hovertemplate": "<b>%{hovertext}</b><br><br>city_name=Berlin<br>year_participation=2015<br>cumsum=%{marker.size}<br>lat=%{lat}<br>lon=%{lon}<extra></extra>",
           "hovertext": [
            "Berlin"
           ],
           "lat": [
            52.517036499999996
           ],
           "legendgroup": "Berlin",
           "lon": [
            13.388859900000002
           ],
           "marker": {
            "color": "#EF553B",
            "size": [
             168
            ],
            "sizemode": "area",
            "sizeref": 0.45
           },
           "name": "Berlin",
           "showlegend": true,
           "type": "scattergeo"
          },
          {
           "geo": "geo",
           "hovertemplate": "<b>%{hovertext}</b><br><br>city_name=Frankfurt/Main<br>year_participation=2015<br>cumsum=%{marker.size}<br>lat=%{lat}<br>lon=%{lon}<extra></extra>",
           "hovertext": [
            "Frankfurt/Main"
           ],
           "lat": [
            50.053763700000005
           ],
           "legendgroup": "Frankfurt/Main",
           "lon": [
            8.637085800000001
           ],
           "marker": {
            "color": "#ab63fa",
            "size": [
             32
            ],
            "sizemode": "area",
            "sizeref": 0.45
           },
           "name": "Frankfurt/Main",
           "showlegend": true,
           "type": "scattergeo"
          },
          {
           "geo": "geo",
           "hovertemplate": "<b>%{hovertext}</b><br><br>city_name=Bern<br>year_participation=2015<br>cumsum=%{marker.size}<br>lat=%{lat}<br>lon=%{lon}<extra></extra>",
           "hovertext": [
            "Bern"
           ],
           "lat": [
            46.9482713
           ],
           "legendgroup": "Bern",
           "lon": [
            7.4514512
           ],
           "marker": {
            "color": "#FF6692",
            "size": [
             15
            ],
            "sizemode": "area",
            "sizeref": 0.45
           },
           "name": "Bern",
           "showlegend": true,
           "type": "scattergeo"
          },
          {
           "geo": "geo",
           "hovertemplate": "<b>%{hovertext}</b><br><br>city_name=Graz<br>year_participation=2015<br>cumsum=%{marker.size}<br>lat=%{lat}<br>lon=%{lon}<extra></extra>",
           "hovertext": [
            "Graz"
           ],
           "lat": [
            47.070867799999995
           ],
           "legendgroup": "Graz",
           "lon": [
            15.438278599999999
           ],
           "marker": {
            "color": "#00cc96",
            "size": [
             16
            ],
            "sizemode": "area",
            "sizeref": 0.45
           },
           "name": "Graz",
           "showlegend": true,
           "type": "scattergeo"
          },
          {
           "geo": "geo",
           "hovertemplate": "<b>%{hovertext}</b><br><br>city_name=Bamberg<br>year_participation=2015<br>cumsum=%{marker.size}<br>lat=%{lat}<br>lon=%{lon}<extra></extra>",
           "hovertext": [
            "Bamberg"
           ],
           "lat": [
            49.8916044
           ],
           "legendgroup": "Bamberg",
           "lon": [
            10.8868478
           ],
           "marker": {
            "color": "#FFA15A",
            "size": [
             2
            ],
            "sizemode": "area",
            "sizeref": 0.45
           },
           "name": "Bamberg",
           "showlegend": true,
           "type": "scattergeo"
          },
          {
           "geo": "geo",
           "hovertemplate": "<b>%{hovertext}</b><br><br>city_name=Val Müstair<br>year_participation=2015<br>cumsum=%{marker.size}<br>lat=%{lat}<br>lon=%{lon}<extra></extra>",
           "hovertext": [
            "Val Müstair"
           ],
           "lat": [
            46.6681972
           ],
           "legendgroup": "Val Müstair",
           "lon": [
            10.5115696
           ],
           "marker": {
            "color": "#ab63fa",
            "size": [
             1
            ],
            "sizemode": "area",
            "sizeref": 0.45
           },
           "name": "Val Müstair",
           "showlegend": true,
           "type": "scattergeo"
          }
         ],
         "name": "2015"
        },
        {
         "data": [
          {
           "geo": "geo",
           "hovertemplate": "<b>%{hovertext}</b><br><br>city_name=Wien<br>year_participation=2016<br>cumsum=%{marker.size}<br>lat=%{lat}<br>lon=%{lon}<extra></extra>",
           "hovertext": [
            "Wien"
           ],
           "lat": [
            48.2083537
           ],
           "legendgroup": "Wien",
           "lon": [
            16.372504199999998
           ],
           "marker": {
            "color": "#00cc96",
            "size": [
             78
            ],
            "sizemode": "area",
            "sizeref": 0.45
           },
           "name": "Wien",
           "showlegend": true,
           "type": "scattergeo"
          },
          {
           "geo": "geo",
           "hovertemplate": "<b>%{hovertext}</b><br><br>city_name=Hamburg<br>year_participation=2016<br>cumsum=%{marker.size}<br>lat=%{lat}<br>lon=%{lon}<extra></extra>",
           "hovertext": [
            "Hamburg"
           ],
           "lat": [
            53.543764100000004
           ],
           "legendgroup": "Hamburg",
           "lon": [
            10.009913300000001
           ],
           "marker": {
            "color": "#FF97FF",
            "size": [
             34
            ],
            "sizemode": "area",
            "sizeref": 0.45
           },
           "name": "Hamburg",
           "showlegend": true,
           "type": "scattergeo"
          },
          {
           "geo": "geo",
           "hovertemplate": "<b>%{hovertext}</b><br><br>city_name=Zürich<br>year_participation=2016<br>cumsum=%{marker.size}<br>lat=%{lat}<br>lon=%{lon}<extra></extra>",
           "hovertext": [
            "Zürich"
           ],
           "lat": [
            47.3723941
           ],
           "legendgroup": "Zürich",
           "lon": [
            8.5423328
           ],
           "marker": {
            "color": "#FECB52",
            "size": [
             39
            ],
            "sizemode": "area",
            "sizeref": 0.45
           },
           "name": "Zürich",
           "showlegend": true,
           "type": "scattergeo"
          },
          {
           "geo": "geo",
           "hovertemplate": "<b>%{hovertext}</b><br><br>city_name=Berlin<br>year_participation=2016<br>cumsum=%{marker.size}<br>lat=%{lat}<br>lon=%{lon}<extra></extra>",
           "hovertext": [
            "Berlin"
           ],
           "lat": [
            52.517036499999996
           ],
           "legendgroup": "Berlin",
           "lon": [
            13.388859900000002
           ],
           "marker": {
            "color": "#EF553B",
            "size": [
             170
            ],
            "sizemode": "area",
            "sizeref": 0.45
           },
           "name": "Berlin",
           "showlegend": true,
           "type": "scattergeo"
          },
          {
           "geo": "geo",
           "hovertemplate": "<b>%{hovertext}</b><br><br>city_name=Salzburg<br>year_participation=2016<br>cumsum=%{marker.size}<br>lat=%{lat}<br>lon=%{lon}<extra></extra>",
           "hovertext": [
            "Salzburg"
           ],
           "lat": [
            47.798134600000004
           ],
           "legendgroup": "Salzburg",
           "lon": [
            13.046480599999999
           ],
           "marker": {
            "color": "#00cc96",
            "size": [
             16
            ],
            "sizemode": "area",
            "sizeref": 0.45
           },
           "name": "Salzburg",
           "showlegend": true,
           "type": "scattergeo"
          },
          {
           "geo": "geo",
           "hovertemplate": "<b>%{hovertext}</b><br><br>city_name=Tübingen<br>year_participation=2016<br>cumsum=%{marker.size}<br>lat=%{lat}<br>lon=%{lon}<extra></extra>",
           "hovertext": [
            "Tübingen"
           ],
           "lat": [
            48.5236164
           ],
           "legendgroup": "Tübingen",
           "lon": [
            9.0535531
           ],
           "marker": {
            "color": "#00cc96",
            "size": [
             6
            ],
            "sizemode": "area",
            "sizeref": 0.45
           },
           "name": "Tübingen",
           "showlegend": true,
           "type": "scattergeo"
          },
          {
           "geo": "geo",
           "hovertemplate": "<b>%{hovertext}</b><br><br>city_name=Köln<br>year_participation=2016<br>cumsum=%{marker.size}<br>lat=%{lat}<br>lon=%{lon}<extra></extra>",
           "hovertext": [
            "Köln"
           ],
           "lat": [
            50.938361
           ],
           "legendgroup": "Köln",
           "lon": [
            6.959974000000001
           ],
           "marker": {
            "color": "#00cc96",
            "size": [
             16
            ],
            "sizemode": "area",
            "sizeref": 0.45
           },
           "name": "Köln",
           "showlegend": true,
           "type": "scattergeo"
          },
          {
           "geo": "geo",
           "hovertemplate": "<b>%{hovertext}</b><br><br>city_name=Osnabrück<br>year_participation=2016<br>cumsum=%{marker.size}<br>lat=%{lat}<br>lon=%{lon}<extra></extra>",
           "hovertext": [
            "Osnabrück"
           ],
           "lat": [
            52.266837
           ],
           "legendgroup": "Osnabrück",
           "lon": [
            8.049741000000001
           ],
           "marker": {
            "color": "#ab63fa",
            "size": [
             2
            ],
            "sizemode": "area",
            "sizeref": 0.45
           },
           "name": "Osnabrück",
           "showlegend": true,
           "type": "scattergeo"
          },
          {
           "geo": "geo",
           "hovertemplate": "<b>%{hovertext}</b><br><br>city_name=Leipzig<br>year_participation=2016<br>cumsum=%{marker.size}<br>lat=%{lat}<br>lon=%{lon}<extra></extra>",
           "hovertext": [
            "Leipzig"
           ],
           "lat": [
            51.3406321
           ],
           "legendgroup": "Leipzig",
           "lon": [
            12.3747329
           ],
           "marker": {
            "color": "#00cc96",
            "size": [
             13
            ],
            "sizemode": "area",
            "sizeref": 0.45
           },
           "name": "Leipzig",
           "showlegend": true,
           "type": "scattergeo"
          },
          {
           "geo": "geo",
           "hovertemplate": "<b>%{hovertext}</b><br><br>city_name=Uster<br>year_participation=2016<br>cumsum=%{marker.size}<br>lat=%{lat}<br>lon=%{lon}<extra></extra>",
           "hovertext": [
            "Uster"
           ],
           "lat": [
            47.3512065
           ],
           "legendgroup": "Uster",
           "lon": [
            8.7179221
           ],
           "marker": {
            "color": "#00cc96",
            "size": [
             2
            ],
            "sizemode": "area",
            "sizeref": 0.45
           },
           "name": "Uster",
           "showlegend": true,
           "type": "scattergeo"
          },
          {
           "geo": "geo",
           "hovertemplate": "<b>%{hovertext}</b><br><br>city_name=Aachen<br>year_participation=2016<br>cumsum=%{marker.size}<br>lat=%{lat}<br>lon=%{lon}<extra></extra>",
           "hovertext": [
            "Aachen"
           ],
           "lat": [
            50.776351
           ],
           "legendgroup": "Aachen",
           "lon": [
            6.083862
           ],
           "marker": {
            "color": "#FFA15A",
            "size": [
             1
            ],
            "sizemode": "area",
            "sizeref": 0.45
           },
           "name": "Aachen",
           "showlegend": true,
           "type": "scattergeo"
          },
          {
           "geo": "geo",
           "hovertemplate": "<b>%{hovertext}</b><br><br>city_name=La Roche de Rame-Hautes Alpes (Frankreich)<br>year_participation=2016<br>cumsum=%{marker.size}<br>lat=%{lat}<br>lon=%{lon}<extra></extra>",
           "hovertext": [
            "La Roche de Rame-Hautes Alpes (Frankreich)"
           ],
           "lat": [
            44.748903799999994
           ],
           "legendgroup": "La Roche de Rame-Hautes Alpes (Frankreich)",
           "lon": [
            6.580288499999999
           ],
           "marker": {
            "color": "#19d3f3",
            "size": [
             1
            ],
            "sizemode": "area",
            "sizeref": 0.45
           },
           "name": "La Roche de Rame-Hautes Alpes (Frankreich)",
           "showlegend": true,
           "type": "scattergeo"
          },
          {
           "geo": "geo",
           "hovertemplate": "<b>%{hovertext}</b><br><br>city_name=Tel Aviv<br>year_participation=2016<br>cumsum=%{marker.size}<br>lat=%{lat}<br>lon=%{lon}<extra></extra>",
           "hovertext": [
            "Tel Aviv"
           ],
           "lat": [
            32.080480800000004
           ],
           "legendgroup": "Tel Aviv",
           "lon": [
            34.7805274
           ],
           "marker": {
            "color": "#FF6692",
            "size": [
             1
            ],
            "sizemode": "area",
            "sizeref": 0.45
           },
           "name": "Tel Aviv",
           "showlegend": true,
           "type": "scattergeo"
          }
         ],
         "name": "2016"
        },
        {
         "data": [
          {
           "geo": "geo",
           "hovertemplate": "<b>%{hovertext}</b><br><br>city_name=Wien<br>year_participation=2017<br>cumsum=%{marker.size}<br>lat=%{lat}<br>lon=%{lon}<extra></extra>",
           "hovertext": [
            "Wien"
           ],
           "lat": [
            48.2083537
           ],
           "legendgroup": "Wien",
           "lon": [
            16.372504199999998
           ],
           "marker": {
            "color": "#00cc96",
            "size": [
             82
            ],
            "sizemode": "area",
            "sizeref": 0.45
           },
           "name": "Wien",
           "showlegend": true,
           "type": "scattergeo"
          },
          {
           "geo": "geo",
           "hovertemplate": "<b>%{hovertext}</b><br><br>city_name=München<br>year_participation=2017<br>cumsum=%{marker.size}<br>lat=%{lat}<br>lon=%{lon}<extra></extra>",
           "hovertext": [
            "München"
           ],
           "lat": [
            48.1371079
           ],
           "legendgroup": "München",
           "lon": [
            11.575382199999998
           ],
           "marker": {
            "color": "#B6E880",
            "size": [
             52
            ],
            "sizemode": "area",
            "sizeref": 0.45
           },
           "name": "München",
           "showlegend": true,
           "type": "scattergeo"
          },
          {
           "geo": "geo",
           "hovertemplate": "<b>%{hovertext}</b><br><br>city_name=Zürich<br>year_participation=2017<br>cumsum=%{marker.size}<br>lat=%{lat}<br>lon=%{lon}<extra></extra>",
           "hovertext": [
            "Zürich"
           ],
           "lat": [
            47.3723941
           ],
           "legendgroup": "Zürich",
           "lon": [
            8.5423328
           ],
           "marker": {
            "color": "#FECB52",
            "size": [
             40
            ],
            "sizemode": "area",
            "sizeref": 0.45
           },
           "name": "Zürich",
           "showlegend": true,
           "type": "scattergeo"
          },
          {
           "geo": "geo",
           "hovertemplate": "<b>%{hovertext}</b><br><br>city_name=Berlin<br>year_participation=2017<br>cumsum=%{marker.size}<br>lat=%{lat}<br>lon=%{lon}<extra></extra>",
           "hovertext": [
            "Berlin"
           ],
           "lat": [
            52.517036499999996
           ],
           "legendgroup": "Berlin",
           "lon": [
            13.388859900000002
           ],
           "marker": {
            "color": "#EF553B",
            "size": [
             174
            ],
            "sizemode": "area",
            "sizeref": 0.45
           },
           "name": "Berlin",
           "showlegend": true,
           "type": "scattergeo"
          },
          {
           "geo": "geo",
           "hovertemplate": "<b>%{hovertext}</b><br><br>city_name=Frankfurt/Main<br>year_participation=2017<br>cumsum=%{marker.size}<br>lat=%{lat}<br>lon=%{lon}<extra></extra>",
           "hovertext": [
            "Frankfurt/Main"
           ],
           "lat": [
            50.053763700000005
           ],
           "legendgroup": "Frankfurt/Main",
           "lon": [
            8.637085800000001
           ],
           "marker": {
            "color": "#ab63fa",
            "size": [
             33
            ],
            "sizemode": "area",
            "sizeref": 0.45
           },
           "name": "Frankfurt/Main",
           "showlegend": true,
           "type": "scattergeo"
          },
          {
           "geo": "geo",
           "hovertemplate": "<b>%{hovertext}</b><br><br>city_name=Graz<br>year_participation=2017<br>cumsum=%{marker.size}<br>lat=%{lat}<br>lon=%{lon}<extra></extra>",
           "hovertext": [
            "Graz"
           ],
           "lat": [
            47.070867799999995
           ],
           "legendgroup": "Graz",
           "lon": [
            15.438278599999999
           ],
           "marker": {
            "color": "#00cc96",
            "size": [
             17
            ],
            "sizemode": "area",
            "sizeref": 0.45
           },
           "name": "Graz",
           "showlegend": true,
           "type": "scattergeo"
          },
          {
           "geo": "geo",
           "hovertemplate": "<b>%{hovertext}</b><br><br>city_name=Weiler im Allgäu<br>year_participation=2017<br>cumsum=%{marker.size}<br>lat=%{lat}<br>lon=%{lon}<extra></extra>",
           "hovertext": [
            "Weiler im Allgäu"
           ],
           "lat": [
            47.5831505
           ],
           "legendgroup": "Weiler im Allgäu",
           "lon": [
            9.9140112
           ],
           "marker": {
            "color": "#B6E880",
            "size": [
             1
            ],
            "sizemode": "area",
            "sizeref": 0.45
           },
           "name": "Weiler im Allgäu",
           "showlegend": true,
           "type": "scattergeo"
          },
          {
           "geo": "geo",
           "hovertemplate": "<b>%{hovertext}</b><br><br>city_name=Brooklyn<br>year_participation=2017<br>cumsum=%{marker.size}<br>lat=%{lat}<br>lon=%{lon}<extra></extra>",
           "hovertext": [
            "Brooklyn"
           ],
           "lat": [
            40.6501038
           ],
           "legendgroup": "Brooklyn",
           "lon": [
            -73.9495823
           ],
           "marker": {
            "color": "#FF97FF",
            "size": [
             1
            ],
            "sizemode": "area",
            "sizeref": 0.45
           },
           "name": "Brooklyn",
           "showlegend": true,
           "type": "scattergeo"
          },
          {
           "geo": "geo",
           "hovertemplate": "<b>%{hovertext}</b><br><br>city_name=Madiswil<br>year_participation=2017<br>cumsum=%{marker.size}<br>lat=%{lat}<br>lon=%{lon}<extra></extra>",
           "hovertext": [
            "Madiswil"
           ],
           "lat": [
            47.1648367
           ],
           "legendgroup": "Madiswil",
           "lon": [
            7.796815299999999
           ],
           "marker": {
            "color": "#FECB52",
            "size": [
             1
            ],
            "sizemode": "area",
            "sizeref": 0.45
           },
           "name": "Madiswil",
           "showlegend": true,
           "type": "scattergeo"
          }
         ],
         "name": "2017"
        },
        {
         "data": [
          {
           "geo": "geo",
           "hovertemplate": "<b>%{hovertext}</b><br><br>city_name=Wien<br>year_participation=2018<br>cumsum=%{marker.size}<br>lat=%{lat}<br>lon=%{lon}<extra></extra>",
           "hovertext": [
            "Wien"
           ],
           "lat": [
            48.2083537
           ],
           "legendgroup": "Wien",
           "lon": [
            16.372504199999998
           ],
           "marker": {
            "color": "#00cc96",
            "size": [
             84
            ],
            "sizemode": "area",
            "sizeref": 0.45
           },
           "name": "Wien",
           "showlegend": true,
           "type": "scattergeo"
          },
          {
           "geo": "geo",
           "hovertemplate": "<b>%{hovertext}</b><br><br>city_name=Hamburg<br>year_participation=2018<br>cumsum=%{marker.size}<br>lat=%{lat}<br>lon=%{lon}<extra></extra>",
           "hovertext": [
            "Hamburg"
           ],
           "lat": [
            53.543764100000004
           ],
           "legendgroup": "Hamburg",
           "lon": [
            10.009913300000001
           ],
           "marker": {
            "color": "#FF97FF",
            "size": [
             36
            ],
            "sizemode": "area",
            "sizeref": 0.45
           },
           "name": "Hamburg",
           "showlegend": true,
           "type": "scattergeo"
          },
          {
           "geo": "geo",
           "hovertemplate": "<b>%{hovertext}</b><br><br>city_name=Zürich<br>year_participation=2018<br>cumsum=%{marker.size}<br>lat=%{lat}<br>lon=%{lon}<extra></extra>",
           "hovertext": [
            "Zürich"
           ],
           "lat": [
            47.3723941
           ],
           "legendgroup": "Zürich",
           "lon": [
            8.5423328
           ],
           "marker": {
            "color": "#FECB52",
            "size": [
             41
            ],
            "sizemode": "area",
            "sizeref": 0.45
           },
           "name": "Zürich",
           "showlegend": true,
           "type": "scattergeo"
          },
          {
           "geo": "geo",
           "hovertemplate": "<b>%{hovertext}</b><br><br>city_name=Berlin<br>year_participation=2018<br>cumsum=%{marker.size}<br>lat=%{lat}<br>lon=%{lon}<extra></extra>",
           "hovertext": [
            "Berlin"
           ],
           "lat": [
            52.517036499999996
           ],
           "legendgroup": "Berlin",
           "lon": [
            13.388859900000002
           ],
           "marker": {
            "color": "#EF553B",
            "size": [
             178
            ],
            "sizemode": "area",
            "sizeref": 0.45
           },
           "name": "Berlin",
           "showlegend": true,
           "type": "scattergeo"
          },
          {
           "geo": "geo",
           "hovertemplate": "<b>%{hovertext}</b><br><br>city_name=Frankfurt/Main<br>year_participation=2018<br>cumsum=%{marker.size}<br>lat=%{lat}<br>lon=%{lon}<extra></extra>",
           "hovertext": [
            "Frankfurt/Main"
           ],
           "lat": [
            50.053763700000005
           ],
           "legendgroup": "Frankfurt/Main",
           "lon": [
            8.637085800000001
           ],
           "marker": {
            "color": "#ab63fa",
            "size": [
             34
            ],
            "sizemode": "area",
            "sizeref": 0.45
           },
           "name": "Frankfurt/Main",
           "showlegend": true,
           "type": "scattergeo"
          },
          {
           "geo": "geo",
           "hovertemplate": "<b>%{hovertext}</b><br><br>city_name=Nürnberg<br>year_participation=2018<br>cumsum=%{marker.size}<br>lat=%{lat}<br>lon=%{lon}<extra></extra>",
           "hovertext": [
            "Nürnberg"
           ],
           "lat": [
            49.453872
           ],
           "legendgroup": "Nürnberg",
           "lon": [
            11.077297999999999
           ],
           "marker": {
            "color": "#19d3f3",
            "size": [
             8
            ],
            "sizemode": "area",
            "sizeref": 0.45
           },
           "name": "Nürnberg",
           "showlegend": true,
           "type": "scattergeo"
          },
          {
           "geo": "geo",
           "hovertemplate": "<b>%{hovertext}</b><br><br>city_name=Luzern<br>year_participation=2018<br>cumsum=%{marker.size}<br>lat=%{lat}<br>lon=%{lon}<extra></extra>",
           "hovertext": [
            "Luzern"
           ],
           "lat": [
            47.0505452
           ],
           "legendgroup": "Luzern",
           "lon": [
            8.3054682
           ],
           "marker": {
            "color": "#636efa",
            "size": [
             4
            ],
            "sizemode": "area",
            "sizeref": 0.45
           },
           "name": "Luzern",
           "showlegend": true,
           "type": "scattergeo"
          },
          {
           "geo": "geo",
           "hovertemplate": "<b>%{hovertext}</b><br><br>city_name=Brunnen<br>year_participation=2018<br>cumsum=%{marker.size}<br>lat=%{lat}<br>lon=%{lon}<extra></extra>",
           "hovertext": [
            "Brunnen"
           ],
           "lat": [
            48.6293223
           ],
           "legendgroup": "Brunnen",
           "lon": [
            11.3097034
           ],
           "marker": {
            "color": "#636efa",
            "size": [
             1
            ],
            "sizemode": "area",
            "sizeref": 0.45
           },
           "name": "Brunnen",
           "showlegend": true,
           "type": "scattergeo"
          },
          {
           "geo": "geo",
           "hovertemplate": "<b>%{hovertext}</b><br><br>city_name=Herrliberg<br>year_participation=2018<br>cumsum=%{marker.size}<br>lat=%{lat}<br>lon=%{lon}<extra></extra>",
           "hovertext": [
            "Herrliberg"
           ],
           "lat": [
            47.2905574
           ],
           "legendgroup": "Herrliberg",
           "lon": [
            8.6124721
           ],
           "marker": {
            "color": "#EF553B",
            "size": [
             1
            ],
            "sizemode": "area",
            "sizeref": 0.45
           },
           "name": "Herrliberg",
           "showlegend": true,
           "type": "scattergeo"
          },
          {
           "geo": "geo",
           "hovertemplate": "<b>%{hovertext}</b><br><br>city_name=Solingen<br>year_participation=2018<br>cumsum=%{marker.size}<br>lat=%{lat}<br>lon=%{lon}<extra></extra>",
           "hovertext": [
            "Solingen"
           ],
           "lat": [
            51.1712468
           ],
           "legendgroup": "Solingen",
           "lon": [
            7.0838996
           ],
           "marker": {
            "color": "#00cc96",
            "size": [
             1
            ],
            "sizemode": "area",
            "sizeref": 0.45
           },
           "name": "Solingen",
           "showlegend": true,
           "type": "scattergeo"
          }
         ],
         "name": "2018"
        },
        {
         "data": [
          {
           "geo": "geo",
           "hovertemplate": "<b>%{hovertext}</b><br><br>city_name=Wien<br>year_participation=2019<br>cumsum=%{marker.size}<br>lat=%{lat}<br>lon=%{lon}<extra></extra>",
           "hovertext": [
            "Wien"
           ],
           "lat": [
            48.2083537
           ],
           "legendgroup": "Wien",
           "lon": [
            16.372504199999998
           ],
           "marker": {
            "color": "#00cc96",
            "size": [
             87
            ],
            "sizemode": "area",
            "sizeref": 0.45
           },
           "name": "Wien",
           "showlegend": true,
           "type": "scattergeo"
          },
          {
           "geo": "geo",
           "hovertemplate": "<b>%{hovertext}</b><br><br>city_name=Hamburg<br>year_participation=2019<br>cumsum=%{marker.size}<br>lat=%{lat}<br>lon=%{lon}<extra></extra>",
           "hovertext": [
            "Hamburg"
           ],
           "lat": [
            53.543764100000004
           ],
           "legendgroup": "Hamburg",
           "lon": [
            10.009913300000001
           ],
           "marker": {
            "color": "#FF97FF",
            "size": [
             37
            ],
            "sizemode": "area",
            "sizeref": 0.45
           },
           "name": "Hamburg",
           "showlegend": true,
           "type": "scattergeo"
          },
          {
           "geo": "geo",
           "hovertemplate": "<b>%{hovertext}</b><br><br>city_name=Zürich<br>year_participation=2019<br>cumsum=%{marker.size}<br>lat=%{lat}<br>lon=%{lon}<extra></extra>",
           "hovertext": [
            "Zürich"
           ],
           "lat": [
            47.3723941
           ],
           "legendgroup": "Zürich",
           "lon": [
            8.5423328
           ],
           "marker": {
            "color": "#FECB52",
            "size": [
             42
            ],
            "sizemode": "area",
            "sizeref": 0.45
           },
           "name": "Zürich",
           "showlegend": true,
           "type": "scattergeo"
          },
          {
           "geo": "geo",
           "hovertemplate": "<b>%{hovertext}</b><br><br>city_name=Berlin<br>year_participation=2019<br>cumsum=%{marker.size}<br>lat=%{lat}<br>lon=%{lon}<extra></extra>",
           "hovertext": [
            "Berlin"
           ],
           "lat": [
            52.517036499999996
           ],
           "legendgroup": "Berlin",
           "lon": [
            13.388859900000002
           ],
           "marker": {
            "color": "#EF553B",
            "size": [
             180
            ],
            "sizemode": "area",
            "sizeref": 0.45
           },
           "name": "Berlin",
           "showlegend": true,
           "type": "scattergeo"
          },
          {
           "geo": "geo",
           "hovertemplate": "<b>%{hovertext}</b><br><br>city_name=Salzburg<br>year_participation=2019<br>cumsum=%{marker.size}<br>lat=%{lat}<br>lon=%{lon}<extra></extra>",
           "hovertext": [
            "Salzburg"
           ],
           "lat": [
            47.798134600000004
           ],
           "legendgroup": "Salzburg",
           "lon": [
            13.046480599999999
           ],
           "marker": {
            "color": "#00cc96",
            "size": [
             17
            ],
            "sizemode": "area",
            "sizeref": 0.45
           },
           "name": "Salzburg",
           "showlegend": true,
           "type": "scattergeo"
          },
          {
           "geo": "geo",
           "hovertemplate": "<b>%{hovertext}</b><br><br>city_name=Bern<br>year_participation=2019<br>cumsum=%{marker.size}<br>lat=%{lat}<br>lon=%{lon}<extra></extra>",
           "hovertext": [
            "Bern"
           ],
           "lat": [
            46.9482713
           ],
           "legendgroup": "Bern",
           "lon": [
            7.4514512
           ],
           "marker": {
            "color": "#FF6692",
            "size": [
             16
            ],
            "sizemode": "area",
            "sizeref": 0.45
           },
           "name": "Bern",
           "showlegend": true,
           "type": "scattergeo"
          },
          {
           "geo": "geo",
           "hovertemplate": "<b>%{hovertext}</b><br><br>city_name=Köln<br>year_participation=2019<br>cumsum=%{marker.size}<br>lat=%{lat}<br>lon=%{lon}<extra></extra>",
           "hovertext": [
            "Köln"
           ],
           "lat": [
            50.938361
           ],
           "legendgroup": "Köln",
           "lon": [
            6.959974000000001
           ],
           "marker": {
            "color": "#00cc96",
            "size": [
             17
            ],
            "sizemode": "area",
            "sizeref": 0.45
           },
           "name": "Köln",
           "showlegend": true,
           "type": "scattergeo"
          },
          {
           "geo": "geo",
           "hovertemplate": "<b>%{hovertext}</b><br><br>city_name=Leipzig<br>year_participation=2019<br>cumsum=%{marker.size}<br>lat=%{lat}<br>lon=%{lon}<extra></extra>",
           "hovertext": [
            "Leipzig"
           ],
           "lat": [
            51.3406321
           ],
           "legendgroup": "Leipzig",
           "lon": [
            12.3747329
           ],
           "marker": {
            "color": "#00cc96",
            "size": [
             14
            ],
            "sizemode": "area",
            "sizeref": 0.45
           },
           "name": "Leipzig",
           "showlegend": true,
           "type": "scattergeo"
          },
          {
           "geo": "geo",
           "hovertemplate": "<b>%{hovertext}</b><br><br>city_name=Bamberg<br>year_participation=2019<br>cumsum=%{marker.size}<br>lat=%{lat}<br>lon=%{lon}<extra></extra>",
           "hovertext": [
            "Bamberg"
           ],
           "lat": [
            49.8916044
           ],
           "legendgroup": "Bamberg",
           "lon": [
            10.8868478
           ],
           "marker": {
            "color": "#FFA15A",
            "size": [
             3
            ],
            "sizemode": "area",
            "sizeref": 0.45
           },
           "name": "Bamberg",
           "showlegend": true,
           "type": "scattergeo"
          },
          {
           "geo": "geo",
           "hovertemplate": "<b>%{hovertext}</b><br><br>city_name=Freidorf (Kanton Thurgau)<br>year_participation=2019<br>cumsum=%{marker.size}<br>lat=%{lat}<br>lon=%{lon}<extra></extra>",
           "hovertext": [
            "Freidorf (Kanton Thurgau)"
           ],
           "lat": [
            47.48598079999999
           ],
           "legendgroup": "Freidorf (Kanton Thurgau)",
           "lon": [
            9.3987035
           ],
           "marker": {
            "color": "#ab63fa",
            "size": [
             1
            ],
            "sizemode": "area",
            "sizeref": 0.45
           },
           "name": "Freidorf (Kanton Thurgau)",
           "showlegend": true,
           "type": "scattergeo"
          },
          {
           "geo": "geo",
           "hovertemplate": "<b>%{hovertext}</b><br><br>city_name=Hannover<br>year_participation=2019<br>cumsum=%{marker.size}<br>lat=%{lat}<br>lon=%{lon}<extra></extra>",
           "hovertext": [
            "Hannover"
           ],
           "lat": [
            52.374477899999995
           ],
           "legendgroup": "Hannover",
           "lon": [
            9.738553199999998
           ],
           "marker": {
            "color": "#FFA15A",
            "size": [
             1
            ],
            "sizemode": "area",
            "sizeref": 0.45
           },
           "name": "Hannover",
           "showlegend": true,
           "type": "scattergeo"
          }
         ],
         "name": "2019"
        },
        {
         "data": [
          {
           "geo": "geo",
           "hovertemplate": "<b>%{hovertext}</b><br><br>city_name=Wien<br>year_participation=2020<br>cumsum=%{marker.size}<br>lat=%{lat}<br>lon=%{lon}<extra></extra>",
           "hovertext": [
            "Wien"
           ],
           "lat": [
            48.2083537
           ],
           "legendgroup": "Wien",
           "lon": [
            16.372504199999998
           ],
           "marker": {
            "color": "#00cc96",
            "size": [
             90
            ],
            "sizemode": "area",
            "sizeref": 0.45
           },
           "name": "Wien",
           "showlegend": true,
           "type": "scattergeo"
          },
          {
           "geo": "geo",
           "hovertemplate": "<b>%{hovertext}</b><br><br>city_name=Hamburg<br>year_participation=2020<br>cumsum=%{marker.size}<br>lat=%{lat}<br>lon=%{lon}<extra></extra>",
           "hovertext": [
            "Hamburg"
           ],
           "lat": [
            53.543764100000004
           ],
           "legendgroup": "Hamburg",
           "lon": [
            10.009913300000001
           ],
           "marker": {
            "color": "#FF97FF",
            "size": [
             39
            ],
            "sizemode": "area",
            "sizeref": 0.45
           },
           "name": "Hamburg",
           "showlegend": true,
           "type": "scattergeo"
          },
          {
           "geo": "geo",
           "hovertemplate": "<b>%{hovertext}</b><br><br>city_name=Zürich<br>year_participation=2020<br>cumsum=%{marker.size}<br>lat=%{lat}<br>lon=%{lon}<extra></extra>",
           "hovertext": [
            "Zürich"
           ],
           "lat": [
            47.3723941
           ],
           "legendgroup": "Zürich",
           "lon": [
            8.5423328
           ],
           "marker": {
            "color": "#FECB52",
            "size": [
             43
            ],
            "sizemode": "area",
            "sizeref": 0.45
           },
           "name": "Zürich",
           "showlegend": true,
           "type": "scattergeo"
          },
          {
           "geo": "geo",
           "hovertemplate": "<b>%{hovertext}</b><br><br>city_name=Bern<br>year_participation=2020<br>cumsum=%{marker.size}<br>lat=%{lat}<br>lon=%{lon}<extra></extra>",
           "hovertext": [
            "Bern"
           ],
           "lat": [
            46.9482713
           ],
           "legendgroup": "Bern",
           "lon": [
            7.4514512
           ],
           "marker": {
            "color": "#FF6692",
            "size": [
             17
            ],
            "sizemode": "area",
            "sizeref": 0.45
           },
           "name": "Bern",
           "showlegend": true,
           "type": "scattergeo"
          },
          {
           "geo": "geo",
           "hovertemplate": "<b>%{hovertext}</b><br><br>city_name=Köln<br>year_participation=2020<br>cumsum=%{marker.size}<br>lat=%{lat}<br>lon=%{lon}<extra></extra>",
           "hovertext": [
            "Köln"
           ],
           "lat": [
            50.938361
           ],
           "legendgroup": "Köln",
           "lon": [
            6.959974000000001
           ],
           "marker": {
            "color": "#00cc96",
            "size": [
             18
            ],
            "sizemode": "area",
            "sizeref": 0.45
           },
           "name": "Köln",
           "showlegend": true,
           "type": "scattergeo"
          },
          {
           "geo": "geo",
           "hovertemplate": "<b>%{hovertext}</b><br><br>city_name=Innsbruck<br>year_participation=2020<br>cumsum=%{marker.size}<br>lat=%{lat}<br>lon=%{lon}<extra></extra>",
           "hovertext": [
            "Innsbruck"
           ],
           "lat": [
            47.265429600000004
           ],
           "legendgroup": "Innsbruck",
           "lon": [
            11.392768499999999
           ],
           "marker": {
            "color": "#FF6692",
            "size": [
             6
            ],
            "sizemode": "area",
            "sizeref": 0.45
           },
           "name": "Innsbruck",
           "showlegend": true,
           "type": "scattergeo"
          },
          {
           "geo": "geo",
           "hovertemplate": "<b>%{hovertext}</b><br><br>city_name=Leipzig<br>year_participation=2020<br>cumsum=%{marker.size}<br>lat=%{lat}<br>lon=%{lon}<extra></extra>",
           "hovertext": [
            "Leipzig"
           ],
           "lat": [
            51.3406321
           ],
           "legendgroup": "Leipzig",
           "lon": [
            12.3747329
           ],
           "marker": {
            "color": "#00cc96",
            "size": [
             15
            ],
            "sizemode": "area",
            "sizeref": 0.45
           },
           "name": "Leipzig",
           "showlegend": true,
           "type": "scattergeo"
          },
          {
           "geo": "geo",
           "hovertemplate": "<b>%{hovertext}</b><br><br>city_name=Biel/Bienne<br>year_participation=2020<br>cumsum=%{marker.size}<br>lat=%{lat}<br>lon=%{lon}<extra></extra>",
           "hovertext": [
            "Biel/Bienne"
           ],
           "lat": [
            47.140207700000005
           ],
           "legendgroup": "Biel/Bienne",
           "lon": [
            7.243902900000001
           ],
           "marker": {
            "color": "#FECB52",
            "size": [
             3
            ],
            "sizemode": "area",
            "sizeref": 0.45
           },
           "name": "Biel/Bienne",
           "showlegend": true,
           "type": "scattergeo"
          },
          {
           "geo": "geo",
           "hovertemplate": "<b>%{hovertext}</b><br><br>city_name=Braunschweig<br>year_participation=2020<br>cumsum=%{marker.size}<br>lat=%{lat}<br>lon=%{lon}<extra></extra>",
           "hovertext": [
            "Braunschweig"
           ],
           "lat": [
            52.26465770000001
           ],
           "legendgroup": "Braunschweig",
           "lon": [
            10.523606599999999
           ],
           "marker": {
            "color": "#19d3f3",
            "size": [
             1
            ],
            "sizemode": "area",
            "sizeref": 0.45
           },
           "name": "Braunschweig",
           "showlegend": true,
           "type": "scattergeo"
          },
          {
           "geo": "geo",
           "hovertemplate": "<b>%{hovertext}</b><br><br>city_name=Neu Meteln<br>year_participation=2020<br>cumsum=%{marker.size}<br>lat=%{lat}<br>lon=%{lon}<extra></extra>",
           "hovertext": [
            "Neu Meteln"
           ],
           "lat": [
            53.763130000000004
           ],
           "legendgroup": "Neu Meteln",
           "lon": [
            11.3609826
           ],
           "marker": {
            "color": "#FF6692",
            "size": [
             1
            ],
            "sizemode": "area",
            "sizeref": 0.45
           },
           "name": "Neu Meteln",
           "showlegend": true,
           "type": "scattergeo"
          },
          {
           "geo": "geo",
           "hovertemplate": "<b>%{hovertext}</b><br><br>city_name=Straßengel<br>year_participation=2020<br>cumsum=%{marker.size}<br>lat=%{lat}<br>lon=%{lon}<extra></extra>",
           "hovertext": [
            "Straßengel"
           ],
           "lat": [
            47.1139708
           ],
           "legendgroup": "Straßengel",
           "lon": [
            15.336875599999999
           ],
           "marker": {
            "color": "#B6E880",
            "size": [
             1
            ],
            "sizemode": "area",
            "sizeref": 0.45
           },
           "name": "Straßengel",
           "showlegend": true,
           "type": "scattergeo"
          }
         ],
         "name": "2020"
        }
       ],
       "layout": {
        "geo": {
         "center": {},
         "domain": {
          "x": [
           0,
           1
          ],
          "y": [
           0,
           1
          ]
         },
         "projection": {
          "type": "natural earth"
         }
        },
        "legend": {
         "itemsizing": "constant",
         "title": {
          "text": "city_name"
         },
         "tracegroupgap": 0
        },
        "margin": {
         "t": 60
        },
        "sliders": [
         {
          "active": 0,
          "currentvalue": {
           "prefix": "year_participation="
          },
          "len": 0.9,
          "pad": {
           "b": 10,
           "t": 60
          },
          "steps": [
           {
            "args": [
             [
              "1977"
             ],
             {
              "frame": {
               "duration": 0,
               "redraw": true
              },
              "fromcurrent": true,
              "mode": "immediate",
              "transition": {
               "duration": 0,
               "easing": "linear"
              }
             }
            ],
            "label": "1977",
            "method": "animate"
           },
           {
            "args": [
             [
              "1978"
             ],
             {
              "frame": {
               "duration": 0,
               "redraw": true
              },
              "fromcurrent": true,
              "mode": "immediate",
              "transition": {
               "duration": 0,
               "easing": "linear"
              }
             }
            ],
            "label": "1978",
            "method": "animate"
           },
           {
            "args": [
             [
              "1979"
             ],
             {
              "frame": {
               "duration": 0,
               "redraw": true
              },
              "fromcurrent": true,
              "mode": "immediate",
              "transition": {
               "duration": 0,
               "easing": "linear"
              }
             }
            ],
            "label": "1979",
            "method": "animate"
           },
           {
            "args": [
             [
              "1980"
             ],
             {
              "frame": {
               "duration": 0,
               "redraw": true
              },
              "fromcurrent": true,
              "mode": "immediate",
              "transition": {
               "duration": 0,
               "easing": "linear"
              }
             }
            ],
            "label": "1980",
            "method": "animate"
           },
           {
            "args": [
             [
              "1981"
             ],
             {
              "frame": {
               "duration": 0,
               "redraw": true
              },
              "fromcurrent": true,
              "mode": "immediate",
              "transition": {
               "duration": 0,
               "easing": "linear"
              }
             }
            ],
            "label": "1981",
            "method": "animate"
           },
           {
            "args": [
             [
              "1982"
             ],
             {
              "frame": {
               "duration": 0,
               "redraw": true
              },
              "fromcurrent": true,
              "mode": "immediate",
              "transition": {
               "duration": 0,
               "easing": "linear"
              }
             }
            ],
            "label": "1982",
            "method": "animate"
           },
           {
            "args": [
             [
              "1983"
             ],
             {
              "frame": {
               "duration": 0,
               "redraw": true
              },
              "fromcurrent": true,
              "mode": "immediate",
              "transition": {
               "duration": 0,
               "easing": "linear"
              }
             }
            ],
            "label": "1983",
            "method": "animate"
           },
           {
            "args": [
             [
              "1984"
             ],
             {
              "frame": {
               "duration": 0,
               "redraw": true
              },
              "fromcurrent": true,
              "mode": "immediate",
              "transition": {
               "duration": 0,
               "easing": "linear"
              }
             }
            ],
            "label": "1984",
            "method": "animate"
           },
           {
            "args": [
             [
              "1985"
             ],
             {
              "frame": {
               "duration": 0,
               "redraw": true
              },
              "fromcurrent": true,
              "mode": "immediate",
              "transition": {
               "duration": 0,
               "easing": "linear"
              }
             }
            ],
            "label": "1985",
            "method": "animate"
           },
           {
            "args": [
             [
              "1986"
             ],
             {
              "frame": {
               "duration": 0,
               "redraw": true
              },
              "fromcurrent": true,
              "mode": "immediate",
              "transition": {
               "duration": 0,
               "easing": "linear"
              }
             }
            ],
            "label": "1986",
            "method": "animate"
           },
           {
            "args": [
             [
              "1987"
             ],
             {
              "frame": {
               "duration": 0,
               "redraw": true
              },
              "fromcurrent": true,
              "mode": "immediate",
              "transition": {
               "duration": 0,
               "easing": "linear"
              }
             }
            ],
            "label": "1987",
            "method": "animate"
           },
           {
            "args": [
             [
              "1988"
             ],
             {
              "frame": {
               "duration": 0,
               "redraw": true
              },
              "fromcurrent": true,
              "mode": "immediate",
              "transition": {
               "duration": 0,
               "easing": "linear"
              }
             }
            ],
            "label": "1988",
            "method": "animate"
           },
           {
            "args": [
             [
              "1989"
             ],
             {
              "frame": {
               "duration": 0,
               "redraw": true
              },
              "fromcurrent": true,
              "mode": "immediate",
              "transition": {
               "duration": 0,
               "easing": "linear"
              }
             }
            ],
            "label": "1989",
            "method": "animate"
           },
           {
            "args": [
             [
              "1990"
             ],
             {
              "frame": {
               "duration": 0,
               "redraw": true
              },
              "fromcurrent": true,
              "mode": "immediate",
              "transition": {
               "duration": 0,
               "easing": "linear"
              }
             }
            ],
            "label": "1990",
            "method": "animate"
           },
           {
            "args": [
             [
              "1991"
             ],
             {
              "frame": {
               "duration": 0,
               "redraw": true
              },
              "fromcurrent": true,
              "mode": "immediate",
              "transition": {
               "duration": 0,
               "easing": "linear"
              }
             }
            ],
            "label": "1991",
            "method": "animate"
           },
           {
            "args": [
             [
              "1992"
             ],
             {
              "frame": {
               "duration": 0,
               "redraw": true
              },
              "fromcurrent": true,
              "mode": "immediate",
              "transition": {
               "duration": 0,
               "easing": "linear"
              }
             }
            ],
            "label": "1992",
            "method": "animate"
           },
           {
            "args": [
             [
              "1993"
             ],
             {
              "frame": {
               "duration": 0,
               "redraw": true
              },
              "fromcurrent": true,
              "mode": "immediate",
              "transition": {
               "duration": 0,
               "easing": "linear"
              }
             }
            ],
            "label": "1993",
            "method": "animate"
           },
           {
            "args": [
             [
              "1994"
             ],
             {
              "frame": {
               "duration": 0,
               "redraw": true
              },
              "fromcurrent": true,
              "mode": "immediate",
              "transition": {
               "duration": 0,
               "easing": "linear"
              }
             }
            ],
            "label": "1994",
            "method": "animate"
           },
           {
            "args": [
             [
              "1995"
             ],
             {
              "frame": {
               "duration": 0,
               "redraw": true
              },
              "fromcurrent": true,
              "mode": "immediate",
              "transition": {
               "duration": 0,
               "easing": "linear"
              }
             }
            ],
            "label": "1995",
            "method": "animate"
           },
           {
            "args": [
             [
              "1996"
             ],
             {
              "frame": {
               "duration": 0,
               "redraw": true
              },
              "fromcurrent": true,
              "mode": "immediate",
              "transition": {
               "duration": 0,
               "easing": "linear"
              }
             }
            ],
            "label": "1996",
            "method": "animate"
           },
           {
            "args": [
             [
              "1997"
             ],
             {
              "frame": {
               "duration": 0,
               "redraw": true
              },
              "fromcurrent": true,
              "mode": "immediate",
              "transition": {
               "duration": 0,
               "easing": "linear"
              }
             }
            ],
            "label": "1997",
            "method": "animate"
           },
           {
            "args": [
             [
              "1998"
             ],
             {
              "frame": {
               "duration": 0,
               "redraw": true
              },
              "fromcurrent": true,
              "mode": "immediate",
              "transition": {
               "duration": 0,
               "easing": "linear"
              }
             }
            ],
            "label": "1998",
            "method": "animate"
           },
           {
            "args": [
             [
              "1999"
             ],
             {
              "frame": {
               "duration": 0,
               "redraw": true
              },
              "fromcurrent": true,
              "mode": "immediate",
              "transition": {
               "duration": 0,
               "easing": "linear"
              }
             }
            ],
            "label": "1999",
            "method": "animate"
           },
           {
            "args": [
             [
              "2000"
             ],
             {
              "frame": {
               "duration": 0,
               "redraw": true
              },
              "fromcurrent": true,
              "mode": "immediate",
              "transition": {
               "duration": 0,
               "easing": "linear"
              }
             }
            ],
            "label": "2000",
            "method": "animate"
           },
           {
            "args": [
             [
              "2001"
             ],
             {
              "frame": {
               "duration": 0,
               "redraw": true
              },
              "fromcurrent": true,
              "mode": "immediate",
              "transition": {
               "duration": 0,
               "easing": "linear"
              }
             }
            ],
            "label": "2001",
            "method": "animate"
           },
           {
            "args": [
             [
              "2002"
             ],
             {
              "frame": {
               "duration": 0,
               "redraw": true
              },
              "fromcurrent": true,
              "mode": "immediate",
              "transition": {
               "duration": 0,
               "easing": "linear"
              }
             }
            ],
            "label": "2002",
            "method": "animate"
           },
           {
            "args": [
             [
              "2003"
             ],
             {
              "frame": {
               "duration": 0,
               "redraw": true
              },
              "fromcurrent": true,
              "mode": "immediate",
              "transition": {
               "duration": 0,
               "easing": "linear"
              }
             }
            ],
            "label": "2003",
            "method": "animate"
           },
           {
            "args": [
             [
              "2004"
             ],
             {
              "frame": {
               "duration": 0,
               "redraw": true
              },
              "fromcurrent": true,
              "mode": "immediate",
              "transition": {
               "duration": 0,
               "easing": "linear"
              }
             }
            ],
            "label": "2004",
            "method": "animate"
           },
           {
            "args": [
             [
              "2005"
             ],
             {
              "frame": {
               "duration": 0,
               "redraw": true
              },
              "fromcurrent": true,
              "mode": "immediate",
              "transition": {
               "duration": 0,
               "easing": "linear"
              }
             }
            ],
            "label": "2005",
            "method": "animate"
           },
           {
            "args": [
             [
              "2006"
             ],
             {
              "frame": {
               "duration": 0,
               "redraw": true
              },
              "fromcurrent": true,
              "mode": "immediate",
              "transition": {
               "duration": 0,
               "easing": "linear"
              }
             }
            ],
            "label": "2006",
            "method": "animate"
           },
           {
            "args": [
             [
              "2007"
             ],
             {
              "frame": {
               "duration": 0,
               "redraw": true
              },
              "fromcurrent": true,
              "mode": "immediate",
              "transition": {
               "duration": 0,
               "easing": "linear"
              }
             }
            ],
            "label": "2007",
            "method": "animate"
           },
           {
            "args": [
             [
              "2008"
             ],
             {
              "frame": {
               "duration": 0,
               "redraw": true
              },
              "fromcurrent": true,
              "mode": "immediate",
              "transition": {
               "duration": 0,
               "easing": "linear"
              }
             }
            ],
            "label": "2008",
            "method": "animate"
           },
           {
            "args": [
             [
              "2009"
             ],
             {
              "frame": {
               "duration": 0,
               "redraw": true
              },
              "fromcurrent": true,
              "mode": "immediate",
              "transition": {
               "duration": 0,
               "easing": "linear"
              }
             }
            ],
            "label": "2009",
            "method": "animate"
           },
           {
            "args": [
             [
              "2010"
             ],
             {
              "frame": {
               "duration": 0,
               "redraw": true
              },
              "fromcurrent": true,
              "mode": "immediate",
              "transition": {
               "duration": 0,
               "easing": "linear"
              }
             }
            ],
            "label": "2010",
            "method": "animate"
           },
           {
            "args": [
             [
              "2011"
             ],
             {
              "frame": {
               "duration": 0,
               "redraw": true
              },
              "fromcurrent": true,
              "mode": "immediate",
              "transition": {
               "duration": 0,
               "easing": "linear"
              }
             }
            ],
            "label": "2011",
            "method": "animate"
           },
           {
            "args": [
             [
              "2012"
             ],
             {
              "frame": {
               "duration": 0,
               "redraw": true
              },
              "fromcurrent": true,
              "mode": "immediate",
              "transition": {
               "duration": 0,
               "easing": "linear"
              }
             }
            ],
            "label": "2012",
            "method": "animate"
           },
           {
            "args": [
             [
              "2013"
             ],
             {
              "frame": {
               "duration": 0,
               "redraw": true
              },
              "fromcurrent": true,
              "mode": "immediate",
              "transition": {
               "duration": 0,
               "easing": "linear"
              }
             }
            ],
            "label": "2013",
            "method": "animate"
           },
           {
            "args": [
             [
              "2014"
             ],
             {
              "frame": {
               "duration": 0,
               "redraw": true
              },
              "fromcurrent": true,
              "mode": "immediate",
              "transition": {
               "duration": 0,
               "easing": "linear"
              }
             }
            ],
            "label": "2014",
            "method": "animate"
           },
           {
            "args": [
             [
              "2015"
             ],
             {
              "frame": {
               "duration": 0,
               "redraw": true
              },
              "fromcurrent": true,
              "mode": "immediate",
              "transition": {
               "duration": 0,
               "easing": "linear"
              }
             }
            ],
            "label": "2015",
            "method": "animate"
           },
           {
            "args": [
             [
              "2016"
             ],
             {
              "frame": {
               "duration": 0,
               "redraw": true
              },
              "fromcurrent": true,
              "mode": "immediate",
              "transition": {
               "duration": 0,
               "easing": "linear"
              }
             }
            ],
            "label": "2016",
            "method": "animate"
           },
           {
            "args": [
             [
              "2017"
             ],
             {
              "frame": {
               "duration": 0,
               "redraw": true
              },
              "fromcurrent": true,
              "mode": "immediate",
              "transition": {
               "duration": 0,
               "easing": "linear"
              }
             }
            ],
            "label": "2017",
            "method": "animate"
           },
           {
            "args": [
             [
              "2018"
             ],
             {
              "frame": {
               "duration": 0,
               "redraw": true
              },
              "fromcurrent": true,
              "mode": "immediate",
              "transition": {
               "duration": 0,
               "easing": "linear"
              }
             }
            ],
            "label": "2018",
            "method": "animate"
           },
           {
            "args": [
             [
              "2019"
             ],
             {
              "frame": {
               "duration": 0,
               "redraw": true
              },
              "fromcurrent": true,
              "mode": "immediate",
              "transition": {
               "duration": 0,
               "easing": "linear"
              }
             }
            ],
            "label": "2019",
            "method": "animate"
           },
           {
            "args": [
             [
              "2020"
             ],
             {
              "frame": {
               "duration": 0,
               "redraw": true
              },
              "fromcurrent": true,
              "mode": "immediate",
              "transition": {
               "duration": 0,
               "easing": "linear"
              }
             }
            ],
            "label": "2020",
            "method": "animate"
           }
          ],
          "x": 0.1,
          "xanchor": "left",
          "y": 0,
          "yanchor": "top"
         }
        ],
        "template": {
         "data": {
          "bar": [
           {
            "error_x": {
             "color": "#2a3f5f"
            },
            "error_y": {
             "color": "#2a3f5f"
            },
            "marker": {
             "line": {
              "color": "#E5ECF6",
              "width": 0.5
             }
            },
            "type": "bar"
           }
          ],
          "barpolar": [
           {
            "marker": {
             "line": {
              "color": "#E5ECF6",
              "width": 0.5
             }
            },
            "type": "barpolar"
           }
          ],
          "carpet": [
           {
            "aaxis": {
             "endlinecolor": "#2a3f5f",
             "gridcolor": "white",
             "linecolor": "white",
             "minorgridcolor": "white",
             "startlinecolor": "#2a3f5f"
            },
            "baxis": {
             "endlinecolor": "#2a3f5f",
             "gridcolor": "white",
             "linecolor": "white",
             "minorgridcolor": "white",
             "startlinecolor": "#2a3f5f"
            },
            "type": "carpet"
           }
          ],
          "choropleth": [
           {
            "colorbar": {
             "outlinewidth": 0,
             "ticks": ""
            },
            "type": "choropleth"
           }
          ],
          "contour": [
           {
            "colorbar": {
             "outlinewidth": 0,
             "ticks": ""
            },
            "colorscale": [
             [
              0,
              "#0d0887"
             ],
             [
              0.1111111111111111,
              "#46039f"
             ],
             [
              0.2222222222222222,
              "#7201a8"
             ],
             [
              0.3333333333333333,
              "#9c179e"
             ],
             [
              0.4444444444444444,
              "#bd3786"
             ],
             [
              0.5555555555555556,
              "#d8576b"
             ],
             [
              0.6666666666666666,
              "#ed7953"
             ],
             [
              0.7777777777777778,
              "#fb9f3a"
             ],
             [
              0.8888888888888888,
              "#fdca26"
             ],
             [
              1,
              "#f0f921"
             ]
            ],
            "type": "contour"
           }
          ],
          "contourcarpet": [
           {
            "colorbar": {
             "outlinewidth": 0,
             "ticks": ""
            },
            "type": "contourcarpet"
           }
          ],
          "heatmap": [
           {
            "colorbar": {
             "outlinewidth": 0,
             "ticks": ""
            },
            "colorscale": [
             [
              0,
              "#0d0887"
             ],
             [
              0.1111111111111111,
              "#46039f"
             ],
             [
              0.2222222222222222,
              "#7201a8"
             ],
             [
              0.3333333333333333,
              "#9c179e"
             ],
             [
              0.4444444444444444,
              "#bd3786"
             ],
             [
              0.5555555555555556,
              "#d8576b"
             ],
             [
              0.6666666666666666,
              "#ed7953"
             ],
             [
              0.7777777777777778,
              "#fb9f3a"
             ],
             [
              0.8888888888888888,
              "#fdca26"
             ],
             [
              1,
              "#f0f921"
             ]
            ],
            "type": "heatmap"
           }
          ],
          "heatmapgl": [
           {
            "colorbar": {
             "outlinewidth": 0,
             "ticks": ""
            },
            "colorscale": [
             [
              0,
              "#0d0887"
             ],
             [
              0.1111111111111111,
              "#46039f"
             ],
             [
              0.2222222222222222,
              "#7201a8"
             ],
             [
              0.3333333333333333,
              "#9c179e"
             ],
             [
              0.4444444444444444,
              "#bd3786"
             ],
             [
              0.5555555555555556,
              "#d8576b"
             ],
             [
              0.6666666666666666,
              "#ed7953"
             ],
             [
              0.7777777777777778,
              "#fb9f3a"
             ],
             [
              0.8888888888888888,
              "#fdca26"
             ],
             [
              1,
              "#f0f921"
             ]
            ],
            "type": "heatmapgl"
           }
          ],
          "histogram": [
           {
            "marker": {
             "colorbar": {
              "outlinewidth": 0,
              "ticks": ""
             }
            },
            "type": "histogram"
           }
          ],
          "histogram2d": [
           {
            "colorbar": {
             "outlinewidth": 0,
             "ticks": ""
            },
            "colorscale": [
             [
              0,
              "#0d0887"
             ],
             [
              0.1111111111111111,
              "#46039f"
             ],
             [
              0.2222222222222222,
              "#7201a8"
             ],
             [
              0.3333333333333333,
              "#9c179e"
             ],
             [
              0.4444444444444444,
              "#bd3786"
             ],
             [
              0.5555555555555556,
              "#d8576b"
             ],
             [
              0.6666666666666666,
              "#ed7953"
             ],
             [
              0.7777777777777778,
              "#fb9f3a"
             ],
             [
              0.8888888888888888,
              "#fdca26"
             ],
             [
              1,
              "#f0f921"
             ]
            ],
            "type": "histogram2d"
           }
          ],
          "histogram2dcontour": [
           {
            "colorbar": {
             "outlinewidth": 0,
             "ticks": ""
            },
            "colorscale": [
             [
              0,
              "#0d0887"
             ],
             [
              0.1111111111111111,
              "#46039f"
             ],
             [
              0.2222222222222222,
              "#7201a8"
             ],
             [
              0.3333333333333333,
              "#9c179e"
             ],
             [
              0.4444444444444444,
              "#bd3786"
             ],
             [
              0.5555555555555556,
              "#d8576b"
             ],
             [
              0.6666666666666666,
              "#ed7953"
             ],
             [
              0.7777777777777778,
              "#fb9f3a"
             ],
             [
              0.8888888888888888,
              "#fdca26"
             ],
             [
              1,
              "#f0f921"
             ]
            ],
            "type": "histogram2dcontour"
           }
          ],
          "mesh3d": [
           {
            "colorbar": {
             "outlinewidth": 0,
             "ticks": ""
            },
            "type": "mesh3d"
           }
          ],
          "parcoords": [
           {
            "line": {
             "colorbar": {
              "outlinewidth": 0,
              "ticks": ""
             }
            },
            "type": "parcoords"
           }
          ],
          "pie": [
           {
            "automargin": true,
            "type": "pie"
           }
          ],
          "scatter": [
           {
            "marker": {
             "colorbar": {
              "outlinewidth": 0,
              "ticks": ""
             }
            },
            "type": "scatter"
           }
          ],
          "scatter3d": [
           {
            "line": {
             "colorbar": {
              "outlinewidth": 0,
              "ticks": ""
             }
            },
            "marker": {
             "colorbar": {
              "outlinewidth": 0,
              "ticks": ""
             }
            },
            "type": "scatter3d"
           }
          ],
          "scattercarpet": [
           {
            "marker": {
             "colorbar": {
              "outlinewidth": 0,
              "ticks": ""
             }
            },
            "type": "scattercarpet"
           }
          ],
          "scattergeo": [
           {
            "marker": {
             "colorbar": {
              "outlinewidth": 0,
              "ticks": ""
             }
            },
            "type": "scattergeo"
           }
          ],
          "scattergl": [
           {
            "marker": {
             "colorbar": {
              "outlinewidth": 0,
              "ticks": ""
             }
            },
            "type": "scattergl"
           }
          ],
          "scattermapbox": [
           {
            "marker": {
             "colorbar": {
              "outlinewidth": 0,
              "ticks": ""
             }
            },
            "type": "scattermapbox"
           }
          ],
          "scatterpolar": [
           {
            "marker": {
             "colorbar": {
              "outlinewidth": 0,
              "ticks": ""
             }
            },
            "type": "scatterpolar"
           }
          ],
          "scatterpolargl": [
           {
            "marker": {
             "colorbar": {
              "outlinewidth": 0,
              "ticks": ""
             }
            },
            "type": "scatterpolargl"
           }
          ],
          "scatterternary": [
           {
            "marker": {
             "colorbar": {
              "outlinewidth": 0,
              "ticks": ""
             }
            },
            "type": "scatterternary"
           }
          ],
          "surface": [
           {
            "colorbar": {
             "outlinewidth": 0,
             "ticks": ""
            },
            "colorscale": [
             [
              0,
              "#0d0887"
             ],
             [
              0.1111111111111111,
              "#46039f"
             ],
             [
              0.2222222222222222,
              "#7201a8"
             ],
             [
              0.3333333333333333,
              "#9c179e"
             ],
             [
              0.4444444444444444,
              "#bd3786"
             ],
             [
              0.5555555555555556,
              "#d8576b"
             ],
             [
              0.6666666666666666,
              "#ed7953"
             ],
             [
              0.7777777777777778,
              "#fb9f3a"
             ],
             [
              0.8888888888888888,
              "#fdca26"
             ],
             [
              1,
              "#f0f921"
             ]
            ],
            "type": "surface"
           }
          ],
          "table": [
           {
            "cells": {
             "fill": {
              "color": "#EBF0F8"
             },
             "line": {
              "color": "white"
             }
            },
            "header": {
             "fill": {
              "color": "#C8D4E3"
             },
             "line": {
              "color": "white"
             }
            },
            "type": "table"
           }
          ]
         },
         "layout": {
          "annotationdefaults": {
           "arrowcolor": "#2a3f5f",
           "arrowhead": 0,
           "arrowwidth": 1
          },
          "coloraxis": {
           "colorbar": {
            "outlinewidth": 0,
            "ticks": ""
           }
          },
          "colorscale": {
           "diverging": [
            [
             0,
             "#8e0152"
            ],
            [
             0.1,
             "#c51b7d"
            ],
            [
             0.2,
             "#de77ae"
            ],
            [
             0.3,
             "#f1b6da"
            ],
            [
             0.4,
             "#fde0ef"
            ],
            [
             0.5,
             "#f7f7f7"
            ],
            [
             0.6,
             "#e6f5d0"
            ],
            [
             0.7,
             "#b8e186"
            ],
            [
             0.8,
             "#7fbc41"
            ],
            [
             0.9,
             "#4d9221"
            ],
            [
             1,
             "#276419"
            ]
           ],
           "sequential": [
            [
             0,
             "#0d0887"
            ],
            [
             0.1111111111111111,
             "#46039f"
            ],
            [
             0.2222222222222222,
             "#7201a8"
            ],
            [
             0.3333333333333333,
             "#9c179e"
            ],
            [
             0.4444444444444444,
             "#bd3786"
            ],
            [
             0.5555555555555556,
             "#d8576b"
            ],
            [
             0.6666666666666666,
             "#ed7953"
            ],
            [
             0.7777777777777778,
             "#fb9f3a"
            ],
            [
             0.8888888888888888,
             "#fdca26"
            ],
            [
             1,
             "#f0f921"
            ]
           ],
           "sequentialminus": [
            [
             0,
             "#0d0887"
            ],
            [
             0.1111111111111111,
             "#46039f"
            ],
            [
             0.2222222222222222,
             "#7201a8"
            ],
            [
             0.3333333333333333,
             "#9c179e"
            ],
            [
             0.4444444444444444,
             "#bd3786"
            ],
            [
             0.5555555555555556,
             "#d8576b"
            ],
            [
             0.6666666666666666,
             "#ed7953"
            ],
            [
             0.7777777777777778,
             "#fb9f3a"
            ],
            [
             0.8888888888888888,
             "#fdca26"
            ],
            [
             1,
             "#f0f921"
            ]
           ]
          },
          "colorway": [
           "#636efa",
           "#EF553B",
           "#00cc96",
           "#ab63fa",
           "#FFA15A",
           "#19d3f3",
           "#FF6692",
           "#B6E880",
           "#FF97FF",
           "#FECB52"
          ],
          "font": {
           "color": "#2a3f5f"
          },
          "geo": {
           "bgcolor": "white",
           "lakecolor": "white",
           "landcolor": "#E5ECF6",
           "showlakes": true,
           "showland": true,
           "subunitcolor": "white"
          },
          "hoverlabel": {
           "align": "left"
          },
          "hovermode": "closest",
          "mapbox": {
           "style": "light"
          },
          "paper_bgcolor": "white",
          "plot_bgcolor": "#E5ECF6",
          "polar": {
           "angularaxis": {
            "gridcolor": "white",
            "linecolor": "white",
            "ticks": ""
           },
           "bgcolor": "#E5ECF6",
           "radialaxis": {
            "gridcolor": "white",
            "linecolor": "white",
            "ticks": ""
           }
          },
          "scene": {
           "xaxis": {
            "backgroundcolor": "#E5ECF6",
            "gridcolor": "white",
            "gridwidth": 2,
            "linecolor": "white",
            "showbackground": true,
            "ticks": "",
            "zerolinecolor": "white"
           },
           "yaxis": {
            "backgroundcolor": "#E5ECF6",
            "gridcolor": "white",
            "gridwidth": 2,
            "linecolor": "white",
            "showbackground": true,
            "ticks": "",
            "zerolinecolor": "white"
           },
           "zaxis": {
            "backgroundcolor": "#E5ECF6",
            "gridcolor": "white",
            "gridwidth": 2,
            "linecolor": "white",
            "showbackground": true,
            "ticks": "",
            "zerolinecolor": "white"
           }
          },
          "shapedefaults": {
           "line": {
            "color": "#2a3f5f"
           }
          },
          "ternary": {
           "aaxis": {
            "gridcolor": "white",
            "linecolor": "white",
            "ticks": ""
           },
           "baxis": {
            "gridcolor": "white",
            "linecolor": "white",
            "ticks": ""
           },
           "bgcolor": "#E5ECF6",
           "caxis": {
            "gridcolor": "white",
            "linecolor": "white",
            "ticks": ""
           }
          },
          "title": {
           "x": 0.05
          },
          "xaxis": {
           "automargin": true,
           "gridcolor": "white",
           "linecolor": "white",
           "ticks": "",
           "title": {
            "standoff": 15
           },
           "zerolinecolor": "white",
           "zerolinewidth": 2
          },
          "yaxis": {
           "automargin": true,
           "gridcolor": "white",
           "linecolor": "white",
           "ticks": "",
           "title": {
            "standoff": 15
           },
           "zerolinecolor": "white",
           "zerolinewidth": 2
          }
         }
        },
        "updatemenus": [
         {
          "buttons": [
           {
            "args": [
             null,
             {
              "frame": {
               "duration": 500,
               "redraw": true
              },
              "fromcurrent": true,
              "mode": "immediate",
              "transition": {
               "duration": 500,
               "easing": "linear"
              }
             }
            ],
            "label": "&#9654;",
            "method": "animate"
           },
           {
            "args": [
             [
              null
             ],
             {
              "frame": {
               "duration": 0,
               "redraw": true
              },
              "fromcurrent": true,
              "mode": "immediate",
              "transition": {
               "duration": 0,
               "easing": "linear"
              }
             }
            ],
            "label": "&#9724;",
            "method": "animate"
           }
          ],
          "direction": "left",
          "pad": {
           "r": 10,
           "t": 70
          },
          "showactive": false,
          "type": "buttons",
          "x": 0.1,
          "xanchor": "right",
          "y": 0,
          "yanchor": "top"
         }
        ]
       }
      },
      "text/html": [
       "<div>\n",
       "        \n",
       "        \n",
       "            <div id=\"6eec07f7-2ca3-4149-b1e8-c58547785d82\" class=\"plotly-graph-div\" style=\"height:525px; width:100%;\"></div>\n",
       "            <script type=\"text/javascript\">\n",
       "                require([\"plotly\"], function(Plotly) {\n",
       "                    window.PLOTLYENV=window.PLOTLYENV || {};\n",
       "                    \n",
       "                if (document.getElementById(\"6eec07f7-2ca3-4149-b1e8-c58547785d82\")) {\n",
       "                    Plotly.newPlot(\n",
       "                        '6eec07f7-2ca3-4149-b1e8-c58547785d82',\n",
       "                        [{\"geo\": \"geo\", \"hovertemplate\": \"<b>%{hovertext}</b><br><br>city_name=Bottmingen<br>year_participation=1977<br>cumsum=%{marker.size}<br>lat=%{lat}<br>lon=%{lon}<extra></extra>\", \"hovertext\": [\"Bottmingen\"], \"lat\": [47.5234501], \"legendgroup\": \"Bottmingen\", \"lon\": [7.5748727], \"marker\": {\"color\": \"#636efa\", \"size\": [1], \"sizemode\": \"area\", \"sizeref\": 0.45}, \"name\": \"Bottmingen\", \"showlegend\": true, \"type\": \"scattergeo\"}, {\"geo\": \"geo\", \"hovertemplate\": \"<b>%{hovertext}</b><br><br>city_name=Weissenau<br>year_participation=1977<br>cumsum=%{marker.size}<br>lat=%{lat}<br>lon=%{lon}<extra></extra>\", \"hovertext\": [\"Weissenau\"], \"lat\": [46.671719], \"legendgroup\": \"Weissenau\", \"lon\": [7.8326554], \"marker\": {\"color\": \"#EF553B\", \"size\": [1], \"sizemode\": \"area\", \"sizeref\": 0.45}, \"name\": \"Weissenau\", \"showlegend\": true, \"type\": \"scattergeo\"}, {\"geo\": \"geo\", \"hovertemplate\": \"<b>%{hovertext}</b><br><br>city_name=Wien<br>year_participation=1977<br>cumsum=%{marker.size}<br>lat=%{lat}<br>lon=%{lon}<extra></extra>\", \"hovertext\": [\"Wien\"], \"lat\": [48.2083537], \"legendgroup\": \"Wien\", \"lon\": [16.372504199999998], \"marker\": {\"color\": \"#00cc96\", \"size\": [3], \"sizemode\": \"area\", \"sizeref\": 0.45}, \"name\": \"Wien\", \"showlegend\": true, \"type\": \"scattergeo\"}, {\"geo\": \"geo\", \"hovertemplate\": \"<b>%{hovertext}</b><br><br>city_name=Klagenfurt<br>year_participation=1977<br>cumsum=%{marker.size}<br>lat=%{lat}<br>lon=%{lon}<extra></extra>\", \"hovertext\": [\"Klagenfurt\"], \"lat\": [46.6228162], \"legendgroup\": \"Klagenfurt\", \"lon\": [14.307960399999999], \"marker\": {\"color\": \"#ab63fa\", \"size\": [1], \"sizemode\": \"area\", \"sizeref\": 0.45}, \"name\": \"Klagenfurt\", \"showlegend\": true, \"type\": \"scattergeo\"}, {\"geo\": \"geo\", \"hovertemplate\": \"<b>%{hovertext}</b><br><br>city_name=Villach<br>year_participation=1977<br>cumsum=%{marker.size}<br>lat=%{lat}<br>lon=%{lon}<extra></extra>\", \"hovertext\": [\"Villach\"], \"lat\": [46.6167284], \"legendgroup\": \"Villach\", \"lon\": [13.850026800000002], \"marker\": {\"color\": \"#FFA15A\", \"size\": [1], \"sizemode\": \"area\", \"sizeref\": 0.45}, \"name\": \"Villach\", \"showlegend\": true, \"type\": \"scattergeo\"}, {\"geo\": \"geo\", \"hovertemplate\": \"<b>%{hovertext}</b><br><br>city_name=Tamsweg<br>year_participation=1977<br>cumsum=%{marker.size}<br>lat=%{lat}<br>lon=%{lon}<extra></extra>\", \"hovertext\": [\"Tamsweg\"], \"lat\": [47.1261065], \"legendgroup\": \"Tamsweg\", \"lon\": [13.810381699999999], \"marker\": {\"color\": \"#19d3f3\", \"size\": [1], \"sizemode\": \"area\", \"sizeref\": 0.45}, \"name\": \"Tamsweg\", \"showlegend\": true, \"type\": \"scattergeo\"}, {\"geo\": \"geo\", \"hovertemplate\": \"<b>%{hovertext}</b><br><br>city_name=Ottobrunn<br>year_participation=1977<br>cumsum=%{marker.size}<br>lat=%{lat}<br>lon=%{lon}<extra></extra>\", \"hovertext\": [\"Ottobrunn\"], \"lat\": [48.0643823], \"legendgroup\": \"Ottobrunn\", \"lon\": [11.667504199999998], \"marker\": {\"color\": \"#FF6692\", \"size\": [1], \"sizemode\": \"area\", \"sizeref\": 0.45}, \"name\": \"Ottobrunn\", \"showlegend\": true, \"type\": \"scattergeo\"}, {\"geo\": \"geo\", \"hovertemplate\": \"<b>%{hovertext}</b><br><br>city_name=M\\u00fcnchen<br>year_participation=1977<br>cumsum=%{marker.size}<br>lat=%{lat}<br>lon=%{lon}<extra></extra>\", \"hovertext\": [\"M\\u00fcnchen\"], \"lat\": [48.1371079], \"legendgroup\": \"M\\u00fcnchen\", \"lon\": [11.575382199999998], \"marker\": {\"color\": \"#B6E880\", \"size\": [3], \"sizemode\": \"area\", \"sizeref\": 0.45}, \"name\": \"M\\u00fcnchen\", \"showlegend\": true, \"type\": \"scattergeo\"}, {\"geo\": \"geo\", \"hovertemplate\": \"<b>%{hovertext}</b><br><br>city_name=Hamburg<br>year_participation=1977<br>cumsum=%{marker.size}<br>lat=%{lat}<br>lon=%{lon}<extra></extra>\", \"hovertext\": [\"Hamburg\"], \"lat\": [53.543764100000004], \"legendgroup\": \"Hamburg\", \"lon\": [10.009913300000001], \"marker\": {\"color\": \"#FF97FF\", \"size\": [1], \"sizemode\": \"area\", \"sizeref\": 0.45}, \"name\": \"Hamburg\", \"showlegend\": true, \"type\": \"scattergeo\"}, {\"geo\": \"geo\", \"hovertemplate\": \"<b>%{hovertext}</b><br><br>city_name=Z\\u00fcrich<br>year_participation=1977<br>cumsum=%{marker.size}<br>lat=%{lat}<br>lon=%{lon}<extra></extra>\", \"hovertext\": [\"Z\\u00fcrich\"], \"lat\": [47.3723941], \"legendgroup\": \"Z\\u00fcrich\", \"lon\": [8.5423328], \"marker\": {\"color\": \"#FECB52\", \"size\": [1], \"sizemode\": \"area\", \"sizeref\": 0.45}, \"name\": \"Z\\u00fcrich\", \"showlegend\": true, \"type\": \"scattergeo\"}, {\"geo\": \"geo\", \"hovertemplate\": \"<b>%{hovertext}</b><br><br>city_name=M\\u00fcnster<br>year_participation=1977<br>cumsum=%{marker.size}<br>lat=%{lat}<br>lon=%{lon}<extra></extra>\", \"hovertext\": [\"M\\u00fcnster\"], \"lat\": [51.9625101], \"legendgroup\": \"M\\u00fcnster\", \"lon\": [7.6251879], \"marker\": {\"color\": \"#636efa\", \"size\": [1], \"sizemode\": \"area\", \"sizeref\": 0.45}, \"name\": \"M\\u00fcnster\", \"showlegend\": true, \"type\": \"scattergeo\"}, {\"geo\": \"geo\", \"hovertemplate\": \"<b>%{hovertext}</b><br><br>city_name=Berlin<br>year_participation=1977<br>cumsum=%{marker.size}<br>lat=%{lat}<br>lon=%{lon}<extra></extra>\", \"hovertext\": [\"Berlin\"], \"lat\": [52.517036499999996], \"legendgroup\": \"Berlin\", \"lon\": [13.388859900000002], \"marker\": {\"color\": \"#EF553B\", \"size\": [2], \"sizemode\": \"area\", \"sizeref\": 0.45}, \"name\": \"Berlin\", \"showlegend\": true, \"type\": \"scattergeo\"}, {\"geo\": \"geo\", \"hovertemplate\": \"<b>%{hovertext}</b><br><br>city_name=Salzburg<br>year_participation=1977<br>cumsum=%{marker.size}<br>lat=%{lat}<br>lon=%{lon}<extra></extra>\", \"hovertext\": [\"Salzburg\"], \"lat\": [47.798134600000004], \"legendgroup\": \"Salzburg\", \"lon\": [13.046480599999999], \"marker\": {\"color\": \"#00cc96\", \"size\": [1], \"sizemode\": \"area\", \"sizeref\": 0.45}, \"name\": \"Salzburg\", \"showlegend\": true, \"type\": \"scattergeo\"}, {\"geo\": \"geo\", \"hovertemplate\": \"<b>%{hovertext}</b><br><br>city_name=Frankfurt/Main<br>year_participation=1977<br>cumsum=%{marker.size}<br>lat=%{lat}<br>lon=%{lon}<extra></extra>\", \"hovertext\": [\"Frankfurt/Main\"], \"lat\": [50.053763700000005], \"legendgroup\": \"Frankfurt/Main\", \"lon\": [8.637085800000001], \"marker\": {\"color\": \"#ab63fa\", \"size\": [1], \"sizemode\": \"area\", \"sizeref\": 0.45}, \"name\": \"Frankfurt/Main\", \"showlegend\": true, \"type\": \"scattergeo\"}, {\"geo\": \"geo\", \"hovertemplate\": \"<b>%{hovertext}</b><br><br>city_name=D\\u00fcren<br>year_participation=1977<br>cumsum=%{marker.size}<br>lat=%{lat}<br>lon=%{lon}<extra></extra>\", \"hovertext\": [\"D\\u00fcren\"], \"lat\": [50.803168400000004], \"legendgroup\": \"D\\u00fcren\", \"lon\": [6.4820806], \"marker\": {\"color\": \"#FFA15A\", \"size\": [1], \"sizemode\": \"area\", \"sizeref\": 0.45}, \"name\": \"D\\u00fcren\", \"showlegend\": true, \"type\": \"scattergeo\"}, {\"geo\": \"geo\", \"hovertemplate\": \"<b>%{hovertext}</b><br><br>city_name=N\\u00fcrnberg<br>year_participation=1977<br>cumsum=%{marker.size}<br>lat=%{lat}<br>lon=%{lon}<extra></extra>\", \"hovertext\": [\"N\\u00fcrnberg\"], \"lat\": [49.453872], \"legendgroup\": \"N\\u00fcrnberg\", \"lon\": [11.077297999999999], \"marker\": {\"color\": \"#19d3f3\", \"size\": [1], \"sizemode\": \"area\", \"sizeref\": 0.45}, \"name\": \"N\\u00fcrnberg\", \"showlegend\": true, \"type\": \"scattergeo\"}, {\"geo\": \"geo\", \"hovertemplate\": \"<b>%{hovertext}</b><br><br>city_name=Niederbipp<br>year_participation=1977<br>cumsum=%{marker.size}<br>lat=%{lat}<br>lon=%{lon}<extra></extra>\", \"hovertext\": [\"Niederbipp\"], \"lat\": [47.2684936], \"legendgroup\": \"Niederbipp\", \"lon\": [7.693334299999999], \"marker\": {\"color\": \"#FF6692\", \"size\": [1], \"sizemode\": \"area\", \"sizeref\": 0.45}, \"name\": \"Niederbipp\", \"showlegend\": true, \"type\": \"scattergeo\"}],\n",
       "                        {\"geo\": {\"center\": {}, \"domain\": {\"x\": [0.0, 1.0], \"y\": [0.0, 1.0]}, \"projection\": {\"type\": \"natural earth\"}}, \"legend\": {\"itemsizing\": \"constant\", \"title\": {\"text\": \"city_name\"}, \"tracegroupgap\": 0}, \"margin\": {\"t\": 60}, \"sliders\": [{\"active\": 0, \"currentvalue\": {\"prefix\": \"year_participation=\"}, \"len\": 0.9, \"pad\": {\"b\": 10, \"t\": 60}, \"steps\": [{\"args\": [[\"1977\"], {\"frame\": {\"duration\": 0, \"redraw\": true}, \"fromcurrent\": true, \"mode\": \"immediate\", \"transition\": {\"duration\": 0, \"easing\": \"linear\"}}], \"label\": \"1977\", \"method\": \"animate\"}, {\"args\": [[\"1978\"], {\"frame\": {\"duration\": 0, \"redraw\": true}, \"fromcurrent\": true, \"mode\": \"immediate\", \"transition\": {\"duration\": 0, \"easing\": \"linear\"}}], \"label\": \"1978\", \"method\": \"animate\"}, {\"args\": [[\"1979\"], {\"frame\": {\"duration\": 0, \"redraw\": true}, \"fromcurrent\": true, \"mode\": \"immediate\", \"transition\": {\"duration\": 0, \"easing\": \"linear\"}}], \"label\": \"1979\", \"method\": \"animate\"}, {\"args\": [[\"1980\"], {\"frame\": {\"duration\": 0, \"redraw\": true}, \"fromcurrent\": true, \"mode\": \"immediate\", \"transition\": {\"duration\": 0, \"easing\": \"linear\"}}], \"label\": \"1980\", \"method\": \"animate\"}, {\"args\": [[\"1981\"], {\"frame\": {\"duration\": 0, \"redraw\": true}, \"fromcurrent\": true, \"mode\": \"immediate\", \"transition\": {\"duration\": 0, \"easing\": \"linear\"}}], \"label\": \"1981\", \"method\": \"animate\"}, {\"args\": [[\"1982\"], {\"frame\": {\"duration\": 0, \"redraw\": true}, \"fromcurrent\": true, \"mode\": \"immediate\", \"transition\": {\"duration\": 0, \"easing\": \"linear\"}}], \"label\": \"1982\", \"method\": \"animate\"}, {\"args\": [[\"1983\"], {\"frame\": {\"duration\": 0, \"redraw\": true}, \"fromcurrent\": true, \"mode\": \"immediate\", \"transition\": {\"duration\": 0, \"easing\": \"linear\"}}], \"label\": \"1983\", \"method\": \"animate\"}, {\"args\": [[\"1984\"], {\"frame\": {\"duration\": 0, \"redraw\": true}, \"fromcurrent\": true, \"mode\": \"immediate\", \"transition\": {\"duration\": 0, \"easing\": \"linear\"}}], \"label\": \"1984\", \"method\": \"animate\"}, {\"args\": [[\"1985\"], {\"frame\": {\"duration\": 0, \"redraw\": true}, \"fromcurrent\": true, \"mode\": \"immediate\", \"transition\": {\"duration\": 0, \"easing\": \"linear\"}}], \"label\": \"1985\", \"method\": \"animate\"}, {\"args\": [[\"1986\"], {\"frame\": {\"duration\": 0, \"redraw\": true}, \"fromcurrent\": true, \"mode\": \"immediate\", \"transition\": {\"duration\": 0, \"easing\": \"linear\"}}], \"label\": \"1986\", \"method\": \"animate\"}, {\"args\": [[\"1987\"], {\"frame\": {\"duration\": 0, \"redraw\": true}, \"fromcurrent\": true, \"mode\": \"immediate\", \"transition\": {\"duration\": 0, \"easing\": \"linear\"}}], \"label\": \"1987\", \"method\": \"animate\"}, {\"args\": [[\"1988\"], {\"frame\": {\"duration\": 0, \"redraw\": true}, \"fromcurrent\": true, \"mode\": \"immediate\", \"transition\": {\"duration\": 0, \"easing\": \"linear\"}}], \"label\": \"1988\", \"method\": \"animate\"}, {\"args\": [[\"1989\"], {\"frame\": {\"duration\": 0, \"redraw\": true}, \"fromcurrent\": true, \"mode\": \"immediate\", \"transition\": {\"duration\": 0, \"easing\": \"linear\"}}], \"label\": \"1989\", \"method\": \"animate\"}, {\"args\": [[\"1990\"], {\"frame\": {\"duration\": 0, \"redraw\": true}, \"fromcurrent\": true, \"mode\": \"immediate\", \"transition\": {\"duration\": 0, \"easing\": \"linear\"}}], \"label\": \"1990\", \"method\": \"animate\"}, {\"args\": [[\"1991\"], {\"frame\": {\"duration\": 0, \"redraw\": true}, \"fromcurrent\": true, \"mode\": \"immediate\", \"transition\": {\"duration\": 0, \"easing\": \"linear\"}}], \"label\": \"1991\", \"method\": \"animate\"}, {\"args\": [[\"1992\"], {\"frame\": {\"duration\": 0, \"redraw\": true}, \"fromcurrent\": true, \"mode\": \"immediate\", \"transition\": {\"duration\": 0, \"easing\": \"linear\"}}], \"label\": \"1992\", \"method\": \"animate\"}, {\"args\": [[\"1993\"], {\"frame\": {\"duration\": 0, \"redraw\": true}, \"fromcurrent\": true, \"mode\": \"immediate\", \"transition\": {\"duration\": 0, \"easing\": \"linear\"}}], \"label\": \"1993\", \"method\": \"animate\"}, {\"args\": [[\"1994\"], {\"frame\": {\"duration\": 0, \"redraw\": true}, \"fromcurrent\": true, \"mode\": \"immediate\", \"transition\": {\"duration\": 0, \"easing\": \"linear\"}}], \"label\": \"1994\", \"method\": \"animate\"}, {\"args\": [[\"1995\"], {\"frame\": {\"duration\": 0, \"redraw\": true}, \"fromcurrent\": true, \"mode\": \"immediate\", \"transition\": {\"duration\": 0, \"easing\": \"linear\"}}], \"label\": \"1995\", \"method\": \"animate\"}, {\"args\": [[\"1996\"], {\"frame\": {\"duration\": 0, \"redraw\": true}, \"fromcurrent\": true, \"mode\": \"immediate\", \"transition\": {\"duration\": 0, \"easing\": \"linear\"}}], \"label\": \"1996\", \"method\": \"animate\"}, {\"args\": [[\"1997\"], {\"frame\": {\"duration\": 0, \"redraw\": true}, \"fromcurrent\": true, \"mode\": \"immediate\", \"transition\": {\"duration\": 0, \"easing\": \"linear\"}}], \"label\": \"1997\", \"method\": \"animate\"}, {\"args\": [[\"1998\"], {\"frame\": {\"duration\": 0, \"redraw\": true}, \"fromcurrent\": true, \"mode\": \"immediate\", \"transition\": {\"duration\": 0, \"easing\": \"linear\"}}], \"label\": \"1998\", \"method\": \"animate\"}, {\"args\": [[\"1999\"], {\"frame\": {\"duration\": 0, \"redraw\": true}, \"fromcurrent\": true, \"mode\": \"immediate\", \"transition\": {\"duration\": 0, \"easing\": \"linear\"}}], \"label\": \"1999\", \"method\": \"animate\"}, {\"args\": [[\"2000\"], {\"frame\": {\"duration\": 0, \"redraw\": true}, \"fromcurrent\": true, \"mode\": \"immediate\", \"transition\": {\"duration\": 0, \"easing\": \"linear\"}}], \"label\": \"2000\", \"method\": \"animate\"}, {\"args\": [[\"2001\"], {\"frame\": {\"duration\": 0, \"redraw\": true}, \"fromcurrent\": true, \"mode\": \"immediate\", \"transition\": {\"duration\": 0, \"easing\": \"linear\"}}], \"label\": \"2001\", \"method\": \"animate\"}, {\"args\": [[\"2002\"], {\"frame\": {\"duration\": 0, \"redraw\": true}, \"fromcurrent\": true, \"mode\": \"immediate\", \"transition\": {\"duration\": 0, \"easing\": \"linear\"}}], \"label\": \"2002\", \"method\": \"animate\"}, {\"args\": [[\"2003\"], {\"frame\": {\"duration\": 0, \"redraw\": true}, \"fromcurrent\": true, \"mode\": \"immediate\", \"transition\": {\"duration\": 0, \"easing\": \"linear\"}}], \"label\": \"2003\", \"method\": \"animate\"}, {\"args\": [[\"2004\"], {\"frame\": {\"duration\": 0, \"redraw\": true}, \"fromcurrent\": true, \"mode\": \"immediate\", \"transition\": {\"duration\": 0, \"easing\": \"linear\"}}], \"label\": \"2004\", \"method\": \"animate\"}, {\"args\": [[\"2005\"], {\"frame\": {\"duration\": 0, \"redraw\": true}, \"fromcurrent\": true, \"mode\": \"immediate\", \"transition\": {\"duration\": 0, \"easing\": \"linear\"}}], \"label\": \"2005\", \"method\": \"animate\"}, {\"args\": [[\"2006\"], {\"frame\": {\"duration\": 0, \"redraw\": true}, \"fromcurrent\": true, \"mode\": \"immediate\", \"transition\": {\"duration\": 0, \"easing\": \"linear\"}}], \"label\": \"2006\", \"method\": \"animate\"}, {\"args\": [[\"2007\"], {\"frame\": {\"duration\": 0, \"redraw\": true}, \"fromcurrent\": true, \"mode\": \"immediate\", \"transition\": {\"duration\": 0, \"easing\": \"linear\"}}], \"label\": \"2007\", \"method\": \"animate\"}, {\"args\": [[\"2008\"], {\"frame\": {\"duration\": 0, \"redraw\": true}, \"fromcurrent\": true, \"mode\": \"immediate\", \"transition\": {\"duration\": 0, \"easing\": \"linear\"}}], \"label\": \"2008\", \"method\": \"animate\"}, {\"args\": [[\"2009\"], {\"frame\": {\"duration\": 0, \"redraw\": true}, \"fromcurrent\": true, \"mode\": \"immediate\", \"transition\": {\"duration\": 0, \"easing\": \"linear\"}}], \"label\": \"2009\", \"method\": \"animate\"}, {\"args\": [[\"2010\"], {\"frame\": {\"duration\": 0, \"redraw\": true}, \"fromcurrent\": true, \"mode\": \"immediate\", \"transition\": {\"duration\": 0, \"easing\": \"linear\"}}], \"label\": \"2010\", \"method\": \"animate\"}, {\"args\": [[\"2011\"], {\"frame\": {\"duration\": 0, \"redraw\": true}, \"fromcurrent\": true, \"mode\": \"immediate\", \"transition\": {\"duration\": 0, \"easing\": \"linear\"}}], \"label\": \"2011\", \"method\": \"animate\"}, {\"args\": [[\"2012\"], {\"frame\": {\"duration\": 0, \"redraw\": true}, \"fromcurrent\": true, \"mode\": \"immediate\", \"transition\": {\"duration\": 0, \"easing\": \"linear\"}}], \"label\": \"2012\", \"method\": \"animate\"}, {\"args\": [[\"2013\"], {\"frame\": {\"duration\": 0, \"redraw\": true}, \"fromcurrent\": true, \"mode\": \"immediate\", \"transition\": {\"duration\": 0, \"easing\": \"linear\"}}], \"label\": \"2013\", \"method\": \"animate\"}, {\"args\": [[\"2014\"], {\"frame\": {\"duration\": 0, \"redraw\": true}, \"fromcurrent\": true, \"mode\": \"immediate\", \"transition\": {\"duration\": 0, \"easing\": \"linear\"}}], \"label\": \"2014\", \"method\": \"animate\"}, {\"args\": [[\"2015\"], {\"frame\": {\"duration\": 0, \"redraw\": true}, \"fromcurrent\": true, \"mode\": \"immediate\", \"transition\": {\"duration\": 0, \"easing\": \"linear\"}}], \"label\": \"2015\", \"method\": \"animate\"}, {\"args\": [[\"2016\"], {\"frame\": {\"duration\": 0, \"redraw\": true}, \"fromcurrent\": true, \"mode\": \"immediate\", \"transition\": {\"duration\": 0, \"easing\": \"linear\"}}], \"label\": \"2016\", \"method\": \"animate\"}, {\"args\": [[\"2017\"], {\"frame\": {\"duration\": 0, \"redraw\": true}, \"fromcurrent\": true, \"mode\": \"immediate\", \"transition\": {\"duration\": 0, \"easing\": \"linear\"}}], \"label\": \"2017\", \"method\": \"animate\"}, {\"args\": [[\"2018\"], {\"frame\": {\"duration\": 0, \"redraw\": true}, \"fromcurrent\": true, \"mode\": \"immediate\", \"transition\": {\"duration\": 0, \"easing\": \"linear\"}}], \"label\": \"2018\", \"method\": \"animate\"}, {\"args\": [[\"2019\"], {\"frame\": {\"duration\": 0, \"redraw\": true}, \"fromcurrent\": true, \"mode\": \"immediate\", \"transition\": {\"duration\": 0, \"easing\": \"linear\"}}], \"label\": \"2019\", \"method\": \"animate\"}, {\"args\": [[\"2020\"], {\"frame\": {\"duration\": 0, \"redraw\": true}, \"fromcurrent\": true, \"mode\": \"immediate\", \"transition\": {\"duration\": 0, \"easing\": \"linear\"}}], \"label\": \"2020\", \"method\": \"animate\"}], \"x\": 0.1, \"xanchor\": \"left\", \"y\": 0, \"yanchor\": \"top\"}], \"template\": {\"data\": {\"bar\": [{\"error_x\": {\"color\": \"#2a3f5f\"}, \"error_y\": {\"color\": \"#2a3f5f\"}, \"marker\": {\"line\": {\"color\": \"#E5ECF6\", \"width\": 0.5}}, \"type\": \"bar\"}], \"barpolar\": [{\"marker\": {\"line\": {\"color\": \"#E5ECF6\", \"width\": 0.5}}, \"type\": \"barpolar\"}], \"carpet\": [{\"aaxis\": {\"endlinecolor\": \"#2a3f5f\", \"gridcolor\": \"white\", \"linecolor\": \"white\", \"minorgridcolor\": \"white\", \"startlinecolor\": \"#2a3f5f\"}, \"baxis\": {\"endlinecolor\": \"#2a3f5f\", \"gridcolor\": \"white\", \"linecolor\": \"white\", \"minorgridcolor\": \"white\", \"startlinecolor\": \"#2a3f5f\"}, \"type\": \"carpet\"}], \"choropleth\": [{\"colorbar\": {\"outlinewidth\": 0, \"ticks\": \"\"}, \"type\": \"choropleth\"}], \"contour\": [{\"colorbar\": {\"outlinewidth\": 0, \"ticks\": \"\"}, \"colorscale\": [[0.0, \"#0d0887\"], [0.1111111111111111, \"#46039f\"], [0.2222222222222222, \"#7201a8\"], [0.3333333333333333, \"#9c179e\"], [0.4444444444444444, \"#bd3786\"], [0.5555555555555556, \"#d8576b\"], [0.6666666666666666, \"#ed7953\"], [0.7777777777777778, \"#fb9f3a\"], [0.8888888888888888, \"#fdca26\"], [1.0, \"#f0f921\"]], \"type\": \"contour\"}], \"contourcarpet\": [{\"colorbar\": {\"outlinewidth\": 0, \"ticks\": \"\"}, \"type\": \"contourcarpet\"}], \"heatmap\": [{\"colorbar\": {\"outlinewidth\": 0, \"ticks\": \"\"}, \"colorscale\": [[0.0, \"#0d0887\"], [0.1111111111111111, \"#46039f\"], [0.2222222222222222, \"#7201a8\"], [0.3333333333333333, \"#9c179e\"], [0.4444444444444444, \"#bd3786\"], [0.5555555555555556, \"#d8576b\"], [0.6666666666666666, \"#ed7953\"], [0.7777777777777778, \"#fb9f3a\"], [0.8888888888888888, \"#fdca26\"], [1.0, \"#f0f921\"]], \"type\": \"heatmap\"}], \"heatmapgl\": [{\"colorbar\": {\"outlinewidth\": 0, \"ticks\": \"\"}, \"colorscale\": [[0.0, \"#0d0887\"], [0.1111111111111111, \"#46039f\"], [0.2222222222222222, \"#7201a8\"], [0.3333333333333333, \"#9c179e\"], [0.4444444444444444, \"#bd3786\"], [0.5555555555555556, \"#d8576b\"], [0.6666666666666666, \"#ed7953\"], [0.7777777777777778, \"#fb9f3a\"], [0.8888888888888888, \"#fdca26\"], [1.0, \"#f0f921\"]], \"type\": \"heatmapgl\"}], \"histogram\": [{\"marker\": {\"colorbar\": {\"outlinewidth\": 0, \"ticks\": \"\"}}, \"type\": \"histogram\"}], \"histogram2d\": [{\"colorbar\": {\"outlinewidth\": 0, \"ticks\": \"\"}, \"colorscale\": [[0.0, \"#0d0887\"], [0.1111111111111111, \"#46039f\"], [0.2222222222222222, \"#7201a8\"], [0.3333333333333333, \"#9c179e\"], [0.4444444444444444, \"#bd3786\"], [0.5555555555555556, \"#d8576b\"], [0.6666666666666666, \"#ed7953\"], [0.7777777777777778, \"#fb9f3a\"], [0.8888888888888888, \"#fdca26\"], [1.0, \"#f0f921\"]], \"type\": \"histogram2d\"}], \"histogram2dcontour\": [{\"colorbar\": {\"outlinewidth\": 0, \"ticks\": \"\"}, \"colorscale\": [[0.0, \"#0d0887\"], [0.1111111111111111, \"#46039f\"], [0.2222222222222222, \"#7201a8\"], [0.3333333333333333, \"#9c179e\"], [0.4444444444444444, \"#bd3786\"], [0.5555555555555556, \"#d8576b\"], [0.6666666666666666, \"#ed7953\"], [0.7777777777777778, \"#fb9f3a\"], [0.8888888888888888, \"#fdca26\"], [1.0, \"#f0f921\"]], \"type\": \"histogram2dcontour\"}], \"mesh3d\": [{\"colorbar\": {\"outlinewidth\": 0, \"ticks\": \"\"}, \"type\": \"mesh3d\"}], \"parcoords\": [{\"line\": {\"colorbar\": {\"outlinewidth\": 0, \"ticks\": \"\"}}, \"type\": \"parcoords\"}], \"pie\": [{\"automargin\": true, \"type\": \"pie\"}], \"scatter\": [{\"marker\": {\"colorbar\": {\"outlinewidth\": 0, \"ticks\": \"\"}}, \"type\": \"scatter\"}], \"scatter3d\": [{\"line\": {\"colorbar\": {\"outlinewidth\": 0, \"ticks\": \"\"}}, \"marker\": {\"colorbar\": {\"outlinewidth\": 0, \"ticks\": \"\"}}, \"type\": \"scatter3d\"}], \"scattercarpet\": [{\"marker\": {\"colorbar\": {\"outlinewidth\": 0, \"ticks\": \"\"}}, \"type\": \"scattercarpet\"}], \"scattergeo\": [{\"marker\": {\"colorbar\": {\"outlinewidth\": 0, \"ticks\": \"\"}}, \"type\": \"scattergeo\"}], \"scattergl\": [{\"marker\": {\"colorbar\": {\"outlinewidth\": 0, \"ticks\": \"\"}}, \"type\": \"scattergl\"}], \"scattermapbox\": [{\"marker\": {\"colorbar\": {\"outlinewidth\": 0, \"ticks\": \"\"}}, \"type\": \"scattermapbox\"}], \"scatterpolar\": [{\"marker\": {\"colorbar\": {\"outlinewidth\": 0, \"ticks\": \"\"}}, \"type\": \"scatterpolar\"}], \"scatterpolargl\": [{\"marker\": {\"colorbar\": {\"outlinewidth\": 0, \"ticks\": \"\"}}, \"type\": \"scatterpolargl\"}], \"scatterternary\": [{\"marker\": {\"colorbar\": {\"outlinewidth\": 0, \"ticks\": \"\"}}, \"type\": \"scatterternary\"}], \"surface\": [{\"colorbar\": {\"outlinewidth\": 0, \"ticks\": \"\"}, \"colorscale\": [[0.0, \"#0d0887\"], [0.1111111111111111, \"#46039f\"], [0.2222222222222222, \"#7201a8\"], [0.3333333333333333, \"#9c179e\"], [0.4444444444444444, \"#bd3786\"], [0.5555555555555556, \"#d8576b\"], [0.6666666666666666, \"#ed7953\"], [0.7777777777777778, \"#fb9f3a\"], [0.8888888888888888, \"#fdca26\"], [1.0, \"#f0f921\"]], \"type\": \"surface\"}], \"table\": [{\"cells\": {\"fill\": {\"color\": \"#EBF0F8\"}, \"line\": {\"color\": \"white\"}}, \"header\": {\"fill\": {\"color\": \"#C8D4E3\"}, \"line\": {\"color\": \"white\"}}, \"type\": \"table\"}]}, \"layout\": {\"annotationdefaults\": {\"arrowcolor\": \"#2a3f5f\", \"arrowhead\": 0, \"arrowwidth\": 1}, \"coloraxis\": {\"colorbar\": {\"outlinewidth\": 0, \"ticks\": \"\"}}, \"colorscale\": {\"diverging\": [[0, \"#8e0152\"], [0.1, \"#c51b7d\"], [0.2, \"#de77ae\"], [0.3, \"#f1b6da\"], [0.4, \"#fde0ef\"], [0.5, \"#f7f7f7\"], [0.6, \"#e6f5d0\"], [0.7, \"#b8e186\"], [0.8, \"#7fbc41\"], [0.9, \"#4d9221\"], [1, \"#276419\"]], \"sequential\": [[0.0, \"#0d0887\"], [0.1111111111111111, \"#46039f\"], [0.2222222222222222, \"#7201a8\"], [0.3333333333333333, \"#9c179e\"], [0.4444444444444444, \"#bd3786\"], [0.5555555555555556, \"#d8576b\"], [0.6666666666666666, \"#ed7953\"], [0.7777777777777778, \"#fb9f3a\"], [0.8888888888888888, \"#fdca26\"], [1.0, \"#f0f921\"]], \"sequentialminus\": [[0.0, \"#0d0887\"], [0.1111111111111111, \"#46039f\"], [0.2222222222222222, \"#7201a8\"], [0.3333333333333333, \"#9c179e\"], [0.4444444444444444, \"#bd3786\"], [0.5555555555555556, \"#d8576b\"], [0.6666666666666666, \"#ed7953\"], [0.7777777777777778, \"#fb9f3a\"], [0.8888888888888888, \"#fdca26\"], [1.0, \"#f0f921\"]]}, \"colorway\": [\"#636efa\", \"#EF553B\", \"#00cc96\", \"#ab63fa\", \"#FFA15A\", \"#19d3f3\", \"#FF6692\", \"#B6E880\", \"#FF97FF\", \"#FECB52\"], \"font\": {\"color\": \"#2a3f5f\"}, \"geo\": {\"bgcolor\": \"white\", \"lakecolor\": \"white\", \"landcolor\": \"#E5ECF6\", \"showlakes\": true, \"showland\": true, \"subunitcolor\": \"white\"}, \"hoverlabel\": {\"align\": \"left\"}, \"hovermode\": \"closest\", \"mapbox\": {\"style\": \"light\"}, \"paper_bgcolor\": \"white\", \"plot_bgcolor\": \"#E5ECF6\", \"polar\": {\"angularaxis\": {\"gridcolor\": \"white\", \"linecolor\": \"white\", \"ticks\": \"\"}, \"bgcolor\": \"#E5ECF6\", \"radialaxis\": {\"gridcolor\": \"white\", \"linecolor\": \"white\", \"ticks\": \"\"}}, \"scene\": {\"xaxis\": {\"backgroundcolor\": \"#E5ECF6\", \"gridcolor\": \"white\", \"gridwidth\": 2, \"linecolor\": \"white\", \"showbackground\": true, \"ticks\": \"\", \"zerolinecolor\": \"white\"}, \"yaxis\": {\"backgroundcolor\": \"#E5ECF6\", \"gridcolor\": \"white\", \"gridwidth\": 2, \"linecolor\": \"white\", \"showbackground\": true, \"ticks\": \"\", \"zerolinecolor\": \"white\"}, \"zaxis\": {\"backgroundcolor\": \"#E5ECF6\", \"gridcolor\": \"white\", \"gridwidth\": 2, \"linecolor\": \"white\", \"showbackground\": true, \"ticks\": \"\", \"zerolinecolor\": \"white\"}}, \"shapedefaults\": {\"line\": {\"color\": \"#2a3f5f\"}}, \"ternary\": {\"aaxis\": {\"gridcolor\": \"white\", \"linecolor\": \"white\", \"ticks\": \"\"}, \"baxis\": {\"gridcolor\": \"white\", \"linecolor\": \"white\", \"ticks\": \"\"}, \"bgcolor\": \"#E5ECF6\", \"caxis\": {\"gridcolor\": \"white\", \"linecolor\": \"white\", \"ticks\": \"\"}}, \"title\": {\"x\": 0.05}, \"xaxis\": {\"automargin\": true, \"gridcolor\": \"white\", \"linecolor\": \"white\", \"ticks\": \"\", \"title\": {\"standoff\": 15}, \"zerolinecolor\": \"white\", \"zerolinewidth\": 2}, \"yaxis\": {\"automargin\": true, \"gridcolor\": \"white\", \"linecolor\": \"white\", \"ticks\": \"\", \"title\": {\"standoff\": 15}, \"zerolinecolor\": \"white\", \"zerolinewidth\": 2}}}, \"updatemenus\": [{\"buttons\": [{\"args\": [null, {\"frame\": {\"duration\": 500, \"redraw\": true}, \"fromcurrent\": true, \"mode\": \"immediate\", \"transition\": {\"duration\": 500, \"easing\": \"linear\"}}], \"label\": \"&#9654;\", \"method\": \"animate\"}, {\"args\": [[null], {\"frame\": {\"duration\": 0, \"redraw\": true}, \"fromcurrent\": true, \"mode\": \"immediate\", \"transition\": {\"duration\": 0, \"easing\": \"linear\"}}], \"label\": \"&#9724;\", \"method\": \"animate\"}], \"direction\": \"left\", \"pad\": {\"r\": 10, \"t\": 70}, \"showactive\": false, \"type\": \"buttons\", \"x\": 0.1, \"xanchor\": \"right\", \"y\": 0, \"yanchor\": \"top\"}]},\n",
       "                        {\"responsive\": true}\n",
       "                    ).then(function(){\n",
       "                            Plotly.addFrames('6eec07f7-2ca3-4149-b1e8-c58547785d82', [{\"data\": [{\"geo\": \"geo\", \"hovertemplate\": \"<b>%{hovertext}</b><br><br>city_name=Bottmingen<br>year_participation=1977<br>cumsum=%{marker.size}<br>lat=%{lat}<br>lon=%{lon}<extra></extra>\", \"hovertext\": [\"Bottmingen\"], \"lat\": [47.5234501], \"legendgroup\": \"Bottmingen\", \"lon\": [7.5748727], \"marker\": {\"color\": \"#636efa\", \"size\": [1], \"sizemode\": \"area\", \"sizeref\": 0.45}, \"name\": \"Bottmingen\", \"showlegend\": true, \"type\": \"scattergeo\"}, {\"geo\": \"geo\", \"hovertemplate\": \"<b>%{hovertext}</b><br><br>city_name=Weissenau<br>year_participation=1977<br>cumsum=%{marker.size}<br>lat=%{lat}<br>lon=%{lon}<extra></extra>\", \"hovertext\": [\"Weissenau\"], \"lat\": [46.671719], \"legendgroup\": \"Weissenau\", \"lon\": [7.8326554], \"marker\": {\"color\": \"#EF553B\", \"size\": [1], \"sizemode\": \"area\", \"sizeref\": 0.45}, \"name\": \"Weissenau\", \"showlegend\": true, \"type\": \"scattergeo\"}, {\"geo\": \"geo\", \"hovertemplate\": \"<b>%{hovertext}</b><br><br>city_name=Wien<br>year_participation=1977<br>cumsum=%{marker.size}<br>lat=%{lat}<br>lon=%{lon}<extra></extra>\", \"hovertext\": [\"Wien\"], \"lat\": [48.2083537], \"legendgroup\": \"Wien\", \"lon\": [16.372504199999998], \"marker\": {\"color\": \"#00cc96\", \"size\": [3], \"sizemode\": \"area\", \"sizeref\": 0.45}, \"name\": \"Wien\", \"showlegend\": true, \"type\": \"scattergeo\"}, {\"geo\": \"geo\", \"hovertemplate\": \"<b>%{hovertext}</b><br><br>city_name=Klagenfurt<br>year_participation=1977<br>cumsum=%{marker.size}<br>lat=%{lat}<br>lon=%{lon}<extra></extra>\", \"hovertext\": [\"Klagenfurt\"], \"lat\": [46.6228162], \"legendgroup\": \"Klagenfurt\", \"lon\": [14.307960399999999], \"marker\": {\"color\": \"#ab63fa\", \"size\": [1], \"sizemode\": \"area\", \"sizeref\": 0.45}, \"name\": \"Klagenfurt\", \"showlegend\": true, \"type\": \"scattergeo\"}, {\"geo\": \"geo\", \"hovertemplate\": \"<b>%{hovertext}</b><br><br>city_name=Villach<br>year_participation=1977<br>cumsum=%{marker.size}<br>lat=%{lat}<br>lon=%{lon}<extra></extra>\", \"hovertext\": [\"Villach\"], \"lat\": [46.6167284], \"legendgroup\": \"Villach\", \"lon\": [13.850026800000002], \"marker\": {\"color\": \"#FFA15A\", \"size\": [1], \"sizemode\": \"area\", \"sizeref\": 0.45}, \"name\": \"Villach\", \"showlegend\": true, \"type\": \"scattergeo\"}, {\"geo\": \"geo\", \"hovertemplate\": \"<b>%{hovertext}</b><br><br>city_name=Tamsweg<br>year_participation=1977<br>cumsum=%{marker.size}<br>lat=%{lat}<br>lon=%{lon}<extra></extra>\", \"hovertext\": [\"Tamsweg\"], \"lat\": [47.1261065], \"legendgroup\": \"Tamsweg\", \"lon\": [13.810381699999999], \"marker\": {\"color\": \"#19d3f3\", \"size\": [1], \"sizemode\": \"area\", \"sizeref\": 0.45}, \"name\": \"Tamsweg\", \"showlegend\": true, \"type\": \"scattergeo\"}, {\"geo\": \"geo\", \"hovertemplate\": \"<b>%{hovertext}</b><br><br>city_name=Ottobrunn<br>year_participation=1977<br>cumsum=%{marker.size}<br>lat=%{lat}<br>lon=%{lon}<extra></extra>\", \"hovertext\": [\"Ottobrunn\"], \"lat\": [48.0643823], \"legendgroup\": \"Ottobrunn\", \"lon\": [11.667504199999998], \"marker\": {\"color\": \"#FF6692\", \"size\": [1], \"sizemode\": \"area\", \"sizeref\": 0.45}, \"name\": \"Ottobrunn\", \"showlegend\": true, \"type\": \"scattergeo\"}, {\"geo\": \"geo\", \"hovertemplate\": \"<b>%{hovertext}</b><br><br>city_name=M\\u00fcnchen<br>year_participation=1977<br>cumsum=%{marker.size}<br>lat=%{lat}<br>lon=%{lon}<extra></extra>\", \"hovertext\": [\"M\\u00fcnchen\"], \"lat\": [48.1371079], \"legendgroup\": \"M\\u00fcnchen\", \"lon\": [11.575382199999998], \"marker\": {\"color\": \"#B6E880\", \"size\": [3], \"sizemode\": \"area\", \"sizeref\": 0.45}, \"name\": \"M\\u00fcnchen\", \"showlegend\": true, \"type\": \"scattergeo\"}, {\"geo\": \"geo\", \"hovertemplate\": \"<b>%{hovertext}</b><br><br>city_name=Hamburg<br>year_participation=1977<br>cumsum=%{marker.size}<br>lat=%{lat}<br>lon=%{lon}<extra></extra>\", \"hovertext\": [\"Hamburg\"], \"lat\": [53.543764100000004], \"legendgroup\": \"Hamburg\", \"lon\": [10.009913300000001], \"marker\": {\"color\": \"#FF97FF\", \"size\": [1], \"sizemode\": \"area\", \"sizeref\": 0.45}, \"name\": \"Hamburg\", \"showlegend\": true, \"type\": \"scattergeo\"}, {\"geo\": \"geo\", \"hovertemplate\": \"<b>%{hovertext}</b><br><br>city_name=Z\\u00fcrich<br>year_participation=1977<br>cumsum=%{marker.size}<br>lat=%{lat}<br>lon=%{lon}<extra></extra>\", \"hovertext\": [\"Z\\u00fcrich\"], \"lat\": [47.3723941], \"legendgroup\": \"Z\\u00fcrich\", \"lon\": [8.5423328], \"marker\": {\"color\": \"#FECB52\", \"size\": [1], \"sizemode\": \"area\", \"sizeref\": 0.45}, \"name\": \"Z\\u00fcrich\", \"showlegend\": true, \"type\": \"scattergeo\"}, {\"geo\": \"geo\", \"hovertemplate\": \"<b>%{hovertext}</b><br><br>city_name=M\\u00fcnster<br>year_participation=1977<br>cumsum=%{marker.size}<br>lat=%{lat}<br>lon=%{lon}<extra></extra>\", \"hovertext\": [\"M\\u00fcnster\"], \"lat\": [51.9625101], \"legendgroup\": \"M\\u00fcnster\", \"lon\": [7.6251879], \"marker\": {\"color\": \"#636efa\", \"size\": [1], \"sizemode\": \"area\", \"sizeref\": 0.45}, \"name\": \"M\\u00fcnster\", \"showlegend\": true, \"type\": \"scattergeo\"}, {\"geo\": \"geo\", \"hovertemplate\": \"<b>%{hovertext}</b><br><br>city_name=Berlin<br>year_participation=1977<br>cumsum=%{marker.size}<br>lat=%{lat}<br>lon=%{lon}<extra></extra>\", \"hovertext\": [\"Berlin\"], \"lat\": [52.517036499999996], \"legendgroup\": \"Berlin\", \"lon\": [13.388859900000002], \"marker\": {\"color\": \"#EF553B\", \"size\": [2], \"sizemode\": \"area\", \"sizeref\": 0.45}, \"name\": \"Berlin\", \"showlegend\": true, \"type\": \"scattergeo\"}, {\"geo\": \"geo\", \"hovertemplate\": \"<b>%{hovertext}</b><br><br>city_name=Salzburg<br>year_participation=1977<br>cumsum=%{marker.size}<br>lat=%{lat}<br>lon=%{lon}<extra></extra>\", \"hovertext\": [\"Salzburg\"], \"lat\": [47.798134600000004], \"legendgroup\": \"Salzburg\", \"lon\": [13.046480599999999], \"marker\": {\"color\": \"#00cc96\", \"size\": [1], \"sizemode\": \"area\", \"sizeref\": 0.45}, \"name\": \"Salzburg\", \"showlegend\": true, \"type\": \"scattergeo\"}, {\"geo\": \"geo\", \"hovertemplate\": \"<b>%{hovertext}</b><br><br>city_name=Frankfurt/Main<br>year_participation=1977<br>cumsum=%{marker.size}<br>lat=%{lat}<br>lon=%{lon}<extra></extra>\", \"hovertext\": [\"Frankfurt/Main\"], \"lat\": [50.053763700000005], \"legendgroup\": \"Frankfurt/Main\", \"lon\": [8.637085800000001], \"marker\": {\"color\": \"#ab63fa\", \"size\": [1], \"sizemode\": \"area\", \"sizeref\": 0.45}, \"name\": \"Frankfurt/Main\", \"showlegend\": true, \"type\": \"scattergeo\"}, {\"geo\": \"geo\", \"hovertemplate\": \"<b>%{hovertext}</b><br><br>city_name=D\\u00fcren<br>year_participation=1977<br>cumsum=%{marker.size}<br>lat=%{lat}<br>lon=%{lon}<extra></extra>\", \"hovertext\": [\"D\\u00fcren\"], \"lat\": [50.803168400000004], \"legendgroup\": \"D\\u00fcren\", \"lon\": [6.4820806], \"marker\": {\"color\": \"#FFA15A\", \"size\": [1], \"sizemode\": \"area\", \"sizeref\": 0.45}, \"name\": \"D\\u00fcren\", \"showlegend\": true, \"type\": \"scattergeo\"}, {\"geo\": \"geo\", \"hovertemplate\": \"<b>%{hovertext}</b><br><br>city_name=N\\u00fcrnberg<br>year_participation=1977<br>cumsum=%{marker.size}<br>lat=%{lat}<br>lon=%{lon}<extra></extra>\", \"hovertext\": [\"N\\u00fcrnberg\"], \"lat\": [49.453872], \"legendgroup\": \"N\\u00fcrnberg\", \"lon\": [11.077297999999999], \"marker\": {\"color\": \"#19d3f3\", \"size\": [1], \"sizemode\": \"area\", \"sizeref\": 0.45}, \"name\": \"N\\u00fcrnberg\", \"showlegend\": true, \"type\": \"scattergeo\"}, {\"geo\": \"geo\", \"hovertemplate\": \"<b>%{hovertext}</b><br><br>city_name=Niederbipp<br>year_participation=1977<br>cumsum=%{marker.size}<br>lat=%{lat}<br>lon=%{lon}<extra></extra>\", \"hovertext\": [\"Niederbipp\"], \"lat\": [47.2684936], \"legendgroup\": \"Niederbipp\", \"lon\": [7.693334299999999], \"marker\": {\"color\": \"#FF6692\", \"size\": [1], \"sizemode\": \"area\", \"sizeref\": 0.45}, \"name\": \"Niederbipp\", \"showlegend\": true, \"type\": \"scattergeo\"}], \"name\": \"1977\"}, {\"data\": [{\"geo\": \"geo\", \"hovertemplate\": \"<b>%{hovertext}</b><br><br>city_name=Wien<br>year_participation=1978<br>cumsum=%{marker.size}<br>lat=%{lat}<br>lon=%{lon}<extra></extra>\", \"hovertext\": [\"Wien\"], \"lat\": [48.2083537], \"legendgroup\": \"Wien\", \"lon\": [16.372504199999998], \"marker\": {\"color\": \"#00cc96\", \"size\": [6], \"sizemode\": \"area\", \"sizeref\": 0.45}, \"name\": \"Wien\", \"showlegend\": true, \"type\": \"scattergeo\"}, {\"geo\": \"geo\", \"hovertemplate\": \"<b>%{hovertext}</b><br><br>city_name=M\\u00fcnchen<br>year_participation=1978<br>cumsum=%{marker.size}<br>lat=%{lat}<br>lon=%{lon}<extra></extra>\", \"hovertext\": [\"M\\u00fcnchen\"], \"lat\": [48.1371079], \"legendgroup\": \"M\\u00fcnchen\", \"lon\": [11.575382199999998], \"marker\": {\"color\": \"#B6E880\", \"size\": [6], \"sizemode\": \"area\", \"sizeref\": 0.45}, \"name\": \"M\\u00fcnchen\", \"showlegend\": true, \"type\": \"scattergeo\"}, {\"geo\": \"geo\", \"hovertemplate\": \"<b>%{hovertext}</b><br><br>city_name=Berlin<br>year_participation=1978<br>cumsum=%{marker.size}<br>lat=%{lat}<br>lon=%{lon}<extra></extra>\", \"hovertext\": [\"Berlin\"], \"lat\": [52.517036499999996], \"legendgroup\": \"Berlin\", \"lon\": [13.388859900000002], \"marker\": {\"color\": \"#EF553B\", \"size\": [3], \"sizemode\": \"area\", \"sizeref\": 0.45}, \"name\": \"Berlin\", \"showlegend\": true, \"type\": \"scattergeo\"}, {\"geo\": \"geo\", \"hovertemplate\": \"<b>%{hovertext}</b><br><br>city_name=Salzburg<br>year_participation=1978<br>cumsum=%{marker.size}<br>lat=%{lat}<br>lon=%{lon}<extra></extra>\", \"hovertext\": [\"Salzburg\"], \"lat\": [47.798134600000004], \"legendgroup\": \"Salzburg\", \"lon\": [13.046480599999999], \"marker\": {\"color\": \"#00cc96\", \"size\": [2], \"sizemode\": \"area\", \"sizeref\": 0.45}, \"name\": \"Salzburg\", \"showlegend\": true, \"type\": \"scattergeo\"}, {\"geo\": \"geo\", \"hovertemplate\": \"<b>%{hovertext}</b><br><br>city_name=Frankfurt/Main<br>year_participation=1978<br>cumsum=%{marker.size}<br>lat=%{lat}<br>lon=%{lon}<extra></extra>\", \"hovertext\": [\"Frankfurt/Main\"], \"lat\": [50.053763700000005], \"legendgroup\": \"Frankfurt/Main\", \"lon\": [8.637085800000001], \"marker\": {\"color\": \"#ab63fa\", \"size\": [2], \"sizemode\": \"area\", \"sizeref\": 0.45}, \"name\": \"Frankfurt/Main\", \"showlegend\": true, \"type\": \"scattergeo\"}, {\"geo\": \"geo\", \"hovertemplate\": \"<b>%{hovertext}</b><br><br>city_name=N\\u00fcrnberg<br>year_participation=1978<br>cumsum=%{marker.size}<br>lat=%{lat}<br>lon=%{lon}<extra></extra>\", \"hovertext\": [\"N\\u00fcrnberg\"], \"lat\": [49.453872], \"legendgroup\": \"N\\u00fcrnberg\", \"lon\": [11.077297999999999], \"marker\": {\"color\": \"#19d3f3\", \"size\": [2], \"sizemode\": \"area\", \"sizeref\": 0.45}, \"name\": \"N\\u00fcrnberg\", \"showlegend\": true, \"type\": \"scattergeo\"}, {\"geo\": \"geo\", \"hovertemplate\": \"<b>%{hovertext}</b><br><br>city_name=Weingarten<br>year_participation=1978<br>cumsum=%{marker.size}<br>lat=%{lat}<br>lon=%{lon}<extra></extra>\", \"hovertext\": [\"Weingarten\"], \"lat\": [47.8075299], \"legendgroup\": \"Weingarten\", \"lon\": [9.643114500000001], \"marker\": {\"color\": \"#B6E880\", \"size\": [1], \"sizemode\": \"area\", \"sizeref\": 0.45}, \"name\": \"Weingarten\", \"showlegend\": true, \"type\": \"scattergeo\"}, {\"geo\": \"geo\", \"hovertemplate\": \"<b>%{hovertext}</b><br><br>city_name=Wabern<br>year_participation=1978<br>cumsum=%{marker.size}<br>lat=%{lat}<br>lon=%{lon}<extra></extra>\", \"hovertext\": [\"Wabern\"], \"lat\": [51.101304999999996], \"legendgroup\": \"Wabern\", \"lon\": [9.3499661], \"marker\": {\"color\": \"#FF97FF\", \"size\": [1], \"sizemode\": \"area\", \"sizeref\": 0.45}, \"name\": \"Wabern\", \"showlegend\": true, \"type\": \"scattergeo\"}, {\"geo\": \"geo\", \"hovertemplate\": \"<b>%{hovertext}</b><br><br>city_name=Hermagor<br>year_participation=1978<br>cumsum=%{marker.size}<br>lat=%{lat}<br>lon=%{lon}<extra></extra>\", \"hovertext\": [\"Hermagor\"], \"lat\": [46.6268076], \"legendgroup\": \"Hermagor\", \"lon\": [13.370238199999998], \"marker\": {\"color\": \"#FECB52\", \"size\": [1], \"sizemode\": \"area\", \"sizeref\": 0.45}, \"name\": \"Hermagor\", \"showlegend\": true, \"type\": \"scattergeo\"}, {\"geo\": \"geo\", \"hovertemplate\": \"<b>%{hovertext}</b><br><br>city_name=Uetikon am See<br>year_participation=1978<br>cumsum=%{marker.size}<br>lat=%{lat}<br>lon=%{lon}<extra></extra>\", \"hovertext\": [\"Uetikon am See\"], \"lat\": [47.269368], \"legendgroup\": \"Uetikon am See\", \"lon\": [8.68316], \"marker\": {\"color\": \"#636efa\", \"size\": [1], \"sizemode\": \"area\", \"sizeref\": 0.45}, \"name\": \"Uetikon am See\", \"showlegend\": true, \"type\": \"scattergeo\"}, {\"geo\": \"geo\", \"hovertemplate\": \"<b>%{hovertext}</b><br><br>city_name=Hameln<br>year_participation=1978<br>cumsum=%{marker.size}<br>lat=%{lat}<br>lon=%{lon}<extra></extra>\", \"hovertext\": [\"Hameln\"], \"lat\": [52.1039941], \"legendgroup\": \"Hameln\", \"lon\": [9.3561569], \"marker\": {\"color\": \"#EF553B\", \"size\": [1], \"sizemode\": \"area\", \"sizeref\": 0.45}, \"name\": \"Hameln\", \"showlegend\": true, \"type\": \"scattergeo\"}, {\"geo\": \"geo\", \"hovertemplate\": \"<b>%{hovertext}</b><br><br>city_name=Puch bei Salzburg<br>year_participation=1978<br>cumsum=%{marker.size}<br>lat=%{lat}<br>lon=%{lon}<extra></extra>\", \"hovertext\": [\"Puch bei Salzburg\"], \"lat\": [47.7177877], \"legendgroup\": \"Puch bei Salzburg\", \"lon\": [13.0907302], \"marker\": {\"color\": \"#00cc96\", \"size\": [1], \"sizemode\": \"area\", \"sizeref\": 0.45}, \"name\": \"Puch bei Salzburg\", \"showlegend\": true, \"type\": \"scattergeo\"}, {\"geo\": \"geo\", \"hovertemplate\": \"<b>%{hovertext}</b><br><br>city_name=Neumarkt<br>year_participation=1978<br>cumsum=%{marker.size}<br>lat=%{lat}<br>lon=%{lon}<extra></extra>\", \"hovertext\": [\"Neumarkt\"], \"lat\": [49.279624], \"legendgroup\": \"Neumarkt\", \"lon\": [11.4594662], \"marker\": {\"color\": \"#ab63fa\", \"size\": [1], \"sizemode\": \"area\", \"sizeref\": 0.45}, \"name\": \"Neumarkt\", \"showlegend\": true, \"type\": \"scattergeo\"}, {\"geo\": \"geo\", \"hovertemplate\": \"<b>%{hovertext}</b><br><br>city_name=Gro\\u00df Glienicke<br>year_participation=1978<br>cumsum=%{marker.size}<br>lat=%{lat}<br>lon=%{lon}<extra></extra>\", \"hovertext\": [\"Gro\\u00df Glienicke\"], \"lat\": [52.466598100000006], \"legendgroup\": \"Gro\\u00df Glienicke\", \"lon\": [13.1045109], \"marker\": {\"color\": \"#FFA15A\", \"size\": [1], \"sizemode\": \"area\", \"sizeref\": 0.45}, \"name\": \"Gro\\u00df Glienicke\", \"showlegend\": true, \"type\": \"scattergeo\"}, {\"geo\": \"geo\", \"hovertemplate\": \"<b>%{hovertext}</b><br><br>city_name=Wiesbaden<br>year_participation=1978<br>cumsum=%{marker.size}<br>lat=%{lat}<br>lon=%{lon}<extra></extra>\", \"hovertext\": [\"Wiesbaden\"], \"lat\": [50.082038399999995], \"legendgroup\": \"Wiesbaden\", \"lon\": [8.2416556], \"marker\": {\"color\": \"#19d3f3\", \"size\": [1], \"sizemode\": \"area\", \"sizeref\": 0.45}, \"name\": \"Wiesbaden\", \"showlegend\": true, \"type\": \"scattergeo\"}, {\"geo\": \"geo\", \"hovertemplate\": \"<b>%{hovertext}</b><br><br>city_name=Bern<br>year_participation=1978<br>cumsum=%{marker.size}<br>lat=%{lat}<br>lon=%{lon}<extra></extra>\", \"hovertext\": [\"Bern\"], \"lat\": [46.9482713], \"legendgroup\": \"Bern\", \"lon\": [7.4514512], \"marker\": {\"color\": \"#FF6692\", \"size\": [1], \"sizemode\": \"area\", \"sizeref\": 0.45}, \"name\": \"Bern\", \"showlegend\": true, \"type\": \"scattergeo\"}, {\"geo\": \"geo\", \"hovertemplate\": \"<b>%{hovertext}</b><br><br>city_name=Konstanz<br>year_participation=1978<br>cumsum=%{marker.size}<br>lat=%{lat}<br>lon=%{lon}<extra></extra>\", \"hovertext\": [\"Konstanz\"], \"lat\": [47.659216], \"legendgroup\": \"Konstanz\", \"lon\": [9.175071800000001], \"marker\": {\"color\": \"#B6E880\", \"size\": [1], \"sizemode\": \"area\", \"sizeref\": 0.45}, \"name\": \"Konstanz\", \"showlegend\": true, \"type\": \"scattergeo\"}, {\"geo\": \"geo\", \"hovertemplate\": \"<b>%{hovertext}</b><br><br>city_name=K\\u00fcttigen<br>year_participation=1978<br>cumsum=%{marker.size}<br>lat=%{lat}<br>lon=%{lon}<extra></extra>\", \"hovertext\": [\"K\\u00fcttigen\"], \"lat\": [47.41945379999999], \"legendgroup\": \"K\\u00fcttigen\", \"lon\": [8.0432568], \"marker\": {\"color\": \"#FF97FF\", \"size\": [1], \"sizemode\": \"area\", \"sizeref\": 0.45}, \"name\": \"K\\u00fcttigen\", \"showlegend\": true, \"type\": \"scattergeo\"}, {\"geo\": \"geo\", \"hovertemplate\": \"<b>%{hovertext}</b><br><br>city_name=La Neuveville<br>year_participation=1978<br>cumsum=%{marker.size}<br>lat=%{lat}<br>lon=%{lon}<extra></extra>\", \"hovertext\": [\"La Neuveville\"], \"lat\": [47.0637688], \"legendgroup\": \"La Neuveville\", \"lon\": [7.0927997000000005], \"marker\": {\"color\": \"#FECB52\", \"size\": [1], \"sizemode\": \"area\", \"sizeref\": 0.45}, \"name\": \"La Neuveville\", \"showlegend\": true, \"type\": \"scattergeo\"}, {\"geo\": \"geo\", \"hovertemplate\": \"<b>%{hovertext}</b><br><br>city_name=Lend<br>year_participation=1978<br>cumsum=%{marker.size}<br>lat=%{lat}<br>lon=%{lon}<extra></extra>\", \"hovertext\": [\"Lend\"], \"lat\": [47.298525899999994], \"legendgroup\": \"Lend\", \"lon\": [13.0439039], \"marker\": {\"color\": \"#636efa\", \"size\": [1], \"sizemode\": \"area\", \"sizeref\": 0.45}, \"name\": \"Lend\", \"showlegend\": true, \"type\": \"scattergeo\"}], \"name\": \"1978\"}, {\"data\": [{\"geo\": \"geo\", \"hovertemplate\": \"<b>%{hovertext}</b><br><br>city_name=Wien<br>year_participation=1979<br>cumsum=%{marker.size}<br>lat=%{lat}<br>lon=%{lon}<extra></extra>\", \"hovertext\": [\"Wien\"], \"lat\": [48.2083537], \"legendgroup\": \"Wien\", \"lon\": [16.372504199999998], \"marker\": {\"color\": \"#00cc96\", \"size\": [10], \"sizemode\": \"area\", \"sizeref\": 0.45}, \"name\": \"Wien\", \"showlegend\": true, \"type\": \"scattergeo\"}, {\"geo\": \"geo\", \"hovertemplate\": \"<b>%{hovertext}</b><br><br>city_name=Klagenfurt<br>year_participation=1979<br>cumsum=%{marker.size}<br>lat=%{lat}<br>lon=%{lon}<extra></extra>\", \"hovertext\": [\"Klagenfurt\"], \"lat\": [46.6228162], \"legendgroup\": \"Klagenfurt\", \"lon\": [14.307960399999999], \"marker\": {\"color\": \"#ab63fa\", \"size\": [3], \"sizemode\": \"area\", \"sizeref\": 0.45}, \"name\": \"Klagenfurt\", \"showlegend\": true, \"type\": \"scattergeo\"}, {\"geo\": \"geo\", \"hovertemplate\": \"<b>%{hovertext}</b><br><br>city_name=M\\u00fcnchen<br>year_participation=1979<br>cumsum=%{marker.size}<br>lat=%{lat}<br>lon=%{lon}<extra></extra>\", \"hovertext\": [\"M\\u00fcnchen\"], \"lat\": [48.1371079], \"legendgroup\": \"M\\u00fcnchen\", \"lon\": [11.575382199999998], \"marker\": {\"color\": \"#B6E880\", \"size\": [10], \"sizemode\": \"area\", \"sizeref\": 0.45}, \"name\": \"M\\u00fcnchen\", \"showlegend\": true, \"type\": \"scattergeo\"}, {\"geo\": \"geo\", \"hovertemplate\": \"<b>%{hovertext}</b><br><br>city_name=Hamburg<br>year_participation=1979<br>cumsum=%{marker.size}<br>lat=%{lat}<br>lon=%{lon}<extra></extra>\", \"hovertext\": [\"Hamburg\"], \"lat\": [53.543764100000004], \"legendgroup\": \"Hamburg\", \"lon\": [10.009913300000001], \"marker\": {\"color\": \"#FF97FF\", \"size\": [2], \"sizemode\": \"area\", \"sizeref\": 0.45}, \"name\": \"Hamburg\", \"showlegend\": true, \"type\": \"scattergeo\"}, {\"geo\": \"geo\", \"hovertemplate\": \"<b>%{hovertext}</b><br><br>city_name=Z\\u00fcrich<br>year_participation=1979<br>cumsum=%{marker.size}<br>lat=%{lat}<br>lon=%{lon}<extra></extra>\", \"hovertext\": [\"Z\\u00fcrich\"], \"lat\": [47.3723941], \"legendgroup\": \"Z\\u00fcrich\", \"lon\": [8.5423328], \"marker\": {\"color\": \"#FECB52\", \"size\": [2], \"sizemode\": \"area\", \"sizeref\": 0.45}, \"name\": \"Z\\u00fcrich\", \"showlegend\": true, \"type\": \"scattergeo\"}, {\"geo\": \"geo\", \"hovertemplate\": \"<b>%{hovertext}</b><br><br>city_name=Berlin<br>year_participation=1979<br>cumsum=%{marker.size}<br>lat=%{lat}<br>lon=%{lon}<extra></extra>\", \"hovertext\": [\"Berlin\"], \"lat\": [52.517036499999996], \"legendgroup\": \"Berlin\", \"lon\": [13.388859900000002], \"marker\": {\"color\": \"#EF553B\", \"size\": [4], \"sizemode\": \"area\", \"sizeref\": 0.45}, \"name\": \"Berlin\", \"showlegend\": true, \"type\": \"scattergeo\"}, {\"geo\": \"geo\", \"hovertemplate\": \"<b>%{hovertext}</b><br><br>city_name=Salzburg<br>year_participation=1979<br>cumsum=%{marker.size}<br>lat=%{lat}<br>lon=%{lon}<extra></extra>\", \"hovertext\": [\"Salzburg\"], \"lat\": [47.798134600000004], \"legendgroup\": \"Salzburg\", \"lon\": [13.046480599999999], \"marker\": {\"color\": \"#00cc96\", \"size\": [5], \"sizemode\": \"area\", \"sizeref\": 0.45}, \"name\": \"Salzburg\", \"showlegend\": true, \"type\": \"scattergeo\"}, {\"geo\": \"geo\", \"hovertemplate\": \"<b>%{hovertext}</b><br><br>city_name=Frankfurt/Main<br>year_participation=1979<br>cumsum=%{marker.size}<br>lat=%{lat}<br>lon=%{lon}<extra></extra>\", \"hovertext\": [\"Frankfurt/Main\"], \"lat\": [50.053763700000005], \"legendgroup\": \"Frankfurt/Main\", \"lon\": [8.637085800000001], \"marker\": {\"color\": \"#ab63fa\", \"size\": [3], \"sizemode\": \"area\", \"sizeref\": 0.45}, \"name\": \"Frankfurt/Main\", \"showlegend\": true, \"type\": \"scattergeo\"}, {\"geo\": \"geo\", \"hovertemplate\": \"<b>%{hovertext}</b><br><br>city_name=D\\u00fcren<br>year_participation=1979<br>cumsum=%{marker.size}<br>lat=%{lat}<br>lon=%{lon}<extra></extra>\", \"hovertext\": [\"D\\u00fcren\"], \"lat\": [50.803168400000004], \"legendgroup\": \"D\\u00fcren\", \"lon\": [6.4820806], \"marker\": {\"color\": \"#FFA15A\", \"size\": [2], \"sizemode\": \"area\", \"sizeref\": 0.45}, \"name\": \"D\\u00fcren\", \"showlegend\": true, \"type\": \"scattergeo\"}, {\"geo\": \"geo\", \"hovertemplate\": \"<b>%{hovertext}</b><br><br>city_name=Bern<br>year_participation=1979<br>cumsum=%{marker.size}<br>lat=%{lat}<br>lon=%{lon}<extra></extra>\", \"hovertext\": [\"Bern\"], \"lat\": [46.9482713], \"legendgroup\": \"Bern\", \"lon\": [7.4514512], \"marker\": {\"color\": \"#FF6692\", \"size\": [2], \"sizemode\": \"area\", \"sizeref\": 0.45}, \"name\": \"Bern\", \"showlegend\": true, \"type\": \"scattergeo\"}, {\"geo\": \"geo\", \"hovertemplate\": \"<b>%{hovertext}</b><br><br>city_name=Ammerland<br>year_participation=1979<br>cumsum=%{marker.size}<br>lat=%{lat}<br>lon=%{lon}<extra></extra>\", \"hovertext\": [\"Ammerland\"], \"lat\": [53.2138834], \"legendgroup\": \"Ammerland\", \"lon\": [8.0055549], \"marker\": {\"color\": \"#EF553B\", \"size\": [1], \"sizemode\": \"area\", \"sizeref\": 0.45}, \"name\": \"Ammerland\", \"showlegend\": true, \"type\": \"scattergeo\"}, {\"geo\": \"geo\", \"hovertemplate\": \"<b>%{hovertext}</b><br><br>city_name=Graz<br>year_participation=1979<br>cumsum=%{marker.size}<br>lat=%{lat}<br>lon=%{lon}<extra></extra>\", \"hovertext\": [\"Graz\"], \"lat\": [47.070867799999995], \"legendgroup\": \"Graz\", \"lon\": [15.438278599999999], \"marker\": {\"color\": \"#00cc96\", \"size\": [1], \"sizemode\": \"area\", \"sizeref\": 0.45}, \"name\": \"Graz\", \"showlegend\": true, \"type\": \"scattergeo\"}, {\"geo\": \"geo\", \"hovertemplate\": \"<b>%{hovertext}</b><br><br>city_name=M\\u00fcnchen-Pullach<br>year_participation=1979<br>cumsum=%{marker.size}<br>lat=%{lat}<br>lon=%{lon}<extra></extra>\", \"hovertext\": [\"M\\u00fcnchen-Pullach\"], \"lat\": [48.055612200000006], \"legendgroup\": \"M\\u00fcnchen-Pullach\", \"lon\": [11.5217455], \"marker\": {\"color\": \"#ab63fa\", \"size\": [1], \"sizemode\": \"area\", \"sizeref\": 0.45}, \"name\": \"M\\u00fcnchen-Pullach\", \"showlegend\": true, \"type\": \"scattergeo\"}, {\"geo\": \"geo\", \"hovertemplate\": \"<b>%{hovertext}</b><br><br>city_name=Kilchberg<br>year_participation=1979<br>cumsum=%{marker.size}<br>lat=%{lat}<br>lon=%{lon}<extra></extra>\", \"hovertext\": [\"Kilchberg\"], \"lat\": [47.3225316], \"legendgroup\": \"Kilchberg\", \"lon\": [8.545948300000001], \"marker\": {\"color\": \"#FFA15A\", \"size\": [1], \"sizemode\": \"area\", \"sizeref\": 0.45}, \"name\": \"Kilchberg\", \"showlegend\": true, \"type\": \"scattergeo\"}, {\"geo\": \"geo\", \"hovertemplate\": \"<b>%{hovertext}</b><br><br>city_name=Pohlheim<br>year_participation=1979<br>cumsum=%{marker.size}<br>lat=%{lat}<br>lon=%{lon}<extra></extra>\", \"hovertext\": [\"Pohlheim\"], \"lat\": [50.527946500000006], \"legendgroup\": \"Pohlheim\", \"lon\": [8.724012400000001], \"marker\": {\"color\": \"#19d3f3\", \"size\": [1], \"sizemode\": \"area\", \"sizeref\": 0.45}, \"name\": \"Pohlheim\", \"showlegend\": true, \"type\": \"scattergeo\"}, {\"geo\": \"geo\", \"hovertemplate\": \"<b>%{hovertext}</b><br><br>city_name=Murnau<br>year_participation=1979<br>cumsum=%{marker.size}<br>lat=%{lat}<br>lon=%{lon}<extra></extra>\", \"hovertext\": [\"Murnau\"], \"lat\": [47.6778816], \"legendgroup\": \"Murnau\", \"lon\": [11.2011903], \"marker\": {\"color\": \"#FF6692\", \"size\": [1], \"sizemode\": \"area\", \"sizeref\": 0.45}, \"name\": \"Murnau\", \"showlegend\": true, \"type\": \"scattergeo\"}, {\"geo\": \"geo\", \"hovertemplate\": \"<b>%{hovertext}</b><br><br>city_name=Lohr-Steinbach<br>year_participation=1979<br>cumsum=%{marker.size}<br>lat=%{lat}<br>lon=%{lon}<extra></extra>\", \"hovertext\": [\"Lohr-Steinbach\"], \"lat\": [50.0068659], \"legendgroup\": \"Lohr-Steinbach\", \"lon\": [9.605077900000001], \"marker\": {\"color\": \"#B6E880\", \"size\": [1], \"sizemode\": \"area\", \"sizeref\": 0.45}, \"name\": \"Lohr-Steinbach\", \"showlegend\": true, \"type\": \"scattergeo\"}, {\"geo\": \"geo\", \"hovertemplate\": \"<b>%{hovertext}</b><br><br>city_name=Jesteburg<br>year_participation=1979<br>cumsum=%{marker.size}<br>lat=%{lat}<br>lon=%{lon}<extra></extra>\", \"hovertext\": [\"Jesteburg\"], \"lat\": [53.30852660000001], \"legendgroup\": \"Jesteburg\", \"lon\": [9.9579883], \"marker\": {\"color\": \"#FF97FF\", \"size\": [1], \"sizemode\": \"area\", \"sizeref\": 0.45}, \"name\": \"Jesteburg\", \"showlegend\": true, \"type\": \"scattergeo\"}], \"name\": \"1979\"}, {\"data\": [{\"geo\": \"geo\", \"hovertemplate\": \"<b>%{hovertext}</b><br><br>city_name=Klagenfurt<br>year_participation=1980<br>cumsum=%{marker.size}<br>lat=%{lat}<br>lon=%{lon}<extra></extra>\", \"hovertext\": [\"Klagenfurt\"], \"lat\": [46.6228162], \"legendgroup\": \"Klagenfurt\", \"lon\": [14.307960399999999], \"marker\": {\"color\": \"#ab63fa\", \"size\": [5], \"sizemode\": \"area\", \"sizeref\": 0.45}, \"name\": \"Klagenfurt\", \"showlegend\": true, \"type\": \"scattergeo\"}, {\"geo\": \"geo\", \"hovertemplate\": \"<b>%{hovertext}</b><br><br>city_name=Villach<br>year_participation=1980<br>cumsum=%{marker.size}<br>lat=%{lat}<br>lon=%{lon}<extra></extra>\", \"hovertext\": [\"Villach\"], \"lat\": [46.6167284], \"legendgroup\": \"Villach\", \"lon\": [13.850026800000002], \"marker\": {\"color\": \"#FFA15A\", \"size\": [2], \"sizemode\": \"area\", \"sizeref\": 0.45}, \"name\": \"Villach\", \"showlegend\": true, \"type\": \"scattergeo\"}, {\"geo\": \"geo\", \"hovertemplate\": \"<b>%{hovertext}</b><br><br>city_name=M\\u00fcnchen<br>year_participation=1980<br>cumsum=%{marker.size}<br>lat=%{lat}<br>lon=%{lon}<extra></extra>\", \"hovertext\": [\"M\\u00fcnchen\"], \"lat\": [48.1371079], \"legendgroup\": \"M\\u00fcnchen\", \"lon\": [11.575382199999998], \"marker\": {\"color\": \"#B6E880\", \"size\": [13], \"sizemode\": \"area\", \"sizeref\": 0.45}, \"name\": \"M\\u00fcnchen\", \"showlegend\": true, \"type\": \"scattergeo\"}, {\"geo\": \"geo\", \"hovertemplate\": \"<b>%{hovertext}</b><br><br>city_name=Hamburg<br>year_participation=1980<br>cumsum=%{marker.size}<br>lat=%{lat}<br>lon=%{lon}<extra></extra>\", \"hovertext\": [\"Hamburg\"], \"lat\": [53.543764100000004], \"legendgroup\": \"Hamburg\", \"lon\": [10.009913300000001], \"marker\": {\"color\": \"#FF97FF\", \"size\": [3], \"sizemode\": \"area\", \"sizeref\": 0.45}, \"name\": \"Hamburg\", \"showlegend\": true, \"type\": \"scattergeo\"}, {\"geo\": \"geo\", \"hovertemplate\": \"<b>%{hovertext}</b><br><br>city_name=Berlin<br>year_participation=1980<br>cumsum=%{marker.size}<br>lat=%{lat}<br>lon=%{lon}<extra></extra>\", \"hovertext\": [\"Berlin\"], \"lat\": [52.517036499999996], \"legendgroup\": \"Berlin\", \"lon\": [13.388859900000002], \"marker\": {\"color\": \"#EF553B\", \"size\": [7], \"sizemode\": \"area\", \"sizeref\": 0.45}, \"name\": \"Berlin\", \"showlegend\": true, \"type\": \"scattergeo\"}, {\"geo\": \"geo\", \"hovertemplate\": \"<b>%{hovertext}</b><br><br>city_name=Salzburg<br>year_participation=1980<br>cumsum=%{marker.size}<br>lat=%{lat}<br>lon=%{lon}<extra></extra>\", \"hovertext\": [\"Salzburg\"], \"lat\": [47.798134600000004], \"legendgroup\": \"Salzburg\", \"lon\": [13.046480599999999], \"marker\": {\"color\": \"#00cc96\", \"size\": [6], \"sizemode\": \"area\", \"sizeref\": 0.45}, \"name\": \"Salzburg\", \"showlegend\": true, \"type\": \"scattergeo\"}, {\"geo\": \"geo\", \"hovertemplate\": \"<b>%{hovertext}</b><br><br>city_name=Frankfurt/Main<br>year_participation=1980<br>cumsum=%{marker.size}<br>lat=%{lat}<br>lon=%{lon}<extra></extra>\", \"hovertext\": [\"Frankfurt/Main\"], \"lat\": [50.053763700000005], \"legendgroup\": \"Frankfurt/Main\", \"lon\": [8.637085800000001], \"marker\": {\"color\": \"#ab63fa\", \"size\": [4], \"sizemode\": \"area\", \"sizeref\": 0.45}, \"name\": \"Frankfurt/Main\", \"showlegend\": true, \"type\": \"scattergeo\"}, {\"geo\": \"geo\", \"hovertemplate\": \"<b>%{hovertext}</b><br><br>city_name=Weingarten<br>year_participation=1980<br>cumsum=%{marker.size}<br>lat=%{lat}<br>lon=%{lon}<extra></extra>\", \"hovertext\": [\"Weingarten\"], \"lat\": [47.8075299], \"legendgroup\": \"Weingarten\", \"lon\": [9.643114500000001], \"marker\": {\"color\": \"#B6E880\", \"size\": [2], \"sizemode\": \"area\", \"sizeref\": 0.45}, \"name\": \"Weingarten\", \"showlegend\": true, \"type\": \"scattergeo\"}, {\"geo\": \"geo\", \"hovertemplate\": \"<b>%{hovertext}</b><br><br>city_name=Bern<br>year_participation=1980<br>cumsum=%{marker.size}<br>lat=%{lat}<br>lon=%{lon}<extra></extra>\", \"hovertext\": [\"Bern\"], \"lat\": [46.9482713], \"legendgroup\": \"Bern\", \"lon\": [7.4514512], \"marker\": {\"color\": \"#FF6692\", \"size\": [3], \"sizemode\": \"area\", \"sizeref\": 0.45}, \"name\": \"Bern\", \"showlegend\": true, \"type\": \"scattergeo\"}, {\"geo\": \"geo\", \"hovertemplate\": \"<b>%{hovertext}</b><br><br>city_name=Konstanz<br>year_participation=1980<br>cumsum=%{marker.size}<br>lat=%{lat}<br>lon=%{lon}<extra></extra>\", \"hovertext\": [\"Konstanz\"], \"lat\": [47.659216], \"legendgroup\": \"Konstanz\", \"lon\": [9.175071800000001], \"marker\": {\"color\": \"#B6E880\", \"size\": [2], \"sizemode\": \"area\", \"sizeref\": 0.45}, \"name\": \"Konstanz\", \"showlegend\": true, \"type\": \"scattergeo\"}, {\"geo\": \"geo\", \"hovertemplate\": \"<b>%{hovertext}</b><br><br>city_name=Basel<br>year_participation=1980<br>cumsum=%{marker.size}<br>lat=%{lat}<br>lon=%{lon}<extra></extra>\", \"hovertext\": [\"Basel\"], \"lat\": [47.55810770000001], \"legendgroup\": \"Basel\", \"lon\": [7.5878261], \"marker\": {\"color\": \"#FECB52\", \"size\": [1], \"sizemode\": \"area\", \"sizeref\": 0.45}, \"name\": \"Basel\", \"showlegend\": true, \"type\": \"scattergeo\"}, {\"geo\": \"geo\", \"hovertemplate\": \"<b>%{hovertext}</b><br><br>city_name=Heidelberg<br>year_participation=1980<br>cumsum=%{marker.size}<br>lat=%{lat}<br>lon=%{lon}<extra></extra>\", \"hovertext\": [\"Heidelberg\"], \"lat\": [49.40935820000001], \"legendgroup\": \"Heidelberg\", \"lon\": [8.694724], \"marker\": {\"color\": \"#636efa\", \"size\": [1], \"sizemode\": \"area\", \"sizeref\": 0.45}, \"name\": \"Heidelberg\", \"showlegend\": true, \"type\": \"scattergeo\"}, {\"geo\": \"geo\", \"hovertemplate\": \"<b>%{hovertext}</b><br><br>city_name=Unterkulm<br>year_participation=1980<br>cumsum=%{marker.size}<br>lat=%{lat}<br>lon=%{lon}<extra></extra>\", \"hovertext\": [\"Unterkulm\"], \"lat\": [47.3103727], \"legendgroup\": \"Unterkulm\", \"lon\": [8.11471], \"marker\": {\"color\": \"#EF553B\", \"size\": [1], \"sizemode\": \"area\", \"sizeref\": 0.45}, \"name\": \"Unterkulm\", \"showlegend\": true, \"type\": \"scattergeo\"}, {\"geo\": \"geo\", \"hovertemplate\": \"<b>%{hovertext}</b><br><br>city_name=Paris<br>year_participation=1980<br>cumsum=%{marker.size}<br>lat=%{lat}<br>lon=%{lon}<extra></extra>\", \"hovertext\": [\"Paris\"], \"lat\": [48.856696899999996], \"legendgroup\": \"Paris\", \"lon\": [2.3514616000000004], \"marker\": {\"color\": \"#00cc96\", \"size\": [1], \"sizemode\": \"area\", \"sizeref\": 0.45}, \"name\": \"Paris\", \"showlegend\": true, \"type\": \"scattergeo\"}, {\"geo\": \"geo\", \"hovertemplate\": \"<b>%{hovertext}</b><br><br>city_name=Heppenheim<br>year_participation=1980<br>cumsum=%{marker.size}<br>lat=%{lat}<br>lon=%{lon}<extra></extra>\", \"hovertext\": [\"Heppenheim\"], \"lat\": [49.6408048], \"legendgroup\": \"Heppenheim\", \"lon\": [8.6372164], \"marker\": {\"color\": \"#ab63fa\", \"size\": [1], \"sizemode\": \"area\", \"sizeref\": 0.45}, \"name\": \"Heppenheim\", \"showlegend\": true, \"type\": \"scattergeo\"}, {\"geo\": \"geo\", \"hovertemplate\": \"<b>%{hovertext}</b><br><br>city_name=Bad VIlbel<br>year_participation=1980<br>cumsum=%{marker.size}<br>lat=%{lat}<br>lon=%{lon}<extra></extra>\", \"hovertext\": [\"Bad VIlbel\"], \"lat\": [50.1804837], \"legendgroup\": \"Bad VIlbel\", \"lon\": [8.7410776], \"marker\": {\"color\": \"#FFA15A\", \"size\": [1], \"sizemode\": \"area\", \"sizeref\": 0.45}, \"name\": \"Bad VIlbel\", \"showlegend\": true, \"type\": \"scattergeo\"}, {\"geo\": \"geo\", \"hovertemplate\": \"<b>%{hovertext}</b><br><br>city_name=Karlsruhe<br>year_participation=1980<br>cumsum=%{marker.size}<br>lat=%{lat}<br>lon=%{lon}<extra></extra>\", \"hovertext\": [\"Karlsruhe\"], \"lat\": [49.006870500000005], \"legendgroup\": \"Karlsruhe\", \"lon\": [8.4034195], \"marker\": {\"color\": \"#19d3f3\", \"size\": [1], \"sizemode\": \"area\", \"sizeref\": 0.45}, \"name\": \"Karlsruhe\", \"showlegend\": true, \"type\": \"scattergeo\"}, {\"geo\": \"geo\", \"hovertemplate\": \"<b>%{hovertext}</b><br><br>city_name=H\\u00f6chst<br>year_participation=1980<br>cumsum=%{marker.size}<br>lat=%{lat}<br>lon=%{lon}<extra></extra>\", \"hovertext\": [\"H\\u00f6chst\"], \"lat\": [50.099511799999995], \"legendgroup\": \"H\\u00f6chst\", \"lon\": [8.5452956], \"marker\": {\"color\": \"#FF6692\", \"size\": [1], \"sizemode\": \"area\", \"sizeref\": 0.45}, \"name\": \"H\\u00f6chst\", \"showlegend\": true, \"type\": \"scattergeo\"}, {\"geo\": \"geo\", \"hovertemplate\": \"<b>%{hovertext}</b><br><br>city_name=Eschenburg<br>year_participation=1980<br>cumsum=%{marker.size}<br>lat=%{lat}<br>lon=%{lon}<extra></extra>\", \"hovertext\": [\"Eschenburg\"], \"lat\": [50.814301], \"legendgroup\": \"Eschenburg\", \"lon\": [8.3403065], \"marker\": {\"color\": \"#B6E880\", \"size\": [1], \"sizemode\": \"area\", \"sizeref\": 0.45}, \"name\": \"Eschenburg\", \"showlegend\": true, \"type\": \"scattergeo\"}, {\"geo\": \"geo\", \"hovertemplate\": \"<b>%{hovertext}</b><br><br>city_name=Bochum<br>year_participation=1980<br>cumsum=%{marker.size}<br>lat=%{lat}<br>lon=%{lon}<extra></extra>\", \"hovertext\": [\"Bochum\"], \"lat\": [51.4818111], \"legendgroup\": \"Bochum\", \"lon\": [7.219663499999999], \"marker\": {\"color\": \"#FF97FF\", \"size\": [1], \"sizemode\": \"area\", \"sizeref\": 0.45}, \"name\": \"Bochum\", \"showlegend\": true, \"type\": \"scattergeo\"}, {\"geo\": \"geo\", \"hovertemplate\": \"<b>%{hovertext}</b><br><br>city_name=Erlangen<br>year_participation=1980<br>cumsum=%{marker.size}<br>lat=%{lat}<br>lon=%{lon}<extra></extra>\", \"hovertext\": [\"Erlangen\"], \"lat\": [49.5981187], \"legendgroup\": \"Erlangen\", \"lon\": [11.003645], \"marker\": {\"color\": \"#FECB52\", \"size\": [1], \"sizemode\": \"area\", \"sizeref\": 0.45}, \"name\": \"Erlangen\", \"showlegend\": true, \"type\": \"scattergeo\"}, {\"geo\": \"geo\", \"hovertemplate\": \"<b>%{hovertext}</b><br><br>city_name=Worpswede<br>year_participation=1980<br>cumsum=%{marker.size}<br>lat=%{lat}<br>lon=%{lon}<extra></extra>\", \"hovertext\": [\"Worpswede\"], \"lat\": [53.22300179999999], \"legendgroup\": \"Worpswede\", \"lon\": [8.928348199999999], \"marker\": {\"color\": \"#636efa\", \"size\": [1], \"sizemode\": \"area\", \"sizeref\": 0.45}, \"name\": \"Worpswede\", \"showlegend\": true, \"type\": \"scattergeo\"}], \"name\": \"1980\"}, {\"data\": [{\"geo\": \"geo\", \"hovertemplate\": \"<b>%{hovertext}</b><br><br>city_name=Wien<br>year_participation=1981<br>cumsum=%{marker.size}<br>lat=%{lat}<br>lon=%{lon}<extra></extra>\", \"hovertext\": [\"Wien\"], \"lat\": [48.2083537], \"legendgroup\": \"Wien\", \"lon\": [16.372504199999998], \"marker\": {\"color\": \"#00cc96\", \"size\": [12], \"sizemode\": \"area\", \"sizeref\": 0.45}, \"name\": \"Wien\", \"showlegend\": true, \"type\": \"scattergeo\"}, {\"geo\": \"geo\", \"hovertemplate\": \"<b>%{hovertext}</b><br><br>city_name=Klagenfurt<br>year_participation=1981<br>cumsum=%{marker.size}<br>lat=%{lat}<br>lon=%{lon}<extra></extra>\", \"hovertext\": [\"Klagenfurt\"], \"lat\": [46.6228162], \"legendgroup\": \"Klagenfurt\", \"lon\": [14.307960399999999], \"marker\": {\"color\": \"#ab63fa\", \"size\": [6], \"sizemode\": \"area\", \"sizeref\": 0.45}, \"name\": \"Klagenfurt\", \"showlegend\": true, \"type\": \"scattergeo\"}, {\"geo\": \"geo\", \"hovertemplate\": \"<b>%{hovertext}</b><br><br>city_name=M\\u00fcnchen<br>year_participation=1981<br>cumsum=%{marker.size}<br>lat=%{lat}<br>lon=%{lon}<extra></extra>\", \"hovertext\": [\"M\\u00fcnchen\"], \"lat\": [48.1371079], \"legendgroup\": \"M\\u00fcnchen\", \"lon\": [11.575382199999998], \"marker\": {\"color\": \"#B6E880\", \"size\": [15], \"sizemode\": \"area\", \"sizeref\": 0.45}, \"name\": \"M\\u00fcnchen\", \"showlegend\": true, \"type\": \"scattergeo\"}, {\"geo\": \"geo\", \"hovertemplate\": \"<b>%{hovertext}</b><br><br>city_name=Hamburg<br>year_participation=1981<br>cumsum=%{marker.size}<br>lat=%{lat}<br>lon=%{lon}<extra></extra>\", \"hovertext\": [\"Hamburg\"], \"lat\": [53.543764100000004], \"legendgroup\": \"Hamburg\", \"lon\": [10.009913300000001], \"marker\": {\"color\": \"#FF97FF\", \"size\": [4], \"sizemode\": \"area\", \"sizeref\": 0.45}, \"name\": \"Hamburg\", \"showlegend\": true, \"type\": \"scattergeo\"}, {\"geo\": \"geo\", \"hovertemplate\": \"<b>%{hovertext}</b><br><br>city_name=Z\\u00fcrich<br>year_participation=1981<br>cumsum=%{marker.size}<br>lat=%{lat}<br>lon=%{lon}<extra></extra>\", \"hovertext\": [\"Z\\u00fcrich\"], \"lat\": [47.3723941], \"legendgroup\": \"Z\\u00fcrich\", \"lon\": [8.5423328], \"marker\": {\"color\": \"#FECB52\", \"size\": [3], \"sizemode\": \"area\", \"sizeref\": 0.45}, \"name\": \"Z\\u00fcrich\", \"showlegend\": true, \"type\": \"scattergeo\"}, {\"geo\": \"geo\", \"hovertemplate\": \"<b>%{hovertext}</b><br><br>city_name=Berlin<br>year_participation=1981<br>cumsum=%{marker.size}<br>lat=%{lat}<br>lon=%{lon}<extra></extra>\", \"hovertext\": [\"Berlin\"], \"lat\": [52.517036499999996], \"legendgroup\": \"Berlin\", \"lon\": [13.388859900000002], \"marker\": {\"color\": \"#EF553B\", \"size\": [11], \"sizemode\": \"area\", \"sizeref\": 0.45}, \"name\": \"Berlin\", \"showlegend\": true, \"type\": \"scattergeo\"}, {\"geo\": \"geo\", \"hovertemplate\": \"<b>%{hovertext}</b><br><br>city_name=Frankfurt/Main<br>year_participation=1981<br>cumsum=%{marker.size}<br>lat=%{lat}<br>lon=%{lon}<extra></extra>\", \"hovertext\": [\"Frankfurt/Main\"], \"lat\": [50.053763700000005], \"legendgroup\": \"Frankfurt/Main\", \"lon\": [8.637085800000001], \"marker\": {\"color\": \"#ab63fa\", \"size\": [6], \"sizemode\": \"area\", \"sizeref\": 0.45}, \"name\": \"Frankfurt/Main\", \"showlegend\": true, \"type\": \"scattergeo\"}, {\"geo\": \"geo\", \"hovertemplate\": \"<b>%{hovertext}</b><br><br>city_name=Bern<br>year_participation=1981<br>cumsum=%{marker.size}<br>lat=%{lat}<br>lon=%{lon}<extra></extra>\", \"hovertext\": [\"Bern\"], \"lat\": [46.9482713], \"legendgroup\": \"Bern\", \"lon\": [7.4514512], \"marker\": {\"color\": \"#FF6692\", \"size\": [4], \"sizemode\": \"area\", \"sizeref\": 0.45}, \"name\": \"Bern\", \"showlegend\": true, \"type\": \"scattergeo\"}, {\"geo\": \"geo\", \"hovertemplate\": \"<b>%{hovertext}</b><br><br>city_name=Graz<br>year_participation=1981<br>cumsum=%{marker.size}<br>lat=%{lat}<br>lon=%{lon}<extra></extra>\", \"hovertext\": [\"Graz\"], \"lat\": [47.070867799999995], \"legendgroup\": \"Graz\", \"lon\": [15.438278599999999], \"marker\": {\"color\": \"#00cc96\", \"size\": [2], \"sizemode\": \"area\", \"sizeref\": 0.45}, \"name\": \"Graz\", \"showlegend\": true, \"type\": \"scattergeo\"}, {\"geo\": \"geo\", \"hovertemplate\": \"<b>%{hovertext}</b><br><br>city_name=Basel<br>year_participation=1981<br>cumsum=%{marker.size}<br>lat=%{lat}<br>lon=%{lon}<extra></extra>\", \"hovertext\": [\"Basel\"], \"lat\": [47.55810770000001], \"legendgroup\": \"Basel\", \"lon\": [7.5878261], \"marker\": {\"color\": \"#FECB52\", \"size\": [3], \"sizemode\": \"area\", \"sizeref\": 0.45}, \"name\": \"Basel\", \"showlegend\": true, \"type\": \"scattergeo\"}, {\"geo\": \"geo\", \"hovertemplate\": \"<b>%{hovertext}</b><br><br>city_name=Rzeszow<br>year_participation=1981<br>cumsum=%{marker.size}<br>lat=%{lat}<br>lon=%{lon}<extra></extra>\", \"hovertext\": [\"Rzeszow\"], \"lat\": [50.00715125], \"legendgroup\": \"Rzeszow\", \"lon\": [22.009911525182105], \"marker\": {\"color\": \"#EF553B\", \"size\": [1], \"sizemode\": \"area\", \"sizeref\": 0.45}, \"name\": \"Rzeszow\", \"showlegend\": true, \"type\": \"scattergeo\"}, {\"geo\": \"geo\", \"hovertemplate\": \"<b>%{hovertext}</b><br><br>city_name=T\\u00fcbingen<br>year_participation=1981<br>cumsum=%{marker.size}<br>lat=%{lat}<br>lon=%{lon}<extra></extra>\", \"hovertext\": [\"T\\u00fcbingen\"], \"lat\": [48.5236164], \"legendgroup\": \"T\\u00fcbingen\", \"lon\": [9.0535531], \"marker\": {\"color\": \"#00cc96\", \"size\": [1], \"sizemode\": \"area\", \"sizeref\": 0.45}, \"name\": \"T\\u00fcbingen\", \"showlegend\": true, \"type\": \"scattergeo\"}, {\"geo\": \"geo\", \"hovertemplate\": \"<b>%{hovertext}</b><br><br>city_name=Esslingen<br>year_participation=1981<br>cumsum=%{marker.size}<br>lat=%{lat}<br>lon=%{lon}<extra></extra>\", \"hovertext\": [\"Esslingen\"], \"lat\": [48.7427584], \"legendgroup\": \"Esslingen\", \"lon\": [9.3071685], \"marker\": {\"color\": \"#ab63fa\", \"size\": [1], \"sizemode\": \"area\", \"sizeref\": 0.45}, \"name\": \"Esslingen\", \"showlegend\": true, \"type\": \"scattergeo\"}, {\"geo\": \"geo\", \"hovertemplate\": \"<b>%{hovertext}</b><br><br>city_name=Niederwerrn<br>year_participation=1981<br>cumsum=%{marker.size}<br>lat=%{lat}<br>lon=%{lon}<extra></extra>\", \"hovertext\": [\"Niederwerrn\"], \"lat\": [50.0610864], \"legendgroup\": \"Niederwerrn\", \"lon\": [10.182108099999999], \"marker\": {\"color\": \"#FFA15A\", \"size\": [1], \"sizemode\": \"area\", \"sizeref\": 0.45}, \"name\": \"Niederwerrn\", \"showlegend\": true, \"type\": \"scattergeo\"}, {\"geo\": \"geo\", \"hovertemplate\": \"<b>%{hovertext}</b><br><br>city_name=Visp<br>year_participation=1981<br>cumsum=%{marker.size}<br>lat=%{lat}<br>lon=%{lon}<extra></extra>\", \"hovertext\": [\"Visp\"], \"lat\": [46.11758005], \"legendgroup\": \"Visp\", \"lon\": [7.866476544533072], \"marker\": {\"color\": \"#19d3f3\", \"size\": [1], \"sizemode\": \"area\", \"sizeref\": 0.45}, \"name\": \"Visp\", \"showlegend\": true, \"type\": \"scattergeo\"}, {\"geo\": \"geo\", \"hovertemplate\": \"<b>%{hovertext}</b><br><br>city_name=Rothirst<br>year_participation=1981<br>cumsum=%{marker.size}<br>lat=%{lat}<br>lon=%{lon}<extra></extra>\", \"hovertext\": [\"Rothirst\"], \"lat\": [47.3060945], \"legendgroup\": \"Rothirst\", \"lon\": [7.8890338], \"marker\": {\"color\": \"#FF6692\", \"size\": [1], \"sizemode\": \"area\", \"sizeref\": 0.45}, \"name\": \"Rothirst\", \"showlegend\": true, \"type\": \"scattergeo\"}, {\"geo\": \"geo\", \"hovertemplate\": \"<b>%{hovertext}</b><br><br>city_name=Engelberg<br>year_participation=1981<br>cumsum=%{marker.size}<br>lat=%{lat}<br>lon=%{lon}<extra></extra>\", \"hovertext\": [\"Engelberg\"], \"lat\": [46.822349700000004], \"legendgroup\": \"Engelberg\", \"lon\": [8.4043996], \"marker\": {\"color\": \"#B6E880\", \"size\": [1], \"sizemode\": \"area\", \"sizeref\": 0.45}, \"name\": \"Engelberg\", \"showlegend\": true, \"type\": \"scattergeo\"}, {\"geo\": \"geo\", \"hovertemplate\": \"<b>%{hovertext}</b><br><br>city_name=G\\u00f6ttingen<br>year_participation=1981<br>cumsum=%{marker.size}<br>lat=%{lat}<br>lon=%{lon}<extra></extra>\", \"hovertext\": [\"G\\u00f6ttingen\"], \"lat\": [51.5327604], \"legendgroup\": \"G\\u00f6ttingen\", \"lon\": [9.9352051], \"marker\": {\"color\": \"#FF97FF\", \"size\": [1], \"sizemode\": \"area\", \"sizeref\": 0.45}, \"name\": \"G\\u00f6ttingen\", \"showlegend\": true, \"type\": \"scattergeo\"}, {\"geo\": \"geo\", \"hovertemplate\": \"<b>%{hovertext}</b><br><br>city_name=Trenten<br>year_participation=1981<br>cumsum=%{marker.size}<br>lat=%{lat}<br>lon=%{lon}<extra></extra>\", \"hovertext\": [\"Trenten\"], \"lat\": [-7.512359700000001], \"legendgroup\": \"Trenten\", \"lon\": [110.2990233], \"marker\": {\"color\": \"#FECB52\", \"size\": [1], \"sizemode\": \"area\", \"sizeref\": 0.45}, \"name\": \"Trenten\", \"showlegend\": true, \"type\": \"scattergeo\"}, {\"geo\": \"geo\", \"hovertemplate\": \"<b>%{hovertext}</b><br><br>city_name=Genf<br>year_participation=1981<br>cumsum=%{marker.size}<br>lat=%{lat}<br>lon=%{lon}<extra></extra>\", \"hovertext\": [\"Genf\"], \"lat\": [46.2017559], \"legendgroup\": \"Genf\", \"lon\": [6.146601400000001], \"marker\": {\"color\": \"#636efa\", \"size\": [1], \"sizemode\": \"area\", \"sizeref\": 0.45}, \"name\": \"Genf\", \"showlegend\": true, \"type\": \"scattergeo\"}, {\"geo\": \"geo\", \"hovertemplate\": \"<b>%{hovertext}</b><br><br>city_name=Tainach<br>year_participation=1981<br>cumsum=%{marker.size}<br>lat=%{lat}<br>lon=%{lon}<extra></extra>\", \"hovertext\": [\"Tainach\"], \"lat\": [46.6353811], \"legendgroup\": \"Tainach\", \"lon\": [14.5392904], \"marker\": {\"color\": \"#EF553B\", \"size\": [1], \"sizemode\": \"area\", \"sizeref\": 0.45}, \"name\": \"Tainach\", \"showlegend\": true, \"type\": \"scattergeo\"}], \"name\": \"1981\"}, {\"data\": [{\"geo\": \"geo\", \"hovertemplate\": \"<b>%{hovertext}</b><br><br>city_name=Wien<br>year_participation=1982<br>cumsum=%{marker.size}<br>lat=%{lat}<br>lon=%{lon}<extra></extra>\", \"hovertext\": [\"Wien\"], \"lat\": [48.2083537], \"legendgroup\": \"Wien\", \"lon\": [16.372504199999998], \"marker\": {\"color\": \"#00cc96\", \"size\": [16], \"sizemode\": \"area\", \"sizeref\": 0.45}, \"name\": \"Wien\", \"showlegend\": true, \"type\": \"scattergeo\"}, {\"geo\": \"geo\", \"hovertemplate\": \"<b>%{hovertext}</b><br><br>city_name=Klagenfurt<br>year_participation=1982<br>cumsum=%{marker.size}<br>lat=%{lat}<br>lon=%{lon}<extra></extra>\", \"hovertext\": [\"Klagenfurt\"], \"lat\": [46.6228162], \"legendgroup\": \"Klagenfurt\", \"lon\": [14.307960399999999], \"marker\": {\"color\": \"#ab63fa\", \"size\": [7], \"sizemode\": \"area\", \"sizeref\": 0.45}, \"name\": \"Klagenfurt\", \"showlegend\": true, \"type\": \"scattergeo\"}, {\"geo\": \"geo\", \"hovertemplate\": \"<b>%{hovertext}</b><br><br>city_name=M\\u00fcnchen<br>year_participation=1982<br>cumsum=%{marker.size}<br>lat=%{lat}<br>lon=%{lon}<extra></extra>\", \"hovertext\": [\"M\\u00fcnchen\"], \"lat\": [48.1371079], \"legendgroup\": \"M\\u00fcnchen\", \"lon\": [11.575382199999998], \"marker\": {\"color\": \"#B6E880\", \"size\": [16], \"sizemode\": \"area\", \"sizeref\": 0.45}, \"name\": \"M\\u00fcnchen\", \"showlegend\": true, \"type\": \"scattergeo\"}, {\"geo\": \"geo\", \"hovertemplate\": \"<b>%{hovertext}</b><br><br>city_name=Hamburg<br>year_participation=1982<br>cumsum=%{marker.size}<br>lat=%{lat}<br>lon=%{lon}<extra></extra>\", \"hovertext\": [\"Hamburg\"], \"lat\": [53.543764100000004], \"legendgroup\": \"Hamburg\", \"lon\": [10.009913300000001], \"marker\": {\"color\": \"#FF97FF\", \"size\": [6], \"sizemode\": \"area\", \"sizeref\": 0.45}, \"name\": \"Hamburg\", \"showlegend\": true, \"type\": \"scattergeo\"}, {\"geo\": \"geo\", \"hovertemplate\": \"<b>%{hovertext}</b><br><br>city_name=Z\\u00fcrich<br>year_participation=1982<br>cumsum=%{marker.size}<br>lat=%{lat}<br>lon=%{lon}<extra></extra>\", \"hovertext\": [\"Z\\u00fcrich\"], \"lat\": [47.3723941], \"legendgroup\": \"Z\\u00fcrich\", \"lon\": [8.5423328], \"marker\": {\"color\": \"#FECB52\", \"size\": [4], \"sizemode\": \"area\", \"sizeref\": 0.45}, \"name\": \"Z\\u00fcrich\", \"showlegend\": true, \"type\": \"scattergeo\"}, {\"geo\": \"geo\", \"hovertemplate\": \"<b>%{hovertext}</b><br><br>city_name=M\\u00fcnster<br>year_participation=1982<br>cumsum=%{marker.size}<br>lat=%{lat}<br>lon=%{lon}<extra></extra>\", \"hovertext\": [\"M\\u00fcnster\"], \"lat\": [51.9625101], \"legendgroup\": \"M\\u00fcnster\", \"lon\": [7.6251879], \"marker\": {\"color\": \"#636efa\", \"size\": [2], \"sizemode\": \"area\", \"sizeref\": 0.45}, \"name\": \"M\\u00fcnster\", \"showlegend\": true, \"type\": \"scattergeo\"}, {\"geo\": \"geo\", \"hovertemplate\": \"<b>%{hovertext}</b><br><br>city_name=Berlin<br>year_participation=1982<br>cumsum=%{marker.size}<br>lat=%{lat}<br>lon=%{lon}<extra></extra>\", \"hovertext\": [\"Berlin\"], \"lat\": [52.517036499999996], \"legendgroup\": \"Berlin\", \"lon\": [13.388859900000002], \"marker\": {\"color\": \"#EF553B\", \"size\": [15], \"sizemode\": \"area\", \"sizeref\": 0.45}, \"name\": \"Berlin\", \"showlegend\": true, \"type\": \"scattergeo\"}, {\"geo\": \"geo\", \"hovertemplate\": \"<b>%{hovertext}</b><br><br>city_name=Frankfurt/Main<br>year_participation=1982<br>cumsum=%{marker.size}<br>lat=%{lat}<br>lon=%{lon}<extra></extra>\", \"hovertext\": [\"Frankfurt/Main\"], \"lat\": [50.053763700000005], \"legendgroup\": \"Frankfurt/Main\", \"lon\": [8.637085800000001], \"marker\": {\"color\": \"#ab63fa\", \"size\": [7], \"sizemode\": \"area\", \"sizeref\": 0.45}, \"name\": \"Frankfurt/Main\", \"showlegend\": true, \"type\": \"scattergeo\"}, {\"geo\": \"geo\", \"hovertemplate\": \"<b>%{hovertext}</b><br><br>city_name=N\\u00fcrnberg<br>year_participation=1982<br>cumsum=%{marker.size}<br>lat=%{lat}<br>lon=%{lon}<extra></extra>\", \"hovertext\": [\"N\\u00fcrnberg\"], \"lat\": [49.453872], \"legendgroup\": \"N\\u00fcrnberg\", \"lon\": [11.077297999999999], \"marker\": {\"color\": \"#19d3f3\", \"size\": [3], \"sizemode\": \"area\", \"sizeref\": 0.45}, \"name\": \"N\\u00fcrnberg\", \"showlegend\": true, \"type\": \"scattergeo\"}, {\"geo\": \"geo\", \"hovertemplate\": \"<b>%{hovertext}</b><br><br>city_name=Hermagor<br>year_participation=1982<br>cumsum=%{marker.size}<br>lat=%{lat}<br>lon=%{lon}<extra></extra>\", \"hovertext\": [\"Hermagor\"], \"lat\": [46.6268076], \"legendgroup\": \"Hermagor\", \"lon\": [13.370238199999998], \"marker\": {\"color\": \"#FECB52\", \"size\": [2], \"sizemode\": \"area\", \"sizeref\": 0.45}, \"name\": \"Hermagor\", \"showlegend\": true, \"type\": \"scattergeo\"}, {\"geo\": \"geo\", \"hovertemplate\": \"<b>%{hovertext}</b><br><br>city_name=Uetikon am See<br>year_participation=1982<br>cumsum=%{marker.size}<br>lat=%{lat}<br>lon=%{lon}<extra></extra>\", \"hovertext\": [\"Uetikon am See\"], \"lat\": [47.269368], \"legendgroup\": \"Uetikon am See\", \"lon\": [8.68316], \"marker\": {\"color\": \"#636efa\", \"size\": [2], \"sizemode\": \"area\", \"sizeref\": 0.45}, \"name\": \"Uetikon am See\", \"showlegend\": true, \"type\": \"scattergeo\"}, {\"geo\": \"geo\", \"hovertemplate\": \"<b>%{hovertext}</b><br><br>city_name=Wiesbaden<br>year_participation=1982<br>cumsum=%{marker.size}<br>lat=%{lat}<br>lon=%{lon}<extra></extra>\", \"hovertext\": [\"Wiesbaden\"], \"lat\": [50.082038399999995], \"legendgroup\": \"Wiesbaden\", \"lon\": [8.2416556], \"marker\": {\"color\": \"#19d3f3\", \"size\": [2], \"sizemode\": \"area\", \"sizeref\": 0.45}, \"name\": \"Wiesbaden\", \"showlegend\": true, \"type\": \"scattergeo\"}, {\"geo\": \"geo\", \"hovertemplate\": \"<b>%{hovertext}</b><br><br>city_name=K\\u00f6ln<br>year_participation=1982<br>cumsum=%{marker.size}<br>lat=%{lat}<br>lon=%{lon}<extra></extra>\", \"hovertext\": [\"K\\u00f6ln\"], \"lat\": [50.938361], \"legendgroup\": \"K\\u00f6ln\", \"lon\": [6.959974000000001], \"marker\": {\"color\": \"#00cc96\", \"size\": [1], \"sizemode\": \"area\", \"sizeref\": 0.45}, \"name\": \"K\\u00f6ln\", \"showlegend\": true, \"type\": \"scattergeo\"}, {\"geo\": \"geo\", \"hovertemplate\": \"<b>%{hovertext}</b><br><br>city_name=Baden-Baden<br>year_participation=1982<br>cumsum=%{marker.size}<br>lat=%{lat}<br>lon=%{lon}<extra></extra>\", \"hovertext\": [\"Baden-Baden\"], \"lat\": [48.7580777], \"legendgroup\": \"Baden-Baden\", \"lon\": [8.2415239], \"marker\": {\"color\": \"#ab63fa\", \"size\": [1], \"sizemode\": \"area\", \"sizeref\": 0.45}, \"name\": \"Baden-Baden\", \"showlegend\": true, \"type\": \"scattergeo\"}, {\"geo\": \"geo\", \"hovertemplate\": \"<b>%{hovertext}</b><br><br>city_name=Wennigsen<br>year_participation=1982<br>cumsum=%{marker.size}<br>lat=%{lat}<br>lon=%{lon}<extra></extra>\", \"hovertext\": [\"Wennigsen\"], \"lat\": [52.2762744], \"legendgroup\": \"Wennigsen\", \"lon\": [9.5671846], \"marker\": {\"color\": \"#FFA15A\", \"size\": [1], \"sizemode\": \"area\", \"sizeref\": 0.45}, \"name\": \"Wennigsen\", \"showlegend\": true, \"type\": \"scattergeo\"}, {\"geo\": \"geo\", \"hovertemplate\": \"<b>%{hovertext}</b><br><br>city_name=Hohensolms<br>year_participation=1982<br>cumsum=%{marker.size}<br>lat=%{lat}<br>lon=%{lon}<extra></extra>\", \"hovertext\": [\"Hohensolms\"], \"lat\": [50.6520794], \"legendgroup\": \"Hohensolms\", \"lon\": [8.516495599999999], \"marker\": {\"color\": \"#19d3f3\", \"size\": [1], \"sizemode\": \"area\", \"sizeref\": 0.45}, \"name\": \"Hohensolms\", \"showlegend\": true, \"type\": \"scattergeo\"}, {\"geo\": \"geo\", \"hovertemplate\": \"<b>%{hovertext}</b><br><br>city_name=Innsbruck<br>year_participation=1982<br>cumsum=%{marker.size}<br>lat=%{lat}<br>lon=%{lon}<extra></extra>\", \"hovertext\": [\"Innsbruck\"], \"lat\": [47.265429600000004], \"legendgroup\": \"Innsbruck\", \"lon\": [11.392768499999999], \"marker\": {\"color\": \"#FF6692\", \"size\": [2], \"sizemode\": \"area\", \"sizeref\": 0.45}, \"name\": \"Innsbruck\", \"showlegend\": true, \"type\": \"scattergeo\"}, {\"geo\": \"geo\", \"hovertemplate\": \"<b>%{hovertext}</b><br><br>city_name=Mainz<br>year_participation=1982<br>cumsum=%{marker.size}<br>lat=%{lat}<br>lon=%{lon}<extra></extra>\", \"hovertext\": [\"Mainz\"], \"lat\": [50.0012314], \"legendgroup\": \"Mainz\", \"lon\": [8.276251299999998], \"marker\": {\"color\": \"#B6E880\", \"size\": [1], \"sizemode\": \"area\", \"sizeref\": 0.45}, \"name\": \"Mainz\", \"showlegend\": true, \"type\": \"scattergeo\"}, {\"geo\": \"geo\", \"hovertemplate\": \"<b>%{hovertext}</b><br><br>city_name=Stuttgart<br>year_participation=1982<br>cumsum=%{marker.size}<br>lat=%{lat}<br>lon=%{lon}<extra></extra>\", \"hovertext\": [\"Stuttgart\"], \"lat\": [48.778448499999996], \"legendgroup\": \"Stuttgart\", \"lon\": [9.1800132], \"marker\": {\"color\": \"#FF97FF\", \"size\": [1], \"sizemode\": \"area\", \"sizeref\": 0.45}, \"name\": \"Stuttgart\", \"showlegend\": true, \"type\": \"scattergeo\"}, {\"geo\": \"geo\", \"hovertemplate\": \"<b>%{hovertext}</b><br><br>city_name=London<br>year_participation=1982<br>cumsum=%{marker.size}<br>lat=%{lat}<br>lon=%{lon}<extra></extra>\", \"hovertext\": [\"London\"], \"lat\": [51.5073219], \"legendgroup\": \"London\", \"lon\": [-0.1276474], \"marker\": {\"color\": \"#FECB52\", \"size\": [1], \"sizemode\": \"area\", \"sizeref\": 0.45}, \"name\": \"London\", \"showlegend\": true, \"type\": \"scattergeo\"}], \"name\": \"1982\"}, {\"data\": [{\"geo\": \"geo\", \"hovertemplate\": \"<b>%{hovertext}</b><br><br>city_name=M\\u00fcnchen<br>year_participation=1983<br>cumsum=%{marker.size}<br>lat=%{lat}<br>lon=%{lon}<extra></extra>\", \"hovertext\": [\"M\\u00fcnchen\"], \"lat\": [48.1371079], \"legendgroup\": \"M\\u00fcnchen\", \"lon\": [11.575382199999998], \"marker\": {\"color\": \"#B6E880\", \"size\": [18], \"sizemode\": \"area\", \"sizeref\": 0.45}, \"name\": \"M\\u00fcnchen\", \"showlegend\": true, \"type\": \"scattergeo\"}, {\"geo\": \"geo\", \"hovertemplate\": \"<b>%{hovertext}</b><br><br>city_name=Hamburg<br>year_participation=1983<br>cumsum=%{marker.size}<br>lat=%{lat}<br>lon=%{lon}<extra></extra>\", \"hovertext\": [\"Hamburg\"], \"lat\": [53.543764100000004], \"legendgroup\": \"Hamburg\", \"lon\": [10.009913300000001], \"marker\": {\"color\": \"#FF97FF\", \"size\": [7], \"sizemode\": \"area\", \"sizeref\": 0.45}, \"name\": \"Hamburg\", \"showlegend\": true, \"type\": \"scattergeo\"}, {\"geo\": \"geo\", \"hovertemplate\": \"<b>%{hovertext}</b><br><br>city_name=Z\\u00fcrich<br>year_participation=1983<br>cumsum=%{marker.size}<br>lat=%{lat}<br>lon=%{lon}<extra></extra>\", \"hovertext\": [\"Z\\u00fcrich\"], \"lat\": [47.3723941], \"legendgroup\": \"Z\\u00fcrich\", \"lon\": [8.5423328], \"marker\": {\"color\": \"#FECB52\", \"size\": [5], \"sizemode\": \"area\", \"sizeref\": 0.45}, \"name\": \"Z\\u00fcrich\", \"showlegend\": true, \"type\": \"scattergeo\"}, {\"geo\": \"geo\", \"hovertemplate\": \"<b>%{hovertext}</b><br><br>city_name=Berlin<br>year_participation=1983<br>cumsum=%{marker.size}<br>lat=%{lat}<br>lon=%{lon}<extra></extra>\", \"hovertext\": [\"Berlin\"], \"lat\": [52.517036499999996], \"legendgroup\": \"Berlin\", \"lon\": [13.388859900000002], \"marker\": {\"color\": \"#EF553B\", \"size\": [19], \"sizemode\": \"area\", \"sizeref\": 0.45}, \"name\": \"Berlin\", \"showlegend\": true, \"type\": \"scattergeo\"}, {\"geo\": \"geo\", \"hovertemplate\": \"<b>%{hovertext}</b><br><br>city_name=Salzburg<br>year_participation=1983<br>cumsum=%{marker.size}<br>lat=%{lat}<br>lon=%{lon}<extra></extra>\", \"hovertext\": [\"Salzburg\"], \"lat\": [47.798134600000004], \"legendgroup\": \"Salzburg\", \"lon\": [13.046480599999999], \"marker\": {\"color\": \"#00cc96\", \"size\": [7], \"sizemode\": \"area\", \"sizeref\": 0.45}, \"name\": \"Salzburg\", \"showlegend\": true, \"type\": \"scattergeo\"}, {\"geo\": \"geo\", \"hovertemplate\": \"<b>%{hovertext}</b><br><br>city_name=Frankfurt/Main<br>year_participation=1983<br>cumsum=%{marker.size}<br>lat=%{lat}<br>lon=%{lon}<extra></extra>\", \"hovertext\": [\"Frankfurt/Main\"], \"lat\": [50.053763700000005], \"legendgroup\": \"Frankfurt/Main\", \"lon\": [8.637085800000001], \"marker\": {\"color\": \"#ab63fa\", \"size\": [9], \"sizemode\": \"area\", \"sizeref\": 0.45}, \"name\": \"Frankfurt/Main\", \"showlegend\": true, \"type\": \"scattergeo\"}, {\"geo\": \"geo\", \"hovertemplate\": \"<b>%{hovertext}</b><br><br>city_name=N\\u00fcrnberg<br>year_participation=1983<br>cumsum=%{marker.size}<br>lat=%{lat}<br>lon=%{lon}<extra></extra>\", \"hovertext\": [\"N\\u00fcrnberg\"], \"lat\": [49.453872], \"legendgroup\": \"N\\u00fcrnberg\", \"lon\": [11.077297999999999], \"marker\": {\"color\": \"#19d3f3\", \"size\": [4], \"sizemode\": \"area\", \"sizeref\": 0.45}, \"name\": \"N\\u00fcrnberg\", \"showlegend\": true, \"type\": \"scattergeo\"}, {\"geo\": \"geo\", \"hovertemplate\": \"<b>%{hovertext}</b><br><br>city_name=Wiesbaden<br>year_participation=1983<br>cumsum=%{marker.size}<br>lat=%{lat}<br>lon=%{lon}<extra></extra>\", \"hovertext\": [\"Wiesbaden\"], \"lat\": [50.082038399999995], \"legendgroup\": \"Wiesbaden\", \"lon\": [8.2416556], \"marker\": {\"color\": \"#19d3f3\", \"size\": [3], \"sizemode\": \"area\", \"sizeref\": 0.45}, \"name\": \"Wiesbaden\", \"showlegend\": true, \"type\": \"scattergeo\"}, {\"geo\": \"geo\", \"hovertemplate\": \"<b>%{hovertext}</b><br><br>city_name=Bern<br>year_participation=1983<br>cumsum=%{marker.size}<br>lat=%{lat}<br>lon=%{lon}<extra></extra>\", \"hovertext\": [\"Bern\"], \"lat\": [46.9482713], \"legendgroup\": \"Bern\", \"lon\": [7.4514512], \"marker\": {\"color\": \"#FF6692\", \"size\": [5], \"sizemode\": \"area\", \"sizeref\": 0.45}, \"name\": \"Bern\", \"showlegend\": true, \"type\": \"scattergeo\"}, {\"geo\": \"geo\", \"hovertemplate\": \"<b>%{hovertext}</b><br><br>city_name=Basel<br>year_participation=1983<br>cumsum=%{marker.size}<br>lat=%{lat}<br>lon=%{lon}<extra></extra>\", \"hovertext\": [\"Basel\"], \"lat\": [47.55810770000001], \"legendgroup\": \"Basel\", \"lon\": [7.5878261], \"marker\": {\"color\": \"#FECB52\", \"size\": [4], \"sizemode\": \"area\", \"sizeref\": 0.45}, \"name\": \"Basel\", \"showlegend\": true, \"type\": \"scattergeo\"}, {\"geo\": \"geo\", \"hovertemplate\": \"<b>%{hovertext}</b><br><br>city_name=Karlsruhe<br>year_participation=1983<br>cumsum=%{marker.size}<br>lat=%{lat}<br>lon=%{lon}<extra></extra>\", \"hovertext\": [\"Karlsruhe\"], \"lat\": [49.006870500000005], \"legendgroup\": \"Karlsruhe\", \"lon\": [8.4034195], \"marker\": {\"color\": \"#19d3f3\", \"size\": [2], \"sizemode\": \"area\", \"sizeref\": 0.45}, \"name\": \"Karlsruhe\", \"showlegend\": true, \"type\": \"scattergeo\"}, {\"geo\": \"geo\", \"hovertemplate\": \"<b>%{hovertext}</b><br><br>city_name=Bochum<br>year_participation=1983<br>cumsum=%{marker.size}<br>lat=%{lat}<br>lon=%{lon}<extra></extra>\", \"hovertext\": [\"Bochum\"], \"lat\": [51.4818111], \"legendgroup\": \"Bochum\", \"lon\": [7.219663499999999], \"marker\": {\"color\": \"#FF97FF\", \"size\": [2], \"sizemode\": \"area\", \"sizeref\": 0.45}, \"name\": \"Bochum\", \"showlegend\": true, \"type\": \"scattergeo\"}, {\"geo\": \"geo\", \"hovertemplate\": \"<b>%{hovertext}</b><br><br>city_name=Stuttgart<br>year_participation=1983<br>cumsum=%{marker.size}<br>lat=%{lat}<br>lon=%{lon}<extra></extra>\", \"hovertext\": [\"Stuttgart\"], \"lat\": [48.778448499999996], \"legendgroup\": \"Stuttgart\", \"lon\": [9.1800132], \"marker\": {\"color\": \"#FF97FF\", \"size\": [3], \"sizemode\": \"area\", \"sizeref\": 0.45}, \"name\": \"Stuttgart\", \"showlegend\": true, \"type\": \"scattergeo\"}, {\"geo\": \"geo\", \"hovertemplate\": \"<b>%{hovertext}</b><br><br>city_name=London<br>year_participation=1983<br>cumsum=%{marker.size}<br>lat=%{lat}<br>lon=%{lon}<extra></extra>\", \"hovertext\": [\"London\"], \"lat\": [51.5073219], \"legendgroup\": \"London\", \"lon\": [-0.1276474], \"marker\": {\"color\": \"#FECB52\", \"size\": [2], \"sizemode\": \"area\", \"sizeref\": 0.45}, \"name\": \"London\", \"showlegend\": true, \"type\": \"scattergeo\"}, {\"geo\": \"geo\", \"hovertemplate\": \"<b>%{hovertext}</b><br><br>city_name=Stadum<br>year_participation=1983<br>cumsum=%{marker.size}<br>lat=%{lat}<br>lon=%{lon}<extra></extra>\", \"hovertext\": [\"Stadum\"], \"lat\": [54.73897629999999], \"legendgroup\": \"Stadum\", \"lon\": [9.0508992], \"marker\": {\"color\": \"#636efa\", \"size\": [1], \"sizemode\": \"area\", \"sizeref\": 0.45}, \"name\": \"Stadum\", \"showlegend\": true, \"type\": \"scattergeo\"}, {\"geo\": \"geo\", \"hovertemplate\": \"<b>%{hovertext}</b><br><br>city_name=Florenz<br>year_participation=1983<br>cumsum=%{marker.size}<br>lat=%{lat}<br>lon=%{lon}<extra></extra>\", \"hovertext\": [\"Florenz\"], \"lat\": [43.769871200000004], \"legendgroup\": \"Florenz\", \"lon\": [11.2555757], \"marker\": {\"color\": \"#EF553B\", \"size\": [1], \"sizemode\": \"area\", \"sizeref\": 0.45}, \"name\": \"Florenz\", \"showlegend\": true, \"type\": \"scattergeo\"}, {\"geo\": \"geo\", \"hovertemplate\": \"<b>%{hovertext}</b><br><br>city_name=Bremen<br>year_participation=1983<br>cumsum=%{marker.size}<br>lat=%{lat}<br>lon=%{lon}<extra></extra>\", \"hovertext\": [\"Bremen\"], \"lat\": [53.0758196], \"legendgroup\": \"Bremen\", \"lon\": [8.8071646], \"marker\": {\"color\": \"#00cc96\", \"size\": [1], \"sizemode\": \"area\", \"sizeref\": 0.45}, \"name\": \"Bremen\", \"showlegend\": true, \"type\": \"scattergeo\"}, {\"geo\": \"geo\", \"hovertemplate\": \"<b>%{hovertext}</b><br><br>city_name=Osnabr\\u00fcck<br>year_participation=1983<br>cumsum=%{marker.size}<br>lat=%{lat}<br>lon=%{lon}<extra></extra>\", \"hovertext\": [\"Osnabr\\u00fcck\"], \"lat\": [52.266837], \"legendgroup\": \"Osnabr\\u00fcck\", \"lon\": [8.049741000000001], \"marker\": {\"color\": \"#ab63fa\", \"size\": [1], \"sizemode\": \"area\", \"sizeref\": 0.45}, \"name\": \"Osnabr\\u00fcck\", \"showlegend\": true, \"type\": \"scattergeo\"}, {\"geo\": \"geo\", \"hovertemplate\": \"<b>%{hovertext}</b><br><br>city_name=Baltrum<br>year_participation=1983<br>cumsum=%{marker.size}<br>lat=%{lat}<br>lon=%{lon}<extra></extra>\", \"hovertext\": [\"Baltrum\"], \"lat\": [53.7283495], \"legendgroup\": \"Baltrum\", \"lon\": [7.399479964095553], \"marker\": {\"color\": \"#FFA15A\", \"size\": [1], \"sizemode\": \"area\", \"sizeref\": 0.45}, \"name\": \"Baltrum\", \"showlegend\": true, \"type\": \"scattergeo\"}, {\"geo\": \"geo\", \"hovertemplate\": \"<b>%{hovertext}</b><br><br>city_name=Rankweil<br>year_participation=1983<br>cumsum=%{marker.size}<br>lat=%{lat}<br>lon=%{lon}<extra></extra>\", \"hovertext\": [\"Rankweil\"], \"lat\": [47.2731056], \"legendgroup\": \"Rankweil\", \"lon\": [9.63150938085392], \"marker\": {\"color\": \"#19d3f3\", \"size\": [1], \"sizemode\": \"area\", \"sizeref\": 0.45}, \"name\": \"Rankweil\", \"showlegend\": true, \"type\": \"scattergeo\"}, {\"geo\": \"geo\", \"hovertemplate\": \"<b>%{hovertext}</b><br><br>city_name=Gleisdorf<br>year_participation=1983<br>cumsum=%{marker.size}<br>lat=%{lat}<br>lon=%{lon}<extra></extra>\", \"hovertext\": [\"Gleisdorf\"], \"lat\": [47.106751], \"legendgroup\": \"Gleisdorf\", \"lon\": [15.710006557612967], \"marker\": {\"color\": \"#FF6692\", \"size\": [1], \"sizemode\": \"area\", \"sizeref\": 0.45}, \"name\": \"Gleisdorf\", \"showlegend\": true, \"type\": \"scattergeo\"}, {\"geo\": \"geo\", \"hovertemplate\": \"<b>%{hovertext}</b><br><br>city_name=Bregenz<br>year_participation=1983<br>cumsum=%{marker.size}<br>lat=%{lat}<br>lon=%{lon}<extra></extra>\", \"hovertext\": [\"Bregenz\"], \"lat\": [47.5025779], \"legendgroup\": \"Bregenz\", \"lon\": [9.7472924], \"marker\": {\"color\": \"#B6E880\", \"size\": [1], \"sizemode\": \"area\", \"sizeref\": 0.45}, \"name\": \"Bregenz\", \"showlegend\": true, \"type\": \"scattergeo\"}], \"name\": \"1983\"}, {\"data\": [{\"geo\": \"geo\", \"hovertemplate\": \"<b>%{hovertext}</b><br><br>city_name=M\\u00fcnchen<br>year_participation=1984<br>cumsum=%{marker.size}<br>lat=%{lat}<br>lon=%{lon}<extra></extra>\", \"hovertext\": [\"M\\u00fcnchen\"], \"lat\": [48.1371079], \"legendgroup\": \"M\\u00fcnchen\", \"lon\": [11.575382199999998], \"marker\": {\"color\": \"#B6E880\", \"size\": [20], \"sizemode\": \"area\", \"sizeref\": 0.45}, \"name\": \"M\\u00fcnchen\", \"showlegend\": true, \"type\": \"scattergeo\"}, {\"geo\": \"geo\", \"hovertemplate\": \"<b>%{hovertext}</b><br><br>city_name=Hamburg<br>year_participation=1984<br>cumsum=%{marker.size}<br>lat=%{lat}<br>lon=%{lon}<extra></extra>\", \"hovertext\": [\"Hamburg\"], \"lat\": [53.543764100000004], \"legendgroup\": \"Hamburg\", \"lon\": [10.009913300000001], \"marker\": {\"color\": \"#FF97FF\", \"size\": [9], \"sizemode\": \"area\", \"sizeref\": 0.45}, \"name\": \"Hamburg\", \"showlegend\": true, \"type\": \"scattergeo\"}, {\"geo\": \"geo\", \"hovertemplate\": \"<b>%{hovertext}</b><br><br>city_name=Z\\u00fcrich<br>year_participation=1984<br>cumsum=%{marker.size}<br>lat=%{lat}<br>lon=%{lon}<extra></extra>\", \"hovertext\": [\"Z\\u00fcrich\"], \"lat\": [47.3723941], \"legendgroup\": \"Z\\u00fcrich\", \"lon\": [8.5423328], \"marker\": {\"color\": \"#FECB52\", \"size\": [7], \"sizemode\": \"area\", \"sizeref\": 0.45}, \"name\": \"Z\\u00fcrich\", \"showlegend\": true, \"type\": \"scattergeo\"}, {\"geo\": \"geo\", \"hovertemplate\": \"<b>%{hovertext}</b><br><br>city_name=Berlin<br>year_participation=1984<br>cumsum=%{marker.size}<br>lat=%{lat}<br>lon=%{lon}<extra></extra>\", \"hovertext\": [\"Berlin\"], \"lat\": [52.517036499999996], \"legendgroup\": \"Berlin\", \"lon\": [13.388859900000002], \"marker\": {\"color\": \"#EF553B\", \"size\": [21], \"sizemode\": \"area\", \"sizeref\": 0.45}, \"name\": \"Berlin\", \"showlegend\": true, \"type\": \"scattergeo\"}, {\"geo\": \"geo\", \"hovertemplate\": \"<b>%{hovertext}</b><br><br>city_name=Salzburg<br>year_participation=1984<br>cumsum=%{marker.size}<br>lat=%{lat}<br>lon=%{lon}<extra></extra>\", \"hovertext\": [\"Salzburg\"], \"lat\": [47.798134600000004], \"legendgroup\": \"Salzburg\", \"lon\": [13.046480599999999], \"marker\": {\"color\": \"#00cc96\", \"size\": [8], \"sizemode\": \"area\", \"sizeref\": 0.45}, \"name\": \"Salzburg\", \"showlegend\": true, \"type\": \"scattergeo\"}, {\"geo\": \"geo\", \"hovertemplate\": \"<b>%{hovertext}</b><br><br>city_name=Frankfurt/Main<br>year_participation=1984<br>cumsum=%{marker.size}<br>lat=%{lat}<br>lon=%{lon}<extra></extra>\", \"hovertext\": [\"Frankfurt/Main\"], \"lat\": [50.053763700000005], \"legendgroup\": \"Frankfurt/Main\", \"lon\": [8.637085800000001], \"marker\": {\"color\": \"#ab63fa\", \"size\": [10], \"sizemode\": \"area\", \"sizeref\": 0.45}, \"name\": \"Frankfurt/Main\", \"showlegend\": true, \"type\": \"scattergeo\"}, {\"geo\": \"geo\", \"hovertemplate\": \"<b>%{hovertext}</b><br><br>city_name=Bern<br>year_participation=1984<br>cumsum=%{marker.size}<br>lat=%{lat}<br>lon=%{lon}<extra></extra>\", \"hovertext\": [\"Bern\"], \"lat\": [46.9482713], \"legendgroup\": \"Bern\", \"lon\": [7.4514512], \"marker\": {\"color\": \"#FF6692\", \"size\": [8], \"sizemode\": \"area\", \"sizeref\": 0.45}, \"name\": \"Bern\", \"showlegend\": true, \"type\": \"scattergeo\"}, {\"geo\": \"geo\", \"hovertemplate\": \"<b>%{hovertext}</b><br><br>city_name=La Neuveville<br>year_participation=1984<br>cumsum=%{marker.size}<br>lat=%{lat}<br>lon=%{lon}<extra></extra>\", \"hovertext\": [\"La Neuveville\"], \"lat\": [47.0637688], \"legendgroup\": \"La Neuveville\", \"lon\": [7.0927997000000005], \"marker\": {\"color\": \"#FECB52\", \"size\": [2], \"sizemode\": \"area\", \"sizeref\": 0.45}, \"name\": \"La Neuveville\", \"showlegend\": true, \"type\": \"scattergeo\"}, {\"geo\": \"geo\", \"hovertemplate\": \"<b>%{hovertext}</b><br><br>city_name=Graz<br>year_participation=1984<br>cumsum=%{marker.size}<br>lat=%{lat}<br>lon=%{lon}<extra></extra>\", \"hovertext\": [\"Graz\"], \"lat\": [47.070867799999995], \"legendgroup\": \"Graz\", \"lon\": [15.438278599999999], \"marker\": {\"color\": \"#00cc96\", \"size\": [3], \"sizemode\": \"area\", \"sizeref\": 0.45}, \"name\": \"Graz\", \"showlegend\": true, \"type\": \"scattergeo\"}, {\"geo\": \"geo\", \"hovertemplate\": \"<b>%{hovertext}</b><br><br>city_name=Bregenz<br>year_participation=1984<br>cumsum=%{marker.size}<br>lat=%{lat}<br>lon=%{lon}<extra></extra>\", \"hovertext\": [\"Bregenz\"], \"lat\": [47.5025779], \"legendgroup\": \"Bregenz\", \"lon\": [9.7472924], \"marker\": {\"color\": \"#B6E880\", \"size\": [2], \"sizemode\": \"area\", \"sizeref\": 0.45}, \"name\": \"Bregenz\", \"showlegend\": true, \"type\": \"scattergeo\"}, {\"geo\": \"geo\", \"hovertemplate\": \"<b>%{hovertext}</b><br><br>city_name=Wustrow<br>year_participation=1984<br>cumsum=%{marker.size}<br>lat=%{lat}<br>lon=%{lon}<extra></extra>\", \"hovertext\": [\"Wustrow\"], \"lat\": [53.2253478], \"legendgroup\": \"Wustrow\", \"lon\": [12.9698436], \"marker\": {\"color\": \"#FF97FF\", \"size\": [1], \"sizemode\": \"area\", \"sizeref\": 0.45}, \"name\": \"Wustrow\", \"showlegend\": true, \"type\": \"scattergeo\"}, {\"geo\": \"geo\", \"hovertemplate\": \"<b>%{hovertext}</b><br><br>city_name=Heiden<br>year_participation=1984<br>cumsum=%{marker.size}<br>lat=%{lat}<br>lon=%{lon}<extra></extra>\", \"hovertext\": [\"Heiden\"], \"lat\": [47.4421715], \"legendgroup\": \"Heiden\", \"lon\": [9.532089], \"marker\": {\"color\": \"#FECB52\", \"size\": [1], \"sizemode\": \"area\", \"sizeref\": 0.45}, \"name\": \"Heiden\", \"showlegend\": true, \"type\": \"scattergeo\"}, {\"geo\": \"geo\", \"hovertemplate\": \"<b>%{hovertext}</b><br><br>city_name=Luzern<br>year_participation=1984<br>cumsum=%{marker.size}<br>lat=%{lat}<br>lon=%{lon}<extra></extra>\", \"hovertext\": [\"Luzern\"], \"lat\": [47.0505452], \"legendgroup\": \"Luzern\", \"lon\": [8.3054682], \"marker\": {\"color\": \"#636efa\", \"size\": [1], \"sizemode\": \"area\", \"sizeref\": 0.45}, \"name\": \"Luzern\", \"showlegend\": true, \"type\": \"scattergeo\"}, {\"geo\": \"geo\", \"hovertemplate\": \"<b>%{hovertext}</b><br><br>city_name=Hohenems<br>year_participation=1984<br>cumsum=%{marker.size}<br>lat=%{lat}<br>lon=%{lon}<extra></extra>\", \"hovertext\": [\"Hohenems\"], \"lat\": [47.3639973], \"legendgroup\": \"Hohenems\", \"lon\": [9.689271000000002], \"marker\": {\"color\": \"#EF553B\", \"size\": [1], \"sizemode\": \"area\", \"sizeref\": 0.45}, \"name\": \"Hohenems\", \"showlegend\": true, \"type\": \"scattergeo\"}, {\"geo\": \"geo\", \"hovertemplate\": \"<b>%{hovertext}</b><br><br>city_name=Neuried<br>year_participation=1984<br>cumsum=%{marker.size}<br>lat=%{lat}<br>lon=%{lon}<extra></extra>\", \"hovertext\": [\"Neuried\"], \"lat\": [48.4670593], \"legendgroup\": \"Neuried\", \"lon\": [7.8183387], \"marker\": {\"color\": \"#00cc96\", \"size\": [1], \"sizemode\": \"area\", \"sizeref\": 0.45}, \"name\": \"Neuried\", \"showlegend\": true, \"type\": \"scattergeo\"}, {\"geo\": \"geo\", \"hovertemplate\": \"<b>%{hovertext}</b><br><br>city_name=Kassel<br>year_participation=1984<br>cumsum=%{marker.size}<br>lat=%{lat}<br>lon=%{lon}<extra></extra>\", \"hovertext\": [\"Kassel\"], \"lat\": [51.3154546], \"legendgroup\": \"Kassel\", \"lon\": [9.492409599999998], \"marker\": {\"color\": \"#ab63fa\", \"size\": [1], \"sizemode\": \"area\", \"sizeref\": 0.45}, \"name\": \"Kassel\", \"showlegend\": true, \"type\": \"scattergeo\"}, {\"geo\": \"geo\", \"hovertemplate\": \"<b>%{hovertext}</b><br><br>city_name=Waidhofen<br>year_participation=1984<br>cumsum=%{marker.size}<br>lat=%{lat}<br>lon=%{lon}<extra></extra>\", \"hovertext\": [\"Waidhofen\"], \"lat\": [47.95126495], \"legendgroup\": \"Waidhofen\", \"lon\": [14.744525855941324], \"marker\": {\"color\": \"#FFA15A\", \"size\": [1], \"sizemode\": \"area\", \"sizeref\": 0.45}, \"name\": \"Waidhofen\", \"showlegend\": true, \"type\": \"scattergeo\"}, {\"geo\": \"geo\", \"hovertemplate\": \"<b>%{hovertext}</b><br><br>city_name=D\\u00fcsseldorf<br>year_participation=1984<br>cumsum=%{marker.size}<br>lat=%{lat}<br>lon=%{lon}<extra></extra>\", \"hovertext\": [\"D\\u00fcsseldorf\"], \"lat\": [51.2254018], \"legendgroup\": \"D\\u00fcsseldorf\", \"lon\": [6.7763137], \"marker\": {\"color\": \"#19d3f3\", \"size\": [1], \"sizemode\": \"area\", \"sizeref\": 0.45}, \"name\": \"D\\u00fcsseldorf\", \"showlegend\": true, \"type\": \"scattergeo\"}, {\"geo\": \"geo\", \"hovertemplate\": \"<b>%{hovertext}</b><br><br>city_name=St. Georgen<br>year_participation=1984<br>cumsum=%{marker.size}<br>lat=%{lat}<br>lon=%{lon}<extra></extra>\", \"hovertext\": [\"St. Georgen\"], \"lat\": [46.2431499], \"legendgroup\": \"St. Georgen\", \"lon\": [14.4191043], \"marker\": {\"color\": \"#FF6692\", \"size\": [1], \"sizemode\": \"area\", \"sizeref\": 0.45}, \"name\": \"St. Georgen\", \"showlegend\": true, \"type\": \"scattergeo\"}, {\"geo\": \"geo\", \"hovertemplate\": \"<b>%{hovertext}</b><br><br>city_name=Pforzheim<br>year_participation=1984<br>cumsum=%{marker.size}<br>lat=%{lat}<br>lon=%{lon}<extra></extra>\", \"hovertext\": [\"Pforzheim\"], \"lat\": [48.8908846], \"legendgroup\": \"Pforzheim\", \"lon\": [8.7029532], \"marker\": {\"color\": \"#B6E880\", \"size\": [1], \"sizemode\": \"area\", \"sizeref\": 0.45}, \"name\": \"Pforzheim\", \"showlegend\": true, \"type\": \"scattergeo\"}], \"name\": \"1984\"}, {\"data\": [{\"geo\": \"geo\", \"hovertemplate\": \"<b>%{hovertext}</b><br><br>city_name=M\\u00fcnchen<br>year_participation=1985<br>cumsum=%{marker.size}<br>lat=%{lat}<br>lon=%{lon}<extra></extra>\", \"hovertext\": [\"M\\u00fcnchen\"], \"lat\": [48.1371079], \"legendgroup\": \"M\\u00fcnchen\", \"lon\": [11.575382199999998], \"marker\": {\"color\": \"#B6E880\", \"size\": [22], \"sizemode\": \"area\", \"sizeref\": 0.45}, \"name\": \"M\\u00fcnchen\", \"showlegend\": true, \"type\": \"scattergeo\"}, {\"geo\": \"geo\", \"hovertemplate\": \"<b>%{hovertext}</b><br><br>city_name=Hamburg<br>year_participation=1985<br>cumsum=%{marker.size}<br>lat=%{lat}<br>lon=%{lon}<extra></extra>\", \"hovertext\": [\"Hamburg\"], \"lat\": [53.543764100000004], \"legendgroup\": \"Hamburg\", \"lon\": [10.009913300000001], \"marker\": {\"color\": \"#FF97FF\", \"size\": [11], \"sizemode\": \"area\", \"sizeref\": 0.45}, \"name\": \"Hamburg\", \"showlegend\": true, \"type\": \"scattergeo\"}, {\"geo\": \"geo\", \"hovertemplate\": \"<b>%{hovertext}</b><br><br>city_name=Z\\u00fcrich<br>year_participation=1985<br>cumsum=%{marker.size}<br>lat=%{lat}<br>lon=%{lon}<extra></extra>\", \"hovertext\": [\"Z\\u00fcrich\"], \"lat\": [47.3723941], \"legendgroup\": \"Z\\u00fcrich\", \"lon\": [8.5423328], \"marker\": {\"color\": \"#FECB52\", \"size\": [8], \"sizemode\": \"area\", \"sizeref\": 0.45}, \"name\": \"Z\\u00fcrich\", \"showlegend\": true, \"type\": \"scattergeo\"}, {\"geo\": \"geo\", \"hovertemplate\": \"<b>%{hovertext}</b><br><br>city_name=Berlin<br>year_participation=1985<br>cumsum=%{marker.size}<br>lat=%{lat}<br>lon=%{lon}<extra></extra>\", \"hovertext\": [\"Berlin\"], \"lat\": [52.517036499999996], \"legendgroup\": \"Berlin\", \"lon\": [13.388859900000002], \"marker\": {\"color\": \"#EF553B\", \"size\": [24], \"sizemode\": \"area\", \"sizeref\": 0.45}, \"name\": \"Berlin\", \"showlegend\": true, \"type\": \"scattergeo\"}, {\"geo\": \"geo\", \"hovertemplate\": \"<b>%{hovertext}</b><br><br>city_name=Frankfurt/Main<br>year_participation=1985<br>cumsum=%{marker.size}<br>lat=%{lat}<br>lon=%{lon}<extra></extra>\", \"hovertext\": [\"Frankfurt/Main\"], \"lat\": [50.053763700000005], \"legendgroup\": \"Frankfurt/Main\", \"lon\": [8.637085800000001], \"marker\": {\"color\": \"#ab63fa\", \"size\": [11], \"sizemode\": \"area\", \"sizeref\": 0.45}, \"name\": \"Frankfurt/Main\", \"showlegend\": true, \"type\": \"scattergeo\"}, {\"geo\": \"geo\", \"hovertemplate\": \"<b>%{hovertext}</b><br><br>city_name=Graz<br>year_participation=1985<br>cumsum=%{marker.size}<br>lat=%{lat}<br>lon=%{lon}<extra></extra>\", \"hovertext\": [\"Graz\"], \"lat\": [47.070867799999995], \"legendgroup\": \"Graz\", \"lon\": [15.438278599999999], \"marker\": {\"color\": \"#00cc96\", \"size\": [4], \"sizemode\": \"area\", \"sizeref\": 0.45}, \"name\": \"Graz\", \"showlegend\": true, \"type\": \"scattergeo\"}, {\"geo\": \"geo\", \"hovertemplate\": \"<b>%{hovertext}</b><br><br>city_name=Mainz<br>year_participation=1985<br>cumsum=%{marker.size}<br>lat=%{lat}<br>lon=%{lon}<extra></extra>\", \"hovertext\": [\"Mainz\"], \"lat\": [50.0012314], \"legendgroup\": \"Mainz\", \"lon\": [8.276251299999998], \"marker\": {\"color\": \"#B6E880\", \"size\": [2], \"sizemode\": \"area\", \"sizeref\": 0.45}, \"name\": \"Mainz\", \"showlegend\": true, \"type\": \"scattergeo\"}, {\"geo\": \"geo\", \"hovertemplate\": \"<b>%{hovertext}</b><br><br>city_name=Bremen<br>year_participation=1985<br>cumsum=%{marker.size}<br>lat=%{lat}<br>lon=%{lon}<extra></extra>\", \"hovertext\": [\"Bremen\"], \"lat\": [53.0758196], \"legendgroup\": \"Bremen\", \"lon\": [8.8071646], \"marker\": {\"color\": \"#00cc96\", \"size\": [2], \"sizemode\": \"area\", \"sizeref\": 0.45}, \"name\": \"Bremen\", \"showlegend\": true, \"type\": \"scattergeo\"}, {\"geo\": \"geo\", \"hovertemplate\": \"<b>%{hovertext}</b><br><br>city_name=Linz<br>year_participation=1985<br>cumsum=%{marker.size}<br>lat=%{lat}<br>lon=%{lon}<extra></extra>\", \"hovertext\": [\"Linz\"], \"lat\": [48.3059078], \"legendgroup\": \"Linz\", \"lon\": [14.286198], \"marker\": {\"color\": \"#FF97FF\", \"size\": [1], \"sizemode\": \"area\", \"sizeref\": 0.45}, \"name\": \"Linz\", \"showlegend\": true, \"type\": \"scattergeo\"}, {\"geo\": \"geo\", \"hovertemplate\": \"<b>%{hovertext}</b><br><br>city_name=Leoben<br>year_participation=1985<br>cumsum=%{marker.size}<br>lat=%{lat}<br>lon=%{lon}<extra></extra>\", \"hovertext\": [\"Leoben\"], \"lat\": [47.3805128], \"legendgroup\": \"Leoben\", \"lon\": [15.0947756], \"marker\": {\"color\": \"#FECB52\", \"size\": [1], \"sizemode\": \"area\", \"sizeref\": 0.45}, \"name\": \"Leoben\", \"showlegend\": true, \"type\": \"scattergeo\"}, {\"geo\": \"geo\", \"hovertemplate\": \"<b>%{hovertext}</b><br><br>city_name=Brunegg<br>year_participation=1985<br>cumsum=%{marker.size}<br>lat=%{lat}<br>lon=%{lon}<extra></extra>\", \"hovertext\": [\"Brunegg\"], \"lat\": [47.4192416], \"legendgroup\": \"Brunegg\", \"lon\": [8.21637], \"marker\": {\"color\": \"#636efa\", \"size\": [1], \"sizemode\": \"area\", \"sizeref\": 0.45}, \"name\": \"Brunegg\", \"showlegend\": true, \"type\": \"scattergeo\"}, {\"geo\": \"geo\", \"hovertemplate\": \"<b>%{hovertext}</b><br><br>city_name=Bad Essen<br>year_participation=1985<br>cumsum=%{marker.size}<br>lat=%{lat}<br>lon=%{lon}<extra></extra>\", \"hovertext\": [\"Bad Essen\"], \"lat\": [52.3195756], \"legendgroup\": \"Bad Essen\", \"lon\": [8.3440599], \"marker\": {\"color\": \"#EF553B\", \"size\": [1], \"sizemode\": \"area\", \"sizeref\": 0.45}, \"name\": \"Bad Essen\", \"showlegend\": true, \"type\": \"scattergeo\"}, {\"geo\": \"geo\", \"hovertemplate\": \"<b>%{hovertext}</b><br><br>city_name=Erftstadt<br>year_participation=1985<br>cumsum=%{marker.size}<br>lat=%{lat}<br>lon=%{lon}<extra></extra>\", \"hovertext\": [\"Erftstadt\"], \"lat\": [50.789982], \"legendgroup\": \"Erftstadt\", \"lon\": [6.781549221222183], \"marker\": {\"color\": \"#00cc96\", \"size\": [1], \"sizemode\": \"area\", \"sizeref\": 0.45}, \"name\": \"Erftstadt\", \"showlegend\": true, \"type\": \"scattergeo\"}, {\"geo\": \"geo\", \"hovertemplate\": \"<b>%{hovertext}</b><br><br>city_name=Hildesheim<br>year_participation=1985<br>cumsum=%{marker.size}<br>lat=%{lat}<br>lon=%{lon}<extra></extra>\", \"hovertext\": [\"Hildesheim\"], \"lat\": [52.1521636], \"legendgroup\": \"Hildesheim\", \"lon\": [9.9513046], \"marker\": {\"color\": \"#ab63fa\", \"size\": [1], \"sizemode\": \"area\", \"sizeref\": 0.45}, \"name\": \"Hildesheim\", \"showlegend\": true, \"type\": \"scattergeo\"}, {\"geo\": \"geo\", \"hovertemplate\": \"<b>%{hovertext}</b><br><br>city_name=Heinrichswil<br>year_participation=1985<br>cumsum=%{marker.size}<br>lat=%{lat}<br>lon=%{lon}<extra></extra>\", \"hovertext\": [\"Heinrichswil\"], \"lat\": [47.157613], \"legendgroup\": \"Heinrichswil\", \"lon\": [7.6357893], \"marker\": {\"color\": \"#FFA15A\", \"size\": [1], \"sizemode\": \"area\", \"sizeref\": 0.45}, \"name\": \"Heinrichswil\", \"showlegend\": true, \"type\": \"scattergeo\"}, {\"geo\": \"geo\", \"hovertemplate\": \"<b>%{hovertext}</b><br><br>city_name=Ermatingen<br>year_participation=1985<br>cumsum=%{marker.size}<br>lat=%{lat}<br>lon=%{lon}<extra></extra>\", \"hovertext\": [\"Ermatingen\"], \"lat\": [47.6702035], \"legendgroup\": \"Ermatingen\", \"lon\": [9.0852134], \"marker\": {\"color\": \"#19d3f3\", \"size\": [1], \"sizemode\": \"area\", \"sizeref\": 0.45}, \"name\": \"Ermatingen\", \"showlegend\": true, \"type\": \"scattergeo\"}, {\"geo\": \"geo\", \"hovertemplate\": \"<b>%{hovertext}</b><br><br>city_name=Kriens<br>year_participation=1985<br>cumsum=%{marker.size}<br>lat=%{lat}<br>lon=%{lon}<extra></extra>\", \"hovertext\": [\"Kriens\"], \"lat\": [47.034146], \"legendgroup\": \"Kriens\", \"lon\": [8.280799400000001], \"marker\": {\"color\": \"#FF6692\", \"size\": [1], \"sizemode\": \"area\", \"sizeref\": 0.45}, \"name\": \"Kriens\", \"showlegend\": true, \"type\": \"scattergeo\"}, {\"geo\": \"geo\", \"hovertemplate\": \"<b>%{hovertext}</b><br><br>city_name=Inning<br>year_participation=1985<br>cumsum=%{marker.size}<br>lat=%{lat}<br>lon=%{lon}<extra></extra>\", \"hovertext\": [\"Inning\"], \"lat\": [48.179896899999996], \"legendgroup\": \"Inning\", \"lon\": [15.421095600000001], \"marker\": {\"color\": \"#B6E880\", \"size\": [1], \"sizemode\": \"area\", \"sizeref\": 0.45}, \"name\": \"Inning\", \"showlegend\": true, \"type\": \"scattergeo\"}, {\"geo\": \"geo\", \"hovertemplate\": \"<b>%{hovertext}</b><br><br>city_name=Simbach<br>year_participation=1985<br>cumsum=%{marker.size}<br>lat=%{lat}<br>lon=%{lon}<extra></extra>\", \"hovertext\": [\"Simbach\"], \"lat\": [48.566257], \"legendgroup\": \"Simbach\", \"lon\": [12.7391325], \"marker\": {\"color\": \"#FF97FF\", \"size\": [1], \"sizemode\": \"area\", \"sizeref\": 0.45}, \"name\": \"Simbach\", \"showlegend\": true, \"type\": \"scattergeo\"}], \"name\": \"1985\"}, {\"data\": [{\"geo\": \"geo\", \"hovertemplate\": \"<b>%{hovertext}</b><br><br>city_name=Wien<br>year_participation=1986<br>cumsum=%{marker.size}<br>lat=%{lat}<br>lon=%{lon}<extra></extra>\", \"hovertext\": [\"Wien\"], \"lat\": [48.2083537], \"legendgroup\": \"Wien\", \"lon\": [16.372504199999998], \"marker\": {\"color\": \"#00cc96\", \"size\": [18], \"sizemode\": \"area\", \"sizeref\": 0.45}, \"name\": \"Wien\", \"showlegend\": true, \"type\": \"scattergeo\"}, {\"geo\": \"geo\", \"hovertemplate\": \"<b>%{hovertext}</b><br><br>city_name=Klagenfurt<br>year_participation=1986<br>cumsum=%{marker.size}<br>lat=%{lat}<br>lon=%{lon}<extra></extra>\", \"hovertext\": [\"Klagenfurt\"], \"lat\": [46.6228162], \"legendgroup\": \"Klagenfurt\", \"lon\": [14.307960399999999], \"marker\": {\"color\": \"#ab63fa\", \"size\": [8], \"sizemode\": \"area\", \"sizeref\": 0.45}, \"name\": \"Klagenfurt\", \"showlegend\": true, \"type\": \"scattergeo\"}, {\"geo\": \"geo\", \"hovertemplate\": \"<b>%{hovertext}</b><br><br>city_name=M\\u00fcnchen<br>year_participation=1986<br>cumsum=%{marker.size}<br>lat=%{lat}<br>lon=%{lon}<extra></extra>\", \"hovertext\": [\"M\\u00fcnchen\"], \"lat\": [48.1371079], \"legendgroup\": \"M\\u00fcnchen\", \"lon\": [11.575382199999998], \"marker\": {\"color\": \"#B6E880\", \"size\": [26], \"sizemode\": \"area\", \"sizeref\": 0.45}, \"name\": \"M\\u00fcnchen\", \"showlegend\": true, \"type\": \"scattergeo\"}, {\"geo\": \"geo\", \"hovertemplate\": \"<b>%{hovertext}</b><br><br>city_name=Hamburg<br>year_participation=1986<br>cumsum=%{marker.size}<br>lat=%{lat}<br>lon=%{lon}<extra></extra>\", \"hovertext\": [\"Hamburg\"], \"lat\": [53.543764100000004], \"legendgroup\": \"Hamburg\", \"lon\": [10.009913300000001], \"marker\": {\"color\": \"#FF97FF\", \"size\": [14], \"sizemode\": \"area\", \"sizeref\": 0.45}, \"name\": \"Hamburg\", \"showlegend\": true, \"type\": \"scattergeo\"}, {\"geo\": \"geo\", \"hovertemplate\": \"<b>%{hovertext}</b><br><br>city_name=Berlin<br>year_participation=1986<br>cumsum=%{marker.size}<br>lat=%{lat}<br>lon=%{lon}<extra></extra>\", \"hovertext\": [\"Berlin\"], \"lat\": [52.517036499999996], \"legendgroup\": \"Berlin\", \"lon\": [13.388859900000002], \"marker\": {\"color\": \"#EF553B\", \"size\": [28], \"sizemode\": \"area\", \"sizeref\": 0.45}, \"name\": \"Berlin\", \"showlegend\": true, \"type\": \"scattergeo\"}, {\"geo\": \"geo\", \"hovertemplate\": \"<b>%{hovertext}</b><br><br>city_name=N\\u00fcrnberg<br>year_participation=1986<br>cumsum=%{marker.size}<br>lat=%{lat}<br>lon=%{lon}<extra></extra>\", \"hovertext\": [\"N\\u00fcrnberg\"], \"lat\": [49.453872], \"legendgroup\": \"N\\u00fcrnberg\", \"lon\": [11.077297999999999], \"marker\": {\"color\": \"#19d3f3\", \"size\": [5], \"sizemode\": \"area\", \"sizeref\": 0.45}, \"name\": \"N\\u00fcrnberg\", \"showlegend\": true, \"type\": \"scattergeo\"}, {\"geo\": \"geo\", \"hovertemplate\": \"<b>%{hovertext}</b><br><br>city_name=Basel<br>year_participation=1986<br>cumsum=%{marker.size}<br>lat=%{lat}<br>lon=%{lon}<extra></extra>\", \"hovertext\": [\"Basel\"], \"lat\": [47.55810770000001], \"legendgroup\": \"Basel\", \"lon\": [7.5878261], \"marker\": {\"color\": \"#FECB52\", \"size\": [5], \"sizemode\": \"area\", \"sizeref\": 0.45}, \"name\": \"Basel\", \"showlegend\": true, \"type\": \"scattergeo\"}, {\"geo\": \"geo\", \"hovertemplate\": \"<b>%{hovertext}</b><br><br>city_name=Wennigsen<br>year_participation=1986<br>cumsum=%{marker.size}<br>lat=%{lat}<br>lon=%{lon}<extra></extra>\", \"hovertext\": [\"Wennigsen\"], \"lat\": [52.2762744], \"legendgroup\": \"Wennigsen\", \"lon\": [9.5671846], \"marker\": {\"color\": \"#FFA15A\", \"size\": [2], \"sizemode\": \"area\", \"sizeref\": 0.45}, \"name\": \"Wennigsen\", \"showlegend\": true, \"type\": \"scattergeo\"}, {\"geo\": \"geo\", \"hovertemplate\": \"<b>%{hovertext}</b><br><br>city_name=Stuttgart<br>year_participation=1986<br>cumsum=%{marker.size}<br>lat=%{lat}<br>lon=%{lon}<extra></extra>\", \"hovertext\": [\"Stuttgart\"], \"lat\": [48.778448499999996], \"legendgroup\": \"Stuttgart\", \"lon\": [9.1800132], \"marker\": {\"color\": \"#FF97FF\", \"size\": [4], \"sizemode\": \"area\", \"sizeref\": 0.45}, \"name\": \"Stuttgart\", \"showlegend\": true, \"type\": \"scattergeo\"}, {\"geo\": \"geo\", \"hovertemplate\": \"<b>%{hovertext}</b><br><br>city_name=Linz<br>year_participation=1986<br>cumsum=%{marker.size}<br>lat=%{lat}<br>lon=%{lon}<extra></extra>\", \"hovertext\": [\"Linz\"], \"lat\": [48.3059078], \"legendgroup\": \"Linz\", \"lon\": [14.286198], \"marker\": {\"color\": \"#FF97FF\", \"size\": [2], \"sizemode\": \"area\", \"sizeref\": 0.45}, \"name\": \"Linz\", \"showlegend\": true, \"type\": \"scattergeo\"}, {\"geo\": \"geo\", \"hovertemplate\": \"<b>%{hovertext}</b><br><br>city_name=Venedig<br>year_participation=1986<br>cumsum=%{marker.size}<br>lat=%{lat}<br>lon=%{lon}<extra></extra>\", \"hovertext\": [\"Venedig\"], \"lat\": [45.437190799999996], \"legendgroup\": \"Venedig\", \"lon\": [12.3345898], \"marker\": {\"color\": \"#FECB52\", \"size\": [1], \"sizemode\": \"area\", \"sizeref\": 0.45}, \"name\": \"Venedig\", \"showlegend\": true, \"type\": \"scattergeo\"}, {\"geo\": \"geo\", \"hovertemplate\": \"<b>%{hovertext}</b><br><br>city_name=Bozen<br>year_participation=1986<br>cumsum=%{marker.size}<br>lat=%{lat}<br>lon=%{lon}<extra></extra>\", \"hovertext\": [\"Bozen\"], \"lat\": [46.65594215], \"legendgroup\": \"Bozen\", \"lon\": [11.229637264169462], \"marker\": {\"color\": \"#636efa\", \"size\": [1], \"sizemode\": \"area\", \"sizeref\": 0.45}, \"name\": \"Bozen\", \"showlegend\": true, \"type\": \"scattergeo\"}, {\"geo\": \"geo\", \"hovertemplate\": \"<b>%{hovertext}</b><br><br>city_name=Wedel bei Hamburg<br>year_participation=1986<br>cumsum=%{marker.size}<br>lat=%{lat}<br>lon=%{lon}<extra></extra>\", \"hovertext\": [\"Wedel bei Hamburg\"], \"lat\": [53.57004379999999], \"legendgroup\": \"Wedel bei Hamburg\", \"lon\": [9.7343152], \"marker\": {\"color\": \"#EF553B\", \"size\": [1], \"sizemode\": \"area\", \"sizeref\": 0.45}, \"name\": \"Wedel bei Hamburg\", \"showlegend\": true, \"type\": \"scattergeo\"}], \"name\": \"1986\"}, {\"data\": [{\"geo\": \"geo\", \"hovertemplate\": \"<b>%{hovertext}</b><br><br>city_name=Wien<br>year_participation=1987<br>cumsum=%{marker.size}<br>lat=%{lat}<br>lon=%{lon}<extra></extra>\", \"hovertext\": [\"Wien\"], \"lat\": [48.2083537], \"legendgroup\": \"Wien\", \"lon\": [16.372504199999998], \"marker\": {\"color\": \"#00cc96\", \"size\": [21], \"sizemode\": \"area\", \"sizeref\": 0.45}, \"name\": \"Wien\", \"showlegend\": true, \"type\": \"scattergeo\"}, {\"geo\": \"geo\", \"hovertemplate\": \"<b>%{hovertext}</b><br><br>city_name=M\\u00fcnchen<br>year_participation=1987<br>cumsum=%{marker.size}<br>lat=%{lat}<br>lon=%{lon}<extra></extra>\", \"hovertext\": [\"M\\u00fcnchen\"], \"lat\": [48.1371079], \"legendgroup\": \"M\\u00fcnchen\", \"lon\": [11.575382199999998], \"marker\": {\"color\": \"#B6E880\", \"size\": [28], \"sizemode\": \"area\", \"sizeref\": 0.45}, \"name\": \"M\\u00fcnchen\", \"showlegend\": true, \"type\": \"scattergeo\"}, {\"geo\": \"geo\", \"hovertemplate\": \"<b>%{hovertext}</b><br><br>city_name=Hamburg<br>year_participation=1987<br>cumsum=%{marker.size}<br>lat=%{lat}<br>lon=%{lon}<extra></extra>\", \"hovertext\": [\"Hamburg\"], \"lat\": [53.543764100000004], \"legendgroup\": \"Hamburg\", \"lon\": [10.009913300000001], \"marker\": {\"color\": \"#FF97FF\", \"size\": [15], \"sizemode\": \"area\", \"sizeref\": 0.45}, \"name\": \"Hamburg\", \"showlegend\": true, \"type\": \"scattergeo\"}, {\"geo\": \"geo\", \"hovertemplate\": \"<b>%{hovertext}</b><br><br>city_name=Berlin<br>year_participation=1987<br>cumsum=%{marker.size}<br>lat=%{lat}<br>lon=%{lon}<extra></extra>\", \"hovertext\": [\"Berlin\"], \"lat\": [52.517036499999996], \"legendgroup\": \"Berlin\", \"lon\": [13.388859900000002], \"marker\": {\"color\": \"#EF553B\", \"size\": [31], \"sizemode\": \"area\", \"sizeref\": 0.45}, \"name\": \"Berlin\", \"showlegend\": true, \"type\": \"scattergeo\"}, {\"geo\": \"geo\", \"hovertemplate\": \"<b>%{hovertext}</b><br><br>city_name=Salzburg<br>year_participation=1987<br>cumsum=%{marker.size}<br>lat=%{lat}<br>lon=%{lon}<extra></extra>\", \"hovertext\": [\"Salzburg\"], \"lat\": [47.798134600000004], \"legendgroup\": \"Salzburg\", \"lon\": [13.046480599999999], \"marker\": {\"color\": \"#00cc96\", \"size\": [10], \"sizemode\": \"area\", \"sizeref\": 0.45}, \"name\": \"Salzburg\", \"showlegend\": true, \"type\": \"scattergeo\"}, {\"geo\": \"geo\", \"hovertemplate\": \"<b>%{hovertext}</b><br><br>city_name=Gie\\u00dfen<br>year_participation=1987<br>cumsum=%{marker.size}<br>lat=%{lat}<br>lon=%{lon}<extra></extra>\", \"hovertext\": [\"Gie\\u00dfen\"], \"lat\": [50.5862066], \"legendgroup\": \"Gie\\u00dfen\", \"lon\": [8.6742306], \"marker\": {\"color\": \"#00cc96\", \"size\": [1], \"sizemode\": \"area\", \"sizeref\": 0.45}, \"name\": \"Gie\\u00dfen\", \"showlegend\": true, \"type\": \"scattergeo\"}, {\"geo\": \"geo\", \"hovertemplate\": \"<b>%{hovertext}</b><br><br>city_name=Potsdam<br>year_participation=1987<br>cumsum=%{marker.size}<br>lat=%{lat}<br>lon=%{lon}<extra></extra>\", \"hovertext\": [\"Potsdam\"], \"lat\": [52.4009309], \"legendgroup\": \"Potsdam\", \"lon\": [13.0591397], \"marker\": {\"color\": \"#ab63fa\", \"size\": [1], \"sizemode\": \"area\", \"sizeref\": 0.45}, \"name\": \"Potsdam\", \"showlegend\": true, \"type\": \"scattergeo\"}, {\"geo\": \"geo\", \"hovertemplate\": \"<b>%{hovertext}</b><br><br>city_name=Riehen<br>year_participation=1987<br>cumsum=%{marker.size}<br>lat=%{lat}<br>lon=%{lon}<extra></extra>\", \"hovertext\": [\"Riehen\"], \"lat\": [47.581692700000005], \"legendgroup\": \"Riehen\", \"lon\": [7.6479737000000005], \"marker\": {\"color\": \"#FFA15A\", \"size\": [1], \"sizemode\": \"area\", \"sizeref\": 0.45}, \"name\": \"Riehen\", \"showlegend\": true, \"type\": \"scattergeo\"}, {\"geo\": \"geo\", \"hovertemplate\": \"<b>%{hovertext}</b><br><br>city_name=Strasbourg<br>year_participation=1987<br>cumsum=%{marker.size}<br>lat=%{lat}<br>lon=%{lon}<extra></extra>\", \"hovertext\": [\"Strasbourg\"], \"lat\": [48.584614], \"legendgroup\": \"Strasbourg\", \"lon\": [7.750712700000001], \"marker\": {\"color\": \"#19d3f3\", \"size\": [1], \"sizemode\": \"area\", \"sizeref\": 0.45}, \"name\": \"Strasbourg\", \"showlegend\": true, \"type\": \"scattergeo\"}, {\"geo\": \"geo\", \"hovertemplate\": \"<b>%{hovertext}</b><br><br>city_name=San Diego<br>year_participation=1987<br>cumsum=%{marker.size}<br>lat=%{lat}<br>lon=%{lon}<extra></extra>\", \"hovertext\": [\"San Diego\"], \"lat\": [32.7174209], \"legendgroup\": \"San Diego\", \"lon\": [-117.16277140000001], \"marker\": {\"color\": \"#FF6692\", \"size\": [1], \"sizemode\": \"area\", \"sizeref\": 0.45}, \"name\": \"San Diego\", \"showlegend\": true, \"type\": \"scattergeo\"}, {\"geo\": \"geo\", \"hovertemplate\": \"<b>%{hovertext}</b><br><br>city_name=Bellin<br>year_participation=1987<br>cumsum=%{marker.size}<br>lat=%{lat}<br>lon=%{lon}<extra></extra>\", \"hovertext\": [\"Bellin\"], \"lat\": [54.2802679], \"legendgroup\": \"Bellin\", \"lon\": [10.466820599999998], \"marker\": {\"color\": \"#B6E880\", \"size\": [1], \"sizemode\": \"area\", \"sizeref\": 0.45}, \"name\": \"Bellin\", \"showlegend\": true, \"type\": \"scattergeo\"}, {\"geo\": \"geo\", \"hovertemplate\": \"<b>%{hovertext}</b><br><br>city_name=Kiel<br>year_participation=1987<br>cumsum=%{marker.size}<br>lat=%{lat}<br>lon=%{lon}<extra></extra>\", \"hovertext\": [\"Kiel\"], \"lat\": [54.3227085], \"legendgroup\": \"Kiel\", \"lon\": [10.135555], \"marker\": {\"color\": \"#FF97FF\", \"size\": [1], \"sizemode\": \"area\", \"sizeref\": 0.45}, \"name\": \"Kiel\", \"showlegend\": true, \"type\": \"scattergeo\"}, {\"geo\": \"geo\", \"hovertemplate\": \"<b>%{hovertext}</b><br><br>city_name=L\\u00fcnen<br>year_participation=1987<br>cumsum=%{marker.size}<br>lat=%{lat}<br>lon=%{lon}<extra></extra>\", \"hovertext\": [\"L\\u00fcnen\"], \"lat\": [51.6142482], \"legendgroup\": \"L\\u00fcnen\", \"lon\": [7.5228088], \"marker\": {\"color\": \"#FECB52\", \"size\": [1], \"sizemode\": \"area\", \"sizeref\": 0.45}, \"name\": \"L\\u00fcnen\", \"showlegend\": true, \"type\": \"scattergeo\"}, {\"geo\": \"geo\", \"hovertemplate\": \"<b>%{hovertext}</b><br><br>city_name=Bachern<br>year_participation=1987<br>cumsum=%{marker.size}<br>lat=%{lat}<br>lon=%{lon}<extra></extra>\", \"hovertext\": [\"Bachern\"], \"lat\": [48.309566100000005], \"legendgroup\": \"Bachern\", \"lon\": [11.045127699999998], \"marker\": {\"color\": \"#636efa\", \"size\": [1], \"sizemode\": \"area\", \"sizeref\": 0.45}, \"name\": \"Bachern\", \"showlegend\": true, \"type\": \"scattergeo\"}], \"name\": \"1987\"}, {\"data\": [{\"geo\": \"geo\", \"hovertemplate\": \"<b>%{hovertext}</b><br><br>city_name=Wien<br>year_participation=1988<br>cumsum=%{marker.size}<br>lat=%{lat}<br>lon=%{lon}<extra></extra>\", \"hovertext\": [\"Wien\"], \"lat\": [48.2083537], \"legendgroup\": \"Wien\", \"lon\": [16.372504199999998], \"marker\": {\"color\": \"#00cc96\", \"size\": [23], \"sizemode\": \"area\", \"sizeref\": 0.45}, \"name\": \"Wien\", \"showlegend\": true, \"type\": \"scattergeo\"}, {\"geo\": \"geo\", \"hovertemplate\": \"<b>%{hovertext}</b><br><br>city_name=M\\u00fcnchen<br>year_participation=1988<br>cumsum=%{marker.size}<br>lat=%{lat}<br>lon=%{lon}<extra></extra>\", \"hovertext\": [\"M\\u00fcnchen\"], \"lat\": [48.1371079], \"legendgroup\": \"M\\u00fcnchen\", \"lon\": [11.575382199999998], \"marker\": {\"color\": \"#B6E880\", \"size\": [29], \"sizemode\": \"area\", \"sizeref\": 0.45}, \"name\": \"M\\u00fcnchen\", \"showlegend\": true, \"type\": \"scattergeo\"}, {\"geo\": \"geo\", \"hovertemplate\": \"<b>%{hovertext}</b><br><br>city_name=Hamburg<br>year_participation=1988<br>cumsum=%{marker.size}<br>lat=%{lat}<br>lon=%{lon}<extra></extra>\", \"hovertext\": [\"Hamburg\"], \"lat\": [53.543764100000004], \"legendgroup\": \"Hamburg\", \"lon\": [10.009913300000001], \"marker\": {\"color\": \"#FF97FF\", \"size\": [18], \"sizemode\": \"area\", \"sizeref\": 0.45}, \"name\": \"Hamburg\", \"showlegend\": true, \"type\": \"scattergeo\"}, {\"geo\": \"geo\", \"hovertemplate\": \"<b>%{hovertext}</b><br><br>city_name=Z\\u00fcrich<br>year_participation=1988<br>cumsum=%{marker.size}<br>lat=%{lat}<br>lon=%{lon}<extra></extra>\", \"hovertext\": [\"Z\\u00fcrich\"], \"lat\": [47.3723941], \"legendgroup\": \"Z\\u00fcrich\", \"lon\": [8.5423328], \"marker\": {\"color\": \"#FECB52\", \"size\": [9], \"sizemode\": \"area\", \"sizeref\": 0.45}, \"name\": \"Z\\u00fcrich\", \"showlegend\": true, \"type\": \"scattergeo\"}, {\"geo\": \"geo\", \"hovertemplate\": \"<b>%{hovertext}</b><br><br>city_name=Berlin<br>year_participation=1988<br>cumsum=%{marker.size}<br>lat=%{lat}<br>lon=%{lon}<extra></extra>\", \"hovertext\": [\"Berlin\"], \"lat\": [52.517036499999996], \"legendgroup\": \"Berlin\", \"lon\": [13.388859900000002], \"marker\": {\"color\": \"#EF553B\", \"size\": [34], \"sizemode\": \"area\", \"sizeref\": 0.45}, \"name\": \"Berlin\", \"showlegend\": true, \"type\": \"scattergeo\"}, {\"geo\": \"geo\", \"hovertemplate\": \"<b>%{hovertext}</b><br><br>city_name=Frankfurt/Main<br>year_participation=1988<br>cumsum=%{marker.size}<br>lat=%{lat}<br>lon=%{lon}<extra></extra>\", \"hovertext\": [\"Frankfurt/Main\"], \"lat\": [50.053763700000005], \"legendgroup\": \"Frankfurt/Main\", \"lon\": [8.637085800000001], \"marker\": {\"color\": \"#ab63fa\", \"size\": [12], \"sizemode\": \"area\", \"sizeref\": 0.45}, \"name\": \"Frankfurt/Main\", \"showlegend\": true, \"type\": \"scattergeo\"}, {\"geo\": \"geo\", \"hovertemplate\": \"<b>%{hovertext}</b><br><br>city_name=K\\u00f6ln<br>year_participation=1988<br>cumsum=%{marker.size}<br>lat=%{lat}<br>lon=%{lon}<extra></extra>\", \"hovertext\": [\"K\\u00f6ln\"], \"lat\": [50.938361], \"legendgroup\": \"K\\u00f6ln\", \"lon\": [6.959974000000001], \"marker\": {\"color\": \"#00cc96\", \"size\": [2], \"sizemode\": \"area\", \"sizeref\": 0.45}, \"name\": \"K\\u00f6ln\", \"showlegend\": true, \"type\": \"scattergeo\"}, {\"geo\": \"geo\", \"hovertemplate\": \"<b>%{hovertext}</b><br><br>city_name=Innsbruck<br>year_participation=1988<br>cumsum=%{marker.size}<br>lat=%{lat}<br>lon=%{lon}<extra></extra>\", \"hovertext\": [\"Innsbruck\"], \"lat\": [47.265429600000004], \"legendgroup\": \"Innsbruck\", \"lon\": [11.392768499999999], \"marker\": {\"color\": \"#FF6692\", \"size\": [3], \"sizemode\": \"area\", \"sizeref\": 0.45}, \"name\": \"Innsbruck\", \"showlegend\": true, \"type\": \"scattergeo\"}, {\"geo\": \"geo\", \"hovertemplate\": \"<b>%{hovertext}</b><br><br>city_name=Willisau<br>year_participation=1988<br>cumsum=%{marker.size}<br>lat=%{lat}<br>lon=%{lon}<extra></extra>\", \"hovertext\": [\"Willisau\"], \"lat\": [47.1215184], \"legendgroup\": \"Willisau\", \"lon\": [7.996589999999999], \"marker\": {\"color\": \"#EF553B\", \"size\": [1], \"sizemode\": \"area\", \"sizeref\": 0.45}, \"name\": \"Willisau\", \"showlegend\": true, \"type\": \"scattergeo\"}, {\"geo\": \"geo\", \"hovertemplate\": \"<b>%{hovertext}</b><br><br>city_name=Leipzig<br>year_participation=1988<br>cumsum=%{marker.size}<br>lat=%{lat}<br>lon=%{lon}<extra></extra>\", \"hovertext\": [\"Leipzig\"], \"lat\": [51.3406321], \"legendgroup\": \"Leipzig\", \"lon\": [12.3747329], \"marker\": {\"color\": \"#00cc96\", \"size\": [1], \"sizemode\": \"area\", \"sizeref\": 0.45}, \"name\": \"Leipzig\", \"showlegend\": true, \"type\": \"scattergeo\"}, {\"geo\": \"geo\", \"hovertemplate\": \"<b>%{hovertext}</b><br><br>city_name=Wildau<br>year_participation=1988<br>cumsum=%{marker.size}<br>lat=%{lat}<br>lon=%{lon}<extra></extra>\", \"hovertext\": [\"Wildau\"], \"lat\": [52.3193463], \"legendgroup\": \"Wildau\", \"lon\": [13.633815300000002], \"marker\": {\"color\": \"#ab63fa\", \"size\": [1], \"sizemode\": \"area\", \"sizeref\": 0.45}, \"name\": \"Wildau\", \"showlegend\": true, \"type\": \"scattergeo\"}, {\"geo\": \"geo\", \"hovertemplate\": \"<b>%{hovertext}</b><br><br>city_name=St. Gallen<br>year_participation=1988<br>cumsum=%{marker.size}<br>lat=%{lat}<br>lon=%{lon}<extra></extra>\", \"hovertext\": [\"St. Gallen\"], \"lat\": [47.4250593], \"legendgroup\": \"St. Gallen\", \"lon\": [9.376587800000001], \"marker\": {\"color\": \"#FFA15A\", \"size\": [1], \"sizemode\": \"area\", \"sizeref\": 0.45}, \"name\": \"St. Gallen\", \"showlegend\": true, \"type\": \"scattergeo\"}, {\"geo\": \"geo\", \"hovertemplate\": \"<b>%{hovertext}</b><br><br>city_name=Tielenhemme<br>year_participation=1988<br>cumsum=%{marker.size}<br>lat=%{lat}<br>lon=%{lon}<extra></extra>\", \"hovertext\": [\"Tielenhemme\"], \"lat\": [54.2766302], \"legendgroup\": \"Tielenhemme\", \"lon\": [9.387998399999999], \"marker\": {\"color\": \"#19d3f3\", \"size\": [1], \"sizemode\": \"area\", \"sizeref\": 0.45}, \"name\": \"Tielenhemme\", \"showlegend\": true, \"type\": \"scattergeo\"}, {\"geo\": \"geo\", \"hovertemplate\": \"<b>%{hovertext}</b><br><br>city_name=Schmitten<br>year_participation=1988<br>cumsum=%{marker.size}<br>lat=%{lat}<br>lon=%{lon}<extra></extra>\", \"hovertext\": [\"Schmitten\"], \"lat\": [50.2694775], \"legendgroup\": \"Schmitten\", \"lon\": [8.4440229], \"marker\": {\"color\": \"#FF6692\", \"size\": [1], \"sizemode\": \"area\", \"sizeref\": 0.45}, \"name\": \"Schmitten\", \"showlegend\": true, \"type\": \"scattergeo\"}, {\"geo\": \"geo\", \"hovertemplate\": \"<b>%{hovertext}</b><br><br>city_name=Schallaburg<br>year_participation=1988<br>cumsum=%{marker.size}<br>lat=%{lat}<br>lon=%{lon}<extra></extra>\", \"hovertext\": [\"Schallaburg\"], \"lat\": [48.1890617], \"legendgroup\": \"Schallaburg\", \"lon\": [15.35619281701183], \"marker\": {\"color\": \"#B6E880\", \"size\": [1], \"sizemode\": \"area\", \"sizeref\": 0.45}, \"name\": \"Schallaburg\", \"showlegend\": true, \"type\": \"scattergeo\"}, {\"geo\": \"geo\", \"hovertemplate\": \"<b>%{hovertext}</b><br><br>city_name=Herrsching<br>year_participation=1988<br>cumsum=%{marker.size}<br>lat=%{lat}<br>lon=%{lon}<extra></extra>\", \"hovertext\": [\"Herrsching\"], \"lat\": [47.998462200000006], \"legendgroup\": \"Herrsching\", \"lon\": [11.1703947], \"marker\": {\"color\": \"#FF97FF\", \"size\": [1], \"sizemode\": \"area\", \"sizeref\": 0.45}, \"name\": \"Herrsching\", \"showlegend\": true, \"type\": \"scattergeo\"}, {\"geo\": \"geo\", \"hovertemplate\": \"<b>%{hovertext}</b><br><br>city_name=Wiefelstede<br>year_participation=1988<br>cumsum=%{marker.size}<br>lat=%{lat}<br>lon=%{lon}<extra></extra>\", \"hovertext\": [\"Wiefelstede\"], \"lat\": [53.25586260000001], \"legendgroup\": \"Wiefelstede\", \"lon\": [8.1150123], \"marker\": {\"color\": \"#FECB52\", \"size\": [1], \"sizemode\": \"area\", \"sizeref\": 0.45}, \"name\": \"Wiefelstede\", \"showlegend\": true, \"type\": \"scattergeo\"}], \"name\": \"1988\"}, {\"data\": [{\"geo\": \"geo\", \"hovertemplate\": \"<b>%{hovertext}</b><br><br>city_name=Wien<br>year_participation=1989<br>cumsum=%{marker.size}<br>lat=%{lat}<br>lon=%{lon}<extra></extra>\", \"hovertext\": [\"Wien\"], \"lat\": [48.2083537], \"legendgroup\": \"Wien\", \"lon\": [16.372504199999998], \"marker\": {\"color\": \"#00cc96\", \"size\": [24], \"sizemode\": \"area\", \"sizeref\": 0.45}, \"name\": \"Wien\", \"showlegend\": true, \"type\": \"scattergeo\"}, {\"geo\": \"geo\", \"hovertemplate\": \"<b>%{hovertext}</b><br><br>city_name=Z\\u00fcrich<br>year_participation=1989<br>cumsum=%{marker.size}<br>lat=%{lat}<br>lon=%{lon}<extra></extra>\", \"hovertext\": [\"Z\\u00fcrich\"], \"lat\": [47.3723941], \"legendgroup\": \"Z\\u00fcrich\", \"lon\": [8.5423328], \"marker\": {\"color\": \"#FECB52\", \"size\": [10], \"sizemode\": \"area\", \"sizeref\": 0.45}, \"name\": \"Z\\u00fcrich\", \"showlegend\": true, \"type\": \"scattergeo\"}, {\"geo\": \"geo\", \"hovertemplate\": \"<b>%{hovertext}</b><br><br>city_name=Berlin<br>year_participation=1989<br>cumsum=%{marker.size}<br>lat=%{lat}<br>lon=%{lon}<extra></extra>\", \"hovertext\": [\"Berlin\"], \"lat\": [52.517036499999996], \"legendgroup\": \"Berlin\", \"lon\": [13.388859900000002], \"marker\": {\"color\": \"#EF553B\", \"size\": [39], \"sizemode\": \"area\", \"sizeref\": 0.45}, \"name\": \"Berlin\", \"showlegend\": true, \"type\": \"scattergeo\"}, {\"geo\": \"geo\", \"hovertemplate\": \"<b>%{hovertext}</b><br><br>city_name=Frankfurt/Main<br>year_participation=1989<br>cumsum=%{marker.size}<br>lat=%{lat}<br>lon=%{lon}<extra></extra>\", \"hovertext\": [\"Frankfurt/Main\"], \"lat\": [50.053763700000005], \"legendgroup\": \"Frankfurt/Main\", \"lon\": [8.637085800000001], \"marker\": {\"color\": \"#ab63fa\", \"size\": [14], \"sizemode\": \"area\", \"sizeref\": 0.45}, \"name\": \"Frankfurt/Main\", \"showlegend\": true, \"type\": \"scattergeo\"}, {\"geo\": \"geo\", \"hovertemplate\": \"<b>%{hovertext}</b><br><br>city_name=N\\u00fcrnberg<br>year_participation=1989<br>cumsum=%{marker.size}<br>lat=%{lat}<br>lon=%{lon}<extra></extra>\", \"hovertext\": [\"N\\u00fcrnberg\"], \"lat\": [49.453872], \"legendgroup\": \"N\\u00fcrnberg\", \"lon\": [11.077297999999999], \"marker\": {\"color\": \"#19d3f3\", \"size\": [7], \"sizemode\": \"area\", \"sizeref\": 0.45}, \"name\": \"N\\u00fcrnberg\", \"showlegend\": true, \"type\": \"scattergeo\"}, {\"geo\": \"geo\", \"hovertemplate\": \"<b>%{hovertext}</b><br><br>city_name=Bern<br>year_participation=1989<br>cumsum=%{marker.size}<br>lat=%{lat}<br>lon=%{lon}<extra></extra>\", \"hovertext\": [\"Bern\"], \"lat\": [46.9482713], \"legendgroup\": \"Bern\", \"lon\": [7.4514512], \"marker\": {\"color\": \"#FF6692\", \"size\": [9], \"sizemode\": \"area\", \"sizeref\": 0.45}, \"name\": \"Bern\", \"showlegend\": true, \"type\": \"scattergeo\"}, {\"geo\": \"geo\", \"hovertemplate\": \"<b>%{hovertext}</b><br><br>city_name=Graz<br>year_participation=1989<br>cumsum=%{marker.size}<br>lat=%{lat}<br>lon=%{lon}<extra></extra>\", \"hovertext\": [\"Graz\"], \"lat\": [47.070867799999995], \"legendgroup\": \"Graz\", \"lon\": [15.438278599999999], \"marker\": {\"color\": \"#00cc96\", \"size\": [5], \"sizemode\": \"area\", \"sizeref\": 0.45}, \"name\": \"Graz\", \"showlegend\": true, \"type\": \"scattergeo\"}, {\"geo\": \"geo\", \"hovertemplate\": \"<b>%{hovertext}</b><br><br>city_name=Basel<br>year_participation=1989<br>cumsum=%{marker.size}<br>lat=%{lat}<br>lon=%{lon}<extra></extra>\", \"hovertext\": [\"Basel\"], \"lat\": [47.55810770000001], \"legendgroup\": \"Basel\", \"lon\": [7.5878261], \"marker\": {\"color\": \"#FECB52\", \"size\": [6], \"sizemode\": \"area\", \"sizeref\": 0.45}, \"name\": \"Basel\", \"showlegend\": true, \"type\": \"scattergeo\"}, {\"geo\": \"geo\", \"hovertemplate\": \"<b>%{hovertext}</b><br><br>city_name=Unterkulm<br>year_participation=1989<br>cumsum=%{marker.size}<br>lat=%{lat}<br>lon=%{lon}<extra></extra>\", \"hovertext\": [\"Unterkulm\"], \"lat\": [47.3103727], \"legendgroup\": \"Unterkulm\", \"lon\": [8.11471], \"marker\": {\"color\": \"#EF553B\", \"size\": [2], \"sizemode\": \"area\", \"sizeref\": 0.45}, \"name\": \"Unterkulm\", \"showlegend\": true, \"type\": \"scattergeo\"}, {\"geo\": \"geo\", \"hovertemplate\": \"<b>%{hovertext}</b><br><br>city_name=Luzern<br>year_participation=1989<br>cumsum=%{marker.size}<br>lat=%{lat}<br>lon=%{lon}<extra></extra>\", \"hovertext\": [\"Luzern\"], \"lat\": [47.0505452], \"legendgroup\": \"Luzern\", \"lon\": [8.3054682], \"marker\": {\"color\": \"#636efa\", \"size\": [2], \"sizemode\": \"area\", \"sizeref\": 0.45}, \"name\": \"Luzern\", \"showlegend\": true, \"type\": \"scattergeo\"}, {\"geo\": \"geo\", \"hovertemplate\": \"<b>%{hovertext}</b><br><br>city_name=Hollenstedt<br>year_participation=1989<br>cumsum=%{marker.size}<br>lat=%{lat}<br>lon=%{lon}<extra></extra>\", \"hovertext\": [\"Hollenstedt\"], \"lat\": [53.368408900000006], \"legendgroup\": \"Hollenstedt\", \"lon\": [9.7125276], \"marker\": {\"color\": \"#636efa\", \"size\": [1], \"sizemode\": \"area\", \"sizeref\": 0.45}, \"name\": \"Hollenstedt\", \"showlegend\": true, \"type\": \"scattergeo\"}, {\"geo\": \"geo\", \"hovertemplate\": \"<b>%{hovertext}</b><br><br>city_name=Lans<br>year_participation=1989<br>cumsum=%{marker.size}<br>lat=%{lat}<br>lon=%{lon}<extra></extra>\", \"hovertext\": [\"Lans\"], \"lat\": [45.1277768], \"legendgroup\": \"Lans\", \"lon\": [5.5891386], \"marker\": {\"color\": \"#EF553B\", \"size\": [1], \"sizemode\": \"area\", \"sizeref\": 0.45}, \"name\": \"Lans\", \"showlegend\": true, \"type\": \"scattergeo\"}, {\"geo\": \"geo\", \"hovertemplate\": \"<b>%{hovertext}</b><br><br>city_name=Erfurt<br>year_participation=1989<br>cumsum=%{marker.size}<br>lat=%{lat}<br>lon=%{lon}<extra></extra>\", \"hovertext\": [\"Erfurt\"], \"lat\": [50.9777974], \"legendgroup\": \"Erfurt\", \"lon\": [11.0287364], \"marker\": {\"color\": \"#00cc96\", \"size\": [1], \"sizemode\": \"area\", \"sizeref\": 0.45}, \"name\": \"Erfurt\", \"showlegend\": true, \"type\": \"scattergeo\"}, {\"geo\": \"geo\", \"hovertemplate\": \"<b>%{hovertext}</b><br><br>city_name=Dollart<br>year_participation=1989<br>cumsum=%{marker.size}<br>lat=%{lat}<br>lon=%{lon}<extra></extra>\", \"hovertext\": [\"Dollart\"], \"lat\": [53.28355], \"legendgroup\": \"Dollart\", \"lon\": [7.16088909497908], \"marker\": {\"color\": \"#ab63fa\", \"size\": [1], \"sizemode\": \"area\", \"sizeref\": 0.45}, \"name\": \"Dollart\", \"showlegend\": true, \"type\": \"scattergeo\"}, {\"geo\": \"geo\", \"hovertemplate\": \"<b>%{hovertext}</b><br><br>city_name=Wolfsberg<br>year_participation=1989<br>cumsum=%{marker.size}<br>lat=%{lat}<br>lon=%{lon}<extra></extra>\", \"hovertext\": [\"Wolfsberg\"], \"lat\": [52.4205588], \"legendgroup\": \"Wolfsberg\", \"lon\": [10.786168199999999], \"marker\": {\"color\": \"#FFA15A\", \"size\": [1], \"sizemode\": \"area\", \"sizeref\": 0.45}, \"name\": \"Wolfsberg\", \"showlegend\": true, \"type\": \"scattergeo\"}], \"name\": \"1989\"}, {\"data\": [{\"geo\": \"geo\", \"hovertemplate\": \"<b>%{hovertext}</b><br><br>city_name=Wien<br>year_participation=1990<br>cumsum=%{marker.size}<br>lat=%{lat}<br>lon=%{lon}<extra></extra>\", \"hovertext\": [\"Wien\"], \"lat\": [48.2083537], \"legendgroup\": \"Wien\", \"lon\": [16.372504199999998], \"marker\": {\"color\": \"#00cc96\", \"size\": [26], \"sizemode\": \"area\", \"sizeref\": 0.45}, \"name\": \"Wien\", \"showlegend\": true, \"type\": \"scattergeo\"}, {\"geo\": \"geo\", \"hovertemplate\": \"<b>%{hovertext}</b><br><br>city_name=M\\u00fcnchen<br>year_participation=1990<br>cumsum=%{marker.size}<br>lat=%{lat}<br>lon=%{lon}<extra></extra>\", \"hovertext\": [\"M\\u00fcnchen\"], \"lat\": [48.1371079], \"legendgroup\": \"M\\u00fcnchen\", \"lon\": [11.575382199999998], \"marker\": {\"color\": \"#B6E880\", \"size\": [30], \"sizemode\": \"area\", \"sizeref\": 0.45}, \"name\": \"M\\u00fcnchen\", \"showlegend\": true, \"type\": \"scattergeo\"}, {\"geo\": \"geo\", \"hovertemplate\": \"<b>%{hovertext}</b><br><br>city_name=Hamburg<br>year_participation=1990<br>cumsum=%{marker.size}<br>lat=%{lat}<br>lon=%{lon}<extra></extra>\", \"hovertext\": [\"Hamburg\"], \"lat\": [53.543764100000004], \"legendgroup\": \"Hamburg\", \"lon\": [10.009913300000001], \"marker\": {\"color\": \"#FF97FF\", \"size\": [19], \"sizemode\": \"area\", \"sizeref\": 0.45}, \"name\": \"Hamburg\", \"showlegend\": true, \"type\": \"scattergeo\"}, {\"geo\": \"geo\", \"hovertemplate\": \"<b>%{hovertext}</b><br><br>city_name=Z\\u00fcrich<br>year_participation=1990<br>cumsum=%{marker.size}<br>lat=%{lat}<br>lon=%{lon}<extra></extra>\", \"hovertext\": [\"Z\\u00fcrich\"], \"lat\": [47.3723941], \"legendgroup\": \"Z\\u00fcrich\", \"lon\": [8.5423328], \"marker\": {\"color\": \"#FECB52\", \"size\": [11], \"sizemode\": \"area\", \"sizeref\": 0.45}, \"name\": \"Z\\u00fcrich\", \"showlegend\": true, \"type\": \"scattergeo\"}, {\"geo\": \"geo\", \"hovertemplate\": \"<b>%{hovertext}</b><br><br>city_name=Berlin<br>year_participation=1990<br>cumsum=%{marker.size}<br>lat=%{lat}<br>lon=%{lon}<extra></extra>\", \"hovertext\": [\"Berlin\"], \"lat\": [52.517036499999996], \"legendgroup\": \"Berlin\", \"lon\": [13.388859900000002], \"marker\": {\"color\": \"#EF553B\", \"size\": [43], \"sizemode\": \"area\", \"sizeref\": 0.45}, \"name\": \"Berlin\", \"showlegend\": true, \"type\": \"scattergeo\"}, {\"geo\": \"geo\", \"hovertemplate\": \"<b>%{hovertext}</b><br><br>city_name=Salzburg<br>year_participation=1990<br>cumsum=%{marker.size}<br>lat=%{lat}<br>lon=%{lon}<extra></extra>\", \"hovertext\": [\"Salzburg\"], \"lat\": [47.798134600000004], \"legendgroup\": \"Salzburg\", \"lon\": [13.046480599999999], \"marker\": {\"color\": \"#00cc96\", \"size\": [11], \"sizemode\": \"area\", \"sizeref\": 0.45}, \"name\": \"Salzburg\", \"showlegend\": true, \"type\": \"scattergeo\"}, {\"geo\": \"geo\", \"hovertemplate\": \"<b>%{hovertext}</b><br><br>city_name=Frankfurt/Main<br>year_participation=1990<br>cumsum=%{marker.size}<br>lat=%{lat}<br>lon=%{lon}<extra></extra>\", \"hovertext\": [\"Frankfurt/Main\"], \"lat\": [50.053763700000005], \"legendgroup\": \"Frankfurt/Main\", \"lon\": [8.637085800000001], \"marker\": {\"color\": \"#ab63fa\", \"size\": [15], \"sizemode\": \"area\", \"sizeref\": 0.45}, \"name\": \"Frankfurt/Main\", \"showlegend\": true, \"type\": \"scattergeo\"}, {\"geo\": \"geo\", \"hovertemplate\": \"<b>%{hovertext}</b><br><br>city_name=Basel<br>year_participation=1990<br>cumsum=%{marker.size}<br>lat=%{lat}<br>lon=%{lon}<extra></extra>\", \"hovertext\": [\"Basel\"], \"lat\": [47.55810770000001], \"legendgroup\": \"Basel\", \"lon\": [7.5878261], \"marker\": {\"color\": \"#FECB52\", \"size\": [7], \"sizemode\": \"area\", \"sizeref\": 0.45}, \"name\": \"Basel\", \"showlegend\": true, \"type\": \"scattergeo\"}, {\"geo\": \"geo\", \"hovertemplate\": \"<b>%{hovertext}</b><br><br>city_name=Los Angeles<br>year_participation=1990<br>cumsum=%{marker.size}<br>lat=%{lat}<br>lon=%{lon}<extra></extra>\", \"hovertext\": [\"Los Angeles\"], \"lat\": [34.0536909], \"legendgroup\": \"Los Angeles\", \"lon\": [-118.2427666], \"marker\": {\"color\": \"#19d3f3\", \"size\": [1], \"sizemode\": \"area\", \"sizeref\": 0.45}, \"name\": \"Los Angeles\", \"showlegend\": true, \"type\": \"scattergeo\"}, {\"geo\": \"geo\", \"hovertemplate\": \"<b>%{hovertext}</b><br><br>city_name=Maria Enzersdorf<br>year_participation=1990<br>cumsum=%{marker.size}<br>lat=%{lat}<br>lon=%{lon}<extra></extra>\", \"hovertext\": [\"Maria Enzersdorf\"], \"lat\": [48.09334395000001], \"legendgroup\": \"Maria Enzersdorf\", \"lon\": [16.272160513232826], \"marker\": {\"color\": \"#FF6692\", \"size\": [1], \"sizemode\": \"area\", \"sizeref\": 0.45}, \"name\": \"Maria Enzersdorf\", \"showlegend\": true, \"type\": \"scattergeo\"}, {\"geo\": \"geo\", \"hovertemplate\": \"<b>%{hovertext}</b><br><br>city_name=Halle<br>year_participation=1990<br>cumsum=%{marker.size}<br>lat=%{lat}<br>lon=%{lon}<extra></extra>\", \"hovertext\": [\"Halle\"], \"lat\": [51.4825041], \"legendgroup\": \"Halle\", \"lon\": [11.970545199999998], \"marker\": {\"color\": \"#B6E880\", \"size\": [1], \"sizemode\": \"area\", \"sizeref\": 0.45}, \"name\": \"Halle\", \"showlegend\": true, \"type\": \"scattergeo\"}, {\"geo\": \"geo\", \"hovertemplate\": \"<b>%{hovertext}</b><br><br>city_name=Oberursel<br>year_participation=1990<br>cumsum=%{marker.size}<br>lat=%{lat}<br>lon=%{lon}<extra></extra>\", \"hovertext\": [\"Oberursel\"], \"lat\": [50.2005518], \"legendgroup\": \"Oberursel\", \"lon\": [8.580452000000001], \"marker\": {\"color\": \"#FF97FF\", \"size\": [1], \"sizemode\": \"area\", \"sizeref\": 0.45}, \"name\": \"Oberursel\", \"showlegend\": true, \"type\": \"scattergeo\"}, {\"geo\": \"geo\", \"hovertemplate\": \"<b>%{hovertext}</b><br><br>city_name=Freiburg<br>year_participation=1990<br>cumsum=%{marker.size}<br>lat=%{lat}<br>lon=%{lon}<extra></extra>\", \"hovertext\": [\"Freiburg\"], \"lat\": [47.9960901], \"legendgroup\": \"Freiburg\", \"lon\": [7.849400500000001], \"marker\": {\"color\": \"#FECB52\", \"size\": [1], \"sizemode\": \"area\", \"sizeref\": 0.45}, \"name\": \"Freiburg\", \"showlegend\": true, \"type\": \"scattergeo\"}, {\"geo\": \"geo\", \"hovertemplate\": \"<b>%{hovertext}</b><br><br>city_name=Norwich<br>year_participation=1990<br>cumsum=%{marker.size}<br>lat=%{lat}<br>lon=%{lon}<extra></extra>\", \"hovertext\": [\"Norwich\"], \"lat\": [52.628606000000005], \"legendgroup\": \"Norwich\", \"lon\": [1.29227], \"marker\": {\"color\": \"#636efa\", \"size\": [1], \"sizemode\": \"area\", \"sizeref\": 0.45}, \"name\": \"Norwich\", \"showlegend\": true, \"type\": \"scattergeo\"}, {\"geo\": \"geo\", \"hovertemplate\": \"<b>%{hovertext}</b><br><br>city_name=Cluj-Napoca<br>year_participation=1990<br>cumsum=%{marker.size}<br>lat=%{lat}<br>lon=%{lon}<extra></extra>\", \"hovertext\": [\"Cluj-Napoca\"], \"lat\": [46.769379], \"legendgroup\": \"Cluj-Napoca\", \"lon\": [23.589954199999998], \"marker\": {\"color\": \"#EF553B\", \"size\": [1], \"sizemode\": \"area\", \"sizeref\": 0.45}, \"name\": \"Cluj-Napoca\", \"showlegend\": true, \"type\": \"scattergeo\"}, {\"geo\": \"geo\", \"hovertemplate\": \"<b>%{hovertext}</b><br><br>city_name=Boston<br>year_participation=1990<br>cumsum=%{marker.size}<br>lat=%{lat}<br>lon=%{lon}<extra></extra>\", \"hovertext\": [\"Boston\"], \"lat\": [42.3602534], \"legendgroup\": \"Boston\", \"lon\": [-71.0582912], \"marker\": {\"color\": \"#00cc96\", \"size\": [1], \"sizemode\": \"area\", \"sizeref\": 0.45}, \"name\": \"Boston\", \"showlegend\": true, \"type\": \"scattergeo\"}, {\"geo\": \"geo\", \"hovertemplate\": \"<b>%{hovertext}</b><br><br>city_name=Bielefeld<br>year_participation=1990<br>cumsum=%{marker.size}<br>lat=%{lat}<br>lon=%{lon}<extra></extra>\", \"hovertext\": [\"Bielefeld\"], \"lat\": [52.0191005], \"legendgroup\": \"Bielefeld\", \"lon\": [8.531007], \"marker\": {\"color\": \"#ab63fa\", \"size\": [1], \"sizemode\": \"area\", \"sizeref\": 0.45}, \"name\": \"Bielefeld\", \"showlegend\": true, \"type\": \"scattergeo\"}], \"name\": \"1990\"}, {\"data\": [{\"geo\": \"geo\", \"hovertemplate\": \"<b>%{hovertext}</b><br><br>city_name=M\\u00fcnchen<br>year_participation=1991<br>cumsum=%{marker.size}<br>lat=%{lat}<br>lon=%{lon}<extra></extra>\", \"hovertext\": [\"M\\u00fcnchen\"], \"lat\": [48.1371079], \"legendgroup\": \"M\\u00fcnchen\", \"lon\": [11.575382199999998], \"marker\": {\"color\": \"#B6E880\", \"size\": [32], \"sizemode\": \"area\", \"sizeref\": 0.45}, \"name\": \"M\\u00fcnchen\", \"showlegend\": true, \"type\": \"scattergeo\"}, {\"geo\": \"geo\", \"hovertemplate\": \"<b>%{hovertext}</b><br><br>city_name=Z\\u00fcrich<br>year_participation=1991<br>cumsum=%{marker.size}<br>lat=%{lat}<br>lon=%{lon}<extra></extra>\", \"hovertext\": [\"Z\\u00fcrich\"], \"lat\": [47.3723941], \"legendgroup\": \"Z\\u00fcrich\", \"lon\": [8.5423328], \"marker\": {\"color\": \"#FECB52\", \"size\": [12], \"sizemode\": \"area\", \"sizeref\": 0.45}, \"name\": \"Z\\u00fcrich\", \"showlegend\": true, \"type\": \"scattergeo\"}, {\"geo\": \"geo\", \"hovertemplate\": \"<b>%{hovertext}</b><br><br>city_name=Berlin<br>year_participation=1991<br>cumsum=%{marker.size}<br>lat=%{lat}<br>lon=%{lon}<extra></extra>\", \"hovertext\": [\"Berlin\"], \"lat\": [52.517036499999996], \"legendgroup\": \"Berlin\", \"lon\": [13.388859900000002], \"marker\": {\"color\": \"#EF553B\", \"size\": [50], \"sizemode\": \"area\", \"sizeref\": 0.45}, \"name\": \"Berlin\", \"showlegend\": true, \"type\": \"scattergeo\"}, {\"geo\": \"geo\", \"hovertemplate\": \"<b>%{hovertext}</b><br><br>city_name=Basel<br>year_participation=1991<br>cumsum=%{marker.size}<br>lat=%{lat}<br>lon=%{lon}<extra></extra>\", \"hovertext\": [\"Basel\"], \"lat\": [47.55810770000001], \"legendgroup\": \"Basel\", \"lon\": [7.5878261], \"marker\": {\"color\": \"#FECB52\", \"size\": [8], \"sizemode\": \"area\", \"sizeref\": 0.45}, \"name\": \"Basel\", \"showlegend\": true, \"type\": \"scattergeo\"}, {\"geo\": \"geo\", \"hovertemplate\": \"<b>%{hovertext}</b><br><br>city_name=Heidelberg<br>year_participation=1991<br>cumsum=%{marker.size}<br>lat=%{lat}<br>lon=%{lon}<extra></extra>\", \"hovertext\": [\"Heidelberg\"], \"lat\": [49.40935820000001], \"legendgroup\": \"Heidelberg\", \"lon\": [8.694724], \"marker\": {\"color\": \"#636efa\", \"size\": [2], \"sizemode\": \"area\", \"sizeref\": 0.45}, \"name\": \"Heidelberg\", \"showlegend\": true, \"type\": \"scattergeo\"}, {\"geo\": \"geo\", \"hovertemplate\": \"<b>%{hovertext}</b><br><br>city_name=K\\u00f6ln<br>year_participation=1991<br>cumsum=%{marker.size}<br>lat=%{lat}<br>lon=%{lon}<extra></extra>\", \"hovertext\": [\"K\\u00f6ln\"], \"lat\": [50.938361], \"legendgroup\": \"K\\u00f6ln\", \"lon\": [6.959974000000001], \"marker\": {\"color\": \"#00cc96\", \"size\": [4], \"sizemode\": \"area\", \"sizeref\": 0.45}, \"name\": \"K\\u00f6ln\", \"showlegend\": true, \"type\": \"scattergeo\"}, {\"geo\": \"geo\", \"hovertemplate\": \"<b>%{hovertext}</b><br><br>city_name=Bregenz<br>year_participation=1991<br>cumsum=%{marker.size}<br>lat=%{lat}<br>lon=%{lon}<extra></extra>\", \"hovertext\": [\"Bregenz\"], \"lat\": [47.5025779], \"legendgroup\": \"Bregenz\", \"lon\": [9.7472924], \"marker\": {\"color\": \"#B6E880\", \"size\": [3], \"sizemode\": \"area\", \"sizeref\": 0.45}, \"name\": \"Bregenz\", \"showlegend\": true, \"type\": \"scattergeo\"}, {\"geo\": \"geo\", \"hovertemplate\": \"<b>%{hovertext}</b><br><br>city_name=Riehen<br>year_participation=1991<br>cumsum=%{marker.size}<br>lat=%{lat}<br>lon=%{lon}<extra></extra>\", \"hovertext\": [\"Riehen\"], \"lat\": [47.581692700000005], \"legendgroup\": \"Riehen\", \"lon\": [7.6479737000000005], \"marker\": {\"color\": \"#FFA15A\", \"size\": [2], \"sizemode\": \"area\", \"sizeref\": 0.45}, \"name\": \"Riehen\", \"showlegend\": true, \"type\": \"scattergeo\"}, {\"geo\": \"geo\", \"hovertemplate\": \"<b>%{hovertext}</b><br><br>city_name=St. Gallen<br>year_participation=1991<br>cumsum=%{marker.size}<br>lat=%{lat}<br>lon=%{lon}<extra></extra>\", \"hovertext\": [\"St. Gallen\"], \"lat\": [47.4250593], \"legendgroup\": \"St. Gallen\", \"lon\": [9.376587800000001], \"marker\": {\"color\": \"#FFA15A\", \"size\": [2], \"sizemode\": \"area\", \"sizeref\": 0.45}, \"name\": \"St. Gallen\", \"showlegend\": true, \"type\": \"scattergeo\"}, {\"geo\": \"geo\", \"hovertemplate\": \"<b>%{hovertext}</b><br><br>city_name=Freiburg<br>year_participation=1991<br>cumsum=%{marker.size}<br>lat=%{lat}<br>lon=%{lon}<extra></extra>\", \"hovertext\": [\"Freiburg\"], \"lat\": [47.9960901], \"legendgroup\": \"Freiburg\", \"lon\": [7.849400500000001], \"marker\": {\"color\": \"#FECB52\", \"size\": [2], \"sizemode\": \"area\", \"sizeref\": 0.45}, \"name\": \"Freiburg\", \"showlegend\": true, \"type\": \"scattergeo\"}, {\"geo\": \"geo\", \"hovertemplate\": \"<b>%{hovertext}</b><br><br>city_name=Lippstadt<br>year_participation=1991<br>cumsum=%{marker.size}<br>lat=%{lat}<br>lon=%{lon}<extra></extra>\", \"hovertext\": [\"Lippstadt\"], \"lat\": [51.674707399999996], \"legendgroup\": \"Lippstadt\", \"lon\": [8.347194], \"marker\": {\"color\": \"#FFA15A\", \"size\": [1], \"sizemode\": \"area\", \"sizeref\": 0.45}, \"name\": \"Lippstadt\", \"showlegend\": true, \"type\": \"scattergeo\"}, {\"geo\": \"geo\", \"hovertemplate\": \"<b>%{hovertext}</b><br><br>city_name=Oberhofen<br>year_participation=1991<br>cumsum=%{marker.size}<br>lat=%{lat}<br>lon=%{lon}<extra></extra>\", \"hovertext\": [\"Oberhofen\"], \"lat\": [49.015353399999995], \"legendgroup\": \"Oberhofen\", \"lon\": [7.9210644], \"marker\": {\"color\": \"#19d3f3\", \"size\": [1], \"sizemode\": \"area\", \"sizeref\": 0.45}, \"name\": \"Oberhofen\", \"showlegend\": true, \"type\": \"scattergeo\"}, {\"geo\": \"geo\", \"hovertemplate\": \"<b>%{hovertext}</b><br><br>city_name=Lauterach<br>year_participation=1991<br>cumsum=%{marker.size}<br>lat=%{lat}<br>lon=%{lon}<extra></extra>\", \"hovertext\": [\"Lauterach\"], \"lat\": [48.25555], \"legendgroup\": \"Lauterach\", \"lon\": [9.5824364], \"marker\": {\"color\": \"#FF6692\", \"size\": [1], \"sizemode\": \"area\", \"sizeref\": 0.45}, \"name\": \"Lauterach\", \"showlegend\": true, \"type\": \"scattergeo\"}, {\"geo\": \"geo\", \"hovertemplate\": \"<b>%{hovertext}</b><br><br>city_name=Zollbr\\u00fcck<br>year_participation=1991<br>cumsum=%{marker.size}<br>lat=%{lat}<br>lon=%{lon}<extra></extra>\", \"hovertext\": [\"Zollbr\\u00fcck\"], \"lat\": [46.9749427], \"legendgroup\": \"Zollbr\\u00fcck\", \"lon\": [7.735426400000001], \"marker\": {\"color\": \"#B6E880\", \"size\": [1], \"sizemode\": \"area\", \"sizeref\": 0.45}, \"name\": \"Zollbr\\u00fcck\", \"showlegend\": true, \"type\": \"scattergeo\"}, {\"geo\": \"geo\", \"hovertemplate\": \"<b>%{hovertext}</b><br><br>city_name=Irland<br>year_participation=1991<br>cumsum=%{marker.size}<br>lat=%{lat}<br>lon=%{lon}<extra></extra>\", \"hovertext\": [\"Irland\"], \"lat\": [52.865196], \"legendgroup\": \"Irland\", \"lon\": [-7.9794599], \"marker\": {\"color\": \"#FF97FF\", \"size\": [1], \"sizemode\": \"area\", \"sizeref\": 0.45}, \"name\": \"Irland\", \"showlegend\": true, \"type\": \"scattergeo\"}], \"name\": \"1991\"}, {\"data\": [{\"geo\": \"geo\", \"hovertemplate\": \"<b>%{hovertext}</b><br><br>city_name=Wien<br>year_participation=1992<br>cumsum=%{marker.size}<br>lat=%{lat}<br>lon=%{lon}<extra></extra>\", \"hovertext\": [\"Wien\"], \"lat\": [48.2083537], \"legendgroup\": \"Wien\", \"lon\": [16.372504199999998], \"marker\": {\"color\": \"#00cc96\", \"size\": [28], \"sizemode\": \"area\", \"sizeref\": 0.45}, \"name\": \"Wien\", \"showlegend\": true, \"type\": \"scattergeo\"}, {\"geo\": \"geo\", \"hovertemplate\": \"<b>%{hovertext}</b><br><br>city_name=M\\u00fcnchen<br>year_participation=1992<br>cumsum=%{marker.size}<br>lat=%{lat}<br>lon=%{lon}<extra></extra>\", \"hovertext\": [\"M\\u00fcnchen\"], \"lat\": [48.1371079], \"legendgroup\": \"M\\u00fcnchen\", \"lon\": [11.575382199999998], \"marker\": {\"color\": \"#B6E880\", \"size\": [34], \"sizemode\": \"area\", \"sizeref\": 0.45}, \"name\": \"M\\u00fcnchen\", \"showlegend\": true, \"type\": \"scattergeo\"}, {\"geo\": \"geo\", \"hovertemplate\": \"<b>%{hovertext}</b><br><br>city_name=Hamburg<br>year_participation=1992<br>cumsum=%{marker.size}<br>lat=%{lat}<br>lon=%{lon}<extra></extra>\", \"hovertext\": [\"Hamburg\"], \"lat\": [53.543764100000004], \"legendgroup\": \"Hamburg\", \"lon\": [10.009913300000001], \"marker\": {\"color\": \"#FF97FF\", \"size\": [20], \"sizemode\": \"area\", \"sizeref\": 0.45}, \"name\": \"Hamburg\", \"showlegend\": true, \"type\": \"scattergeo\"}, {\"geo\": \"geo\", \"hovertemplate\": \"<b>%{hovertext}</b><br><br>city_name=M\\u00fcnster<br>year_participation=1992<br>cumsum=%{marker.size}<br>lat=%{lat}<br>lon=%{lon}<extra></extra>\", \"hovertext\": [\"M\\u00fcnster\"], \"lat\": [51.9625101], \"legendgroup\": \"M\\u00fcnster\", \"lon\": [7.6251879], \"marker\": {\"color\": \"#636efa\", \"size\": [3], \"sizemode\": \"area\", \"sizeref\": 0.45}, \"name\": \"M\\u00fcnster\", \"showlegend\": true, \"type\": \"scattergeo\"}, {\"geo\": \"geo\", \"hovertemplate\": \"<b>%{hovertext}</b><br><br>city_name=Berlin<br>year_participation=1992<br>cumsum=%{marker.size}<br>lat=%{lat}<br>lon=%{lon}<extra></extra>\", \"hovertext\": [\"Berlin\"], \"lat\": [52.517036499999996], \"legendgroup\": \"Berlin\", \"lon\": [13.388859900000002], \"marker\": {\"color\": \"#EF553B\", \"size\": [55], \"sizemode\": \"area\", \"sizeref\": 0.45}, \"name\": \"Berlin\", \"showlegend\": true, \"type\": \"scattergeo\"}, {\"geo\": \"geo\", \"hovertemplate\": \"<b>%{hovertext}</b><br><br>city_name=Frankfurt/Main<br>year_participation=1992<br>cumsum=%{marker.size}<br>lat=%{lat}<br>lon=%{lon}<extra></extra>\", \"hovertext\": [\"Frankfurt/Main\"], \"lat\": [50.053763700000005], \"legendgroup\": \"Frankfurt/Main\", \"lon\": [8.637085800000001], \"marker\": {\"color\": \"#ab63fa\", \"size\": [17], \"sizemode\": \"area\", \"sizeref\": 0.45}, \"name\": \"Frankfurt/Main\", \"showlegend\": true, \"type\": \"scattergeo\"}, {\"geo\": \"geo\", \"hovertemplate\": \"<b>%{hovertext}</b><br><br>city_name=Graz<br>year_participation=1992<br>cumsum=%{marker.size}<br>lat=%{lat}<br>lon=%{lon}<extra></extra>\", \"hovertext\": [\"Graz\"], \"lat\": [47.070867799999995], \"legendgroup\": \"Graz\", \"lon\": [15.438278599999999], \"marker\": {\"color\": \"#00cc96\", \"size\": [6], \"sizemode\": \"area\", \"sizeref\": 0.45}, \"name\": \"Graz\", \"showlegend\": true, \"type\": \"scattergeo\"}, {\"geo\": \"geo\", \"hovertemplate\": \"<b>%{hovertext}</b><br><br>city_name=Paris<br>year_participation=1992<br>cumsum=%{marker.size}<br>lat=%{lat}<br>lon=%{lon}<extra></extra>\", \"hovertext\": [\"Paris\"], \"lat\": [48.856696899999996], \"legendgroup\": \"Paris\", \"lon\": [2.3514616000000004], \"marker\": {\"color\": \"#00cc96\", \"size\": [2], \"sizemode\": \"area\", \"sizeref\": 0.45}, \"name\": \"Paris\", \"showlegend\": true, \"type\": \"scattergeo\"}, {\"geo\": \"geo\", \"hovertemplate\": \"<b>%{hovertext}</b><br><br>city_name=Innsbruck<br>year_participation=1992<br>cumsum=%{marker.size}<br>lat=%{lat}<br>lon=%{lon}<extra></extra>\", \"hovertext\": [\"Innsbruck\"], \"lat\": [47.265429600000004], \"legendgroup\": \"Innsbruck\", \"lon\": [11.392768499999999], \"marker\": {\"color\": \"#FF6692\", \"size\": [4], \"sizemode\": \"area\", \"sizeref\": 0.45}, \"name\": \"Innsbruck\", \"showlegend\": true, \"type\": \"scattergeo\"}, {\"geo\": \"geo\", \"hovertemplate\": \"<b>%{hovertext}</b><br><br>city_name=Stuttgart<br>year_participation=1992<br>cumsum=%{marker.size}<br>lat=%{lat}<br>lon=%{lon}<extra></extra>\", \"hovertext\": [\"Stuttgart\"], \"lat\": [48.778448499999996], \"legendgroup\": \"Stuttgart\", \"lon\": [9.1800132], \"marker\": {\"color\": \"#FF97FF\", \"size\": [5], \"sizemode\": \"area\", \"sizeref\": 0.45}, \"name\": \"Stuttgart\", \"showlegend\": true, \"type\": \"scattergeo\"}, {\"geo\": \"geo\", \"hovertemplate\": \"<b>%{hovertext}</b><br><br>city_name=Hollenstedt<br>year_participation=1992<br>cumsum=%{marker.size}<br>lat=%{lat}<br>lon=%{lon}<extra></extra>\", \"hovertext\": [\"Hollenstedt\"], \"lat\": [53.368408900000006], \"legendgroup\": \"Hollenstedt\", \"lon\": [9.7125276], \"marker\": {\"color\": \"#636efa\", \"size\": [2], \"sizemode\": \"area\", \"sizeref\": 0.45}, \"name\": \"Hollenstedt\", \"showlegend\": true, \"type\": \"scattergeo\"}, {\"geo\": \"geo\", \"hovertemplate\": \"<b>%{hovertext}</b><br><br>city_name=Schwerin<br>year_participation=1992<br>cumsum=%{marker.size}<br>lat=%{lat}<br>lon=%{lon}<extra></extra>\", \"hovertext\": [\"Schwerin\"], \"lat\": [53.628829700000004], \"legendgroup\": \"Schwerin\", \"lon\": [11.4148038], \"marker\": {\"color\": \"#FECB52\", \"size\": [1], \"sizemode\": \"area\", \"sizeref\": 0.45}, \"name\": \"Schwerin\", \"showlegend\": true, \"type\": \"scattergeo\"}, {\"geo\": \"geo\", \"hovertemplate\": \"<b>%{hovertext}</b><br><br>city_name=Allmuthshausen<br>year_participation=1992<br>cumsum=%{marker.size}<br>lat=%{lat}<br>lon=%{lon}<extra></extra>\", \"hovertext\": [\"Allmuthshausen\"], \"lat\": [50.9757274], \"legendgroup\": \"Allmuthshausen\", \"lon\": [9.4321248], \"marker\": {\"color\": \"#636efa\", \"size\": [1], \"sizemode\": \"area\", \"sizeref\": 0.45}, \"name\": \"Allmuthshausen\", \"showlegend\": true, \"type\": \"scattergeo\"}, {\"geo\": \"geo\", \"hovertemplate\": \"<b>%{hovertext}</b><br><br>city_name=Aarau<br>year_participation=1992<br>cumsum=%{marker.size}<br>lat=%{lat}<br>lon=%{lon}<extra></extra>\", \"hovertext\": [\"Aarau\"], \"lat\": [47.3927146], \"legendgroup\": \"Aarau\", \"lon\": [8.0444448], \"marker\": {\"color\": \"#EF553B\", \"size\": [1], \"sizemode\": \"area\", \"sizeref\": 0.45}, \"name\": \"Aarau\", \"showlegend\": true, \"type\": \"scattergeo\"}, {\"geo\": \"geo\", \"hovertemplate\": \"<b>%{hovertext}</b><br><br>city_name=Niederalm<br>year_participation=1992<br>cumsum=%{marker.size}<br>lat=%{lat}<br>lon=%{lon}<extra></extra>\", \"hovertext\": [\"Niederalm\"], \"lat\": [47.729437299999994], \"legendgroup\": \"Niederalm\", \"lon\": [13.0608987], \"marker\": {\"color\": \"#00cc96\", \"size\": [1], \"sizemode\": \"area\", \"sizeref\": 0.45}, \"name\": \"Niederalm\", \"showlegend\": true, \"type\": \"scattergeo\"}], \"name\": \"1992\"}, {\"data\": [{\"geo\": \"geo\", \"hovertemplate\": \"<b>%{hovertext}</b><br><br>city_name=Wien<br>year_participation=1993<br>cumsum=%{marker.size}<br>lat=%{lat}<br>lon=%{lon}<extra></extra>\", \"hovertext\": [\"Wien\"], \"lat\": [48.2083537], \"legendgroup\": \"Wien\", \"lon\": [16.372504199999998], \"marker\": {\"color\": \"#00cc96\", \"size\": [30], \"sizemode\": \"area\", \"sizeref\": 0.45}, \"name\": \"Wien\", \"showlegend\": true, \"type\": \"scattergeo\"}, {\"geo\": \"geo\", \"hovertemplate\": \"<b>%{hovertext}</b><br><br>city_name=Berlin<br>year_participation=1993<br>cumsum=%{marker.size}<br>lat=%{lat}<br>lon=%{lon}<extra></extra>\", \"hovertext\": [\"Berlin\"], \"lat\": [52.517036499999996], \"legendgroup\": \"Berlin\", \"lon\": [13.388859900000002], \"marker\": {\"color\": \"#EF553B\", \"size\": [62], \"sizemode\": \"area\", \"sizeref\": 0.45}, \"name\": \"Berlin\", \"showlegend\": true, \"type\": \"scattergeo\"}, {\"geo\": \"geo\", \"hovertemplate\": \"<b>%{hovertext}</b><br><br>city_name=Salzburg<br>year_participation=1993<br>cumsum=%{marker.size}<br>lat=%{lat}<br>lon=%{lon}<extra></extra>\", \"hovertext\": [\"Salzburg\"], \"lat\": [47.798134600000004], \"legendgroup\": \"Salzburg\", \"lon\": [13.046480599999999], \"marker\": {\"color\": \"#00cc96\", \"size\": [13], \"sizemode\": \"area\", \"sizeref\": 0.45}, \"name\": \"Salzburg\", \"showlegend\": true, \"type\": \"scattergeo\"}, {\"geo\": \"geo\", \"hovertemplate\": \"<b>%{hovertext}</b><br><br>city_name=Frankfurt/Main<br>year_participation=1993<br>cumsum=%{marker.size}<br>lat=%{lat}<br>lon=%{lon}<extra></extra>\", \"hovertext\": [\"Frankfurt/Main\"], \"lat\": [50.053763700000005], \"legendgroup\": \"Frankfurt/Main\", \"lon\": [8.637085800000001], \"marker\": {\"color\": \"#ab63fa\", \"size\": [20], \"sizemode\": \"area\", \"sizeref\": 0.45}, \"name\": \"Frankfurt/Main\", \"showlegend\": true, \"type\": \"scattergeo\"}, {\"geo\": \"geo\", \"hovertemplate\": \"<b>%{hovertext}</b><br><br>city_name=Kilchberg<br>year_participation=1993<br>cumsum=%{marker.size}<br>lat=%{lat}<br>lon=%{lon}<extra></extra>\", \"hovertext\": [\"Kilchberg\"], \"lat\": [47.3225316], \"legendgroup\": \"Kilchberg\", \"lon\": [8.545948300000001], \"marker\": {\"color\": \"#FFA15A\", \"size\": [2], \"sizemode\": \"area\", \"sizeref\": 0.45}, \"name\": \"Kilchberg\", \"showlegend\": true, \"type\": \"scattergeo\"}, {\"geo\": \"geo\", \"hovertemplate\": \"<b>%{hovertext}</b><br><br>city_name=Paris<br>year_participation=1993<br>cumsum=%{marker.size}<br>lat=%{lat}<br>lon=%{lon}<extra></extra>\", \"hovertext\": [\"Paris\"], \"lat\": [48.856696899999996], \"legendgroup\": \"Paris\", \"lon\": [2.3514616000000004], \"marker\": {\"color\": \"#00cc96\", \"size\": [3], \"sizemode\": \"area\", \"sizeref\": 0.45}, \"name\": \"Paris\", \"showlegend\": true, \"type\": \"scattergeo\"}, {\"geo\": \"geo\", \"hovertemplate\": \"<b>%{hovertext}</b><br><br>city_name=T\\u00fcbingen<br>year_participation=1993<br>cumsum=%{marker.size}<br>lat=%{lat}<br>lon=%{lon}<extra></extra>\", \"hovertext\": [\"T\\u00fcbingen\"], \"lat\": [48.5236164], \"legendgroup\": \"T\\u00fcbingen\", \"lon\": [9.0535531], \"marker\": {\"color\": \"#00cc96\", \"size\": [2], \"sizemode\": \"area\", \"sizeref\": 0.45}, \"name\": \"T\\u00fcbingen\", \"showlegend\": true, \"type\": \"scattergeo\"}, {\"geo\": \"geo\", \"hovertemplate\": \"<b>%{hovertext}</b><br><br>city_name=Luzern<br>year_participation=1993<br>cumsum=%{marker.size}<br>lat=%{lat}<br>lon=%{lon}<extra></extra>\", \"hovertext\": [\"Luzern\"], \"lat\": [47.0505452], \"legendgroup\": \"Luzern\", \"lon\": [8.3054682], \"marker\": {\"color\": \"#636efa\", \"size\": [3], \"sizemode\": \"area\", \"sizeref\": 0.45}, \"name\": \"Luzern\", \"showlegend\": true, \"type\": \"scattergeo\"}, {\"geo\": \"geo\", \"hovertemplate\": \"<b>%{hovertext}</b><br><br>city_name=Walding<br>year_participation=1993<br>cumsum=%{marker.size}<br>lat=%{lat}<br>lon=%{lon}<extra></extra>\", \"hovertext\": [\"Walding\"], \"lat\": [48.351349400000004], \"legendgroup\": \"Walding\", \"lon\": [14.161397000000001], \"marker\": {\"color\": \"#ab63fa\", \"size\": [1], \"sizemode\": \"area\", \"sizeref\": 0.45}, \"name\": \"Walding\", \"showlegend\": true, \"type\": \"scattergeo\"}, {\"geo\": \"geo\", \"hovertemplate\": \"<b>%{hovertext}</b><br><br>city_name=Wuppertal<br>year_participation=1993<br>cumsum=%{marker.size}<br>lat=%{lat}<br>lon=%{lon}<extra></extra>\", \"hovertext\": [\"Wuppertal\"], \"lat\": [51.264018], \"legendgroup\": \"Wuppertal\", \"lon\": [7.178037400000001], \"marker\": {\"color\": \"#FFA15A\", \"size\": [1], \"sizemode\": \"area\", \"sizeref\": 0.45}, \"name\": \"Wuppertal\", \"showlegend\": true, \"type\": \"scattergeo\"}, {\"geo\": \"geo\", \"hovertemplate\": \"<b>%{hovertext}</b><br><br>city_name=Osterholz-Scharmbeck<br>year_participation=1993<br>cumsum=%{marker.size}<br>lat=%{lat}<br>lon=%{lon}<extra></extra>\", \"hovertext\": [\"Osterholz-Scharmbeck\"], \"lat\": [53.228176299999994], \"legendgroup\": \"Osterholz-Scharmbeck\", \"lon\": [8.7948239], \"marker\": {\"color\": \"#19d3f3\", \"size\": [1], \"sizemode\": \"area\", \"sizeref\": 0.45}, \"name\": \"Osterholz-Scharmbeck\", \"showlegend\": true, \"type\": \"scattergeo\"}, {\"geo\": \"geo\", \"hovertemplate\": \"<b>%{hovertext}</b><br><br>city_name=Kronshagen<br>year_participation=1993<br>cumsum=%{marker.size}<br>lat=%{lat}<br>lon=%{lon}<extra></extra>\", \"hovertext\": [\"Kronshagen\"], \"lat\": [54.331349200000005], \"legendgroup\": \"Kronshagen\", \"lon\": [10.0843609], \"marker\": {\"color\": \"#FF6692\", \"size\": [1], \"sizemode\": \"area\", \"sizeref\": 0.45}, \"name\": \"Kronshagen\", \"showlegend\": true, \"type\": \"scattergeo\"}, {\"geo\": \"geo\", \"hovertemplate\": \"<b>%{hovertext}</b><br><br>city_name=Gilching<br>year_participation=1993<br>cumsum=%{marker.size}<br>lat=%{lat}<br>lon=%{lon}<extra></extra>\", \"hovertext\": [\"Gilching\"], \"lat\": [48.1140289], \"legendgroup\": \"Gilching\", \"lon\": [11.2921549], \"marker\": {\"color\": \"#B6E880\", \"size\": [1], \"sizemode\": \"area\", \"sizeref\": 0.45}, \"name\": \"Gilching\", \"showlegend\": true, \"type\": \"scattergeo\"}], \"name\": \"1993\"}, {\"data\": [{\"geo\": \"geo\", \"hovertemplate\": \"<b>%{hovertext}</b><br><br>city_name=Wien<br>year_participation=1994<br>cumsum=%{marker.size}<br>lat=%{lat}<br>lon=%{lon}<extra></extra>\", \"hovertext\": [\"Wien\"], \"lat\": [48.2083537], \"legendgroup\": \"Wien\", \"lon\": [16.372504199999998], \"marker\": {\"color\": \"#00cc96\", \"size\": [35], \"sizemode\": \"area\", \"sizeref\": 0.45}, \"name\": \"Wien\", \"showlegend\": true, \"type\": \"scattergeo\"}, {\"geo\": \"geo\", \"hovertemplate\": \"<b>%{hovertext}</b><br><br>city_name=Hamburg<br>year_participation=1994<br>cumsum=%{marker.size}<br>lat=%{lat}<br>lon=%{lon}<extra></extra>\", \"hovertext\": [\"Hamburg\"], \"lat\": [53.543764100000004], \"legendgroup\": \"Hamburg\", \"lon\": [10.009913300000001], \"marker\": {\"color\": \"#FF97FF\", \"size\": [21], \"sizemode\": \"area\", \"sizeref\": 0.45}, \"name\": \"Hamburg\", \"showlegend\": true, \"type\": \"scattergeo\"}, {\"geo\": \"geo\", \"hovertemplate\": \"<b>%{hovertext}</b><br><br>city_name=Z\\u00fcrich<br>year_participation=1994<br>cumsum=%{marker.size}<br>lat=%{lat}<br>lon=%{lon}<extra></extra>\", \"hovertext\": [\"Z\\u00fcrich\"], \"lat\": [47.3723941], \"legendgroup\": \"Z\\u00fcrich\", \"lon\": [8.5423328], \"marker\": {\"color\": \"#FECB52\", \"size\": [13], \"sizemode\": \"area\", \"sizeref\": 0.45}, \"name\": \"Z\\u00fcrich\", \"showlegend\": true, \"type\": \"scattergeo\"}, {\"geo\": \"geo\", \"hovertemplate\": \"<b>%{hovertext}</b><br><br>city_name=Berlin<br>year_participation=1994<br>cumsum=%{marker.size}<br>lat=%{lat}<br>lon=%{lon}<extra></extra>\", \"hovertext\": [\"Berlin\"], \"lat\": [52.517036499999996], \"legendgroup\": \"Berlin\", \"lon\": [13.388859900000002], \"marker\": {\"color\": \"#EF553B\", \"size\": [66], \"sizemode\": \"area\", \"sizeref\": 0.45}, \"name\": \"Berlin\", \"showlegend\": true, \"type\": \"scattergeo\"}, {\"geo\": \"geo\", \"hovertemplate\": \"<b>%{hovertext}</b><br><br>city_name=Salzburg<br>year_participation=1994<br>cumsum=%{marker.size}<br>lat=%{lat}<br>lon=%{lon}<extra></extra>\", \"hovertext\": [\"Salzburg\"], \"lat\": [47.798134600000004], \"legendgroup\": \"Salzburg\", \"lon\": [13.046480599999999], \"marker\": {\"color\": \"#00cc96\", \"size\": [14], \"sizemode\": \"area\", \"sizeref\": 0.45}, \"name\": \"Salzburg\", \"showlegend\": true, \"type\": \"scattergeo\"}, {\"geo\": \"geo\", \"hovertemplate\": \"<b>%{hovertext}</b><br><br>city_name=Genf<br>year_participation=1994<br>cumsum=%{marker.size}<br>lat=%{lat}<br>lon=%{lon}<extra></extra>\", \"hovertext\": [\"Genf\"], \"lat\": [46.2017559], \"legendgroup\": \"Genf\", \"lon\": [6.146601400000001], \"marker\": {\"color\": \"#636efa\", \"size\": [2], \"sizemode\": \"area\", \"sizeref\": 0.45}, \"name\": \"Genf\", \"showlegend\": true, \"type\": \"scattergeo\"}, {\"geo\": \"geo\", \"hovertemplate\": \"<b>%{hovertext}</b><br><br>city_name=Wiefelstede<br>year_participation=1994<br>cumsum=%{marker.size}<br>lat=%{lat}<br>lon=%{lon}<extra></extra>\", \"hovertext\": [\"Wiefelstede\"], \"lat\": [53.25586260000001], \"legendgroup\": \"Wiefelstede\", \"lon\": [8.1150123], \"marker\": {\"color\": \"#FECB52\", \"size\": [2], \"sizemode\": \"area\", \"sizeref\": 0.45}, \"name\": \"Wiefelstede\", \"showlegend\": true, \"type\": \"scattergeo\"}, {\"geo\": \"geo\", \"hovertemplate\": \"<b>%{hovertext}</b><br><br>city_name=Aarau<br>year_participation=1994<br>cumsum=%{marker.size}<br>lat=%{lat}<br>lon=%{lon}<extra></extra>\", \"hovertext\": [\"Aarau\"], \"lat\": [47.3927146], \"legendgroup\": \"Aarau\", \"lon\": [8.0444448], \"marker\": {\"color\": \"#EF553B\", \"size\": [2], \"sizemode\": \"area\", \"sizeref\": 0.45}, \"name\": \"Aarau\", \"showlegend\": true, \"type\": \"scattergeo\"}, {\"geo\": \"geo\", \"hovertemplate\": \"<b>%{hovertext}</b><br><br>city_name=Br\\u00fctten<br>year_participation=1994<br>cumsum=%{marker.size}<br>lat=%{lat}<br>lon=%{lon}<extra></extra>\", \"hovertext\": [\"Br\\u00fctten\"], \"lat\": [47.4731491], \"legendgroup\": \"Br\\u00fctten\", \"lon\": [8.6753241], \"marker\": {\"color\": \"#FF97FF\", \"size\": [1], \"sizemode\": \"area\", \"sizeref\": 0.45}, \"name\": \"Br\\u00fctten\", \"showlegend\": true, \"type\": \"scattergeo\"}, {\"geo\": \"geo\", \"hovertemplate\": \"<b>%{hovertext}</b><br><br>city_name=Garmisch-Partenkirchen<br>year_participation=1994<br>cumsum=%{marker.size}<br>lat=%{lat}<br>lon=%{lon}<extra></extra>\", \"hovertext\": [\"Garmisch-Partenkirchen\"], \"lat\": [47.4938359], \"legendgroup\": \"Garmisch-Partenkirchen\", \"lon\": [11.103992], \"marker\": {\"color\": \"#FECB52\", \"size\": [1], \"sizemode\": \"area\", \"sizeref\": 0.45}, \"name\": \"Garmisch-Partenkirchen\", \"showlegend\": true, \"type\": \"scattergeo\"}, {\"geo\": \"geo\", \"hovertemplate\": \"<b>%{hovertext}</b><br><br>city_name=Marburg<br>year_participation=1994<br>cumsum=%{marker.size}<br>lat=%{lat}<br>lon=%{lon}<extra></extra>\", \"hovertext\": [\"Marburg\"], \"lat\": [50.81173270000001], \"legendgroup\": \"Marburg\", \"lon\": [8.775774199999999], \"marker\": {\"color\": \"#636efa\", \"size\": [1], \"sizemode\": \"area\", \"sizeref\": 0.45}, \"name\": \"Marburg\", \"showlegend\": true, \"type\": \"scattergeo\"}, {\"geo\": \"geo\", \"hovertemplate\": \"<b>%{hovertext}</b><br><br>city_name=Seillans (Frankreich)<br>year_participation=1994<br>cumsum=%{marker.size}<br>lat=%{lat}<br>lon=%{lon}<extra></extra>\", \"hovertext\": [\"Seillans (Frankreich)\"], \"lat\": [43.636410600000005], \"legendgroup\": \"Seillans (Frankreich)\", \"lon\": [6.644577900000001], \"marker\": {\"color\": \"#EF553B\", \"size\": [1], \"sizemode\": \"area\", \"sizeref\": 0.45}, \"name\": \"Seillans (Frankreich)\", \"showlegend\": true, \"type\": \"scattergeo\"}, {\"geo\": \"geo\", \"hovertemplate\": \"<b>%{hovertext}</b><br><br>city_name=Maur bei Z\\u00fcrich<br>year_participation=1994<br>cumsum=%{marker.size}<br>lat=%{lat}<br>lon=%{lon}<extra></extra>\", \"hovertext\": [\"Maur bei Z\\u00fcrich\"], \"lat\": [47.3402856], \"legendgroup\": \"Maur bei Z\\u00fcrich\", \"lon\": [8.669236900000001], \"marker\": {\"color\": \"#00cc96\", \"size\": [1], \"sizemode\": \"area\", \"sizeref\": 0.45}, \"name\": \"Maur bei Z\\u00fcrich\", \"showlegend\": true, \"type\": \"scattergeo\"}, {\"geo\": \"geo\", \"hovertemplate\": \"<b>%{hovertext}</b><br><br>city_name=Lure (Franche-Comt\\u00e9,Frankreich)<br>year_participation=1994<br>cumsum=%{marker.size}<br>lat=%{lat}<br>lon=%{lon}<extra></extra>\", \"hovertext\": [\"Lure (Franche-Comt\\u00e9,Frankreich)\"], \"lat\": [47.6863376], \"legendgroup\": \"Lure (Franche-Comt\\u00e9,Frankreich)\", \"lon\": [6.4946806], \"marker\": {\"color\": \"#ab63fa\", \"size\": [1], \"sizemode\": \"area\", \"sizeref\": 0.45}, \"name\": \"Lure (Franche-Comt\\u00e9,Frankreich)\", \"showlegend\": true, \"type\": \"scattergeo\"}, {\"geo\": \"geo\", \"hovertemplate\": \"<b>%{hovertext}</b><br><br>city_name=Eglharting bei M\\u00fcnchen<br>year_participation=1994<br>cumsum=%{marker.size}<br>lat=%{lat}<br>lon=%{lon}<extra></extra>\", \"hovertext\": [\"Eglharting bei M\\u00fcnchen\"], \"lat\": [48.0807607], \"legendgroup\": \"Eglharting bei M\\u00fcnchen\", \"lon\": [11.8619951], \"marker\": {\"color\": \"#FFA15A\", \"size\": [1], \"sizemode\": \"area\", \"sizeref\": 0.45}, \"name\": \"Eglharting bei M\\u00fcnchen\", \"showlegend\": true, \"type\": \"scattergeo\"}], \"name\": \"1994\"}, {\"data\": [{\"geo\": \"geo\", \"hovertemplate\": \"<b>%{hovertext}</b><br><br>city_name=Wien<br>year_participation=1995<br>cumsum=%{marker.size}<br>lat=%{lat}<br>lon=%{lon}<extra></extra>\", \"hovertext\": [\"Wien\"], \"lat\": [48.2083537], \"legendgroup\": \"Wien\", \"lon\": [16.372504199999998], \"marker\": {\"color\": \"#00cc96\", \"size\": [38], \"sizemode\": \"area\", \"sizeref\": 0.45}, \"name\": \"Wien\", \"showlegend\": true, \"type\": \"scattergeo\"}, {\"geo\": \"geo\", \"hovertemplate\": \"<b>%{hovertext}</b><br><br>city_name=M\\u00fcnchen<br>year_participation=1995<br>cumsum=%{marker.size}<br>lat=%{lat}<br>lon=%{lon}<extra></extra>\", \"hovertext\": [\"M\\u00fcnchen\"], \"lat\": [48.1371079], \"legendgroup\": \"M\\u00fcnchen\", \"lon\": [11.575382199999998], \"marker\": {\"color\": \"#B6E880\", \"size\": [36], \"sizemode\": \"area\", \"sizeref\": 0.45}, \"name\": \"M\\u00fcnchen\", \"showlegend\": true, \"type\": \"scattergeo\"}, {\"geo\": \"geo\", \"hovertemplate\": \"<b>%{hovertext}</b><br><br>city_name=Hamburg<br>year_participation=1995<br>cumsum=%{marker.size}<br>lat=%{lat}<br>lon=%{lon}<extra></extra>\", \"hovertext\": [\"Hamburg\"], \"lat\": [53.543764100000004], \"legendgroup\": \"Hamburg\", \"lon\": [10.009913300000001], \"marker\": {\"color\": \"#FF97FF\", \"size\": [22], \"sizemode\": \"area\", \"sizeref\": 0.45}, \"name\": \"Hamburg\", \"showlegend\": true, \"type\": \"scattergeo\"}, {\"geo\": \"geo\", \"hovertemplate\": \"<b>%{hovertext}</b><br><br>city_name=Z\\u00fcrich<br>year_participation=1995<br>cumsum=%{marker.size}<br>lat=%{lat}<br>lon=%{lon}<extra></extra>\", \"hovertext\": [\"Z\\u00fcrich\"], \"lat\": [47.3723941], \"legendgroup\": \"Z\\u00fcrich\", \"lon\": [8.5423328], \"marker\": {\"color\": \"#FECB52\", \"size\": [15], \"sizemode\": \"area\", \"sizeref\": 0.45}, \"name\": \"Z\\u00fcrich\", \"showlegend\": true, \"type\": \"scattergeo\"}, {\"geo\": \"geo\", \"hovertemplate\": \"<b>%{hovertext}</b><br><br>city_name=Berlin<br>year_participation=1995<br>cumsum=%{marker.size}<br>lat=%{lat}<br>lon=%{lon}<extra></extra>\", \"hovertext\": [\"Berlin\"], \"lat\": [52.517036499999996], \"legendgroup\": \"Berlin\", \"lon\": [13.388859900000002], \"marker\": {\"color\": \"#EF553B\", \"size\": [71], \"sizemode\": \"area\", \"sizeref\": 0.45}, \"name\": \"Berlin\", \"showlegend\": true, \"type\": \"scattergeo\"}, {\"geo\": \"geo\", \"hovertemplate\": \"<b>%{hovertext}</b><br><br>city_name=Frankfurt/Main<br>year_participation=1995<br>cumsum=%{marker.size}<br>lat=%{lat}<br>lon=%{lon}<extra></extra>\", \"hovertext\": [\"Frankfurt/Main\"], \"lat\": [50.053763700000005], \"legendgroup\": \"Frankfurt/Main\", \"lon\": [8.637085800000001], \"marker\": {\"color\": \"#ab63fa\", \"size\": [21], \"sizemode\": \"area\", \"sizeref\": 0.45}, \"name\": \"Frankfurt/Main\", \"showlegend\": true, \"type\": \"scattergeo\"}, {\"geo\": \"geo\", \"hovertemplate\": \"<b>%{hovertext}</b><br><br>city_name=Bern<br>year_participation=1995<br>cumsum=%{marker.size}<br>lat=%{lat}<br>lon=%{lon}<extra></extra>\", \"hovertext\": [\"Bern\"], \"lat\": [46.9482713], \"legendgroup\": \"Bern\", \"lon\": [7.4514512], \"marker\": {\"color\": \"#FF6692\", \"size\": [10], \"sizemode\": \"area\", \"sizeref\": 0.45}, \"name\": \"Bern\", \"showlegend\": true, \"type\": \"scattergeo\"}, {\"geo\": \"geo\", \"hovertemplate\": \"<b>%{hovertext}</b><br><br>city_name=Graz<br>year_participation=1995<br>cumsum=%{marker.size}<br>lat=%{lat}<br>lon=%{lon}<extra></extra>\", \"hovertext\": [\"Graz\"], \"lat\": [47.070867799999995], \"legendgroup\": \"Graz\", \"lon\": [15.438278599999999], \"marker\": {\"color\": \"#00cc96\", \"size\": [9], \"sizemode\": \"area\", \"sizeref\": 0.45}, \"name\": \"Graz\", \"showlegend\": true, \"type\": \"scattergeo\"}, {\"geo\": \"geo\", \"hovertemplate\": \"<b>%{hovertext}</b><br><br>city_name=Freiburg<br>year_participation=1995<br>cumsum=%{marker.size}<br>lat=%{lat}<br>lon=%{lon}<extra></extra>\", \"hovertext\": [\"Freiburg\"], \"lat\": [47.9960901], \"legendgroup\": \"Freiburg\", \"lon\": [7.849400500000001], \"marker\": {\"color\": \"#FECB52\", \"size\": [3], \"sizemode\": \"area\", \"sizeref\": 0.45}, \"name\": \"Freiburg\", \"showlegend\": true, \"type\": \"scattergeo\"}, {\"geo\": \"geo\", \"hovertemplate\": \"<b>%{hovertext}</b><br><br>city_name=P\\u00f6cking<br>year_participation=1995<br>cumsum=%{marker.size}<br>lat=%{lat}<br>lon=%{lon}<extra></extra>\", \"hovertext\": [\"P\\u00f6cking\"], \"lat\": [47.966705100000006], \"legendgroup\": \"P\\u00f6cking\", \"lon\": [11.2999886], \"marker\": {\"color\": \"#19d3f3\", \"size\": [1], \"sizemode\": \"area\", \"sizeref\": 0.45}, \"name\": \"P\\u00f6cking\", \"showlegend\": true, \"type\": \"scattergeo\"}, {\"geo\": \"geo\", \"hovertemplate\": \"<b>%{hovertext}</b><br><br>city_name=Adnet bei Salzburg<br>year_participation=1995<br>cumsum=%{marker.size}<br>lat=%{lat}<br>lon=%{lon}<extra></extra>\", \"hovertext\": [\"Adnet bei Salzburg\"], \"lat\": [47.6963575], \"legendgroup\": \"Adnet bei Salzburg\", \"lon\": [13.1307565], \"marker\": {\"color\": \"#FF6692\", \"size\": [1], \"sizemode\": \"area\", \"sizeref\": 0.45}, \"name\": \"Adnet bei Salzburg\", \"showlegend\": true, \"type\": \"scattergeo\"}, {\"geo\": \"geo\", \"hovertemplate\": \"<b>%{hovertext}</b><br><br>city_name=Tomils<br>year_participation=1995<br>cumsum=%{marker.size}<br>lat=%{lat}<br>lon=%{lon}<extra></extra>\", \"hovertext\": [\"Tomils\"], \"lat\": [46.762063299999994], \"legendgroup\": \"Tomils\", \"lon\": [9.4423187], \"marker\": {\"color\": \"#B6E880\", \"size\": [1], \"sizemode\": \"area\", \"sizeref\": 0.45}, \"name\": \"Tomils\", \"showlegend\": true, \"type\": \"scattergeo\"}, {\"geo\": \"geo\", \"hovertemplate\": \"<b>%{hovertext}</b><br><br>city_name=Glarus<br>year_participation=1995<br>cumsum=%{marker.size}<br>lat=%{lat}<br>lon=%{lon}<extra></extra>\", \"hovertext\": [\"Glarus\"], \"lat\": [46.9796562], \"legendgroup\": \"Glarus\", \"lon\": [9.108812], \"marker\": {\"color\": \"#FF97FF\", \"size\": [1], \"sizemode\": \"area\", \"sizeref\": 0.45}, \"name\": \"Glarus\", \"showlegend\": true, \"type\": \"scattergeo\"}, {\"geo\": \"geo\", \"hovertemplate\": \"<b>%{hovertext}</b><br><br>city_name=Meikirch<br>year_participation=1995<br>cumsum=%{marker.size}<br>lat=%{lat}<br>lon=%{lon}<extra></extra>\", \"hovertext\": [\"Meikirch\"], \"lat\": [47.008865500000006], \"legendgroup\": \"Meikirch\", \"lon\": [7.3634614], \"marker\": {\"color\": \"#FECB52\", \"size\": [1], \"sizemode\": \"area\", \"sizeref\": 0.45}, \"name\": \"Meikirch\", \"showlegend\": true, \"type\": \"scattergeo\"}], \"name\": \"1995\"}, {\"data\": [{\"geo\": \"geo\", \"hovertemplate\": \"<b>%{hovertext}</b><br><br>city_name=Wien<br>year_participation=1996<br>cumsum=%{marker.size}<br>lat=%{lat}<br>lon=%{lon}<extra></extra>\", \"hovertext\": [\"Wien\"], \"lat\": [48.2083537], \"legendgroup\": \"Wien\", \"lon\": [16.372504199999998], \"marker\": {\"color\": \"#00cc96\", \"size\": [43], \"sizemode\": \"area\", \"sizeref\": 0.45}, \"name\": \"Wien\", \"showlegend\": true, \"type\": \"scattergeo\"}, {\"geo\": \"geo\", \"hovertemplate\": \"<b>%{hovertext}</b><br><br>city_name=M\\u00fcnchen<br>year_participation=1996<br>cumsum=%{marker.size}<br>lat=%{lat}<br>lon=%{lon}<extra></extra>\", \"hovertext\": [\"M\\u00fcnchen\"], \"lat\": [48.1371079], \"legendgroup\": \"M\\u00fcnchen\", \"lon\": [11.575382199999998], \"marker\": {\"color\": \"#B6E880\", \"size\": [37], \"sizemode\": \"area\", \"sizeref\": 0.45}, \"name\": \"M\\u00fcnchen\", \"showlegend\": true, \"type\": \"scattergeo\"}, {\"geo\": \"geo\", \"hovertemplate\": \"<b>%{hovertext}</b><br><br>city_name=Hamburg<br>year_participation=1996<br>cumsum=%{marker.size}<br>lat=%{lat}<br>lon=%{lon}<extra></extra>\", \"hovertext\": [\"Hamburg\"], \"lat\": [53.543764100000004], \"legendgroup\": \"Hamburg\", \"lon\": [10.009913300000001], \"marker\": {\"color\": \"#FF97FF\", \"size\": [23], \"sizemode\": \"area\", \"sizeref\": 0.45}, \"name\": \"Hamburg\", \"showlegend\": true, \"type\": \"scattergeo\"}, {\"geo\": \"geo\", \"hovertemplate\": \"<b>%{hovertext}</b><br><br>city_name=Z\\u00fcrich<br>year_participation=1996<br>cumsum=%{marker.size}<br>lat=%{lat}<br>lon=%{lon}<extra></extra>\", \"hovertext\": [\"Z\\u00fcrich\"], \"lat\": [47.3723941], \"legendgroup\": \"Z\\u00fcrich\", \"lon\": [8.5423328], \"marker\": {\"color\": \"#FECB52\", \"size\": [17], \"sizemode\": \"area\", \"sizeref\": 0.45}, \"name\": \"Z\\u00fcrich\", \"showlegend\": true, \"type\": \"scattergeo\"}, {\"geo\": \"geo\", \"hovertemplate\": \"<b>%{hovertext}</b><br><br>city_name=Berlin<br>year_participation=1996<br>cumsum=%{marker.size}<br>lat=%{lat}<br>lon=%{lon}<extra></extra>\", \"hovertext\": [\"Berlin\"], \"lat\": [52.517036499999996], \"legendgroup\": \"Berlin\", \"lon\": [13.388859900000002], \"marker\": {\"color\": \"#EF553B\", \"size\": [78], \"sizemode\": \"area\", \"sizeref\": 0.45}, \"name\": \"Berlin\", \"showlegend\": true, \"type\": \"scattergeo\"}, {\"geo\": \"geo\", \"hovertemplate\": \"<b>%{hovertext}</b><br><br>city_name=Frankfurt/Main<br>year_participation=1996<br>cumsum=%{marker.size}<br>lat=%{lat}<br>lon=%{lon}<extra></extra>\", \"hovertext\": [\"Frankfurt/Main\"], \"lat\": [50.053763700000005], \"legendgroup\": \"Frankfurt/Main\", \"lon\": [8.637085800000001], \"marker\": {\"color\": \"#ab63fa\", \"size\": [24], \"sizemode\": \"area\", \"sizeref\": 0.45}, \"name\": \"Frankfurt/Main\", \"showlegend\": true, \"type\": \"scattergeo\"}, {\"geo\": \"geo\", \"hovertemplate\": \"<b>%{hovertext}</b><br><br>city_name=Bielefeld<br>year_participation=1996<br>cumsum=%{marker.size}<br>lat=%{lat}<br>lon=%{lon}<extra></extra>\", \"hovertext\": [\"Bielefeld\"], \"lat\": [52.0191005], \"legendgroup\": \"Bielefeld\", \"lon\": [8.531007], \"marker\": {\"color\": \"#ab63fa\", \"size\": [2], \"sizemode\": \"area\", \"sizeref\": 0.45}, \"name\": \"Bielefeld\", \"showlegend\": true, \"type\": \"scattergeo\"}, {\"geo\": \"geo\", \"hovertemplate\": \"<b>%{hovertext}</b><br><br>city_name=Obernberg/Inn<br>year_participation=1996<br>cumsum=%{marker.size}<br>lat=%{lat}<br>lon=%{lon}<extra></extra>\", \"hovertext\": [\"Obernberg/Inn\"], \"lat\": [49.842047799999996], \"legendgroup\": \"Obernberg/Inn\", \"lon\": [9.1482032], \"marker\": {\"color\": \"#636efa\", \"size\": [1], \"sizemode\": \"area\", \"sizeref\": 0.45}, \"name\": \"Obernberg/Inn\", \"showlegend\": true, \"type\": \"scattergeo\"}, {\"geo\": \"geo\", \"hovertemplate\": \"<b>%{hovertext}</b><br><br>city_name=Pully<br>year_participation=1996<br>cumsum=%{marker.size}<br>lat=%{lat}<br>lon=%{lon}<extra></extra>\", \"hovertext\": [\"Pully\"], \"lat\": [46.5098019], \"legendgroup\": \"Pully\", \"lon\": [6.661747599999999], \"marker\": {\"color\": \"#EF553B\", \"size\": [1], \"sizemode\": \"area\", \"sizeref\": 0.45}, \"name\": \"Pully\", \"showlegend\": true, \"type\": \"scattergeo\"}, {\"geo\": \"geo\", \"hovertemplate\": \"<b>%{hovertext}</b><br><br>city_name=Pog\\u00f6riach<br>year_participation=1996<br>cumsum=%{marker.size}<br>lat=%{lat}<br>lon=%{lon}<extra></extra>\", \"hovertext\": [\"Pog\\u00f6riach\"], \"lat\": [46.6161946], \"legendgroup\": \"Pog\\u00f6riach\", \"lon\": [13.7958086], \"marker\": {\"color\": \"#00cc96\", \"size\": [1], \"sizemode\": \"area\", \"sizeref\": 0.45}, \"name\": \"Pog\\u00f6riach\", \"showlegend\": true, \"type\": \"scattergeo\"}, {\"geo\": \"geo\", \"hovertemplate\": \"<b>%{hovertext}</b><br><br>city_name=Wolfurt<br>year_participation=1996<br>cumsum=%{marker.size}<br>lat=%{lat}<br>lon=%{lon}<extra></extra>\", \"hovertext\": [\"Wolfurt\"], \"lat\": [47.4646422], \"legendgroup\": \"Wolfurt\", \"lon\": [9.745964294639679], \"marker\": {\"color\": \"#ab63fa\", \"size\": [1], \"sizemode\": \"area\", \"sizeref\": 0.45}, \"name\": \"Wolfurt\", \"showlegend\": true, \"type\": \"scattergeo\"}], \"name\": \"1996\"}, {\"data\": [{\"geo\": \"geo\", \"hovertemplate\": \"<b>%{hovertext}</b><br><br>city_name=Wien<br>year_participation=1997<br>cumsum=%{marker.size}<br>lat=%{lat}<br>lon=%{lon}<extra></extra>\", \"hovertext\": [\"Wien\"], \"lat\": [48.2083537], \"legendgroup\": \"Wien\", \"lon\": [16.372504199999998], \"marker\": {\"color\": \"#00cc96\", \"size\": [46], \"sizemode\": \"area\", \"sizeref\": 0.45}, \"name\": \"Wien\", \"showlegend\": true, \"type\": \"scattergeo\"}, {\"geo\": \"geo\", \"hovertemplate\": \"<b>%{hovertext}</b><br><br>city_name=Z\\u00fcrich<br>year_participation=1997<br>cumsum=%{marker.size}<br>lat=%{lat}<br>lon=%{lon}<extra></extra>\", \"hovertext\": [\"Z\\u00fcrich\"], \"lat\": [47.3723941], \"legendgroup\": \"Z\\u00fcrich\", \"lon\": [8.5423328], \"marker\": {\"color\": \"#FECB52\", \"size\": [20], \"sizemode\": \"area\", \"sizeref\": 0.45}, \"name\": \"Z\\u00fcrich\", \"showlegend\": true, \"type\": \"scattergeo\"}, {\"geo\": \"geo\", \"hovertemplate\": \"<b>%{hovertext}</b><br><br>city_name=Berlin<br>year_participation=1997<br>cumsum=%{marker.size}<br>lat=%{lat}<br>lon=%{lon}<extra></extra>\", \"hovertext\": [\"Berlin\"], \"lat\": [52.517036499999996], \"legendgroup\": \"Berlin\", \"lon\": [13.388859900000002], \"marker\": {\"color\": \"#EF553B\", \"size\": [80], \"sizemode\": \"area\", \"sizeref\": 0.45}, \"name\": \"Berlin\", \"showlegend\": true, \"type\": \"scattergeo\"}, {\"geo\": \"geo\", \"hovertemplate\": \"<b>%{hovertext}</b><br><br>city_name=Basel<br>year_participation=1997<br>cumsum=%{marker.size}<br>lat=%{lat}<br>lon=%{lon}<extra></extra>\", \"hovertext\": [\"Basel\"], \"lat\": [47.55810770000001], \"legendgroup\": \"Basel\", \"lon\": [7.5878261], \"marker\": {\"color\": \"#FECB52\", \"size\": [9], \"sizemode\": \"area\", \"sizeref\": 0.45}, \"name\": \"Basel\", \"showlegend\": true, \"type\": \"scattergeo\"}, {\"geo\": \"geo\", \"hovertemplate\": \"<b>%{hovertext}</b><br><br>city_name=Paris<br>year_participation=1997<br>cumsum=%{marker.size}<br>lat=%{lat}<br>lon=%{lon}<extra></extra>\", \"hovertext\": [\"Paris\"], \"lat\": [48.856696899999996], \"legendgroup\": \"Paris\", \"lon\": [2.3514616000000004], \"marker\": {\"color\": \"#00cc96\", \"size\": [4], \"sizemode\": \"area\", \"sizeref\": 0.45}, \"name\": \"Paris\", \"showlegend\": true, \"type\": \"scattergeo\"}, {\"geo\": \"geo\", \"hovertemplate\": \"<b>%{hovertext}</b><br><br>city_name=Klosterneuburg<br>year_participation=1997<br>cumsum=%{marker.size}<br>lat=%{lat}<br>lon=%{lon}<extra></extra>\", \"hovertext\": [\"Klosterneuburg\"], \"lat\": [48.304990000000004], \"legendgroup\": \"Klosterneuburg\", \"lon\": [16.323756], \"marker\": {\"color\": \"#FFA15A\", \"size\": [1], \"sizemode\": \"area\", \"sizeref\": 0.45}, \"name\": \"Klosterneuburg\", \"showlegend\": true, \"type\": \"scattergeo\"}, {\"geo\": \"geo\", \"hovertemplate\": \"<b>%{hovertext}</b><br><br>city_name=Montpellier<br>year_participation=1997<br>cumsum=%{marker.size}<br>lat=%{lat}<br>lon=%{lon}<extra></extra>\", \"hovertext\": [\"Montpellier\"], \"lat\": [43.6112422], \"legendgroup\": \"Montpellier\", \"lon\": [3.8767337], \"marker\": {\"color\": \"#19d3f3\", \"size\": [1], \"sizemode\": \"area\", \"sizeref\": 0.45}, \"name\": \"Montpellier\", \"showlegend\": true, \"type\": \"scattergeo\"}, {\"geo\": \"geo\", \"hovertemplate\": \"<b>%{hovertext}</b><br><br>city_name=Kerry (Irland)<br>year_participation=1997<br>cumsum=%{marker.size}<br>lat=%{lat}<br>lon=%{lon}<extra></extra>\", \"hovertext\": [\"Kerry (Irland)\"], \"lat\": [52.14533445], \"legendgroup\": \"Kerry (Irland)\", \"lon\": [-9.517401092833236], \"marker\": {\"color\": \"#FF6692\", \"size\": [1], \"sizemode\": \"area\", \"sizeref\": 0.45}, \"name\": \"Kerry (Irland)\", \"showlegend\": true, \"type\": \"scattergeo\"}, {\"geo\": \"geo\", \"hovertemplate\": \"<b>%{hovertext}</b><br><br>city_name=Chieming<br>year_participation=1997<br>cumsum=%{marker.size}<br>lat=%{lat}<br>lon=%{lon}<extra></extra>\", \"hovertext\": [\"Chieming\"], \"lat\": [47.8942626], \"legendgroup\": \"Chieming\", \"lon\": [12.5381465], \"marker\": {\"color\": \"#B6E880\", \"size\": [1], \"sizemode\": \"area\", \"sizeref\": 0.45}, \"name\": \"Chieming\", \"showlegend\": true, \"type\": \"scattergeo\"}, {\"geo\": \"geo\", \"hovertemplate\": \"<b>%{hovertext}</b><br><br>city_name=Niigata (Japan)<br>year_participation=1997<br>cumsum=%{marker.size}<br>lat=%{lat}<br>lon=%{lon}<extra></extra>\", \"hovertext\": [\"Niigata (Japan)\"], \"lat\": [37.6452283], \"legendgroup\": \"Niigata (Japan)\", \"lon\": [138.7669125], \"marker\": {\"color\": \"#FF97FF\", \"size\": [1], \"sizemode\": \"area\", \"sizeref\": 0.45}, \"name\": \"Niigata (Japan)\", \"showlegend\": true, \"type\": \"scattergeo\"}, {\"geo\": \"geo\", \"hovertemplate\": \"<b>%{hovertext}</b><br><br>city_name=Eurasburg<br>year_participation=1997<br>cumsum=%{marker.size}<br>lat=%{lat}<br>lon=%{lon}<extra></extra>\", \"hovertext\": [\"Eurasburg\"], \"lat\": [48.3343673], \"legendgroup\": \"Eurasburg\", \"lon\": [11.0832728], \"marker\": {\"color\": \"#FECB52\", \"size\": [1], \"sizemode\": \"area\", \"sizeref\": 0.45}, \"name\": \"Eurasburg\", \"showlegend\": true, \"type\": \"scattergeo\"}], \"name\": \"1997\"}, {\"data\": [{\"geo\": \"geo\", \"hovertemplate\": \"<b>%{hovertext}</b><br><br>city_name=Wien<br>year_participation=1998<br>cumsum=%{marker.size}<br>lat=%{lat}<br>lon=%{lon}<extra></extra>\", \"hovertext\": [\"Wien\"], \"lat\": [48.2083537], \"legendgroup\": \"Wien\", \"lon\": [16.372504199999998], \"marker\": {\"color\": \"#00cc96\", \"size\": [47], \"sizemode\": \"area\", \"sizeref\": 0.45}, \"name\": \"Wien\", \"showlegend\": true, \"type\": \"scattergeo\"}, {\"geo\": \"geo\", \"hovertemplate\": \"<b>%{hovertext}</b><br><br>city_name=M\\u00fcnchen<br>year_participation=1998<br>cumsum=%{marker.size}<br>lat=%{lat}<br>lon=%{lon}<extra></extra>\", \"hovertext\": [\"M\\u00fcnchen\"], \"lat\": [48.1371079], \"legendgroup\": \"M\\u00fcnchen\", \"lon\": [11.575382199999998], \"marker\": {\"color\": \"#B6E880\", \"size\": [38], \"sizemode\": \"area\", \"sizeref\": 0.45}, \"name\": \"M\\u00fcnchen\", \"showlegend\": true, \"type\": \"scattergeo\"}, {\"geo\": \"geo\", \"hovertemplate\": \"<b>%{hovertext}</b><br><br>city_name=Z\\u00fcrich<br>year_participation=1998<br>cumsum=%{marker.size}<br>lat=%{lat}<br>lon=%{lon}<extra></extra>\", \"hovertext\": [\"Z\\u00fcrich\"], \"lat\": [47.3723941], \"legendgroup\": \"Z\\u00fcrich\", \"lon\": [8.5423328], \"marker\": {\"color\": \"#FECB52\", \"size\": [21], \"sizemode\": \"area\", \"sizeref\": 0.45}, \"name\": \"Z\\u00fcrich\", \"showlegend\": true, \"type\": \"scattergeo\"}, {\"geo\": \"geo\", \"hovertemplate\": \"<b>%{hovertext}</b><br><br>city_name=Berlin<br>year_participation=1998<br>cumsum=%{marker.size}<br>lat=%{lat}<br>lon=%{lon}<extra></extra>\", \"hovertext\": [\"Berlin\"], \"lat\": [52.517036499999996], \"legendgroup\": \"Berlin\", \"lon\": [13.388859900000002], \"marker\": {\"color\": \"#EF553B\", \"size\": [86], \"sizemode\": \"area\", \"sizeref\": 0.45}, \"name\": \"Berlin\", \"showlegend\": true, \"type\": \"scattergeo\"}, {\"geo\": \"geo\", \"hovertemplate\": \"<b>%{hovertext}</b><br><br>city_name=Basel<br>year_participation=1998<br>cumsum=%{marker.size}<br>lat=%{lat}<br>lon=%{lon}<extra></extra>\", \"hovertext\": [\"Basel\"], \"lat\": [47.55810770000001], \"legendgroup\": \"Basel\", \"lon\": [7.5878261], \"marker\": {\"color\": \"#FECB52\", \"size\": [10], \"sizemode\": \"area\", \"sizeref\": 0.45}, \"name\": \"Basel\", \"showlegend\": true, \"type\": \"scattergeo\"}, {\"geo\": \"geo\", \"hovertemplate\": \"<b>%{hovertext}</b><br><br>city_name=Karlsruhe<br>year_participation=1998<br>cumsum=%{marker.size}<br>lat=%{lat}<br>lon=%{lon}<extra></extra>\", \"hovertext\": [\"Karlsruhe\"], \"lat\": [49.006870500000005], \"legendgroup\": \"Karlsruhe\", \"lon\": [8.4034195], \"marker\": {\"color\": \"#19d3f3\", \"size\": [3], \"sizemode\": \"area\", \"sizeref\": 0.45}, \"name\": \"Karlsruhe\", \"showlegend\": true, \"type\": \"scattergeo\"}, {\"geo\": \"geo\", \"hovertemplate\": \"<b>%{hovertext}</b><br><br>city_name=K\\u00f6ln<br>year_participation=1998<br>cumsum=%{marker.size}<br>lat=%{lat}<br>lon=%{lon}<extra></extra>\", \"hovertext\": [\"K\\u00f6ln\"], \"lat\": [50.938361], \"legendgroup\": \"K\\u00f6ln\", \"lon\": [6.959974000000001], \"marker\": {\"color\": \"#00cc96\", \"size\": [5], \"sizemode\": \"area\", \"sizeref\": 0.45}, \"name\": \"K\\u00f6ln\", \"showlegend\": true, \"type\": \"scattergeo\"}, {\"geo\": \"geo\", \"hovertemplate\": \"<b>%{hovertext}</b><br><br>city_name=Bregenz<br>year_participation=1998<br>cumsum=%{marker.size}<br>lat=%{lat}<br>lon=%{lon}<extra></extra>\", \"hovertext\": [\"Bregenz\"], \"lat\": [47.5025779], \"legendgroup\": \"Bregenz\", \"lon\": [9.7472924], \"marker\": {\"color\": \"#B6E880\", \"size\": [5], \"sizemode\": \"area\", \"sizeref\": 0.45}, \"name\": \"Bregenz\", \"showlegend\": true, \"type\": \"scattergeo\"}, {\"geo\": \"geo\", \"hovertemplate\": \"<b>%{hovertext}</b><br><br>city_name=Filzbach<br>year_participation=1998<br>cumsum=%{marker.size}<br>lat=%{lat}<br>lon=%{lon}<extra></extra>\", \"hovertext\": [\"Filzbach\"], \"lat\": [47.120447399999996], \"legendgroup\": \"Filzbach\", \"lon\": [9.1296451], \"marker\": {\"color\": \"#636efa\", \"size\": [1], \"sizemode\": \"area\", \"sizeref\": 0.45}, \"name\": \"Filzbach\", \"showlegend\": true, \"type\": \"scattergeo\"}, {\"geo\": \"geo\", \"hovertemplate\": \"<b>%{hovertext}</b><br><br>city_name=\\u00dcbach-Palenberg<br>year_participation=1998<br>cumsum=%{marker.size}<br>lat=%{lat}<br>lon=%{lon}<extra></extra>\", \"hovertext\": [\"\\u00dcbach-Palenberg\"], \"lat\": [50.9213799], \"legendgroup\": \"\\u00dcbach-Palenberg\", \"lon\": [6.1128697999999995], \"marker\": {\"color\": \"#EF553B\", \"size\": [1], \"sizemode\": \"area\", \"sizeref\": 0.45}, \"name\": \"\\u00dcbach-Palenberg\", \"showlegend\": true, \"type\": \"scattergeo\"}], \"name\": \"1998\"}, {\"data\": [{\"geo\": \"geo\", \"hovertemplate\": \"<b>%{hovertext}</b><br><br>city_name=Wien<br>year_participation=1999<br>cumsum=%{marker.size}<br>lat=%{lat}<br>lon=%{lon}<extra></extra>\", \"hovertext\": [\"Wien\"], \"lat\": [48.2083537], \"legendgroup\": \"Wien\", \"lon\": [16.372504199999998], \"marker\": {\"color\": \"#00cc96\", \"size\": [48], \"sizemode\": \"area\", \"sizeref\": 0.45}, \"name\": \"Wien\", \"showlegend\": true, \"type\": \"scattergeo\"}, {\"geo\": \"geo\", \"hovertemplate\": \"<b>%{hovertext}</b><br><br>city_name=Hamburg<br>year_participation=1999<br>cumsum=%{marker.size}<br>lat=%{lat}<br>lon=%{lon}<extra></extra>\", \"hovertext\": [\"Hamburg\"], \"lat\": [53.543764100000004], \"legendgroup\": \"Hamburg\", \"lon\": [10.009913300000001], \"marker\": {\"color\": \"#FF97FF\", \"size\": [24], \"sizemode\": \"area\", \"sizeref\": 0.45}, \"name\": \"Hamburg\", \"showlegend\": true, \"type\": \"scattergeo\"}, {\"geo\": \"geo\", \"hovertemplate\": \"<b>%{hovertext}</b><br><br>city_name=Z\\u00fcrich<br>year_participation=1999<br>cumsum=%{marker.size}<br>lat=%{lat}<br>lon=%{lon}<extra></extra>\", \"hovertext\": [\"Z\\u00fcrich\"], \"lat\": [47.3723941], \"legendgroup\": \"Z\\u00fcrich\", \"lon\": [8.5423328], \"marker\": {\"color\": \"#FECB52\", \"size\": [23], \"sizemode\": \"area\", \"sizeref\": 0.45}, \"name\": \"Z\\u00fcrich\", \"showlegend\": true, \"type\": \"scattergeo\"}, {\"geo\": \"geo\", \"hovertemplate\": \"<b>%{hovertext}</b><br><br>city_name=Berlin<br>year_participation=1999<br>cumsum=%{marker.size}<br>lat=%{lat}<br>lon=%{lon}<extra></extra>\", \"hovertext\": [\"Berlin\"], \"lat\": [52.517036499999996], \"legendgroup\": \"Berlin\", \"lon\": [13.388859900000002], \"marker\": {\"color\": \"#EF553B\", \"size\": [91], \"sizemode\": \"area\", \"sizeref\": 0.45}, \"name\": \"Berlin\", \"showlegend\": true, \"type\": \"scattergeo\"}, {\"geo\": \"geo\", \"hovertemplate\": \"<b>%{hovertext}</b><br><br>city_name=Salzburg<br>year_participation=1999<br>cumsum=%{marker.size}<br>lat=%{lat}<br>lon=%{lon}<extra></extra>\", \"hovertext\": [\"Salzburg\"], \"lat\": [47.798134600000004], \"legendgroup\": \"Salzburg\", \"lon\": [13.046480599999999], \"marker\": {\"color\": \"#00cc96\", \"size\": [15], \"sizemode\": \"area\", \"sizeref\": 0.45}, \"name\": \"Salzburg\", \"showlegend\": true, \"type\": \"scattergeo\"}, {\"geo\": \"geo\", \"hovertemplate\": \"<b>%{hovertext}</b><br><br>city_name=Hohenems<br>year_participation=1999<br>cumsum=%{marker.size}<br>lat=%{lat}<br>lon=%{lon}<extra></extra>\", \"hovertext\": [\"Hohenems\"], \"lat\": [47.3639973], \"legendgroup\": \"Hohenems\", \"lon\": [9.689271000000002], \"marker\": {\"color\": \"#EF553B\", \"size\": [2], \"sizemode\": \"area\", \"sizeref\": 0.45}, \"name\": \"Hohenems\", \"showlegend\": true, \"type\": \"scattergeo\"}, {\"geo\": \"geo\", \"hovertemplate\": \"<b>%{hovertext}</b><br><br>city_name=Langenthal<br>year_participation=1999<br>cumsum=%{marker.size}<br>lat=%{lat}<br>lon=%{lon}<extra></extra>\", \"hovertext\": [\"Langenthal\"], \"lat\": [49.8309059], \"legendgroup\": \"Langenthal\", \"lon\": [7.5737063], \"marker\": {\"color\": \"#00cc96\", \"size\": [1], \"sizemode\": \"area\", \"sizeref\": 0.45}, \"name\": \"Langenthal\", \"showlegend\": true, \"type\": \"scattergeo\"}, {\"geo\": \"geo\", \"hovertemplate\": \"<b>%{hovertext}</b><br><br>city_name=Adnet<br>year_participation=1999<br>cumsum=%{marker.size}<br>lat=%{lat}<br>lon=%{lon}<extra></extra>\", \"hovertext\": [\"Adnet\"], \"lat\": [47.6963575], \"legendgroup\": \"Adnet\", \"lon\": [13.1307565], \"marker\": {\"color\": \"#ab63fa\", \"size\": [1], \"sizemode\": \"area\", \"sizeref\": 0.45}, \"name\": \"Adnet\", \"showlegend\": true, \"type\": \"scattergeo\"}, {\"geo\": \"geo\", \"hovertemplate\": \"<b>%{hovertext}</b><br><br>city_name=Amsterdam<br>year_participation=1999<br>cumsum=%{marker.size}<br>lat=%{lat}<br>lon=%{lon}<extra></extra>\", \"hovertext\": [\"Amsterdam\"], \"lat\": [52.37454030000001], \"legendgroup\": \"Amsterdam\", \"lon\": [4.897975505617977], \"marker\": {\"color\": \"#FFA15A\", \"size\": [1], \"sizemode\": \"area\", \"sizeref\": 0.45}, \"name\": \"Amsterdam\", \"showlegend\": true, \"type\": \"scattergeo\"}, {\"geo\": \"geo\", \"hovertemplate\": \"<b>%{hovertext}</b><br><br>city_name=Dornbirn<br>year_participation=1999<br>cumsum=%{marker.size}<br>lat=%{lat}<br>lon=%{lon}<extra></extra>\", \"hovertext\": [\"Dornbirn\"], \"lat\": [47.413631], \"legendgroup\": \"Dornbirn\", \"lon\": [9.7423875], \"marker\": {\"color\": \"#19d3f3\", \"size\": [1], \"sizemode\": \"area\", \"sizeref\": 0.45}, \"name\": \"Dornbirn\", \"showlegend\": true, \"type\": \"scattergeo\"}, {\"geo\": \"geo\", \"hovertemplate\": \"<b>%{hovertext}</b><br><br>city_name=Rheineck<br>year_participation=1999<br>cumsum=%{marker.size}<br>lat=%{lat}<br>lon=%{lon}<extra></extra>\", \"hovertext\": [\"Rheineck\"], \"lat\": [47.4706336], \"legendgroup\": \"Rheineck\", \"lon\": [9.584108], \"marker\": {\"color\": \"#FF6692\", \"size\": [1], \"sizemode\": \"area\", \"sizeref\": 0.45}, \"name\": \"Rheineck\", \"showlegend\": true, \"type\": \"scattergeo\"}], \"name\": \"1999\"}, {\"data\": [{\"geo\": \"geo\", \"hovertemplate\": \"<b>%{hovertext}</b><br><br>city_name=Wien<br>year_participation=2000<br>cumsum=%{marker.size}<br>lat=%{lat}<br>lon=%{lon}<extra></extra>\", \"hovertext\": [\"Wien\"], \"lat\": [48.2083537], \"legendgroup\": \"Wien\", \"lon\": [16.372504199999998], \"marker\": {\"color\": \"#00cc96\", \"size\": [51], \"sizemode\": \"area\", \"sizeref\": 0.45}, \"name\": \"Wien\", \"showlegend\": true, \"type\": \"scattergeo\"}, {\"geo\": \"geo\", \"hovertemplate\": \"<b>%{hovertext}</b><br><br>city_name=M\\u00fcnchen<br>year_participation=2000<br>cumsum=%{marker.size}<br>lat=%{lat}<br>lon=%{lon}<extra></extra>\", \"hovertext\": [\"M\\u00fcnchen\"], \"lat\": [48.1371079], \"legendgroup\": \"M\\u00fcnchen\", \"lon\": [11.575382199999998], \"marker\": {\"color\": \"#B6E880\", \"size\": [39], \"sizemode\": \"area\", \"sizeref\": 0.45}, \"name\": \"M\\u00fcnchen\", \"showlegend\": true, \"type\": \"scattergeo\"}, {\"geo\": \"geo\", \"hovertemplate\": \"<b>%{hovertext}</b><br><br>city_name=Z\\u00fcrich<br>year_participation=2000<br>cumsum=%{marker.size}<br>lat=%{lat}<br>lon=%{lon}<extra></extra>\", \"hovertext\": [\"Z\\u00fcrich\"], \"lat\": [47.3723941], \"legendgroup\": \"Z\\u00fcrich\", \"lon\": [8.5423328], \"marker\": {\"color\": \"#FECB52\", \"size\": [24], \"sizemode\": \"area\", \"sizeref\": 0.45}, \"name\": \"Z\\u00fcrich\", \"showlegend\": true, \"type\": \"scattergeo\"}, {\"geo\": \"geo\", \"hovertemplate\": \"<b>%{hovertext}</b><br><br>city_name=Berlin<br>year_participation=2000<br>cumsum=%{marker.size}<br>lat=%{lat}<br>lon=%{lon}<extra></extra>\", \"hovertext\": [\"Berlin\"], \"lat\": [52.517036499999996], \"legendgroup\": \"Berlin\", \"lon\": [13.388859900000002], \"marker\": {\"color\": \"#EF553B\", \"size\": [97], \"sizemode\": \"area\", \"sizeref\": 0.45}, \"name\": \"Berlin\", \"showlegend\": true, \"type\": \"scattergeo\"}, {\"geo\": \"geo\", \"hovertemplate\": \"<b>%{hovertext}</b><br><br>city_name=Basel<br>year_participation=2000<br>cumsum=%{marker.size}<br>lat=%{lat}<br>lon=%{lon}<extra></extra>\", \"hovertext\": [\"Basel\"], \"lat\": [47.55810770000001], \"legendgroup\": \"Basel\", \"lon\": [7.5878261], \"marker\": {\"color\": \"#FECB52\", \"size\": [11], \"sizemode\": \"area\", \"sizeref\": 0.45}, \"name\": \"Basel\", \"showlegend\": true, \"type\": \"scattergeo\"}, {\"geo\": \"geo\", \"hovertemplate\": \"<b>%{hovertext}</b><br><br>city_name=Seon<br>year_participation=2000<br>cumsum=%{marker.size}<br>lat=%{lat}<br>lon=%{lon}<extra></extra>\", \"hovertext\": [\"Seon\"], \"lat\": [47.3460005], \"legendgroup\": \"Seon\", \"lon\": [8.1593554], \"marker\": {\"color\": \"#B6E880\", \"size\": [1], \"sizemode\": \"area\", \"sizeref\": 0.45}, \"name\": \"Seon\", \"showlegend\": true, \"type\": \"scattergeo\"}, {\"geo\": \"geo\", \"hovertemplate\": \"<b>%{hovertext}</b><br><br>city_name=Heinitzpolder<br>year_participation=2000<br>cumsum=%{marker.size}<br>lat=%{lat}<br>lon=%{lon}<extra></extra>\", \"hovertext\": [\"Heinitzpolder\"], \"lat\": [53.26128539999999], \"legendgroup\": \"Heinitzpolder\", \"lon\": [7.2439366], \"marker\": {\"color\": \"#FF97FF\", \"size\": [1], \"sizemode\": \"area\", \"sizeref\": 0.45}, \"name\": \"Heinitzpolder\", \"showlegend\": true, \"type\": \"scattergeo\"}, {\"geo\": \"geo\", \"hovertemplate\": \"<b>%{hovertext}</b><br><br>city_name=Montevideo (Uruguay)<br>year_participation=2000<br>cumsum=%{marker.size}<br>lat=%{lat}<br>lon=%{lon}<extra></extra>\", \"hovertext\": [\"Montevideo (Uruguay)\"], \"lat\": [-34.8927002], \"legendgroup\": \"Montevideo (Uruguay)\", \"lon\": [-56.178654], \"marker\": {\"color\": \"#FECB52\", \"size\": [1], \"sizemode\": \"area\", \"sizeref\": 0.45}, \"name\": \"Montevideo (Uruguay)\", \"showlegend\": true, \"type\": \"scattergeo\"}, {\"geo\": \"geo\", \"hovertemplate\": \"<b>%{hovertext}</b><br><br>city_name=Bad Nauheim<br>year_participation=2000<br>cumsum=%{marker.size}<br>lat=%{lat}<br>lon=%{lon}<extra></extra>\", \"hovertext\": [\"Bad Nauheim\"], \"lat\": [50.3681107], \"legendgroup\": \"Bad Nauheim\", \"lon\": [8.747360800000001], \"marker\": {\"color\": \"#636efa\", \"size\": [1], \"sizemode\": \"area\", \"sizeref\": 0.45}, \"name\": \"Bad Nauheim\", \"showlegend\": true, \"type\": \"scattergeo\"}], \"name\": \"2000\"}, {\"data\": [{\"geo\": \"geo\", \"hovertemplate\": \"<b>%{hovertext}</b><br><br>city_name=M\\u00fcnchen<br>year_participation=2001<br>cumsum=%{marker.size}<br>lat=%{lat}<br>lon=%{lon}<extra></extra>\", \"hovertext\": [\"M\\u00fcnchen\"], \"lat\": [48.1371079], \"legendgroup\": \"M\\u00fcnchen\", \"lon\": [11.575382199999998], \"marker\": {\"color\": \"#B6E880\", \"size\": [42], \"sizemode\": \"area\", \"sizeref\": 0.45}, \"name\": \"M\\u00fcnchen\", \"showlegend\": true, \"type\": \"scattergeo\"}, {\"geo\": \"geo\", \"hovertemplate\": \"<b>%{hovertext}</b><br><br>city_name=Z\\u00fcrich<br>year_participation=2001<br>cumsum=%{marker.size}<br>lat=%{lat}<br>lon=%{lon}<extra></extra>\", \"hovertext\": [\"Z\\u00fcrich\"], \"lat\": [47.3723941], \"legendgroup\": \"Z\\u00fcrich\", \"lon\": [8.5423328], \"marker\": {\"color\": \"#FECB52\", \"size\": [26], \"sizemode\": \"area\", \"sizeref\": 0.45}, \"name\": \"Z\\u00fcrich\", \"showlegend\": true, \"type\": \"scattergeo\"}, {\"geo\": \"geo\", \"hovertemplate\": \"<b>%{hovertext}</b><br><br>city_name=Berlin<br>year_participation=2001<br>cumsum=%{marker.size}<br>lat=%{lat}<br>lon=%{lon}<extra></extra>\", \"hovertext\": [\"Berlin\"], \"lat\": [52.517036499999996], \"legendgroup\": \"Berlin\", \"lon\": [13.388859900000002], \"marker\": {\"color\": \"#EF553B\", \"size\": [104], \"sizemode\": \"area\", \"sizeref\": 0.45}, \"name\": \"Berlin\", \"showlegend\": true, \"type\": \"scattergeo\"}, {\"geo\": \"geo\", \"hovertemplate\": \"<b>%{hovertext}</b><br><br>city_name=Frankfurt/Main<br>year_participation=2001<br>cumsum=%{marker.size}<br>lat=%{lat}<br>lon=%{lon}<extra></extra>\", \"hovertext\": [\"Frankfurt/Main\"], \"lat\": [50.053763700000005], \"legendgroup\": \"Frankfurt/Main\", \"lon\": [8.637085800000001], \"marker\": {\"color\": \"#ab63fa\", \"size\": [25], \"sizemode\": \"area\", \"sizeref\": 0.45}, \"name\": \"Frankfurt/Main\", \"showlegend\": true, \"type\": \"scattergeo\"}, {\"geo\": \"geo\", \"hovertemplate\": \"<b>%{hovertext}</b><br><br>city_name=K\\u00f6ln<br>year_participation=2001<br>cumsum=%{marker.size}<br>lat=%{lat}<br>lon=%{lon}<extra></extra>\", \"hovertext\": [\"K\\u00f6ln\"], \"lat\": [50.938361], \"legendgroup\": \"K\\u00f6ln\", \"lon\": [6.959974000000001], \"marker\": {\"color\": \"#00cc96\", \"size\": [7], \"sizemode\": \"area\", \"sizeref\": 0.45}, \"name\": \"K\\u00f6ln\", \"showlegend\": true, \"type\": \"scattergeo\"}, {\"geo\": \"geo\", \"hovertemplate\": \"<b>%{hovertext}</b><br><br>city_name=Potsdam<br>year_participation=2001<br>cumsum=%{marker.size}<br>lat=%{lat}<br>lon=%{lon}<extra></extra>\", \"hovertext\": [\"Potsdam\"], \"lat\": [52.4009309], \"legendgroup\": \"Potsdam\", \"lon\": [13.0591397], \"marker\": {\"color\": \"#ab63fa\", \"size\": [2], \"sizemode\": \"area\", \"sizeref\": 0.45}, \"name\": \"Potsdam\", \"showlegend\": true, \"type\": \"scattergeo\"}, {\"geo\": \"geo\", \"hovertemplate\": \"<b>%{hovertext}</b><br><br>city_name=Verden/Aller<br>year_participation=2001<br>cumsum=%{marker.size}<br>lat=%{lat}<br>lon=%{lon}<extra></extra>\", \"hovertext\": [\"Verden/Aller\"], \"lat\": [52.94106755], \"legendgroup\": \"Verden/Aller\", \"lon\": [9.235471627440539], \"marker\": {\"color\": \"#EF553B\", \"size\": [1], \"sizemode\": \"area\", \"sizeref\": 0.45}, \"name\": \"Verden/Aller\", \"showlegend\": true, \"type\": \"scattergeo\"}, {\"geo\": \"geo\", \"hovertemplate\": \"<b>%{hovertext}</b><br><br>city_name=St. Pantaleon<br>year_participation=2001<br>cumsum=%{marker.size}<br>lat=%{lat}<br>lon=%{lon}<extra></extra>\", \"hovertext\": [\"St. Pantaleon\"], \"lat\": [44.36794325], \"legendgroup\": \"St. Pantaleon\", \"lon\": [1.2883090052056572], \"marker\": {\"color\": \"#00cc96\", \"size\": [1], \"sizemode\": \"area\", \"sizeref\": 0.45}, \"name\": \"St. Pantaleon\", \"showlegend\": true, \"type\": \"scattergeo\"}, {\"geo\": \"geo\", \"hovertemplate\": \"<b>%{hovertext}</b><br><br>city_name=Kumberg<br>year_participation=2001<br>cumsum=%{marker.size}<br>lat=%{lat}<br>lon=%{lon}<extra></extra>\", \"hovertext\": [\"Kumberg\"], \"lat\": [47.1602431], \"legendgroup\": \"Kumberg\", \"lon\": [15.5343272], \"marker\": {\"color\": \"#ab63fa\", \"size\": [1], \"sizemode\": \"area\", \"sizeref\": 0.45}, \"name\": \"Kumberg\", \"showlegend\": true, \"type\": \"scattergeo\"}], \"name\": \"2001\"}, {\"data\": [{\"geo\": \"geo\", \"hovertemplate\": \"<b>%{hovertext}</b><br><br>city_name=Wien<br>year_participation=2002<br>cumsum=%{marker.size}<br>lat=%{lat}<br>lon=%{lon}<extra></extra>\", \"hovertext\": [\"Wien\"], \"lat\": [48.2083537], \"legendgroup\": \"Wien\", \"lon\": [16.372504199999998], \"marker\": {\"color\": \"#00cc96\", \"size\": [52], \"sizemode\": \"area\", \"sizeref\": 0.45}, \"name\": \"Wien\", \"showlegend\": true, \"type\": \"scattergeo\"}, {\"geo\": \"geo\", \"hovertemplate\": \"<b>%{hovertext}</b><br><br>city_name=Z\\u00fcrich<br>year_participation=2002<br>cumsum=%{marker.size}<br>lat=%{lat}<br>lon=%{lon}<extra></extra>\", \"hovertext\": [\"Z\\u00fcrich\"], \"lat\": [47.3723941], \"legendgroup\": \"Z\\u00fcrich\", \"lon\": [8.5423328], \"marker\": {\"color\": \"#FECB52\", \"size\": [28], \"sizemode\": \"area\", \"sizeref\": 0.45}, \"name\": \"Z\\u00fcrich\", \"showlegend\": true, \"type\": \"scattergeo\"}, {\"geo\": \"geo\", \"hovertemplate\": \"<b>%{hovertext}</b><br><br>city_name=Berlin<br>year_participation=2002<br>cumsum=%{marker.size}<br>lat=%{lat}<br>lon=%{lon}<extra></extra>\", \"hovertext\": [\"Berlin\"], \"lat\": [52.517036499999996], \"legendgroup\": \"Berlin\", \"lon\": [13.388859900000002], \"marker\": {\"color\": \"#EF553B\", \"size\": [107], \"sizemode\": \"area\", \"sizeref\": 0.45}, \"name\": \"Berlin\", \"showlegend\": true, \"type\": \"scattergeo\"}, {\"geo\": \"geo\", \"hovertemplate\": \"<b>%{hovertext}</b><br><br>city_name=Bern<br>year_participation=2002<br>cumsum=%{marker.size}<br>lat=%{lat}<br>lon=%{lon}<extra></extra>\", \"hovertext\": [\"Bern\"], \"lat\": [46.9482713], \"legendgroup\": \"Bern\", \"lon\": [7.4514512], \"marker\": {\"color\": \"#FF6692\", \"size\": [11], \"sizemode\": \"area\", \"sizeref\": 0.45}, \"name\": \"Bern\", \"showlegend\": true, \"type\": \"scattergeo\"}, {\"geo\": \"geo\", \"hovertemplate\": \"<b>%{hovertext}</b><br><br>city_name=Basel<br>year_participation=2002<br>cumsum=%{marker.size}<br>lat=%{lat}<br>lon=%{lon}<extra></extra>\", \"hovertext\": [\"Basel\"], \"lat\": [47.55810770000001], \"legendgroup\": \"Basel\", \"lon\": [7.5878261], \"marker\": {\"color\": \"#FECB52\", \"size\": [13], \"sizemode\": \"area\", \"sizeref\": 0.45}, \"name\": \"Basel\", \"showlegend\": true, \"type\": \"scattergeo\"}, {\"geo\": \"geo\", \"hovertemplate\": \"<b>%{hovertext}</b><br><br>city_name=Innsbruck<br>year_participation=2002<br>cumsum=%{marker.size}<br>lat=%{lat}<br>lon=%{lon}<extra></extra>\", \"hovertext\": [\"Innsbruck\"], \"lat\": [47.265429600000004], \"legendgroup\": \"Innsbruck\", \"lon\": [11.392768499999999], \"marker\": {\"color\": \"#FF6692\", \"size\": [5], \"sizemode\": \"area\", \"sizeref\": 0.45}, \"name\": \"Innsbruck\", \"showlegend\": true, \"type\": \"scattergeo\"}, {\"geo\": \"geo\", \"hovertemplate\": \"<b>%{hovertext}</b><br><br>city_name=Linz<br>year_participation=2002<br>cumsum=%{marker.size}<br>lat=%{lat}<br>lon=%{lon}<extra></extra>\", \"hovertext\": [\"Linz\"], \"lat\": [48.3059078], \"legendgroup\": \"Linz\", \"lon\": [14.286198], \"marker\": {\"color\": \"#FF97FF\", \"size\": [3], \"sizemode\": \"area\", \"sizeref\": 0.45}, \"name\": \"Linz\", \"showlegend\": true, \"type\": \"scattergeo\"}, {\"geo\": \"geo\", \"hovertemplate\": \"<b>%{hovertext}</b><br><br>city_name=Leipzig<br>year_participation=2002<br>cumsum=%{marker.size}<br>lat=%{lat}<br>lon=%{lon}<extra></extra>\", \"hovertext\": [\"Leipzig\"], \"lat\": [51.3406321], \"legendgroup\": \"Leipzig\", \"lon\": [12.3747329], \"marker\": {\"color\": \"#00cc96\", \"size\": [2], \"sizemode\": \"area\", \"sizeref\": 0.45}, \"name\": \"Leipzig\", \"showlegend\": true, \"type\": \"scattergeo\"}, {\"geo\": \"geo\", \"hovertemplate\": \"<b>%{hovertext}</b><br><br>city_name=Freiburg<br>year_participation=2002<br>cumsum=%{marker.size}<br>lat=%{lat}<br>lon=%{lon}<extra></extra>\", \"hovertext\": [\"Freiburg\"], \"lat\": [47.9960901], \"legendgroup\": \"Freiburg\", \"lon\": [7.849400500000001], \"marker\": {\"color\": \"#FECB52\", \"size\": [4], \"sizemode\": \"area\", \"sizeref\": 0.45}, \"name\": \"Freiburg\", \"showlegend\": true, \"type\": \"scattergeo\"}, {\"geo\": \"geo\", \"hovertemplate\": \"<b>%{hovertext}</b><br><br>city_name=Hall (Tirol)<br>year_participation=2002<br>cumsum=%{marker.size}<br>lat=%{lat}<br>lon=%{lon}<extra></extra>\", \"hovertext\": [\"Hall (Tirol)\"], \"lat\": [47.223193], \"legendgroup\": \"Hall (Tirol)\", \"lon\": [11.5261028], \"marker\": {\"color\": \"#FFA15A\", \"size\": [1], \"sizemode\": \"area\", \"sizeref\": 0.45}, \"name\": \"Hall (Tirol)\", \"showlegend\": true, \"type\": \"scattergeo\"}, {\"geo\": \"geo\", \"hovertemplate\": \"<b>%{hovertext}</b><br><br>city_name=Pratteln<br>year_participation=2002<br>cumsum=%{marker.size}<br>lat=%{lat}<br>lon=%{lon}<extra></extra>\", \"hovertext\": [\"Pratteln\"], \"lat\": [47.5192013], \"legendgroup\": \"Pratteln\", \"lon\": [7.6944741], \"marker\": {\"color\": \"#19d3f3\", \"size\": [1], \"sizemode\": \"area\", \"sizeref\": 0.45}, \"name\": \"Pratteln\", \"showlegend\": true, \"type\": \"scattergeo\"}, {\"geo\": \"geo\", \"hovertemplate\": \"<b>%{hovertext}</b><br><br>city_name=Dassendorf<br>year_participation=2002<br>cumsum=%{marker.size}<br>lat=%{lat}<br>lon=%{lon}<extra></extra>\", \"hovertext\": [\"Dassendorf\"], \"lat\": [53.490068900000004], \"legendgroup\": \"Dassendorf\", \"lon\": [10.3749868], \"marker\": {\"color\": \"#FF6692\", \"size\": [1], \"sizemode\": \"area\", \"sizeref\": 0.45}, \"name\": \"Dassendorf\", \"showlegend\": true, \"type\": \"scattergeo\"}, {\"geo\": \"geo\", \"hovertemplate\": \"<b>%{hovertext}</b><br><br>city_name=Ingelheim<br>year_participation=2002<br>cumsum=%{marker.size}<br>lat=%{lat}<br>lon=%{lon}<extra></extra>\", \"hovertext\": [\"Ingelheim\"], \"lat\": [49.97601289999999], \"legendgroup\": \"Ingelheim\", \"lon\": [8.053212799999999], \"marker\": {\"color\": \"#B6E880\", \"size\": [1], \"sizemode\": \"area\", \"sizeref\": 0.45}, \"name\": \"Ingelheim\", \"showlegend\": true, \"type\": \"scattergeo\"}], \"name\": \"2002\"}, {\"data\": [{\"geo\": \"geo\", \"hovertemplate\": \"<b>%{hovertext}</b><br><br>city_name=Wien<br>year_participation=2003<br>cumsum=%{marker.size}<br>lat=%{lat}<br>lon=%{lon}<extra></extra>\", \"hovertext\": [\"Wien\"], \"lat\": [48.2083537], \"legendgroup\": \"Wien\", \"lon\": [16.372504199999998], \"marker\": {\"color\": \"#00cc96\", \"size\": [53], \"sizemode\": \"area\", \"sizeref\": 0.45}, \"name\": \"Wien\", \"showlegend\": true, \"type\": \"scattergeo\"}, {\"geo\": \"geo\", \"hovertemplate\": \"<b>%{hovertext}</b><br><br>city_name=M\\u00fcnchen<br>year_participation=2003<br>cumsum=%{marker.size}<br>lat=%{lat}<br>lon=%{lon}<extra></extra>\", \"hovertext\": [\"M\\u00fcnchen\"], \"lat\": [48.1371079], \"legendgroup\": \"M\\u00fcnchen\", \"lon\": [11.575382199999998], \"marker\": {\"color\": \"#B6E880\", \"size\": [43], \"sizemode\": \"area\", \"sizeref\": 0.45}, \"name\": \"M\\u00fcnchen\", \"showlegend\": true, \"type\": \"scattergeo\"}, {\"geo\": \"geo\", \"hovertemplate\": \"<b>%{hovertext}</b><br><br>city_name=Hamburg<br>year_participation=2003<br>cumsum=%{marker.size}<br>lat=%{lat}<br>lon=%{lon}<extra></extra>\", \"hovertext\": [\"Hamburg\"], \"lat\": [53.543764100000004], \"legendgroup\": \"Hamburg\", \"lon\": [10.009913300000001], \"marker\": {\"color\": \"#FF97FF\", \"size\": [26], \"sizemode\": \"area\", \"sizeref\": 0.45}, \"name\": \"Hamburg\", \"showlegend\": true, \"type\": \"scattergeo\"}, {\"geo\": \"geo\", \"hovertemplate\": \"<b>%{hovertext}</b><br><br>city_name=Z\\u00fcrich<br>year_participation=2003<br>cumsum=%{marker.size}<br>lat=%{lat}<br>lon=%{lon}<extra></extra>\", \"hovertext\": [\"Z\\u00fcrich\"], \"lat\": [47.3723941], \"legendgroup\": \"Z\\u00fcrich\", \"lon\": [8.5423328], \"marker\": {\"color\": \"#FECB52\", \"size\": [29], \"sizemode\": \"area\", \"sizeref\": 0.45}, \"name\": \"Z\\u00fcrich\", \"showlegend\": true, \"type\": \"scattergeo\"}, {\"geo\": \"geo\", \"hovertemplate\": \"<b>%{hovertext}</b><br><br>city_name=Berlin<br>year_participation=2003<br>cumsum=%{marker.size}<br>lat=%{lat}<br>lon=%{lon}<extra></extra>\", \"hovertext\": [\"Berlin\"], \"lat\": [52.517036499999996], \"legendgroup\": \"Berlin\", \"lon\": [13.388859900000002], \"marker\": {\"color\": \"#EF553B\", \"size\": [111], \"sizemode\": \"area\", \"sizeref\": 0.45}, \"name\": \"Berlin\", \"showlegend\": true, \"type\": \"scattergeo\"}, {\"geo\": \"geo\", \"hovertemplate\": \"<b>%{hovertext}</b><br><br>city_name=Frankfurt/Main<br>year_participation=2003<br>cumsum=%{marker.size}<br>lat=%{lat}<br>lon=%{lon}<extra></extra>\", \"hovertext\": [\"Frankfurt/Main\"], \"lat\": [50.053763700000005], \"legendgroup\": \"Frankfurt/Main\", \"lon\": [8.637085800000001], \"marker\": {\"color\": \"#ab63fa\", \"size\": [26], \"sizemode\": \"area\", \"sizeref\": 0.45}, \"name\": \"Frankfurt/Main\", \"showlegend\": true, \"type\": \"scattergeo\"}, {\"geo\": \"geo\", \"hovertemplate\": \"<b>%{hovertext}</b><br><br>city_name=Graz<br>year_participation=2003<br>cumsum=%{marker.size}<br>lat=%{lat}<br>lon=%{lon}<extra></extra>\", \"hovertext\": [\"Graz\"], \"lat\": [47.070867799999995], \"legendgroup\": \"Graz\", \"lon\": [15.438278599999999], \"marker\": {\"color\": \"#00cc96\", \"size\": [10], \"sizemode\": \"area\", \"sizeref\": 0.45}, \"name\": \"Graz\", \"showlegend\": true, \"type\": \"scattergeo\"}, {\"geo\": \"geo\", \"hovertemplate\": \"<b>%{hovertext}</b><br><br>city_name=K\\u00f6ln<br>year_participation=2003<br>cumsum=%{marker.size}<br>lat=%{lat}<br>lon=%{lon}<extra></extra>\", \"hovertext\": [\"K\\u00f6ln\"], \"lat\": [50.938361], \"legendgroup\": \"K\\u00f6ln\", \"lon\": [6.959974000000001], \"marker\": {\"color\": \"#00cc96\", \"size\": [8], \"sizemode\": \"area\", \"sizeref\": 0.45}, \"name\": \"K\\u00f6ln\", \"showlegend\": true, \"type\": \"scattergeo\"}, {\"geo\": \"geo\", \"hovertemplate\": \"<b>%{hovertext}</b><br><br>city_name=Kiel<br>year_participation=2003<br>cumsum=%{marker.size}<br>lat=%{lat}<br>lon=%{lon}<extra></extra>\", \"hovertext\": [\"Kiel\"], \"lat\": [54.3227085], \"legendgroup\": \"Kiel\", \"lon\": [10.135555], \"marker\": {\"color\": \"#FF97FF\", \"size\": [2], \"sizemode\": \"area\", \"sizeref\": 0.45}, \"name\": \"Kiel\", \"showlegend\": true, \"type\": \"scattergeo\"}, {\"geo\": \"geo\", \"hovertemplate\": \"<b>%{hovertext}</b><br><br>city_name=Leipzig<br>year_participation=2003<br>cumsum=%{marker.size}<br>lat=%{lat}<br>lon=%{lon}<extra></extra>\", \"hovertext\": [\"Leipzig\"], \"lat\": [51.3406321], \"legendgroup\": \"Leipzig\", \"lon\": [12.3747329], \"marker\": {\"color\": \"#00cc96\", \"size\": [3], \"sizemode\": \"area\", \"sizeref\": 0.45}, \"name\": \"Leipzig\", \"showlegend\": true, \"type\": \"scattergeo\"}, {\"geo\": \"geo\", \"hovertemplate\": \"<b>%{hovertext}</b><br><br>city_name=Dollart<br>year_participation=2003<br>cumsum=%{marker.size}<br>lat=%{lat}<br>lon=%{lon}<extra></extra>\", \"hovertext\": [\"Dollart\"], \"lat\": [53.28355], \"legendgroup\": \"Dollart\", \"lon\": [7.16088909497908], \"marker\": {\"color\": \"#ab63fa\", \"size\": [2], \"sizemode\": \"area\", \"sizeref\": 0.45}, \"name\": \"Dollart\", \"showlegend\": true, \"type\": \"scattergeo\"}, {\"geo\": \"geo\", \"hovertemplate\": \"<b>%{hovertext}</b><br><br>city_name=Wuppertal<br>year_participation=2003<br>cumsum=%{marker.size}<br>lat=%{lat}<br>lon=%{lon}<extra></extra>\", \"hovertext\": [\"Wuppertal\"], \"lat\": [51.264018], \"legendgroup\": \"Wuppertal\", \"lon\": [7.178037400000001], \"marker\": {\"color\": \"#FFA15A\", \"size\": [2], \"sizemode\": \"area\", \"sizeref\": 0.45}, \"name\": \"Wuppertal\", \"showlegend\": true, \"type\": \"scattergeo\"}, {\"geo\": \"geo\", \"hovertemplate\": \"<b>%{hovertext}</b><br><br>city_name=Columbus (USA)<br>year_participation=2003<br>cumsum=%{marker.size}<br>lat=%{lat}<br>lon=%{lon}<extra></extra>\", \"hovertext\": [\"Columbus (USA)\"], \"lat\": [39.9622601], \"legendgroup\": \"Columbus (USA)\", \"lon\": [-83.00070649999999], \"marker\": {\"color\": \"#FF97FF\", \"size\": [1], \"sizemode\": \"area\", \"sizeref\": 0.45}, \"name\": \"Columbus (USA)\", \"showlegend\": true, \"type\": \"scattergeo\"}, {\"geo\": \"geo\", \"hovertemplate\": \"<b>%{hovertext}</b><br><br>city_name=Biel/Bienne<br>year_participation=2003<br>cumsum=%{marker.size}<br>lat=%{lat}<br>lon=%{lon}<extra></extra>\", \"hovertext\": [\"Biel/Bienne\"], \"lat\": [47.140207700000005], \"legendgroup\": \"Biel/Bienne\", \"lon\": [7.243902900000001], \"marker\": {\"color\": \"#FECB52\", \"size\": [1], \"sizemode\": \"area\", \"sizeref\": 0.45}, \"name\": \"Biel/Bienne\", \"showlegend\": true, \"type\": \"scattergeo\"}, {\"geo\": \"geo\", \"hovertemplate\": \"<b>%{hovertext}</b><br><br>city_name=Hombroich<br>year_participation=2003<br>cumsum=%{marker.size}<br>lat=%{lat}<br>lon=%{lon}<extra></extra>\", \"hovertext\": [\"Hombroich\"], \"lat\": [51.1413508], \"legendgroup\": \"Hombroich\", \"lon\": [6.6553402785876425], \"marker\": {\"color\": \"#636efa\", \"size\": [1], \"sizemode\": \"area\", \"sizeref\": 0.45}, \"name\": \"Hombroich\", \"showlegend\": true, \"type\": \"scattergeo\"}, {\"geo\": \"geo\", \"hovertemplate\": \"<b>%{hovertext}</b><br><br>city_name=Frauenfeld<br>year_participation=2003<br>cumsum=%{marker.size}<br>lat=%{lat}<br>lon=%{lon}<extra></extra>\", \"hovertext\": [\"Frauenfeld\"], \"lat\": [47.5561915], \"legendgroup\": \"Frauenfeld\", \"lon\": [8.896334699999999], \"marker\": {\"color\": \"#EF553B\", \"size\": [1], \"sizemode\": \"area\", \"sizeref\": 0.45}, \"name\": \"Frauenfeld\", \"showlegend\": true, \"type\": \"scattergeo\"}, {\"geo\": \"geo\", \"hovertemplate\": \"<b>%{hovertext}</b><br><br>city_name=Handorf<br>year_participation=2003<br>cumsum=%{marker.size}<br>lat=%{lat}<br>lon=%{lon}<extra></extra>\", \"hovertext\": [\"Handorf\"], \"lat\": [53.3410313], \"legendgroup\": \"Handorf\", \"lon\": [10.348257], \"marker\": {\"color\": \"#00cc96\", \"size\": [1], \"sizemode\": \"area\", \"sizeref\": 0.45}, \"name\": \"Handorf\", \"showlegend\": true, \"type\": \"scattergeo\"}, {\"geo\": \"geo\", \"hovertemplate\": \"<b>%{hovertext}</b><br><br>city_name=Hohne<br>year_participation=2003<br>cumsum=%{marker.size}<br>lat=%{lat}<br>lon=%{lon}<extra></extra>\", \"hovertext\": [\"Hohne\"], \"lat\": [52.5879853], \"legendgroup\": \"Hohne\", \"lon\": [10.374822], \"marker\": {\"color\": \"#ab63fa\", \"size\": [1], \"sizemode\": \"area\", \"sizeref\": 0.45}, \"name\": \"Hohne\", \"showlegend\": true, \"type\": \"scattergeo\"}], \"name\": \"2003\"}, {\"data\": [{\"geo\": \"geo\", \"hovertemplate\": \"<b>%{hovertext}</b><br><br>city_name=Wien<br>year_participation=2004<br>cumsum=%{marker.size}<br>lat=%{lat}<br>lon=%{lon}<extra></extra>\", \"hovertext\": [\"Wien\"], \"lat\": [48.2083537], \"legendgroup\": \"Wien\", \"lon\": [16.372504199999998], \"marker\": {\"color\": \"#00cc96\", \"size\": [56], \"sizemode\": \"area\", \"sizeref\": 0.45}, \"name\": \"Wien\", \"showlegend\": true, \"type\": \"scattergeo\"}, {\"geo\": \"geo\", \"hovertemplate\": \"<b>%{hovertext}</b><br><br>city_name=M\\u00fcnchen<br>year_participation=2004<br>cumsum=%{marker.size}<br>lat=%{lat}<br>lon=%{lon}<extra></extra>\", \"hovertext\": [\"M\\u00fcnchen\"], \"lat\": [48.1371079], \"legendgroup\": \"M\\u00fcnchen\", \"lon\": [11.575382199999998], \"marker\": {\"color\": \"#B6E880\", \"size\": [44], \"sizemode\": \"area\", \"sizeref\": 0.45}, \"name\": \"M\\u00fcnchen\", \"showlegend\": true, \"type\": \"scattergeo\"}, {\"geo\": \"geo\", \"hovertemplate\": \"<b>%{hovertext}</b><br><br>city_name=Hamburg<br>year_participation=2004<br>cumsum=%{marker.size}<br>lat=%{lat}<br>lon=%{lon}<extra></extra>\", \"hovertext\": [\"Hamburg\"], \"lat\": [53.543764100000004], \"legendgroup\": \"Hamburg\", \"lon\": [10.009913300000001], \"marker\": {\"color\": \"#FF97FF\", \"size\": [28], \"sizemode\": \"area\", \"sizeref\": 0.45}, \"name\": \"Hamburg\", \"showlegend\": true, \"type\": \"scattergeo\"}, {\"geo\": \"geo\", \"hovertemplate\": \"<b>%{hovertext}</b><br><br>city_name=Z\\u00fcrich<br>year_participation=2004<br>cumsum=%{marker.size}<br>lat=%{lat}<br>lon=%{lon}<extra></extra>\", \"hovertext\": [\"Z\\u00fcrich\"], \"lat\": [47.3723941], \"legendgroup\": \"Z\\u00fcrich\", \"lon\": [8.5423328], \"marker\": {\"color\": \"#FECB52\", \"size\": [30], \"sizemode\": \"area\", \"sizeref\": 0.45}, \"name\": \"Z\\u00fcrich\", \"showlegend\": true, \"type\": \"scattergeo\"}, {\"geo\": \"geo\", \"hovertemplate\": \"<b>%{hovertext}</b><br><br>city_name=Berlin<br>year_participation=2004<br>cumsum=%{marker.size}<br>lat=%{lat}<br>lon=%{lon}<extra></extra>\", \"hovertext\": [\"Berlin\"], \"lat\": [52.517036499999996], \"legendgroup\": \"Berlin\", \"lon\": [13.388859900000002], \"marker\": {\"color\": \"#EF553B\", \"size\": [114], \"sizemode\": \"area\", \"sizeref\": 0.45}, \"name\": \"Berlin\", \"showlegend\": true, \"type\": \"scattergeo\"}, {\"geo\": \"geo\", \"hovertemplate\": \"<b>%{hovertext}</b><br><br>city_name=T\\u00fcbingen<br>year_participation=2004<br>cumsum=%{marker.size}<br>lat=%{lat}<br>lon=%{lon}<extra></extra>\", \"hovertext\": [\"T\\u00fcbingen\"], \"lat\": [48.5236164], \"legendgroup\": \"T\\u00fcbingen\", \"lon\": [9.0535531], \"marker\": {\"color\": \"#00cc96\", \"size\": [3], \"sizemode\": \"area\", \"sizeref\": 0.45}, \"name\": \"T\\u00fcbingen\", \"showlegend\": true, \"type\": \"scattergeo\"}, {\"geo\": \"geo\", \"hovertemplate\": \"<b>%{hovertext}</b><br><br>city_name=K\\u00f6ln<br>year_participation=2004<br>cumsum=%{marker.size}<br>lat=%{lat}<br>lon=%{lon}<extra></extra>\", \"hovertext\": [\"K\\u00f6ln\"], \"lat\": [50.938361], \"legendgroup\": \"K\\u00f6ln\", \"lon\": [6.959974000000001], \"marker\": {\"color\": \"#00cc96\", \"size\": [11], \"sizemode\": \"area\", \"sizeref\": 0.45}, \"name\": \"K\\u00f6ln\", \"showlegend\": true, \"type\": \"scattergeo\"}, {\"geo\": \"geo\", \"hovertemplate\": \"<b>%{hovertext}</b><br><br>city_name=Stuttgart<br>year_participation=2004<br>cumsum=%{marker.size}<br>lat=%{lat}<br>lon=%{lon}<extra></extra>\", \"hovertext\": [\"Stuttgart\"], \"lat\": [48.778448499999996], \"legendgroup\": \"Stuttgart\", \"lon\": [9.1800132], \"marker\": {\"color\": \"#FF97FF\", \"size\": [6], \"sizemode\": \"area\", \"sizeref\": 0.45}, \"name\": \"Stuttgart\", \"showlegend\": true, \"type\": \"scattergeo\"}, {\"geo\": \"geo\", \"hovertemplate\": \"<b>%{hovertext}</b><br><br>city_name=Leipzig<br>year_participation=2004<br>cumsum=%{marker.size}<br>lat=%{lat}<br>lon=%{lon}<extra></extra>\", \"hovertext\": [\"Leipzig\"], \"lat\": [51.3406321], \"legendgroup\": \"Leipzig\", \"lon\": [12.3747329], \"marker\": {\"color\": \"#00cc96\", \"size\": [4], \"sizemode\": \"area\", \"sizeref\": 0.45}, \"name\": \"Leipzig\", \"showlegend\": true, \"type\": \"scattergeo\"}, {\"geo\": \"geo\", \"hovertemplate\": \"<b>%{hovertext}</b><br><br>city_name=Wolfurt<br>year_participation=2004<br>cumsum=%{marker.size}<br>lat=%{lat}<br>lon=%{lon}<extra></extra>\", \"hovertext\": [\"Wolfurt\"], \"lat\": [47.4646422], \"legendgroup\": \"Wolfurt\", \"lon\": [9.745964294639679], \"marker\": {\"color\": \"#ab63fa\", \"size\": [2], \"sizemode\": \"area\", \"sizeref\": 0.45}, \"name\": \"Wolfurt\", \"showlegend\": true, \"type\": \"scattergeo\"}, {\"geo\": \"geo\", \"hovertemplate\": \"<b>%{hovertext}</b><br><br>city_name=Verden/Aller<br>year_participation=2004<br>cumsum=%{marker.size}<br>lat=%{lat}<br>lon=%{lon}<extra></extra>\", \"hovertext\": [\"Verden/Aller\"], \"lat\": [52.94106755], \"legendgroup\": \"Verden/Aller\", \"lon\": [9.235471627440539], \"marker\": {\"color\": \"#EF553B\", \"size\": [2], \"sizemode\": \"area\", \"sizeref\": 0.45}, \"name\": \"Verden/Aller\", \"showlegend\": true, \"type\": \"scattergeo\"}, {\"geo\": \"geo\", \"hovertemplate\": \"<b>%{hovertext}</b><br><br>city_name=Schlangen<br>year_participation=2004<br>cumsum=%{marker.size}<br>lat=%{lat}<br>lon=%{lon}<extra></extra>\", \"hovertext\": [\"Schlangen\"], \"lat\": [51.814683], \"legendgroup\": \"Schlangen\", \"lon\": [8.845003957001602], \"marker\": {\"color\": \"#FFA15A\", \"size\": [1], \"sizemode\": \"area\", \"sizeref\": 0.45}, \"name\": \"Schlangen\", \"showlegend\": true, \"type\": \"scattergeo\"}, {\"geo\": \"geo\", \"hovertemplate\": \"<b>%{hovertext}</b><br><br>city_name=Schweiz<br>year_participation=2004<br>cumsum=%{marker.size}<br>lat=%{lat}<br>lon=%{lon}<extra></extra>\", \"hovertext\": [\"Schweiz\"], \"lat\": [46.7985624], \"legendgroup\": \"Schweiz\", \"lon\": [8.231973599999998], \"marker\": {\"color\": \"#19d3f3\", \"size\": [1], \"sizemode\": \"area\", \"sizeref\": 0.45}, \"name\": \"Schweiz\", \"showlegend\": true, \"type\": \"scattergeo\"}], \"name\": \"2004\"}, {\"data\": [{\"geo\": \"geo\", \"hovertemplate\": \"<b>%{hovertext}</b><br><br>city_name=Wien<br>year_participation=2005<br>cumsum=%{marker.size}<br>lat=%{lat}<br>lon=%{lon}<extra></extra>\", \"hovertext\": [\"Wien\"], \"lat\": [48.2083537], \"legendgroup\": \"Wien\", \"lon\": [16.372504199999998], \"marker\": {\"color\": \"#00cc96\", \"size\": [57], \"sizemode\": \"area\", \"sizeref\": 0.45}, \"name\": \"Wien\", \"showlegend\": true, \"type\": \"scattergeo\"}, {\"geo\": \"geo\", \"hovertemplate\": \"<b>%{hovertext}</b><br><br>city_name=M\\u00fcnchen<br>year_participation=2005<br>cumsum=%{marker.size}<br>lat=%{lat}<br>lon=%{lon}<extra></extra>\", \"hovertext\": [\"M\\u00fcnchen\"], \"lat\": [48.1371079], \"legendgroup\": \"M\\u00fcnchen\", \"lon\": [11.575382199999998], \"marker\": {\"color\": \"#B6E880\", \"size\": [47], \"sizemode\": \"area\", \"sizeref\": 0.45}, \"name\": \"M\\u00fcnchen\", \"showlegend\": true, \"type\": \"scattergeo\"}, {\"geo\": \"geo\", \"hovertemplate\": \"<b>%{hovertext}</b><br><br>city_name=Berlin<br>year_participation=2005<br>cumsum=%{marker.size}<br>lat=%{lat}<br>lon=%{lon}<extra></extra>\", \"hovertext\": [\"Berlin\"], \"lat\": [52.517036499999996], \"legendgroup\": \"Berlin\", \"lon\": [13.388859900000002], \"marker\": {\"color\": \"#EF553B\", \"size\": [118], \"sizemode\": \"area\", \"sizeref\": 0.45}, \"name\": \"Berlin\", \"showlegend\": true, \"type\": \"scattergeo\"}, {\"geo\": \"geo\", \"hovertemplate\": \"<b>%{hovertext}</b><br><br>city_name=Bern<br>year_participation=2005<br>cumsum=%{marker.size}<br>lat=%{lat}<br>lon=%{lon}<extra></extra>\", \"hovertext\": [\"Bern\"], \"lat\": [46.9482713], \"legendgroup\": \"Bern\", \"lon\": [7.4514512], \"marker\": {\"color\": \"#FF6692\", \"size\": [12], \"sizemode\": \"area\", \"sizeref\": 0.45}, \"name\": \"Bern\", \"showlegend\": true, \"type\": \"scattergeo\"}, {\"geo\": \"geo\", \"hovertemplate\": \"<b>%{hovertext}</b><br><br>city_name=Graz<br>year_participation=2005<br>cumsum=%{marker.size}<br>lat=%{lat}<br>lon=%{lon}<extra></extra>\", \"hovertext\": [\"Graz\"], \"lat\": [47.070867799999995], \"legendgroup\": \"Graz\", \"lon\": [15.438278599999999], \"marker\": {\"color\": \"#00cc96\", \"size\": [11], \"sizemode\": \"area\", \"sizeref\": 0.45}, \"name\": \"Graz\", \"showlegend\": true, \"type\": \"scattergeo\"}, {\"geo\": \"geo\", \"hovertemplate\": \"<b>%{hovertext}</b><br><br>city_name=Paris<br>year_participation=2005<br>cumsum=%{marker.size}<br>lat=%{lat}<br>lon=%{lon}<extra></extra>\", \"hovertext\": [\"Paris\"], \"lat\": [48.856696899999996], \"legendgroup\": \"Paris\", \"lon\": [2.3514616000000004], \"marker\": {\"color\": \"#00cc96\", \"size\": [5], \"sizemode\": \"area\", \"sizeref\": 0.45}, \"name\": \"Paris\", \"showlegend\": true, \"type\": \"scattergeo\"}, {\"geo\": \"geo\", \"hovertemplate\": \"<b>%{hovertext}</b><br><br>city_name=K\\u00f6ln<br>year_participation=2005<br>cumsum=%{marker.size}<br>lat=%{lat}<br>lon=%{lon}<extra></extra>\", \"hovertext\": [\"K\\u00f6ln\"], \"lat\": [50.938361], \"legendgroup\": \"K\\u00f6ln\", \"lon\": [6.959974000000001], \"marker\": {\"color\": \"#00cc96\", \"size\": [12], \"sizemode\": \"area\", \"sizeref\": 0.45}, \"name\": \"K\\u00f6ln\", \"showlegend\": true, \"type\": \"scattergeo\"}, {\"geo\": \"geo\", \"hovertemplate\": \"<b>%{hovertext}</b><br><br>city_name=Potsdam<br>year_participation=2005<br>cumsum=%{marker.size}<br>lat=%{lat}<br>lon=%{lon}<extra></extra>\", \"hovertext\": [\"Potsdam\"], \"lat\": [52.4009309], \"legendgroup\": \"Potsdam\", \"lon\": [13.0591397], \"marker\": {\"color\": \"#ab63fa\", \"size\": [3], \"sizemode\": \"area\", \"sizeref\": 0.45}, \"name\": \"Potsdam\", \"showlegend\": true, \"type\": \"scattergeo\"}, {\"geo\": \"geo\", \"hovertemplate\": \"<b>%{hovertext}</b><br><br>city_name=Strasbourg<br>year_participation=2005<br>cumsum=%{marker.size}<br>lat=%{lat}<br>lon=%{lon}<extra></extra>\", \"hovertext\": [\"Strasbourg\"], \"lat\": [48.584614], \"legendgroup\": \"Strasbourg\", \"lon\": [7.750712700000001], \"marker\": {\"color\": \"#19d3f3\", \"size\": [2], \"sizemode\": \"area\", \"sizeref\": 0.45}, \"name\": \"Strasbourg\", \"showlegend\": true, \"type\": \"scattergeo\"}, {\"geo\": \"geo\", \"hovertemplate\": \"<b>%{hovertext}</b><br><br>city_name=Leipzig<br>year_participation=2005<br>cumsum=%{marker.size}<br>lat=%{lat}<br>lon=%{lon}<extra></extra>\", \"hovertext\": [\"Leipzig\"], \"lat\": [51.3406321], \"legendgroup\": \"Leipzig\", \"lon\": [12.3747329], \"marker\": {\"color\": \"#00cc96\", \"size\": [6], \"sizemode\": \"area\", \"sizeref\": 0.45}, \"name\": \"Leipzig\", \"showlegend\": true, \"type\": \"scattergeo\"}, {\"geo\": \"geo\", \"hovertemplate\": \"<b>%{hovertext}</b><br><br>city_name=Langenthal<br>year_participation=2005<br>cumsum=%{marker.size}<br>lat=%{lat}<br>lon=%{lon}<extra></extra>\", \"hovertext\": [\"Langenthal\"], \"lat\": [49.8309059], \"legendgroup\": \"Langenthal\", \"lon\": [7.5737063], \"marker\": {\"color\": \"#00cc96\", \"size\": [2], \"sizemode\": \"area\", \"sizeref\": 0.45}, \"name\": \"Langenthal\", \"showlegend\": true, \"type\": \"scattergeo\"}, {\"geo\": \"geo\", \"hovertemplate\": \"<b>%{hovertext}</b><br><br>city_name=M\\u00f6nchengladbach<br>year_participation=2005<br>cumsum=%{marker.size}<br>lat=%{lat}<br>lon=%{lon}<extra></extra>\", \"hovertext\": [\"M\\u00f6nchengladbach\"], \"lat\": [51.19469829999999], \"legendgroup\": \"M\\u00f6nchengladbach\", \"lon\": [6.435364099999999], \"marker\": {\"color\": \"#FF6692\", \"size\": [1], \"sizemode\": \"area\", \"sizeref\": 0.45}, \"name\": \"M\\u00f6nchengladbach\", \"showlegend\": true, \"type\": \"scattergeo\"}, {\"geo\": \"geo\", \"hovertemplate\": \"<b>%{hovertext}</b><br><br>city_name=in Deutschland<br>year_participation=2005<br>cumsum=%{marker.size}<br>lat=%{lat}<br>lon=%{lon}<extra></extra>\", \"hovertext\": [\"in Deutschland\"], \"lat\": [51.25448945], \"legendgroup\": \"in Deutschland\", \"lon\": [7.148872672670599], \"marker\": {\"color\": \"#B6E880\", \"size\": [1], \"sizemode\": \"area\", \"sizeref\": 0.45}, \"name\": \"in Deutschland\", \"showlegend\": true, \"type\": \"scattergeo\"}], \"name\": \"2005\"}, {\"data\": [{\"geo\": \"geo\", \"hovertemplate\": \"<b>%{hovertext}</b><br><br>city_name=Wien<br>year_participation=2006<br>cumsum=%{marker.size}<br>lat=%{lat}<br>lon=%{lon}<extra></extra>\", \"hovertext\": [\"Wien\"], \"lat\": [48.2083537], \"legendgroup\": \"Wien\", \"lon\": [16.372504199999998], \"marker\": {\"color\": \"#00cc96\", \"size\": [60], \"sizemode\": \"area\", \"sizeref\": 0.45}, \"name\": \"Wien\", \"showlegend\": true, \"type\": \"scattergeo\"}, {\"geo\": \"geo\", \"hovertemplate\": \"<b>%{hovertext}</b><br><br>city_name=M\\u00fcnchen<br>year_participation=2006<br>cumsum=%{marker.size}<br>lat=%{lat}<br>lon=%{lon}<extra></extra>\", \"hovertext\": [\"M\\u00fcnchen\"], \"lat\": [48.1371079], \"legendgroup\": \"M\\u00fcnchen\", \"lon\": [11.575382199999998], \"marker\": {\"color\": \"#B6E880\", \"size\": [48], \"sizemode\": \"area\", \"sizeref\": 0.45}, \"name\": \"M\\u00fcnchen\", \"showlegend\": true, \"type\": \"scattergeo\"}, {\"geo\": \"geo\", \"hovertemplate\": \"<b>%{hovertext}</b><br><br>city_name=Hamburg<br>year_participation=2006<br>cumsum=%{marker.size}<br>lat=%{lat}<br>lon=%{lon}<extra></extra>\", \"hovertext\": [\"Hamburg\"], \"lat\": [53.543764100000004], \"legendgroup\": \"Hamburg\", \"lon\": [10.009913300000001], \"marker\": {\"color\": \"#FF97FF\", \"size\": [29], \"sizemode\": \"area\", \"sizeref\": 0.45}, \"name\": \"Hamburg\", \"showlegend\": true, \"type\": \"scattergeo\"}, {\"geo\": \"geo\", \"hovertemplate\": \"<b>%{hovertext}</b><br><br>city_name=Z\\u00fcrich<br>year_participation=2006<br>cumsum=%{marker.size}<br>lat=%{lat}<br>lon=%{lon}<extra></extra>\", \"hovertext\": [\"Z\\u00fcrich\"], \"lat\": [47.3723941], \"legendgroup\": \"Z\\u00fcrich\", \"lon\": [8.5423328], \"marker\": {\"color\": \"#FECB52\", \"size\": [31], \"sizemode\": \"area\", \"sizeref\": 0.45}, \"name\": \"Z\\u00fcrich\", \"showlegend\": true, \"type\": \"scattergeo\"}, {\"geo\": \"geo\", \"hovertemplate\": \"<b>%{hovertext}</b><br><br>city_name=Berlin<br>year_participation=2006<br>cumsum=%{marker.size}<br>lat=%{lat}<br>lon=%{lon}<extra></extra>\", \"hovertext\": [\"Berlin\"], \"lat\": [52.517036499999996], \"legendgroup\": \"Berlin\", \"lon\": [13.388859900000002], \"marker\": {\"color\": \"#EF553B\", \"size\": [124], \"sizemode\": \"area\", \"sizeref\": 0.45}, \"name\": \"Berlin\", \"showlegend\": true, \"type\": \"scattergeo\"}, {\"geo\": \"geo\", \"hovertemplate\": \"<b>%{hovertext}</b><br><br>city_name=T\\u00fcbingen<br>year_participation=2006<br>cumsum=%{marker.size}<br>lat=%{lat}<br>lon=%{lon}<extra></extra>\", \"hovertext\": [\"T\\u00fcbingen\"], \"lat\": [48.5236164], \"legendgroup\": \"T\\u00fcbingen\", \"lon\": [9.0535531], \"marker\": {\"color\": \"#00cc96\", \"size\": [4], \"sizemode\": \"area\", \"sizeref\": 0.45}, \"name\": \"T\\u00fcbingen\", \"showlegend\": true, \"type\": \"scattergeo\"}, {\"geo\": \"geo\", \"hovertemplate\": \"<b>%{hovertext}</b><br><br>city_name=Leipzig<br>year_participation=2006<br>cumsum=%{marker.size}<br>lat=%{lat}<br>lon=%{lon}<extra></extra>\", \"hovertext\": [\"Leipzig\"], \"lat\": [51.3406321], \"legendgroup\": \"Leipzig\", \"lon\": [12.3747329], \"marker\": {\"color\": \"#00cc96\", \"size\": [8], \"sizemode\": \"area\", \"sizeref\": 0.45}, \"name\": \"Leipzig\", \"showlegend\": true, \"type\": \"scattergeo\"}, {\"geo\": \"geo\", \"hovertemplate\": \"<b>%{hovertext}</b><br><br>city_name=Freiburg<br>year_participation=2006<br>cumsum=%{marker.size}<br>lat=%{lat}<br>lon=%{lon}<extra></extra>\", \"hovertext\": [\"Freiburg\"], \"lat\": [47.9960901], \"legendgroup\": \"Freiburg\", \"lon\": [7.849400500000001], \"marker\": {\"color\": \"#FECB52\", \"size\": [5], \"sizemode\": \"area\", \"sizeref\": 0.45}, \"name\": \"Freiburg\", \"showlegend\": true, \"type\": \"scattergeo\"}, {\"geo\": \"geo\", \"hovertemplate\": \"<b>%{hovertext}</b><br><br>city_name=am Dachstein<br>year_participation=2006<br>cumsum=%{marker.size}<br>lat=%{lat}<br>lon=%{lon}<extra></extra>\", \"hovertext\": [\"am Dachstein\"], \"lat\": [48.560885600000006], \"legendgroup\": \"am Dachstein\", \"lon\": [7.531899799999999], \"marker\": {\"color\": \"#FF97FF\", \"size\": [1], \"sizemode\": \"area\", \"sizeref\": 0.45}, \"name\": \"am Dachstein\", \"showlegend\": true, \"type\": \"scattergeo\"}, {\"geo\": \"geo\", \"hovertemplate\": \"<b>%{hovertext}</b><br><br>city_name=Schwielowsee<br>year_participation=2006<br>cumsum=%{marker.size}<br>lat=%{lat}<br>lon=%{lon}<extra></extra>\", \"hovertext\": [\"Schwielowsee\"], \"lat\": [52.3389], \"legendgroup\": \"Schwielowsee\", \"lon\": [12.972200099999998], \"marker\": {\"color\": \"#FECB52\", \"size\": [1], \"sizemode\": \"area\", \"sizeref\": 0.45}, \"name\": \"Schwielowsee\", \"showlegend\": true, \"type\": \"scattergeo\"}, {\"geo\": \"geo\", \"hovertemplate\": \"<b>%{hovertext}</b><br><br>city_name=Saarbr\\u00fccken<br>year_participation=2006<br>cumsum=%{marker.size}<br>lat=%{lat}<br>lon=%{lon}<extra></extra>\", \"hovertext\": [\"Saarbr\\u00fccken\"], \"lat\": [49.234362], \"legendgroup\": \"Saarbr\\u00fccken\", \"lon\": [6.996378999999999], \"marker\": {\"color\": \"#636efa\", \"size\": [1], \"sizemode\": \"area\", \"sizeref\": 0.45}, \"name\": \"Saarbr\\u00fccken\", \"showlegend\": true, \"type\": \"scattergeo\"}, {\"geo\": \"geo\", \"hovertemplate\": \"<b>%{hovertext}</b><br><br>city_name=Kall/Keldenich<br>year_participation=2006<br>cumsum=%{marker.size}<br>lat=%{lat}<br>lon=%{lon}<extra></extra>\", \"hovertext\": [\"Kall/Keldenich\"], \"lat\": [50.537729399999996], \"legendgroup\": \"Kall/Keldenich\", \"lon\": [6.5863724], \"marker\": {\"color\": \"#EF553B\", \"size\": [1], \"sizemode\": \"area\", \"sizeref\": 0.45}, \"name\": \"Kall/Keldenich\", \"showlegend\": true, \"type\": \"scattergeo\"}], \"name\": \"2006\"}, {\"data\": [{\"geo\": \"geo\", \"hovertemplate\": \"<b>%{hovertext}</b><br><br>city_name=Wien<br>year_participation=2007<br>cumsum=%{marker.size}<br>lat=%{lat}<br>lon=%{lon}<extra></extra>\", \"hovertext\": [\"Wien\"], \"lat\": [48.2083537], \"legendgroup\": \"Wien\", \"lon\": [16.372504199999998], \"marker\": {\"color\": \"#00cc96\", \"size\": [62], \"sizemode\": \"area\", \"sizeref\": 0.45}, \"name\": \"Wien\", \"showlegend\": true, \"type\": \"scattergeo\"}, {\"geo\": \"geo\", \"hovertemplate\": \"<b>%{hovertext}</b><br><br>city_name=M\\u00fcnchen<br>year_participation=2007<br>cumsum=%{marker.size}<br>lat=%{lat}<br>lon=%{lon}<extra></extra>\", \"hovertext\": [\"M\\u00fcnchen\"], \"lat\": [48.1371079], \"legendgroup\": \"M\\u00fcnchen\", \"lon\": [11.575382199999998], \"marker\": {\"color\": \"#B6E880\", \"size\": [49], \"sizemode\": \"area\", \"sizeref\": 0.45}, \"name\": \"M\\u00fcnchen\", \"showlegend\": true, \"type\": \"scattergeo\"}, {\"geo\": \"geo\", \"hovertemplate\": \"<b>%{hovertext}</b><br><br>city_name=Berlin<br>year_participation=2007<br>cumsum=%{marker.size}<br>lat=%{lat}<br>lon=%{lon}<extra></extra>\", \"hovertext\": [\"Berlin\"], \"lat\": [52.517036499999996], \"legendgroup\": \"Berlin\", \"lon\": [13.388859900000002], \"marker\": {\"color\": \"#EF553B\", \"size\": [131], \"sizemode\": \"area\", \"sizeref\": 0.45}, \"name\": \"Berlin\", \"showlegend\": true, \"type\": \"scattergeo\"}, {\"geo\": \"geo\", \"hovertemplate\": \"<b>%{hovertext}</b><br><br>city_name=Frankfurt/Main<br>year_participation=2007<br>cumsum=%{marker.size}<br>lat=%{lat}<br>lon=%{lon}<extra></extra>\", \"hovertext\": [\"Frankfurt/Main\"], \"lat\": [50.053763700000005], \"legendgroup\": \"Frankfurt/Main\", \"lon\": [8.637085800000001], \"marker\": {\"color\": \"#ab63fa\", \"size\": [27], \"sizemode\": \"area\", \"sizeref\": 0.45}, \"name\": \"Frankfurt/Main\", \"showlegend\": true, \"type\": \"scattergeo\"}, {\"geo\": \"geo\", \"hovertemplate\": \"<b>%{hovertext}</b><br><br>city_name=Heidelberg<br>year_participation=2007<br>cumsum=%{marker.size}<br>lat=%{lat}<br>lon=%{lon}<extra></extra>\", \"hovertext\": [\"Heidelberg\"], \"lat\": [49.40935820000001], \"legendgroup\": \"Heidelberg\", \"lon\": [8.694724], \"marker\": {\"color\": \"#636efa\", \"size\": [3], \"sizemode\": \"area\", \"sizeref\": 0.45}, \"name\": \"Heidelberg\", \"showlegend\": true, \"type\": \"scattergeo\"}, {\"geo\": \"geo\", \"hovertemplate\": \"<b>%{hovertext}</b><br><br>city_name=T\\u00fcbingen<br>year_participation=2007<br>cumsum=%{marker.size}<br>lat=%{lat}<br>lon=%{lon}<extra></extra>\", \"hovertext\": [\"T\\u00fcbingen\"], \"lat\": [48.5236164], \"legendgroup\": \"T\\u00fcbingen\", \"lon\": [9.0535531], \"marker\": {\"color\": \"#00cc96\", \"size\": [5], \"sizemode\": \"area\", \"sizeref\": 0.45}, \"name\": \"T\\u00fcbingen\", \"showlegend\": true, \"type\": \"scattergeo\"}, {\"geo\": \"geo\", \"hovertemplate\": \"<b>%{hovertext}</b><br><br>city_name=K\\u00f6ln<br>year_participation=2007<br>cumsum=%{marker.size}<br>lat=%{lat}<br>lon=%{lon}<extra></extra>\", \"hovertext\": [\"K\\u00f6ln\"], \"lat\": [50.938361], \"legendgroup\": \"K\\u00f6ln\", \"lon\": [6.959974000000001], \"marker\": {\"color\": \"#00cc96\", \"size\": [13], \"sizemode\": \"area\", \"sizeref\": 0.45}, \"name\": \"K\\u00f6ln\", \"showlegend\": true, \"type\": \"scattergeo\"}, {\"geo\": \"geo\", \"hovertemplate\": \"<b>%{hovertext}</b><br><br>city_name=Uster<br>year_participation=2007<br>cumsum=%{marker.size}<br>lat=%{lat}<br>lon=%{lon}<extra></extra>\", \"hovertext\": [\"Uster\"], \"lat\": [47.3512065], \"legendgroup\": \"Uster\", \"lon\": [8.7179221], \"marker\": {\"color\": \"#00cc96\", \"size\": [1], \"sizemode\": \"area\", \"sizeref\": 0.45}, \"name\": \"Uster\", \"showlegend\": true, \"type\": \"scattergeo\"}, {\"geo\": \"geo\", \"hovertemplate\": \"<b>%{hovertext}</b><br><br>city_name=Barcelona<br>year_participation=2007<br>cumsum=%{marker.size}<br>lat=%{lat}<br>lon=%{lon}<extra></extra>\", \"hovertext\": [\"Barcelona\"], \"lat\": [41.3828939], \"legendgroup\": \"Barcelona\", \"lon\": [2.1774322], \"marker\": {\"color\": \"#ab63fa\", \"size\": [1], \"sizemode\": \"area\", \"sizeref\": 0.45}, \"name\": \"Barcelona\", \"showlegend\": true, \"type\": \"scattergeo\"}, {\"geo\": \"geo\", \"hovertemplate\": \"<b>%{hovertext}</b><br><br>city_name=Bologna<br>year_participation=2007<br>cumsum=%{marker.size}<br>lat=%{lat}<br>lon=%{lon}<extra></extra>\", \"hovertext\": [\"Bologna\"], \"lat\": [44.4936714], \"legendgroup\": \"Bologna\", \"lon\": [11.343034699999999], \"marker\": {\"color\": \"#FFA15A\", \"size\": [1], \"sizemode\": \"area\", \"sizeref\": 0.45}, \"name\": \"Bologna\", \"showlegend\": true, \"type\": \"scattergeo\"}], \"name\": \"2007\"}, {\"data\": [{\"geo\": \"geo\", \"hovertemplate\": \"<b>%{hovertext}</b><br><br>city_name=Wien<br>year_participation=2008<br>cumsum=%{marker.size}<br>lat=%{lat}<br>lon=%{lon}<extra></extra>\", \"hovertext\": [\"Wien\"], \"lat\": [48.2083537], \"legendgroup\": \"Wien\", \"lon\": [16.372504199999998], \"marker\": {\"color\": \"#00cc96\", \"size\": [63], \"sizemode\": \"area\", \"sizeref\": 0.45}, \"name\": \"Wien\", \"showlegend\": true, \"type\": \"scattergeo\"}, {\"geo\": \"geo\", \"hovertemplate\": \"<b>%{hovertext}</b><br><br>city_name=Hamburg<br>year_participation=2008<br>cumsum=%{marker.size}<br>lat=%{lat}<br>lon=%{lon}<extra></extra>\", \"hovertext\": [\"Hamburg\"], \"lat\": [53.543764100000004], \"legendgroup\": \"Hamburg\", \"lon\": [10.009913300000001], \"marker\": {\"color\": \"#FF97FF\", \"size\": [30], \"sizemode\": \"area\", \"sizeref\": 0.45}, \"name\": \"Hamburg\", \"showlegend\": true, \"type\": \"scattergeo\"}, {\"geo\": \"geo\", \"hovertemplate\": \"<b>%{hovertext}</b><br><br>city_name=Berlin<br>year_participation=2008<br>cumsum=%{marker.size}<br>lat=%{lat}<br>lon=%{lon}<extra></extra>\", \"hovertext\": [\"Berlin\"], \"lat\": [52.517036499999996], \"legendgroup\": \"Berlin\", \"lon\": [13.388859900000002], \"marker\": {\"color\": \"#EF553B\", \"size\": [135], \"sizemode\": \"area\", \"sizeref\": 0.45}, \"name\": \"Berlin\", \"showlegend\": true, \"type\": \"scattergeo\"}, {\"geo\": \"geo\", \"hovertemplate\": \"<b>%{hovertext}</b><br><br>city_name=Frankfurt/Main<br>year_participation=2008<br>cumsum=%{marker.size}<br>lat=%{lat}<br>lon=%{lon}<extra></extra>\", \"hovertext\": [\"Frankfurt/Main\"], \"lat\": [50.053763700000005], \"legendgroup\": \"Frankfurt/Main\", \"lon\": [8.637085800000001], \"marker\": {\"color\": \"#ab63fa\", \"size\": [29], \"sizemode\": \"area\", \"sizeref\": 0.45}, \"name\": \"Frankfurt/Main\", \"showlegend\": true, \"type\": \"scattergeo\"}, {\"geo\": \"geo\", \"hovertemplate\": \"<b>%{hovertext}</b><br><br>city_name=Bern<br>year_participation=2008<br>cumsum=%{marker.size}<br>lat=%{lat}<br>lon=%{lon}<extra></extra>\", \"hovertext\": [\"Bern\"], \"lat\": [46.9482713], \"legendgroup\": \"Bern\", \"lon\": [7.4514512], \"marker\": {\"color\": \"#FF6692\", \"size\": [13], \"sizemode\": \"area\", \"sizeref\": 0.45}, \"name\": \"Bern\", \"showlegend\": true, \"type\": \"scattergeo\"}, {\"geo\": \"geo\", \"hovertemplate\": \"<b>%{hovertext}</b><br><br>city_name=Graz<br>year_participation=2008<br>cumsum=%{marker.size}<br>lat=%{lat}<br>lon=%{lon}<extra></extra>\", \"hovertext\": [\"Graz\"], \"lat\": [47.070867799999995], \"legendgroup\": \"Graz\", \"lon\": [15.438278599999999], \"marker\": {\"color\": \"#00cc96\", \"size\": [12], \"sizemode\": \"area\", \"sizeref\": 0.45}, \"name\": \"Graz\", \"showlegend\": true, \"type\": \"scattergeo\"}, {\"geo\": \"geo\", \"hovertemplate\": \"<b>%{hovertext}</b><br><br>city_name=Karlsruhe<br>year_participation=2008<br>cumsum=%{marker.size}<br>lat=%{lat}<br>lon=%{lon}<extra></extra>\", \"hovertext\": [\"Karlsruhe\"], \"lat\": [49.006870500000005], \"legendgroup\": \"Karlsruhe\", \"lon\": [8.4034195], \"marker\": {\"color\": \"#19d3f3\", \"size\": [4], \"sizemode\": \"area\", \"sizeref\": 0.45}, \"name\": \"Karlsruhe\", \"showlegend\": true, \"type\": \"scattergeo\"}, {\"geo\": \"geo\", \"hovertemplate\": \"<b>%{hovertext}</b><br><br>city_name=Stuttgart<br>year_participation=2008<br>cumsum=%{marker.size}<br>lat=%{lat}<br>lon=%{lon}<extra></extra>\", \"hovertext\": [\"Stuttgart\"], \"lat\": [48.778448499999996], \"legendgroup\": \"Stuttgart\", \"lon\": [9.1800132], \"marker\": {\"color\": \"#FF97FF\", \"size\": [8], \"sizemode\": \"area\", \"sizeref\": 0.45}, \"name\": \"Stuttgart\", \"showlegend\": true, \"type\": \"scattergeo\"}, {\"geo\": \"geo\", \"hovertemplate\": \"<b>%{hovertext}</b><br><br>city_name=Leipzig<br>year_participation=2008<br>cumsum=%{marker.size}<br>lat=%{lat}<br>lon=%{lon}<extra></extra>\", \"hovertext\": [\"Leipzig\"], \"lat\": [51.3406321], \"legendgroup\": \"Leipzig\", \"lon\": [12.3747329], \"marker\": {\"color\": \"#00cc96\", \"size\": [9], \"sizemode\": \"area\", \"sizeref\": 0.45}, \"name\": \"Leipzig\", \"showlegend\": true, \"type\": \"scattergeo\"}, {\"geo\": \"geo\", \"hovertemplate\": \"<b>%{hovertext}</b><br><br>city_name=Vorpommern<br>year_participation=2008<br>cumsum=%{marker.size}<br>lat=%{lat}<br>lon=%{lon}<extra></extra>\", \"hovertext\": [\"Vorpommern\"], \"lat\": [53.84713085], \"legendgroup\": \"Vorpommern\", \"lon\": [13.351339006164036], \"marker\": {\"color\": \"#19d3f3\", \"size\": [1], \"sizemode\": \"area\", \"sizeref\": 0.45}, \"name\": \"Vorpommern\", \"showlegend\": true, \"type\": \"scattergeo\"}], \"name\": \"2008\"}, {\"data\": [{\"geo\": \"geo\", \"hovertemplate\": \"<b>%{hovertext}</b><br><br>city_name=Wien<br>year_participation=2009<br>cumsum=%{marker.size}<br>lat=%{lat}<br>lon=%{lon}<extra></extra>\", \"hovertext\": [\"Wien\"], \"lat\": [48.2083537], \"legendgroup\": \"Wien\", \"lon\": [16.372504199999998], \"marker\": {\"color\": \"#00cc96\", \"size\": [66], \"sizemode\": \"area\", \"sizeref\": 0.45}, \"name\": \"Wien\", \"showlegend\": true, \"type\": \"scattergeo\"}, {\"geo\": \"geo\", \"hovertemplate\": \"<b>%{hovertext}</b><br><br>city_name=Z\\u00fcrich<br>year_participation=2009<br>cumsum=%{marker.size}<br>lat=%{lat}<br>lon=%{lon}<extra></extra>\", \"hovertext\": [\"Z\\u00fcrich\"], \"lat\": [47.3723941], \"legendgroup\": \"Z\\u00fcrich\", \"lon\": [8.5423328], \"marker\": {\"color\": \"#FECB52\", \"size\": [33], \"sizemode\": \"area\", \"sizeref\": 0.45}, \"name\": \"Z\\u00fcrich\", \"showlegend\": true, \"type\": \"scattergeo\"}, {\"geo\": \"geo\", \"hovertemplate\": \"<b>%{hovertext}</b><br><br>city_name=Berlin<br>year_participation=2009<br>cumsum=%{marker.size}<br>lat=%{lat}<br>lon=%{lon}<extra></extra>\", \"hovertext\": [\"Berlin\"], \"lat\": [52.517036499999996], \"legendgroup\": \"Berlin\", \"lon\": [13.388859900000002], \"marker\": {\"color\": \"#EF553B\", \"size\": [141], \"sizemode\": \"area\", \"sizeref\": 0.45}, \"name\": \"Berlin\", \"showlegend\": true, \"type\": \"scattergeo\"}, {\"geo\": \"geo\", \"hovertemplate\": \"<b>%{hovertext}</b><br><br>city_name=Paris<br>year_participation=2009<br>cumsum=%{marker.size}<br>lat=%{lat}<br>lon=%{lon}<extra></extra>\", \"hovertext\": [\"Paris\"], \"lat\": [48.856696899999996], \"legendgroup\": \"Paris\", \"lon\": [2.3514616000000004], \"marker\": {\"color\": \"#00cc96\", \"size\": [6], \"sizemode\": \"area\", \"sizeref\": 0.45}, \"name\": \"Paris\", \"showlegend\": true, \"type\": \"scattergeo\"}, {\"geo\": \"geo\", \"hovertemplate\": \"<b>%{hovertext}</b><br><br>city_name=Barcelona<br>year_participation=2009<br>cumsum=%{marker.size}<br>lat=%{lat}<br>lon=%{lon}<extra></extra>\", \"hovertext\": [\"Barcelona\"], \"lat\": [41.3828939], \"legendgroup\": \"Barcelona\", \"lon\": [2.1774322], \"marker\": {\"color\": \"#ab63fa\", \"size\": [2], \"sizemode\": \"area\", \"sizeref\": 0.45}, \"name\": \"Barcelona\", \"showlegend\": true, \"type\": \"scattergeo\"}, {\"geo\": \"geo\", \"hovertemplate\": \"<b>%{hovertext}</b><br><br>city_name=H\\u00f6flein a.d. Donau<br>year_participation=2009<br>cumsum=%{marker.size}<br>lat=%{lat}<br>lon=%{lon}<extra></extra>\", \"hovertext\": [\"H\\u00f6flein a.d. Donau\"], \"lat\": [48.350795], \"legendgroup\": \"H\\u00f6flein a.d. Donau\", \"lon\": [16.2733986], \"marker\": {\"color\": \"#FF6692\", \"size\": [1], \"sizemode\": \"area\", \"sizeref\": 0.45}, \"name\": \"H\\u00f6flein a.d. Donau\", \"showlegend\": true, \"type\": \"scattergeo\"}], \"name\": \"2009\"}, {\"data\": [{\"geo\": \"geo\", \"hovertemplate\": \"<b>%{hovertext}</b><br><br>city_name=Wien<br>year_participation=2010<br>cumsum=%{marker.size}<br>lat=%{lat}<br>lon=%{lon}<extra></extra>\", \"hovertext\": [\"Wien\"], \"lat\": [48.2083537], \"legendgroup\": \"Wien\", \"lon\": [16.372504199999998], \"marker\": {\"color\": \"#00cc96\", \"size\": [68], \"sizemode\": \"area\", \"sizeref\": 0.45}, \"name\": \"Wien\", \"showlegend\": true, \"type\": \"scattergeo\"}, {\"geo\": \"geo\", \"hovertemplate\": \"<b>%{hovertext}</b><br><br>city_name=M\\u00fcnchen<br>year_participation=2010<br>cumsum=%{marker.size}<br>lat=%{lat}<br>lon=%{lon}<extra></extra>\", \"hovertext\": [\"M\\u00fcnchen\"], \"lat\": [48.1371079], \"legendgroup\": \"M\\u00fcnchen\", \"lon\": [11.575382199999998], \"marker\": {\"color\": \"#B6E880\", \"size\": [50], \"sizemode\": \"area\", \"sizeref\": 0.45}, \"name\": \"M\\u00fcnchen\", \"showlegend\": true, \"type\": \"scattergeo\"}, {\"geo\": \"geo\", \"hovertemplate\": \"<b>%{hovertext}</b><br><br>city_name=Z\\u00fcrich<br>year_participation=2010<br>cumsum=%{marker.size}<br>lat=%{lat}<br>lon=%{lon}<extra></extra>\", \"hovertext\": [\"Z\\u00fcrich\"], \"lat\": [47.3723941], \"legendgroup\": \"Z\\u00fcrich\", \"lon\": [8.5423328], \"marker\": {\"color\": \"#FECB52\", \"size\": [34], \"sizemode\": \"area\", \"sizeref\": 0.45}, \"name\": \"Z\\u00fcrich\", \"showlegend\": true, \"type\": \"scattergeo\"}, {\"geo\": \"geo\", \"hovertemplate\": \"<b>%{hovertext}</b><br><br>city_name=M\\u00fcnster<br>year_participation=2010<br>cumsum=%{marker.size}<br>lat=%{lat}<br>lon=%{lon}<extra></extra>\", \"hovertext\": [\"M\\u00fcnster\"], \"lat\": [51.9625101], \"legendgroup\": \"M\\u00fcnster\", \"lon\": [7.6251879], \"marker\": {\"color\": \"#636efa\", \"size\": [4], \"sizemode\": \"area\", \"sizeref\": 0.45}, \"name\": \"M\\u00fcnster\", \"showlegend\": true, \"type\": \"scattergeo\"}, {\"geo\": \"geo\", \"hovertemplate\": \"<b>%{hovertext}</b><br><br>city_name=Berlin<br>year_participation=2010<br>cumsum=%{marker.size}<br>lat=%{lat}<br>lon=%{lon}<extra></extra>\", \"hovertext\": [\"Berlin\"], \"lat\": [52.517036499999996], \"legendgroup\": \"Berlin\", \"lon\": [13.388859900000002], \"marker\": {\"color\": \"#EF553B\", \"size\": [146], \"sizemode\": \"area\", \"sizeref\": 0.45}, \"name\": \"Berlin\", \"showlegend\": true, \"type\": \"scattergeo\"}, {\"geo\": \"geo\", \"hovertemplate\": \"<b>%{hovertext}</b><br><br>city_name=D\\u00fcsseldorf<br>year_participation=2010<br>cumsum=%{marker.size}<br>lat=%{lat}<br>lon=%{lon}<extra></extra>\", \"hovertext\": [\"D\\u00fcsseldorf\"], \"lat\": [51.2254018], \"legendgroup\": \"D\\u00fcsseldorf\", \"lon\": [6.7763137], \"marker\": {\"color\": \"#19d3f3\", \"size\": [2], \"sizemode\": \"area\", \"sizeref\": 0.45}, \"name\": \"D\\u00fcsseldorf\", \"showlegend\": true, \"type\": \"scattergeo\"}, {\"geo\": \"geo\", \"hovertemplate\": \"<b>%{hovertext}</b><br><br>city_name=K\\u00f6nigsdorf<br>year_participation=2010<br>cumsum=%{marker.size}<br>lat=%{lat}<br>lon=%{lon}<extra></extra>\", \"hovertext\": [\"K\\u00f6nigsdorf\"], \"lat\": [47.8164083], \"legendgroup\": \"K\\u00f6nigsdorf\", \"lon\": [11.480434599999999], \"marker\": {\"color\": \"#B6E880\", \"size\": [1], \"sizemode\": \"area\", \"sizeref\": 0.45}, \"name\": \"K\\u00f6nigsdorf\", \"showlegend\": true, \"type\": \"scattergeo\"}, {\"geo\": \"geo\", \"hovertemplate\": \"<b>%{hovertext}</b><br><br>city_name=Dublin<br>year_participation=2010<br>cumsum=%{marker.size}<br>lat=%{lat}<br>lon=%{lon}<extra></extra>\", \"hovertext\": [\"Dublin\"], \"lat\": [53.3497645], \"legendgroup\": \"Dublin\", \"lon\": [-6.2602732], \"marker\": {\"color\": \"#FF97FF\", \"size\": [1], \"sizemode\": \"area\", \"sizeref\": 0.45}, \"name\": \"Dublin\", \"showlegend\": true, \"type\": \"scattergeo\"}, {\"geo\": \"geo\", \"hovertemplate\": \"<b>%{hovertext}</b><br><br>city_name=Cottbus<br>year_participation=2010<br>cumsum=%{marker.size}<br>lat=%{lat}<br>lon=%{lon}<extra></extra>\", \"hovertext\": [\"Cottbus\"], \"lat\": [51.756744700000006], \"legendgroup\": \"Cottbus\", \"lon\": [14.335730700000001], \"marker\": {\"color\": \"#FECB52\", \"size\": [1], \"sizemode\": \"area\", \"sizeref\": 0.45}, \"name\": \"Cottbus\", \"showlegend\": true, \"type\": \"scattergeo\"}, {\"geo\": \"geo\", \"hovertemplate\": \"<b>%{hovertext}</b><br><br>city_name=Rostock<br>year_participation=2010<br>cumsum=%{marker.size}<br>lat=%{lat}<br>lon=%{lon}<extra></extra>\", \"hovertext\": [\"Rostock\"], \"lat\": [54.09244449999999], \"legendgroup\": \"Rostock\", \"lon\": [12.1286127], \"marker\": {\"color\": \"#636efa\", \"size\": [1], \"sizemode\": \"area\", \"sizeref\": 0.45}, \"name\": \"Rostock\", \"showlegend\": true, \"type\": \"scattergeo\"}], \"name\": \"2010\"}, {\"data\": [{\"geo\": \"geo\", \"hovertemplate\": \"<b>%{hovertext}</b><br><br>city_name=Wien<br>year_participation=2011<br>cumsum=%{marker.size}<br>lat=%{lat}<br>lon=%{lon}<extra></extra>\", \"hovertext\": [\"Wien\"], \"lat\": [48.2083537], \"legendgroup\": \"Wien\", \"lon\": [16.372504199999998], \"marker\": {\"color\": \"#00cc96\", \"size\": [70], \"sizemode\": \"area\", \"sizeref\": 0.45}, \"name\": \"Wien\", \"showlegend\": true, \"type\": \"scattergeo\"}, {\"geo\": \"geo\", \"hovertemplate\": \"<b>%{hovertext}</b><br><br>city_name=Klagenfurt<br>year_participation=2011<br>cumsum=%{marker.size}<br>lat=%{lat}<br>lon=%{lon}<extra></extra>\", \"hovertext\": [\"Klagenfurt\"], \"lat\": [46.6228162], \"legendgroup\": \"Klagenfurt\", \"lon\": [14.307960399999999], \"marker\": {\"color\": \"#ab63fa\", \"size\": [9], \"sizemode\": \"area\", \"sizeref\": 0.45}, \"name\": \"Klagenfurt\", \"showlegend\": true, \"type\": \"scattergeo\"}, {\"geo\": \"geo\", \"hovertemplate\": \"<b>%{hovertext}</b><br><br>city_name=Z\\u00fcrich<br>year_participation=2011<br>cumsum=%{marker.size}<br>lat=%{lat}<br>lon=%{lon}<extra></extra>\", \"hovertext\": [\"Z\\u00fcrich\"], \"lat\": [47.3723941], \"legendgroup\": \"Z\\u00fcrich\", \"lon\": [8.5423328], \"marker\": {\"color\": \"#FECB52\", \"size\": [35], \"sizemode\": \"area\", \"sizeref\": 0.45}, \"name\": \"Z\\u00fcrich\", \"showlegend\": true, \"type\": \"scattergeo\"}, {\"geo\": \"geo\", \"hovertemplate\": \"<b>%{hovertext}</b><br><br>city_name=Berlin<br>year_participation=2011<br>cumsum=%{marker.size}<br>lat=%{lat}<br>lon=%{lon}<extra></extra>\", \"hovertext\": [\"Berlin\"], \"lat\": [52.517036499999996], \"legendgroup\": \"Berlin\", \"lon\": [13.388859900000002], \"marker\": {\"color\": \"#EF553B\", \"size\": [154], \"sizemode\": \"area\", \"sizeref\": 0.45}, \"name\": \"Berlin\", \"showlegend\": true, \"type\": \"scattergeo\"}, {\"geo\": \"geo\", \"hovertemplate\": \"<b>%{hovertext}</b><br><br>city_name=Heidelberg<br>year_participation=2011<br>cumsum=%{marker.size}<br>lat=%{lat}<br>lon=%{lon}<extra></extra>\", \"hovertext\": [\"Heidelberg\"], \"lat\": [49.40935820000001], \"legendgroup\": \"Heidelberg\", \"lon\": [8.694724], \"marker\": {\"color\": \"#636efa\", \"size\": [4], \"sizemode\": \"area\", \"sizeref\": 0.45}, \"name\": \"Heidelberg\", \"showlegend\": true, \"type\": \"scattergeo\"}, {\"geo\": \"geo\", \"hovertemplate\": \"<b>%{hovertext}</b><br><br>city_name=K\\u00f6ln<br>year_participation=2011<br>cumsum=%{marker.size}<br>lat=%{lat}<br>lon=%{lon}<extra></extra>\", \"hovertext\": [\"K\\u00f6ln\"], \"lat\": [50.938361], \"legendgroup\": \"K\\u00f6ln\", \"lon\": [6.959974000000001], \"marker\": {\"color\": \"#00cc96\", \"size\": [14], \"sizemode\": \"area\", \"sizeref\": 0.45}, \"name\": \"K\\u00f6ln\", \"showlegend\": true, \"type\": \"scattergeo\"}], \"name\": \"2011\"}, {\"data\": [{\"geo\": \"geo\", \"hovertemplate\": \"<b>%{hovertext}</b><br><br>city_name=Wien<br>year_participation=2012<br>cumsum=%{marker.size}<br>lat=%{lat}<br>lon=%{lon}<extra></extra>\", \"hovertext\": [\"Wien\"], \"lat\": [48.2083537], \"legendgroup\": \"Wien\", \"lon\": [16.372504199999998], \"marker\": {\"color\": \"#00cc96\", \"size\": [71], \"sizemode\": \"area\", \"sizeref\": 0.45}, \"name\": \"Wien\", \"showlegend\": true, \"type\": \"scattergeo\"}, {\"geo\": \"geo\", \"hovertemplate\": \"<b>%{hovertext}</b><br><br>city_name=Hamburg<br>year_participation=2012<br>cumsum=%{marker.size}<br>lat=%{lat}<br>lon=%{lon}<extra></extra>\", \"hovertext\": [\"Hamburg\"], \"lat\": [53.543764100000004], \"legendgroup\": \"Hamburg\", \"lon\": [10.009913300000001], \"marker\": {\"color\": \"#FF97FF\", \"size\": [31], \"sizemode\": \"area\", \"sizeref\": 0.45}, \"name\": \"Hamburg\", \"showlegend\": true, \"type\": \"scattergeo\"}, {\"geo\": \"geo\", \"hovertemplate\": \"<b>%{hovertext}</b><br><br>city_name=Z\\u00fcrich<br>year_participation=2012<br>cumsum=%{marker.size}<br>lat=%{lat}<br>lon=%{lon}<extra></extra>\", \"hovertext\": [\"Z\\u00fcrich\"], \"lat\": [47.3723941], \"legendgroup\": \"Z\\u00fcrich\", \"lon\": [8.5423328], \"marker\": {\"color\": \"#FECB52\", \"size\": [37], \"sizemode\": \"area\", \"sizeref\": 0.45}, \"name\": \"Z\\u00fcrich\", \"showlegend\": true, \"type\": \"scattergeo\"}, {\"geo\": \"geo\", \"hovertemplate\": \"<b>%{hovertext}</b><br><br>city_name=Berlin<br>year_participation=2012<br>cumsum=%{marker.size}<br>lat=%{lat}<br>lon=%{lon}<extra></extra>\", \"hovertext\": [\"Berlin\"], \"lat\": [52.517036499999996], \"legendgroup\": \"Berlin\", \"lon\": [13.388859900000002], \"marker\": {\"color\": \"#EF553B\", \"size\": [156], \"sizemode\": \"area\", \"sizeref\": 0.45}, \"name\": \"Berlin\", \"showlegend\": true, \"type\": \"scattergeo\"}, {\"geo\": \"geo\", \"hovertemplate\": \"<b>%{hovertext}</b><br><br>city_name=Frankfurt/Main<br>year_participation=2012<br>cumsum=%{marker.size}<br>lat=%{lat}<br>lon=%{lon}<extra></extra>\", \"hovertext\": [\"Frankfurt/Main\"], \"lat\": [50.053763700000005], \"legendgroup\": \"Frankfurt/Main\", \"lon\": [8.637085800000001], \"marker\": {\"color\": \"#ab63fa\", \"size\": [30], \"sizemode\": \"area\", \"sizeref\": 0.45}, \"name\": \"Frankfurt/Main\", \"showlegend\": true, \"type\": \"scattergeo\"}, {\"geo\": \"geo\", \"hovertemplate\": \"<b>%{hovertext}</b><br><br>city_name=Leipzig<br>year_participation=2012<br>cumsum=%{marker.size}<br>lat=%{lat}<br>lon=%{lon}<extra></extra>\", \"hovertext\": [\"Leipzig\"], \"lat\": [51.3406321], \"legendgroup\": \"Leipzig\", \"lon\": [12.3747329], \"marker\": {\"color\": \"#00cc96\", \"size\": [10], \"sizemode\": \"area\", \"sizeref\": 0.45}, \"name\": \"Leipzig\", \"showlegend\": true, \"type\": \"scattergeo\"}, {\"geo\": \"geo\", \"hovertemplate\": \"<b>%{hovertext}</b><br><br>city_name=Freiburg<br>year_participation=2012<br>cumsum=%{marker.size}<br>lat=%{lat}<br>lon=%{lon}<extra></extra>\", \"hovertext\": [\"Freiburg\"], \"lat\": [47.9960901], \"legendgroup\": \"Freiburg\", \"lon\": [7.849400500000001], \"marker\": {\"color\": \"#FECB52\", \"size\": [6], \"sizemode\": \"area\", \"sizeref\": 0.45}, \"name\": \"Freiburg\", \"showlegend\": true, \"type\": \"scattergeo\"}, {\"geo\": \"geo\", \"hovertemplate\": \"<b>%{hovertext}</b><br><br>city_name=Unterentfelden<br>year_participation=2012<br>cumsum=%{marker.size}<br>lat=%{lat}<br>lon=%{lon}<extra></extra>\", \"hovertext\": [\"Unterentfelden\"], \"lat\": [47.3670123], \"legendgroup\": \"Unterentfelden\", \"lon\": [8.0424171], \"marker\": {\"color\": \"#EF553B\", \"size\": [1], \"sizemode\": \"area\", \"sizeref\": 0.45}, \"name\": \"Unterentfelden\", \"showlegend\": true, \"type\": \"scattergeo\"}, {\"geo\": \"geo\", \"hovertemplate\": \"<b>%{hovertext}</b><br><br>city_name=Espoo<br>year_participation=2012<br>cumsum=%{marker.size}<br>lat=%{lat}<br>lon=%{lon}<extra></extra>\", \"hovertext\": [\"Espoo\"], \"lat\": [60.22418689999999], \"legendgroup\": \"Espoo\", \"lon\": [24.660362600000003], \"marker\": {\"color\": \"#00cc96\", \"size\": [1], \"sizemode\": \"area\", \"sizeref\": 0.45}, \"name\": \"Espoo\", \"showlegend\": true, \"type\": \"scattergeo\"}, {\"geo\": \"geo\", \"hovertemplate\": \"<b>%{hovertext}</b><br><br>city_name=Biel<br>year_participation=2012<br>cumsum=%{marker.size}<br>lat=%{lat}<br>lon=%{lon}<extra></extra>\", \"hovertext\": [\"Biel\"], \"lat\": [43.0559092], \"legendgroup\": \"Biel\", \"lon\": [-0.43253], \"marker\": {\"color\": \"#ab63fa\", \"size\": [1], \"sizemode\": \"area\", \"sizeref\": 0.45}, \"name\": \"Biel\", \"showlegend\": true, \"type\": \"scattergeo\"}, {\"geo\": \"geo\", \"hovertemplate\": \"<b>%{hovertext}</b><br><br>city_name=Bamberg<br>year_participation=2012<br>cumsum=%{marker.size}<br>lat=%{lat}<br>lon=%{lon}<extra></extra>\", \"hovertext\": [\"Bamberg\"], \"lat\": [49.8916044], \"legendgroup\": \"Bamberg\", \"lon\": [10.8868478], \"marker\": {\"color\": \"#FFA15A\", \"size\": [1], \"sizemode\": \"area\", \"sizeref\": 0.45}, \"name\": \"Bamberg\", \"showlegend\": true, \"type\": \"scattergeo\"}, {\"geo\": \"geo\", \"hovertemplate\": \"<b>%{hovertext}</b><br><br>city_name=Hiroshima (Japan)<br>year_participation=2012<br>cumsum=%{marker.size}<br>lat=%{lat}<br>lon=%{lon}<extra></extra>\", \"hovertext\": [\"Hiroshima (Japan)\"], \"lat\": [34.391605799999994], \"legendgroup\": \"Hiroshima (Japan)\", \"lon\": [132.4518156], \"marker\": {\"color\": \"#19d3f3\", \"size\": [1], \"sizemode\": \"area\", \"sizeref\": 0.45}, \"name\": \"Hiroshima (Japan)\", \"showlegend\": true, \"type\": \"scattergeo\"}, {\"geo\": \"geo\", \"hovertemplate\": \"<b>%{hovertext}</b><br><br>city_name=Traismauer<br>year_participation=2012<br>cumsum=%{marker.size}<br>lat=%{lat}<br>lon=%{lon}<extra></extra>\", \"hovertext\": [\"Traismauer\"], \"lat\": [48.3499106], \"legendgroup\": \"Traismauer\", \"lon\": [15.744186800000001], \"marker\": {\"color\": \"#FF6692\", \"size\": [1], \"sizemode\": \"area\", \"sizeref\": 0.45}, \"name\": \"Traismauer\", \"showlegend\": true, \"type\": \"scattergeo\"}], \"name\": \"2012\"}, {\"data\": [{\"geo\": \"geo\", \"hovertemplate\": \"<b>%{hovertext}</b><br><br>city_name=Wien<br>year_participation=2013<br>cumsum=%{marker.size}<br>lat=%{lat}<br>lon=%{lon}<extra></extra>\", \"hovertext\": [\"Wien\"], \"lat\": [48.2083537], \"legendgroup\": \"Wien\", \"lon\": [16.372504199999998], \"marker\": {\"color\": \"#00cc96\", \"size\": [73], \"sizemode\": \"area\", \"sizeref\": 0.45}, \"name\": \"Wien\", \"showlegend\": true, \"type\": \"scattergeo\"}, {\"geo\": \"geo\", \"hovertemplate\": \"<b>%{hovertext}</b><br><br>city_name=M\\u00fcnchen<br>year_participation=2013<br>cumsum=%{marker.size}<br>lat=%{lat}<br>lon=%{lon}<extra></extra>\", \"hovertext\": [\"M\\u00fcnchen\"], \"lat\": [48.1371079], \"legendgroup\": \"M\\u00fcnchen\", \"lon\": [11.575382199999998], \"marker\": {\"color\": \"#B6E880\", \"size\": [51], \"sizemode\": \"area\", \"sizeref\": 0.45}, \"name\": \"M\\u00fcnchen\", \"showlegend\": true, \"type\": \"scattergeo\"}, {\"geo\": \"geo\", \"hovertemplate\": \"<b>%{hovertext}</b><br><br>city_name=Hamburg<br>year_participation=2013<br>cumsum=%{marker.size}<br>lat=%{lat}<br>lon=%{lon}<extra></extra>\", \"hovertext\": [\"Hamburg\"], \"lat\": [53.543764100000004], \"legendgroup\": \"Hamburg\", \"lon\": [10.009913300000001], \"marker\": {\"color\": \"#FF97FF\", \"size\": [32], \"sizemode\": \"area\", \"sizeref\": 0.45}, \"name\": \"Hamburg\", \"showlegend\": true, \"type\": \"scattergeo\"}, {\"geo\": \"geo\", \"hovertemplate\": \"<b>%{hovertext}</b><br><br>city_name=Berlin<br>year_participation=2013<br>cumsum=%{marker.size}<br>lat=%{lat}<br>lon=%{lon}<extra></extra>\", \"hovertext\": [\"Berlin\"], \"lat\": [52.517036499999996], \"legendgroup\": \"Berlin\", \"lon\": [13.388859900000002], \"marker\": {\"color\": \"#EF553B\", \"size\": [162], \"sizemode\": \"area\", \"sizeref\": 0.45}, \"name\": \"Berlin\", \"showlegend\": true, \"type\": \"scattergeo\"}, {\"geo\": \"geo\", \"hovertemplate\": \"<b>%{hovertext}</b><br><br>city_name=Konstanz<br>year_participation=2013<br>cumsum=%{marker.size}<br>lat=%{lat}<br>lon=%{lon}<extra></extra>\", \"hovertext\": [\"Konstanz\"], \"lat\": [47.659216], \"legendgroup\": \"Konstanz\", \"lon\": [9.175071800000001], \"marker\": {\"color\": \"#B6E880\", \"size\": [3], \"sizemode\": \"area\", \"sizeref\": 0.45}, \"name\": \"Konstanz\", \"showlegend\": true, \"type\": \"scattergeo\"}, {\"geo\": \"geo\", \"hovertemplate\": \"<b>%{hovertext}</b><br><br>city_name=Biel/Bienne<br>year_participation=2013<br>cumsum=%{marker.size}<br>lat=%{lat}<br>lon=%{lon}<extra></extra>\", \"hovertext\": [\"Biel/Bienne\"], \"lat\": [47.140207700000005], \"legendgroup\": \"Biel/Bienne\", \"lon\": [7.243902900000001], \"marker\": {\"color\": \"#FECB52\", \"size\": [2], \"sizemode\": \"area\", \"sizeref\": 0.45}, \"name\": \"Biel/Bienne\", \"showlegend\": true, \"type\": \"scattergeo\"}, {\"geo\": \"geo\", \"hovertemplate\": \"<b>%{hovertext}</b><br><br>city_name=Odessa<br>year_participation=2013<br>cumsum=%{marker.size}<br>lat=%{lat}<br>lon=%{lon}<extra></extra>\", \"hovertext\": [\"Odessa\"], \"lat\": [46.4873195], \"legendgroup\": \"Odessa\", \"lon\": [30.7392776], \"marker\": {\"color\": \"#B6E880\", \"size\": [1], \"sizemode\": \"area\", \"sizeref\": 0.45}, \"name\": \"Odessa\", \"showlegend\": true, \"type\": \"scattergeo\"}, {\"geo\": \"geo\", \"hovertemplate\": \"<b>%{hovertext}</b><br><br>city_name=Heidgraben<br>year_participation=2013<br>cumsum=%{marker.size}<br>lat=%{lat}<br>lon=%{lon}<extra></extra>\", \"hovertext\": [\"Heidgraben\"], \"lat\": [53.7058525], \"legendgroup\": \"Heidgraben\", \"lon\": [9.684823800000002], \"marker\": {\"color\": \"#FF97FF\", \"size\": [1], \"sizemode\": \"area\", \"sizeref\": 0.45}, \"name\": \"Heidgraben\", \"showlegend\": true, \"type\": \"scattergeo\"}], \"name\": \"2013\"}, {\"data\": [{\"geo\": \"geo\", \"hovertemplate\": \"<b>%{hovertext}</b><br><br>city_name=Wien<br>year_participation=2014<br>cumsum=%{marker.size}<br>lat=%{lat}<br>lon=%{lon}<extra></extra>\", \"hovertext\": [\"Wien\"], \"lat\": [48.2083537], \"legendgroup\": \"Wien\", \"lon\": [16.372504199999998], \"marker\": {\"color\": \"#00cc96\", \"size\": [74], \"sizemode\": \"area\", \"sizeref\": 0.45}, \"name\": \"Wien\", \"showlegend\": true, \"type\": \"scattergeo\"}, {\"geo\": \"geo\", \"hovertemplate\": \"<b>%{hovertext}</b><br><br>city_name=Berlin<br>year_participation=2014<br>cumsum=%{marker.size}<br>lat=%{lat}<br>lon=%{lon}<extra></extra>\", \"hovertext\": [\"Berlin\"], \"lat\": [52.517036499999996], \"legendgroup\": \"Berlin\", \"lon\": [13.388859900000002], \"marker\": {\"color\": \"#EF553B\", \"size\": [165], \"sizemode\": \"area\", \"sizeref\": 0.45}, \"name\": \"Berlin\", \"showlegend\": true, \"type\": \"scattergeo\"}, {\"geo\": \"geo\", \"hovertemplate\": \"<b>%{hovertext}</b><br><br>city_name=Bern<br>year_participation=2014<br>cumsum=%{marker.size}<br>lat=%{lat}<br>lon=%{lon}<extra></extra>\", \"hovertext\": [\"Bern\"], \"lat\": [46.9482713], \"legendgroup\": \"Bern\", \"lon\": [7.4514512], \"marker\": {\"color\": \"#FF6692\", \"size\": [14], \"sizemode\": \"area\", \"sizeref\": 0.45}, \"name\": \"Bern\", \"showlegend\": true, \"type\": \"scattergeo\"}, {\"geo\": \"geo\", \"hovertemplate\": \"<b>%{hovertext}</b><br><br>city_name=Graz<br>year_participation=2014<br>cumsum=%{marker.size}<br>lat=%{lat}<br>lon=%{lon}<extra></extra>\", \"hovertext\": [\"Graz\"], \"lat\": [47.070867799999995], \"legendgroup\": \"Graz\", \"lon\": [15.438278599999999], \"marker\": {\"color\": \"#00cc96\", \"size\": [15], \"sizemode\": \"area\", \"sizeref\": 0.45}, \"name\": \"Graz\", \"showlegend\": true, \"type\": \"scattergeo\"}, {\"geo\": \"geo\", \"hovertemplate\": \"<b>%{hovertext}</b><br><br>city_name=Leipzig<br>year_participation=2014<br>cumsum=%{marker.size}<br>lat=%{lat}<br>lon=%{lon}<extra></extra>\", \"hovertext\": [\"Leipzig\"], \"lat\": [51.3406321], \"legendgroup\": \"Leipzig\", \"lon\": [12.3747329], \"marker\": {\"color\": \"#00cc96\", \"size\": [11], \"sizemode\": \"area\", \"sizeref\": 0.45}, \"name\": \"Leipzig\", \"showlegend\": true, \"type\": \"scattergeo\"}, {\"geo\": \"geo\", \"hovertemplate\": \"<b>%{hovertext}</b><br><br>city_name=Celerina<br>year_participation=2014<br>cumsum=%{marker.size}<br>lat=%{lat}<br>lon=%{lon}<extra></extra>\", \"hovertext\": [\"Celerina\"], \"lat\": [46.5132296], \"legendgroup\": \"Celerina\", \"lon\": [9.858624800000001], \"marker\": {\"color\": \"#FECB52\", \"size\": [1], \"sizemode\": \"area\", \"sizeref\": 0.45}, \"name\": \"Celerina\", \"showlegend\": true, \"type\": \"scattergeo\"}, {\"geo\": \"geo\", \"hovertemplate\": \"<b>%{hovertext}</b><br><br>city_name=Pfaffst\\u00e4tten<br>year_participation=2014<br>cumsum=%{marker.size}<br>lat=%{lat}<br>lon=%{lon}<extra></extra>\", \"hovertext\": [\"Pfaffst\\u00e4tten\"], \"lat\": [48.017322899999996], \"legendgroup\": \"Pfaffst\\u00e4tten\", \"lon\": [16.2644673], \"marker\": {\"color\": \"#636efa\", \"size\": [1], \"sizemode\": \"area\", \"sizeref\": 0.45}, \"name\": \"Pfaffst\\u00e4tten\", \"showlegend\": true, \"type\": \"scattergeo\"}, {\"geo\": \"geo\", \"hovertemplate\": \"<b>%{hovertext}</b><br><br>city_name=s\\u00fcdliches Waldviertel<br>year_participation=2014<br>cumsum=%{marker.size}<br>lat=%{lat}<br>lon=%{lon}<extra></extra>\", \"hovertext\": [\"s\\u00fcdliches Waldviertel\"], \"lat\": [48.317201700000005], \"legendgroup\": \"s\\u00fcdliches Waldviertel\", \"lon\": [15.2034204], \"marker\": {\"color\": \"#EF553B\", \"size\": [1], \"sizemode\": \"area\", \"sizeref\": 0.45}, \"name\": \"s\\u00fcdliches Waldviertel\", \"showlegend\": true, \"type\": \"scattergeo\"}, {\"geo\": \"geo\", \"hovertemplate\": \"<b>%{hovertext}</b><br><br>city_name=Bad Segeberg<br>year_participation=2014<br>cumsum=%{marker.size}<br>lat=%{lat}<br>lon=%{lon}<extra></extra>\", \"hovertext\": [\"Bad Segeberg\"], \"lat\": [53.936819799999995], \"legendgroup\": \"Bad Segeberg\", \"lon\": [10.30415], \"marker\": {\"color\": \"#00cc96\", \"size\": [1], \"sizemode\": \"area\", \"sizeref\": 0.45}, \"name\": \"Bad Segeberg\", \"showlegend\": true, \"type\": \"scattergeo\"}], \"name\": \"2014\"}, {\"data\": [{\"geo\": \"geo\", \"hovertemplate\": \"<b>%{hovertext}</b><br><br>city_name=Wien<br>year_participation=2015<br>cumsum=%{marker.size}<br>lat=%{lat}<br>lon=%{lon}<extra></extra>\", \"hovertext\": [\"Wien\"], \"lat\": [48.2083537], \"legendgroup\": \"Wien\", \"lon\": [16.372504199999998], \"marker\": {\"color\": \"#00cc96\", \"size\": [76], \"sizemode\": \"area\", \"sizeref\": 0.45}, \"name\": \"Wien\", \"showlegend\": true, \"type\": \"scattergeo\"}, {\"geo\": \"geo\", \"hovertemplate\": \"<b>%{hovertext}</b><br><br>city_name=Klagenfurt<br>year_participation=2015<br>cumsum=%{marker.size}<br>lat=%{lat}<br>lon=%{lon}<extra></extra>\", \"hovertext\": [\"Klagenfurt\"], \"lat\": [46.6228162], \"legendgroup\": \"Klagenfurt\", \"lon\": [14.307960399999999], \"marker\": {\"color\": \"#ab63fa\", \"size\": [10], \"sizemode\": \"area\", \"sizeref\": 0.45}, \"name\": \"Klagenfurt\", \"showlegend\": true, \"type\": \"scattergeo\"}, {\"geo\": \"geo\", \"hovertemplate\": \"<b>%{hovertext}</b><br><br>city_name=Hamburg<br>year_participation=2015<br>cumsum=%{marker.size}<br>lat=%{lat}<br>lon=%{lon}<extra></extra>\", \"hovertext\": [\"Hamburg\"], \"lat\": [53.543764100000004], \"legendgroup\": \"Hamburg\", \"lon\": [10.009913300000001], \"marker\": {\"color\": \"#FF97FF\", \"size\": [33], \"sizemode\": \"area\", \"sizeref\": 0.45}, \"name\": \"Hamburg\", \"showlegend\": true, \"type\": \"scattergeo\"}, {\"geo\": \"geo\", \"hovertemplate\": \"<b>%{hovertext}</b><br><br>city_name=Z\\u00fcrich<br>year_participation=2015<br>cumsum=%{marker.size}<br>lat=%{lat}<br>lon=%{lon}<extra></extra>\", \"hovertext\": [\"Z\\u00fcrich\"], \"lat\": [47.3723941], \"legendgroup\": \"Z\\u00fcrich\", \"lon\": [8.5423328], \"marker\": {\"color\": \"#FECB52\", \"size\": [38], \"sizemode\": \"area\", \"sizeref\": 0.45}, \"name\": \"Z\\u00fcrich\", \"showlegend\": true, \"type\": \"scattergeo\"}, {\"geo\": \"geo\", \"hovertemplate\": \"<b>%{hovertext}</b><br><br>city_name=Berlin<br>year_participation=2015<br>cumsum=%{marker.size}<br>lat=%{lat}<br>lon=%{lon}<extra></extra>\", \"hovertext\": [\"Berlin\"], \"lat\": [52.517036499999996], \"legendgroup\": \"Berlin\", \"lon\": [13.388859900000002], \"marker\": {\"color\": \"#EF553B\", \"size\": [168], \"sizemode\": \"area\", \"sizeref\": 0.45}, \"name\": \"Berlin\", \"showlegend\": true, \"type\": \"scattergeo\"}, {\"geo\": \"geo\", \"hovertemplate\": \"<b>%{hovertext}</b><br><br>city_name=Frankfurt/Main<br>year_participation=2015<br>cumsum=%{marker.size}<br>lat=%{lat}<br>lon=%{lon}<extra></extra>\", \"hovertext\": [\"Frankfurt/Main\"], \"lat\": [50.053763700000005], \"legendgroup\": \"Frankfurt/Main\", \"lon\": [8.637085800000001], \"marker\": {\"color\": \"#ab63fa\", \"size\": [32], \"sizemode\": \"area\", \"sizeref\": 0.45}, \"name\": \"Frankfurt/Main\", \"showlegend\": true, \"type\": \"scattergeo\"}, {\"geo\": \"geo\", \"hovertemplate\": \"<b>%{hovertext}</b><br><br>city_name=Bern<br>year_participation=2015<br>cumsum=%{marker.size}<br>lat=%{lat}<br>lon=%{lon}<extra></extra>\", \"hovertext\": [\"Bern\"], \"lat\": [46.9482713], \"legendgroup\": \"Bern\", \"lon\": [7.4514512], \"marker\": {\"color\": \"#FF6692\", \"size\": [15], \"sizemode\": \"area\", \"sizeref\": 0.45}, \"name\": \"Bern\", \"showlegend\": true, \"type\": \"scattergeo\"}, {\"geo\": \"geo\", \"hovertemplate\": \"<b>%{hovertext}</b><br><br>city_name=Graz<br>year_participation=2015<br>cumsum=%{marker.size}<br>lat=%{lat}<br>lon=%{lon}<extra></extra>\", \"hovertext\": [\"Graz\"], \"lat\": [47.070867799999995], \"legendgroup\": \"Graz\", \"lon\": [15.438278599999999], \"marker\": {\"color\": \"#00cc96\", \"size\": [16], \"sizemode\": \"area\", \"sizeref\": 0.45}, \"name\": \"Graz\", \"showlegend\": true, \"type\": \"scattergeo\"}, {\"geo\": \"geo\", \"hovertemplate\": \"<b>%{hovertext}</b><br><br>city_name=Bamberg<br>year_participation=2015<br>cumsum=%{marker.size}<br>lat=%{lat}<br>lon=%{lon}<extra></extra>\", \"hovertext\": [\"Bamberg\"], \"lat\": [49.8916044], \"legendgroup\": \"Bamberg\", \"lon\": [10.8868478], \"marker\": {\"color\": \"#FFA15A\", \"size\": [2], \"sizemode\": \"area\", \"sizeref\": 0.45}, \"name\": \"Bamberg\", \"showlegend\": true, \"type\": \"scattergeo\"}, {\"geo\": \"geo\", \"hovertemplate\": \"<b>%{hovertext}</b><br><br>city_name=Val M\\u00fcstair<br>year_participation=2015<br>cumsum=%{marker.size}<br>lat=%{lat}<br>lon=%{lon}<extra></extra>\", \"hovertext\": [\"Val M\\u00fcstair\"], \"lat\": [46.6681972], \"legendgroup\": \"Val M\\u00fcstair\", \"lon\": [10.5115696], \"marker\": {\"color\": \"#ab63fa\", \"size\": [1], \"sizemode\": \"area\", \"sizeref\": 0.45}, \"name\": \"Val M\\u00fcstair\", \"showlegend\": true, \"type\": \"scattergeo\"}], \"name\": \"2015\"}, {\"data\": [{\"geo\": \"geo\", \"hovertemplate\": \"<b>%{hovertext}</b><br><br>city_name=Wien<br>year_participation=2016<br>cumsum=%{marker.size}<br>lat=%{lat}<br>lon=%{lon}<extra></extra>\", \"hovertext\": [\"Wien\"], \"lat\": [48.2083537], \"legendgroup\": \"Wien\", \"lon\": [16.372504199999998], \"marker\": {\"color\": \"#00cc96\", \"size\": [78], \"sizemode\": \"area\", \"sizeref\": 0.45}, \"name\": \"Wien\", \"showlegend\": true, \"type\": \"scattergeo\"}, {\"geo\": \"geo\", \"hovertemplate\": \"<b>%{hovertext}</b><br><br>city_name=Hamburg<br>year_participation=2016<br>cumsum=%{marker.size}<br>lat=%{lat}<br>lon=%{lon}<extra></extra>\", \"hovertext\": [\"Hamburg\"], \"lat\": [53.543764100000004], \"legendgroup\": \"Hamburg\", \"lon\": [10.009913300000001], \"marker\": {\"color\": \"#FF97FF\", \"size\": [34], \"sizemode\": \"area\", \"sizeref\": 0.45}, \"name\": \"Hamburg\", \"showlegend\": true, \"type\": \"scattergeo\"}, {\"geo\": \"geo\", \"hovertemplate\": \"<b>%{hovertext}</b><br><br>city_name=Z\\u00fcrich<br>year_participation=2016<br>cumsum=%{marker.size}<br>lat=%{lat}<br>lon=%{lon}<extra></extra>\", \"hovertext\": [\"Z\\u00fcrich\"], \"lat\": [47.3723941], \"legendgroup\": \"Z\\u00fcrich\", \"lon\": [8.5423328], \"marker\": {\"color\": \"#FECB52\", \"size\": [39], \"sizemode\": \"area\", \"sizeref\": 0.45}, \"name\": \"Z\\u00fcrich\", \"showlegend\": true, \"type\": \"scattergeo\"}, {\"geo\": \"geo\", \"hovertemplate\": \"<b>%{hovertext}</b><br><br>city_name=Berlin<br>year_participation=2016<br>cumsum=%{marker.size}<br>lat=%{lat}<br>lon=%{lon}<extra></extra>\", \"hovertext\": [\"Berlin\"], \"lat\": [52.517036499999996], \"legendgroup\": \"Berlin\", \"lon\": [13.388859900000002], \"marker\": {\"color\": \"#EF553B\", \"size\": [170], \"sizemode\": \"area\", \"sizeref\": 0.45}, \"name\": \"Berlin\", \"showlegend\": true, \"type\": \"scattergeo\"}, {\"geo\": \"geo\", \"hovertemplate\": \"<b>%{hovertext}</b><br><br>city_name=Salzburg<br>year_participation=2016<br>cumsum=%{marker.size}<br>lat=%{lat}<br>lon=%{lon}<extra></extra>\", \"hovertext\": [\"Salzburg\"], \"lat\": [47.798134600000004], \"legendgroup\": \"Salzburg\", \"lon\": [13.046480599999999], \"marker\": {\"color\": \"#00cc96\", \"size\": [16], \"sizemode\": \"area\", \"sizeref\": 0.45}, \"name\": \"Salzburg\", \"showlegend\": true, \"type\": \"scattergeo\"}, {\"geo\": \"geo\", \"hovertemplate\": \"<b>%{hovertext}</b><br><br>city_name=T\\u00fcbingen<br>year_participation=2016<br>cumsum=%{marker.size}<br>lat=%{lat}<br>lon=%{lon}<extra></extra>\", \"hovertext\": [\"T\\u00fcbingen\"], \"lat\": [48.5236164], \"legendgroup\": \"T\\u00fcbingen\", \"lon\": [9.0535531], \"marker\": {\"color\": \"#00cc96\", \"size\": [6], \"sizemode\": \"area\", \"sizeref\": 0.45}, \"name\": \"T\\u00fcbingen\", \"showlegend\": true, \"type\": \"scattergeo\"}, {\"geo\": \"geo\", \"hovertemplate\": \"<b>%{hovertext}</b><br><br>city_name=K\\u00f6ln<br>year_participation=2016<br>cumsum=%{marker.size}<br>lat=%{lat}<br>lon=%{lon}<extra></extra>\", \"hovertext\": [\"K\\u00f6ln\"], \"lat\": [50.938361], \"legendgroup\": \"K\\u00f6ln\", \"lon\": [6.959974000000001], \"marker\": {\"color\": \"#00cc96\", \"size\": [16], \"sizemode\": \"area\", \"sizeref\": 0.45}, \"name\": \"K\\u00f6ln\", \"showlegend\": true, \"type\": \"scattergeo\"}, {\"geo\": \"geo\", \"hovertemplate\": \"<b>%{hovertext}</b><br><br>city_name=Osnabr\\u00fcck<br>year_participation=2016<br>cumsum=%{marker.size}<br>lat=%{lat}<br>lon=%{lon}<extra></extra>\", \"hovertext\": [\"Osnabr\\u00fcck\"], \"lat\": [52.266837], \"legendgroup\": \"Osnabr\\u00fcck\", \"lon\": [8.049741000000001], \"marker\": {\"color\": \"#ab63fa\", \"size\": [2], \"sizemode\": \"area\", \"sizeref\": 0.45}, \"name\": \"Osnabr\\u00fcck\", \"showlegend\": true, \"type\": \"scattergeo\"}, {\"geo\": \"geo\", \"hovertemplate\": \"<b>%{hovertext}</b><br><br>city_name=Leipzig<br>year_participation=2016<br>cumsum=%{marker.size}<br>lat=%{lat}<br>lon=%{lon}<extra></extra>\", \"hovertext\": [\"Leipzig\"], \"lat\": [51.3406321], \"legendgroup\": \"Leipzig\", \"lon\": [12.3747329], \"marker\": {\"color\": \"#00cc96\", \"size\": [13], \"sizemode\": \"area\", \"sizeref\": 0.45}, \"name\": \"Leipzig\", \"showlegend\": true, \"type\": \"scattergeo\"}, {\"geo\": \"geo\", \"hovertemplate\": \"<b>%{hovertext}</b><br><br>city_name=Uster<br>year_participation=2016<br>cumsum=%{marker.size}<br>lat=%{lat}<br>lon=%{lon}<extra></extra>\", \"hovertext\": [\"Uster\"], \"lat\": [47.3512065], \"legendgroup\": \"Uster\", \"lon\": [8.7179221], \"marker\": {\"color\": \"#00cc96\", \"size\": [2], \"sizemode\": \"area\", \"sizeref\": 0.45}, \"name\": \"Uster\", \"showlegend\": true, \"type\": \"scattergeo\"}, {\"geo\": \"geo\", \"hovertemplate\": \"<b>%{hovertext}</b><br><br>city_name=Aachen<br>year_participation=2016<br>cumsum=%{marker.size}<br>lat=%{lat}<br>lon=%{lon}<extra></extra>\", \"hovertext\": [\"Aachen\"], \"lat\": [50.776351], \"legendgroup\": \"Aachen\", \"lon\": [6.083862], \"marker\": {\"color\": \"#FFA15A\", \"size\": [1], \"sizemode\": \"area\", \"sizeref\": 0.45}, \"name\": \"Aachen\", \"showlegend\": true, \"type\": \"scattergeo\"}, {\"geo\": \"geo\", \"hovertemplate\": \"<b>%{hovertext}</b><br><br>city_name=La Roche de Rame-Hautes Alpes (Frankreich)<br>year_participation=2016<br>cumsum=%{marker.size}<br>lat=%{lat}<br>lon=%{lon}<extra></extra>\", \"hovertext\": [\"La Roche de Rame-Hautes Alpes (Frankreich)\"], \"lat\": [44.748903799999994], \"legendgroup\": \"La Roche de Rame-Hautes Alpes (Frankreich)\", \"lon\": [6.580288499999999], \"marker\": {\"color\": \"#19d3f3\", \"size\": [1], \"sizemode\": \"area\", \"sizeref\": 0.45}, \"name\": \"La Roche de Rame-Hautes Alpes (Frankreich)\", \"showlegend\": true, \"type\": \"scattergeo\"}, {\"geo\": \"geo\", \"hovertemplate\": \"<b>%{hovertext}</b><br><br>city_name=Tel Aviv<br>year_participation=2016<br>cumsum=%{marker.size}<br>lat=%{lat}<br>lon=%{lon}<extra></extra>\", \"hovertext\": [\"Tel Aviv\"], \"lat\": [32.080480800000004], \"legendgroup\": \"Tel Aviv\", \"lon\": [34.7805274], \"marker\": {\"color\": \"#FF6692\", \"size\": [1], \"sizemode\": \"area\", \"sizeref\": 0.45}, \"name\": \"Tel Aviv\", \"showlegend\": true, \"type\": \"scattergeo\"}], \"name\": \"2016\"}, {\"data\": [{\"geo\": \"geo\", \"hovertemplate\": \"<b>%{hovertext}</b><br><br>city_name=Wien<br>year_participation=2017<br>cumsum=%{marker.size}<br>lat=%{lat}<br>lon=%{lon}<extra></extra>\", \"hovertext\": [\"Wien\"], \"lat\": [48.2083537], \"legendgroup\": \"Wien\", \"lon\": [16.372504199999998], \"marker\": {\"color\": \"#00cc96\", \"size\": [82], \"sizemode\": \"area\", \"sizeref\": 0.45}, \"name\": \"Wien\", \"showlegend\": true, \"type\": \"scattergeo\"}, {\"geo\": \"geo\", \"hovertemplate\": \"<b>%{hovertext}</b><br><br>city_name=M\\u00fcnchen<br>year_participation=2017<br>cumsum=%{marker.size}<br>lat=%{lat}<br>lon=%{lon}<extra></extra>\", \"hovertext\": [\"M\\u00fcnchen\"], \"lat\": [48.1371079], \"legendgroup\": \"M\\u00fcnchen\", \"lon\": [11.575382199999998], \"marker\": {\"color\": \"#B6E880\", \"size\": [52], \"sizemode\": \"area\", \"sizeref\": 0.45}, \"name\": \"M\\u00fcnchen\", \"showlegend\": true, \"type\": \"scattergeo\"}, {\"geo\": \"geo\", \"hovertemplate\": \"<b>%{hovertext}</b><br><br>city_name=Z\\u00fcrich<br>year_participation=2017<br>cumsum=%{marker.size}<br>lat=%{lat}<br>lon=%{lon}<extra></extra>\", \"hovertext\": [\"Z\\u00fcrich\"], \"lat\": [47.3723941], \"legendgroup\": \"Z\\u00fcrich\", \"lon\": [8.5423328], \"marker\": {\"color\": \"#FECB52\", \"size\": [40], \"sizemode\": \"area\", \"sizeref\": 0.45}, \"name\": \"Z\\u00fcrich\", \"showlegend\": true, \"type\": \"scattergeo\"}, {\"geo\": \"geo\", \"hovertemplate\": \"<b>%{hovertext}</b><br><br>city_name=Berlin<br>year_participation=2017<br>cumsum=%{marker.size}<br>lat=%{lat}<br>lon=%{lon}<extra></extra>\", \"hovertext\": [\"Berlin\"], \"lat\": [52.517036499999996], \"legendgroup\": \"Berlin\", \"lon\": [13.388859900000002], \"marker\": {\"color\": \"#EF553B\", \"size\": [174], \"sizemode\": \"area\", \"sizeref\": 0.45}, \"name\": \"Berlin\", \"showlegend\": true, \"type\": \"scattergeo\"}, {\"geo\": \"geo\", \"hovertemplate\": \"<b>%{hovertext}</b><br><br>city_name=Frankfurt/Main<br>year_participation=2017<br>cumsum=%{marker.size}<br>lat=%{lat}<br>lon=%{lon}<extra></extra>\", \"hovertext\": [\"Frankfurt/Main\"], \"lat\": [50.053763700000005], \"legendgroup\": \"Frankfurt/Main\", \"lon\": [8.637085800000001], \"marker\": {\"color\": \"#ab63fa\", \"size\": [33], \"sizemode\": \"area\", \"sizeref\": 0.45}, \"name\": \"Frankfurt/Main\", \"showlegend\": true, \"type\": \"scattergeo\"}, {\"geo\": \"geo\", \"hovertemplate\": \"<b>%{hovertext}</b><br><br>city_name=Graz<br>year_participation=2017<br>cumsum=%{marker.size}<br>lat=%{lat}<br>lon=%{lon}<extra></extra>\", \"hovertext\": [\"Graz\"], \"lat\": [47.070867799999995], \"legendgroup\": \"Graz\", \"lon\": [15.438278599999999], \"marker\": {\"color\": \"#00cc96\", \"size\": [17], \"sizemode\": \"area\", \"sizeref\": 0.45}, \"name\": \"Graz\", \"showlegend\": true, \"type\": \"scattergeo\"}, {\"geo\": \"geo\", \"hovertemplate\": \"<b>%{hovertext}</b><br><br>city_name=Weiler im Allg\\u00e4u<br>year_participation=2017<br>cumsum=%{marker.size}<br>lat=%{lat}<br>lon=%{lon}<extra></extra>\", \"hovertext\": [\"Weiler im Allg\\u00e4u\"], \"lat\": [47.5831505], \"legendgroup\": \"Weiler im Allg\\u00e4u\", \"lon\": [9.9140112], \"marker\": {\"color\": \"#B6E880\", \"size\": [1], \"sizemode\": \"area\", \"sizeref\": 0.45}, \"name\": \"Weiler im Allg\\u00e4u\", \"showlegend\": true, \"type\": \"scattergeo\"}, {\"geo\": \"geo\", \"hovertemplate\": \"<b>%{hovertext}</b><br><br>city_name=Brooklyn<br>year_participation=2017<br>cumsum=%{marker.size}<br>lat=%{lat}<br>lon=%{lon}<extra></extra>\", \"hovertext\": [\"Brooklyn\"], \"lat\": [40.6501038], \"legendgroup\": \"Brooklyn\", \"lon\": [-73.9495823], \"marker\": {\"color\": \"#FF97FF\", \"size\": [1], \"sizemode\": \"area\", \"sizeref\": 0.45}, \"name\": \"Brooklyn\", \"showlegend\": true, \"type\": \"scattergeo\"}, {\"geo\": \"geo\", \"hovertemplate\": \"<b>%{hovertext}</b><br><br>city_name=Madiswil<br>year_participation=2017<br>cumsum=%{marker.size}<br>lat=%{lat}<br>lon=%{lon}<extra></extra>\", \"hovertext\": [\"Madiswil\"], \"lat\": [47.1648367], \"legendgroup\": \"Madiswil\", \"lon\": [7.796815299999999], \"marker\": {\"color\": \"#FECB52\", \"size\": [1], \"sizemode\": \"area\", \"sizeref\": 0.45}, \"name\": \"Madiswil\", \"showlegend\": true, \"type\": \"scattergeo\"}], \"name\": \"2017\"}, {\"data\": [{\"geo\": \"geo\", \"hovertemplate\": \"<b>%{hovertext}</b><br><br>city_name=Wien<br>year_participation=2018<br>cumsum=%{marker.size}<br>lat=%{lat}<br>lon=%{lon}<extra></extra>\", \"hovertext\": [\"Wien\"], \"lat\": [48.2083537], \"legendgroup\": \"Wien\", \"lon\": [16.372504199999998], \"marker\": {\"color\": \"#00cc96\", \"size\": [84], \"sizemode\": \"area\", \"sizeref\": 0.45}, \"name\": \"Wien\", \"showlegend\": true, \"type\": \"scattergeo\"}, {\"geo\": \"geo\", \"hovertemplate\": \"<b>%{hovertext}</b><br><br>city_name=Hamburg<br>year_participation=2018<br>cumsum=%{marker.size}<br>lat=%{lat}<br>lon=%{lon}<extra></extra>\", \"hovertext\": [\"Hamburg\"], \"lat\": [53.543764100000004], \"legendgroup\": \"Hamburg\", \"lon\": [10.009913300000001], \"marker\": {\"color\": \"#FF97FF\", \"size\": [36], \"sizemode\": \"area\", \"sizeref\": 0.45}, \"name\": \"Hamburg\", \"showlegend\": true, \"type\": \"scattergeo\"}, {\"geo\": \"geo\", \"hovertemplate\": \"<b>%{hovertext}</b><br><br>city_name=Z\\u00fcrich<br>year_participation=2018<br>cumsum=%{marker.size}<br>lat=%{lat}<br>lon=%{lon}<extra></extra>\", \"hovertext\": [\"Z\\u00fcrich\"], \"lat\": [47.3723941], \"legendgroup\": \"Z\\u00fcrich\", \"lon\": [8.5423328], \"marker\": {\"color\": \"#FECB52\", \"size\": [41], \"sizemode\": \"area\", \"sizeref\": 0.45}, \"name\": \"Z\\u00fcrich\", \"showlegend\": true, \"type\": \"scattergeo\"}, {\"geo\": \"geo\", \"hovertemplate\": \"<b>%{hovertext}</b><br><br>city_name=Berlin<br>year_participation=2018<br>cumsum=%{marker.size}<br>lat=%{lat}<br>lon=%{lon}<extra></extra>\", \"hovertext\": [\"Berlin\"], \"lat\": [52.517036499999996], \"legendgroup\": \"Berlin\", \"lon\": [13.388859900000002], \"marker\": {\"color\": \"#EF553B\", \"size\": [178], \"sizemode\": \"area\", \"sizeref\": 0.45}, \"name\": \"Berlin\", \"showlegend\": true, \"type\": \"scattergeo\"}, {\"geo\": \"geo\", \"hovertemplate\": \"<b>%{hovertext}</b><br><br>city_name=Frankfurt/Main<br>year_participation=2018<br>cumsum=%{marker.size}<br>lat=%{lat}<br>lon=%{lon}<extra></extra>\", \"hovertext\": [\"Frankfurt/Main\"], \"lat\": [50.053763700000005], \"legendgroup\": \"Frankfurt/Main\", \"lon\": [8.637085800000001], \"marker\": {\"color\": \"#ab63fa\", \"size\": [34], \"sizemode\": \"area\", \"sizeref\": 0.45}, \"name\": \"Frankfurt/Main\", \"showlegend\": true, \"type\": \"scattergeo\"}, {\"geo\": \"geo\", \"hovertemplate\": \"<b>%{hovertext}</b><br><br>city_name=N\\u00fcrnberg<br>year_participation=2018<br>cumsum=%{marker.size}<br>lat=%{lat}<br>lon=%{lon}<extra></extra>\", \"hovertext\": [\"N\\u00fcrnberg\"], \"lat\": [49.453872], \"legendgroup\": \"N\\u00fcrnberg\", \"lon\": [11.077297999999999], \"marker\": {\"color\": \"#19d3f3\", \"size\": [8], \"sizemode\": \"area\", \"sizeref\": 0.45}, \"name\": \"N\\u00fcrnberg\", \"showlegend\": true, \"type\": \"scattergeo\"}, {\"geo\": \"geo\", \"hovertemplate\": \"<b>%{hovertext}</b><br><br>city_name=Luzern<br>year_participation=2018<br>cumsum=%{marker.size}<br>lat=%{lat}<br>lon=%{lon}<extra></extra>\", \"hovertext\": [\"Luzern\"], \"lat\": [47.0505452], \"legendgroup\": \"Luzern\", \"lon\": [8.3054682], \"marker\": {\"color\": \"#636efa\", \"size\": [4], \"sizemode\": \"area\", \"sizeref\": 0.45}, \"name\": \"Luzern\", \"showlegend\": true, \"type\": \"scattergeo\"}, {\"geo\": \"geo\", \"hovertemplate\": \"<b>%{hovertext}</b><br><br>city_name=Brunnen<br>year_participation=2018<br>cumsum=%{marker.size}<br>lat=%{lat}<br>lon=%{lon}<extra></extra>\", \"hovertext\": [\"Brunnen\"], \"lat\": [48.6293223], \"legendgroup\": \"Brunnen\", \"lon\": [11.3097034], \"marker\": {\"color\": \"#636efa\", \"size\": [1], \"sizemode\": \"area\", \"sizeref\": 0.45}, \"name\": \"Brunnen\", \"showlegend\": true, \"type\": \"scattergeo\"}, {\"geo\": \"geo\", \"hovertemplate\": \"<b>%{hovertext}</b><br><br>city_name=Herrliberg<br>year_participation=2018<br>cumsum=%{marker.size}<br>lat=%{lat}<br>lon=%{lon}<extra></extra>\", \"hovertext\": [\"Herrliberg\"], \"lat\": [47.2905574], \"legendgroup\": \"Herrliberg\", \"lon\": [8.6124721], \"marker\": {\"color\": \"#EF553B\", \"size\": [1], \"sizemode\": \"area\", \"sizeref\": 0.45}, \"name\": \"Herrliberg\", \"showlegend\": true, \"type\": \"scattergeo\"}, {\"geo\": \"geo\", \"hovertemplate\": \"<b>%{hovertext}</b><br><br>city_name=Solingen<br>year_participation=2018<br>cumsum=%{marker.size}<br>lat=%{lat}<br>lon=%{lon}<extra></extra>\", \"hovertext\": [\"Solingen\"], \"lat\": [51.1712468], \"legendgroup\": \"Solingen\", \"lon\": [7.0838996], \"marker\": {\"color\": \"#00cc96\", \"size\": [1], \"sizemode\": \"area\", \"sizeref\": 0.45}, \"name\": \"Solingen\", \"showlegend\": true, \"type\": \"scattergeo\"}], \"name\": \"2018\"}, {\"data\": [{\"geo\": \"geo\", \"hovertemplate\": \"<b>%{hovertext}</b><br><br>city_name=Wien<br>year_participation=2019<br>cumsum=%{marker.size}<br>lat=%{lat}<br>lon=%{lon}<extra></extra>\", \"hovertext\": [\"Wien\"], \"lat\": [48.2083537], \"legendgroup\": \"Wien\", \"lon\": [16.372504199999998], \"marker\": {\"color\": \"#00cc96\", \"size\": [87], \"sizemode\": \"area\", \"sizeref\": 0.45}, \"name\": \"Wien\", \"showlegend\": true, \"type\": \"scattergeo\"}, {\"geo\": \"geo\", \"hovertemplate\": \"<b>%{hovertext}</b><br><br>city_name=Hamburg<br>year_participation=2019<br>cumsum=%{marker.size}<br>lat=%{lat}<br>lon=%{lon}<extra></extra>\", \"hovertext\": [\"Hamburg\"], \"lat\": [53.543764100000004], \"legendgroup\": \"Hamburg\", \"lon\": [10.009913300000001], \"marker\": {\"color\": \"#FF97FF\", \"size\": [37], \"sizemode\": \"area\", \"sizeref\": 0.45}, \"name\": \"Hamburg\", \"showlegend\": true, \"type\": \"scattergeo\"}, {\"geo\": \"geo\", \"hovertemplate\": \"<b>%{hovertext}</b><br><br>city_name=Z\\u00fcrich<br>year_participation=2019<br>cumsum=%{marker.size}<br>lat=%{lat}<br>lon=%{lon}<extra></extra>\", \"hovertext\": [\"Z\\u00fcrich\"], \"lat\": [47.3723941], \"legendgroup\": \"Z\\u00fcrich\", \"lon\": [8.5423328], \"marker\": {\"color\": \"#FECB52\", \"size\": [42], \"sizemode\": \"area\", \"sizeref\": 0.45}, \"name\": \"Z\\u00fcrich\", \"showlegend\": true, \"type\": \"scattergeo\"}, {\"geo\": \"geo\", \"hovertemplate\": \"<b>%{hovertext}</b><br><br>city_name=Berlin<br>year_participation=2019<br>cumsum=%{marker.size}<br>lat=%{lat}<br>lon=%{lon}<extra></extra>\", \"hovertext\": [\"Berlin\"], \"lat\": [52.517036499999996], \"legendgroup\": \"Berlin\", \"lon\": [13.388859900000002], \"marker\": {\"color\": \"#EF553B\", \"size\": [180], \"sizemode\": \"area\", \"sizeref\": 0.45}, \"name\": \"Berlin\", \"showlegend\": true, \"type\": \"scattergeo\"}, {\"geo\": \"geo\", \"hovertemplate\": \"<b>%{hovertext}</b><br><br>city_name=Salzburg<br>year_participation=2019<br>cumsum=%{marker.size}<br>lat=%{lat}<br>lon=%{lon}<extra></extra>\", \"hovertext\": [\"Salzburg\"], \"lat\": [47.798134600000004], \"legendgroup\": \"Salzburg\", \"lon\": [13.046480599999999], \"marker\": {\"color\": \"#00cc96\", \"size\": [17], \"sizemode\": \"area\", \"sizeref\": 0.45}, \"name\": \"Salzburg\", \"showlegend\": true, \"type\": \"scattergeo\"}, {\"geo\": \"geo\", \"hovertemplate\": \"<b>%{hovertext}</b><br><br>city_name=Bern<br>year_participation=2019<br>cumsum=%{marker.size}<br>lat=%{lat}<br>lon=%{lon}<extra></extra>\", \"hovertext\": [\"Bern\"], \"lat\": [46.9482713], \"legendgroup\": \"Bern\", \"lon\": [7.4514512], \"marker\": {\"color\": \"#FF6692\", \"size\": [16], \"sizemode\": \"area\", \"sizeref\": 0.45}, \"name\": \"Bern\", \"showlegend\": true, \"type\": \"scattergeo\"}, {\"geo\": \"geo\", \"hovertemplate\": \"<b>%{hovertext}</b><br><br>city_name=K\\u00f6ln<br>year_participation=2019<br>cumsum=%{marker.size}<br>lat=%{lat}<br>lon=%{lon}<extra></extra>\", \"hovertext\": [\"K\\u00f6ln\"], \"lat\": [50.938361], \"legendgroup\": \"K\\u00f6ln\", \"lon\": [6.959974000000001], \"marker\": {\"color\": \"#00cc96\", \"size\": [17], \"sizemode\": \"area\", \"sizeref\": 0.45}, \"name\": \"K\\u00f6ln\", \"showlegend\": true, \"type\": \"scattergeo\"}, {\"geo\": \"geo\", \"hovertemplate\": \"<b>%{hovertext}</b><br><br>city_name=Leipzig<br>year_participation=2019<br>cumsum=%{marker.size}<br>lat=%{lat}<br>lon=%{lon}<extra></extra>\", \"hovertext\": [\"Leipzig\"], \"lat\": [51.3406321], \"legendgroup\": \"Leipzig\", \"lon\": [12.3747329], \"marker\": {\"color\": \"#00cc96\", \"size\": [14], \"sizemode\": \"area\", \"sizeref\": 0.45}, \"name\": \"Leipzig\", \"showlegend\": true, \"type\": \"scattergeo\"}, {\"geo\": \"geo\", \"hovertemplate\": \"<b>%{hovertext}</b><br><br>city_name=Bamberg<br>year_participation=2019<br>cumsum=%{marker.size}<br>lat=%{lat}<br>lon=%{lon}<extra></extra>\", \"hovertext\": [\"Bamberg\"], \"lat\": [49.8916044], \"legendgroup\": \"Bamberg\", \"lon\": [10.8868478], \"marker\": {\"color\": \"#FFA15A\", \"size\": [3], \"sizemode\": \"area\", \"sizeref\": 0.45}, \"name\": \"Bamberg\", \"showlegend\": true, \"type\": \"scattergeo\"}, {\"geo\": \"geo\", \"hovertemplate\": \"<b>%{hovertext}</b><br><br>city_name=Freidorf (Kanton Thurgau)<br>year_participation=2019<br>cumsum=%{marker.size}<br>lat=%{lat}<br>lon=%{lon}<extra></extra>\", \"hovertext\": [\"Freidorf (Kanton Thurgau)\"], \"lat\": [47.48598079999999], \"legendgroup\": \"Freidorf (Kanton Thurgau)\", \"lon\": [9.3987035], \"marker\": {\"color\": \"#ab63fa\", \"size\": [1], \"sizemode\": \"area\", \"sizeref\": 0.45}, \"name\": \"Freidorf (Kanton Thurgau)\", \"showlegend\": true, \"type\": \"scattergeo\"}, {\"geo\": \"geo\", \"hovertemplate\": \"<b>%{hovertext}</b><br><br>city_name=Hannover<br>year_participation=2019<br>cumsum=%{marker.size}<br>lat=%{lat}<br>lon=%{lon}<extra></extra>\", \"hovertext\": [\"Hannover\"], \"lat\": [52.374477899999995], \"legendgroup\": \"Hannover\", \"lon\": [9.738553199999998], \"marker\": {\"color\": \"#FFA15A\", \"size\": [1], \"sizemode\": \"area\", \"sizeref\": 0.45}, \"name\": \"Hannover\", \"showlegend\": true, \"type\": \"scattergeo\"}], \"name\": \"2019\"}, {\"data\": [{\"geo\": \"geo\", \"hovertemplate\": \"<b>%{hovertext}</b><br><br>city_name=Wien<br>year_participation=2020<br>cumsum=%{marker.size}<br>lat=%{lat}<br>lon=%{lon}<extra></extra>\", \"hovertext\": [\"Wien\"], \"lat\": [48.2083537], \"legendgroup\": \"Wien\", \"lon\": [16.372504199999998], \"marker\": {\"color\": \"#00cc96\", \"size\": [90], \"sizemode\": \"area\", \"sizeref\": 0.45}, \"name\": \"Wien\", \"showlegend\": true, \"type\": \"scattergeo\"}, {\"geo\": \"geo\", \"hovertemplate\": \"<b>%{hovertext}</b><br><br>city_name=Hamburg<br>year_participation=2020<br>cumsum=%{marker.size}<br>lat=%{lat}<br>lon=%{lon}<extra></extra>\", \"hovertext\": [\"Hamburg\"], \"lat\": [53.543764100000004], \"legendgroup\": \"Hamburg\", \"lon\": [10.009913300000001], \"marker\": {\"color\": \"#FF97FF\", \"size\": [39], \"sizemode\": \"area\", \"sizeref\": 0.45}, \"name\": \"Hamburg\", \"showlegend\": true, \"type\": \"scattergeo\"}, {\"geo\": \"geo\", \"hovertemplate\": \"<b>%{hovertext}</b><br><br>city_name=Z\\u00fcrich<br>year_participation=2020<br>cumsum=%{marker.size}<br>lat=%{lat}<br>lon=%{lon}<extra></extra>\", \"hovertext\": [\"Z\\u00fcrich\"], \"lat\": [47.3723941], \"legendgroup\": \"Z\\u00fcrich\", \"lon\": [8.5423328], \"marker\": {\"color\": \"#FECB52\", \"size\": [43], \"sizemode\": \"area\", \"sizeref\": 0.45}, \"name\": \"Z\\u00fcrich\", \"showlegend\": true, \"type\": \"scattergeo\"}, {\"geo\": \"geo\", \"hovertemplate\": \"<b>%{hovertext}</b><br><br>city_name=Bern<br>year_participation=2020<br>cumsum=%{marker.size}<br>lat=%{lat}<br>lon=%{lon}<extra></extra>\", \"hovertext\": [\"Bern\"], \"lat\": [46.9482713], \"legendgroup\": \"Bern\", \"lon\": [7.4514512], \"marker\": {\"color\": \"#FF6692\", \"size\": [17], \"sizemode\": \"area\", \"sizeref\": 0.45}, \"name\": \"Bern\", \"showlegend\": true, \"type\": \"scattergeo\"}, {\"geo\": \"geo\", \"hovertemplate\": \"<b>%{hovertext}</b><br><br>city_name=K\\u00f6ln<br>year_participation=2020<br>cumsum=%{marker.size}<br>lat=%{lat}<br>lon=%{lon}<extra></extra>\", \"hovertext\": [\"K\\u00f6ln\"], \"lat\": [50.938361], \"legendgroup\": \"K\\u00f6ln\", \"lon\": [6.959974000000001], \"marker\": {\"color\": \"#00cc96\", \"size\": [18], \"sizemode\": \"area\", \"sizeref\": 0.45}, \"name\": \"K\\u00f6ln\", \"showlegend\": true, \"type\": \"scattergeo\"}, {\"geo\": \"geo\", \"hovertemplate\": \"<b>%{hovertext}</b><br><br>city_name=Innsbruck<br>year_participation=2020<br>cumsum=%{marker.size}<br>lat=%{lat}<br>lon=%{lon}<extra></extra>\", \"hovertext\": [\"Innsbruck\"], \"lat\": [47.265429600000004], \"legendgroup\": \"Innsbruck\", \"lon\": [11.392768499999999], \"marker\": {\"color\": \"#FF6692\", \"size\": [6], \"sizemode\": \"area\", \"sizeref\": 0.45}, \"name\": \"Innsbruck\", \"showlegend\": true, \"type\": \"scattergeo\"}, {\"geo\": \"geo\", \"hovertemplate\": \"<b>%{hovertext}</b><br><br>city_name=Leipzig<br>year_participation=2020<br>cumsum=%{marker.size}<br>lat=%{lat}<br>lon=%{lon}<extra></extra>\", \"hovertext\": [\"Leipzig\"], \"lat\": [51.3406321], \"legendgroup\": \"Leipzig\", \"lon\": [12.3747329], \"marker\": {\"color\": \"#00cc96\", \"size\": [15], \"sizemode\": \"area\", \"sizeref\": 0.45}, \"name\": \"Leipzig\", \"showlegend\": true, \"type\": \"scattergeo\"}, {\"geo\": \"geo\", \"hovertemplate\": \"<b>%{hovertext}</b><br><br>city_name=Biel/Bienne<br>year_participation=2020<br>cumsum=%{marker.size}<br>lat=%{lat}<br>lon=%{lon}<extra></extra>\", \"hovertext\": [\"Biel/Bienne\"], \"lat\": [47.140207700000005], \"legendgroup\": \"Biel/Bienne\", \"lon\": [7.243902900000001], \"marker\": {\"color\": \"#FECB52\", \"size\": [3], \"sizemode\": \"area\", \"sizeref\": 0.45}, \"name\": \"Biel/Bienne\", \"showlegend\": true, \"type\": \"scattergeo\"}, {\"geo\": \"geo\", \"hovertemplate\": \"<b>%{hovertext}</b><br><br>city_name=Braunschweig<br>year_participation=2020<br>cumsum=%{marker.size}<br>lat=%{lat}<br>lon=%{lon}<extra></extra>\", \"hovertext\": [\"Braunschweig\"], \"lat\": [52.26465770000001], \"legendgroup\": \"Braunschweig\", \"lon\": [10.523606599999999], \"marker\": {\"color\": \"#19d3f3\", \"size\": [1], \"sizemode\": \"area\", \"sizeref\": 0.45}, \"name\": \"Braunschweig\", \"showlegend\": true, \"type\": \"scattergeo\"}, {\"geo\": \"geo\", \"hovertemplate\": \"<b>%{hovertext}</b><br><br>city_name=Neu Meteln<br>year_participation=2020<br>cumsum=%{marker.size}<br>lat=%{lat}<br>lon=%{lon}<extra></extra>\", \"hovertext\": [\"Neu Meteln\"], \"lat\": [53.763130000000004], \"legendgroup\": \"Neu Meteln\", \"lon\": [11.3609826], \"marker\": {\"color\": \"#FF6692\", \"size\": [1], \"sizemode\": \"area\", \"sizeref\": 0.45}, \"name\": \"Neu Meteln\", \"showlegend\": true, \"type\": \"scattergeo\"}, {\"geo\": \"geo\", \"hovertemplate\": \"<b>%{hovertext}</b><br><br>city_name=Stra\\u00dfengel<br>year_participation=2020<br>cumsum=%{marker.size}<br>lat=%{lat}<br>lon=%{lon}<extra></extra>\", \"hovertext\": [\"Stra\\u00dfengel\"], \"lat\": [47.1139708], \"legendgroup\": \"Stra\\u00dfengel\", \"lon\": [15.336875599999999], \"marker\": {\"color\": \"#B6E880\", \"size\": [1], \"sizemode\": \"area\", \"sizeref\": 0.45}, \"name\": \"Stra\\u00dfengel\", \"showlegend\": true, \"type\": \"scattergeo\"}], \"name\": \"2020\"}]);\n",
       "                        }).then(function(){\n",
       "                            \n",
       "var gd = document.getElementById('6eec07f7-2ca3-4149-b1e8-c58547785d82');\n",
       "var x = new MutationObserver(function (mutations, observer) {{\n",
       "        var display = window.getComputedStyle(gd).display;\n",
       "        if (!display || display === 'none') {{\n",
       "            console.log([gd, 'removed!']);\n",
       "            Plotly.purge(gd);\n",
       "            observer.disconnect();\n",
       "        }}\n",
       "}});\n",
       "\n",
       "// Listen for the removal of the full notebook cells\n",
       "var notebookContainer = gd.closest('#notebook-container');\n",
       "if (notebookContainer) {{\n",
       "    x.observe(notebookContainer, {childList: true});\n",
       "}}\n",
       "\n",
       "// Listen for the clearing of the current output cell\n",
       "var outputEl = gd.closest('.output');\n",
       "if (outputEl) {{\n",
       "    x.observe(outputEl, {childList: true});\n",
       "}}\n",
       "\n",
       "                        })\n",
       "                };\n",
       "                });\n",
       "            </script>\n",
       "        </div>"
      ]
     },
     "metadata": {},
     "output_type": "display_data"
    }
   ],
   "source": [
    "import plotly.express as px\n",
    "\n",
    "fig = px.scatter_geo(df4, lat=\"lat\", lon=\"lon\", color=\"city_name\",\n",
    "                     hover_name=\"city_name\", size=\"cumsum\",\n",
    "                     animation_frame=\"year_participation\",\n",
    "                     projection=\"natural earth\")\n",
    "fig.show()\n",
    "\n"
   ]
  },
  {
   "cell_type": "code",
   "execution_count": null,
   "metadata": {},
   "outputs": [],
   "source": []
  }
 ],
 "metadata": {
  "kernelspec": {
   "display_name": "Python 3",
   "language": "python",
   "name": "python3"
  },
  "language_info": {
   "codemirror_mode": {
    "name": "ipython",
    "version": 3
   },
   "file_extension": ".py",
   "mimetype": "text/x-python",
   "name": "python",
   "nbconvert_exporter": "python",
   "pygments_lexer": "ipython3",
   "version": "3.8.3"
  }
 },
 "nbformat": 4,
 "nbformat_minor": 4
}
