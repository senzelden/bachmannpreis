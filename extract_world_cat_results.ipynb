{
 "cells": [
  {
   "cell_type": "code",
   "execution_count": 15,
   "metadata": {},
   "outputs": [],
   "source": [
    "import requests\n",
    "from bs4 import BeautifulSoup as soup"
   ]
  },
  {
   "cell_type": "code",
   "execution_count": 11,
   "metadata": {},
   "outputs": [],
   "source": [
    "headers = {'User-Agent': 'Mozilla/5.0 (Macintosh; Intel Mac OS X 10_10_1) AppleWebKit/537.36 (KHTML, like Gecko) Chrome/39.0.2171.95 Safari/537.36'}\n",
    "\n",
    "url = \"http://www.bdsl-online.de.006b9e7c0105.erf.sbb.spk-berlin.de/BDSL-DB/suche/kapitel_vollsuche.xml?DD1=4&SF1=Sasa+Stanisic&Sprache=de&Skript=ergebnis&modus=1&step=1&Complexity=0&contenttype=text%2Fhtml&like=1&vid=692F15B6-F42C-4ECE-8C80-A632A24C613D&DD2=5&DD3=4&DD4=3&JV=1985&JB=2020&PT=0&S=3&A=10&x=0&y=0\"\n",
    "url_mla = \"http://web.b.ebscohost.com.0066637c010b.erf.sbb.spk-berlin.de/ehost/resultsadvanced?vid=2&sid=b4a7559c-3b6d-40b4-9ac2-3df689b60499%40sessionmgr103&bquery=SA+Rainald+Goetz&bdata=JmRiPW16aCZsYW5nPWRlJnR5cGU9MSZzZWFyY2hNb2RlPUFuZCZzaXRlPWVob3N0LWxpdmU%3d\"\n",
    "url_google = \"https://scholar.google.com/scholar?hl=de&as_sdt=0%2C5&q=Rainald+Goetz&btnG=\"\n",
    "url_worldcat = \"https://www.worldcat.org/search?q=su%3ARainald+Goetz&qt=advanced&dblist=638\"\n",
    "response = requests.get(url_worldcat, headers=headers)"
   ]
  },
  {
   "cell_type": "code",
   "execution_count": 12,
   "metadata": {},
   "outputs": [
    {
     "data": {
      "text/plain": [
       "<Response [200]>"
      ]
     },
     "execution_count": 12,
     "metadata": {},
     "output_type": "execute_result"
    }
   ],
   "source": [
    "response"
   ]
  },
  {
   "cell_type": "code",
   "execution_count": 16,
   "metadata": {},
   "outputs": [],
   "source": [
    "page = soup(response.text, \"html.parser\")"
   ]
  },
  {
   "cell_type": "code",
   "execution_count": null,
   "metadata": {},
   "outputs": [],
   "source": [
    "page."
   ]
  },
  {
   "cell_type": "code",
   "execution_count": 59,
   "metadata": {},
   "outputs": [
    {
     "name": "stdout",
     "output_type": "stream",
     "text": [
      "99\n"
     ]
    }
   ],
   "source": [
    "results = []\n",
    "for i in page.find_all(\"div\"):\n",
    "    for row in i.find_all(attrs={\"class\": \"resultsinfo\"}):\n",
    "        for result in row.find(\"td\"):\n",
    "            results.append(result.next.next.next.next.next)\n",
    "print(results[0])"
   ]
  },
  {
   "cell_type": "code",
   "execution_count": null,
   "metadata": {},
   "outputs": [],
   "source": []
  }
 ],
 "metadata": {
  "kernelspec": {
   "display_name": "Python 3",
   "language": "python",
   "name": "python3"
  },
  "language_info": {
   "codemirror_mode": {
    "name": "ipython",
    "version": 3
   },
   "file_extension": ".py",
   "mimetype": "text/x-python",
   "name": "python",
   "nbconvert_exporter": "python",
   "pygments_lexer": "ipython3",
   "version": "3.8.3"
  }
 },
 "nbformat": 4,
 "nbformat_minor": 4
}
